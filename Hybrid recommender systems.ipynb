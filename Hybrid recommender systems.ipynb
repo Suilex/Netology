{
  "nbformat": 4,
  "nbformat_minor": 0,
  "metadata": {
    "colab": {
      "provenance": []
    },
    "kernelspec": {
      "name": "python3",
      "display_name": "Python 3"
    },
    "language_info": {
      "name": "python"
    }
  },
  "cells": [
    {
      "cell_type": "markdown",
      "source": [
        "### Hybrid recommender systems"
      ],
      "metadata": {
        "id": "osw8aDSiBMqE"
      }
    },
    {
      "cell_type": "markdown",
      "source": [
        "#### Получаем данные"
      ],
      "metadata": {
        "id": "AFSuKe22BGQM"
      }
    },
    {
      "cell_type": "code",
      "execution_count": 1,
      "metadata": {
        "id": "eNqRtkZRiLyd"
      },
      "outputs": [],
      "source": [
        "import matplotlib.pyplot as plt\n",
        "\n",
        "from tqdm import tqdm_notebook\n",
        "\n",
        "from sklearn.feature_extraction.text import TfidfTransformer, CountVectorizer\n",
        "from sklearn.neighbors import NearestNeighbors\n",
        "\n",
        "import pandas as pd\n",
        "import numpy as np"
      ]
    },
    {
      "cell_type": "code",
      "source": [
        "!pip install surprise"
      ],
      "metadata": {
        "colab": {
          "base_uri": "https://localhost:8080/"
        },
        "id": "4LBSQcgXijKy",
        "outputId": "ddd4d3ce-a3c2-4b05-805d-b093bc9c63c4"
      },
      "execution_count": 2,
      "outputs": [
        {
          "output_type": "stream",
          "name": "stdout",
          "text": [
            "Looking in indexes: https://pypi.org/simple, https://us-python.pkg.dev/colab-wheels/public/simple/\n",
            "Requirement already satisfied: surprise in /usr/local/lib/python3.10/dist-packages (0.1)\n",
            "Requirement already satisfied: scikit-surprise in /usr/local/lib/python3.10/dist-packages (from surprise) (1.1.3)\n",
            "Requirement already satisfied: joblib>=1.0.0 in /usr/local/lib/python3.10/dist-packages (from scikit-surprise->surprise) (1.2.0)\n",
            "Requirement already satisfied: numpy>=1.17.3 in /usr/local/lib/python3.10/dist-packages (from scikit-surprise->surprise) (1.22.4)\n",
            "Requirement already satisfied: scipy>=1.3.2 in /usr/local/lib/python3.10/dist-packages (from scikit-surprise->surprise) (1.10.1)\n"
          ]
        }
      ]
    },
    {
      "cell_type": "code",
      "source": [
        "from surprise import SVD, BaselineOnly, NMF, SlopeOne, KNNWithMeans, NormalPredictor, KNNBaseline, KNNWithZScore, KNNBasic\n",
        "from surprise import Dataset\n",
        "from surprise import accuracy\n",
        "from surprise import Reader\n",
        "from surprise.model_selection import train_test_split, KFold"
      ],
      "metadata": {
        "id": "7V7BX9PdijM5"
      },
      "execution_count": 3,
      "outputs": []
    },
    {
      "cell_type": "code",
      "source": [
        "!wget 'https://drive.google.com/uc?id=1m0rwReR09achL0xTM6QPoN4tykz5bOMx' -O MovieLens.zip\n",
        "!unzip MovieLens.zip"
      ],
      "metadata": {
        "colab": {
          "base_uri": "https://localhost:8080/"
        },
        "id": "XD9Vs65JieZh",
        "outputId": "2c4ac7e6-0584-465d-a263-a3e5e943a5ec"
      },
      "execution_count": 4,
      "outputs": [
        {
          "output_type": "stream",
          "name": "stdout",
          "text": [
            "--2023-05-28 20:50:04--  https://drive.google.com/uc?id=1m0rwReR09achL0xTM6QPoN4tykz5bOMx\n",
            "Resolving drive.google.com (drive.google.com)... 173.194.216.139, 173.194.216.138, 173.194.216.100, ...\n",
            "Connecting to drive.google.com (drive.google.com)|173.194.216.139|:443... connected.\n",
            "HTTP request sent, awaiting response... 303 See Other\n",
            "Location: https://doc-0g-84-docs.googleusercontent.com/docs/securesc/ha0ro937gcuc7l7deffksulhg5h7mbp1/elc7j0rqmbv9n5cmv6r8qii4m7qqfntd/1685307000000/02611596255248067438/*/1m0rwReR09achL0xTM6QPoN4tykz5bOMx?uuid=aaa6b78a-c189-4eae-92f1-f7c74a0e1f2d [following]\n",
            "Warning: wildcards not supported in HTTP.\n",
            "--2023-05-28 20:50:05--  https://doc-0g-84-docs.googleusercontent.com/docs/securesc/ha0ro937gcuc7l7deffksulhg5h7mbp1/elc7j0rqmbv9n5cmv6r8qii4m7qqfntd/1685307000000/02611596255248067438/*/1m0rwReR09achL0xTM6QPoN4tykz5bOMx?uuid=aaa6b78a-c189-4eae-92f1-f7c74a0e1f2d\n",
            "Resolving doc-0g-84-docs.googleusercontent.com (doc-0g-84-docs.googleusercontent.com)... 142.250.97.132, 2607:f8b0:400c:c18::84\n",
            "Connecting to doc-0g-84-docs.googleusercontent.com (doc-0g-84-docs.googleusercontent.com)|142.250.97.132|:443... connected.\n",
            "HTTP request sent, awaiting response... 200 OK\n",
            "Length: 847695 (828K) [application/zip]\n",
            "Saving to: ‘MovieLens.zip’\n",
            "\n",
            "MovieLens.zip       100%[===================>] 827.83K  --.-KB/s    in 0.04s   \n",
            "\n",
            "2023-05-28 20:50:05 (22.3 MB/s) - ‘MovieLens.zip’ saved [847695/847695]\n",
            "\n",
            "Archive:  MovieLens.zip\n",
            "replace links.csv? [y]es, [n]o, [A]ll, [N]one, [r]ename: "
          ]
        }
      ]
    },
    {
      "cell_type": "code",
      "source": [
        "movies = pd.read_csv('movies.csv')\n",
        "ratings = pd.read_csv('ratings.csv')"
      ],
      "metadata": {
        "id": "2qwwAQpBiQPa"
      },
      "execution_count": 5,
      "outputs": []
    },
    {
      "cell_type": "code",
      "source": [
        "movies_with_ratings = movies.join(ratings.set_index('movieId'), on='movieId').reset_index(drop=True)\n",
        "movies_with_ratings.dropna(inplace=True)"
      ],
      "metadata": {
        "id": "oe4OdfC5iQRp"
      },
      "execution_count": 6,
      "outputs": []
    },
    {
      "cell_type": "code",
      "source": [
        "movies_with_ratings"
      ],
      "metadata": {
        "colab": {
          "base_uri": "https://localhost:8080/",
          "height": 424
        },
        "id": "bMg6M8ZTiQT5",
        "outputId": "7c7d2bd2-4d7c-4454-886f-559bb9fb3490"
      },
      "execution_count": 7,
      "outputs": [
        {
          "output_type": "execute_result",
          "data": {
            "text/plain": [
              "        movieId                                      title  \\\n",
              "0             1                           Toy Story (1995)   \n",
              "1             1                           Toy Story (1995)   \n",
              "2             1                           Toy Story (1995)   \n",
              "3             1                           Toy Story (1995)   \n",
              "4             1                           Toy Story (1995)   \n",
              "...         ...                                        ...   \n",
              "100849   193581  Black Butler: Book of the Atlantic (2017)   \n",
              "100850   193583               No Game No Life: Zero (2017)   \n",
              "100851   193585                               Flint (2017)   \n",
              "100852   193587        Bungo Stray Dogs: Dead Apple (2018)   \n",
              "100853   193609        Andrew Dice Clay: Dice Rules (1991)   \n",
              "\n",
              "                                             genres  userId  rating  \\\n",
              "0       Adventure|Animation|Children|Comedy|Fantasy     1.0     4.0   \n",
              "1       Adventure|Animation|Children|Comedy|Fantasy     5.0     4.0   \n",
              "2       Adventure|Animation|Children|Comedy|Fantasy     7.0     4.5   \n",
              "3       Adventure|Animation|Children|Comedy|Fantasy    15.0     2.5   \n",
              "4       Adventure|Animation|Children|Comedy|Fantasy    17.0     4.5   \n",
              "...                                             ...     ...     ...   \n",
              "100849              Action|Animation|Comedy|Fantasy   184.0     4.0   \n",
              "100850                     Animation|Comedy|Fantasy   184.0     3.5   \n",
              "100851                                        Drama   184.0     3.5   \n",
              "100852                             Action|Animation   184.0     3.5   \n",
              "100853                                       Comedy   331.0     4.0   \n",
              "\n",
              "           timestamp  \n",
              "0       9.649827e+08  \n",
              "1       8.474350e+08  \n",
              "2       1.106636e+09  \n",
              "3       1.510578e+09  \n",
              "4       1.305696e+09  \n",
              "...              ...  \n",
              "100849  1.537109e+09  \n",
              "100850  1.537110e+09  \n",
              "100851  1.537110e+09  \n",
              "100852  1.537110e+09  \n",
              "100853  1.537158e+09  \n",
              "\n",
              "[100836 rows x 6 columns]"
            ],
            "text/html": [
              "\n",
              "  <div id=\"df-71d370be-bf32-4bf3-8e97-3be08ee43495\">\n",
              "    <div class=\"colab-df-container\">\n",
              "      <div>\n",
              "<style scoped>\n",
              "    .dataframe tbody tr th:only-of-type {\n",
              "        vertical-align: middle;\n",
              "    }\n",
              "\n",
              "    .dataframe tbody tr th {\n",
              "        vertical-align: top;\n",
              "    }\n",
              "\n",
              "    .dataframe thead th {\n",
              "        text-align: right;\n",
              "    }\n",
              "</style>\n",
              "<table border=\"1\" class=\"dataframe\">\n",
              "  <thead>\n",
              "    <tr style=\"text-align: right;\">\n",
              "      <th></th>\n",
              "      <th>movieId</th>\n",
              "      <th>title</th>\n",
              "      <th>genres</th>\n",
              "      <th>userId</th>\n",
              "      <th>rating</th>\n",
              "      <th>timestamp</th>\n",
              "    </tr>\n",
              "  </thead>\n",
              "  <tbody>\n",
              "    <tr>\n",
              "      <th>0</th>\n",
              "      <td>1</td>\n",
              "      <td>Toy Story (1995)</td>\n",
              "      <td>Adventure|Animation|Children|Comedy|Fantasy</td>\n",
              "      <td>1.0</td>\n",
              "      <td>4.0</td>\n",
              "      <td>9.649827e+08</td>\n",
              "    </tr>\n",
              "    <tr>\n",
              "      <th>1</th>\n",
              "      <td>1</td>\n",
              "      <td>Toy Story (1995)</td>\n",
              "      <td>Adventure|Animation|Children|Comedy|Fantasy</td>\n",
              "      <td>5.0</td>\n",
              "      <td>4.0</td>\n",
              "      <td>8.474350e+08</td>\n",
              "    </tr>\n",
              "    <tr>\n",
              "      <th>2</th>\n",
              "      <td>1</td>\n",
              "      <td>Toy Story (1995)</td>\n",
              "      <td>Adventure|Animation|Children|Comedy|Fantasy</td>\n",
              "      <td>7.0</td>\n",
              "      <td>4.5</td>\n",
              "      <td>1.106636e+09</td>\n",
              "    </tr>\n",
              "    <tr>\n",
              "      <th>3</th>\n",
              "      <td>1</td>\n",
              "      <td>Toy Story (1995)</td>\n",
              "      <td>Adventure|Animation|Children|Comedy|Fantasy</td>\n",
              "      <td>15.0</td>\n",
              "      <td>2.5</td>\n",
              "      <td>1.510578e+09</td>\n",
              "    </tr>\n",
              "    <tr>\n",
              "      <th>4</th>\n",
              "      <td>1</td>\n",
              "      <td>Toy Story (1995)</td>\n",
              "      <td>Adventure|Animation|Children|Comedy|Fantasy</td>\n",
              "      <td>17.0</td>\n",
              "      <td>4.5</td>\n",
              "      <td>1.305696e+09</td>\n",
              "    </tr>\n",
              "    <tr>\n",
              "      <th>...</th>\n",
              "      <td>...</td>\n",
              "      <td>...</td>\n",
              "      <td>...</td>\n",
              "      <td>...</td>\n",
              "      <td>...</td>\n",
              "      <td>...</td>\n",
              "    </tr>\n",
              "    <tr>\n",
              "      <th>100849</th>\n",
              "      <td>193581</td>\n",
              "      <td>Black Butler: Book of the Atlantic (2017)</td>\n",
              "      <td>Action|Animation|Comedy|Fantasy</td>\n",
              "      <td>184.0</td>\n",
              "      <td>4.0</td>\n",
              "      <td>1.537109e+09</td>\n",
              "    </tr>\n",
              "    <tr>\n",
              "      <th>100850</th>\n",
              "      <td>193583</td>\n",
              "      <td>No Game No Life: Zero (2017)</td>\n",
              "      <td>Animation|Comedy|Fantasy</td>\n",
              "      <td>184.0</td>\n",
              "      <td>3.5</td>\n",
              "      <td>1.537110e+09</td>\n",
              "    </tr>\n",
              "    <tr>\n",
              "      <th>100851</th>\n",
              "      <td>193585</td>\n",
              "      <td>Flint (2017)</td>\n",
              "      <td>Drama</td>\n",
              "      <td>184.0</td>\n",
              "      <td>3.5</td>\n",
              "      <td>1.537110e+09</td>\n",
              "    </tr>\n",
              "    <tr>\n",
              "      <th>100852</th>\n",
              "      <td>193587</td>\n",
              "      <td>Bungo Stray Dogs: Dead Apple (2018)</td>\n",
              "      <td>Action|Animation</td>\n",
              "      <td>184.0</td>\n",
              "      <td>3.5</td>\n",
              "      <td>1.537110e+09</td>\n",
              "    </tr>\n",
              "    <tr>\n",
              "      <th>100853</th>\n",
              "      <td>193609</td>\n",
              "      <td>Andrew Dice Clay: Dice Rules (1991)</td>\n",
              "      <td>Comedy</td>\n",
              "      <td>331.0</td>\n",
              "      <td>4.0</td>\n",
              "      <td>1.537158e+09</td>\n",
              "    </tr>\n",
              "  </tbody>\n",
              "</table>\n",
              "<p>100836 rows × 6 columns</p>\n",
              "</div>\n",
              "      <button class=\"colab-df-convert\" onclick=\"convertToInteractive('df-71d370be-bf32-4bf3-8e97-3be08ee43495')\"\n",
              "              title=\"Convert this dataframe to an interactive table.\"\n",
              "              style=\"display:none;\">\n",
              "        \n",
              "  <svg xmlns=\"http://www.w3.org/2000/svg\" height=\"24px\"viewBox=\"0 0 24 24\"\n",
              "       width=\"24px\">\n",
              "    <path d=\"M0 0h24v24H0V0z\" fill=\"none\"/>\n",
              "    <path d=\"M18.56 5.44l.94 2.06.94-2.06 2.06-.94-2.06-.94-.94-2.06-.94 2.06-2.06.94zm-11 1L8.5 8.5l.94-2.06 2.06-.94-2.06-.94L8.5 2.5l-.94 2.06-2.06.94zm10 10l.94 2.06.94-2.06 2.06-.94-2.06-.94-.94-2.06-.94 2.06-2.06.94z\"/><path d=\"M17.41 7.96l-1.37-1.37c-.4-.4-.92-.59-1.43-.59-.52 0-1.04.2-1.43.59L10.3 9.45l-7.72 7.72c-.78.78-.78 2.05 0 2.83L4 21.41c.39.39.9.59 1.41.59.51 0 1.02-.2 1.41-.59l7.78-7.78 2.81-2.81c.8-.78.8-2.07 0-2.86zM5.41 20L4 18.59l7.72-7.72 1.47 1.35L5.41 20z\"/>\n",
              "  </svg>\n",
              "      </button>\n",
              "      \n",
              "  <style>\n",
              "    .colab-df-container {\n",
              "      display:flex;\n",
              "      flex-wrap:wrap;\n",
              "      gap: 12px;\n",
              "    }\n",
              "\n",
              "    .colab-df-convert {\n",
              "      background-color: #E8F0FE;\n",
              "      border: none;\n",
              "      border-radius: 50%;\n",
              "      cursor: pointer;\n",
              "      display: none;\n",
              "      fill: #1967D2;\n",
              "      height: 32px;\n",
              "      padding: 0 0 0 0;\n",
              "      width: 32px;\n",
              "    }\n",
              "\n",
              "    .colab-df-convert:hover {\n",
              "      background-color: #E2EBFA;\n",
              "      box-shadow: 0px 1px 2px rgba(60, 64, 67, 0.3), 0px 1px 3px 1px rgba(60, 64, 67, 0.15);\n",
              "      fill: #174EA6;\n",
              "    }\n",
              "\n",
              "    [theme=dark] .colab-df-convert {\n",
              "      background-color: #3B4455;\n",
              "      fill: #D2E3FC;\n",
              "    }\n",
              "\n",
              "    [theme=dark] .colab-df-convert:hover {\n",
              "      background-color: #434B5C;\n",
              "      box-shadow: 0px 1px 3px 1px rgba(0, 0, 0, 0.15);\n",
              "      filter: drop-shadow(0px 1px 2px rgba(0, 0, 0, 0.3));\n",
              "      fill: #FFFFFF;\n",
              "    }\n",
              "  </style>\n",
              "\n",
              "      <script>\n",
              "        const buttonEl =\n",
              "          document.querySelector('#df-71d370be-bf32-4bf3-8e97-3be08ee43495 button.colab-df-convert');\n",
              "        buttonEl.style.display =\n",
              "          google.colab.kernel.accessAllowed ? 'block' : 'none';\n",
              "\n",
              "        async function convertToInteractive(key) {\n",
              "          const element = document.querySelector('#df-71d370be-bf32-4bf3-8e97-3be08ee43495');\n",
              "          const dataTable =\n",
              "            await google.colab.kernel.invokeFunction('convertToInteractive',\n",
              "                                                     [key], {});\n",
              "          if (!dataTable) return;\n",
              "\n",
              "          const docLinkHtml = 'Like what you see? Visit the ' +\n",
              "            '<a target=\"_blank\" href=https://colab.research.google.com/notebooks/data_table.ipynb>data table notebook</a>'\n",
              "            + ' to learn more about interactive tables.';\n",
              "          element.innerHTML = '';\n",
              "          dataTable['output_type'] = 'display_data';\n",
              "          await google.colab.output.renderOutput(dataTable, element);\n",
              "          const docLink = document.createElement('div');\n",
              "          docLink.innerHTML = docLinkHtml;\n",
              "          element.appendChild(docLink);\n",
              "        }\n",
              "      </script>\n",
              "    </div>\n",
              "  </div>\n",
              "  "
            ]
          },
          "metadata": {},
          "execution_count": 7
        }
      ]
    },
    {
      "cell_type": "code",
      "source": [
        "dataset = pd.DataFrame({\n",
        "    'uid': movies_with_ratings.userId,\n",
        "    'iid': movies_with_ratings.title,\n",
        "    'rating': movies_with_ratings.rating\n",
        "})"
      ],
      "metadata": {
        "id": "mRtqvJtNsp_e"
      },
      "execution_count": 8,
      "outputs": []
    },
    {
      "cell_type": "code",
      "source": [
        "reader = Reader(rating_scale=(0.5, 5.0))\n",
        "data = Dataset.load_from_df(dataset, reader)"
      ],
      "metadata": {
        "id": "6BtSwmmKiQWZ"
      },
      "execution_count": 9,
      "outputs": []
    },
    {
      "cell_type": "code",
      "source": [
        "trainset, testset = train_test_split(data, test_size=.2, random_state=42)"
      ],
      "metadata": {
        "id": "JHSw4a01iQZB"
      },
      "execution_count": 10,
      "outputs": []
    },
    {
      "cell_type": "markdown",
      "source": [
        "#### Подготавливаем разные алгоритмы"
      ],
      "metadata": {
        "id": "TsJ8Ycl8BUG3"
      }
    },
    {
      "cell_type": "code",
      "source": [
        "SVD_algo = SVD(n_epochs=50, reg_all=0.05)\n",
        "SVD_algo.fit(trainset)\n",
        "test_pred = SVD_algo.test(testset)\n",
        "accuracy.rmse(test_pred, verbose=True)"
      ],
      "metadata": {
        "colab": {
          "base_uri": "https://localhost:8080/"
        },
        "id": "PYi6NDe0ts-M",
        "outputId": "56dc37d4-14d8-4b79-dc8b-f21fcf39f018"
      },
      "execution_count": 11,
      "outputs": [
        {
          "output_type": "stream",
          "name": "stdout",
          "text": [
            "RMSE: 0.8599\n"
          ]
        },
        {
          "output_type": "execute_result",
          "data": {
            "text/plain": [
              "0.8598987521246207"
            ]
          },
          "metadata": {},
          "execution_count": 11
        }
      ]
    },
    {
      "cell_type": "code",
      "source": [
        "BaselineOnly_algo = BaselineOnly(bsl_options = {\"method\": \"als\", \"n_epochs\": 100, \"reg_u\": 12, \"reg_i\": 2})\n",
        "BaselineOnly_algo.fit(trainset)\n",
        "test_pred = BaselineOnly_algo.test(testset)\n",
        "accuracy.rmse(test_pred, verbose=True)"
      ],
      "metadata": {
        "colab": {
          "base_uri": "https://localhost:8080/"
        },
        "id": "TvPNnnbNiQbZ",
        "outputId": "a0f787c8-82f6-4f3c-a86b-c90ab2eda16c"
      },
      "execution_count": 12,
      "outputs": [
        {
          "output_type": "stream",
          "name": "stdout",
          "text": [
            "Estimating biases using als...\n",
            "RMSE: 0.8618\n"
          ]
        },
        {
          "output_type": "execute_result",
          "data": {
            "text/plain": [
              "0.861799679683496"
            ]
          },
          "metadata": {},
          "execution_count": 12
        }
      ]
    },
    {
      "cell_type": "code",
      "source": [
        "KNNBaseline_algo = KNNBaseline(min_k=10, bsl_options = {\"method\": \"als\", \"n_epochs\": 50, \"reg_u\": 12, \"reg_i\": 2})\n",
        "KNNBaseline_algo.fit(trainset)\n",
        "test_pred = KNNBaseline_algo.test(testset)\n",
        "accuracy.rmse(test_pred, verbose=True)"
      ],
      "metadata": {
        "colab": {
          "base_uri": "https://localhost:8080/"
        },
        "id": "6ajqnzw8syqd",
        "outputId": "4c8dcf57-79d4-4dbf-8f7b-9df0904e84c2"
      },
      "execution_count": 13,
      "outputs": [
        {
          "output_type": "stream",
          "name": "stdout",
          "text": [
            "Estimating biases using als...\n",
            "Computing the msd similarity matrix...\n",
            "Done computing similarity matrix.\n",
            "RMSE: 0.8568\n"
          ]
        },
        {
          "output_type": "execute_result",
          "data": {
            "text/plain": [
              "0.8567623802139614"
            ]
          },
          "metadata": {},
          "execution_count": 13
        }
      ]
    },
    {
      "cell_type": "code",
      "source": [
        "SlopeOne_algo = SlopeOne()\n",
        "SlopeOne_algo.fit(trainset)\n",
        "test_pred = SlopeOne_algo.test(testset)\n",
        "accuracy.rmse(test_pred, verbose=True)"
      ],
      "metadata": {
        "colab": {
          "base_uri": "https://localhost:8080/"
        },
        "id": "RjqH8lXCubHu",
        "outputId": "0b54cfa0-f5ed-4025-ccf5-817fa238ccc0"
      },
      "execution_count": 14,
      "outputs": [
        {
          "output_type": "stream",
          "name": "stdout",
          "text": [
            "RMSE: 0.8946\n"
          ]
        },
        {
          "output_type": "execute_result",
          "data": {
            "text/plain": [
              "0.8945783911352443"
            ]
          },
          "metadata": {},
          "execution_count": 14
        }
      ]
    },
    {
      "cell_type": "markdown",
      "source": [
        "#### Комбинирование гибридная рекомендательная система"
      ],
      "metadata": {
        "id": "t9xwalziHdDJ"
      }
    },
    {
      "cell_type": "code",
      "source": [
        "# Комбинирование\n",
        "def recommend_for_user(user_id, first_algo, second_algo):\n",
        "  user_non_watched_movies = movies_with_ratings[movies_with_ratings.userId != user_id]\n",
        "  dataset = pd.DataFrame({\n",
        "    'uid': user_non_watched_movies.userId,\n",
        "    'iid': user_non_watched_movies.title,\n",
        "    'rating': user_non_watched_movies.rating\n",
        "  })\n",
        "  data = Dataset.load_from_df(dataset, Reader(rating_scale=(0.5, 5.0))).build_full_trainset()\n",
        "  data = [(x.uid, x.iid, x.rating) for x in list(dataset.itertuples(index=False))]\n",
        "  first_algo_scores, second_algo_scores = [], []\n",
        "\n",
        "  first_algo_predictions = first_algo.test(data)\n",
        "\n",
        "  for prediction in first_algo_predictions:\n",
        "    first_algo_scores.append((prediction.uid, prediction.iid, prediction.est))\n",
        "  \n",
        "  first_algo_scores.sort(key=lambda elem: elem[2], reverse=True)\n",
        "\n",
        "  # btw it's less than 100, got only unique titles\n",
        "  top_100_by_first_algo = []\n",
        "  for score in first_algo_scores[:100]:\n",
        "    if score[1] not in [x[1] for x in top_100_by_first_algo]:\n",
        "      top_100_by_first_algo.append(score)\n",
        "  \n",
        "  for uid, iid, _ in top_100_by_first_algo:\n",
        "    second_algo_scores.append((uid, iid, second_algo.predict(uid=uid, iid=iid).est))\n",
        "  \n",
        "  second_algo_scores.sort(key=lambda elem: elem[2], reverse=True)\n",
        "  top_10_by_second_algo = second_algo_scores[:10] \n",
        "\n",
        "  return [x for x in top_10_by_second_algo]"
      ],
      "metadata": {
        "id": "SHXVfqstiQga"
      },
      "execution_count": 15,
      "outputs": []
    },
    {
      "cell_type": "code",
      "source": [
        "recommend_for_user(2.0, SVD_algo, KNNBaseline_algo)"
      ],
      "metadata": {
        "colab": {
          "base_uri": "https://localhost:8080/"
        },
        "id": "bPHrOEY9Cxr7",
        "outputId": "23912346-9afe-4934-d45a-7459010b95db"
      },
      "execution_count": 16,
      "outputs": [
        {
          "output_type": "execute_result",
          "data": {
            "text/plain": [
              "[(122.0, 'Usual Suspects, The (1995)', 5.0),\n",
              " (93.0, 'Braveheart (1995)', 5.0),\n",
              " (53.0, 'Immortal Beloved (1994)', 5.0),\n",
              " (122.0, 'Pulp Fiction (1994)', 5.0),\n",
              " (30.0, 'Shawshank Redemption, The (1994)', 5.0),\n",
              " (251.0, 'Forrest Gump (1994)', 5.0),\n",
              " (93.0, \"Schindler's List (1993)\", 5.0),\n",
              " (122.0, 'Fargo (1996)', 5.0),\n",
              " (171.0, 'Wallace & Gromit: The Best of Aardman Animation (1996)', 5.0),\n",
              " (53.0, 'Roman Holiday (1953)', 5.0)]"
            ]
          },
          "metadata": {},
          "execution_count": 16
        }
      ]
    },
    {
      "cell_type": "code",
      "source": [
        "recommend_for_user(2.0, KNNBaseline_algo, SVD_algo)"
      ],
      "metadata": {
        "colab": {
          "base_uri": "https://localhost:8080/"
        },
        "id": "ia-HevriCxuS",
        "outputId": "7135039e-bc54-4ea4-c5b1-f7760cf8e451"
      },
      "execution_count": 17,
      "outputs": [
        {
          "output_type": "execute_result",
          "data": {
            "text/plain": [
              "[(53.0, 'Immortal Beloved (1994)', 5.0),\n",
              " (30.0, 'Star Wars: Episode IV - A New Hope (1977)', 5.0),\n",
              " (30.0, 'Shawshank Redemption, The (1994)', 5.0),\n",
              " (171.0, 'Twelve Monkeys (a.k.a. 12 Monkeys) (1995)', 4.911756612888624),\n",
              " (122.0, 'Taxi Driver (1976)', 4.9104818914806225),\n",
              " (43.0,\n",
              "  'City of Lost Children, The (Cité des enfants perdus, La) (1995)',\n",
              "  4.855755257357367),\n",
              " (35.0, 'Usual Suspects, The (1995)', 4.855494664621993),\n",
              " (171.0, 'Seven (a.k.a. Se7en) (1995)', 4.8449825159286775),\n",
              " (523.0,\n",
              "  'Léon: The Professional (a.k.a. The Professional) (Léon) (1994)',\n",
              "  4.840556198051412),\n",
              " (43.0, 'Toy Story (1995)', 4.836428551999437)]"
            ]
          },
          "metadata": {},
          "execution_count": 17
        }
      ]
    },
    {
      "cell_type": "code",
      "source": [
        "recommend_for_user(2.0, SVD_algo, BaselineOnly_algo)"
      ],
      "metadata": {
        "colab": {
          "base_uri": "https://localhost:8080/"
        },
        "id": "jk5IY6N6Cxwr",
        "outputId": "ea28e9b6-db46-4ac3-843c-4f0b6176cd27"
      },
      "execution_count": 18,
      "outputs": [
        {
          "output_type": "execute_result",
          "data": {
            "text/plain": [
              "[(122.0, 'Usual Suspects, The (1995)', 5.0),\n",
              " (122.0, 'Pulp Fiction (1994)', 5.0),\n",
              " (53.0, 'Sunset Blvd. (a.k.a. Sunset Boulevard) (1950)', 5.0),\n",
              " (122.0, 'Reservoir Dogs (1992)', 5.0),\n",
              " (171.0, 'Streetcar Named Desire, A (1951)', 5.0),\n",
              " (122.0, 'Monty Python and the Holy Grail (1975)', 5.0),\n",
              " (122.0, 'Goodfellas (1990)', 5.0),\n",
              " (452.0, 'Psycho (1960)', 5.0),\n",
              " (452.0, 'Shining, The (1980)', 5.0),\n",
              " (122.0, 'Cool Hand Luke (1967)', 5.0)]"
            ]
          },
          "metadata": {},
          "execution_count": 18
        }
      ]
    },
    {
      "cell_type": "code",
      "source": [
        "recommend_for_user(2.0, KNNBaseline_algo, BaselineOnly_algo)"
      ],
      "metadata": {
        "colab": {
          "base_uri": "https://localhost:8080/"
        },
        "id": "mseV0a_YDCEi",
        "outputId": "120c6767-6fcc-467a-a824-a48a757afc42"
      },
      "execution_count": 19,
      "outputs": [
        {
          "output_type": "execute_result",
          "data": {
            "text/plain": [
              "[(43.0,\n",
              "  'City of Lost Children, The (Cité des enfants perdus, La) (1995)',\n",
              "  5.0),\n",
              " (43.0, 'Toy Story (1995)', 4.926523158995917),\n",
              " (30.0, 'Shawshank Redemption, The (1994)', 4.925146249265773),\n",
              " (122.0, 'Taxi Driver (1976)', 4.886456931835486),\n",
              " (523.0,\n",
              "  'Léon: The Professional (a.k.a. The Professional) (Léon) (1994)',\n",
              "  4.8199198384941955),\n",
              " (53.0, 'Immortal Beloved (1994)', 4.79590851835073),\n",
              " (171.0, 'Seven (a.k.a. Se7en) (1995)', 4.775368184459195),\n",
              " (30.0, 'Star Wars: Episode IV - A New Hope (1977)', 4.760759136308771),\n",
              " (171.0, 'Twelve Monkeys (a.k.a. 12 Monkeys) (1995)', 4.753316435635924),\n",
              " (35.0, 'Usual Suspects, The (1995)', 4.652094067462009)]"
            ]
          },
          "metadata": {},
          "execution_count": 19
        }
      ]
    },
    {
      "cell_type": "code",
      "source": [
        "recommend_for_user(2.0, KNNBaseline_algo, SlopeOne_algo)"
      ],
      "metadata": {
        "colab": {
          "base_uri": "https://localhost:8080/"
        },
        "id": "B2FUb8Z6DiWn",
        "outputId": "0d294ae4-d50a-4da6-aaa4-ec8b5bf5793c"
      },
      "execution_count": 20,
      "outputs": [
        {
          "output_type": "execute_result",
          "data": {
            "text/plain": [
              "[(43.0, 'Toy Story (1995)', 5.0),\n",
              " (43.0,\n",
              "  'City of Lost Children, The (Cité des enfants perdus, La) (1995)',\n",
              "  5.0),\n",
              " (53.0, 'Immortal Beloved (1994)', 5.0),\n",
              " (30.0, 'Star Wars: Episode IV - A New Hope (1977)', 5.0),\n",
              " (523.0,\n",
              "  'Léon: The Professional (a.k.a. The Professional) (Léon) (1994)',\n",
              "  5.0),\n",
              " (30.0, 'Shawshank Redemption, The (1994)', 5.0),\n",
              " (171.0, 'Seven (a.k.a. Se7en) (1995)', 4.973670287958682),\n",
              " (171.0, 'Twelve Monkeys (a.k.a. 12 Monkeys) (1995)', 4.931574304065654),\n",
              " (122.0, 'Taxi Driver (1976)', 4.923592725948297),\n",
              " (35.0, 'Usual Suspects, The (1995)', 4.790296860723791)]"
            ]
          },
          "metadata": {},
          "execution_count": 20
        }
      ]
    },
    {
      "cell_type": "code",
      "source": [
        "recommend_for_user(2.0, SlopeOne_algo, BaselineOnly_algo)"
      ],
      "metadata": {
        "colab": {
          "base_uri": "https://localhost:8080/"
        },
        "id": "cZNqucqgDhca",
        "outputId": "5891a3f2-3fac-4b7c-ef27-0b8d1459ee33"
      },
      "execution_count": 21,
      "outputs": [
        {
          "output_type": "execute_result",
          "data": {
            "text/plain": [
              "[(43.0,\n",
              "  'City of Lost Children, The (Cité des enfants perdus, La) (1995)',\n",
              "  5.0),\n",
              " (43.0, 'Seven (a.k.a. Se7en) (1995)', 5.0),\n",
              " (43.0, 'Braveheart (1995)', 5.0),\n",
              " (43.0, 'Forrest Gump (1994)', 5.0),\n",
              " (43.0, 'Fugitive, The (1993)', 5.0),\n",
              " (1.0, 'Usual Suspects, The (1995)', 4.9983716679259835),\n",
              " (43.0, 'Lion King, The (1994)', 4.965598417556597),\n",
              " (1.0, 'Pulp Fiction (1994)', 4.958474918810048),\n",
              " (43.0, 'Toy Story (1995)', 4.926523158995917),\n",
              " (30.0, 'Shawshank Redemption, The (1994)', 4.925146249265773)]"
            ]
          },
          "metadata": {},
          "execution_count": 21
        }
      ]
    },
    {
      "cell_type": "markdown",
      "source": [
        "#### Смешанная гибридная рекомендательная система"
      ],
      "metadata": {
        "id": "hfXTK_dFHjhB"
      }
    },
    {
      "cell_type": "code",
      "source": [
        "# Смешивание\n",
        "def recommend_for_user_v2(user_id, first_algo, second_algo):\n",
        "  user_non_watched_movies = movies_with_ratings[movies_with_ratings.userId != user_id]\n",
        "  dataset = pd.DataFrame({\n",
        "    'uid': user_non_watched_movies.userId,\n",
        "    'iid': user_non_watched_movies.title,\n",
        "    'rating': user_non_watched_movies.rating\n",
        "  })\n",
        "  data = Dataset.load_from_df(dataset, Reader(rating_scale=(0.5, 5.0))).build_full_trainset()\n",
        "  data = [(x.uid, x.iid, x.rating) for x in list(dataset.itertuples(index=False))]\n",
        "  first_algo_scores, second_algo_scores = [], []\n",
        "\n",
        "  for prediction in first_algo.test(data):\n",
        "    first_algo_scores.append((prediction.uid, prediction.iid, prediction.est))\n",
        "  \n",
        "  first_algo_scores.sort(key=lambda elem: elem[2], reverse=True)\n",
        "\n",
        "  for prediction in second_algo.test(data):\n",
        "    second_algo_scores.append((prediction.uid, prediction.iid, prediction.est))\n",
        "  \n",
        "  second_algo_scores.sort(key=lambda elem: elem[2], reverse=True)\n",
        "\n",
        "  avg_score = []\n",
        "  i, j = 0, 0\n",
        "  while(len(avg_score) < 10):\n",
        "    if (first_algo_scores[i][2] > second_algo_scores[j][2]):\n",
        "      i += 1\n",
        "      if (first_algo_scores[i][1] not in [x[1] for x in avg_score]):\n",
        "        avg_score.append(first_algo_scores[i])\n",
        "    else:\n",
        "      j += 1\n",
        "      if (second_algo_scores[j][1] not in [x[1] for x in avg_score]):\n",
        "        avg_score.append(second_algo_scores[j])\n",
        "\n",
        "  return avg_score"
      ],
      "metadata": {
        "id": "Um77aNS6Dhg7"
      },
      "execution_count": 22,
      "outputs": []
    },
    {
      "cell_type": "code",
      "source": [
        "recommend_for_user_v2(2.0, KNNBaseline_algo, BaselineOnly_algo)"
      ],
      "metadata": {
        "colab": {
          "base_uri": "https://localhost:8080/"
        },
        "id": "7okD5UApFIfh",
        "outputId": "46cd19d3-40ea-4085-c294-325065ae6cc8"
      },
      "execution_count": 23,
      "outputs": [
        {
          "output_type": "execute_result",
          "data": {
            "text/plain": [
              "[(43.0, 'Seven (a.k.a. Se7en) (1995)', 5.0),\n",
              " (122.0, 'Usual Suspects, The (1995)', 5.0),\n",
              " (43.0, 'Braveheart (1995)', 5.0),\n",
              " (122.0, 'Star Wars: Episode IV - A New Hope (1977)', 5.0),\n",
              " (43.0, 'Pulp Fiction (1994)', 5.0),\n",
              " (43.0, 'Shawshank Redemption, The (1994)', 5.0),\n",
              " (43.0, 'Forrest Gump (1994)', 5.0),\n",
              " (43.0, 'Fugitive, The (1993)', 5.0),\n",
              " (452.0, \"Schindler's List (1993)\", 5.0),\n",
              " (452.0, 'Blade Runner (1982)', 5.0)]"
            ]
          },
          "metadata": {},
          "execution_count": 23
        }
      ]
    },
    {
      "cell_type": "code",
      "source": [
        "recommend_for_user_v2(2.0, SVD_algo, KNNBaseline_algo)"
      ],
      "metadata": {
        "colab": {
          "base_uri": "https://localhost:8080/"
        },
        "id": "ymQBlfwOGNqh",
        "outputId": "5456125d-ace2-40d5-c120-4b66e9b6a5ba"
      },
      "execution_count": 24,
      "outputs": [
        {
          "output_type": "execute_result",
          "data": {
            "text/plain": [
              "[(43.0,\n",
              "  'City of Lost Children, The (Cité des enfants perdus, La) (1995)',\n",
              "  5.0),\n",
              " (171.0, 'Twelve Monkeys (a.k.a. 12 Monkeys) (1995)', 5.0),\n",
              " (171.0, 'Seven (a.k.a. Se7en) (1995)', 5.0),\n",
              " (35.0, 'Usual Suspects, The (1995)', 5.0),\n",
              " (30.0, 'Braveheart (1995)', 5.0),\n",
              " (122.0, 'Taxi Driver (1976)', 5.0),\n",
              " (53.0, 'Immortal Beloved (1994)', 5.0),\n",
              " (30.0, 'Star Wars: Episode IV - A New Hope (1977)', 5.0),\n",
              " (523.0,\n",
              "  'Léon: The Professional (a.k.a. The Professional) (Léon) (1994)',\n",
              "  5.0),\n",
              " (37.0, 'Pulp Fiction (1994)', 5.0)]"
            ]
          },
          "metadata": {},
          "execution_count": 24
        }
      ]
    },
    {
      "cell_type": "code",
      "source": [
        "recommend_for_user_v2(2.0, SlopeOne_algo, BaselineOnly_algo)"
      ],
      "metadata": {
        "colab": {
          "base_uri": "https://localhost:8080/"
        },
        "id": "1s1Bog-IGPS5",
        "outputId": "090588c8-420d-4fd6-f1f6-8b0ffe051e9b"
      },
      "execution_count": 25,
      "outputs": [
        {
          "output_type": "execute_result",
          "data": {
            "text/plain": [
              "[(43.0, 'Seven (a.k.a. Se7en) (1995)', 5.0),\n",
              " (122.0, 'Usual Suspects, The (1995)', 5.0),\n",
              " (43.0, 'Braveheart (1995)', 5.0),\n",
              " (122.0, 'Star Wars: Episode IV - A New Hope (1977)', 5.0),\n",
              " (43.0, 'Pulp Fiction (1994)', 5.0),\n",
              " (43.0, 'Shawshank Redemption, The (1994)', 5.0),\n",
              " (43.0, 'Forrest Gump (1994)', 5.0),\n",
              " (43.0, 'Fugitive, The (1993)', 5.0),\n",
              " (452.0, \"Schindler's List (1993)\", 5.0),\n",
              " (452.0, 'Blade Runner (1982)', 5.0)]"
            ]
          },
          "metadata": {},
          "execution_count": 25
        }
      ]
    },
    {
      "cell_type": "markdown",
      "source": [
        "### Выводы"
      ],
      "metadata": {
        "id": "WvZU777tGX7q"
      }
    },
    {
      "cell_type": "markdown",
      "source": [
        "Попробовал на практике применение гибридных рекомендательных систем.\n",
        "\n",
        "В ходе работы обучил несколько алгоритмов (SVD, KNNBaseline, BaselineOnly, SlopeOne) и применил их в двух видах гибридных систем. Смешаная и комбинированная.\n",
        "\n",
        "Мне кажется что комбинированная гибридная система выглядит наиболее надежной т.к. некоторые алгоритмы могут по ошибке предсказать у всех оценку 5 и тогда в алгоритме смешивании у нас будут все фильмы из этого алгоритма, хотя это может быть ошибочно."
      ],
      "metadata": {
        "id": "EsD0Fe5mGaiB"
      }
    }
  ]
}