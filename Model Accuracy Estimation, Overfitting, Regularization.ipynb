{
  "nbformat": 4,
  "nbformat_minor": 0,
  "metadata": {
    "colab": {
      "provenance": []
    },
    "kernelspec": {
      "name": "python3",
      "display_name": "Python 3"
    },
    "language_info": {
      "name": "python"
    }
  },
  "cells": [
    {
      "cell_type": "markdown",
      "source": [
        "# Оценка точности модели, переобучение, регуляризация"
      ],
      "metadata": {
        "id": "E42x9BPMVw2n"
      }
    },
    {
      "cell_type": "markdown",
      "source": [
        "### Преобразование данных"
      ],
      "metadata": {
        "id": "LGAPMIbtVxCf"
      }
    },
    {
      "cell_type": "code",
      "source": [
        "import pandas as pd\n",
        "import numpy as np"
      ],
      "metadata": {
        "id": "xXCS66hdVyCP"
      },
      "execution_count": 1,
      "outputs": []
    },
    {
      "cell_type": "code",
      "source": [
        "data = pd.read_csv('athletes.csv')\n",
        "data.head()"
      ],
      "metadata": {
        "colab": {
          "base_uri": "https://localhost:8080/",
          "height": 206
        },
        "id": "rwqBITMVBbIs",
        "outputId": "ac2b21e6-5f04-4663-cffa-3dbbe97d4ffe"
      },
      "execution_count": 2,
      "outputs": [
        {
          "output_type": "execute_result",
          "data": {
            "text/plain": [
              "          id            name nationality     sex       dob  height  weight  \\\n",
              "0  736041664  A Jesus Garcia         ESP    male  10/17/69    1.72    64.0   \n",
              "1  532037425      A Lam Shin         KOR  female   9/23/86    1.68    56.0   \n",
              "2  435962603     Aaron Brown         CAN    male   5/27/92    1.98    79.0   \n",
              "3  521041435      Aaron Cook         MDA    male    1/2/91    1.83    80.0   \n",
              "4   33922579      Aaron Gate         NZL    male  11/26/90    1.81    71.0   \n",
              "\n",
              "       sport  gold  silver  bronze  \n",
              "0  athletics     0       0       0  \n",
              "1    fencing     0       0       0  \n",
              "2  athletics     0       0       1  \n",
              "3  taekwondo     0       0       0  \n",
              "4    cycling     0       0       0  "
            ],
            "text/html": [
              "\n",
              "  <div id=\"df-832380a1-898a-436f-8279-f0dffdbbf081\">\n",
              "    <div class=\"colab-df-container\">\n",
              "      <div>\n",
              "<style scoped>\n",
              "    .dataframe tbody tr th:only-of-type {\n",
              "        vertical-align: middle;\n",
              "    }\n",
              "\n",
              "    .dataframe tbody tr th {\n",
              "        vertical-align: top;\n",
              "    }\n",
              "\n",
              "    .dataframe thead th {\n",
              "        text-align: right;\n",
              "    }\n",
              "</style>\n",
              "<table border=\"1\" class=\"dataframe\">\n",
              "  <thead>\n",
              "    <tr style=\"text-align: right;\">\n",
              "      <th></th>\n",
              "      <th>id</th>\n",
              "      <th>name</th>\n",
              "      <th>nationality</th>\n",
              "      <th>sex</th>\n",
              "      <th>dob</th>\n",
              "      <th>height</th>\n",
              "      <th>weight</th>\n",
              "      <th>sport</th>\n",
              "      <th>gold</th>\n",
              "      <th>silver</th>\n",
              "      <th>bronze</th>\n",
              "    </tr>\n",
              "  </thead>\n",
              "  <tbody>\n",
              "    <tr>\n",
              "      <th>0</th>\n",
              "      <td>736041664</td>\n",
              "      <td>A Jesus Garcia</td>\n",
              "      <td>ESP</td>\n",
              "      <td>male</td>\n",
              "      <td>10/17/69</td>\n",
              "      <td>1.72</td>\n",
              "      <td>64.0</td>\n",
              "      <td>athletics</td>\n",
              "      <td>0</td>\n",
              "      <td>0</td>\n",
              "      <td>0</td>\n",
              "    </tr>\n",
              "    <tr>\n",
              "      <th>1</th>\n",
              "      <td>532037425</td>\n",
              "      <td>A Lam Shin</td>\n",
              "      <td>KOR</td>\n",
              "      <td>female</td>\n",
              "      <td>9/23/86</td>\n",
              "      <td>1.68</td>\n",
              "      <td>56.0</td>\n",
              "      <td>fencing</td>\n",
              "      <td>0</td>\n",
              "      <td>0</td>\n",
              "      <td>0</td>\n",
              "    </tr>\n",
              "    <tr>\n",
              "      <th>2</th>\n",
              "      <td>435962603</td>\n",
              "      <td>Aaron Brown</td>\n",
              "      <td>CAN</td>\n",
              "      <td>male</td>\n",
              "      <td>5/27/92</td>\n",
              "      <td>1.98</td>\n",
              "      <td>79.0</td>\n",
              "      <td>athletics</td>\n",
              "      <td>0</td>\n",
              "      <td>0</td>\n",
              "      <td>1</td>\n",
              "    </tr>\n",
              "    <tr>\n",
              "      <th>3</th>\n",
              "      <td>521041435</td>\n",
              "      <td>Aaron Cook</td>\n",
              "      <td>MDA</td>\n",
              "      <td>male</td>\n",
              "      <td>1/2/91</td>\n",
              "      <td>1.83</td>\n",
              "      <td>80.0</td>\n",
              "      <td>taekwondo</td>\n",
              "      <td>0</td>\n",
              "      <td>0</td>\n",
              "      <td>0</td>\n",
              "    </tr>\n",
              "    <tr>\n",
              "      <th>4</th>\n",
              "      <td>33922579</td>\n",
              "      <td>Aaron Gate</td>\n",
              "      <td>NZL</td>\n",
              "      <td>male</td>\n",
              "      <td>11/26/90</td>\n",
              "      <td>1.81</td>\n",
              "      <td>71.0</td>\n",
              "      <td>cycling</td>\n",
              "      <td>0</td>\n",
              "      <td>0</td>\n",
              "      <td>0</td>\n",
              "    </tr>\n",
              "  </tbody>\n",
              "</table>\n",
              "</div>\n",
              "      <button class=\"colab-df-convert\" onclick=\"convertToInteractive('df-832380a1-898a-436f-8279-f0dffdbbf081')\"\n",
              "              title=\"Convert this dataframe to an interactive table.\"\n",
              "              style=\"display:none;\">\n",
              "        \n",
              "  <svg xmlns=\"http://www.w3.org/2000/svg\" height=\"24px\"viewBox=\"0 0 24 24\"\n",
              "       width=\"24px\">\n",
              "    <path d=\"M0 0h24v24H0V0z\" fill=\"none\"/>\n",
              "    <path d=\"M18.56 5.44l.94 2.06.94-2.06 2.06-.94-2.06-.94-.94-2.06-.94 2.06-2.06.94zm-11 1L8.5 8.5l.94-2.06 2.06-.94-2.06-.94L8.5 2.5l-.94 2.06-2.06.94zm10 10l.94 2.06.94-2.06 2.06-.94-2.06-.94-.94-2.06-.94 2.06-2.06.94z\"/><path d=\"M17.41 7.96l-1.37-1.37c-.4-.4-.92-.59-1.43-.59-.52 0-1.04.2-1.43.59L10.3 9.45l-7.72 7.72c-.78.78-.78 2.05 0 2.83L4 21.41c.39.39.9.59 1.41.59.51 0 1.02-.2 1.41-.59l7.78-7.78 2.81-2.81c.8-.78.8-2.07 0-2.86zM5.41 20L4 18.59l7.72-7.72 1.47 1.35L5.41 20z\"/>\n",
              "  </svg>\n",
              "      </button>\n",
              "      \n",
              "  <style>\n",
              "    .colab-df-container {\n",
              "      display:flex;\n",
              "      flex-wrap:wrap;\n",
              "      gap: 12px;\n",
              "    }\n",
              "\n",
              "    .colab-df-convert {\n",
              "      background-color: #E8F0FE;\n",
              "      border: none;\n",
              "      border-radius: 50%;\n",
              "      cursor: pointer;\n",
              "      display: none;\n",
              "      fill: #1967D2;\n",
              "      height: 32px;\n",
              "      padding: 0 0 0 0;\n",
              "      width: 32px;\n",
              "    }\n",
              "\n",
              "    .colab-df-convert:hover {\n",
              "      background-color: #E2EBFA;\n",
              "      box-shadow: 0px 1px 2px rgba(60, 64, 67, 0.3), 0px 1px 3px 1px rgba(60, 64, 67, 0.15);\n",
              "      fill: #174EA6;\n",
              "    }\n",
              "\n",
              "    [theme=dark] .colab-df-convert {\n",
              "      background-color: #3B4455;\n",
              "      fill: #D2E3FC;\n",
              "    }\n",
              "\n",
              "    [theme=dark] .colab-df-convert:hover {\n",
              "      background-color: #434B5C;\n",
              "      box-shadow: 0px 1px 3px 1px rgba(0, 0, 0, 0.15);\n",
              "      filter: drop-shadow(0px 1px 2px rgba(0, 0, 0, 0.3));\n",
              "      fill: #FFFFFF;\n",
              "    }\n",
              "  </style>\n",
              "\n",
              "      <script>\n",
              "        const buttonEl =\n",
              "          document.querySelector('#df-832380a1-898a-436f-8279-f0dffdbbf081 button.colab-df-convert');\n",
              "        buttonEl.style.display =\n",
              "          google.colab.kernel.accessAllowed ? 'block' : 'none';\n",
              "\n",
              "        async function convertToInteractive(key) {\n",
              "          const element = document.querySelector('#df-832380a1-898a-436f-8279-f0dffdbbf081');\n",
              "          const dataTable =\n",
              "            await google.colab.kernel.invokeFunction('convertToInteractive',\n",
              "                                                     [key], {});\n",
              "          if (!dataTable) return;\n",
              "\n",
              "          const docLinkHtml = 'Like what you see? Visit the ' +\n",
              "            '<a target=\"_blank\" href=https://colab.research.google.com/notebooks/data_table.ipynb>data table notebook</a>'\n",
              "            + ' to learn more about interactive tables.';\n",
              "          element.innerHTML = '';\n",
              "          dataTable['output_type'] = 'display_data';\n",
              "          await google.colab.output.renderOutput(dataTable, element);\n",
              "          const docLink = document.createElement('div');\n",
              "          docLink.innerHTML = docLinkHtml;\n",
              "          element.appendChild(docLink);\n",
              "        }\n",
              "      </script>\n",
              "    </div>\n",
              "  </div>\n",
              "  "
            ]
          },
          "metadata": {},
          "execution_count": 2
        }
      ]
    },
    {
      "cell_type": "code",
      "source": [
        "data.info()"
      ],
      "metadata": {
        "colab": {
          "base_uri": "https://localhost:8080/"
        },
        "id": "Jj9-OdrEBbLD",
        "outputId": "406fb92e-3da6-4e6e-b8ca-33ddffd10ce5"
      },
      "execution_count": 3,
      "outputs": [
        {
          "output_type": "stream",
          "name": "stdout",
          "text": [
            "<class 'pandas.core.frame.DataFrame'>\n",
            "RangeIndex: 11538 entries, 0 to 11537\n",
            "Data columns (total 11 columns):\n",
            " #   Column       Non-Null Count  Dtype  \n",
            "---  ------       --------------  -----  \n",
            " 0   id           11538 non-null  int64  \n",
            " 1   name         11538 non-null  object \n",
            " 2   nationality  11538 non-null  object \n",
            " 3   sex          11538 non-null  object \n",
            " 4   dob          11537 non-null  object \n",
            " 5   height       11208 non-null  float64\n",
            " 6   weight       10879 non-null  float64\n",
            " 7   sport        11538 non-null  object \n",
            " 8   gold         11538 non-null  int64  \n",
            " 9   silver       11538 non-null  int64  \n",
            " 10  bronze       11538 non-null  int64  \n",
            "dtypes: float64(2), int64(4), object(5)\n",
            "memory usage: 991.7+ KB\n"
          ]
        }
      ]
    },
    {
      "cell_type": "code",
      "source": [
        "data.isna().sum()"
      ],
      "metadata": {
        "colab": {
          "base_uri": "https://localhost:8080/"
        },
        "id": "q2hpe5KGBbNb",
        "outputId": "09dcc434-beb4-4032-b236-216bcdb62029"
      },
      "execution_count": 4,
      "outputs": [
        {
          "output_type": "execute_result",
          "data": {
            "text/plain": [
              "id               0\n",
              "name             0\n",
              "nationality      0\n",
              "sex              0\n",
              "dob              1\n",
              "height         330\n",
              "weight         659\n",
              "sport            0\n",
              "gold             0\n",
              "silver           0\n",
              "bronze           0\n",
              "dtype: int64"
            ]
          },
          "metadata": {},
          "execution_count": 4
        }
      ]
    },
    {
      "cell_type": "code",
      "source": [
        "data[[\"height\"]].value_counts()"
      ],
      "metadata": {
        "colab": {
          "base_uri": "https://localhost:8080/"
        },
        "id": "twhF0mNxCtg1",
        "outputId": "8772aa6b-ef67-48f6-a9df-401972f3d986"
      },
      "execution_count": 5,
      "outputs": [
        {
          "output_type": "execute_result",
          "data": {
            "text/plain": [
              "height\n",
              "1.80      580\n",
              "1.70      579\n",
              "1.75      484\n",
              "1.78      453\n",
              "1.73      424\n",
              "         ... \n",
              "1.42        1\n",
              "1.40        1\n",
              "1.38        1\n",
              "1.34        1\n",
              "2.21        1\n",
              "Length: 82, dtype: int64"
            ]
          },
          "metadata": {},
          "execution_count": 5
        }
      ]
    },
    {
      "cell_type": "code",
      "source": [
        "data[[\"weight\"]].value_counts()"
      ],
      "metadata": {
        "colab": {
          "base_uri": "https://localhost:8080/"
        },
        "id": "QHLlXNnYCtjL",
        "outputId": "9367932d-2063-46d0-a010-eedf4e8305b4"
      },
      "execution_count": 6,
      "outputs": [
        {
          "output_type": "execute_result",
          "data": {
            "text/plain": [
              "weight\n",
              "70.0      482\n",
              "60.0      387\n",
              "65.0      382\n",
              "75.0      342\n",
              "58.0      336\n",
              "         ... \n",
              "146.0       1\n",
              "133.0       1\n",
              "134.0       1\n",
              "137.0       1\n",
              "31.0        1\n",
              "Length: 123, dtype: int64"
            ]
          },
          "metadata": {},
          "execution_count": 6
        }
      ]
    },
    {
      "cell_type": "markdown",
      "source": [
        "Удалим все значения где одновременно пусты и weight и height."
      ],
      "metadata": {
        "id": "aStDRdujECkE"
      }
    },
    {
      "cell_type": "code",
      "source": [
        "almost_clean_data = data[data['weight'].notna() | data['height'].notna()]\n",
        "almost_clean_data"
      ],
      "metadata": {
        "colab": {
          "base_uri": "https://localhost:8080/",
          "height": 424
        },
        "id": "d9ObjmuHDO7M",
        "outputId": "8a6975e1-2c5a-4bb6-a02b-b916d79f0d04"
      },
      "execution_count": 7,
      "outputs": [
        {
          "output_type": "execute_result",
          "data": {
            "text/plain": [
              "              id                name nationality     sex       dob  height  \\\n",
              "0      736041664      A Jesus Garcia         ESP    male  10/17/69    1.72   \n",
              "1      532037425          A Lam Shin         KOR  female   9/23/86    1.68   \n",
              "2      435962603         Aaron Brown         CAN    male   5/27/92    1.98   \n",
              "3      521041435          Aaron Cook         MDA    male    1/2/91    1.83   \n",
              "4       33922579          Aaron Gate         NZL    male  11/26/90    1.81   \n",
              "...          ...                 ...         ...     ...       ...     ...   \n",
              "11533  265605954  Zurian Hechavarria         CUB  female   8/10/95    1.64   \n",
              "11534  214461847      Zuzana Hejnova         CZE  female  12/19/86    1.73   \n",
              "11535   88361042             di Xiao         CHN    male   5/14/91    1.85   \n",
              "11536  900065925   le Quoc Toan Tran         VIE    male    4/5/89    1.60   \n",
              "11537  711404576      le Roux Hamman         RSA    male    1/6/92    1.85   \n",
              "\n",
              "       weight          sport  gold  silver  bronze  \n",
              "0        64.0      athletics     0       0       0  \n",
              "1        56.0        fencing     0       0       0  \n",
              "2        79.0      athletics     0       0       1  \n",
              "3        80.0      taekwondo     0       0       0  \n",
              "4        71.0        cycling     0       0       0  \n",
              "...       ...            ...   ...     ...     ...  \n",
              "11533    58.0      athletics     0       0       0  \n",
              "11534    63.0      athletics     0       0       0  \n",
              "11535   100.0      wrestling     0       0       0  \n",
              "11536    56.0  weightlifting     0       0       0  \n",
              "11537    70.0      athletics     0       0       0  \n",
              "\n",
              "[11229 rows x 11 columns]"
            ],
            "text/html": [
              "\n",
              "  <div id=\"df-34a8430f-872a-4413-a51b-16ac41330a78\">\n",
              "    <div class=\"colab-df-container\">\n",
              "      <div>\n",
              "<style scoped>\n",
              "    .dataframe tbody tr th:only-of-type {\n",
              "        vertical-align: middle;\n",
              "    }\n",
              "\n",
              "    .dataframe tbody tr th {\n",
              "        vertical-align: top;\n",
              "    }\n",
              "\n",
              "    .dataframe thead th {\n",
              "        text-align: right;\n",
              "    }\n",
              "</style>\n",
              "<table border=\"1\" class=\"dataframe\">\n",
              "  <thead>\n",
              "    <tr style=\"text-align: right;\">\n",
              "      <th></th>\n",
              "      <th>id</th>\n",
              "      <th>name</th>\n",
              "      <th>nationality</th>\n",
              "      <th>sex</th>\n",
              "      <th>dob</th>\n",
              "      <th>height</th>\n",
              "      <th>weight</th>\n",
              "      <th>sport</th>\n",
              "      <th>gold</th>\n",
              "      <th>silver</th>\n",
              "      <th>bronze</th>\n",
              "    </tr>\n",
              "  </thead>\n",
              "  <tbody>\n",
              "    <tr>\n",
              "      <th>0</th>\n",
              "      <td>736041664</td>\n",
              "      <td>A Jesus Garcia</td>\n",
              "      <td>ESP</td>\n",
              "      <td>male</td>\n",
              "      <td>10/17/69</td>\n",
              "      <td>1.72</td>\n",
              "      <td>64.0</td>\n",
              "      <td>athletics</td>\n",
              "      <td>0</td>\n",
              "      <td>0</td>\n",
              "      <td>0</td>\n",
              "    </tr>\n",
              "    <tr>\n",
              "      <th>1</th>\n",
              "      <td>532037425</td>\n",
              "      <td>A Lam Shin</td>\n",
              "      <td>KOR</td>\n",
              "      <td>female</td>\n",
              "      <td>9/23/86</td>\n",
              "      <td>1.68</td>\n",
              "      <td>56.0</td>\n",
              "      <td>fencing</td>\n",
              "      <td>0</td>\n",
              "      <td>0</td>\n",
              "      <td>0</td>\n",
              "    </tr>\n",
              "    <tr>\n",
              "      <th>2</th>\n",
              "      <td>435962603</td>\n",
              "      <td>Aaron Brown</td>\n",
              "      <td>CAN</td>\n",
              "      <td>male</td>\n",
              "      <td>5/27/92</td>\n",
              "      <td>1.98</td>\n",
              "      <td>79.0</td>\n",
              "      <td>athletics</td>\n",
              "      <td>0</td>\n",
              "      <td>0</td>\n",
              "      <td>1</td>\n",
              "    </tr>\n",
              "    <tr>\n",
              "      <th>3</th>\n",
              "      <td>521041435</td>\n",
              "      <td>Aaron Cook</td>\n",
              "      <td>MDA</td>\n",
              "      <td>male</td>\n",
              "      <td>1/2/91</td>\n",
              "      <td>1.83</td>\n",
              "      <td>80.0</td>\n",
              "      <td>taekwondo</td>\n",
              "      <td>0</td>\n",
              "      <td>0</td>\n",
              "      <td>0</td>\n",
              "    </tr>\n",
              "    <tr>\n",
              "      <th>4</th>\n",
              "      <td>33922579</td>\n",
              "      <td>Aaron Gate</td>\n",
              "      <td>NZL</td>\n",
              "      <td>male</td>\n",
              "      <td>11/26/90</td>\n",
              "      <td>1.81</td>\n",
              "      <td>71.0</td>\n",
              "      <td>cycling</td>\n",
              "      <td>0</td>\n",
              "      <td>0</td>\n",
              "      <td>0</td>\n",
              "    </tr>\n",
              "    <tr>\n",
              "      <th>...</th>\n",
              "      <td>...</td>\n",
              "      <td>...</td>\n",
              "      <td>...</td>\n",
              "      <td>...</td>\n",
              "      <td>...</td>\n",
              "      <td>...</td>\n",
              "      <td>...</td>\n",
              "      <td>...</td>\n",
              "      <td>...</td>\n",
              "      <td>...</td>\n",
              "      <td>...</td>\n",
              "    </tr>\n",
              "    <tr>\n",
              "      <th>11533</th>\n",
              "      <td>265605954</td>\n",
              "      <td>Zurian Hechavarria</td>\n",
              "      <td>CUB</td>\n",
              "      <td>female</td>\n",
              "      <td>8/10/95</td>\n",
              "      <td>1.64</td>\n",
              "      <td>58.0</td>\n",
              "      <td>athletics</td>\n",
              "      <td>0</td>\n",
              "      <td>0</td>\n",
              "      <td>0</td>\n",
              "    </tr>\n",
              "    <tr>\n",
              "      <th>11534</th>\n",
              "      <td>214461847</td>\n",
              "      <td>Zuzana Hejnova</td>\n",
              "      <td>CZE</td>\n",
              "      <td>female</td>\n",
              "      <td>12/19/86</td>\n",
              "      <td>1.73</td>\n",
              "      <td>63.0</td>\n",
              "      <td>athletics</td>\n",
              "      <td>0</td>\n",
              "      <td>0</td>\n",
              "      <td>0</td>\n",
              "    </tr>\n",
              "    <tr>\n",
              "      <th>11535</th>\n",
              "      <td>88361042</td>\n",
              "      <td>di Xiao</td>\n",
              "      <td>CHN</td>\n",
              "      <td>male</td>\n",
              "      <td>5/14/91</td>\n",
              "      <td>1.85</td>\n",
              "      <td>100.0</td>\n",
              "      <td>wrestling</td>\n",
              "      <td>0</td>\n",
              "      <td>0</td>\n",
              "      <td>0</td>\n",
              "    </tr>\n",
              "    <tr>\n",
              "      <th>11536</th>\n",
              "      <td>900065925</td>\n",
              "      <td>le Quoc Toan Tran</td>\n",
              "      <td>VIE</td>\n",
              "      <td>male</td>\n",
              "      <td>4/5/89</td>\n",
              "      <td>1.60</td>\n",
              "      <td>56.0</td>\n",
              "      <td>weightlifting</td>\n",
              "      <td>0</td>\n",
              "      <td>0</td>\n",
              "      <td>0</td>\n",
              "    </tr>\n",
              "    <tr>\n",
              "      <th>11537</th>\n",
              "      <td>711404576</td>\n",
              "      <td>le Roux Hamman</td>\n",
              "      <td>RSA</td>\n",
              "      <td>male</td>\n",
              "      <td>1/6/92</td>\n",
              "      <td>1.85</td>\n",
              "      <td>70.0</td>\n",
              "      <td>athletics</td>\n",
              "      <td>0</td>\n",
              "      <td>0</td>\n",
              "      <td>0</td>\n",
              "    </tr>\n",
              "  </tbody>\n",
              "</table>\n",
              "<p>11229 rows × 11 columns</p>\n",
              "</div>\n",
              "      <button class=\"colab-df-convert\" onclick=\"convertToInteractive('df-34a8430f-872a-4413-a51b-16ac41330a78')\"\n",
              "              title=\"Convert this dataframe to an interactive table.\"\n",
              "              style=\"display:none;\">\n",
              "        \n",
              "  <svg xmlns=\"http://www.w3.org/2000/svg\" height=\"24px\"viewBox=\"0 0 24 24\"\n",
              "       width=\"24px\">\n",
              "    <path d=\"M0 0h24v24H0V0z\" fill=\"none\"/>\n",
              "    <path d=\"M18.56 5.44l.94 2.06.94-2.06 2.06-.94-2.06-.94-.94-2.06-.94 2.06-2.06.94zm-11 1L8.5 8.5l.94-2.06 2.06-.94-2.06-.94L8.5 2.5l-.94 2.06-2.06.94zm10 10l.94 2.06.94-2.06 2.06-.94-2.06-.94-.94-2.06-.94 2.06-2.06.94z\"/><path d=\"M17.41 7.96l-1.37-1.37c-.4-.4-.92-.59-1.43-.59-.52 0-1.04.2-1.43.59L10.3 9.45l-7.72 7.72c-.78.78-.78 2.05 0 2.83L4 21.41c.39.39.9.59 1.41.59.51 0 1.02-.2 1.41-.59l7.78-7.78 2.81-2.81c.8-.78.8-2.07 0-2.86zM5.41 20L4 18.59l7.72-7.72 1.47 1.35L5.41 20z\"/>\n",
              "  </svg>\n",
              "      </button>\n",
              "      \n",
              "  <style>\n",
              "    .colab-df-container {\n",
              "      display:flex;\n",
              "      flex-wrap:wrap;\n",
              "      gap: 12px;\n",
              "    }\n",
              "\n",
              "    .colab-df-convert {\n",
              "      background-color: #E8F0FE;\n",
              "      border: none;\n",
              "      border-radius: 50%;\n",
              "      cursor: pointer;\n",
              "      display: none;\n",
              "      fill: #1967D2;\n",
              "      height: 32px;\n",
              "      padding: 0 0 0 0;\n",
              "      width: 32px;\n",
              "    }\n",
              "\n",
              "    .colab-df-convert:hover {\n",
              "      background-color: #E2EBFA;\n",
              "      box-shadow: 0px 1px 2px rgba(60, 64, 67, 0.3), 0px 1px 3px 1px rgba(60, 64, 67, 0.15);\n",
              "      fill: #174EA6;\n",
              "    }\n",
              "\n",
              "    [theme=dark] .colab-df-convert {\n",
              "      background-color: #3B4455;\n",
              "      fill: #D2E3FC;\n",
              "    }\n",
              "\n",
              "    [theme=dark] .colab-df-convert:hover {\n",
              "      background-color: #434B5C;\n",
              "      box-shadow: 0px 1px 3px 1px rgba(0, 0, 0, 0.15);\n",
              "      filter: drop-shadow(0px 1px 2px rgba(0, 0, 0, 0.3));\n",
              "      fill: #FFFFFF;\n",
              "    }\n",
              "  </style>\n",
              "\n",
              "      <script>\n",
              "        const buttonEl =\n",
              "          document.querySelector('#df-34a8430f-872a-4413-a51b-16ac41330a78 button.colab-df-convert');\n",
              "        buttonEl.style.display =\n",
              "          google.colab.kernel.accessAllowed ? 'block' : 'none';\n",
              "\n",
              "        async function convertToInteractive(key) {\n",
              "          const element = document.querySelector('#df-34a8430f-872a-4413-a51b-16ac41330a78');\n",
              "          const dataTable =\n",
              "            await google.colab.kernel.invokeFunction('convertToInteractive',\n",
              "                                                     [key], {});\n",
              "          if (!dataTable) return;\n",
              "\n",
              "          const docLinkHtml = 'Like what you see? Visit the ' +\n",
              "            '<a target=\"_blank\" href=https://colab.research.google.com/notebooks/data_table.ipynb>data table notebook</a>'\n",
              "            + ' to learn more about interactive tables.';\n",
              "          element.innerHTML = '';\n",
              "          dataTable['output_type'] = 'display_data';\n",
              "          await google.colab.output.renderOutput(dataTable, element);\n",
              "          const docLink = document.createElement('div');\n",
              "          docLink.innerHTML = docLinkHtml;\n",
              "          element.appendChild(docLink);\n",
              "        }\n",
              "      </script>\n",
              "    </div>\n",
              "  </div>\n",
              "  "
            ]
          },
          "metadata": {},
          "execution_count": 7
        }
      ]
    },
    {
      "cell_type": "markdown",
      "source": [
        "Можно заметить что строка с путсым значением dob исчезла. И мы избавились от 309 строк."
      ],
      "metadata": {
        "id": "_hz9pLduEaYc"
      }
    },
    {
      "cell_type": "code",
      "source": [
        "almost_clean_data.isna().sum()"
      ],
      "metadata": {
        "colab": {
          "base_uri": "https://localhost:8080/"
        },
        "id": "kCTCXY5UDO9k",
        "outputId": "c6c3a7df-eac6-45da-8940-5387f05e6738"
      },
      "execution_count": 8,
      "outputs": [
        {
          "output_type": "execute_result",
          "data": {
            "text/plain": [
              "id               0\n",
              "name             0\n",
              "nationality      0\n",
              "sex              0\n",
              "dob              0\n",
              "height          21\n",
              "weight         350\n",
              "sport            0\n",
              "gold             0\n",
              "silver           0\n",
              "bronze           0\n",
              "dtype: int64"
            ]
          },
          "metadata": {},
          "execution_count": 8
        }
      ]
    },
    {
      "cell_type": "code",
      "source": [
        "almost_clean_data.describe()"
      ],
      "metadata": {
        "colab": {
          "base_uri": "https://localhost:8080/",
          "height": 300
        },
        "id": "tfG1Y7i3E0F8",
        "outputId": "59499311-9250-4591-b5eb-e0513b1c036e"
      },
      "execution_count": 9,
      "outputs": [
        {
          "output_type": "execute_result",
          "data": {
            "text/plain": [
              "                 id        height        weight          gold        silver  \\\n",
              "count  1.122900e+04  11208.000000  10879.000000  11229.000000  11229.000000   \n",
              "mean   4.999163e+08      1.766282     72.068205      0.059044      0.057797   \n",
              "std    2.909071e+08      0.112719     16.177334      0.258771      0.240881   \n",
              "min    1.834700e+04      1.210000     31.000000      0.000000      0.000000   \n",
              "25%    2.450891e+08      1.690000     60.000000      0.000000      0.000000   \n",
              "50%    4.996032e+08      1.760000     70.000000      0.000000      0.000000   \n",
              "75%    7.537477e+08      1.840000     81.000000      0.000000      0.000000   \n",
              "max    9.999878e+08      2.210000    170.000000      5.000000      2.000000   \n",
              "\n",
              "             bronze  \n",
              "count  11229.000000  \n",
              "mean       0.062071  \n",
              "std        0.245323  \n",
              "min        0.000000  \n",
              "25%        0.000000  \n",
              "50%        0.000000  \n",
              "75%        0.000000  \n",
              "max        2.000000  "
            ],
            "text/html": [
              "\n",
              "  <div id=\"df-ffb241ec-ccfc-4bf3-ab42-66f1309f4aff\">\n",
              "    <div class=\"colab-df-container\">\n",
              "      <div>\n",
              "<style scoped>\n",
              "    .dataframe tbody tr th:only-of-type {\n",
              "        vertical-align: middle;\n",
              "    }\n",
              "\n",
              "    .dataframe tbody tr th {\n",
              "        vertical-align: top;\n",
              "    }\n",
              "\n",
              "    .dataframe thead th {\n",
              "        text-align: right;\n",
              "    }\n",
              "</style>\n",
              "<table border=\"1\" class=\"dataframe\">\n",
              "  <thead>\n",
              "    <tr style=\"text-align: right;\">\n",
              "      <th></th>\n",
              "      <th>id</th>\n",
              "      <th>height</th>\n",
              "      <th>weight</th>\n",
              "      <th>gold</th>\n",
              "      <th>silver</th>\n",
              "      <th>bronze</th>\n",
              "    </tr>\n",
              "  </thead>\n",
              "  <tbody>\n",
              "    <tr>\n",
              "      <th>count</th>\n",
              "      <td>1.122900e+04</td>\n",
              "      <td>11208.000000</td>\n",
              "      <td>10879.000000</td>\n",
              "      <td>11229.000000</td>\n",
              "      <td>11229.000000</td>\n",
              "      <td>11229.000000</td>\n",
              "    </tr>\n",
              "    <tr>\n",
              "      <th>mean</th>\n",
              "      <td>4.999163e+08</td>\n",
              "      <td>1.766282</td>\n",
              "      <td>72.068205</td>\n",
              "      <td>0.059044</td>\n",
              "      <td>0.057797</td>\n",
              "      <td>0.062071</td>\n",
              "    </tr>\n",
              "    <tr>\n",
              "      <th>std</th>\n",
              "      <td>2.909071e+08</td>\n",
              "      <td>0.112719</td>\n",
              "      <td>16.177334</td>\n",
              "      <td>0.258771</td>\n",
              "      <td>0.240881</td>\n",
              "      <td>0.245323</td>\n",
              "    </tr>\n",
              "    <tr>\n",
              "      <th>min</th>\n",
              "      <td>1.834700e+04</td>\n",
              "      <td>1.210000</td>\n",
              "      <td>31.000000</td>\n",
              "      <td>0.000000</td>\n",
              "      <td>0.000000</td>\n",
              "      <td>0.000000</td>\n",
              "    </tr>\n",
              "    <tr>\n",
              "      <th>25%</th>\n",
              "      <td>2.450891e+08</td>\n",
              "      <td>1.690000</td>\n",
              "      <td>60.000000</td>\n",
              "      <td>0.000000</td>\n",
              "      <td>0.000000</td>\n",
              "      <td>0.000000</td>\n",
              "    </tr>\n",
              "    <tr>\n",
              "      <th>50%</th>\n",
              "      <td>4.996032e+08</td>\n",
              "      <td>1.760000</td>\n",
              "      <td>70.000000</td>\n",
              "      <td>0.000000</td>\n",
              "      <td>0.000000</td>\n",
              "      <td>0.000000</td>\n",
              "    </tr>\n",
              "    <tr>\n",
              "      <th>75%</th>\n",
              "      <td>7.537477e+08</td>\n",
              "      <td>1.840000</td>\n",
              "      <td>81.000000</td>\n",
              "      <td>0.000000</td>\n",
              "      <td>0.000000</td>\n",
              "      <td>0.000000</td>\n",
              "    </tr>\n",
              "    <tr>\n",
              "      <th>max</th>\n",
              "      <td>9.999878e+08</td>\n",
              "      <td>2.210000</td>\n",
              "      <td>170.000000</td>\n",
              "      <td>5.000000</td>\n",
              "      <td>2.000000</td>\n",
              "      <td>2.000000</td>\n",
              "    </tr>\n",
              "  </tbody>\n",
              "</table>\n",
              "</div>\n",
              "      <button class=\"colab-df-convert\" onclick=\"convertToInteractive('df-ffb241ec-ccfc-4bf3-ab42-66f1309f4aff')\"\n",
              "              title=\"Convert this dataframe to an interactive table.\"\n",
              "              style=\"display:none;\">\n",
              "        \n",
              "  <svg xmlns=\"http://www.w3.org/2000/svg\" height=\"24px\"viewBox=\"0 0 24 24\"\n",
              "       width=\"24px\">\n",
              "    <path d=\"M0 0h24v24H0V0z\" fill=\"none\"/>\n",
              "    <path d=\"M18.56 5.44l.94 2.06.94-2.06 2.06-.94-2.06-.94-.94-2.06-.94 2.06-2.06.94zm-11 1L8.5 8.5l.94-2.06 2.06-.94-2.06-.94L8.5 2.5l-.94 2.06-2.06.94zm10 10l.94 2.06.94-2.06 2.06-.94-2.06-.94-.94-2.06-.94 2.06-2.06.94z\"/><path d=\"M17.41 7.96l-1.37-1.37c-.4-.4-.92-.59-1.43-.59-.52 0-1.04.2-1.43.59L10.3 9.45l-7.72 7.72c-.78.78-.78 2.05 0 2.83L4 21.41c.39.39.9.59 1.41.59.51 0 1.02-.2 1.41-.59l7.78-7.78 2.81-2.81c.8-.78.8-2.07 0-2.86zM5.41 20L4 18.59l7.72-7.72 1.47 1.35L5.41 20z\"/>\n",
              "  </svg>\n",
              "      </button>\n",
              "      \n",
              "  <style>\n",
              "    .colab-df-container {\n",
              "      display:flex;\n",
              "      flex-wrap:wrap;\n",
              "      gap: 12px;\n",
              "    }\n",
              "\n",
              "    .colab-df-convert {\n",
              "      background-color: #E8F0FE;\n",
              "      border: none;\n",
              "      border-radius: 50%;\n",
              "      cursor: pointer;\n",
              "      display: none;\n",
              "      fill: #1967D2;\n",
              "      height: 32px;\n",
              "      padding: 0 0 0 0;\n",
              "      width: 32px;\n",
              "    }\n",
              "\n",
              "    .colab-df-convert:hover {\n",
              "      background-color: #E2EBFA;\n",
              "      box-shadow: 0px 1px 2px rgba(60, 64, 67, 0.3), 0px 1px 3px 1px rgba(60, 64, 67, 0.15);\n",
              "      fill: #174EA6;\n",
              "    }\n",
              "\n",
              "    [theme=dark] .colab-df-convert {\n",
              "      background-color: #3B4455;\n",
              "      fill: #D2E3FC;\n",
              "    }\n",
              "\n",
              "    [theme=dark] .colab-df-convert:hover {\n",
              "      background-color: #434B5C;\n",
              "      box-shadow: 0px 1px 3px 1px rgba(0, 0, 0, 0.15);\n",
              "      filter: drop-shadow(0px 1px 2px rgba(0, 0, 0, 0.3));\n",
              "      fill: #FFFFFF;\n",
              "    }\n",
              "  </style>\n",
              "\n",
              "      <script>\n",
              "        const buttonEl =\n",
              "          document.querySelector('#df-ffb241ec-ccfc-4bf3-ab42-66f1309f4aff button.colab-df-convert');\n",
              "        buttonEl.style.display =\n",
              "          google.colab.kernel.accessAllowed ? 'block' : 'none';\n",
              "\n",
              "        async function convertToInteractive(key) {\n",
              "          const element = document.querySelector('#df-ffb241ec-ccfc-4bf3-ab42-66f1309f4aff');\n",
              "          const dataTable =\n",
              "            await google.colab.kernel.invokeFunction('convertToInteractive',\n",
              "                                                     [key], {});\n",
              "          if (!dataTable) return;\n",
              "\n",
              "          const docLinkHtml = 'Like what you see? Visit the ' +\n",
              "            '<a target=\"_blank\" href=https://colab.research.google.com/notebooks/data_table.ipynb>data table notebook</a>'\n",
              "            + ' to learn more about interactive tables.';\n",
              "          element.innerHTML = '';\n",
              "          dataTable['output_type'] = 'display_data';\n",
              "          await google.colab.output.renderOutput(dataTable, element);\n",
              "          const docLink = document.createElement('div');\n",
              "          docLink.innerHTML = docLinkHtml;\n",
              "          element.appendChild(docLink);\n",
              "        }\n",
              "      </script>\n",
              "    </div>\n",
              "  </div>\n",
              "  "
            ]
          },
          "metadata": {},
          "execution_count": 9
        }
      ]
    },
    {
      "cell_type": "markdown",
      "source": [
        "Можно посмотреть на выбросы по столбцу weight. Получилось что между первой и третьей q вошло 5851 значенй, что урезает датасет вдвое. Поэтому этого делать не будем."
      ],
      "metadata": {
        "id": "XvNL9xsnEZ4k"
      }
    },
    {
      "cell_type": "code",
      "source": [
        "iqr = almost_clean_data['weight'][almost_clean_data['weight'].between(almost_clean_data['weight'].quantile(.25), almost_clean_data['weight'].quantile(.75), inclusive=True)]\n",
        "iqr"
      ],
      "metadata": {
        "colab": {
          "base_uri": "https://localhost:8080/"
        },
        "id": "pwYg_rEFEr4z",
        "outputId": "fbc228f3-614a-4ca8-c6df-252e0e894df2"
      },
      "execution_count": 10,
      "outputs": [
        {
          "output_type": "stream",
          "name": "stderr",
          "text": [
            "<ipython-input-10-345ae88a25cc>:1: FutureWarning: Boolean inputs to the `inclusive` argument are deprecated infavour of `both` or `neither`.\n",
            "  iqr = almost_clean_data['weight'][almost_clean_data['weight'].between(almost_clean_data['weight'].quantile(.25), almost_clean_data['weight'].quantile(.75), inclusive=True)]\n"
          ]
        },
        {
          "output_type": "execute_result",
          "data": {
            "text/plain": [
              "0        64.0\n",
              "2        79.0\n",
              "3        80.0\n",
              "4        71.0\n",
              "5        67.0\n",
              "         ... \n",
              "11530    70.0\n",
              "11531    75.0\n",
              "11532    68.0\n",
              "11534    63.0\n",
              "11537    70.0\n",
              "Name: weight, Length: 5851, dtype: float64"
            ]
          },
          "metadata": {},
          "execution_count": 10
        }
      ]
    },
    {
      "cell_type": "markdown",
      "source": [
        "Посмотрим на средние значения параметров для наших колонок. Можно заметить что люди у которых не заполнен вес чаще получали бронзу относительного среднего значения, а те люди у которых не заполнен рост вообще не получали золото. (Предположительно) Это нам ничего не дает. Идем дальше."
      ],
      "metadata": {
        "id": "ZNEPcFKQGuqr"
      }
    },
    {
      "cell_type": "code",
      "source": [
        "almost_clean_data.groupby(almost_clean_data['weight'].isnull()).mean()"
      ],
      "metadata": {
        "colab": {
          "base_uri": "https://localhost:8080/",
          "height": 143
        },
        "id": "IyTRKtCiEsAj",
        "outputId": "776d5029-b643-46f7-c7fc-45fdf141618e"
      },
      "execution_count": 11,
      "outputs": [
        {
          "output_type": "execute_result",
          "data": {
            "text/plain": [
              "                  id    height     weight      gold    silver    bronze\n",
              "weight                                                                 \n",
              "False   5.010672e+08  1.766942  72.068205  0.059656  0.058461  0.058553\n",
              "True    4.641419e+08  1.745800        NaN  0.040000  0.037143  0.171429"
            ],
            "text/html": [
              "\n",
              "  <div id=\"df-e77cde5e-69ab-410b-b9ed-6e93b39c9dff\">\n",
              "    <div class=\"colab-df-container\">\n",
              "      <div>\n",
              "<style scoped>\n",
              "    .dataframe tbody tr th:only-of-type {\n",
              "        vertical-align: middle;\n",
              "    }\n",
              "\n",
              "    .dataframe tbody tr th {\n",
              "        vertical-align: top;\n",
              "    }\n",
              "\n",
              "    .dataframe thead th {\n",
              "        text-align: right;\n",
              "    }\n",
              "</style>\n",
              "<table border=\"1\" class=\"dataframe\">\n",
              "  <thead>\n",
              "    <tr style=\"text-align: right;\">\n",
              "      <th></th>\n",
              "      <th>id</th>\n",
              "      <th>height</th>\n",
              "      <th>weight</th>\n",
              "      <th>gold</th>\n",
              "      <th>silver</th>\n",
              "      <th>bronze</th>\n",
              "    </tr>\n",
              "    <tr>\n",
              "      <th>weight</th>\n",
              "      <th></th>\n",
              "      <th></th>\n",
              "      <th></th>\n",
              "      <th></th>\n",
              "      <th></th>\n",
              "      <th></th>\n",
              "    </tr>\n",
              "  </thead>\n",
              "  <tbody>\n",
              "    <tr>\n",
              "      <th>False</th>\n",
              "      <td>5.010672e+08</td>\n",
              "      <td>1.766942</td>\n",
              "      <td>72.068205</td>\n",
              "      <td>0.059656</td>\n",
              "      <td>0.058461</td>\n",
              "      <td>0.058553</td>\n",
              "    </tr>\n",
              "    <tr>\n",
              "      <th>True</th>\n",
              "      <td>4.641419e+08</td>\n",
              "      <td>1.745800</td>\n",
              "      <td>NaN</td>\n",
              "      <td>0.040000</td>\n",
              "      <td>0.037143</td>\n",
              "      <td>0.171429</td>\n",
              "    </tr>\n",
              "  </tbody>\n",
              "</table>\n",
              "</div>\n",
              "      <button class=\"colab-df-convert\" onclick=\"convertToInteractive('df-e77cde5e-69ab-410b-b9ed-6e93b39c9dff')\"\n",
              "              title=\"Convert this dataframe to an interactive table.\"\n",
              "              style=\"display:none;\">\n",
              "        \n",
              "  <svg xmlns=\"http://www.w3.org/2000/svg\" height=\"24px\"viewBox=\"0 0 24 24\"\n",
              "       width=\"24px\">\n",
              "    <path d=\"M0 0h24v24H0V0z\" fill=\"none\"/>\n",
              "    <path d=\"M18.56 5.44l.94 2.06.94-2.06 2.06-.94-2.06-.94-.94-2.06-.94 2.06-2.06.94zm-11 1L8.5 8.5l.94-2.06 2.06-.94-2.06-.94L8.5 2.5l-.94 2.06-2.06.94zm10 10l.94 2.06.94-2.06 2.06-.94-2.06-.94-.94-2.06-.94 2.06-2.06.94z\"/><path d=\"M17.41 7.96l-1.37-1.37c-.4-.4-.92-.59-1.43-.59-.52 0-1.04.2-1.43.59L10.3 9.45l-7.72 7.72c-.78.78-.78 2.05 0 2.83L4 21.41c.39.39.9.59 1.41.59.51 0 1.02-.2 1.41-.59l7.78-7.78 2.81-2.81c.8-.78.8-2.07 0-2.86zM5.41 20L4 18.59l7.72-7.72 1.47 1.35L5.41 20z\"/>\n",
              "  </svg>\n",
              "      </button>\n",
              "      \n",
              "  <style>\n",
              "    .colab-df-container {\n",
              "      display:flex;\n",
              "      flex-wrap:wrap;\n",
              "      gap: 12px;\n",
              "    }\n",
              "\n",
              "    .colab-df-convert {\n",
              "      background-color: #E8F0FE;\n",
              "      border: none;\n",
              "      border-radius: 50%;\n",
              "      cursor: pointer;\n",
              "      display: none;\n",
              "      fill: #1967D2;\n",
              "      height: 32px;\n",
              "      padding: 0 0 0 0;\n",
              "      width: 32px;\n",
              "    }\n",
              "\n",
              "    .colab-df-convert:hover {\n",
              "      background-color: #E2EBFA;\n",
              "      box-shadow: 0px 1px 2px rgba(60, 64, 67, 0.3), 0px 1px 3px 1px rgba(60, 64, 67, 0.15);\n",
              "      fill: #174EA6;\n",
              "    }\n",
              "\n",
              "    [theme=dark] .colab-df-convert {\n",
              "      background-color: #3B4455;\n",
              "      fill: #D2E3FC;\n",
              "    }\n",
              "\n",
              "    [theme=dark] .colab-df-convert:hover {\n",
              "      background-color: #434B5C;\n",
              "      box-shadow: 0px 1px 3px 1px rgba(0, 0, 0, 0.15);\n",
              "      filter: drop-shadow(0px 1px 2px rgba(0, 0, 0, 0.3));\n",
              "      fill: #FFFFFF;\n",
              "    }\n",
              "  </style>\n",
              "\n",
              "      <script>\n",
              "        const buttonEl =\n",
              "          document.querySelector('#df-e77cde5e-69ab-410b-b9ed-6e93b39c9dff button.colab-df-convert');\n",
              "        buttonEl.style.display =\n",
              "          google.colab.kernel.accessAllowed ? 'block' : 'none';\n",
              "\n",
              "        async function convertToInteractive(key) {\n",
              "          const element = document.querySelector('#df-e77cde5e-69ab-410b-b9ed-6e93b39c9dff');\n",
              "          const dataTable =\n",
              "            await google.colab.kernel.invokeFunction('convertToInteractive',\n",
              "                                                     [key], {});\n",
              "          if (!dataTable) return;\n",
              "\n",
              "          const docLinkHtml = 'Like what you see? Visit the ' +\n",
              "            '<a target=\"_blank\" href=https://colab.research.google.com/notebooks/data_table.ipynb>data table notebook</a>'\n",
              "            + ' to learn more about interactive tables.';\n",
              "          element.innerHTML = '';\n",
              "          dataTable['output_type'] = 'display_data';\n",
              "          await google.colab.output.renderOutput(dataTable, element);\n",
              "          const docLink = document.createElement('div');\n",
              "          docLink.innerHTML = docLinkHtml;\n",
              "          element.appendChild(docLink);\n",
              "        }\n",
              "      </script>\n",
              "    </div>\n",
              "  </div>\n",
              "  "
            ]
          },
          "metadata": {},
          "execution_count": 11
        }
      ]
    },
    {
      "cell_type": "code",
      "source": [
        "almost_clean_data.groupby(almost_clean_data['height'].isnull()).mean()"
      ],
      "metadata": {
        "colab": {
          "base_uri": "https://localhost:8080/",
          "height": 143
        },
        "id": "uvzWfglSISu7",
        "outputId": "43d5bacb-27a8-48fc-8da6-e6a6e2da1f31"
      },
      "execution_count": 12,
      "outputs": [
        {
          "output_type": "execute_result",
          "data": {
            "text/plain": [
              "                  id    height     weight      gold    silver    bronze\n",
              "height                                                                 \n",
              "False   4.999777e+08  1.766282  72.070915  0.059154  0.057816  0.062099\n",
              "True    4.671292e+08       NaN  70.666667  0.000000  0.047619  0.047619"
            ],
            "text/html": [
              "\n",
              "  <div id=\"df-1b88a0d2-6834-4602-ac19-f15f7f3328a2\">\n",
              "    <div class=\"colab-df-container\">\n",
              "      <div>\n",
              "<style scoped>\n",
              "    .dataframe tbody tr th:only-of-type {\n",
              "        vertical-align: middle;\n",
              "    }\n",
              "\n",
              "    .dataframe tbody tr th {\n",
              "        vertical-align: top;\n",
              "    }\n",
              "\n",
              "    .dataframe thead th {\n",
              "        text-align: right;\n",
              "    }\n",
              "</style>\n",
              "<table border=\"1\" class=\"dataframe\">\n",
              "  <thead>\n",
              "    <tr style=\"text-align: right;\">\n",
              "      <th></th>\n",
              "      <th>id</th>\n",
              "      <th>height</th>\n",
              "      <th>weight</th>\n",
              "      <th>gold</th>\n",
              "      <th>silver</th>\n",
              "      <th>bronze</th>\n",
              "    </tr>\n",
              "    <tr>\n",
              "      <th>height</th>\n",
              "      <th></th>\n",
              "      <th></th>\n",
              "      <th></th>\n",
              "      <th></th>\n",
              "      <th></th>\n",
              "      <th></th>\n",
              "    </tr>\n",
              "  </thead>\n",
              "  <tbody>\n",
              "    <tr>\n",
              "      <th>False</th>\n",
              "      <td>4.999777e+08</td>\n",
              "      <td>1.766282</td>\n",
              "      <td>72.070915</td>\n",
              "      <td>0.059154</td>\n",
              "      <td>0.057816</td>\n",
              "      <td>0.062099</td>\n",
              "    </tr>\n",
              "    <tr>\n",
              "      <th>True</th>\n",
              "      <td>4.671292e+08</td>\n",
              "      <td>NaN</td>\n",
              "      <td>70.666667</td>\n",
              "      <td>0.000000</td>\n",
              "      <td>0.047619</td>\n",
              "      <td>0.047619</td>\n",
              "    </tr>\n",
              "  </tbody>\n",
              "</table>\n",
              "</div>\n",
              "      <button class=\"colab-df-convert\" onclick=\"convertToInteractive('df-1b88a0d2-6834-4602-ac19-f15f7f3328a2')\"\n",
              "              title=\"Convert this dataframe to an interactive table.\"\n",
              "              style=\"display:none;\">\n",
              "        \n",
              "  <svg xmlns=\"http://www.w3.org/2000/svg\" height=\"24px\"viewBox=\"0 0 24 24\"\n",
              "       width=\"24px\">\n",
              "    <path d=\"M0 0h24v24H0V0z\" fill=\"none\"/>\n",
              "    <path d=\"M18.56 5.44l.94 2.06.94-2.06 2.06-.94-2.06-.94-.94-2.06-.94 2.06-2.06.94zm-11 1L8.5 8.5l.94-2.06 2.06-.94-2.06-.94L8.5 2.5l-.94 2.06-2.06.94zm10 10l.94 2.06.94-2.06 2.06-.94-2.06-.94-.94-2.06-.94 2.06-2.06.94z\"/><path d=\"M17.41 7.96l-1.37-1.37c-.4-.4-.92-.59-1.43-.59-.52 0-1.04.2-1.43.59L10.3 9.45l-7.72 7.72c-.78.78-.78 2.05 0 2.83L4 21.41c.39.39.9.59 1.41.59.51 0 1.02-.2 1.41-.59l7.78-7.78 2.81-2.81c.8-.78.8-2.07 0-2.86zM5.41 20L4 18.59l7.72-7.72 1.47 1.35L5.41 20z\"/>\n",
              "  </svg>\n",
              "      </button>\n",
              "      \n",
              "  <style>\n",
              "    .colab-df-container {\n",
              "      display:flex;\n",
              "      flex-wrap:wrap;\n",
              "      gap: 12px;\n",
              "    }\n",
              "\n",
              "    .colab-df-convert {\n",
              "      background-color: #E8F0FE;\n",
              "      border: none;\n",
              "      border-radius: 50%;\n",
              "      cursor: pointer;\n",
              "      display: none;\n",
              "      fill: #1967D2;\n",
              "      height: 32px;\n",
              "      padding: 0 0 0 0;\n",
              "      width: 32px;\n",
              "    }\n",
              "\n",
              "    .colab-df-convert:hover {\n",
              "      background-color: #E2EBFA;\n",
              "      box-shadow: 0px 1px 2px rgba(60, 64, 67, 0.3), 0px 1px 3px 1px rgba(60, 64, 67, 0.15);\n",
              "      fill: #174EA6;\n",
              "    }\n",
              "\n",
              "    [theme=dark] .colab-df-convert {\n",
              "      background-color: #3B4455;\n",
              "      fill: #D2E3FC;\n",
              "    }\n",
              "\n",
              "    [theme=dark] .colab-df-convert:hover {\n",
              "      background-color: #434B5C;\n",
              "      box-shadow: 0px 1px 3px 1px rgba(0, 0, 0, 0.15);\n",
              "      filter: drop-shadow(0px 1px 2px rgba(0, 0, 0, 0.3));\n",
              "      fill: #FFFFFF;\n",
              "    }\n",
              "  </style>\n",
              "\n",
              "      <script>\n",
              "        const buttonEl =\n",
              "          document.querySelector('#df-1b88a0d2-6834-4602-ac19-f15f7f3328a2 button.colab-df-convert');\n",
              "        buttonEl.style.display =\n",
              "          google.colab.kernel.accessAllowed ? 'block' : 'none';\n",
              "\n",
              "        async function convertToInteractive(key) {\n",
              "          const element = document.querySelector('#df-1b88a0d2-6834-4602-ac19-f15f7f3328a2');\n",
              "          const dataTable =\n",
              "            await google.colab.kernel.invokeFunction('convertToInteractive',\n",
              "                                                     [key], {});\n",
              "          if (!dataTable) return;\n",
              "\n",
              "          const docLinkHtml = 'Like what you see? Visit the ' +\n",
              "            '<a target=\"_blank\" href=https://colab.research.google.com/notebooks/data_table.ipynb>data table notebook</a>'\n",
              "            + ' to learn more about interactive tables.';\n",
              "          element.innerHTML = '';\n",
              "          dataTable['output_type'] = 'display_data';\n",
              "          await google.colab.output.renderOutput(dataTable, element);\n",
              "          const docLink = document.createElement('div');\n",
              "          docLink.innerHTML = docLinkHtml;\n",
              "          element.appendChild(docLink);\n",
              "        }\n",
              "      </script>\n",
              "    </div>\n",
              "  </div>\n",
              "  "
            ]
          },
          "metadata": {},
          "execution_count": 12
        }
      ]
    },
    {
      "cell_type": "markdown",
      "source": [
        "Посмотрим на датасет в котором веса нулевые. В этом датасете нам известен факт что все значения столбца height по этим весам не нулевые. Поэтому мы можем для каждого пустого значения столбца weight расчитать его среднее на основе соответсвующего значения height. То есть мы не будем задавать 350 строкам значение среднее по датасету, вместо этого для каждой строки найдем средний вес по росту и запишем это значение."
      ],
      "metadata": {
        "id": "k462Gfg2MOjj"
      }
    },
    {
      "cell_type": "code",
      "source": [
        "almost_clean_data[almost_clean_data['weight'].isna()]"
      ],
      "metadata": {
        "colab": {
          "base_uri": "https://localhost:8080/",
          "height": 424
        },
        "id": "GMydqPuNKBRi",
        "outputId": "4ad49554-8d5a-4fdb-d5c0-03ab17788913"
      },
      "execution_count": 13,
      "outputs": [
        {
          "output_type": "execute_result",
          "data": {
            "text/plain": [
              "              id                                 name nationality     sex  \\\n",
              "28     349871091                 Abdelhafid Benchabla         ALG    male   \n",
              "30      23564778                     Abdelkader Chadi         ALG    male   \n",
              "37     934545704  Abdelrahman Salah Orabi Abdelgawwad         EGY    male   \n",
              "53     101781750                Abdulkadir Abdullayev         AZE    male   \n",
              "57        153457                      Abdullahi Shehu         NGR    male   \n",
              "...          ...                                  ...         ...     ...   \n",
              "11465  980866226                  Zhaina Shekerbekova         KAZ  female   \n",
              "11468  405483135                 Zhanibek Alimkhanuly         KAZ    male   \n",
              "11513  352983859                        Zohir Kedache         ALG    male   \n",
              "11514  424586991                    Zohra Ez Zahraoui         MAR  female   \n",
              "11517  495365659                   Zoltan Adam Harcsa         HUN    male   \n",
              "\n",
              "            dob  height  weight     sport  gold  silver  bronze  \n",
              "28      9/26/86    1.86     NaN    boxing     0       0       0  \n",
              "30     12/12/86    1.78     NaN    boxing     0       0       0  \n",
              "37      10/9/87    1.85     NaN    boxing     0       0       0  \n",
              "53      7/17/88    1.88     NaN    boxing     0       0       0  \n",
              "57      3/12/93    1.70     NaN  football     0       0       1  \n",
              "...         ...     ...     ...       ...   ...     ...     ...  \n",
              "11465  12/17/89    1.54     NaN    boxing     0       0       0  \n",
              "11468    4/1/93    1.82     NaN    boxing     0       0       0  \n",
              "11513    3/2/86    1.78     NaN    boxing     0       0       0  \n",
              "11514  11/18/83    1.65     NaN    boxing     0       0       0  \n",
              "11517  11/20/92    1.84     NaN    boxing     0       0       0  \n",
              "\n",
              "[350 rows x 11 columns]"
            ],
            "text/html": [
              "\n",
              "  <div id=\"df-ef958461-539e-485b-a601-68575002e226\">\n",
              "    <div class=\"colab-df-container\">\n",
              "      <div>\n",
              "<style scoped>\n",
              "    .dataframe tbody tr th:only-of-type {\n",
              "        vertical-align: middle;\n",
              "    }\n",
              "\n",
              "    .dataframe tbody tr th {\n",
              "        vertical-align: top;\n",
              "    }\n",
              "\n",
              "    .dataframe thead th {\n",
              "        text-align: right;\n",
              "    }\n",
              "</style>\n",
              "<table border=\"1\" class=\"dataframe\">\n",
              "  <thead>\n",
              "    <tr style=\"text-align: right;\">\n",
              "      <th></th>\n",
              "      <th>id</th>\n",
              "      <th>name</th>\n",
              "      <th>nationality</th>\n",
              "      <th>sex</th>\n",
              "      <th>dob</th>\n",
              "      <th>height</th>\n",
              "      <th>weight</th>\n",
              "      <th>sport</th>\n",
              "      <th>gold</th>\n",
              "      <th>silver</th>\n",
              "      <th>bronze</th>\n",
              "    </tr>\n",
              "  </thead>\n",
              "  <tbody>\n",
              "    <tr>\n",
              "      <th>28</th>\n",
              "      <td>349871091</td>\n",
              "      <td>Abdelhafid Benchabla</td>\n",
              "      <td>ALG</td>\n",
              "      <td>male</td>\n",
              "      <td>9/26/86</td>\n",
              "      <td>1.86</td>\n",
              "      <td>NaN</td>\n",
              "      <td>boxing</td>\n",
              "      <td>0</td>\n",
              "      <td>0</td>\n",
              "      <td>0</td>\n",
              "    </tr>\n",
              "    <tr>\n",
              "      <th>30</th>\n",
              "      <td>23564778</td>\n",
              "      <td>Abdelkader Chadi</td>\n",
              "      <td>ALG</td>\n",
              "      <td>male</td>\n",
              "      <td>12/12/86</td>\n",
              "      <td>1.78</td>\n",
              "      <td>NaN</td>\n",
              "      <td>boxing</td>\n",
              "      <td>0</td>\n",
              "      <td>0</td>\n",
              "      <td>0</td>\n",
              "    </tr>\n",
              "    <tr>\n",
              "      <th>37</th>\n",
              "      <td>934545704</td>\n",
              "      <td>Abdelrahman Salah Orabi Abdelgawwad</td>\n",
              "      <td>EGY</td>\n",
              "      <td>male</td>\n",
              "      <td>10/9/87</td>\n",
              "      <td>1.85</td>\n",
              "      <td>NaN</td>\n",
              "      <td>boxing</td>\n",
              "      <td>0</td>\n",
              "      <td>0</td>\n",
              "      <td>0</td>\n",
              "    </tr>\n",
              "    <tr>\n",
              "      <th>53</th>\n",
              "      <td>101781750</td>\n",
              "      <td>Abdulkadir Abdullayev</td>\n",
              "      <td>AZE</td>\n",
              "      <td>male</td>\n",
              "      <td>7/17/88</td>\n",
              "      <td>1.88</td>\n",
              "      <td>NaN</td>\n",
              "      <td>boxing</td>\n",
              "      <td>0</td>\n",
              "      <td>0</td>\n",
              "      <td>0</td>\n",
              "    </tr>\n",
              "    <tr>\n",
              "      <th>57</th>\n",
              "      <td>153457</td>\n",
              "      <td>Abdullahi Shehu</td>\n",
              "      <td>NGR</td>\n",
              "      <td>male</td>\n",
              "      <td>3/12/93</td>\n",
              "      <td>1.70</td>\n",
              "      <td>NaN</td>\n",
              "      <td>football</td>\n",
              "      <td>0</td>\n",
              "      <td>0</td>\n",
              "      <td>1</td>\n",
              "    </tr>\n",
              "    <tr>\n",
              "      <th>...</th>\n",
              "      <td>...</td>\n",
              "      <td>...</td>\n",
              "      <td>...</td>\n",
              "      <td>...</td>\n",
              "      <td>...</td>\n",
              "      <td>...</td>\n",
              "      <td>...</td>\n",
              "      <td>...</td>\n",
              "      <td>...</td>\n",
              "      <td>...</td>\n",
              "      <td>...</td>\n",
              "    </tr>\n",
              "    <tr>\n",
              "      <th>11465</th>\n",
              "      <td>980866226</td>\n",
              "      <td>Zhaina Shekerbekova</td>\n",
              "      <td>KAZ</td>\n",
              "      <td>female</td>\n",
              "      <td>12/17/89</td>\n",
              "      <td>1.54</td>\n",
              "      <td>NaN</td>\n",
              "      <td>boxing</td>\n",
              "      <td>0</td>\n",
              "      <td>0</td>\n",
              "      <td>0</td>\n",
              "    </tr>\n",
              "    <tr>\n",
              "      <th>11468</th>\n",
              "      <td>405483135</td>\n",
              "      <td>Zhanibek Alimkhanuly</td>\n",
              "      <td>KAZ</td>\n",
              "      <td>male</td>\n",
              "      <td>4/1/93</td>\n",
              "      <td>1.82</td>\n",
              "      <td>NaN</td>\n",
              "      <td>boxing</td>\n",
              "      <td>0</td>\n",
              "      <td>0</td>\n",
              "      <td>0</td>\n",
              "    </tr>\n",
              "    <tr>\n",
              "      <th>11513</th>\n",
              "      <td>352983859</td>\n",
              "      <td>Zohir Kedache</td>\n",
              "      <td>ALG</td>\n",
              "      <td>male</td>\n",
              "      <td>3/2/86</td>\n",
              "      <td>1.78</td>\n",
              "      <td>NaN</td>\n",
              "      <td>boxing</td>\n",
              "      <td>0</td>\n",
              "      <td>0</td>\n",
              "      <td>0</td>\n",
              "    </tr>\n",
              "    <tr>\n",
              "      <th>11514</th>\n",
              "      <td>424586991</td>\n",
              "      <td>Zohra Ez Zahraoui</td>\n",
              "      <td>MAR</td>\n",
              "      <td>female</td>\n",
              "      <td>11/18/83</td>\n",
              "      <td>1.65</td>\n",
              "      <td>NaN</td>\n",
              "      <td>boxing</td>\n",
              "      <td>0</td>\n",
              "      <td>0</td>\n",
              "      <td>0</td>\n",
              "    </tr>\n",
              "    <tr>\n",
              "      <th>11517</th>\n",
              "      <td>495365659</td>\n",
              "      <td>Zoltan Adam Harcsa</td>\n",
              "      <td>HUN</td>\n",
              "      <td>male</td>\n",
              "      <td>11/20/92</td>\n",
              "      <td>1.84</td>\n",
              "      <td>NaN</td>\n",
              "      <td>boxing</td>\n",
              "      <td>0</td>\n",
              "      <td>0</td>\n",
              "      <td>0</td>\n",
              "    </tr>\n",
              "  </tbody>\n",
              "</table>\n",
              "<p>350 rows × 11 columns</p>\n",
              "</div>\n",
              "      <button class=\"colab-df-convert\" onclick=\"convertToInteractive('df-ef958461-539e-485b-a601-68575002e226')\"\n",
              "              title=\"Convert this dataframe to an interactive table.\"\n",
              "              style=\"display:none;\">\n",
              "        \n",
              "  <svg xmlns=\"http://www.w3.org/2000/svg\" height=\"24px\"viewBox=\"0 0 24 24\"\n",
              "       width=\"24px\">\n",
              "    <path d=\"M0 0h24v24H0V0z\" fill=\"none\"/>\n",
              "    <path d=\"M18.56 5.44l.94 2.06.94-2.06 2.06-.94-2.06-.94-.94-2.06-.94 2.06-2.06.94zm-11 1L8.5 8.5l.94-2.06 2.06-.94-2.06-.94L8.5 2.5l-.94 2.06-2.06.94zm10 10l.94 2.06.94-2.06 2.06-.94-2.06-.94-.94-2.06-.94 2.06-2.06.94z\"/><path d=\"M17.41 7.96l-1.37-1.37c-.4-.4-.92-.59-1.43-.59-.52 0-1.04.2-1.43.59L10.3 9.45l-7.72 7.72c-.78.78-.78 2.05 0 2.83L4 21.41c.39.39.9.59 1.41.59.51 0 1.02-.2 1.41-.59l7.78-7.78 2.81-2.81c.8-.78.8-2.07 0-2.86zM5.41 20L4 18.59l7.72-7.72 1.47 1.35L5.41 20z\"/>\n",
              "  </svg>\n",
              "      </button>\n",
              "      \n",
              "  <style>\n",
              "    .colab-df-container {\n",
              "      display:flex;\n",
              "      flex-wrap:wrap;\n",
              "      gap: 12px;\n",
              "    }\n",
              "\n",
              "    .colab-df-convert {\n",
              "      background-color: #E8F0FE;\n",
              "      border: none;\n",
              "      border-radius: 50%;\n",
              "      cursor: pointer;\n",
              "      display: none;\n",
              "      fill: #1967D2;\n",
              "      height: 32px;\n",
              "      padding: 0 0 0 0;\n",
              "      width: 32px;\n",
              "    }\n",
              "\n",
              "    .colab-df-convert:hover {\n",
              "      background-color: #E2EBFA;\n",
              "      box-shadow: 0px 1px 2px rgba(60, 64, 67, 0.3), 0px 1px 3px 1px rgba(60, 64, 67, 0.15);\n",
              "      fill: #174EA6;\n",
              "    }\n",
              "\n",
              "    [theme=dark] .colab-df-convert {\n",
              "      background-color: #3B4455;\n",
              "      fill: #D2E3FC;\n",
              "    }\n",
              "\n",
              "    [theme=dark] .colab-df-convert:hover {\n",
              "      background-color: #434B5C;\n",
              "      box-shadow: 0px 1px 3px 1px rgba(0, 0, 0, 0.15);\n",
              "      filter: drop-shadow(0px 1px 2px rgba(0, 0, 0, 0.3));\n",
              "      fill: #FFFFFF;\n",
              "    }\n",
              "  </style>\n",
              "\n",
              "      <script>\n",
              "        const buttonEl =\n",
              "          document.querySelector('#df-ef958461-539e-485b-a601-68575002e226 button.colab-df-convert');\n",
              "        buttonEl.style.display =\n",
              "          google.colab.kernel.accessAllowed ? 'block' : 'none';\n",
              "\n",
              "        async function convertToInteractive(key) {\n",
              "          const element = document.querySelector('#df-ef958461-539e-485b-a601-68575002e226');\n",
              "          const dataTable =\n",
              "            await google.colab.kernel.invokeFunction('convertToInteractive',\n",
              "                                                     [key], {});\n",
              "          if (!dataTable) return;\n",
              "\n",
              "          const docLinkHtml = 'Like what you see? Visit the ' +\n",
              "            '<a target=\"_blank\" href=https://colab.research.google.com/notebooks/data_table.ipynb>data table notebook</a>'\n",
              "            + ' to learn more about interactive tables.';\n",
              "          element.innerHTML = '';\n",
              "          dataTable['output_type'] = 'display_data';\n",
              "          await google.colab.output.renderOutput(dataTable, element);\n",
              "          const docLink = document.createElement('div');\n",
              "          docLink.innerHTML = docLinkHtml;\n",
              "          element.appendChild(docLink);\n",
              "        }\n",
              "      </script>\n",
              "    </div>\n",
              "  </div>\n",
              "  "
            ]
          },
          "metadata": {},
          "execution_count": 13
        }
      ]
    },
    {
      "cell_type": "markdown",
      "source": [
        "Посмотрим на средний вес для двух разных значений height. Видим что weight различается."
      ],
      "metadata": {
        "id": "fOeH119dM2cx"
      }
    },
    {
      "cell_type": "code",
      "source": [
        "almost_clean_data[almost_clean_data[\"height\"] == 1.86].mean()"
      ],
      "metadata": {
        "colab": {
          "base_uri": "https://localhost:8080/"
        },
        "id": "n6BN1scaIS0C",
        "outputId": "1988e960-af80-4029-d9ce-fb744aad1e86"
      },
      "execution_count": 14,
      "outputs": [
        {
          "output_type": "stream",
          "name": "stderr",
          "text": [
            "<ipython-input-14-07d532059b32>:1: FutureWarning: Dropping of nuisance columns in DataFrame reductions (with 'numeric_only=None') is deprecated; in a future version this will raise TypeError.  Select only valid columns before calling the reduction.\n",
            "  almost_clean_data[almost_clean_data[\"height\"] == 1.86].mean()\n"
          ]
        },
        {
          "output_type": "execute_result",
          "data": {
            "text/plain": [
              "id        4.889016e+08\n",
              "height    1.860000e+00\n",
              "weight    8.299678e+01\n",
              "gold      7.570978e-02\n",
              "silver    6.624606e-02\n",
              "bronze    6.309148e-02\n",
              "dtype: float64"
            ]
          },
          "metadata": {},
          "execution_count": 14
        }
      ]
    },
    {
      "cell_type": "code",
      "source": [
        "almost_clean_data[almost_clean_data[\"height\"] == 1.78].mean()"
      ],
      "metadata": {
        "colab": {
          "base_uri": "https://localhost:8080/"
        },
        "id": "TqnOtq9fIS2c",
        "outputId": "cef457d7-c488-493f-cb50-dbf31e5072aa"
      },
      "execution_count": 15,
      "outputs": [
        {
          "output_type": "stream",
          "name": "stderr",
          "text": [
            "<ipython-input-15-b5aa0a116456>:1: FutureWarning: Dropping of nuisance columns in DataFrame reductions (with 'numeric_only=None') is deprecated; in a future version this will raise TypeError.  Select only valid columns before calling the reduction.\n",
            "  almost_clean_data[almost_clean_data[\"height\"] == 1.78].mean()\n"
          ]
        },
        {
          "output_type": "execute_result",
          "data": {
            "text/plain": [
              "id        5.020828e+08\n",
              "height    1.780000e+00\n",
              "weight    7.297936e+01\n",
              "gold      5.518764e-02\n",
              "silver    5.739514e-02\n",
              "bronze    5.960265e-02\n",
              "dtype: float64"
            ]
          },
          "metadata": {},
          "execution_count": 15
        }
      ]
    },
    {
      "cell_type": "markdown",
      "source": [
        "Сделаем копию датафрейма для теста"
      ],
      "metadata": {
        "id": "BsqhBSkKO_1o"
      }
    },
    {
      "cell_type": "code",
      "source": [
        "test_almost_clean_data = almost_clean_data.copy()"
      ],
      "metadata": {
        "id": "yeQFGI5rSgh5"
      },
      "execution_count": 16,
      "outputs": []
    },
    {
      "cell_type": "markdown",
      "source": [
        "Заметка[1] - Оказывается всегда надо ставить скобки в условиях с and or.\n",
        "\n",
        "Давайте попробуем заменить один из весов принадлежащий росту 1.86 на среднее значение по этому росту."
      ],
      "metadata": {
        "id": "OQaJMn3qTtTv"
      }
    },
    {
      "cell_type": "code",
      "source": [
        "almost_clean_data[(almost_clean_data['weight'].isna()) & (almost_clean_data[\"height\"] == 1.86)][\"weight\"]"
      ],
      "metadata": {
        "colab": {
          "base_uri": "https://localhost:8080/"
        },
        "id": "8jPqqeE0UbbP",
        "outputId": "5396d891-aa3f-4aca-c02f-c193af944b1e"
      },
      "execution_count": 17,
      "outputs": [
        {
          "output_type": "execute_result",
          "data": {
            "text/plain": [
              "28     NaN\n",
              "5187   NaN\n",
              "5239   NaN\n",
              "7690   NaN\n",
              "9285   NaN\n",
              "9952   NaN\n",
              "Name: weight, dtype: float64"
            ]
          },
          "metadata": {},
          "execution_count": 17
        }
      ]
    },
    {
      "cell_type": "code",
      "source": [
        "index = test_almost_clean_data[(test_almost_clean_data['weight'].isna()) & (test_almost_clean_data[\"height\"] == 1.86)][\"weight\"].index[0]\n",
        "print(index)\n",
        "\n",
        "avg_w = test_almost_clean_data[test_almost_clean_data[\"height\"] == 1.86].mean()[\"weight\"]\n",
        "print(avg_w)\n",
        "\n",
        "test_almost_clean_data.loc[index, \"weight\"] = avg_w"
      ],
      "metadata": {
        "colab": {
          "base_uri": "https://localhost:8080/"
        },
        "id": "Tb4h96F3PvDI",
        "outputId": "8346d80b-1bc7-43ce-a5ff-77e945664b7a"
      },
      "execution_count": 18,
      "outputs": [
        {
          "output_type": "stream",
          "name": "stdout",
          "text": [
            "28\n",
            "82.9967845659164\n"
          ]
        },
        {
          "output_type": "stream",
          "name": "stderr",
          "text": [
            "<ipython-input-18-eef7d2ea5862>:4: FutureWarning: Dropping of nuisance columns in DataFrame reductions (with 'numeric_only=None') is deprecated; in a future version this will raise TypeError.  Select only valid columns before calling the reduction.\n",
            "  avg_w = test_almost_clean_data[test_almost_clean_data[\"height\"] == 1.86].mean()[\"weight\"]\n"
          ]
        }
      ]
    },
    {
      "cell_type": "markdown",
      "source": [
        "Видим что строки с индексом 28 больше нет в выборке. Значит наше новое значение успешно присвоилось. Давайте сделаем теперь это для всего массива."
      ],
      "metadata": {
        "id": "546mR-dDUhmv"
      }
    },
    {
      "cell_type": "code",
      "source": [
        "test_almost_clean_data[(test_almost_clean_data['weight'].isna()) & (test_almost_clean_data[\"height\"] == 1.86)][\"weight\"]"
      ],
      "metadata": {
        "colab": {
          "base_uri": "https://localhost:8080/"
        },
        "id": "o-pVeLmISxd_",
        "outputId": "039c4237-dc3a-46d4-a265-ea74c954bbd7"
      },
      "execution_count": 19,
      "outputs": [
        {
          "output_type": "execute_result",
          "data": {
            "text/plain": [
              "5187   NaN\n",
              "5239   NaN\n",
              "7690   NaN\n",
              "9285   NaN\n",
              "9952   NaN\n",
              "Name: weight, dtype: float64"
            ]
          },
          "metadata": {},
          "execution_count": 19
        }
      ]
    },
    {
      "cell_type": "markdown",
      "source": [
        "Посчитаем средний вес для каждого роста где вес нулевой."
      ],
      "metadata": {
        "id": "bizGfOxANEUB"
      }
    },
    {
      "cell_type": "code",
      "source": [
        "not_valid_weight_data = almost_clean_data[almost_clean_data['weight'].isna()][\"height\"]\n",
        "\n",
        "for i in not_valid_weight_data:\n",
        "  index = almost_clean_data[(almost_clean_data['weight'].isna()) & (almost_clean_data[\"height\"] == i)][\"weight\"].index[0]\n",
        "  avg_w = almost_clean_data[almost_clean_data[\"height\"] == i].mean()[\"weight\"]\n",
        "\n",
        "  almost_clean_data.loc[index, \"weight\"] = avg_w"
      ],
      "metadata": {
        "colab": {
          "base_uri": "https://localhost:8080/"
        },
        "id": "zC6lbreWTayw",
        "outputId": "f005b6a4-6dbc-47d3-b009-eba54e2b6ecc"
      },
      "execution_count": 20,
      "outputs": [
        {
          "output_type": "stream",
          "name": "stderr",
          "text": [
            "<ipython-input-20-52b232e64c08>:5: FutureWarning: Dropping of nuisance columns in DataFrame reductions (with 'numeric_only=None') is deprecated; in a future version this will raise TypeError.  Select only valid columns before calling the reduction.\n",
            "  avg_w = almost_clean_data[almost_clean_data[\"height\"] == i].mean()[\"weight\"]\n",
            "/usr/local/lib/python3.8/dist-packages/pandas/core/indexing.py:1817: SettingWithCopyWarning: \n",
            "A value is trying to be set on a copy of a slice from a DataFrame.\n",
            "Try using .loc[row_indexer,col_indexer] = value instead\n",
            "\n",
            "See the caveats in the documentation: https://pandas.pydata.org/pandas-docs/stable/user_guide/indexing.html#returning-a-view-versus-a-copy\n",
            "  self._setitem_single_column(loc, value, pi)\n"
          ]
        }
      ]
    },
    {
      "cell_type": "markdown",
      "source": [
        "Мы избавились от всех нулевых значений для weight. Повторим тоже самое для height"
      ],
      "metadata": {
        "id": "uLgwEn8cU-Vf"
      }
    },
    {
      "cell_type": "code",
      "source": [
        "almost_clean_data.isna().sum()"
      ],
      "metadata": {
        "colab": {
          "base_uri": "https://localhost:8080/"
        },
        "id": "g9MoYJOUTbw_",
        "outputId": "9f052c1d-6e37-404b-ed2f-db3fd93378b3"
      },
      "execution_count": 21,
      "outputs": [
        {
          "output_type": "execute_result",
          "data": {
            "text/plain": [
              "id              0\n",
              "name            0\n",
              "nationality     0\n",
              "sex             0\n",
              "dob             0\n",
              "height         21\n",
              "weight          0\n",
              "sport           0\n",
              "gold            0\n",
              "silver          0\n",
              "bronze          0\n",
              "dtype: int64"
            ]
          },
          "metadata": {},
          "execution_count": 21
        }
      ]
    },
    {
      "cell_type": "code",
      "source": [
        "not_valid_height_data = almost_clean_data[almost_clean_data['height'].isna()][\"weight\"]\n",
        "\n",
        "for i in not_valid_height_data:\n",
        "  index = almost_clean_data[(almost_clean_data['height'].isna()) & (almost_clean_data[\"weight\"] == i)][\"height\"].index[0]\n",
        "  avg_h = almost_clean_data[almost_clean_data[\"weight\"] == i].mean()[\"height\"]\n",
        "\n",
        "  almost_clean_data.loc[index, \"height\"] = avg_h"
      ],
      "metadata": {
        "colab": {
          "base_uri": "https://localhost:8080/"
        },
        "id": "i-ODhmgcTbzv",
        "outputId": "c7142367-ecaa-410d-c29b-ef435be6fffe"
      },
      "execution_count": 22,
      "outputs": [
        {
          "output_type": "stream",
          "name": "stderr",
          "text": [
            "<ipython-input-22-82f6aeb55c17>:5: FutureWarning: Dropping of nuisance columns in DataFrame reductions (with 'numeric_only=None') is deprecated; in a future version this will raise TypeError.  Select only valid columns before calling the reduction.\n",
            "  avg_h = almost_clean_data[almost_clean_data[\"weight\"] == i].mean()[\"height\"]\n"
          ]
        }
      ]
    },
    {
      "cell_type": "markdown",
      "source": [
        "Мы полностью избавились от пустых данных."
      ],
      "metadata": {
        "id": "N9FFjN6nVnxo"
      }
    },
    {
      "cell_type": "code",
      "source": [
        "almost_clean_data.isna().sum()"
      ],
      "metadata": {
        "colab": {
          "base_uri": "https://localhost:8080/"
        },
        "id": "swYA7w2jTb17",
        "outputId": "24adb3c5-8e83-4f84-9f11-5ab032761d42"
      },
      "execution_count": 23,
      "outputs": [
        {
          "output_type": "execute_result",
          "data": {
            "text/plain": [
              "id             0\n",
              "name           0\n",
              "nationality    0\n",
              "sex            0\n",
              "dob            0\n",
              "height         0\n",
              "weight         0\n",
              "sport          0\n",
              "gold           0\n",
              "silver         0\n",
              "bronze         0\n",
              "dtype: int64"
            ]
          },
          "metadata": {},
          "execution_count": 23
        }
      ]
    },
    {
      "cell_type": "code",
      "source": [
        "almost_clean_data = almost_clean_data.reset_index()"
      ],
      "metadata": {
        "id": "l21900ZkWPW3"
      },
      "execution_count": 24,
      "outputs": []
    },
    {
      "cell_type": "markdown",
      "source": [
        "### Метрики"
      ],
      "metadata": {
        "id": "AB0uooeVWEmY"
      }
    },
    {
      "cell_type": "markdown",
      "source": [
        "##### Выбор Y"
      ],
      "metadata": {
        "id": "xrvZRcxfIFj0"
      }
    },
    {
      "cell_type": "code",
      "source": [
        "test_df = almost_clean_data.copy()\n",
        "test_df"
      ],
      "metadata": {
        "colab": {
          "base_uri": "https://localhost:8080/",
          "height": 424
        },
        "id": "AOTu7DfU7ZDW",
        "outputId": "7efb2cad-40fa-481a-f1ec-f6a9da8cdeeb"
      },
      "execution_count": 51,
      "outputs": [
        {
          "output_type": "execute_result",
          "data": {
            "text/plain": [
              "       index         id                name nationality     sex       dob  \\\n",
              "0          0  736041664      A Jesus Garcia         ESP    male  10/17/69   \n",
              "1          1  532037425          A Lam Shin         KOR  female   9/23/86   \n",
              "2          2  435962603         Aaron Brown         CAN    male   5/27/92   \n",
              "3          3  521041435          Aaron Cook         MDA    male    1/2/91   \n",
              "4          4   33922579          Aaron Gate         NZL    male  11/26/90   \n",
              "...      ...        ...                 ...         ...     ...       ...   \n",
              "11224  11533  265605954  Zurian Hechavarria         CUB  female   8/10/95   \n",
              "11225  11534  214461847      Zuzana Hejnova         CZE  female  12/19/86   \n",
              "11226  11535   88361042             di Xiao         CHN    male   5/14/91   \n",
              "11227  11536  900065925   le Quoc Toan Tran         VIE    male    4/5/89   \n",
              "11228  11537  711404576      le Roux Hamman         RSA    male    1/6/92   \n",
              "\n",
              "       height  weight          sport  gold  silver  bronze  \n",
              "0        1.72    64.0      athletics     0       0       0  \n",
              "1        1.68    56.0        fencing     0       0       0  \n",
              "2        1.98    79.0      athletics     0       0       1  \n",
              "3        1.83    80.0      taekwondo     0       0       0  \n",
              "4        1.81    71.0        cycling     0       0       0  \n",
              "...       ...     ...            ...   ...     ...     ...  \n",
              "11224    1.64    58.0      athletics     0       0       0  \n",
              "11225    1.73    63.0      athletics     0       0       0  \n",
              "11226    1.85   100.0      wrestling     0       0       0  \n",
              "11227    1.60    56.0  weightlifting     0       0       0  \n",
              "11228    1.85    70.0      athletics     0       0       0  \n",
              "\n",
              "[11229 rows x 12 columns]"
            ],
            "text/html": [
              "\n",
              "  <div id=\"df-fa3264f9-9927-4a7d-b662-7c4459d851c8\">\n",
              "    <div class=\"colab-df-container\">\n",
              "      <div>\n",
              "<style scoped>\n",
              "    .dataframe tbody tr th:only-of-type {\n",
              "        vertical-align: middle;\n",
              "    }\n",
              "\n",
              "    .dataframe tbody tr th {\n",
              "        vertical-align: top;\n",
              "    }\n",
              "\n",
              "    .dataframe thead th {\n",
              "        text-align: right;\n",
              "    }\n",
              "</style>\n",
              "<table border=\"1\" class=\"dataframe\">\n",
              "  <thead>\n",
              "    <tr style=\"text-align: right;\">\n",
              "      <th></th>\n",
              "      <th>index</th>\n",
              "      <th>id</th>\n",
              "      <th>name</th>\n",
              "      <th>nationality</th>\n",
              "      <th>sex</th>\n",
              "      <th>dob</th>\n",
              "      <th>height</th>\n",
              "      <th>weight</th>\n",
              "      <th>sport</th>\n",
              "      <th>gold</th>\n",
              "      <th>silver</th>\n",
              "      <th>bronze</th>\n",
              "    </tr>\n",
              "  </thead>\n",
              "  <tbody>\n",
              "    <tr>\n",
              "      <th>0</th>\n",
              "      <td>0</td>\n",
              "      <td>736041664</td>\n",
              "      <td>A Jesus Garcia</td>\n",
              "      <td>ESP</td>\n",
              "      <td>male</td>\n",
              "      <td>10/17/69</td>\n",
              "      <td>1.72</td>\n",
              "      <td>64.0</td>\n",
              "      <td>athletics</td>\n",
              "      <td>0</td>\n",
              "      <td>0</td>\n",
              "      <td>0</td>\n",
              "    </tr>\n",
              "    <tr>\n",
              "      <th>1</th>\n",
              "      <td>1</td>\n",
              "      <td>532037425</td>\n",
              "      <td>A Lam Shin</td>\n",
              "      <td>KOR</td>\n",
              "      <td>female</td>\n",
              "      <td>9/23/86</td>\n",
              "      <td>1.68</td>\n",
              "      <td>56.0</td>\n",
              "      <td>fencing</td>\n",
              "      <td>0</td>\n",
              "      <td>0</td>\n",
              "      <td>0</td>\n",
              "    </tr>\n",
              "    <tr>\n",
              "      <th>2</th>\n",
              "      <td>2</td>\n",
              "      <td>435962603</td>\n",
              "      <td>Aaron Brown</td>\n",
              "      <td>CAN</td>\n",
              "      <td>male</td>\n",
              "      <td>5/27/92</td>\n",
              "      <td>1.98</td>\n",
              "      <td>79.0</td>\n",
              "      <td>athletics</td>\n",
              "      <td>0</td>\n",
              "      <td>0</td>\n",
              "      <td>1</td>\n",
              "    </tr>\n",
              "    <tr>\n",
              "      <th>3</th>\n",
              "      <td>3</td>\n",
              "      <td>521041435</td>\n",
              "      <td>Aaron Cook</td>\n",
              "      <td>MDA</td>\n",
              "      <td>male</td>\n",
              "      <td>1/2/91</td>\n",
              "      <td>1.83</td>\n",
              "      <td>80.0</td>\n",
              "      <td>taekwondo</td>\n",
              "      <td>0</td>\n",
              "      <td>0</td>\n",
              "      <td>0</td>\n",
              "    </tr>\n",
              "    <tr>\n",
              "      <th>4</th>\n",
              "      <td>4</td>\n",
              "      <td>33922579</td>\n",
              "      <td>Aaron Gate</td>\n",
              "      <td>NZL</td>\n",
              "      <td>male</td>\n",
              "      <td>11/26/90</td>\n",
              "      <td>1.81</td>\n",
              "      <td>71.0</td>\n",
              "      <td>cycling</td>\n",
              "      <td>0</td>\n",
              "      <td>0</td>\n",
              "      <td>0</td>\n",
              "    </tr>\n",
              "    <tr>\n",
              "      <th>...</th>\n",
              "      <td>...</td>\n",
              "      <td>...</td>\n",
              "      <td>...</td>\n",
              "      <td>...</td>\n",
              "      <td>...</td>\n",
              "      <td>...</td>\n",
              "      <td>...</td>\n",
              "      <td>...</td>\n",
              "      <td>...</td>\n",
              "      <td>...</td>\n",
              "      <td>...</td>\n",
              "      <td>...</td>\n",
              "    </tr>\n",
              "    <tr>\n",
              "      <th>11224</th>\n",
              "      <td>11533</td>\n",
              "      <td>265605954</td>\n",
              "      <td>Zurian Hechavarria</td>\n",
              "      <td>CUB</td>\n",
              "      <td>female</td>\n",
              "      <td>8/10/95</td>\n",
              "      <td>1.64</td>\n",
              "      <td>58.0</td>\n",
              "      <td>athletics</td>\n",
              "      <td>0</td>\n",
              "      <td>0</td>\n",
              "      <td>0</td>\n",
              "    </tr>\n",
              "    <tr>\n",
              "      <th>11225</th>\n",
              "      <td>11534</td>\n",
              "      <td>214461847</td>\n",
              "      <td>Zuzana Hejnova</td>\n",
              "      <td>CZE</td>\n",
              "      <td>female</td>\n",
              "      <td>12/19/86</td>\n",
              "      <td>1.73</td>\n",
              "      <td>63.0</td>\n",
              "      <td>athletics</td>\n",
              "      <td>0</td>\n",
              "      <td>0</td>\n",
              "      <td>0</td>\n",
              "    </tr>\n",
              "    <tr>\n",
              "      <th>11226</th>\n",
              "      <td>11535</td>\n",
              "      <td>88361042</td>\n",
              "      <td>di Xiao</td>\n",
              "      <td>CHN</td>\n",
              "      <td>male</td>\n",
              "      <td>5/14/91</td>\n",
              "      <td>1.85</td>\n",
              "      <td>100.0</td>\n",
              "      <td>wrestling</td>\n",
              "      <td>0</td>\n",
              "      <td>0</td>\n",
              "      <td>0</td>\n",
              "    </tr>\n",
              "    <tr>\n",
              "      <th>11227</th>\n",
              "      <td>11536</td>\n",
              "      <td>900065925</td>\n",
              "      <td>le Quoc Toan Tran</td>\n",
              "      <td>VIE</td>\n",
              "      <td>male</td>\n",
              "      <td>4/5/89</td>\n",
              "      <td>1.60</td>\n",
              "      <td>56.0</td>\n",
              "      <td>weightlifting</td>\n",
              "      <td>0</td>\n",
              "      <td>0</td>\n",
              "      <td>0</td>\n",
              "    </tr>\n",
              "    <tr>\n",
              "      <th>11228</th>\n",
              "      <td>11537</td>\n",
              "      <td>711404576</td>\n",
              "      <td>le Roux Hamman</td>\n",
              "      <td>RSA</td>\n",
              "      <td>male</td>\n",
              "      <td>1/6/92</td>\n",
              "      <td>1.85</td>\n",
              "      <td>70.0</td>\n",
              "      <td>athletics</td>\n",
              "      <td>0</td>\n",
              "      <td>0</td>\n",
              "      <td>0</td>\n",
              "    </tr>\n",
              "  </tbody>\n",
              "</table>\n",
              "<p>11229 rows × 12 columns</p>\n",
              "</div>\n",
              "      <button class=\"colab-df-convert\" onclick=\"convertToInteractive('df-fa3264f9-9927-4a7d-b662-7c4459d851c8')\"\n",
              "              title=\"Convert this dataframe to an interactive table.\"\n",
              "              style=\"display:none;\">\n",
              "        \n",
              "  <svg xmlns=\"http://www.w3.org/2000/svg\" height=\"24px\"viewBox=\"0 0 24 24\"\n",
              "       width=\"24px\">\n",
              "    <path d=\"M0 0h24v24H0V0z\" fill=\"none\"/>\n",
              "    <path d=\"M18.56 5.44l.94 2.06.94-2.06 2.06-.94-2.06-.94-.94-2.06-.94 2.06-2.06.94zm-11 1L8.5 8.5l.94-2.06 2.06-.94-2.06-.94L8.5 2.5l-.94 2.06-2.06.94zm10 10l.94 2.06.94-2.06 2.06-.94-2.06-.94-.94-2.06-.94 2.06-2.06.94z\"/><path d=\"M17.41 7.96l-1.37-1.37c-.4-.4-.92-.59-1.43-.59-.52 0-1.04.2-1.43.59L10.3 9.45l-7.72 7.72c-.78.78-.78 2.05 0 2.83L4 21.41c.39.39.9.59 1.41.59.51 0 1.02-.2 1.41-.59l7.78-7.78 2.81-2.81c.8-.78.8-2.07 0-2.86zM5.41 20L4 18.59l7.72-7.72 1.47 1.35L5.41 20z\"/>\n",
              "  </svg>\n",
              "      </button>\n",
              "      \n",
              "  <style>\n",
              "    .colab-df-container {\n",
              "      display:flex;\n",
              "      flex-wrap:wrap;\n",
              "      gap: 12px;\n",
              "    }\n",
              "\n",
              "    .colab-df-convert {\n",
              "      background-color: #E8F0FE;\n",
              "      border: none;\n",
              "      border-radius: 50%;\n",
              "      cursor: pointer;\n",
              "      display: none;\n",
              "      fill: #1967D2;\n",
              "      height: 32px;\n",
              "      padding: 0 0 0 0;\n",
              "      width: 32px;\n",
              "    }\n",
              "\n",
              "    .colab-df-convert:hover {\n",
              "      background-color: #E2EBFA;\n",
              "      box-shadow: 0px 1px 2px rgba(60, 64, 67, 0.3), 0px 1px 3px 1px rgba(60, 64, 67, 0.15);\n",
              "      fill: #174EA6;\n",
              "    }\n",
              "\n",
              "    [theme=dark] .colab-df-convert {\n",
              "      background-color: #3B4455;\n",
              "      fill: #D2E3FC;\n",
              "    }\n",
              "\n",
              "    [theme=dark] .colab-df-convert:hover {\n",
              "      background-color: #434B5C;\n",
              "      box-shadow: 0px 1px 3px 1px rgba(0, 0, 0, 0.15);\n",
              "      filter: drop-shadow(0px 1px 2px rgba(0, 0, 0, 0.3));\n",
              "      fill: #FFFFFF;\n",
              "    }\n",
              "  </style>\n",
              "\n",
              "      <script>\n",
              "        const buttonEl =\n",
              "          document.querySelector('#df-fa3264f9-9927-4a7d-b662-7c4459d851c8 button.colab-df-convert');\n",
              "        buttonEl.style.display =\n",
              "          google.colab.kernel.accessAllowed ? 'block' : 'none';\n",
              "\n",
              "        async function convertToInteractive(key) {\n",
              "          const element = document.querySelector('#df-fa3264f9-9927-4a7d-b662-7c4459d851c8');\n",
              "          const dataTable =\n",
              "            await google.colab.kernel.invokeFunction('convertToInteractive',\n",
              "                                                     [key], {});\n",
              "          if (!dataTable) return;\n",
              "\n",
              "          const docLinkHtml = 'Like what you see? Visit the ' +\n",
              "            '<a target=\"_blank\" href=https://colab.research.google.com/notebooks/data_table.ipynb>data table notebook</a>'\n",
              "            + ' to learn more about interactive tables.';\n",
              "          element.innerHTML = '';\n",
              "          dataTable['output_type'] = 'display_data';\n",
              "          await google.colab.output.renderOutput(dataTable, element);\n",
              "          const docLink = document.createElement('div');\n",
              "          docLink.innerHTML = docLinkHtml;\n",
              "          element.appendChild(docLink);\n",
              "        }\n",
              "      </script>\n",
              "    </div>\n",
              "  </div>\n",
              "  "
            ]
          },
          "metadata": {},
          "execution_count": 51
        }
      ]
    },
    {
      "cell_type": "markdown",
      "source": [
        "Посмотрим сколько спорстменов из 11229 имеют медали. Как мы видим из вывода ниже - всего 1865 участников имеют какую-либо медаль, что очень мало относительно целого датасета. Получается предсказывать наличие той или иной медали будет не корректно из-за неравномерного распределения данных по классам. Как вариант можно было бы взять только те строки по которым имеются медали. (Правильно?)"
      ],
      "metadata": {
        "id": "W4Y_40NyDvdU"
      }
    },
    {
      "cell_type": "code",
      "source": [
        "test_df.set_index('index',inplace=True)\n",
        "res = test_df[test_df==1].stack().reset_index().drop(0, axis=1)\n",
        "res"
      ],
      "metadata": {
        "colab": {
          "base_uri": "https://localhost:8080/",
          "height": 424
        },
        "id": "7SzMAMKS_RPZ",
        "outputId": "f5613d79-913c-42d2-a0d8-d5d5a3b60447"
      },
      "execution_count": 52,
      "outputs": [
        {
          "output_type": "execute_result",
          "data": {
            "text/plain": [
              "      index level_1\n",
              "0         2  bronze\n",
              "1         6  bronze\n",
              "2        14    gold\n",
              "3        14  silver\n",
              "4        48  silver\n",
              "...     ...     ...\n",
              "1860  11487    gold\n",
              "1861  11491  silver\n",
              "1862  11503    gold\n",
              "1863  11509  silver\n",
              "1864  11511  silver\n",
              "\n",
              "[1865 rows x 2 columns]"
            ],
            "text/html": [
              "\n",
              "  <div id=\"df-79fae0c1-7580-4bd4-87a5-a7f278807767\">\n",
              "    <div class=\"colab-df-container\">\n",
              "      <div>\n",
              "<style scoped>\n",
              "    .dataframe tbody tr th:only-of-type {\n",
              "        vertical-align: middle;\n",
              "    }\n",
              "\n",
              "    .dataframe tbody tr th {\n",
              "        vertical-align: top;\n",
              "    }\n",
              "\n",
              "    .dataframe thead th {\n",
              "        text-align: right;\n",
              "    }\n",
              "</style>\n",
              "<table border=\"1\" class=\"dataframe\">\n",
              "  <thead>\n",
              "    <tr style=\"text-align: right;\">\n",
              "      <th></th>\n",
              "      <th>index</th>\n",
              "      <th>level_1</th>\n",
              "    </tr>\n",
              "  </thead>\n",
              "  <tbody>\n",
              "    <tr>\n",
              "      <th>0</th>\n",
              "      <td>2</td>\n",
              "      <td>bronze</td>\n",
              "    </tr>\n",
              "    <tr>\n",
              "      <th>1</th>\n",
              "      <td>6</td>\n",
              "      <td>bronze</td>\n",
              "    </tr>\n",
              "    <tr>\n",
              "      <th>2</th>\n",
              "      <td>14</td>\n",
              "      <td>gold</td>\n",
              "    </tr>\n",
              "    <tr>\n",
              "      <th>3</th>\n",
              "      <td>14</td>\n",
              "      <td>silver</td>\n",
              "    </tr>\n",
              "    <tr>\n",
              "      <th>4</th>\n",
              "      <td>48</td>\n",
              "      <td>silver</td>\n",
              "    </tr>\n",
              "    <tr>\n",
              "      <th>...</th>\n",
              "      <td>...</td>\n",
              "      <td>...</td>\n",
              "    </tr>\n",
              "    <tr>\n",
              "      <th>1860</th>\n",
              "      <td>11487</td>\n",
              "      <td>gold</td>\n",
              "    </tr>\n",
              "    <tr>\n",
              "      <th>1861</th>\n",
              "      <td>11491</td>\n",
              "      <td>silver</td>\n",
              "    </tr>\n",
              "    <tr>\n",
              "      <th>1862</th>\n",
              "      <td>11503</td>\n",
              "      <td>gold</td>\n",
              "    </tr>\n",
              "    <tr>\n",
              "      <th>1863</th>\n",
              "      <td>11509</td>\n",
              "      <td>silver</td>\n",
              "    </tr>\n",
              "    <tr>\n",
              "      <th>1864</th>\n",
              "      <td>11511</td>\n",
              "      <td>silver</td>\n",
              "    </tr>\n",
              "  </tbody>\n",
              "</table>\n",
              "<p>1865 rows × 2 columns</p>\n",
              "</div>\n",
              "      <button class=\"colab-df-convert\" onclick=\"convertToInteractive('df-79fae0c1-7580-4bd4-87a5-a7f278807767')\"\n",
              "              title=\"Convert this dataframe to an interactive table.\"\n",
              "              style=\"display:none;\">\n",
              "        \n",
              "  <svg xmlns=\"http://www.w3.org/2000/svg\" height=\"24px\"viewBox=\"0 0 24 24\"\n",
              "       width=\"24px\">\n",
              "    <path d=\"M0 0h24v24H0V0z\" fill=\"none\"/>\n",
              "    <path d=\"M18.56 5.44l.94 2.06.94-2.06 2.06-.94-2.06-.94-.94-2.06-.94 2.06-2.06.94zm-11 1L8.5 8.5l.94-2.06 2.06-.94-2.06-.94L8.5 2.5l-.94 2.06-2.06.94zm10 10l.94 2.06.94-2.06 2.06-.94-2.06-.94-.94-2.06-.94 2.06-2.06.94z\"/><path d=\"M17.41 7.96l-1.37-1.37c-.4-.4-.92-.59-1.43-.59-.52 0-1.04.2-1.43.59L10.3 9.45l-7.72 7.72c-.78.78-.78 2.05 0 2.83L4 21.41c.39.39.9.59 1.41.59.51 0 1.02-.2 1.41-.59l7.78-7.78 2.81-2.81c.8-.78.8-2.07 0-2.86zM5.41 20L4 18.59l7.72-7.72 1.47 1.35L5.41 20z\"/>\n",
              "  </svg>\n",
              "      </button>\n",
              "      \n",
              "  <style>\n",
              "    .colab-df-container {\n",
              "      display:flex;\n",
              "      flex-wrap:wrap;\n",
              "      gap: 12px;\n",
              "    }\n",
              "\n",
              "    .colab-df-convert {\n",
              "      background-color: #E8F0FE;\n",
              "      border: none;\n",
              "      border-radius: 50%;\n",
              "      cursor: pointer;\n",
              "      display: none;\n",
              "      fill: #1967D2;\n",
              "      height: 32px;\n",
              "      padding: 0 0 0 0;\n",
              "      width: 32px;\n",
              "    }\n",
              "\n",
              "    .colab-df-convert:hover {\n",
              "      background-color: #E2EBFA;\n",
              "      box-shadow: 0px 1px 2px rgba(60, 64, 67, 0.3), 0px 1px 3px 1px rgba(60, 64, 67, 0.15);\n",
              "      fill: #174EA6;\n",
              "    }\n",
              "\n",
              "    [theme=dark] .colab-df-convert {\n",
              "      background-color: #3B4455;\n",
              "      fill: #D2E3FC;\n",
              "    }\n",
              "\n",
              "    [theme=dark] .colab-df-convert:hover {\n",
              "      background-color: #434B5C;\n",
              "      box-shadow: 0px 1px 3px 1px rgba(0, 0, 0, 0.15);\n",
              "      filter: drop-shadow(0px 1px 2px rgba(0, 0, 0, 0.3));\n",
              "      fill: #FFFFFF;\n",
              "    }\n",
              "  </style>\n",
              "\n",
              "      <script>\n",
              "        const buttonEl =\n",
              "          document.querySelector('#df-79fae0c1-7580-4bd4-87a5-a7f278807767 button.colab-df-convert');\n",
              "        buttonEl.style.display =\n",
              "          google.colab.kernel.accessAllowed ? 'block' : 'none';\n",
              "\n",
              "        async function convertToInteractive(key) {\n",
              "          const element = document.querySelector('#df-79fae0c1-7580-4bd4-87a5-a7f278807767');\n",
              "          const dataTable =\n",
              "            await google.colab.kernel.invokeFunction('convertToInteractive',\n",
              "                                                     [key], {});\n",
              "          if (!dataTable) return;\n",
              "\n",
              "          const docLinkHtml = 'Like what you see? Visit the ' +\n",
              "            '<a target=\"_blank\" href=https://colab.research.google.com/notebooks/data_table.ipynb>data table notebook</a>'\n",
              "            + ' to learn more about interactive tables.';\n",
              "          element.innerHTML = '';\n",
              "          dataTable['output_type'] = 'display_data';\n",
              "          await google.colab.output.renderOutput(dataTable, element);\n",
              "          const docLink = document.createElement('div');\n",
              "          docLink.innerHTML = docLinkHtml;\n",
              "          element.appendChild(docLink);\n",
              "        }\n",
              "      </script>\n",
              "    </div>\n",
              "  </div>\n",
              "  "
            ]
          },
          "metadata": {},
          "execution_count": 52
        }
      ]
    },
    {
      "cell_type": "code",
      "source": [
        "res[\"level_1\"].value_counts()"
      ],
      "metadata": {
        "colab": {
          "base_uri": "https://localhost:8080/"
        },
        "id": "DkITpLpnDyrb",
        "outputId": "8a4d0bec-6321-4851-ff2a-9bf399dd157c"
      },
      "execution_count": 53,
      "outputs": [
        {
          "output_type": "execute_result",
          "data": {
            "text/plain": [
              "bronze    675\n",
              "silver    609\n",
              "gold      581\n",
              "Name: level_1, dtype: int64"
            ]
          },
          "metadata": {},
          "execution_count": 53
        }
      ]
    },
    {
      "cell_type": "markdown",
      "source": [
        "Тогда будем предсказывать пол на основе веса и роста"
      ],
      "metadata": {
        "id": "OtDT0a8FFw7D"
      }
    },
    {
      "cell_type": "code",
      "source": [
        "sex_df = pd.get_dummies(almost_clean_data, columns=['sex'], drop_first=True)\n",
        "sex_df"
      ],
      "metadata": {
        "colab": {
          "base_uri": "https://localhost:8080/",
          "height": 424
        },
        "id": "T12MQ1d4D9sr",
        "outputId": "a599938f-61fe-48e7-aa23-d359a3ca7b35"
      },
      "execution_count": 54,
      "outputs": [
        {
          "output_type": "execute_result",
          "data": {
            "text/plain": [
              "       index         id                name nationality       dob  height  \\\n",
              "0          0  736041664      A Jesus Garcia         ESP  10/17/69    1.72   \n",
              "1          1  532037425          A Lam Shin         KOR   9/23/86    1.68   \n",
              "2          2  435962603         Aaron Brown         CAN   5/27/92    1.98   \n",
              "3          3  521041435          Aaron Cook         MDA    1/2/91    1.83   \n",
              "4          4   33922579          Aaron Gate         NZL  11/26/90    1.81   \n",
              "...      ...        ...                 ...         ...       ...     ...   \n",
              "11224  11533  265605954  Zurian Hechavarria         CUB   8/10/95    1.64   \n",
              "11225  11534  214461847      Zuzana Hejnova         CZE  12/19/86    1.73   \n",
              "11226  11535   88361042             di Xiao         CHN   5/14/91    1.85   \n",
              "11227  11536  900065925   le Quoc Toan Tran         VIE    4/5/89    1.60   \n",
              "11228  11537  711404576      le Roux Hamman         RSA    1/6/92    1.85   \n",
              "\n",
              "       weight          sport  gold  silver  bronze  sex_male  \n",
              "0        64.0      athletics     0       0       0         1  \n",
              "1        56.0        fencing     0       0       0         0  \n",
              "2        79.0      athletics     0       0       1         1  \n",
              "3        80.0      taekwondo     0       0       0         1  \n",
              "4        71.0        cycling     0       0       0         1  \n",
              "...       ...            ...   ...     ...     ...       ...  \n",
              "11224    58.0      athletics     0       0       0         0  \n",
              "11225    63.0      athletics     0       0       0         0  \n",
              "11226   100.0      wrestling     0       0       0         1  \n",
              "11227    56.0  weightlifting     0       0       0         1  \n",
              "11228    70.0      athletics     0       0       0         1  \n",
              "\n",
              "[11229 rows x 12 columns]"
            ],
            "text/html": [
              "\n",
              "  <div id=\"df-0abdbd36-4e38-4bac-928c-7252826ba811\">\n",
              "    <div class=\"colab-df-container\">\n",
              "      <div>\n",
              "<style scoped>\n",
              "    .dataframe tbody tr th:only-of-type {\n",
              "        vertical-align: middle;\n",
              "    }\n",
              "\n",
              "    .dataframe tbody tr th {\n",
              "        vertical-align: top;\n",
              "    }\n",
              "\n",
              "    .dataframe thead th {\n",
              "        text-align: right;\n",
              "    }\n",
              "</style>\n",
              "<table border=\"1\" class=\"dataframe\">\n",
              "  <thead>\n",
              "    <tr style=\"text-align: right;\">\n",
              "      <th></th>\n",
              "      <th>index</th>\n",
              "      <th>id</th>\n",
              "      <th>name</th>\n",
              "      <th>nationality</th>\n",
              "      <th>dob</th>\n",
              "      <th>height</th>\n",
              "      <th>weight</th>\n",
              "      <th>sport</th>\n",
              "      <th>gold</th>\n",
              "      <th>silver</th>\n",
              "      <th>bronze</th>\n",
              "      <th>sex_male</th>\n",
              "    </tr>\n",
              "  </thead>\n",
              "  <tbody>\n",
              "    <tr>\n",
              "      <th>0</th>\n",
              "      <td>0</td>\n",
              "      <td>736041664</td>\n",
              "      <td>A Jesus Garcia</td>\n",
              "      <td>ESP</td>\n",
              "      <td>10/17/69</td>\n",
              "      <td>1.72</td>\n",
              "      <td>64.0</td>\n",
              "      <td>athletics</td>\n",
              "      <td>0</td>\n",
              "      <td>0</td>\n",
              "      <td>0</td>\n",
              "      <td>1</td>\n",
              "    </tr>\n",
              "    <tr>\n",
              "      <th>1</th>\n",
              "      <td>1</td>\n",
              "      <td>532037425</td>\n",
              "      <td>A Lam Shin</td>\n",
              "      <td>KOR</td>\n",
              "      <td>9/23/86</td>\n",
              "      <td>1.68</td>\n",
              "      <td>56.0</td>\n",
              "      <td>fencing</td>\n",
              "      <td>0</td>\n",
              "      <td>0</td>\n",
              "      <td>0</td>\n",
              "      <td>0</td>\n",
              "    </tr>\n",
              "    <tr>\n",
              "      <th>2</th>\n",
              "      <td>2</td>\n",
              "      <td>435962603</td>\n",
              "      <td>Aaron Brown</td>\n",
              "      <td>CAN</td>\n",
              "      <td>5/27/92</td>\n",
              "      <td>1.98</td>\n",
              "      <td>79.0</td>\n",
              "      <td>athletics</td>\n",
              "      <td>0</td>\n",
              "      <td>0</td>\n",
              "      <td>1</td>\n",
              "      <td>1</td>\n",
              "    </tr>\n",
              "    <tr>\n",
              "      <th>3</th>\n",
              "      <td>3</td>\n",
              "      <td>521041435</td>\n",
              "      <td>Aaron Cook</td>\n",
              "      <td>MDA</td>\n",
              "      <td>1/2/91</td>\n",
              "      <td>1.83</td>\n",
              "      <td>80.0</td>\n",
              "      <td>taekwondo</td>\n",
              "      <td>0</td>\n",
              "      <td>0</td>\n",
              "      <td>0</td>\n",
              "      <td>1</td>\n",
              "    </tr>\n",
              "    <tr>\n",
              "      <th>4</th>\n",
              "      <td>4</td>\n",
              "      <td>33922579</td>\n",
              "      <td>Aaron Gate</td>\n",
              "      <td>NZL</td>\n",
              "      <td>11/26/90</td>\n",
              "      <td>1.81</td>\n",
              "      <td>71.0</td>\n",
              "      <td>cycling</td>\n",
              "      <td>0</td>\n",
              "      <td>0</td>\n",
              "      <td>0</td>\n",
              "      <td>1</td>\n",
              "    </tr>\n",
              "    <tr>\n",
              "      <th>...</th>\n",
              "      <td>...</td>\n",
              "      <td>...</td>\n",
              "      <td>...</td>\n",
              "      <td>...</td>\n",
              "      <td>...</td>\n",
              "      <td>...</td>\n",
              "      <td>...</td>\n",
              "      <td>...</td>\n",
              "      <td>...</td>\n",
              "      <td>...</td>\n",
              "      <td>...</td>\n",
              "      <td>...</td>\n",
              "    </tr>\n",
              "    <tr>\n",
              "      <th>11224</th>\n",
              "      <td>11533</td>\n",
              "      <td>265605954</td>\n",
              "      <td>Zurian Hechavarria</td>\n",
              "      <td>CUB</td>\n",
              "      <td>8/10/95</td>\n",
              "      <td>1.64</td>\n",
              "      <td>58.0</td>\n",
              "      <td>athletics</td>\n",
              "      <td>0</td>\n",
              "      <td>0</td>\n",
              "      <td>0</td>\n",
              "      <td>0</td>\n",
              "    </tr>\n",
              "    <tr>\n",
              "      <th>11225</th>\n",
              "      <td>11534</td>\n",
              "      <td>214461847</td>\n",
              "      <td>Zuzana Hejnova</td>\n",
              "      <td>CZE</td>\n",
              "      <td>12/19/86</td>\n",
              "      <td>1.73</td>\n",
              "      <td>63.0</td>\n",
              "      <td>athletics</td>\n",
              "      <td>0</td>\n",
              "      <td>0</td>\n",
              "      <td>0</td>\n",
              "      <td>0</td>\n",
              "    </tr>\n",
              "    <tr>\n",
              "      <th>11226</th>\n",
              "      <td>11535</td>\n",
              "      <td>88361042</td>\n",
              "      <td>di Xiao</td>\n",
              "      <td>CHN</td>\n",
              "      <td>5/14/91</td>\n",
              "      <td>1.85</td>\n",
              "      <td>100.0</td>\n",
              "      <td>wrestling</td>\n",
              "      <td>0</td>\n",
              "      <td>0</td>\n",
              "      <td>0</td>\n",
              "      <td>1</td>\n",
              "    </tr>\n",
              "    <tr>\n",
              "      <th>11227</th>\n",
              "      <td>11536</td>\n",
              "      <td>900065925</td>\n",
              "      <td>le Quoc Toan Tran</td>\n",
              "      <td>VIE</td>\n",
              "      <td>4/5/89</td>\n",
              "      <td>1.60</td>\n",
              "      <td>56.0</td>\n",
              "      <td>weightlifting</td>\n",
              "      <td>0</td>\n",
              "      <td>0</td>\n",
              "      <td>0</td>\n",
              "      <td>1</td>\n",
              "    </tr>\n",
              "    <tr>\n",
              "      <th>11228</th>\n",
              "      <td>11537</td>\n",
              "      <td>711404576</td>\n",
              "      <td>le Roux Hamman</td>\n",
              "      <td>RSA</td>\n",
              "      <td>1/6/92</td>\n",
              "      <td>1.85</td>\n",
              "      <td>70.0</td>\n",
              "      <td>athletics</td>\n",
              "      <td>0</td>\n",
              "      <td>0</td>\n",
              "      <td>0</td>\n",
              "      <td>1</td>\n",
              "    </tr>\n",
              "  </tbody>\n",
              "</table>\n",
              "<p>11229 rows × 12 columns</p>\n",
              "</div>\n",
              "      <button class=\"colab-df-convert\" onclick=\"convertToInteractive('df-0abdbd36-4e38-4bac-928c-7252826ba811')\"\n",
              "              title=\"Convert this dataframe to an interactive table.\"\n",
              "              style=\"display:none;\">\n",
              "        \n",
              "  <svg xmlns=\"http://www.w3.org/2000/svg\" height=\"24px\"viewBox=\"0 0 24 24\"\n",
              "       width=\"24px\">\n",
              "    <path d=\"M0 0h24v24H0V0z\" fill=\"none\"/>\n",
              "    <path d=\"M18.56 5.44l.94 2.06.94-2.06 2.06-.94-2.06-.94-.94-2.06-.94 2.06-2.06.94zm-11 1L8.5 8.5l.94-2.06 2.06-.94-2.06-.94L8.5 2.5l-.94 2.06-2.06.94zm10 10l.94 2.06.94-2.06 2.06-.94-2.06-.94-.94-2.06-.94 2.06-2.06.94z\"/><path d=\"M17.41 7.96l-1.37-1.37c-.4-.4-.92-.59-1.43-.59-.52 0-1.04.2-1.43.59L10.3 9.45l-7.72 7.72c-.78.78-.78 2.05 0 2.83L4 21.41c.39.39.9.59 1.41.59.51 0 1.02-.2 1.41-.59l7.78-7.78 2.81-2.81c.8-.78.8-2.07 0-2.86zM5.41 20L4 18.59l7.72-7.72 1.47 1.35L5.41 20z\"/>\n",
              "  </svg>\n",
              "      </button>\n",
              "      \n",
              "  <style>\n",
              "    .colab-df-container {\n",
              "      display:flex;\n",
              "      flex-wrap:wrap;\n",
              "      gap: 12px;\n",
              "    }\n",
              "\n",
              "    .colab-df-convert {\n",
              "      background-color: #E8F0FE;\n",
              "      border: none;\n",
              "      border-radius: 50%;\n",
              "      cursor: pointer;\n",
              "      display: none;\n",
              "      fill: #1967D2;\n",
              "      height: 32px;\n",
              "      padding: 0 0 0 0;\n",
              "      width: 32px;\n",
              "    }\n",
              "\n",
              "    .colab-df-convert:hover {\n",
              "      background-color: #E2EBFA;\n",
              "      box-shadow: 0px 1px 2px rgba(60, 64, 67, 0.3), 0px 1px 3px 1px rgba(60, 64, 67, 0.15);\n",
              "      fill: #174EA6;\n",
              "    }\n",
              "\n",
              "    [theme=dark] .colab-df-convert {\n",
              "      background-color: #3B4455;\n",
              "      fill: #D2E3FC;\n",
              "    }\n",
              "\n",
              "    [theme=dark] .colab-df-convert:hover {\n",
              "      background-color: #434B5C;\n",
              "      box-shadow: 0px 1px 3px 1px rgba(0, 0, 0, 0.15);\n",
              "      filter: drop-shadow(0px 1px 2px rgba(0, 0, 0, 0.3));\n",
              "      fill: #FFFFFF;\n",
              "    }\n",
              "  </style>\n",
              "\n",
              "      <script>\n",
              "        const buttonEl =\n",
              "          document.querySelector('#df-0abdbd36-4e38-4bac-928c-7252826ba811 button.colab-df-convert');\n",
              "        buttonEl.style.display =\n",
              "          google.colab.kernel.accessAllowed ? 'block' : 'none';\n",
              "\n",
              "        async function convertToInteractive(key) {\n",
              "          const element = document.querySelector('#df-0abdbd36-4e38-4bac-928c-7252826ba811');\n",
              "          const dataTable =\n",
              "            await google.colab.kernel.invokeFunction('convertToInteractive',\n",
              "                                                     [key], {});\n",
              "          if (!dataTable) return;\n",
              "\n",
              "          const docLinkHtml = 'Like what you see? Visit the ' +\n",
              "            '<a target=\"_blank\" href=https://colab.research.google.com/notebooks/data_table.ipynb>data table notebook</a>'\n",
              "            + ' to learn more about interactive tables.';\n",
              "          element.innerHTML = '';\n",
              "          dataTable['output_type'] = 'display_data';\n",
              "          await google.colab.output.renderOutput(dataTable, element);\n",
              "          const docLink = document.createElement('div');\n",
              "          docLink.innerHTML = docLinkHtml;\n",
              "          element.appendChild(docLink);\n",
              "        }\n",
              "      </script>\n",
              "    </div>\n",
              "  </div>\n",
              "  "
            ]
          },
          "metadata": {},
          "execution_count": 54
        }
      ]
    },
    {
      "cell_type": "code",
      "source": [
        "X = sex_df[[\"height\", \"weight\"]]\n",
        "X"
      ],
      "metadata": {
        "colab": {
          "base_uri": "https://localhost:8080/",
          "height": 424
        },
        "id": "CAia8i1zD9xb",
        "outputId": "ce99e1e9-0487-4e12-95bc-598291438720"
      },
      "execution_count": 55,
      "outputs": [
        {
          "output_type": "execute_result",
          "data": {
            "text/plain": [
              "       height  weight\n",
              "0        1.72    64.0\n",
              "1        1.68    56.0\n",
              "2        1.98    79.0\n",
              "3        1.83    80.0\n",
              "4        1.81    71.0\n",
              "...       ...     ...\n",
              "11224    1.64    58.0\n",
              "11225    1.73    63.0\n",
              "11226    1.85   100.0\n",
              "11227    1.60    56.0\n",
              "11228    1.85    70.0\n",
              "\n",
              "[11229 rows x 2 columns]"
            ],
            "text/html": [
              "\n",
              "  <div id=\"df-90f34ec8-f2b5-432a-85d0-39ce6742ca8e\">\n",
              "    <div class=\"colab-df-container\">\n",
              "      <div>\n",
              "<style scoped>\n",
              "    .dataframe tbody tr th:only-of-type {\n",
              "        vertical-align: middle;\n",
              "    }\n",
              "\n",
              "    .dataframe tbody tr th {\n",
              "        vertical-align: top;\n",
              "    }\n",
              "\n",
              "    .dataframe thead th {\n",
              "        text-align: right;\n",
              "    }\n",
              "</style>\n",
              "<table border=\"1\" class=\"dataframe\">\n",
              "  <thead>\n",
              "    <tr style=\"text-align: right;\">\n",
              "      <th></th>\n",
              "      <th>height</th>\n",
              "      <th>weight</th>\n",
              "    </tr>\n",
              "  </thead>\n",
              "  <tbody>\n",
              "    <tr>\n",
              "      <th>0</th>\n",
              "      <td>1.72</td>\n",
              "      <td>64.0</td>\n",
              "    </tr>\n",
              "    <tr>\n",
              "      <th>1</th>\n",
              "      <td>1.68</td>\n",
              "      <td>56.0</td>\n",
              "    </tr>\n",
              "    <tr>\n",
              "      <th>2</th>\n",
              "      <td>1.98</td>\n",
              "      <td>79.0</td>\n",
              "    </tr>\n",
              "    <tr>\n",
              "      <th>3</th>\n",
              "      <td>1.83</td>\n",
              "      <td>80.0</td>\n",
              "    </tr>\n",
              "    <tr>\n",
              "      <th>4</th>\n",
              "      <td>1.81</td>\n",
              "      <td>71.0</td>\n",
              "    </tr>\n",
              "    <tr>\n",
              "      <th>...</th>\n",
              "      <td>...</td>\n",
              "      <td>...</td>\n",
              "    </tr>\n",
              "    <tr>\n",
              "      <th>11224</th>\n",
              "      <td>1.64</td>\n",
              "      <td>58.0</td>\n",
              "    </tr>\n",
              "    <tr>\n",
              "      <th>11225</th>\n",
              "      <td>1.73</td>\n",
              "      <td>63.0</td>\n",
              "    </tr>\n",
              "    <tr>\n",
              "      <th>11226</th>\n",
              "      <td>1.85</td>\n",
              "      <td>100.0</td>\n",
              "    </tr>\n",
              "    <tr>\n",
              "      <th>11227</th>\n",
              "      <td>1.60</td>\n",
              "      <td>56.0</td>\n",
              "    </tr>\n",
              "    <tr>\n",
              "      <th>11228</th>\n",
              "      <td>1.85</td>\n",
              "      <td>70.0</td>\n",
              "    </tr>\n",
              "  </tbody>\n",
              "</table>\n",
              "<p>11229 rows × 2 columns</p>\n",
              "</div>\n",
              "      <button class=\"colab-df-convert\" onclick=\"convertToInteractive('df-90f34ec8-f2b5-432a-85d0-39ce6742ca8e')\"\n",
              "              title=\"Convert this dataframe to an interactive table.\"\n",
              "              style=\"display:none;\">\n",
              "        \n",
              "  <svg xmlns=\"http://www.w3.org/2000/svg\" height=\"24px\"viewBox=\"0 0 24 24\"\n",
              "       width=\"24px\">\n",
              "    <path d=\"M0 0h24v24H0V0z\" fill=\"none\"/>\n",
              "    <path d=\"M18.56 5.44l.94 2.06.94-2.06 2.06-.94-2.06-.94-.94-2.06-.94 2.06-2.06.94zm-11 1L8.5 8.5l.94-2.06 2.06-.94-2.06-.94L8.5 2.5l-.94 2.06-2.06.94zm10 10l.94 2.06.94-2.06 2.06-.94-2.06-.94-.94-2.06-.94 2.06-2.06.94z\"/><path d=\"M17.41 7.96l-1.37-1.37c-.4-.4-.92-.59-1.43-.59-.52 0-1.04.2-1.43.59L10.3 9.45l-7.72 7.72c-.78.78-.78 2.05 0 2.83L4 21.41c.39.39.9.59 1.41.59.51 0 1.02-.2 1.41-.59l7.78-7.78 2.81-2.81c.8-.78.8-2.07 0-2.86zM5.41 20L4 18.59l7.72-7.72 1.47 1.35L5.41 20z\"/>\n",
              "  </svg>\n",
              "      </button>\n",
              "      \n",
              "  <style>\n",
              "    .colab-df-container {\n",
              "      display:flex;\n",
              "      flex-wrap:wrap;\n",
              "      gap: 12px;\n",
              "    }\n",
              "\n",
              "    .colab-df-convert {\n",
              "      background-color: #E8F0FE;\n",
              "      border: none;\n",
              "      border-radius: 50%;\n",
              "      cursor: pointer;\n",
              "      display: none;\n",
              "      fill: #1967D2;\n",
              "      height: 32px;\n",
              "      padding: 0 0 0 0;\n",
              "      width: 32px;\n",
              "    }\n",
              "\n",
              "    .colab-df-convert:hover {\n",
              "      background-color: #E2EBFA;\n",
              "      box-shadow: 0px 1px 2px rgba(60, 64, 67, 0.3), 0px 1px 3px 1px rgba(60, 64, 67, 0.15);\n",
              "      fill: #174EA6;\n",
              "    }\n",
              "\n",
              "    [theme=dark] .colab-df-convert {\n",
              "      background-color: #3B4455;\n",
              "      fill: #D2E3FC;\n",
              "    }\n",
              "\n",
              "    [theme=dark] .colab-df-convert:hover {\n",
              "      background-color: #434B5C;\n",
              "      box-shadow: 0px 1px 3px 1px rgba(0, 0, 0, 0.15);\n",
              "      filter: drop-shadow(0px 1px 2px rgba(0, 0, 0, 0.3));\n",
              "      fill: #FFFFFF;\n",
              "    }\n",
              "  </style>\n",
              "\n",
              "      <script>\n",
              "        const buttonEl =\n",
              "          document.querySelector('#df-90f34ec8-f2b5-432a-85d0-39ce6742ca8e button.colab-df-convert');\n",
              "        buttonEl.style.display =\n",
              "          google.colab.kernel.accessAllowed ? 'block' : 'none';\n",
              "\n",
              "        async function convertToInteractive(key) {\n",
              "          const element = document.querySelector('#df-90f34ec8-f2b5-432a-85d0-39ce6742ca8e');\n",
              "          const dataTable =\n",
              "            await google.colab.kernel.invokeFunction('convertToInteractive',\n",
              "                                                     [key], {});\n",
              "          if (!dataTable) return;\n",
              "\n",
              "          const docLinkHtml = 'Like what you see? Visit the ' +\n",
              "            '<a target=\"_blank\" href=https://colab.research.google.com/notebooks/data_table.ipynb>data table notebook</a>'\n",
              "            + ' to learn more about interactive tables.';\n",
              "          element.innerHTML = '';\n",
              "          dataTable['output_type'] = 'display_data';\n",
              "          await google.colab.output.renderOutput(dataTable, element);\n",
              "          const docLink = document.createElement('div');\n",
              "          docLink.innerHTML = docLinkHtml;\n",
              "          element.appendChild(docLink);\n",
              "        }\n",
              "      </script>\n",
              "    </div>\n",
              "  </div>\n",
              "  "
            ]
          },
          "metadata": {},
          "execution_count": 55
        }
      ]
    },
    {
      "cell_type": "code",
      "source": [
        "Y = sex_df[\"sex_male\"]\n",
        "Y"
      ],
      "metadata": {
        "colab": {
          "base_uri": "https://localhost:8080/"
        },
        "id": "oC8awzyhFvXE",
        "outputId": "98c7d8ad-2d87-4e1f-efaa-b1be514098cf"
      },
      "execution_count": 56,
      "outputs": [
        {
          "output_type": "execute_result",
          "data": {
            "text/plain": [
              "0        1\n",
              "1        0\n",
              "2        1\n",
              "3        1\n",
              "4        1\n",
              "        ..\n",
              "11224    0\n",
              "11225    0\n",
              "11226    1\n",
              "11227    1\n",
              "11228    1\n",
              "Name: sex_male, Length: 11229, dtype: uint8"
            ]
          },
          "metadata": {},
          "execution_count": 56
        }
      ]
    },
    {
      "cell_type": "markdown",
      "source": [
        "##### Вычисление метрок через библиотеки"
      ],
      "metadata": {
        "id": "5160Aj3MIStD"
      }
    },
    {
      "cell_type": "markdown",
      "source": [
        "Разделим датасет так что 80% - обучающая выборка, 20% - тестовая"
      ],
      "metadata": {
        "id": "uvvmV8ZtcrC-"
      }
    },
    {
      "cell_type": "code",
      "source": [
        "from sklearn.model_selection import train_test_split\n",
        "\n",
        "X_train, X_test, Y_train, Y_test = train_test_split(X, Y, test_size=0.2)"
      ],
      "metadata": {
        "id": "bdDE1qTsFvZd"
      },
      "execution_count": 57,
      "outputs": []
    },
    {
      "cell_type": "markdown",
      "source": [
        "Обучим логистическую регрессию"
      ],
      "metadata": {
        "id": "LTNofHJ3c1Qu"
      }
    },
    {
      "cell_type": "code",
      "source": [
        "from sklearn.linear_model import LogisticRegression\n",
        "\n",
        "model = LogisticRegression()\n",
        "model.fit(X_train, Y_train)"
      ],
      "metadata": {
        "colab": {
          "base_uri": "https://localhost:8080/"
        },
        "id": "CsVwPsJsFvb0",
        "outputId": "9ca71717-d626-4618-9abd-b79199f84739"
      },
      "execution_count": 58,
      "outputs": [
        {
          "output_type": "execute_result",
          "data": {
            "text/plain": [
              "LogisticRegression()"
            ]
          },
          "metadata": {},
          "execution_count": 58
        }
      ]
    },
    {
      "cell_type": "code",
      "source": [
        "predictions = model.predict_proba(X_test)"
      ],
      "metadata": {
        "id": "53KokT46HTl7"
      },
      "execution_count": 59,
      "outputs": []
    },
    {
      "cell_type": "markdown",
      "source": [
        "Просчитаем значения для ROC кривой"
      ],
      "metadata": {
        "id": "A94SLGHdc9E-"
      }
    },
    {
      "cell_type": "code",
      "source": [
        "from sklearn.metrics import roc_curve\n",
        "from sklearn.metrics import roc_auc_score\n",
        "\n",
        "fpr, tpr, roc_thres = roc_curve(Y_test, predictions[:, 1])"
      ],
      "metadata": {
        "id": "uDcJ--1RFvd6"
      },
      "execution_count": 60,
      "outputs": []
    },
    {
      "cell_type": "code",
      "source": [
        "list(zip(fpr, tpr))[:5]"
      ],
      "metadata": {
        "colab": {
          "base_uri": "https://localhost:8080/"
        },
        "id": "YrCdObyxKWqJ",
        "outputId": "870318dd-7889-4165-ca60-fdb9c01adc0e"
      },
      "execution_count": 61,
      "outputs": [
        {
          "output_type": "execute_result",
          "data": {
            "text/plain": [
              "[(0.0, 0.0),\n",
              " (0.0, 0.0008210180623973727),\n",
              " (0.0, 0.009852216748768473),\n",
              " (0.0009727626459143969, 0.009852216748768473),\n",
              " (0.0009727626459143969, 0.011494252873563218)]"
            ]
          },
          "metadata": {},
          "execution_count": 61
        }
      ]
    },
    {
      "cell_type": "markdown",
      "source": [
        "Построим график ROC кривой. По нему видно что мы имеем хорошую выпуклость. ROC кривая не слишком близка к диагонали."
      ],
      "metadata": {
        "id": "KplHE12AfAXV"
      }
    },
    {
      "cell_type": "code",
      "source": [
        "from matplotlib import pyplot as plt\n",
        "\n",
        "plt.plot(fpr, tpr)\n",
        "plt.plot([0, 1], [0, 1], ls=\"--\", c=\".3\")\n",
        "\n",
        "plt.xlabel('False Positive Rate')\n",
        "plt.ylabel('True Positive Rate')\n",
        "\n",
        "plt.show()"
      ],
      "metadata": {
        "colab": {
          "base_uri": "https://localhost:8080/",
          "height": 279
        },
        "id": "N1Z1aCZ4FvgD",
        "outputId": "af2ab6be-6813-4277-c4e4-fe2f20498ce4"
      },
      "execution_count": 62,
      "outputs": [
        {
          "output_type": "display_data",
          "data": {
            "text/plain": [
              "<Figure size 432x288 with 1 Axes>"
            ],
            "image/png": "[encoded data removed]"
          },
          "metadata": {
            "needs_background": "light"
          }
        }
      ]
    },
    {
      "cell_type": "markdown",
      "source": [
        "Посчитаем метрику. 0.84 результат для обучающего датасета вполне хорош"
      ],
      "metadata": {
        "id": "vCRxtt8HfOe8"
      }
    },
    {
      "cell_type": "code",
      "source": [
        "roc_auc_score(Y_test, predictions[:, 1])"
      ],
      "metadata": {
        "colab": {
          "base_uri": "https://localhost:8080/"
        },
        "id": "3xqP9PTUFviK",
        "outputId": "e7b77df5-9d8e-4afa-8a39-47284c8f3494"
      },
      "execution_count": 63,
      "outputs": [
        {
          "output_type": "execute_result",
          "data": {
            "text/plain": [
              "0.8447808648482873"
            ]
          },
          "metadata": {},
          "execution_count": 63
        }
      ]
    },
    {
      "cell_type": "markdown",
      "source": [
        "##### Вычисление метрок вручную"
      ],
      "metadata": {
        "id": "1lovfGqAIbp6"
      }
    },
    {
      "cell_type": "markdown",
      "source": [
        "Сделаем метод для расчета значений ROC кривой."
      ],
      "metadata": {
        "id": "FcDgjr8ufcTM"
      }
    },
    {
      "cell_type": "code",
      "source": [
        "import numpy as np\n",
        "\n",
        "def my_roc_curve(Y, Y_prob, thresholds):\n",
        "    fpr, tpr = [], []\n",
        "\n",
        "    for threshold in thresholds:\n",
        "        Y_pred = np.where(Y_prob >= threshold, 1, 0)\n",
        "\n",
        "        fp = np.sum((Y_pred == 1) & (Y == 0))\n",
        "        tp = np.sum((Y_pred == 1) & (Y == 1))\n",
        "        fn = np.sum((Y_pred == 0) & (Y == 1))\n",
        "        tn = np.sum((Y_pred == 0) & (Y == 0))\n",
        "\n",
        "        fpr.append(fp / (fp + tn))\n",
        "        tpr.append(tp / (tp + fn))\n",
        "\n",
        "    return [fpr, tpr]"
      ],
      "metadata": {
        "id": "In5WkZmyHoDy"
      },
      "execution_count": 64,
      "outputs": []
    },
    {
      "cell_type": "markdown",
      "source": [
        "Проведем расчет и сравним результаты вывода первых 5 значений fpr и tpr между расчетом произведенным sklearn и ручным расчетом. Видим что значения идентичны."
      ],
      "metadata": {
        "id": "P47ZZ6GSfba9"
      }
    },
    {
      "cell_type": "code",
      "source": [
        "ans = my_roc_curve(Y_test, predictions[:, 1], roc_thres)"
      ],
      "metadata": {
        "id": "-1GjjbakHoGa"
      },
      "execution_count": 65,
      "outputs": []
    },
    {
      "cell_type": "code",
      "source": [
        "list(zip(ans[0], ans[1]))[:5]"
      ],
      "metadata": {
        "colab": {
          "base_uri": "https://localhost:8080/"
        },
        "id": "6SVGKUCMHoJD",
        "outputId": "1487605c-63f8-4153-8816-96a42ef01486"
      },
      "execution_count": 66,
      "outputs": [
        {
          "output_type": "execute_result",
          "data": {
            "text/plain": [
              "[(0.0, 0.0),\n",
              " (0.0, 0.0008210180623973727),\n",
              " (0.0, 0.009852216748768473),\n",
              " (0.0009727626459143969, 0.009852216748768473),\n",
              " (0.0009727626459143969, 0.011494252873563218)]"
            ]
          },
          "metadata": {},
          "execution_count": 66
        }
      ]
    },
    {
      "cell_type": "markdown",
      "source": [
        "Можно построить график ROC кривой на своих данных и визуально заметить что графики похожи. Давайте построим обе кривые на одном графике и посмотрим на них."
      ],
      "metadata": {
        "id": "SAlgCCwyf8U8"
      }
    },
    {
      "cell_type": "code",
      "source": [
        "plt.plot(ans[0], ans[1])\n",
        "plt.plot([0, 1], [0, 1], ls=\"--\", c=\".3\")\n",
        "\n",
        "plt.xlabel('False Positive Rate')\n",
        "plt.ylabel('True Positive Rate')\n",
        "\n",
        "plt.show()"
      ],
      "metadata": {
        "colab": {
          "base_uri": "https://localhost:8080/",
          "height": 279
        },
        "id": "LACAHkw6HoLL",
        "outputId": "28de7525-f9d5-4f2b-ca76-23018047a3b3"
      },
      "execution_count": 67,
      "outputs": [
        {
          "output_type": "display_data",
          "data": {
            "text/plain": [
              "<Figure size 432x288 with 1 Axes>"
            ],
            "image/png": "[encoded data removed]"
          },
          "metadata": {
            "needs_background": "light"
          }
        }
      ]
    },
    {
      "cell_type": "markdown",
      "source": [
        "Видно что графики покрывают друг друга => они идентичны. Значит наш расчет верный."
      ],
      "metadata": {
        "id": "hPq5tsgkgLtd"
      }
    },
    {
      "cell_type": "code",
      "source": [
        "plt.plot(fpr, tpr, label='Sklearn')\n",
        "plt.plot(ans[0], ans[1], label='Manually')\n",
        "plt.plot([0, 1], [0, 1], ls=\"--\", c=\".3\")\n",
        "\n",
        "plt.xlabel('False Positive Rate')\n",
        "plt.ylabel('True Positive Rate')\n",
        "\n",
        "plt.legend(loc=0)\n",
        "plt.show()"
      ],
      "metadata": {
        "colab": {
          "base_uri": "https://localhost:8080/",
          "height": 279
        },
        "id": "XNUPv6gR5P9X",
        "outputId": "b51a9ed3-fbcb-4d76-8484-1d115c8574ab"
      },
      "execution_count": 68,
      "outputs": [
        {
          "output_type": "display_data",
          "data": {
            "text/plain": [
              "<Figure size 432x288 with 1 Axes>"
            ],
            "image/png": "[encoded data removed]"
          },
          "metadata": {
            "needs_background": "light"
          }
        }
      ]
    },
    {
      "cell_type": "markdown",
      "source": [
        "Посчитаем precision_recall кривую с помощью sklearn"
      ],
      "metadata": {
        "id": "Wk9a9_0xgXUc"
      }
    },
    {
      "cell_type": "code",
      "source": [
        "from sklearn.metrics import precision_recall_curve\n",
        "\n",
        "pr, re, thres = precision_recall_curve(Y_test, predictions[:, 1])"
      ],
      "metadata": {
        "id": "COSnn6xmRlRf"
      },
      "execution_count": 69,
      "outputs": []
    },
    {
      "cell_type": "code",
      "source": [
        "list(zip(pr, re))[:5]"
      ],
      "metadata": {
        "colab": {
          "base_uri": "https://localhost:8080/"
        },
        "id": "zWl__l_FRlUI",
        "outputId": "e1de5322-f2b8-447c-b7ca-8a24bced77e9"
      },
      "execution_count": 70,
      "outputs": [
        {
          "output_type": "execute_result",
          "data": {
            "text/plain": [
              "[(0.5569272976680384, 1.0),\n",
              " (0.5567246111619396, 0.9991789819376026),\n",
              " (0.5572344322344323, 0.9991789819376026),\n",
              " (0.5574896930829134, 0.9991789819376026),\n",
              " (0.5577451879010082, 0.9991789819376026)]"
            ]
          },
          "metadata": {},
          "execution_count": 70
        }
      ]
    },
    {
      "cell_type": "markdown",
      "source": [
        "Сделаем собственную функцию для расчета значений precision_recall кривой"
      ],
      "metadata": {
        "id": "mZXa6n2mgg12"
      }
    },
    {
      "cell_type": "code",
      "source": [
        "def my_precision_recall_curve(Y, Y_prob, thresholds):\n",
        "    precision, recall = [], []\n",
        "\n",
        "    for threshold in thresholds:\n",
        "        Y_pred = np.where(Y_prob >= threshold, 1, 0)\n",
        "\n",
        "        fp = np.sum((Y_pred == 1) & (Y == 0))\n",
        "        tp = np.sum((Y_pred == 1) & (Y == 1))\n",
        "        fn = np.sum((Y_pred == 0) & (Y == 1))\n",
        "\n",
        "        precision.append(tp / (tp + fp))\n",
        "        recall.append(tp / (tp + fn))\n",
        "\n",
        "    return [precision, recall]"
      ],
      "metadata": {
        "id": "WHof1t2p5Kg2"
      },
      "execution_count": 71,
      "outputs": []
    },
    {
      "cell_type": "code",
      "source": [
        "precision, recall = my_precision_recall_curve(Y_test, predictions[:, 1], thres) "
      ],
      "metadata": {
        "id": "61ggRJcv5KjO"
      },
      "execution_count": 72,
      "outputs": []
    },
    {
      "cell_type": "markdown",
      "source": [
        "По результатам расчетов видно что первые 5 значений идентичны. Давайте построим график"
      ],
      "metadata": {
        "id": "LMRSoyjVgpv1"
      }
    },
    {
      "cell_type": "code",
      "source": [
        "list(zip(precision, recall))[:5]"
      ],
      "metadata": {
        "colab": {
          "base_uri": "https://localhost:8080/"
        },
        "id": "z7GLEHhFWEHW",
        "outputId": "54ba9b28-aad7-43c7-ca99-9f9d0b7b614c"
      },
      "execution_count": 73,
      "outputs": [
        {
          "output_type": "execute_result",
          "data": {
            "text/plain": [
              "[(0.5569272976680384, 1.0),\n",
              " (0.5567246111619396, 0.9991789819376026),\n",
              " (0.5572344322344323, 0.9991789819376026),\n",
              " (0.5574896930829134, 0.9991789819376026),\n",
              " (0.5577451879010082, 0.9991789819376026)]"
            ]
          },
          "metadata": {},
          "execution_count": 73
        }
      ]
    },
    {
      "cell_type": "markdown",
      "source": [
        "Также как и в предыдущем примере наши графики полностью совпали, что хорошо. На этом графике мы видим зависимость точности от полноты."
      ],
      "metadata": {
        "id": "9z3u62uDgzQl"
      }
    },
    {
      "cell_type": "code",
      "source": [
        "plt.plot(pr, re, label='Sklearn')\n",
        "plt.plot(precision, recall, label='Manually')\n",
        "plt.plot([1, 0], [0, 1], ls=\"--\", c=\".3\")\n",
        "\n",
        "plt.xlabel('Recall')\n",
        "plt.ylabel('Precision')\n",
        "\n",
        "plt.legend(loc=0)\n",
        "plt.show()"
      ],
      "metadata": {
        "colab": {
          "base_uri": "https://localhost:8080/",
          "height": 279
        },
        "id": "YEQDv_7CUeLZ",
        "outputId": "7b36d06e-a58c-4dec-e4e4-56d9bf296a18"
      },
      "execution_count": 74,
      "outputs": [
        {
          "output_type": "display_data",
          "data": {
            "text/plain": [
              "<Figure size 432x288 with 1 Axes>"
            ],
            "image/png": "[encoded data removed]"
          },
          "metadata": {
            "needs_background": "light"
          }
        }
      ]
    },
    {
      "cell_type": "markdown",
      "source": [
        "Просчитав roc_auc через Sklearn я попробовал это сделать своим способом. Но есть минусы.\n",
        "\n",
        "1) Этот способ не правильный на сколько я понимаю. Но если у нас достаточно много tresholds то значение того что я просчитал будет стремиться к правильному значению.\n",
        "\n",
        "\n",
        "2) Roc_auc нужно считать через интегралы или для этого есть более хитрый метод?"
      ],
      "metadata": {
        "id": "XsEEzGxnhQMz"
      }
    },
    {
      "cell_type": "code",
      "source": [
        "roc_auc_score(Y_test, predictions[:, 1])"
      ],
      "metadata": {
        "colab": {
          "base_uri": "https://localhost:8080/"
        },
        "id": "R7tlRxL0UeS3",
        "outputId": "e229ba24-96a3-4108-c46d-a1f2769a55d2"
      },
      "execution_count": 75,
      "outputs": [
        {
          "output_type": "execute_result",
          "data": {
            "text/plain": [
              "0.8447808648482873"
            ]
          },
          "metadata": {},
          "execution_count": 75
        }
      ]
    },
    {
      "cell_type": "code",
      "source": [
        "sum(precision) / len(precision)"
      ],
      "metadata": {
        "colab": {
          "base_uri": "https://localhost:8080/"
        },
        "id": "euzZj3ruUebs",
        "outputId": "5841365e-d86a-4b06-e843-a10b921483c2"
      },
      "execution_count": 76,
      "outputs": [
        {
          "output_type": "execute_result",
          "data": {
            "text/plain": [
              "0.8149398289399374"
            ]
          },
          "metadata": {},
          "execution_count": 76
        }
      ]
    },
    {
      "cell_type": "markdown",
      "source": [
        "### Выводы"
      ],
      "metadata": {
        "id": "1zLx_ARdh7fc"
      }
    },
    {
      "cell_type": "markdown",
      "source": [
        "##### Как по полученным графикам сделать вывод о качестве модели?"
      ],
      "metadata": {
        "id": "CxmFHxgLiGqK"
      }
    },
    {
      "cell_type": "markdown",
      "source": [
        "Нужно измерить площадь под фигурой. Чем площадь выше тем лучше. Или же чем кривая больше прилегает к оси Y и к прямой Y=1 тем результат лучше. НО на реальных данных кривая никогда не будет полность юприлегать к этим прямым."
      ],
      "metadata": {
        "id": "Y93EsKkTiK0L"
      }
    },
    {
      "cell_type": "markdown",
      "source": [
        "##### Как вы оцениваете обученную модель исходя из подсчитанных метрик?"
      ],
      "metadata": {
        "id": "ysMpuzcbiujr"
      }
    },
    {
      "cell_type": "markdown",
      "source": [
        "Сложно сказать хорошая или плохая модель не сравнивая её с другими алгоритмами/моделями/подходами на этих данных для получения лучшего рещультата. Но в целом модель выдает хороший результат. 0.84%"
      ],
      "metadata": {
        "id": "fO00bj3Sixyb"
      }
    },
    {
      "cell_type": "markdown",
      "source": [
        "##### Может ли ROC-кривая проходить ниже диагонали?"
      ],
      "metadata": {
        "id": "2bb6kZi5jOZi"
      }
    },
    {
      "cell_type": "markdown",
      "source": [
        "Поидее если ROC кривая близка к диагонали то это плохая модель которая при бинарной классификации рандомно угадывает правильный ответ (с вероятностью 50%). А если ниже кривой то процент еще хуже. НО вполне может оказаться, что если кривая ниже диагонали, то данные нужно инвертировать"
      ],
      "metadata": {
        "id": "rWDkGU2MjtiL"
      }
    },
    {
      "cell_type": "markdown",
      "source": [
        "Но если честно не совсем понятно в каких случаях такое возникает. Если есть ссылка где это можно почитать было бы отлично"
      ],
      "metadata": {
        "id": "NltDHSFnkezy"
      }
    },
    {
      "cell_type": "markdown",
      "source": [
        "В целом в данной работе повторил навыки чистки и обработки данных - а также разобрался в новых метриках, научился их вычислять самостоятельно и строить на основе этих данных графики и видеть зависимости"
      ],
      "metadata": {
        "id": "ZKm0ECp8ktPK"
      }
    }
  ]
}