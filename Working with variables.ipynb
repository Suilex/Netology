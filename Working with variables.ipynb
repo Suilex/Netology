{
  "nbformat": 4,
  "nbformat_minor": 0,
  "metadata": {
    "colab": {
      "provenance": []
    },
    "kernelspec": {
      "name": "python3",
      "display_name": "Python 3"
    },
    "language_info": {
      "name": "python"
    }
  },
  "cells": [
    {
      "cell_type": "markdown",
      "source": [
        "### Работа с переменными"
      ],
      "metadata": {
        "id": "e1E_nEflTGaf"
      }
    },
    {
      "cell_type": "markdown",
      "source": [
        "#### Тренировка на начальных данных"
      ],
      "metadata": {
        "id": "75EXpoJ80Thm"
      }
    },
    {
      "cell_type": "code",
      "execution_count": 48,
      "metadata": {
        "id": "Od9OvCnqS5ln"
      },
      "outputs": [],
      "source": [
        "from sklearn.datasets import fetch_california_housing\n",
        "import pandas as pd\n",
        "import numpy as np"
      ]
    },
    {
      "cell_type": "code",
      "source": [
        "print(fetch_california_housing().DESCR)"
      ],
      "metadata": {
        "colab": {
          "base_uri": "https://localhost:8080/"
        },
        "id": "UTtDt4G1TqrP",
        "outputId": "99a44342-b224-422f-f262-d3b94924ebee"
      },
      "execution_count": 49,
      "outputs": [
        {
          "output_type": "stream",
          "name": "stdout",
          "text": [
            ".. _california_housing_dataset:\n",
            "\n",
            "California Housing dataset\n",
            "--------------------------\n",
            "\n",
            "**Data Set Characteristics:**\n",
            "\n",
            "    :Number of Instances: 20640\n",
            "\n",
            "    :Number of Attributes: 8 numeric, predictive attributes and the target\n",
            "\n",
            "    :Attribute Information:\n",
            "        - MedInc        median income in block group\n",
            "        - HouseAge      median house age in block group\n",
            "        - AveRooms      average number of rooms per household\n",
            "        - AveBedrms     average number of bedrooms per household\n",
            "        - Population    block group population\n",
            "        - AveOccup      average number of household members\n",
            "        - Latitude      block group latitude\n",
            "        - Longitude     block group longitude\n",
            "\n",
            "    :Missing Attribute Values: None\n",
            "\n",
            "This dataset was obtained from the StatLib repository.\n",
            "https://www.dcc.fc.up.pt/~ltorgo/Regression/cal_housing.html\n",
            "\n",
            "The target variable is the median house value for California districts,\n",
            "expressed in hundreds of thousands of dollars ($100,000).\n",
            "\n",
            "This dataset was derived from the 1990 U.S. census, using one row per census\n",
            "block group. A block group is the smallest geographical unit for which the U.S.\n",
            "Census Bureau publishes sample data (a block group typically has a population\n",
            "of 600 to 3,000 people).\n",
            "\n",
            "An household is a group of people residing within a home. Since the average\n",
            "number of rooms and bedrooms in this dataset are provided per household, these\n",
            "columns may take surpinsingly large values for block groups with few households\n",
            "and many empty houses, such as vacation resorts.\n",
            "\n",
            "It can be downloaded/loaded using the\n",
            ":func:`sklearn.datasets.fetch_california_housing` function.\n",
            "\n",
            ".. topic:: References\n",
            "\n",
            "    - Pace, R. Kelley and Ronald Barry, Sparse Spatial Autoregressions,\n",
            "      Statistics and Probability Letters, 33 (1997) 291-297\n",
            "\n"
          ]
        }
      ]
    },
    {
      "cell_type": "markdown",
      "source": [
        "Конвертируем датасет в датафрейм"
      ],
      "metadata": {
        "id": "17LI3PE9ZpvU"
      }
    },
    {
      "cell_type": "code",
      "source": [
        "california_housing = fetch_california_housing()\n",
        "df = pd.DataFrame(data=np.c_[california_housing['data'], california_housing['target']], columns=california_housing.feature_names + ['MedHouseVal'])\n",
        "df"
      ],
      "metadata": {
        "colab": {
          "base_uri": "https://localhost:8080/",
          "height": 423
        },
        "id": "4I7R69fsUGev",
        "outputId": "252ae244-89ad-407c-8094-5075718eeef8"
      },
      "execution_count": 50,
      "outputs": [
        {
          "output_type": "execute_result",
          "data": {
            "text/plain": [
              "       MedInc  HouseAge  AveRooms  AveBedrms  Population  AveOccup  Latitude  \\\n",
              "0      8.3252      41.0  6.984127   1.023810       322.0  2.555556     37.88   \n",
              "1      8.3014      21.0  6.238137   0.971880      2401.0  2.109842     37.86   \n",
              "2      7.2574      52.0  8.288136   1.073446       496.0  2.802260     37.85   \n",
              "3      5.6431      52.0  5.817352   1.073059       558.0  2.547945     37.85   \n",
              "4      3.8462      52.0  6.281853   1.081081       565.0  2.181467     37.85   \n",
              "...       ...       ...       ...        ...         ...       ...       ...   \n",
              "20635  1.5603      25.0  5.045455   1.133333       845.0  2.560606     39.48   \n",
              "20636  2.5568      18.0  6.114035   1.315789       356.0  3.122807     39.49   \n",
              "20637  1.7000      17.0  5.205543   1.120092      1007.0  2.325635     39.43   \n",
              "20638  1.8672      18.0  5.329513   1.171920       741.0  2.123209     39.43   \n",
              "20639  2.3886      16.0  5.254717   1.162264      1387.0  2.616981     39.37   \n",
              "\n",
              "       Longitude  MedHouseVal  \n",
              "0        -122.23        4.526  \n",
              "1        -122.22        3.585  \n",
              "2        -122.24        3.521  \n",
              "3        -122.25        3.413  \n",
              "4        -122.25        3.422  \n",
              "...          ...          ...  \n",
              "20635    -121.09        0.781  \n",
              "20636    -121.21        0.771  \n",
              "20637    -121.22        0.923  \n",
              "20638    -121.32        0.847  \n",
              "20639    -121.24        0.894  \n",
              "\n",
              "[20640 rows x 9 columns]"
            ],
            "text/html": [
              "\n",
              "  <div id=\"df-a042b188-a882-4720-ba72-4b92b2359c0c\">\n",
              "    <div class=\"colab-df-container\">\n",
              "      <div>\n",
              "<style scoped>\n",
              "    .dataframe tbody tr th:only-of-type {\n",
              "        vertical-align: middle;\n",
              "    }\n",
              "\n",
              "    .dataframe tbody tr th {\n",
              "        vertical-align: top;\n",
              "    }\n",
              "\n",
              "    .dataframe thead th {\n",
              "        text-align: right;\n",
              "    }\n",
              "</style>\n",
              "<table border=\"1\" class=\"dataframe\">\n",
              "  <thead>\n",
              "    <tr style=\"text-align: right;\">\n",
              "      <th></th>\n",
              "      <th>MedInc</th>\n",
              "      <th>HouseAge</th>\n",
              "      <th>AveRooms</th>\n",
              "      <th>AveBedrms</th>\n",
              "      <th>Population</th>\n",
              "      <th>AveOccup</th>\n",
              "      <th>Latitude</th>\n",
              "      <th>Longitude</th>\n",
              "      <th>MedHouseVal</th>\n",
              "    </tr>\n",
              "  </thead>\n",
              "  <tbody>\n",
              "    <tr>\n",
              "      <th>0</th>\n",
              "      <td>8.3252</td>\n",
              "      <td>41.0</td>\n",
              "      <td>6.984127</td>\n",
              "      <td>1.023810</td>\n",
              "      <td>322.0</td>\n",
              "      <td>2.555556</td>\n",
              "      <td>37.88</td>\n",
              "      <td>-122.23</td>\n",
              "      <td>4.526</td>\n",
              "    </tr>\n",
              "    <tr>\n",
              "      <th>1</th>\n",
              "      <td>8.3014</td>\n",
              "      <td>21.0</td>\n",
              "      <td>6.238137</td>\n",
              "      <td>0.971880</td>\n",
              "      <td>2401.0</td>\n",
              "      <td>2.109842</td>\n",
              "      <td>37.86</td>\n",
              "      <td>-122.22</td>\n",
              "      <td>3.585</td>\n",
              "    </tr>\n",
              "    <tr>\n",
              "      <th>2</th>\n",
              "      <td>7.2574</td>\n",
              "      <td>52.0</td>\n",
              "      <td>8.288136</td>\n",
              "      <td>1.073446</td>\n",
              "      <td>496.0</td>\n",
              "      <td>2.802260</td>\n",
              "      <td>37.85</td>\n",
              "      <td>-122.24</td>\n",
              "      <td>3.521</td>\n",
              "    </tr>\n",
              "    <tr>\n",
              "      <th>3</th>\n",
              "      <td>5.6431</td>\n",
              "      <td>52.0</td>\n",
              "      <td>5.817352</td>\n",
              "      <td>1.073059</td>\n",
              "      <td>558.0</td>\n",
              "      <td>2.547945</td>\n",
              "      <td>37.85</td>\n",
              "      <td>-122.25</td>\n",
              "      <td>3.413</td>\n",
              "    </tr>\n",
              "    <tr>\n",
              "      <th>4</th>\n",
              "      <td>3.8462</td>\n",
              "      <td>52.0</td>\n",
              "      <td>6.281853</td>\n",
              "      <td>1.081081</td>\n",
              "      <td>565.0</td>\n",
              "      <td>2.181467</td>\n",
              "      <td>37.85</td>\n",
              "      <td>-122.25</td>\n",
              "      <td>3.422</td>\n",
              "    </tr>\n",
              "    <tr>\n",
              "      <th>...</th>\n",
              "      <td>...</td>\n",
              "      <td>...</td>\n",
              "      <td>...</td>\n",
              "      <td>...</td>\n",
              "      <td>...</td>\n",
              "      <td>...</td>\n",
              "      <td>...</td>\n",
              "      <td>...</td>\n",
              "      <td>...</td>\n",
              "    </tr>\n",
              "    <tr>\n",
              "      <th>20635</th>\n",
              "      <td>1.5603</td>\n",
              "      <td>25.0</td>\n",
              "      <td>5.045455</td>\n",
              "      <td>1.133333</td>\n",
              "      <td>845.0</td>\n",
              "      <td>2.560606</td>\n",
              "      <td>39.48</td>\n",
              "      <td>-121.09</td>\n",
              "      <td>0.781</td>\n",
              "    </tr>\n",
              "    <tr>\n",
              "      <th>20636</th>\n",
              "      <td>2.5568</td>\n",
              "      <td>18.0</td>\n",
              "      <td>6.114035</td>\n",
              "      <td>1.315789</td>\n",
              "      <td>356.0</td>\n",
              "      <td>3.122807</td>\n",
              "      <td>39.49</td>\n",
              "      <td>-121.21</td>\n",
              "      <td>0.771</td>\n",
              "    </tr>\n",
              "    <tr>\n",
              "      <th>20637</th>\n",
              "      <td>1.7000</td>\n",
              "      <td>17.0</td>\n",
              "      <td>5.205543</td>\n",
              "      <td>1.120092</td>\n",
              "      <td>1007.0</td>\n",
              "      <td>2.325635</td>\n",
              "      <td>39.43</td>\n",
              "      <td>-121.22</td>\n",
              "      <td>0.923</td>\n",
              "    </tr>\n",
              "    <tr>\n",
              "      <th>20638</th>\n",
              "      <td>1.8672</td>\n",
              "      <td>18.0</td>\n",
              "      <td>5.329513</td>\n",
              "      <td>1.171920</td>\n",
              "      <td>741.0</td>\n",
              "      <td>2.123209</td>\n",
              "      <td>39.43</td>\n",
              "      <td>-121.32</td>\n",
              "      <td>0.847</td>\n",
              "    </tr>\n",
              "    <tr>\n",
              "      <th>20639</th>\n",
              "      <td>2.3886</td>\n",
              "      <td>16.0</td>\n",
              "      <td>5.254717</td>\n",
              "      <td>1.162264</td>\n",
              "      <td>1387.0</td>\n",
              "      <td>2.616981</td>\n",
              "      <td>39.37</td>\n",
              "      <td>-121.24</td>\n",
              "      <td>0.894</td>\n",
              "    </tr>\n",
              "  </tbody>\n",
              "</table>\n",
              "<p>20640 rows × 9 columns</p>\n",
              "</div>\n",
              "      <button class=\"colab-df-convert\" onclick=\"convertToInteractive('df-a042b188-a882-4720-ba72-4b92b2359c0c')\"\n",
              "              title=\"Convert this dataframe to an interactive table.\"\n",
              "              style=\"display:none;\">\n",
              "        \n",
              "  <svg xmlns=\"http://www.w3.org/2000/svg\" height=\"24px\"viewBox=\"0 0 24 24\"\n",
              "       width=\"24px\">\n",
              "    <path d=\"M0 0h24v24H0V0z\" fill=\"none\"/>\n",
              "    <path d=\"M18.56 5.44l.94 2.06.94-2.06 2.06-.94-2.06-.94-.94-2.06-.94 2.06-2.06.94zm-11 1L8.5 8.5l.94-2.06 2.06-.94-2.06-.94L8.5 2.5l-.94 2.06-2.06.94zm10 10l.94 2.06.94-2.06 2.06-.94-2.06-.94-.94-2.06-.94 2.06-2.06.94z\"/><path d=\"M17.41 7.96l-1.37-1.37c-.4-.4-.92-.59-1.43-.59-.52 0-1.04.2-1.43.59L10.3 9.45l-7.72 7.72c-.78.78-.78 2.05 0 2.83L4 21.41c.39.39.9.59 1.41.59.51 0 1.02-.2 1.41-.59l7.78-7.78 2.81-2.81c.8-.78.8-2.07 0-2.86zM5.41 20L4 18.59l7.72-7.72 1.47 1.35L5.41 20z\"/>\n",
              "  </svg>\n",
              "      </button>\n",
              "      \n",
              "  <style>\n",
              "    .colab-df-container {\n",
              "      display:flex;\n",
              "      flex-wrap:wrap;\n",
              "      gap: 12px;\n",
              "    }\n",
              "\n",
              "    .colab-df-convert {\n",
              "      background-color: #E8F0FE;\n",
              "      border: none;\n",
              "      border-radius: 50%;\n",
              "      cursor: pointer;\n",
              "      display: none;\n",
              "      fill: #1967D2;\n",
              "      height: 32px;\n",
              "      padding: 0 0 0 0;\n",
              "      width: 32px;\n",
              "    }\n",
              "\n",
              "    .colab-df-convert:hover {\n",
              "      background-color: #E2EBFA;\n",
              "      box-shadow: 0px 1px 2px rgba(60, 64, 67, 0.3), 0px 1px 3px 1px rgba(60, 64, 67, 0.15);\n",
              "      fill: #174EA6;\n",
              "    }\n",
              "\n",
              "    [theme=dark] .colab-df-convert {\n",
              "      background-color: #3B4455;\n",
              "      fill: #D2E3FC;\n",
              "    }\n",
              "\n",
              "    [theme=dark] .colab-df-convert:hover {\n",
              "      background-color: #434B5C;\n",
              "      box-shadow: 0px 1px 3px 1px rgba(0, 0, 0, 0.15);\n",
              "      filter: drop-shadow(0px 1px 2px rgba(0, 0, 0, 0.3));\n",
              "      fill: #FFFFFF;\n",
              "    }\n",
              "  </style>\n",
              "\n",
              "      <script>\n",
              "        const buttonEl =\n",
              "          document.querySelector('#df-a042b188-a882-4720-ba72-4b92b2359c0c button.colab-df-convert');\n",
              "        buttonEl.style.display =\n",
              "          google.colab.kernel.accessAllowed ? 'block' : 'none';\n",
              "\n",
              "        async function convertToInteractive(key) {\n",
              "          const element = document.querySelector('#df-a042b188-a882-4720-ba72-4b92b2359c0c');\n",
              "          const dataTable =\n",
              "            await google.colab.kernel.invokeFunction('convertToInteractive',\n",
              "                                                     [key], {});\n",
              "          if (!dataTable) return;\n",
              "\n",
              "          const docLinkHtml = 'Like what you see? Visit the ' +\n",
              "            '<a target=\"_blank\" href=https://colab.research.google.com/notebooks/data_table.ipynb>data table notebook</a>'\n",
              "            + ' to learn more about interactive tables.';\n",
              "          element.innerHTML = '';\n",
              "          dataTable['output_type'] = 'display_data';\n",
              "          await google.colab.output.renderOutput(dataTable, element);\n",
              "          const docLink = document.createElement('div');\n",
              "          docLink.innerHTML = docLinkHtml;\n",
              "          element.appendChild(docLink);\n",
              "        }\n",
              "      </script>\n",
              "    </div>\n",
              "  </div>\n",
              "  "
            ]
          },
          "metadata": {},
          "execution_count": 50
        }
      ]
    },
    {
      "cell_type": "markdown",
      "source": [
        "В датасете нет пустых значений"
      ],
      "metadata": {
        "id": "GCucMq0zUeWG"
      }
    },
    {
      "cell_type": "code",
      "source": [
        "df.info()"
      ],
      "metadata": {
        "colab": {
          "base_uri": "https://localhost:8080/"
        },
        "id": "3-R-TXS0TM9P",
        "outputId": "5745bb82-9613-45fa-c865-a4f244dd3183"
      },
      "execution_count": 51,
      "outputs": [
        {
          "output_type": "stream",
          "name": "stdout",
          "text": [
            "<class 'pandas.core.frame.DataFrame'>\n",
            "RangeIndex: 20640 entries, 0 to 20639\n",
            "Data columns (total 9 columns):\n",
            " #   Column       Non-Null Count  Dtype  \n",
            "---  ------       --------------  -----  \n",
            " 0   MedInc       20640 non-null  float64\n",
            " 1   HouseAge     20640 non-null  float64\n",
            " 2   AveRooms     20640 non-null  float64\n",
            " 3   AveBedrms    20640 non-null  float64\n",
            " 4   Population   20640 non-null  float64\n",
            " 5   AveOccup     20640 non-null  float64\n",
            " 6   Latitude     20640 non-null  float64\n",
            " 7   Longitude    20640 non-null  float64\n",
            " 8   MedHouseVal  20640 non-null  float64\n",
            "dtypes: float64(9)\n",
            "memory usage: 1.4 MB\n"
          ]
        }
      ]
    },
    {
      "cell_type": "code",
      "source": [
        "from sklearn.model_selection import train_test_split\n",
        "from sklearn.linear_model import LinearRegression\n",
        "from sklearn.metrics import mean_squared_error\n",
        "from sklearn.metrics import r2_score\n"
      ],
      "metadata": {
        "id": "TQsL-UTXQetv"
      },
      "execution_count": 52,
      "outputs": []
    },
    {
      "cell_type": "code",
      "source": [
        "statistic = [['model', 'RMSE_Test', 'RMSE_Train', 'R2_Test', 'R2_Train']]\n",
        "\n",
        "def train(df, model_name):\n",
        "  X_train, X_test, Y_train, Y_test = train_test_split(df[df.columns[:-1]],\n",
        "                                                    df[df.columns[-1]], test_size=0.2, random_state=2)\n",
        "  model = LinearRegression()\n",
        "  model.fit(X_train, Y_train)    \n",
        "\n",
        "  RMSE_Test = mean_squared_error(Y_test, model.predict(X_test), squared=False)\n",
        "  RMSE_Train = mean_squared_error(Y_train, model.predict(X_train), squared=False)\n",
        "  R2_Test = r2_score(Y_test, model.predict(X_test))\n",
        "  R2_Train = r2_score(Y_train, model.predict(X_train))\n",
        "\n",
        "  print(\"Test RMSE: \", RMSE_Test)\n",
        "  print(\"Train RMSE: \", RMSE_Train)\n",
        "  print(\"Test R2: \", R2_Test)\n",
        "  print(\"Train R2: \", R2_Train)\n",
        "  print(\"Test Score: \", model.score(X_test, Y_test))\n",
        "  print(\"Train Score: \", model.score(X_train, Y_train))\n",
        "  statistic.append([model_name, RMSE_Test, RMSE_Train, R2_Test, R2_Train])"
      ],
      "metadata": {
        "id": "iyg-0tHrQev5"
      },
      "execution_count": 53,
      "outputs": []
    },
    {
      "cell_type": "code",
      "source": [
        "train(df, model_name='Необработаная модель')"
      ],
      "metadata": {
        "colab": {
          "base_uri": "https://localhost:8080/"
        },
        "id": "oCG1SxGbdR7W",
        "outputId": "b0d8a061-a707-44c4-d0a0-01c06c634a03"
      },
      "execution_count": 54,
      "outputs": [
        {
          "output_type": "stream",
          "name": "stdout",
          "text": [
            "Test RMSE:  0.7327644142619786\n",
            "Train RMSE:  0.7224911853503633\n",
            "Test R2:  0.6013853272055152\n",
            "Train R2:  0.6068205998456939\n",
            "Test Score:  0.6013853272055152\n",
            "Train Score:  0.6068205998456939\n"
          ]
        }
      ]
    },
    {
      "cell_type": "markdown",
      "source": [
        "#### Анализ целевой переменной и поиск корреляций"
      ],
      "metadata": {
        "id": "YFekWm5U0lZX"
      }
    },
    {
      "cell_type": "markdown",
      "source": [
        "Посмотрим на распределение целевой переменной. Распределение похоже на нормальное."
      ],
      "metadata": {
        "id": "V6J6HWmcJ1TC"
      }
    },
    {
      "cell_type": "code",
      "source": [
        "df[['MedHouseVal']].hist()"
      ],
      "metadata": {
        "colab": {
          "base_uri": "https://localhost:8080/",
          "height": 299
        },
        "id": "b0lBx-WtDmY5",
        "outputId": "3756058b-b060-4499-da39-cd5d2d2f17bc"
      },
      "execution_count": 55,
      "outputs": [
        {
          "output_type": "execute_result",
          "data": {
            "text/plain": [
              "array([[<AxesSubplot:title={'center':'MedHouseVal'}>]], dtype=object)"
            ]
          },
          "metadata": {},
          "execution_count": 55
        },
        {
          "output_type": "display_data",
          "data": {
            "text/plain": [
              "<Figure size 432x288 with 1 Axes>"
            ],
            "image/png": "[encoded data removed]"
          },
          "metadata": {
            "needs_background": "light"
          }
        }
      ]
    },
    {
      "cell_type": "markdown",
      "source": [
        "Попробуем логарифмировать распределение и посмотреть как изменится график. Распределение также получилось нормальным со сдвигом, поэтому логарифмирование можно не проводить."
      ],
      "metadata": {
        "id": "apwAqmmpK_ZY"
      }
    },
    {
      "cell_type": "code",
      "source": [
        "np.log(df[['MedHouseVal']]).hist()"
      ],
      "metadata": {
        "colab": {
          "base_uri": "https://localhost:8080/",
          "height": 299
        },
        "id": "2xnA5_1iDma5",
        "outputId": "5ac60fc0-0b39-4413-f650-73ff1e5178dc"
      },
      "execution_count": 56,
      "outputs": [
        {
          "output_type": "execute_result",
          "data": {
            "text/plain": [
              "array([[<AxesSubplot:title={'center':'MedHouseVal'}>]], dtype=object)"
            ]
          },
          "metadata": {},
          "execution_count": 56
        },
        {
          "output_type": "display_data",
          "data": {
            "text/plain": [
              "<Figure size 432x288 with 1 Axes>"
            ],
            "image/png": "[encoded data removed]"
          },
          "metadata": {
            "needs_background": "light"
          }
        }
      ]
    },
    {
      "cell_type": "code",
      "source": [
        "corr = df.corr()\n",
        "corr"
      ],
      "metadata": {
        "colab": {
          "base_uri": "https://localhost:8080/",
          "height": 331
        },
        "id": "mHwWT2abUXKW",
        "outputId": "6cb9ab59-ac88-4a79-fb3c-c0f0e0c0560c"
      },
      "execution_count": 57,
      "outputs": [
        {
          "output_type": "execute_result",
          "data": {
            "text/plain": [
              "               MedInc  HouseAge  AveRooms  AveBedrms  Population  AveOccup  \\\n",
              "MedInc       1.000000 -0.119034  0.326895  -0.062040    0.004834  0.018766   \n",
              "HouseAge    -0.119034  1.000000 -0.153277  -0.077747   -0.296244  0.013191   \n",
              "AveRooms     0.326895 -0.153277  1.000000   0.847621   -0.072213 -0.004852   \n",
              "AveBedrms   -0.062040 -0.077747  0.847621   1.000000   -0.066197 -0.006181   \n",
              "Population   0.004834 -0.296244 -0.072213  -0.066197    1.000000  0.069863   \n",
              "AveOccup     0.018766  0.013191 -0.004852  -0.006181    0.069863  1.000000   \n",
              "Latitude    -0.079809  0.011173  0.106389   0.069721   -0.108785  0.002366   \n",
              "Longitude   -0.015176 -0.108197 -0.027540   0.013344    0.099773  0.002476   \n",
              "MedHouseVal  0.688075  0.105623  0.151948  -0.046701   -0.024650 -0.023737   \n",
              "\n",
              "             Latitude  Longitude  MedHouseVal  \n",
              "MedInc      -0.079809  -0.015176     0.688075  \n",
              "HouseAge     0.011173  -0.108197     0.105623  \n",
              "AveRooms     0.106389  -0.027540     0.151948  \n",
              "AveBedrms    0.069721   0.013344    -0.046701  \n",
              "Population  -0.108785   0.099773    -0.024650  \n",
              "AveOccup     0.002366   0.002476    -0.023737  \n",
              "Latitude     1.000000  -0.924664    -0.144160  \n",
              "Longitude   -0.924664   1.000000    -0.045967  \n",
              "MedHouseVal -0.144160  -0.045967     1.000000  "
            ],
            "text/html": [
              "\n",
              "  <div id=\"df-c19e2910-fede-4608-b3ae-e19fa74732c1\">\n",
              "    <div class=\"colab-df-container\">\n",
              "      <div>\n",
              "<style scoped>\n",
              "    .dataframe tbody tr th:only-of-type {\n",
              "        vertical-align: middle;\n",
              "    }\n",
              "\n",
              "    .dataframe tbody tr th {\n",
              "        vertical-align: top;\n",
              "    }\n",
              "\n",
              "    .dataframe thead th {\n",
              "        text-align: right;\n",
              "    }\n",
              "</style>\n",
              "<table border=\"1\" class=\"dataframe\">\n",
              "  <thead>\n",
              "    <tr style=\"text-align: right;\">\n",
              "      <th></th>\n",
              "      <th>MedInc</th>\n",
              "      <th>HouseAge</th>\n",
              "      <th>AveRooms</th>\n",
              "      <th>AveBedrms</th>\n",
              "      <th>Population</th>\n",
              "      <th>AveOccup</th>\n",
              "      <th>Latitude</th>\n",
              "      <th>Longitude</th>\n",
              "      <th>MedHouseVal</th>\n",
              "    </tr>\n",
              "  </thead>\n",
              "  <tbody>\n",
              "    <tr>\n",
              "      <th>MedInc</th>\n",
              "      <td>1.000000</td>\n",
              "      <td>-0.119034</td>\n",
              "      <td>0.326895</td>\n",
              "      <td>-0.062040</td>\n",
              "      <td>0.004834</td>\n",
              "      <td>0.018766</td>\n",
              "      <td>-0.079809</td>\n",
              "      <td>-0.015176</td>\n",
              "      <td>0.688075</td>\n",
              "    </tr>\n",
              "    <tr>\n",
              "      <th>HouseAge</th>\n",
              "      <td>-0.119034</td>\n",
              "      <td>1.000000</td>\n",
              "      <td>-0.153277</td>\n",
              "      <td>-0.077747</td>\n",
              "      <td>-0.296244</td>\n",
              "      <td>0.013191</td>\n",
              "      <td>0.011173</td>\n",
              "      <td>-0.108197</td>\n",
              "      <td>0.105623</td>\n",
              "    </tr>\n",
              "    <tr>\n",
              "      <th>AveRooms</th>\n",
              "      <td>0.326895</td>\n",
              "      <td>-0.153277</td>\n",
              "      <td>1.000000</td>\n",
              "      <td>0.847621</td>\n",
              "      <td>-0.072213</td>\n",
              "      <td>-0.004852</td>\n",
              "      <td>0.106389</td>\n",
              "      <td>-0.027540</td>\n",
              "      <td>0.151948</td>\n",
              "    </tr>\n",
              "    <tr>\n",
              "      <th>AveBedrms</th>\n",
              "      <td>-0.062040</td>\n",
              "      <td>-0.077747</td>\n",
              "      <td>0.847621</td>\n",
              "      <td>1.000000</td>\n",
              "      <td>-0.066197</td>\n",
              "      <td>-0.006181</td>\n",
              "      <td>0.069721</td>\n",
              "      <td>0.013344</td>\n",
              "      <td>-0.046701</td>\n",
              "    </tr>\n",
              "    <tr>\n",
              "      <th>Population</th>\n",
              "      <td>0.004834</td>\n",
              "      <td>-0.296244</td>\n",
              "      <td>-0.072213</td>\n",
              "      <td>-0.066197</td>\n",
              "      <td>1.000000</td>\n",
              "      <td>0.069863</td>\n",
              "      <td>-0.108785</td>\n",
              "      <td>0.099773</td>\n",
              "      <td>-0.024650</td>\n",
              "    </tr>\n",
              "    <tr>\n",
              "      <th>AveOccup</th>\n",
              "      <td>0.018766</td>\n",
              "      <td>0.013191</td>\n",
              "      <td>-0.004852</td>\n",
              "      <td>-0.006181</td>\n",
              "      <td>0.069863</td>\n",
              "      <td>1.000000</td>\n",
              "      <td>0.002366</td>\n",
              "      <td>0.002476</td>\n",
              "      <td>-0.023737</td>\n",
              "    </tr>\n",
              "    <tr>\n",
              "      <th>Latitude</th>\n",
              "      <td>-0.079809</td>\n",
              "      <td>0.011173</td>\n",
              "      <td>0.106389</td>\n",
              "      <td>0.069721</td>\n",
              "      <td>-0.108785</td>\n",
              "      <td>0.002366</td>\n",
              "      <td>1.000000</td>\n",
              "      <td>-0.924664</td>\n",
              "      <td>-0.144160</td>\n",
              "    </tr>\n",
              "    <tr>\n",
              "      <th>Longitude</th>\n",
              "      <td>-0.015176</td>\n",
              "      <td>-0.108197</td>\n",
              "      <td>-0.027540</td>\n",
              "      <td>0.013344</td>\n",
              "      <td>0.099773</td>\n",
              "      <td>0.002476</td>\n",
              "      <td>-0.924664</td>\n",
              "      <td>1.000000</td>\n",
              "      <td>-0.045967</td>\n",
              "    </tr>\n",
              "    <tr>\n",
              "      <th>MedHouseVal</th>\n",
              "      <td>0.688075</td>\n",
              "      <td>0.105623</td>\n",
              "      <td>0.151948</td>\n",
              "      <td>-0.046701</td>\n",
              "      <td>-0.024650</td>\n",
              "      <td>-0.023737</td>\n",
              "      <td>-0.144160</td>\n",
              "      <td>-0.045967</td>\n",
              "      <td>1.000000</td>\n",
              "    </tr>\n",
              "  </tbody>\n",
              "</table>\n",
              "</div>\n",
              "      <button class=\"colab-df-convert\" onclick=\"convertToInteractive('df-c19e2910-fede-4608-b3ae-e19fa74732c1')\"\n",
              "              title=\"Convert this dataframe to an interactive table.\"\n",
              "              style=\"display:none;\">\n",
              "        \n",
              "  <svg xmlns=\"http://www.w3.org/2000/svg\" height=\"24px\"viewBox=\"0 0 24 24\"\n",
              "       width=\"24px\">\n",
              "    <path d=\"M0 0h24v24H0V0z\" fill=\"none\"/>\n",
              "    <path d=\"M18.56 5.44l.94 2.06.94-2.06 2.06-.94-2.06-.94-.94-2.06-.94 2.06-2.06.94zm-11 1L8.5 8.5l.94-2.06 2.06-.94-2.06-.94L8.5 2.5l-.94 2.06-2.06.94zm10 10l.94 2.06.94-2.06 2.06-.94-2.06-.94-.94-2.06-.94 2.06-2.06.94z\"/><path d=\"M17.41 7.96l-1.37-1.37c-.4-.4-.92-.59-1.43-.59-.52 0-1.04.2-1.43.59L10.3 9.45l-7.72 7.72c-.78.78-.78 2.05 0 2.83L4 21.41c.39.39.9.59 1.41.59.51 0 1.02-.2 1.41-.59l7.78-7.78 2.81-2.81c.8-.78.8-2.07 0-2.86zM5.41 20L4 18.59l7.72-7.72 1.47 1.35L5.41 20z\"/>\n",
              "  </svg>\n",
              "      </button>\n",
              "      \n",
              "  <style>\n",
              "    .colab-df-container {\n",
              "      display:flex;\n",
              "      flex-wrap:wrap;\n",
              "      gap: 12px;\n",
              "    }\n",
              "\n",
              "    .colab-df-convert {\n",
              "      background-color: #E8F0FE;\n",
              "      border: none;\n",
              "      border-radius: 50%;\n",
              "      cursor: pointer;\n",
              "      display: none;\n",
              "      fill: #1967D2;\n",
              "      height: 32px;\n",
              "      padding: 0 0 0 0;\n",
              "      width: 32px;\n",
              "    }\n",
              "\n",
              "    .colab-df-convert:hover {\n",
              "      background-color: #E2EBFA;\n",
              "      box-shadow: 0px 1px 2px rgba(60, 64, 67, 0.3), 0px 1px 3px 1px rgba(60, 64, 67, 0.15);\n",
              "      fill: #174EA6;\n",
              "    }\n",
              "\n",
              "    [theme=dark] .colab-df-convert {\n",
              "      background-color: #3B4455;\n",
              "      fill: #D2E3FC;\n",
              "    }\n",
              "\n",
              "    [theme=dark] .colab-df-convert:hover {\n",
              "      background-color: #434B5C;\n",
              "      box-shadow: 0px 1px 3px 1px rgba(0, 0, 0, 0.15);\n",
              "      filter: drop-shadow(0px 1px 2px rgba(0, 0, 0, 0.3));\n",
              "      fill: #FFFFFF;\n",
              "    }\n",
              "  </style>\n",
              "\n",
              "      <script>\n",
              "        const buttonEl =\n",
              "          document.querySelector('#df-c19e2910-fede-4608-b3ae-e19fa74732c1 button.colab-df-convert');\n",
              "        buttonEl.style.display =\n",
              "          google.colab.kernel.accessAllowed ? 'block' : 'none';\n",
              "\n",
              "        async function convertToInteractive(key) {\n",
              "          const element = document.querySelector('#df-c19e2910-fede-4608-b3ae-e19fa74732c1');\n",
              "          const dataTable =\n",
              "            await google.colab.kernel.invokeFunction('convertToInteractive',\n",
              "                                                     [key], {});\n",
              "          if (!dataTable) return;\n",
              "\n",
              "          const docLinkHtml = 'Like what you see? Visit the ' +\n",
              "            '<a target=\"_blank\" href=https://colab.research.google.com/notebooks/data_table.ipynb>data table notebook</a>'\n",
              "            + ' to learn more about interactive tables.';\n",
              "          element.innerHTML = '';\n",
              "          dataTable['output_type'] = 'display_data';\n",
              "          await google.colab.output.renderOutput(dataTable, element);\n",
              "          const docLink = document.createElement('div');\n",
              "          docLink.innerHTML = docLinkHtml;\n",
              "          element.appendChild(docLink);\n",
              "        }\n",
              "      </script>\n",
              "    </div>\n",
              "  </div>\n",
              "  "
            ]
          },
          "metadata": {},
          "execution_count": 57
        }
      ]
    },
    {
      "cell_type": "markdown",
      "source": [
        "Коэффициент корреляции нам показывает степень зависимости переменных между собой. И очень плохо если не целевые признаки между собой сильно зависят, такое поведение нам дает понять, что один из признаков мы можем удалить. \n",
        "\n",
        "AveRooms и AveBedrms сильно коррелируют (0.85), что в принципе логично, чем больше жилых комнат в доме тем больше в ней ванных комнат. Признак AveRooms имеет большую корреляцию с целевой переменной, чем AveBedrms, поэтому оставим признак AveRooms.\n",
        "\n",
        "Longitude и Latitude имеют еще больший коэффициент корреляции (-0.92 - обратнозависимы). Это наверное связано с тем что на пересечении долгты и широты не могут находиться разные дома, и по этому для одного значения Longitude всегда разные значения Latitude и отсюда появляется обратная зависимость. (Верно?)\n",
        "\n",
        "MedInc хорошо коррелирует с целевой переменной, что хорошо для нас."
      ],
      "metadata": {
        "id": "bWs5werUNgyQ"
      }
    },
    {
      "cell_type": "code",
      "source": [
        "corr.style.background_gradient(cmap='coolwarm').set_precision(2)"
      ],
      "metadata": {
        "colab": {
          "base_uri": "https://localhost:8080/",
          "height": 368
        },
        "id": "UG63XdOZDejC",
        "outputId": "f4f1648d-7a60-4414-c164-88c07538a654"
      },
      "execution_count": 58,
      "outputs": [
        {
          "output_type": "stream",
          "name": "stderr",
          "text": [
            "<ipython-input-58-ce9744728a5b>:1: FutureWarning: this method is deprecated in favour of `Styler.format(precision=..)`\n",
            "  corr.style.background_gradient(cmap='coolwarm').set_precision(2)\n"
          ]
        },
        {
          "output_type": "execute_result",
          "data": {
            "text/plain": [
              "<pandas.io.formats.style.Styler at 0x7f4625c2df10>"
            ],
            "text/html": [
              "<style type=\"text/css\">\n",
              "#T_8d6a2_row0_col0, #T_8d6a2_row1_col1, #T_8d6a2_row2_col2, #T_8d6a2_row3_col3, #T_8d6a2_row4_col4, #T_8d6a2_row5_col5, #T_8d6a2_row6_col6, #T_8d6a2_row7_col7, #T_8d6a2_row8_col8 {\n",
              "  background-color: #b40426;\n",
              "  color: #f1f1f1;\n",
              "}\n",
              "#T_8d6a2_row0_col1 {\n",
              "  background-color: #6485ec;\n",
              "  color: #f1f1f1;\n",
              "}\n",
              "#T_8d6a2_row0_col2 {\n",
              "  background-color: #c5d6f2;\n",
              "  color: #000000;\n",
              "}\n",
              "#T_8d6a2_row0_col3 {\n",
              "  background-color: #3e51c5;\n",
              "  color: #f1f1f1;\n",
              "}\n",
              "#T_8d6a2_row0_col4 {\n",
              "  background-color: #86a9fc;\n",
              "  color: #f1f1f1;\n",
              "}\n",
              "#T_8d6a2_row0_col5 {\n",
              "  background-color: #465ecf;\n",
              "  color: #f1f1f1;\n",
              "}\n",
              "#T_8d6a2_row0_col6 {\n",
              "  background-color: #ccd9ed;\n",
              "  color: #000000;\n",
              "}\n",
              "#T_8d6a2_row0_col7 {\n",
              "  background-color: #d5dbe5;\n",
              "  color: #000000;\n",
              "}\n",
              "#T_8d6a2_row0_col8 {\n",
              "  background-color: #f6a283;\n",
              "  color: #000000;\n",
              "}\n",
              "#T_8d6a2_row1_col0, #T_8d6a2_row1_col2, #T_8d6a2_row1_col3, #T_8d6a2_row1_col4, #T_8d6a2_row4_col1, #T_8d6a2_row6_col7, #T_8d6a2_row6_col8, #T_8d6a2_row7_col6, #T_8d6a2_row8_col5 {\n",
              "  background-color: #3b4cc0;\n",
              "  color: #f1f1f1;\n",
              "}\n",
              "#T_8d6a2_row1_col5 {\n",
              "  background-color: #455cce;\n",
              "  color: #f1f1f1;\n",
              "}\n",
              "#T_8d6a2_row1_col6, #T_8d6a2_row3_col7 {\n",
              "  background-color: #d9dce1;\n",
              "  color: #000000;\n",
              "}\n",
              "#T_8d6a2_row1_col7, #T_8d6a2_row4_col6 {\n",
              "  background-color: #c7d7f0;\n",
              "  color: #000000;\n",
              "}\n",
              "#T_8d6a2_row1_col8 {\n",
              "  background-color: #81a4fb;\n",
              "  color: #f1f1f1;\n",
              "}\n",
              "#T_8d6a2_row2_col0 {\n",
              "  background-color: #c0d4f5;\n",
              "  color: #000000;\n",
              "}\n",
              "#T_8d6a2_row2_col1, #T_8d6a2_row4_col0 {\n",
              "  background-color: #5d7ce6;\n",
              "  color: #f1f1f1;\n",
              "}\n",
              "#T_8d6a2_row2_col3 {\n",
              "  background-color: #e26952;\n",
              "  color: #f1f1f1;\n",
              "}\n",
              "#T_8d6a2_row2_col4 {\n",
              "  background-color: #7295f4;\n",
              "  color: #f1f1f1;\n",
              "}\n",
              "#T_8d6a2_row2_col5, #T_8d6a2_row3_col5 {\n",
              "  background-color: #3f53c6;\n",
              "  color: #f1f1f1;\n",
              "}\n",
              "#T_8d6a2_row2_col6 {\n",
              "  background-color: #e6d7cf;\n",
              "  color: #000000;\n",
              "}\n",
              "#T_8d6a2_row2_col7 {\n",
              "  background-color: #d4dbe6;\n",
              "  color: #000000;\n",
              "}\n",
              "#T_8d6a2_row2_col8 {\n",
              "  background-color: #90b2fe;\n",
              "  color: #000000;\n",
              "}\n",
              "#T_8d6a2_row3_col0 {\n",
              "  background-color: #4a63d3;\n",
              "  color: #f1f1f1;\n",
              "}\n",
              "#T_8d6a2_row3_col1 {\n",
              "  background-color: #7093f3;\n",
              "  color: #f1f1f1;\n",
              "}\n",
              "#T_8d6a2_row3_col2 {\n",
              "  background-color: #df634e;\n",
              "  color: #f1f1f1;\n",
              "}\n",
              "#T_8d6a2_row3_col4 {\n",
              "  background-color: #7396f5;\n",
              "  color: #f1f1f1;\n",
              "}\n",
              "#T_8d6a2_row3_col6 {\n",
              "  background-color: #e1dad6;\n",
              "  color: #000000;\n",
              "}\n",
              "#T_8d6a2_row3_col8, #T_8d6a2_row7_col3, #T_8d6a2_row7_col8 {\n",
              "  background-color: #5470de;\n",
              "  color: #f1f1f1;\n",
              "}\n",
              "#T_8d6a2_row4_col2 {\n",
              "  background-color: #4f69d9;\n",
              "  color: #f1f1f1;\n",
              "}\n",
              "#T_8d6a2_row4_col3 {\n",
              "  background-color: #3d50c3;\n",
              "  color: #f1f1f1;\n",
              "}\n",
              "#T_8d6a2_row4_col5, #T_8d6a2_row7_col0 {\n",
              "  background-color: #5673e0;\n",
              "  color: #f1f1f1;\n",
              "}\n",
              "#T_8d6a2_row4_col7 {\n",
              "  background-color: #e5d8d1;\n",
              "  color: #000000;\n",
              "}\n",
              "#T_8d6a2_row4_col8, #T_8d6a2_row5_col8 {\n",
              "  background-color: #5a78e4;\n",
              "  color: #f1f1f1;\n",
              "}\n",
              "#T_8d6a2_row5_col0 {\n",
              "  background-color: #6180e9;\n",
              "  color: #f1f1f1;\n",
              "}\n",
              "#T_8d6a2_row5_col1 {\n",
              "  background-color: #89acfd;\n",
              "  color: #000000;\n",
              "}\n",
              "#T_8d6a2_row5_col2 {\n",
              "  background-color: #6282ea;\n",
              "  color: #f1f1f1;\n",
              "}\n",
              "#T_8d6a2_row5_col3 {\n",
              "  background-color: #4e68d8;\n",
              "  color: #f1f1f1;\n",
              "}\n",
              "#T_8d6a2_row5_col4 {\n",
              "  background-color: #98b9ff;\n",
              "  color: #000000;\n",
              "}\n",
              "#T_8d6a2_row5_col6, #T_8d6a2_row5_col7 {\n",
              "  background-color: #d8dce2;\n",
              "  color: #000000;\n",
              "}\n",
              "#T_8d6a2_row6_col0 {\n",
              "  background-color: #445acc;\n",
              "  color: #f1f1f1;\n",
              "}\n",
              "#T_8d6a2_row6_col1 {\n",
              "  background-color: #88abfd;\n",
              "  color: #000000;\n",
              "}\n",
              "#T_8d6a2_row6_col2 {\n",
              "  background-color: #84a7fc;\n",
              "  color: #f1f1f1;\n",
              "}\n",
              "#T_8d6a2_row6_col3 {\n",
              "  background-color: #6687ed;\n",
              "  color: #f1f1f1;\n",
              "}\n",
              "#T_8d6a2_row6_col4, #T_8d6a2_row7_col1 {\n",
              "  background-color: #688aef;\n",
              "  color: #f1f1f1;\n",
              "}\n",
              "#T_8d6a2_row6_col5, #T_8d6a2_row7_col5 {\n",
              "  background-color: #4257c9;\n",
              "  color: #f1f1f1;\n",
              "}\n",
              "#T_8d6a2_row7_col2 {\n",
              "  background-color: #5b7ae5;\n",
              "  color: #f1f1f1;\n",
              "}\n",
              "#T_8d6a2_row7_col4 {\n",
              "  background-color: #a1c0ff;\n",
              "  color: #000000;\n",
              "}\n",
              "#T_8d6a2_row8_col0 {\n",
              "  background-color: #f6a586;\n",
              "  color: #000000;\n",
              "}\n",
              "#T_8d6a2_row8_col1 {\n",
              "  background-color: #a2c1ff;\n",
              "  color: #000000;\n",
              "}\n",
              "#T_8d6a2_row8_col2 {\n",
              "  background-color: #92b4fe;\n",
              "  color: #000000;\n",
              "}\n",
              "#T_8d6a2_row8_col3 {\n",
              "  background-color: #4358cb;\n",
              "  color: #f1f1f1;\n",
              "}\n",
              "#T_8d6a2_row8_col4 {\n",
              "  background-color: #7ea1fa;\n",
              "  color: #f1f1f1;\n",
              "}\n",
              "#T_8d6a2_row8_col6 {\n",
              "  background-color: #c1d4f4;\n",
              "  color: #000000;\n",
              "}\n",
              "#T_8d6a2_row8_col7 {\n",
              "  background-color: #d1dae9;\n",
              "  color: #000000;\n",
              "}\n",
              "</style>\n",
              "<table id=\"T_8d6a2_\" class=\"dataframe\">\n",
              "  <thead>\n",
              "    <tr>\n",
              "      <th class=\"blank level0\" >&nbsp;</th>\n",
              "      <th class=\"col_heading level0 col0\" >MedInc</th>\n",
              "      <th class=\"col_heading level0 col1\" >HouseAge</th>\n",
              "      <th class=\"col_heading level0 col2\" >AveRooms</th>\n",
              "      <th class=\"col_heading level0 col3\" >AveBedrms</th>\n",
              "      <th class=\"col_heading level0 col4\" >Population</th>\n",
              "      <th class=\"col_heading level0 col5\" >AveOccup</th>\n",
              "      <th class=\"col_heading level0 col6\" >Latitude</th>\n",
              "      <th class=\"col_heading level0 col7\" >Longitude</th>\n",
              "      <th class=\"col_heading level0 col8\" >MedHouseVal</th>\n",
              "    </tr>\n",
              "  </thead>\n",
              "  <tbody>\n",
              "    <tr>\n",
              "      <th id=\"T_8d6a2_level0_row0\" class=\"row_heading level0 row0\" >MedInc</th>\n",
              "      <td id=\"T_8d6a2_row0_col0\" class=\"data row0 col0\" >1.00</td>\n",
              "      <td id=\"T_8d6a2_row0_col1\" class=\"data row0 col1\" >-0.12</td>\n",
              "      <td id=\"T_8d6a2_row0_col2\" class=\"data row0 col2\" >0.33</td>\n",
              "      <td id=\"T_8d6a2_row0_col3\" class=\"data row0 col3\" >-0.06</td>\n",
              "      <td id=\"T_8d6a2_row0_col4\" class=\"data row0 col4\" >0.00</td>\n",
              "      <td id=\"T_8d6a2_row0_col5\" class=\"data row0 col5\" >0.02</td>\n",
              "      <td id=\"T_8d6a2_row0_col6\" class=\"data row0 col6\" >-0.08</td>\n",
              "      <td id=\"T_8d6a2_row0_col7\" class=\"data row0 col7\" >-0.02</td>\n",
              "      <td id=\"T_8d6a2_row0_col8\" class=\"data row0 col8\" >0.69</td>\n",
              "    </tr>\n",
              "    <tr>\n",
              "      <th id=\"T_8d6a2_level0_row1\" class=\"row_heading level0 row1\" >HouseAge</th>\n",
              "      <td id=\"T_8d6a2_row1_col0\" class=\"data row1 col0\" >-0.12</td>\n",
              "      <td id=\"T_8d6a2_row1_col1\" class=\"data row1 col1\" >1.00</td>\n",
              "      <td id=\"T_8d6a2_row1_col2\" class=\"data row1 col2\" >-0.15</td>\n",
              "      <td id=\"T_8d6a2_row1_col3\" class=\"data row1 col3\" >-0.08</td>\n",
              "      <td id=\"T_8d6a2_row1_col4\" class=\"data row1 col4\" >-0.30</td>\n",
              "      <td id=\"T_8d6a2_row1_col5\" class=\"data row1 col5\" >0.01</td>\n",
              "      <td id=\"T_8d6a2_row1_col6\" class=\"data row1 col6\" >0.01</td>\n",
              "      <td id=\"T_8d6a2_row1_col7\" class=\"data row1 col7\" >-0.11</td>\n",
              "      <td id=\"T_8d6a2_row1_col8\" class=\"data row1 col8\" >0.11</td>\n",
              "    </tr>\n",
              "    <tr>\n",
              "      <th id=\"T_8d6a2_level0_row2\" class=\"row_heading level0 row2\" >AveRooms</th>\n",
              "      <td id=\"T_8d6a2_row2_col0\" class=\"data row2 col0\" >0.33</td>\n",
              "      <td id=\"T_8d6a2_row2_col1\" class=\"data row2 col1\" >-0.15</td>\n",
              "      <td id=\"T_8d6a2_row2_col2\" class=\"data row2 col2\" >1.00</td>\n",
              "      <td id=\"T_8d6a2_row2_col3\" class=\"data row2 col3\" >0.85</td>\n",
              "      <td id=\"T_8d6a2_row2_col4\" class=\"data row2 col4\" >-0.07</td>\n",
              "      <td id=\"T_8d6a2_row2_col5\" class=\"data row2 col5\" >-0.00</td>\n",
              "      <td id=\"T_8d6a2_row2_col6\" class=\"data row2 col6\" >0.11</td>\n",
              "      <td id=\"T_8d6a2_row2_col7\" class=\"data row2 col7\" >-0.03</td>\n",
              "      <td id=\"T_8d6a2_row2_col8\" class=\"data row2 col8\" >0.15</td>\n",
              "    </tr>\n",
              "    <tr>\n",
              "      <th id=\"T_8d6a2_level0_row3\" class=\"row_heading level0 row3\" >AveBedrms</th>\n",
              "      <td id=\"T_8d6a2_row3_col0\" class=\"data row3 col0\" >-0.06</td>\n",
              "      <td id=\"T_8d6a2_row3_col1\" class=\"data row3 col1\" >-0.08</td>\n",
              "      <td id=\"T_8d6a2_row3_col2\" class=\"data row3 col2\" >0.85</td>\n",
              "      <td id=\"T_8d6a2_row3_col3\" class=\"data row3 col3\" >1.00</td>\n",
              "      <td id=\"T_8d6a2_row3_col4\" class=\"data row3 col4\" >-0.07</td>\n",
              "      <td id=\"T_8d6a2_row3_col5\" class=\"data row3 col5\" >-0.01</td>\n",
              "      <td id=\"T_8d6a2_row3_col6\" class=\"data row3 col6\" >0.07</td>\n",
              "      <td id=\"T_8d6a2_row3_col7\" class=\"data row3 col7\" >0.01</td>\n",
              "      <td id=\"T_8d6a2_row3_col8\" class=\"data row3 col8\" >-0.05</td>\n",
              "    </tr>\n",
              "    <tr>\n",
              "      <th id=\"T_8d6a2_level0_row4\" class=\"row_heading level0 row4\" >Population</th>\n",
              "      <td id=\"T_8d6a2_row4_col0\" class=\"data row4 col0\" >0.00</td>\n",
              "      <td id=\"T_8d6a2_row4_col1\" class=\"data row4 col1\" >-0.30</td>\n",
              "      <td id=\"T_8d6a2_row4_col2\" class=\"data row4 col2\" >-0.07</td>\n",
              "      <td id=\"T_8d6a2_row4_col3\" class=\"data row4 col3\" >-0.07</td>\n",
              "      <td id=\"T_8d6a2_row4_col4\" class=\"data row4 col4\" >1.00</td>\n",
              "      <td id=\"T_8d6a2_row4_col5\" class=\"data row4 col5\" >0.07</td>\n",
              "      <td id=\"T_8d6a2_row4_col6\" class=\"data row4 col6\" >-0.11</td>\n",
              "      <td id=\"T_8d6a2_row4_col7\" class=\"data row4 col7\" >0.10</td>\n",
              "      <td id=\"T_8d6a2_row4_col8\" class=\"data row4 col8\" >-0.02</td>\n",
              "    </tr>\n",
              "    <tr>\n",
              "      <th id=\"T_8d6a2_level0_row5\" class=\"row_heading level0 row5\" >AveOccup</th>\n",
              "      <td id=\"T_8d6a2_row5_col0\" class=\"data row5 col0\" >0.02</td>\n",
              "      <td id=\"T_8d6a2_row5_col1\" class=\"data row5 col1\" >0.01</td>\n",
              "      <td id=\"T_8d6a2_row5_col2\" class=\"data row5 col2\" >-0.00</td>\n",
              "      <td id=\"T_8d6a2_row5_col3\" class=\"data row5 col3\" >-0.01</td>\n",
              "      <td id=\"T_8d6a2_row5_col4\" class=\"data row5 col4\" >0.07</td>\n",
              "      <td id=\"T_8d6a2_row5_col5\" class=\"data row5 col5\" >1.00</td>\n",
              "      <td id=\"T_8d6a2_row5_col6\" class=\"data row5 col6\" >0.00</td>\n",
              "      <td id=\"T_8d6a2_row5_col7\" class=\"data row5 col7\" >0.00</td>\n",
              "      <td id=\"T_8d6a2_row5_col8\" class=\"data row5 col8\" >-0.02</td>\n",
              "    </tr>\n",
              "    <tr>\n",
              "      <th id=\"T_8d6a2_level0_row6\" class=\"row_heading level0 row6\" >Latitude</th>\n",
              "      <td id=\"T_8d6a2_row6_col0\" class=\"data row6 col0\" >-0.08</td>\n",
              "      <td id=\"T_8d6a2_row6_col1\" class=\"data row6 col1\" >0.01</td>\n",
              "      <td id=\"T_8d6a2_row6_col2\" class=\"data row6 col2\" >0.11</td>\n",
              "      <td id=\"T_8d6a2_row6_col3\" class=\"data row6 col3\" >0.07</td>\n",
              "      <td id=\"T_8d6a2_row6_col4\" class=\"data row6 col4\" >-0.11</td>\n",
              "      <td id=\"T_8d6a2_row6_col5\" class=\"data row6 col5\" >0.00</td>\n",
              "      <td id=\"T_8d6a2_row6_col6\" class=\"data row6 col6\" >1.00</td>\n",
              "      <td id=\"T_8d6a2_row6_col7\" class=\"data row6 col7\" >-0.92</td>\n",
              "      <td id=\"T_8d6a2_row6_col8\" class=\"data row6 col8\" >-0.14</td>\n",
              "    </tr>\n",
              "    <tr>\n",
              "      <th id=\"T_8d6a2_level0_row7\" class=\"row_heading level0 row7\" >Longitude</th>\n",
              "      <td id=\"T_8d6a2_row7_col0\" class=\"data row7 col0\" >-0.02</td>\n",
              "      <td id=\"T_8d6a2_row7_col1\" class=\"data row7 col1\" >-0.11</td>\n",
              "      <td id=\"T_8d6a2_row7_col2\" class=\"data row7 col2\" >-0.03</td>\n",
              "      <td id=\"T_8d6a2_row7_col3\" class=\"data row7 col3\" >0.01</td>\n",
              "      <td id=\"T_8d6a2_row7_col4\" class=\"data row7 col4\" >0.10</td>\n",
              "      <td id=\"T_8d6a2_row7_col5\" class=\"data row7 col5\" >0.00</td>\n",
              "      <td id=\"T_8d6a2_row7_col6\" class=\"data row7 col6\" >-0.92</td>\n",
              "      <td id=\"T_8d6a2_row7_col7\" class=\"data row7 col7\" >1.00</td>\n",
              "      <td id=\"T_8d6a2_row7_col8\" class=\"data row7 col8\" >-0.05</td>\n",
              "    </tr>\n",
              "    <tr>\n",
              "      <th id=\"T_8d6a2_level0_row8\" class=\"row_heading level0 row8\" >MedHouseVal</th>\n",
              "      <td id=\"T_8d6a2_row8_col0\" class=\"data row8 col0\" >0.69</td>\n",
              "      <td id=\"T_8d6a2_row8_col1\" class=\"data row8 col1\" >0.11</td>\n",
              "      <td id=\"T_8d6a2_row8_col2\" class=\"data row8 col2\" >0.15</td>\n",
              "      <td id=\"T_8d6a2_row8_col3\" class=\"data row8 col3\" >-0.05</td>\n",
              "      <td id=\"T_8d6a2_row8_col4\" class=\"data row8 col4\" >-0.02</td>\n",
              "      <td id=\"T_8d6a2_row8_col5\" class=\"data row8 col5\" >-0.02</td>\n",
              "      <td id=\"T_8d6a2_row8_col6\" class=\"data row8 col6\" >-0.14</td>\n",
              "      <td id=\"T_8d6a2_row8_col7\" class=\"data row8 col7\" >-0.05</td>\n",
              "      <td id=\"T_8d6a2_row8_col8\" class=\"data row8 col8\" >1.00</td>\n",
              "    </tr>\n",
              "  </tbody>\n",
              "</table>\n"
            ]
          },
          "metadata": {},
          "execution_count": 58
        }
      ]
    },
    {
      "cell_type": "markdown",
      "source": [
        "Сначала уберем только AveBedrms"
      ],
      "metadata": {
        "id": "SgQtpDmgPvy4"
      }
    },
    {
      "cell_type": "code",
      "source": [
        "df_without_corr_params = df.drop(columns='AveBedrms', axis=1, inplace=False)\n",
        "df_without_corr_params"
      ],
      "metadata": {
        "colab": {
          "base_uri": "https://localhost:8080/",
          "height": 423
        },
        "id": "aDQfdbEKUXM2",
        "outputId": "13ba7d5c-ed5b-4815-8387-a24be432657c"
      },
      "execution_count": 59,
      "outputs": [
        {
          "output_type": "execute_result",
          "data": {
            "text/plain": [
              "       MedInc  HouseAge  AveRooms  Population  AveOccup  Latitude  Longitude  \\\n",
              "0      8.3252      41.0  6.984127       322.0  2.555556     37.88    -122.23   \n",
              "1      8.3014      21.0  6.238137      2401.0  2.109842     37.86    -122.22   \n",
              "2      7.2574      52.0  8.288136       496.0  2.802260     37.85    -122.24   \n",
              "3      5.6431      52.0  5.817352       558.0  2.547945     37.85    -122.25   \n",
              "4      3.8462      52.0  6.281853       565.0  2.181467     37.85    -122.25   \n",
              "...       ...       ...       ...         ...       ...       ...        ...   \n",
              "20635  1.5603      25.0  5.045455       845.0  2.560606     39.48    -121.09   \n",
              "20636  2.5568      18.0  6.114035       356.0  3.122807     39.49    -121.21   \n",
              "20637  1.7000      17.0  5.205543      1007.0  2.325635     39.43    -121.22   \n",
              "20638  1.8672      18.0  5.329513       741.0  2.123209     39.43    -121.32   \n",
              "20639  2.3886      16.0  5.254717      1387.0  2.616981     39.37    -121.24   \n",
              "\n",
              "       MedHouseVal  \n",
              "0            4.526  \n",
              "1            3.585  \n",
              "2            3.521  \n",
              "3            3.413  \n",
              "4            3.422  \n",
              "...            ...  \n",
              "20635        0.781  \n",
              "20636        0.771  \n",
              "20637        0.923  \n",
              "20638        0.847  \n",
              "20639        0.894  \n",
              "\n",
              "[20640 rows x 8 columns]"
            ],
            "text/html": [
              "\n",
              "  <div id=\"df-d0766ffb-cd20-4e2a-9ccb-33ae78a48df7\">\n",
              "    <div class=\"colab-df-container\">\n",
              "      <div>\n",
              "<style scoped>\n",
              "    .dataframe tbody tr th:only-of-type {\n",
              "        vertical-align: middle;\n",
              "    }\n",
              "\n",
              "    .dataframe tbody tr th {\n",
              "        vertical-align: top;\n",
              "    }\n",
              "\n",
              "    .dataframe thead th {\n",
              "        text-align: right;\n",
              "    }\n",
              "</style>\n",
              "<table border=\"1\" class=\"dataframe\">\n",
              "  <thead>\n",
              "    <tr style=\"text-align: right;\">\n",
              "      <th></th>\n",
              "      <th>MedInc</th>\n",
              "      <th>HouseAge</th>\n",
              "      <th>AveRooms</th>\n",
              "      <th>Population</th>\n",
              "      <th>AveOccup</th>\n",
              "      <th>Latitude</th>\n",
              "      <th>Longitude</th>\n",
              "      <th>MedHouseVal</th>\n",
              "    </tr>\n",
              "  </thead>\n",
              "  <tbody>\n",
              "    <tr>\n",
              "      <th>0</th>\n",
              "      <td>8.3252</td>\n",
              "      <td>41.0</td>\n",
              "      <td>6.984127</td>\n",
              "      <td>322.0</td>\n",
              "      <td>2.555556</td>\n",
              "      <td>37.88</td>\n",
              "      <td>-122.23</td>\n",
              "      <td>4.526</td>\n",
              "    </tr>\n",
              "    <tr>\n",
              "      <th>1</th>\n",
              "      <td>8.3014</td>\n",
              "      <td>21.0</td>\n",
              "      <td>6.238137</td>\n",
              "      <td>2401.0</td>\n",
              "      <td>2.109842</td>\n",
              "      <td>37.86</td>\n",
              "      <td>-122.22</td>\n",
              "      <td>3.585</td>\n",
              "    </tr>\n",
              "    <tr>\n",
              "      <th>2</th>\n",
              "      <td>7.2574</td>\n",
              "      <td>52.0</td>\n",
              "      <td>8.288136</td>\n",
              "      <td>496.0</td>\n",
              "      <td>2.802260</td>\n",
              "      <td>37.85</td>\n",
              "      <td>-122.24</td>\n",
              "      <td>3.521</td>\n",
              "    </tr>\n",
              "    <tr>\n",
              "      <th>3</th>\n",
              "      <td>5.6431</td>\n",
              "      <td>52.0</td>\n",
              "      <td>5.817352</td>\n",
              "      <td>558.0</td>\n",
              "      <td>2.547945</td>\n",
              "      <td>37.85</td>\n",
              "      <td>-122.25</td>\n",
              "      <td>3.413</td>\n",
              "    </tr>\n",
              "    <tr>\n",
              "      <th>4</th>\n",
              "      <td>3.8462</td>\n",
              "      <td>52.0</td>\n",
              "      <td>6.281853</td>\n",
              "      <td>565.0</td>\n",
              "      <td>2.181467</td>\n",
              "      <td>37.85</td>\n",
              "      <td>-122.25</td>\n",
              "      <td>3.422</td>\n",
              "    </tr>\n",
              "    <tr>\n",
              "      <th>...</th>\n",
              "      <td>...</td>\n",
              "      <td>...</td>\n",
              "      <td>...</td>\n",
              "      <td>...</td>\n",
              "      <td>...</td>\n",
              "      <td>...</td>\n",
              "      <td>...</td>\n",
              "      <td>...</td>\n",
              "    </tr>\n",
              "    <tr>\n",
              "      <th>20635</th>\n",
              "      <td>1.5603</td>\n",
              "      <td>25.0</td>\n",
              "      <td>5.045455</td>\n",
              "      <td>845.0</td>\n",
              "      <td>2.560606</td>\n",
              "      <td>39.48</td>\n",
              "      <td>-121.09</td>\n",
              "      <td>0.781</td>\n",
              "    </tr>\n",
              "    <tr>\n",
              "      <th>20636</th>\n",
              "      <td>2.5568</td>\n",
              "      <td>18.0</td>\n",
              "      <td>6.114035</td>\n",
              "      <td>356.0</td>\n",
              "      <td>3.122807</td>\n",
              "      <td>39.49</td>\n",
              "      <td>-121.21</td>\n",
              "      <td>0.771</td>\n",
              "    </tr>\n",
              "    <tr>\n",
              "      <th>20637</th>\n",
              "      <td>1.7000</td>\n",
              "      <td>17.0</td>\n",
              "      <td>5.205543</td>\n",
              "      <td>1007.0</td>\n",
              "      <td>2.325635</td>\n",
              "      <td>39.43</td>\n",
              "      <td>-121.22</td>\n",
              "      <td>0.923</td>\n",
              "    </tr>\n",
              "    <tr>\n",
              "      <th>20638</th>\n",
              "      <td>1.8672</td>\n",
              "      <td>18.0</td>\n",
              "      <td>5.329513</td>\n",
              "      <td>741.0</td>\n",
              "      <td>2.123209</td>\n",
              "      <td>39.43</td>\n",
              "      <td>-121.32</td>\n",
              "      <td>0.847</td>\n",
              "    </tr>\n",
              "    <tr>\n",
              "      <th>20639</th>\n",
              "      <td>2.3886</td>\n",
              "      <td>16.0</td>\n",
              "      <td>5.254717</td>\n",
              "      <td>1387.0</td>\n",
              "      <td>2.616981</td>\n",
              "      <td>39.37</td>\n",
              "      <td>-121.24</td>\n",
              "      <td>0.894</td>\n",
              "    </tr>\n",
              "  </tbody>\n",
              "</table>\n",
              "<p>20640 rows × 8 columns</p>\n",
              "</div>\n",
              "      <button class=\"colab-df-convert\" onclick=\"convertToInteractive('df-d0766ffb-cd20-4e2a-9ccb-33ae78a48df7')\"\n",
              "              title=\"Convert this dataframe to an interactive table.\"\n",
              "              style=\"display:none;\">\n",
              "        \n",
              "  <svg xmlns=\"http://www.w3.org/2000/svg\" height=\"24px\"viewBox=\"0 0 24 24\"\n",
              "       width=\"24px\">\n",
              "    <path d=\"M0 0h24v24H0V0z\" fill=\"none\"/>\n",
              "    <path d=\"M18.56 5.44l.94 2.06.94-2.06 2.06-.94-2.06-.94-.94-2.06-.94 2.06-2.06.94zm-11 1L8.5 8.5l.94-2.06 2.06-.94-2.06-.94L8.5 2.5l-.94 2.06-2.06.94zm10 10l.94 2.06.94-2.06 2.06-.94-2.06-.94-.94-2.06-.94 2.06-2.06.94z\"/><path d=\"M17.41 7.96l-1.37-1.37c-.4-.4-.92-.59-1.43-.59-.52 0-1.04.2-1.43.59L10.3 9.45l-7.72 7.72c-.78.78-.78 2.05 0 2.83L4 21.41c.39.39.9.59 1.41.59.51 0 1.02-.2 1.41-.59l7.78-7.78 2.81-2.81c.8-.78.8-2.07 0-2.86zM5.41 20L4 18.59l7.72-7.72 1.47 1.35L5.41 20z\"/>\n",
              "  </svg>\n",
              "      </button>\n",
              "      \n",
              "  <style>\n",
              "    .colab-df-container {\n",
              "      display:flex;\n",
              "      flex-wrap:wrap;\n",
              "      gap: 12px;\n",
              "    }\n",
              "\n",
              "    .colab-df-convert {\n",
              "      background-color: #E8F0FE;\n",
              "      border: none;\n",
              "      border-radius: 50%;\n",
              "      cursor: pointer;\n",
              "      display: none;\n",
              "      fill: #1967D2;\n",
              "      height: 32px;\n",
              "      padding: 0 0 0 0;\n",
              "      width: 32px;\n",
              "    }\n",
              "\n",
              "    .colab-df-convert:hover {\n",
              "      background-color: #E2EBFA;\n",
              "      box-shadow: 0px 1px 2px rgba(60, 64, 67, 0.3), 0px 1px 3px 1px rgba(60, 64, 67, 0.15);\n",
              "      fill: #174EA6;\n",
              "    }\n",
              "\n",
              "    [theme=dark] .colab-df-convert {\n",
              "      background-color: #3B4455;\n",
              "      fill: #D2E3FC;\n",
              "    }\n",
              "\n",
              "    [theme=dark] .colab-df-convert:hover {\n",
              "      background-color: #434B5C;\n",
              "      box-shadow: 0px 1px 3px 1px rgba(0, 0, 0, 0.15);\n",
              "      filter: drop-shadow(0px 1px 2px rgba(0, 0, 0, 0.3));\n",
              "      fill: #FFFFFF;\n",
              "    }\n",
              "  </style>\n",
              "\n",
              "      <script>\n",
              "        const buttonEl =\n",
              "          document.querySelector('#df-d0766ffb-cd20-4e2a-9ccb-33ae78a48df7 button.colab-df-convert');\n",
              "        buttonEl.style.display =\n",
              "          google.colab.kernel.accessAllowed ? 'block' : 'none';\n",
              "\n",
              "        async function convertToInteractive(key) {\n",
              "          const element = document.querySelector('#df-d0766ffb-cd20-4e2a-9ccb-33ae78a48df7');\n",
              "          const dataTable =\n",
              "            await google.colab.kernel.invokeFunction('convertToInteractive',\n",
              "                                                     [key], {});\n",
              "          if (!dataTable) return;\n",
              "\n",
              "          const docLinkHtml = 'Like what you see? Visit the ' +\n",
              "            '<a target=\"_blank\" href=https://colab.research.google.com/notebooks/data_table.ipynb>data table notebook</a>'\n",
              "            + ' to learn more about interactive tables.';\n",
              "          element.innerHTML = '';\n",
              "          dataTable['output_type'] = 'display_data';\n",
              "          await google.colab.output.renderOutput(dataTable, element);\n",
              "          const docLink = document.createElement('div');\n",
              "          docLink.innerHTML = docLinkHtml;\n",
              "          element.appendChild(docLink);\n",
              "        }\n",
              "      </script>\n",
              "    </div>\n",
              "  </div>\n",
              "  "
            ]
          },
          "metadata": {},
          "execution_count": 59
        }
      ]
    },
    {
      "cell_type": "markdown",
      "source": [
        "После удаления AveBedrms наша метрика немного ухудшилась"
      ],
      "metadata": {
        "id": "o8XDAnDkW1uP"
      }
    },
    {
      "cell_type": "code",
      "source": [
        "train(df_without_corr_params, model_name='После удаления AveBedrms')"
      ],
      "metadata": {
        "colab": {
          "base_uri": "https://localhost:8080/"
        },
        "id": "D4E7DzBnUXR9",
        "outputId": "d528e17a-195c-4267-d3ec-a9086671c1a1"
      },
      "execution_count": 60,
      "outputs": [
        {
          "output_type": "stream",
          "name": "stdout",
          "text": [
            "Test RMSE:  0.7424169282323411\n",
            "Train RMSE:  0.7311812390140298\n",
            "Test R2:  0.5908144655241186\n",
            "Train R2:  0.5973054712870445\n",
            "Test Score:  0.5908144655241186\n",
            "Train Score:  0.5973054712870445\n"
          ]
        }
      ]
    },
    {
      "cell_type": "markdown",
      "source": [
        "Если уберем AveRooms, а AveBedrms оставим то наша метрика дает чуть более лучшие результаты чем предыдущая, но всё равно хуже чем первоночальная. (Не понятно почему, ведь AveRooms коррелирует с целевым признаком больше, нет?). \n",
        "\n",
        "Вероятно из-за того что AveRooms коррелирует с другими не целевыми значениями больше чем AveBedrms (AveRooms коррелирует с MedInc (0.33)). Верно?"
      ],
      "metadata": {
        "id": "qoV3v4t5iX8S"
      }
    },
    {
      "cell_type": "code",
      "source": [
        "df_without_corr_params = df.drop(columns='AveRooms', axis=1, inplace=False)\n",
        "train(df_without_corr_params, model_name='После удаления AveRooms')"
      ],
      "metadata": {
        "colab": {
          "base_uri": "https://localhost:8080/"
        },
        "id": "3dA9Y5JxiPTR",
        "outputId": "ed5dfcb9-6ed7-4d95-a093-0a3597710c85"
      },
      "execution_count": 61,
      "outputs": [
        {
          "output_type": "stream",
          "name": "stdout",
          "text": [
            "Test RMSE:  0.735726183582479\n",
            "Train RMSE:  0.7285792621734266\n",
            "Test R2:  0.5981564841128051\n",
            "Train R2:  0.6001664240339422\n",
            "Test Score:  0.5981564841128051\n",
            "Train Score:  0.6001664240339422\n"
          ]
        }
      ]
    },
    {
      "cell_type": "code",
      "source": [
        "df_without_corr_params_and_longitude = df_without_corr_params.drop(columns='Longitude', axis=1, inplace=False)\n",
        "df_without_corr_params_and_longitude"
      ],
      "metadata": {
        "colab": {
          "base_uri": "https://localhost:8080/",
          "height": 423
        },
        "id": "UQERsxUZUXUZ",
        "outputId": "6967ee9d-31b0-4cfc-b4fa-2cb1f4b19223"
      },
      "execution_count": 62,
      "outputs": [
        {
          "output_type": "execute_result",
          "data": {
            "text/plain": [
              "       MedInc  HouseAge  AveBedrms  Population  AveOccup  Latitude  \\\n",
              "0      8.3252      41.0   1.023810       322.0  2.555556     37.88   \n",
              "1      8.3014      21.0   0.971880      2401.0  2.109842     37.86   \n",
              "2      7.2574      52.0   1.073446       496.0  2.802260     37.85   \n",
              "3      5.6431      52.0   1.073059       558.0  2.547945     37.85   \n",
              "4      3.8462      52.0   1.081081       565.0  2.181467     37.85   \n",
              "...       ...       ...        ...         ...       ...       ...   \n",
              "20635  1.5603      25.0   1.133333       845.0  2.560606     39.48   \n",
              "20636  2.5568      18.0   1.315789       356.0  3.122807     39.49   \n",
              "20637  1.7000      17.0   1.120092      1007.0  2.325635     39.43   \n",
              "20638  1.8672      18.0   1.171920       741.0  2.123209     39.43   \n",
              "20639  2.3886      16.0   1.162264      1387.0  2.616981     39.37   \n",
              "\n",
              "       MedHouseVal  \n",
              "0            4.526  \n",
              "1            3.585  \n",
              "2            3.521  \n",
              "3            3.413  \n",
              "4            3.422  \n",
              "...            ...  \n",
              "20635        0.781  \n",
              "20636        0.771  \n",
              "20637        0.923  \n",
              "20638        0.847  \n",
              "20639        0.894  \n",
              "\n",
              "[20640 rows x 7 columns]"
            ],
            "text/html": [
              "\n",
              "  <div id=\"df-66a27126-5bae-4c29-88d1-6a79e867be53\">\n",
              "    <div class=\"colab-df-container\">\n",
              "      <div>\n",
              "<style scoped>\n",
              "    .dataframe tbody tr th:only-of-type {\n",
              "        vertical-align: middle;\n",
              "    }\n",
              "\n",
              "    .dataframe tbody tr th {\n",
              "        vertical-align: top;\n",
              "    }\n",
              "\n",
              "    .dataframe thead th {\n",
              "        text-align: right;\n",
              "    }\n",
              "</style>\n",
              "<table border=\"1\" class=\"dataframe\">\n",
              "  <thead>\n",
              "    <tr style=\"text-align: right;\">\n",
              "      <th></th>\n",
              "      <th>MedInc</th>\n",
              "      <th>HouseAge</th>\n",
              "      <th>AveBedrms</th>\n",
              "      <th>Population</th>\n",
              "      <th>AveOccup</th>\n",
              "      <th>Latitude</th>\n",
              "      <th>MedHouseVal</th>\n",
              "    </tr>\n",
              "  </thead>\n",
              "  <tbody>\n",
              "    <tr>\n",
              "      <th>0</th>\n",
              "      <td>8.3252</td>\n",
              "      <td>41.0</td>\n",
              "      <td>1.023810</td>\n",
              "      <td>322.0</td>\n",
              "      <td>2.555556</td>\n",
              "      <td>37.88</td>\n",
              "      <td>4.526</td>\n",
              "    </tr>\n",
              "    <tr>\n",
              "      <th>1</th>\n",
              "      <td>8.3014</td>\n",
              "      <td>21.0</td>\n",
              "      <td>0.971880</td>\n",
              "      <td>2401.0</td>\n",
              "      <td>2.109842</td>\n",
              "      <td>37.86</td>\n",
              "      <td>3.585</td>\n",
              "    </tr>\n",
              "    <tr>\n",
              "      <th>2</th>\n",
              "      <td>7.2574</td>\n",
              "      <td>52.0</td>\n",
              "      <td>1.073446</td>\n",
              "      <td>496.0</td>\n",
              "      <td>2.802260</td>\n",
              "      <td>37.85</td>\n",
              "      <td>3.521</td>\n",
              "    </tr>\n",
              "    <tr>\n",
              "      <th>3</th>\n",
              "      <td>5.6431</td>\n",
              "      <td>52.0</td>\n",
              "      <td>1.073059</td>\n",
              "      <td>558.0</td>\n",
              "      <td>2.547945</td>\n",
              "      <td>37.85</td>\n",
              "      <td>3.413</td>\n",
              "    </tr>\n",
              "    <tr>\n",
              "      <th>4</th>\n",
              "      <td>3.8462</td>\n",
              "      <td>52.0</td>\n",
              "      <td>1.081081</td>\n",
              "      <td>565.0</td>\n",
              "      <td>2.181467</td>\n",
              "      <td>37.85</td>\n",
              "      <td>3.422</td>\n",
              "    </tr>\n",
              "    <tr>\n",
              "      <th>...</th>\n",
              "      <td>...</td>\n",
              "      <td>...</td>\n",
              "      <td>...</td>\n",
              "      <td>...</td>\n",
              "      <td>...</td>\n",
              "      <td>...</td>\n",
              "      <td>...</td>\n",
              "    </tr>\n",
              "    <tr>\n",
              "      <th>20635</th>\n",
              "      <td>1.5603</td>\n",
              "      <td>25.0</td>\n",
              "      <td>1.133333</td>\n",
              "      <td>845.0</td>\n",
              "      <td>2.560606</td>\n",
              "      <td>39.48</td>\n",
              "      <td>0.781</td>\n",
              "    </tr>\n",
              "    <tr>\n",
              "      <th>20636</th>\n",
              "      <td>2.5568</td>\n",
              "      <td>18.0</td>\n",
              "      <td>1.315789</td>\n",
              "      <td>356.0</td>\n",
              "      <td>3.122807</td>\n",
              "      <td>39.49</td>\n",
              "      <td>0.771</td>\n",
              "    </tr>\n",
              "    <tr>\n",
              "      <th>20637</th>\n",
              "      <td>1.7000</td>\n",
              "      <td>17.0</td>\n",
              "      <td>1.120092</td>\n",
              "      <td>1007.0</td>\n",
              "      <td>2.325635</td>\n",
              "      <td>39.43</td>\n",
              "      <td>0.923</td>\n",
              "    </tr>\n",
              "    <tr>\n",
              "      <th>20638</th>\n",
              "      <td>1.8672</td>\n",
              "      <td>18.0</td>\n",
              "      <td>1.171920</td>\n",
              "      <td>741.0</td>\n",
              "      <td>2.123209</td>\n",
              "      <td>39.43</td>\n",
              "      <td>0.847</td>\n",
              "    </tr>\n",
              "    <tr>\n",
              "      <th>20639</th>\n",
              "      <td>2.3886</td>\n",
              "      <td>16.0</td>\n",
              "      <td>1.162264</td>\n",
              "      <td>1387.0</td>\n",
              "      <td>2.616981</td>\n",
              "      <td>39.37</td>\n",
              "      <td>0.894</td>\n",
              "    </tr>\n",
              "  </tbody>\n",
              "</table>\n",
              "<p>20640 rows × 7 columns</p>\n",
              "</div>\n",
              "      <button class=\"colab-df-convert\" onclick=\"convertToInteractive('df-66a27126-5bae-4c29-88d1-6a79e867be53')\"\n",
              "              title=\"Convert this dataframe to an interactive table.\"\n",
              "              style=\"display:none;\">\n",
              "        \n",
              "  <svg xmlns=\"http://www.w3.org/2000/svg\" height=\"24px\"viewBox=\"0 0 24 24\"\n",
              "       width=\"24px\">\n",
              "    <path d=\"M0 0h24v24H0V0z\" fill=\"none\"/>\n",
              "    <path d=\"M18.56 5.44l.94 2.06.94-2.06 2.06-.94-2.06-.94-.94-2.06-.94 2.06-2.06.94zm-11 1L8.5 8.5l.94-2.06 2.06-.94-2.06-.94L8.5 2.5l-.94 2.06-2.06.94zm10 10l.94 2.06.94-2.06 2.06-.94-2.06-.94-.94-2.06-.94 2.06-2.06.94z\"/><path d=\"M17.41 7.96l-1.37-1.37c-.4-.4-.92-.59-1.43-.59-.52 0-1.04.2-1.43.59L10.3 9.45l-7.72 7.72c-.78.78-.78 2.05 0 2.83L4 21.41c.39.39.9.59 1.41.59.51 0 1.02-.2 1.41-.59l7.78-7.78 2.81-2.81c.8-.78.8-2.07 0-2.86zM5.41 20L4 18.59l7.72-7.72 1.47 1.35L5.41 20z\"/>\n",
              "  </svg>\n",
              "      </button>\n",
              "      \n",
              "  <style>\n",
              "    .colab-df-container {\n",
              "      display:flex;\n",
              "      flex-wrap:wrap;\n",
              "      gap: 12px;\n",
              "    }\n",
              "\n",
              "    .colab-df-convert {\n",
              "      background-color: #E8F0FE;\n",
              "      border: none;\n",
              "      border-radius: 50%;\n",
              "      cursor: pointer;\n",
              "      display: none;\n",
              "      fill: #1967D2;\n",
              "      height: 32px;\n",
              "      padding: 0 0 0 0;\n",
              "      width: 32px;\n",
              "    }\n",
              "\n",
              "    .colab-df-convert:hover {\n",
              "      background-color: #E2EBFA;\n",
              "      box-shadow: 0px 1px 2px rgba(60, 64, 67, 0.3), 0px 1px 3px 1px rgba(60, 64, 67, 0.15);\n",
              "      fill: #174EA6;\n",
              "    }\n",
              "\n",
              "    [theme=dark] .colab-df-convert {\n",
              "      background-color: #3B4455;\n",
              "      fill: #D2E3FC;\n",
              "    }\n",
              "\n",
              "    [theme=dark] .colab-df-convert:hover {\n",
              "      background-color: #434B5C;\n",
              "      box-shadow: 0px 1px 3px 1px rgba(0, 0, 0, 0.15);\n",
              "      filter: drop-shadow(0px 1px 2px rgba(0, 0, 0, 0.3));\n",
              "      fill: #FFFFFF;\n",
              "    }\n",
              "  </style>\n",
              "\n",
              "      <script>\n",
              "        const buttonEl =\n",
              "          document.querySelector('#df-66a27126-5bae-4c29-88d1-6a79e867be53 button.colab-df-convert');\n",
              "        buttonEl.style.display =\n",
              "          google.colab.kernel.accessAllowed ? 'block' : 'none';\n",
              "\n",
              "        async function convertToInteractive(key) {\n",
              "          const element = document.querySelector('#df-66a27126-5bae-4c29-88d1-6a79e867be53');\n",
              "          const dataTable =\n",
              "            await google.colab.kernel.invokeFunction('convertToInteractive',\n",
              "                                                     [key], {});\n",
              "          if (!dataTable) return;\n",
              "\n",
              "          const docLinkHtml = 'Like what you see? Visit the ' +\n",
              "            '<a target=\"_blank\" href=https://colab.research.google.com/notebooks/data_table.ipynb>data table notebook</a>'\n",
              "            + ' to learn more about interactive tables.';\n",
              "          element.innerHTML = '';\n",
              "          dataTable['output_type'] = 'display_data';\n",
              "          await google.colab.output.renderOutput(dataTable, element);\n",
              "          const docLink = document.createElement('div');\n",
              "          docLink.innerHTML = docLinkHtml;\n",
              "          element.appendChild(docLink);\n",
              "        }\n",
              "      </script>\n",
              "    </div>\n",
              "  </div>\n",
              "  "
            ]
          },
          "metadata": {},
          "execution_count": 62
        }
      ]
    },
    {
      "cell_type": "markdown",
      "source": [
        "Метрики изменились вхудшую сторону, получается Longitude и Latitude нужно оставить. Значит отрицательная корреляция между не целевыми признаками это хорошо?"
      ],
      "metadata": {
        "id": "Em2G_nCJWf8m"
      }
    },
    {
      "cell_type": "code",
      "source": [
        "train(df_without_corr_params_and_longitude, model_name='После удаления Longitude')"
      ],
      "metadata": {
        "colab": {
          "base_uri": "https://localhost:8080/"
        },
        "id": "2msLxkysUXWv",
        "outputId": "eab8d11c-f79e-4953-cefc-f30b343dff24"
      },
      "execution_count": 63,
      "outputs": [
        {
          "output_type": "stream",
          "name": "stdout",
          "text": [
            "Test RMSE:  0.8127549968106587\n",
            "Train RMSE:  0.7966154511829852\n",
            "Test R2:  0.5096074805155244\n",
            "Train R2:  0.5220052777139748\n",
            "Test Score:  0.5096074805155244\n",
            "Train Score:  0.5220052777139748\n"
          ]
        }
      ]
    },
    {
      "cell_type": "code",
      "source": [
        "train(df_without_corr_params.drop(columns='Latitude', axis=1, inplace=False), model_name='После удаления Latitude')"
      ],
      "metadata": {
        "colab": {
          "base_uri": "https://localhost:8080/"
        },
        "id": "spKnw6uyjwPU",
        "outputId": "3c686602-a5c5-49cf-b021-1f931b6533c8"
      },
      "execution_count": 64,
      "outputs": [
        {
          "output_type": "stream",
          "name": "stdout",
          "text": [
            "Test RMSE:  0.81777834980987\n",
            "Train RMSE:  0.8030180856676427\n",
            "Test R2:  0.5035268596799705\n",
            "Train R2:  0.514290829641946\n",
            "Test Score:  0.5035268596799705\n",
            "Train Score:  0.514290829641946\n"
          ]
        }
      ]
    },
    {
      "cell_type": "markdown",
      "source": [
        "#### Удаление выбросов"
      ],
      "metadata": {
        "id": "FFyWTMg90vVF"
      }
    },
    {
      "cell_type": "markdown",
      "source": [
        "Посмотрим на выбросы по признакам. Обратим внимание на Population. Сразу заметно что там много выбросов, поэтому сейчас мы очистим выбросы."
      ],
      "metadata": {
        "id": "-dUL1j-xoMHg"
      }
    },
    {
      "cell_type": "code",
      "source": [
        "df_without_corr_params.loc[:,df_without_corr_params.columns[:-1]].boxplot(figsize=(20, 10))"
      ],
      "metadata": {
        "colab": {
          "base_uri": "https://localhost:8080/",
          "height": 610
        },
        "id": "6p3Y5yU5l_jb",
        "outputId": "799d4a9a-b423-4a32-9604-7a30eec6b82c"
      },
      "execution_count": 65,
      "outputs": [
        {
          "output_type": "execute_result",
          "data": {
            "text/plain": [
              "<AxesSubplot:>"
            ]
          },
          "metadata": {},
          "execution_count": 65
        },
        {
          "output_type": "display_data",
          "data": {
            "text/plain": [
              "<Figure size 1440x720 with 1 Axes>"
            ],
            "image/png": "[encoded data removed]"
          },
          "metadata": {
            "needs_background": "light"
          }
        }
      ]
    },
    {
      "cell_type": "markdown",
      "source": [
        "Пишем функцию очистки выбросов на основе IQR"
      ],
      "metadata": {
        "id": "PfIBZNGmptjr"
      }
    },
    {
      "cell_type": "code",
      "source": [
        "def clean_emissions(df, cols):\n",
        "  df = df.copy()\n",
        "\n",
        "  for col in cols:\n",
        "    Q1 = df[col].quantile(0.25)\n",
        "    Q3 = df[col].quantile(0.75)\n",
        "    IQR = Q3 - Q1\n",
        "    df = df.query('(@Q1 - 1.5 * @IQR) <= {} <= (@Q3 + 1.5 * @IQR)'.format(col))\n",
        "    print(col, \": \", IQR)\n",
        "\n",
        "  return df"
      ],
      "metadata": {
        "id": "Vep8X2lzl_ll"
      },
      "execution_count": 66,
      "outputs": []
    },
    {
      "cell_type": "markdown",
      "source": [
        "По графику видно что мы смогли избавиться от выбросов в признаке Population. Повторим эту процедуру на всех признаках."
      ],
      "metadata": {
        "id": "2mJLC1yVpz5K"
      }
    },
    {
      "cell_type": "code",
      "source": [
        "clean_emissions(df_without_corr_params, ['Population']).loc[:,df_without_corr_params.columns[:-1]].boxplot(figsize=(20, 10))"
      ],
      "metadata": {
        "colab": {
          "base_uri": "https://localhost:8080/",
          "height": 629
        },
        "id": "nCDkb8wrppfy",
        "outputId": "53d41f08-4060-4e77-eedb-fc1a4ee915f6"
      },
      "execution_count": 67,
      "outputs": [
        {
          "output_type": "stream",
          "name": "stdout",
          "text": [
            "Population :  938.0\n"
          ]
        },
        {
          "output_type": "execute_result",
          "data": {
            "text/plain": [
              "<AxesSubplot:>"
            ]
          },
          "metadata": {},
          "execution_count": 67
        },
        {
          "output_type": "display_data",
          "data": {
            "text/plain": [
              "<Figure size 1440x720 with 1 Axes>"
            ],
            "image/png": "[encoded data removed]"
          },
          "metadata": {
            "needs_background": "light"
          }
        }
      ]
    },
    {
      "cell_type": "markdown",
      "source": [
        "По итогу получаем датафрейм очищенный от выбросов"
      ],
      "metadata": {
        "id": "vr8LJeSM089o"
      }
    },
    {
      "cell_type": "code",
      "source": [
        "cleaned_df = clean_emissions(df_without_corr_params, list(df_without_corr_params.columns)[:-1])\n",
        "cleaned_df.loc[:,df_without_corr_params.columns[:-1]].boxplot(figsize=(20, 10))"
      ],
      "metadata": {
        "colab": {
          "base_uri": "https://localhost:8080/",
          "height": 740
        },
        "id": "o6WpoqUMl_q6",
        "outputId": "8ec0a48c-c0fd-44ce-90db-51f078dcf8b2"
      },
      "execution_count": 68,
      "outputs": [
        {
          "output_type": "stream",
          "name": "stdout",
          "text": [
            "MedInc :  2.17985\n",
            "HouseAge :  19.0\n",
            "AveBedrms :  0.09352819774818144\n",
            "Population :  940.0\n",
            "AveOccup :  0.8582393339358907\n",
            "Latitude :  3.789999999999999\n",
            "Longitude :  3.789999999999992\n"
          ]
        },
        {
          "output_type": "execute_result",
          "data": {
            "text/plain": [
              "<AxesSubplot:>"
            ]
          },
          "metadata": {},
          "execution_count": 68
        },
        {
          "output_type": "display_data",
          "data": {
            "text/plain": [
              "<Figure size 1440x720 with 1 Axes>"
            ],
            "image/png": "[encoded data removed]"
          },
          "metadata": {
            "needs_background": "light"
          }
        }
      ]
    },
    {
      "cell_type": "code",
      "source": [
        "cleaned_df"
      ],
      "metadata": {
        "colab": {
          "base_uri": "https://localhost:8080/",
          "height": 423
        },
        "id": "ARDErpgUl_tS",
        "outputId": "aad3348c-7caa-4a0f-9152-3fd3a85b1740"
      },
      "execution_count": 69,
      "outputs": [
        {
          "output_type": "execute_result",
          "data": {
            "text/plain": [
              "       MedInc  HouseAge  AveBedrms  Population  AveOccup  Latitude  Longitude  \\\n",
              "2      7.2574      52.0   1.073446       496.0  2.802260     37.85    -122.24   \n",
              "3      5.6431      52.0   1.073059       558.0  2.547945     37.85    -122.25   \n",
              "4      3.8462      52.0   1.081081       565.0  2.181467     37.85    -122.25   \n",
              "5      4.0368      52.0   1.103627       413.0  2.139896     37.85    -122.25   \n",
              "6      3.6591      52.0   0.951362      1094.0  2.128405     37.84    -122.25   \n",
              "...       ...       ...        ...         ...       ...       ...        ...   \n",
              "20634  3.7125      28.0   1.148256      1041.0  3.026163     39.27    -121.56   \n",
              "20635  1.5603      25.0   1.133333       845.0  2.560606     39.48    -121.09   \n",
              "20637  1.7000      17.0   1.120092      1007.0  2.325635     39.43    -121.22   \n",
              "20638  1.8672      18.0   1.171920       741.0  2.123209     39.43    -121.32   \n",
              "20639  2.3886      16.0   1.162264      1387.0  2.616981     39.37    -121.24   \n",
              "\n",
              "       MedHouseVal  \n",
              "2            3.521  \n",
              "3            3.413  \n",
              "4            3.422  \n",
              "5            2.697  \n",
              "6            2.992  \n",
              "...            ...  \n",
              "20634        1.168  \n",
              "20635        0.781  \n",
              "20637        0.923  \n",
              "20638        0.847  \n",
              "20639        0.894  \n",
              "\n",
              "[16959 rows x 8 columns]"
            ],
            "text/html": [
              "\n",
              "  <div id=\"df-236ef23b-6916-4157-a56d-e03daced30c5\">\n",
              "    <div class=\"colab-df-container\">\n",
              "      <div>\n",
              "<style scoped>\n",
              "    .dataframe tbody tr th:only-of-type {\n",
              "        vertical-align: middle;\n",
              "    }\n",
              "\n",
              "    .dataframe tbody tr th {\n",
              "        vertical-align: top;\n",
              "    }\n",
              "\n",
              "    .dataframe thead th {\n",
              "        text-align: right;\n",
              "    }\n",
              "</style>\n",
              "<table border=\"1\" class=\"dataframe\">\n",
              "  <thead>\n",
              "    <tr style=\"text-align: right;\">\n",
              "      <th></th>\n",
              "      <th>MedInc</th>\n",
              "      <th>HouseAge</th>\n",
              "      <th>AveBedrms</th>\n",
              "      <th>Population</th>\n",
              "      <th>AveOccup</th>\n",
              "      <th>Latitude</th>\n",
              "      <th>Longitude</th>\n",
              "      <th>MedHouseVal</th>\n",
              "    </tr>\n",
              "  </thead>\n",
              "  <tbody>\n",
              "    <tr>\n",
              "      <th>2</th>\n",
              "      <td>7.2574</td>\n",
              "      <td>52.0</td>\n",
              "      <td>1.073446</td>\n",
              "      <td>496.0</td>\n",
              "      <td>2.802260</td>\n",
              "      <td>37.85</td>\n",
              "      <td>-122.24</td>\n",
              "      <td>3.521</td>\n",
              "    </tr>\n",
              "    <tr>\n",
              "      <th>3</th>\n",
              "      <td>5.6431</td>\n",
              "      <td>52.0</td>\n",
              "      <td>1.073059</td>\n",
              "      <td>558.0</td>\n",
              "      <td>2.547945</td>\n",
              "      <td>37.85</td>\n",
              "      <td>-122.25</td>\n",
              "      <td>3.413</td>\n",
              "    </tr>\n",
              "    <tr>\n",
              "      <th>4</th>\n",
              "      <td>3.8462</td>\n",
              "      <td>52.0</td>\n",
              "      <td>1.081081</td>\n",
              "      <td>565.0</td>\n",
              "      <td>2.181467</td>\n",
              "      <td>37.85</td>\n",
              "      <td>-122.25</td>\n",
              "      <td>3.422</td>\n",
              "    </tr>\n",
              "    <tr>\n",
              "      <th>5</th>\n",
              "      <td>4.0368</td>\n",
              "      <td>52.0</td>\n",
              "      <td>1.103627</td>\n",
              "      <td>413.0</td>\n",
              "      <td>2.139896</td>\n",
              "      <td>37.85</td>\n",
              "      <td>-122.25</td>\n",
              "      <td>2.697</td>\n",
              "    </tr>\n",
              "    <tr>\n",
              "      <th>6</th>\n",
              "      <td>3.6591</td>\n",
              "      <td>52.0</td>\n",
              "      <td>0.951362</td>\n",
              "      <td>1094.0</td>\n",
              "      <td>2.128405</td>\n",
              "      <td>37.84</td>\n",
              "      <td>-122.25</td>\n",
              "      <td>2.992</td>\n",
              "    </tr>\n",
              "    <tr>\n",
              "      <th>...</th>\n",
              "      <td>...</td>\n",
              "      <td>...</td>\n",
              "      <td>...</td>\n",
              "      <td>...</td>\n",
              "      <td>...</td>\n",
              "      <td>...</td>\n",
              "      <td>...</td>\n",
              "      <td>...</td>\n",
              "    </tr>\n",
              "    <tr>\n",
              "      <th>20634</th>\n",
              "      <td>3.7125</td>\n",
              "      <td>28.0</td>\n",
              "      <td>1.148256</td>\n",
              "      <td>1041.0</td>\n",
              "      <td>3.026163</td>\n",
              "      <td>39.27</td>\n",
              "      <td>-121.56</td>\n",
              "      <td>1.168</td>\n",
              "    </tr>\n",
              "    <tr>\n",
              "      <th>20635</th>\n",
              "      <td>1.5603</td>\n",
              "      <td>25.0</td>\n",
              "      <td>1.133333</td>\n",
              "      <td>845.0</td>\n",
              "      <td>2.560606</td>\n",
              "      <td>39.48</td>\n",
              "      <td>-121.09</td>\n",
              "      <td>0.781</td>\n",
              "    </tr>\n",
              "    <tr>\n",
              "      <th>20637</th>\n",
              "      <td>1.7000</td>\n",
              "      <td>17.0</td>\n",
              "      <td>1.120092</td>\n",
              "      <td>1007.0</td>\n",
              "      <td>2.325635</td>\n",
              "      <td>39.43</td>\n",
              "      <td>-121.22</td>\n",
              "      <td>0.923</td>\n",
              "    </tr>\n",
              "    <tr>\n",
              "      <th>20638</th>\n",
              "      <td>1.8672</td>\n",
              "      <td>18.0</td>\n",
              "      <td>1.171920</td>\n",
              "      <td>741.0</td>\n",
              "      <td>2.123209</td>\n",
              "      <td>39.43</td>\n",
              "      <td>-121.32</td>\n",
              "      <td>0.847</td>\n",
              "    </tr>\n",
              "    <tr>\n",
              "      <th>20639</th>\n",
              "      <td>2.3886</td>\n",
              "      <td>16.0</td>\n",
              "      <td>1.162264</td>\n",
              "      <td>1387.0</td>\n",
              "      <td>2.616981</td>\n",
              "      <td>39.37</td>\n",
              "      <td>-121.24</td>\n",
              "      <td>0.894</td>\n",
              "    </tr>\n",
              "  </tbody>\n",
              "</table>\n",
              "<p>16959 rows × 8 columns</p>\n",
              "</div>\n",
              "      <button class=\"colab-df-convert\" onclick=\"convertToInteractive('df-236ef23b-6916-4157-a56d-e03daced30c5')\"\n",
              "              title=\"Convert this dataframe to an interactive table.\"\n",
              "              style=\"display:none;\">\n",
              "        \n",
              "  <svg xmlns=\"http://www.w3.org/2000/svg\" height=\"24px\"viewBox=\"0 0 24 24\"\n",
              "       width=\"24px\">\n",
              "    <path d=\"M0 0h24v24H0V0z\" fill=\"none\"/>\n",
              "    <path d=\"M18.56 5.44l.94 2.06.94-2.06 2.06-.94-2.06-.94-.94-2.06-.94 2.06-2.06.94zm-11 1L8.5 8.5l.94-2.06 2.06-.94-2.06-.94L8.5 2.5l-.94 2.06-2.06.94zm10 10l.94 2.06.94-2.06 2.06-.94-2.06-.94-.94-2.06-.94 2.06-2.06.94z\"/><path d=\"M17.41 7.96l-1.37-1.37c-.4-.4-.92-.59-1.43-.59-.52 0-1.04.2-1.43.59L10.3 9.45l-7.72 7.72c-.78.78-.78 2.05 0 2.83L4 21.41c.39.39.9.59 1.41.59.51 0 1.02-.2 1.41-.59l7.78-7.78 2.81-2.81c.8-.78.8-2.07 0-2.86zM5.41 20L4 18.59l7.72-7.72 1.47 1.35L5.41 20z\"/>\n",
              "  </svg>\n",
              "      </button>\n",
              "      \n",
              "  <style>\n",
              "    .colab-df-container {\n",
              "      display:flex;\n",
              "      flex-wrap:wrap;\n",
              "      gap: 12px;\n",
              "    }\n",
              "\n",
              "    .colab-df-convert {\n",
              "      background-color: #E8F0FE;\n",
              "      border: none;\n",
              "      border-radius: 50%;\n",
              "      cursor: pointer;\n",
              "      display: none;\n",
              "      fill: #1967D2;\n",
              "      height: 32px;\n",
              "      padding: 0 0 0 0;\n",
              "      width: 32px;\n",
              "    }\n",
              "\n",
              "    .colab-df-convert:hover {\n",
              "      background-color: #E2EBFA;\n",
              "      box-shadow: 0px 1px 2px rgba(60, 64, 67, 0.3), 0px 1px 3px 1px rgba(60, 64, 67, 0.15);\n",
              "      fill: #174EA6;\n",
              "    }\n",
              "\n",
              "    [theme=dark] .colab-df-convert {\n",
              "      background-color: #3B4455;\n",
              "      fill: #D2E3FC;\n",
              "    }\n",
              "\n",
              "    [theme=dark] .colab-df-convert:hover {\n",
              "      background-color: #434B5C;\n",
              "      box-shadow: 0px 1px 3px 1px rgba(0, 0, 0, 0.15);\n",
              "      filter: drop-shadow(0px 1px 2px rgba(0, 0, 0, 0.3));\n",
              "      fill: #FFFFFF;\n",
              "    }\n",
              "  </style>\n",
              "\n",
              "      <script>\n",
              "        const buttonEl =\n",
              "          document.querySelector('#df-236ef23b-6916-4157-a56d-e03daced30c5 button.colab-df-convert');\n",
              "        buttonEl.style.display =\n",
              "          google.colab.kernel.accessAllowed ? 'block' : 'none';\n",
              "\n",
              "        async function convertToInteractive(key) {\n",
              "          const element = document.querySelector('#df-236ef23b-6916-4157-a56d-e03daced30c5');\n",
              "          const dataTable =\n",
              "            await google.colab.kernel.invokeFunction('convertToInteractive',\n",
              "                                                     [key], {});\n",
              "          if (!dataTable) return;\n",
              "\n",
              "          const docLinkHtml = 'Like what you see? Visit the ' +\n",
              "            '<a target=\"_blank\" href=https://colab.research.google.com/notebooks/data_table.ipynb>data table notebook</a>'\n",
              "            + ' to learn more about interactive tables.';\n",
              "          element.innerHTML = '';\n",
              "          dataTable['output_type'] = 'display_data';\n",
              "          await google.colab.output.renderOutput(dataTable, element);\n",
              "          const docLink = document.createElement('div');\n",
              "          docLink.innerHTML = docLinkHtml;\n",
              "          element.appendChild(docLink);\n",
              "        }\n",
              "      </script>\n",
              "    </div>\n",
              "  </div>\n",
              "  "
            ]
          },
          "metadata": {},
          "execution_count": 69
        }
      ]
    },
    {
      "cell_type": "markdown",
      "source": [
        "Тренируем модель после удаления выбросов"
      ],
      "metadata": {
        "id": "LGMjRcm_1HPQ"
      }
    },
    {
      "cell_type": "code",
      "source": [
        "train(cleaned_df, model_name='После удаления выбросов')"
      ],
      "metadata": {
        "colab": {
          "base_uri": "https://localhost:8080/"
        },
        "id": "Xar9IIrzl_v7",
        "outputId": "61064305-ce31-494e-8a57-23c267a633d7"
      },
      "execution_count": 70,
      "outputs": [
        {
          "output_type": "stream",
          "name": "stdout",
          "text": [
            "Test RMSE:  0.6461339904164625\n",
            "Train RMSE:  0.6532375657773575\n",
            "Test R2:  0.6388073600378661\n",
            "Train R2:  0.6296465379919101\n",
            "Test Score:  0.6388073600378661\n",
            "Train Score:  0.6296465379919101\n"
          ]
        }
      ]
    },
    {
      "cell_type": "markdown",
      "source": [
        "##### Проведем математические преобразования"
      ],
      "metadata": {
        "id": "4-vaz8ofyiPA"
      }
    },
    {
      "cell_type": "markdown",
      "source": [
        "Построим гистограммы по двум датафреймам, до удаления выбросов и после удаления. Видим что после удаления выбросов признаки AveBedrms, Population, AveOccup приняли нормальное распределение, что хорошо."
      ],
      "metadata": {
        "id": "aVVXl-0zrLaK"
      }
    },
    {
      "cell_type": "code",
      "source": [
        "df_without_corr_params.hist(figsize=(20, 10), bins=30)"
      ],
      "metadata": {
        "colab": {
          "base_uri": "https://localhost:8080/",
          "height": 773
        },
        "id": "6Q0KfrQ3UXcG",
        "outputId": "c6f1a181-9317-44ad-c62c-02241c378c4f"
      },
      "execution_count": 71,
      "outputs": [
        {
          "output_type": "execute_result",
          "data": {
            "text/plain": [
              "array([[<AxesSubplot:title={'center':'MedInc'}>,\n",
              "        <AxesSubplot:title={'center':'HouseAge'}>,\n",
              "        <AxesSubplot:title={'center':'AveBedrms'}>],\n",
              "       [<AxesSubplot:title={'center':'Population'}>,\n",
              "        <AxesSubplot:title={'center':'AveOccup'}>,\n",
              "        <AxesSubplot:title={'center':'Latitude'}>],\n",
              "       [<AxesSubplot:title={'center':'Longitude'}>,\n",
              "        <AxesSubplot:title={'center':'MedHouseVal'}>, <AxesSubplot:>]],\n",
              "      dtype=object)"
            ]
          },
          "metadata": {},
          "execution_count": 71
        },
        {
          "output_type": "display_data",
          "data": {
            "text/plain": [
              "<Figure size 1440x720 with 9 Axes>"
            ],
            "image/png": "[encoded data removed]"
          },
          "metadata": {
            "needs_background": "light"
          }
        }
      ]
    },
    {
      "cell_type": "code",
      "source": [
        "cleaned_df.hist(figsize=(20, 10), bins=30)"
      ],
      "metadata": {
        "colab": {
          "base_uri": "https://localhost:8080/",
          "height": 773
        },
        "id": "68ynx4Gjq79j",
        "outputId": "dff04a31-177d-45a0-b84c-56e74e98ebd8"
      },
      "execution_count": 72,
      "outputs": [
        {
          "output_type": "execute_result",
          "data": {
            "text/plain": [
              "array([[<AxesSubplot:title={'center':'MedInc'}>,\n",
              "        <AxesSubplot:title={'center':'HouseAge'}>,\n",
              "        <AxesSubplot:title={'center':'AveBedrms'}>],\n",
              "       [<AxesSubplot:title={'center':'Population'}>,\n",
              "        <AxesSubplot:title={'center':'AveOccup'}>,\n",
              "        <AxesSubplot:title={'center':'Latitude'}>],\n",
              "       [<AxesSubplot:title={'center':'Longitude'}>,\n",
              "        <AxesSubplot:title={'center':'MedHouseVal'}>, <AxesSubplot:>]],\n",
              "      dtype=object)"
            ]
          },
          "metadata": {},
          "execution_count": 72
        },
        {
          "output_type": "display_data",
          "data": {
            "text/plain": [
              "<Figure size 1440x720 with 9 Axes>"
            ],
            "image/png": "[encoded data removed]"
          },
          "metadata": {
            "needs_background": "light"
          }
        }
      ]
    },
    {
      "cell_type": "markdown",
      "source": [
        "Посмотрим на преобразования над целевым признаком. По графикам видно что извлечение корня положительно сказывается на распределении."
      ],
      "metadata": {
        "id": "T_EHpYaCtG0O"
      }
    },
    {
      "cell_type": "code",
      "source": [
        "np.log(cleaned_df[['MedHouseVal']]).hist(figsize=(10, 6), bins=30)"
      ],
      "metadata": {
        "colab": {
          "base_uri": "https://localhost:8080/",
          "height": 408
        },
        "id": "QLvlzJMMtBhJ",
        "outputId": "513ed8ca-a600-4bf4-e0b6-ad5137a1e230"
      },
      "execution_count": 73,
      "outputs": [
        {
          "output_type": "execute_result",
          "data": {
            "text/plain": [
              "array([[<AxesSubplot:title={'center':'MedHouseVal'}>]], dtype=object)"
            ]
          },
          "metadata": {},
          "execution_count": 73
        },
        {
          "output_type": "display_data",
          "data": {
            "text/plain": [
              "<Figure size 720x432 with 1 Axes>"
            ],
            "image/png": "[encoded data removed]"
          },
          "metadata": {
            "needs_background": "light"
          }
        }
      ]
    },
    {
      "cell_type": "code",
      "source": [
        "(cleaned_df[['MedHouseVal']] ** 0.5).hist(figsize=(10, 6), bins=30)"
      ],
      "metadata": {
        "colab": {
          "base_uri": "https://localhost:8080/",
          "height": 408
        },
        "id": "d0qxom4OtBjX",
        "outputId": "5d82395b-a752-4de1-fb81-ab0aa92612a7"
      },
      "execution_count": 74,
      "outputs": [
        {
          "output_type": "execute_result",
          "data": {
            "text/plain": [
              "array([[<AxesSubplot:title={'center':'MedHouseVal'}>]], dtype=object)"
            ]
          },
          "metadata": {},
          "execution_count": 74
        },
        {
          "output_type": "display_data",
          "data": {
            "text/plain": [
              "<Figure size 720x432 with 1 Axes>"
            ],
            "image/png": "[encoded data removed]"
          },
          "metadata": {
            "needs_background": "light"
          }
        }
      ]
    },
    {
      "cell_type": "markdown",
      "source": [
        "Посмотрим на преобразования над MedInc. По графикам видно что извлечение корня положительно сказывается на распределении."
      ],
      "metadata": {
        "id": "9quPs3_4tXPL"
      }
    },
    {
      "cell_type": "code",
      "source": [
        "np.log(cleaned_df[['MedInc']]).hist(figsize=(10, 6), bins=30)"
      ],
      "metadata": {
        "colab": {
          "base_uri": "https://localhost:8080/",
          "height": 408
        },
        "id": "RxxtMTm8UXg-",
        "outputId": "1acc39de-c87a-41d2-db58-ee08140d7369"
      },
      "execution_count": 75,
      "outputs": [
        {
          "output_type": "execute_result",
          "data": {
            "text/plain": [
              "array([[<AxesSubplot:title={'center':'MedInc'}>]], dtype=object)"
            ]
          },
          "metadata": {},
          "execution_count": 75
        },
        {
          "output_type": "display_data",
          "data": {
            "text/plain": [
              "<Figure size 720x432 with 1 Axes>"
            ],
            "image/png": "[encoded data removed]"
          },
          "metadata": {
            "needs_background": "light"
          }
        }
      ]
    },
    {
      "cell_type": "code",
      "source": [
        "(cleaned_df[['MedInc']] ** 0.5).hist(figsize=(10, 6), bins=30)"
      ],
      "metadata": {
        "colab": {
          "base_uri": "https://localhost:8080/",
          "height": 408
        },
        "id": "S8k4MFgTrrQy",
        "outputId": "708847ee-fb94-4063-c3e2-c24e823bda07"
      },
      "execution_count": 76,
      "outputs": [
        {
          "output_type": "execute_result",
          "data": {
            "text/plain": [
              "array([[<AxesSubplot:title={'center':'MedInc'}>]], dtype=object)"
            ]
          },
          "metadata": {},
          "execution_count": 76
        },
        {
          "output_type": "display_data",
          "data": {
            "text/plain": [
              "<Figure size 720x432 with 1 Axes>"
            ],
            "image/png": "[encoded data removed]"
          },
          "metadata": {
            "needs_background": "light"
          }
        }
      ]
    },
    {
      "cell_type": "markdown",
      "source": [
        "Посмотрим на преобразования над HouseAge. Извлечение логарифма кажется лучшим решением для этого признака."
      ],
      "metadata": {
        "id": "jJbYSgBqtrLJ"
      }
    },
    {
      "cell_type": "code",
      "source": [
        "np.log(cleaned_df[['HouseAge']]).hist(figsize=(10, 6), bins=30)"
      ],
      "metadata": {
        "colab": {
          "base_uri": "https://localhost:8080/",
          "height": 408
        },
        "id": "kkA21JUPsBwi",
        "outputId": "926174c6-470b-4c55-8034-46f0855c52aa"
      },
      "execution_count": 77,
      "outputs": [
        {
          "output_type": "execute_result",
          "data": {
            "text/plain": [
              "array([[<AxesSubplot:title={'center':'HouseAge'}>]], dtype=object)"
            ]
          },
          "metadata": {},
          "execution_count": 77
        },
        {
          "output_type": "display_data",
          "data": {
            "text/plain": [
              "<Figure size 720x432 with 1 Axes>"
            ],
            "image/png": "[encoded data removed]"
          },
          "metadata": {
            "needs_background": "light"
          }
        }
      ]
    },
    {
      "cell_type": "code",
      "source": [
        "(cleaned_df[['HouseAge']]**0.5).hist(figsize=(10, 6), bins=30)"
      ],
      "metadata": {
        "colab": {
          "base_uri": "https://localhost:8080/",
          "height": 408
        },
        "id": "hSFBbMWdUXjW",
        "outputId": "497f8818-72b4-4cd8-a9c5-e05413704a42"
      },
      "execution_count": 78,
      "outputs": [
        {
          "output_type": "execute_result",
          "data": {
            "text/plain": [
              "array([[<AxesSubplot:title={'center':'HouseAge'}>]], dtype=object)"
            ]
          },
          "metadata": {},
          "execution_count": 78
        },
        {
          "output_type": "display_data",
          "data": {
            "text/plain": [
              "<Figure size 720x432 with 1 Axes>"
            ],
            "image/png": "[encoded data removed]"
          },
          "metadata": {
            "needs_background": "light"
          }
        }
      ]
    },
    {
      "cell_type": "markdown",
      "source": [
        "Похоже долготу и широту лучше не менять"
      ],
      "metadata": {
        "id": "La2j_3x7t8Hp"
      }
    },
    {
      "cell_type": "code",
      "source": [
        "np.log(cleaned_df[['Longitude',]]).hist(figsize=(10, 6), bins=30)"
      ],
      "metadata": {
        "colab": {
          "base_uri": "https://localhost:8080/",
          "height": 408
        },
        "id": "jfrxinQjUXl-",
        "outputId": "03f2ceb3-82e8-418a-ecf0-8373ba2446e6"
      },
      "execution_count": 79,
      "outputs": [
        {
          "output_type": "execute_result",
          "data": {
            "text/plain": [
              "array([[<AxesSubplot:title={'center':'Longitude'}>]], dtype=object)"
            ]
          },
          "metadata": {},
          "execution_count": 79
        },
        {
          "output_type": "display_data",
          "data": {
            "text/plain": [
              "<Figure size 720x432 with 1 Axes>"
            ],
            "image/png": "[encoded data removed]"
          },
          "metadata": {
            "needs_background": "light"
          }
        }
      ]
    },
    {
      "cell_type": "code",
      "source": [
        "(cleaned_df[['Longitude']]**0.5).hist(figsize=(10, 6), bins=30)"
      ],
      "metadata": {
        "colab": {
          "base_uri": "https://localhost:8080/",
          "height": 408
        },
        "id": "AX2mnnkYUXom",
        "outputId": "84c8f58e-d399-4e94-b64c-13d55351e36f"
      },
      "execution_count": 80,
      "outputs": [
        {
          "output_type": "execute_result",
          "data": {
            "text/plain": [
              "array([[<AxesSubplot:title={'center':'Longitude'}>]], dtype=object)"
            ]
          },
          "metadata": {},
          "execution_count": 80
        },
        {
          "output_type": "display_data",
          "data": {
            "text/plain": [
              "<Figure size 720x432 with 1 Axes>"
            ],
            "image/png": "[encoded data removed]"
          },
          "metadata": {
            "needs_background": "light"
          }
        }
      ]
    },
    {
      "cell_type": "markdown",
      "source": [
        "Преобразуем теперь наши признаки по проведенному исследованию и применим подходящие мат. операции"
      ],
      "metadata": {
        "id": "YT0wBRrx1TbU"
      }
    },
    {
      "cell_type": "code",
      "source": [
        "transformed_df = cleaned_df.copy()"
      ],
      "metadata": {
        "id": "WifNbr8Gu1Og"
      },
      "execution_count": 81,
      "outputs": []
    },
    {
      "cell_type": "code",
      "source": [
        "cleaned_df"
      ],
      "metadata": {
        "colab": {
          "base_uri": "https://localhost:8080/",
          "height": 423
        },
        "id": "hBWxx1LjuyXI",
        "outputId": "df61855c-942a-48f6-a347-4123b744cdc8"
      },
      "execution_count": 82,
      "outputs": [
        {
          "output_type": "execute_result",
          "data": {
            "text/plain": [
              "       MedInc  HouseAge  AveBedrms  Population  AveOccup  Latitude  Longitude  \\\n",
              "2      7.2574      52.0   1.073446       496.0  2.802260     37.85    -122.24   \n",
              "3      5.6431      52.0   1.073059       558.0  2.547945     37.85    -122.25   \n",
              "4      3.8462      52.0   1.081081       565.0  2.181467     37.85    -122.25   \n",
              "5      4.0368      52.0   1.103627       413.0  2.139896     37.85    -122.25   \n",
              "6      3.6591      52.0   0.951362      1094.0  2.128405     37.84    -122.25   \n",
              "...       ...       ...        ...         ...       ...       ...        ...   \n",
              "20634  3.7125      28.0   1.148256      1041.0  3.026163     39.27    -121.56   \n",
              "20635  1.5603      25.0   1.133333       845.0  2.560606     39.48    -121.09   \n",
              "20637  1.7000      17.0   1.120092      1007.0  2.325635     39.43    -121.22   \n",
              "20638  1.8672      18.0   1.171920       741.0  2.123209     39.43    -121.32   \n",
              "20639  2.3886      16.0   1.162264      1387.0  2.616981     39.37    -121.24   \n",
              "\n",
              "       MedHouseVal  \n",
              "2            3.521  \n",
              "3            3.413  \n",
              "4            3.422  \n",
              "5            2.697  \n",
              "6            2.992  \n",
              "...            ...  \n",
              "20634        1.168  \n",
              "20635        0.781  \n",
              "20637        0.923  \n",
              "20638        0.847  \n",
              "20639        0.894  \n",
              "\n",
              "[16959 rows x 8 columns]"
            ],
            "text/html": [
              "\n",
              "  <div id=\"df-35ca826b-b04e-4dfb-a8e5-c0b446250394\">\n",
              "    <div class=\"colab-df-container\">\n",
              "      <div>\n",
              "<style scoped>\n",
              "    .dataframe tbody tr th:only-of-type {\n",
              "        vertical-align: middle;\n",
              "    }\n",
              "\n",
              "    .dataframe tbody tr th {\n",
              "        vertical-align: top;\n",
              "    }\n",
              "\n",
              "    .dataframe thead th {\n",
              "        text-align: right;\n",
              "    }\n",
              "</style>\n",
              "<table border=\"1\" class=\"dataframe\">\n",
              "  <thead>\n",
              "    <tr style=\"text-align: right;\">\n",
              "      <th></th>\n",
              "      <th>MedInc</th>\n",
              "      <th>HouseAge</th>\n",
              "      <th>AveBedrms</th>\n",
              "      <th>Population</th>\n",
              "      <th>AveOccup</th>\n",
              "      <th>Latitude</th>\n",
              "      <th>Longitude</th>\n",
              "      <th>MedHouseVal</th>\n",
              "    </tr>\n",
              "  </thead>\n",
              "  <tbody>\n",
              "    <tr>\n",
              "      <th>2</th>\n",
              "      <td>7.2574</td>\n",
              "      <td>52.0</td>\n",
              "      <td>1.073446</td>\n",
              "      <td>496.0</td>\n",
              "      <td>2.802260</td>\n",
              "      <td>37.85</td>\n",
              "      <td>-122.24</td>\n",
              "      <td>3.521</td>\n",
              "    </tr>\n",
              "    <tr>\n",
              "      <th>3</th>\n",
              "      <td>5.6431</td>\n",
              "      <td>52.0</td>\n",
              "      <td>1.073059</td>\n",
              "      <td>558.0</td>\n",
              "      <td>2.547945</td>\n",
              "      <td>37.85</td>\n",
              "      <td>-122.25</td>\n",
              "      <td>3.413</td>\n",
              "    </tr>\n",
              "    <tr>\n",
              "      <th>4</th>\n",
              "      <td>3.8462</td>\n",
              "      <td>52.0</td>\n",
              "      <td>1.081081</td>\n",
              "      <td>565.0</td>\n",
              "      <td>2.181467</td>\n",
              "      <td>37.85</td>\n",
              "      <td>-122.25</td>\n",
              "      <td>3.422</td>\n",
              "    </tr>\n",
              "    <tr>\n",
              "      <th>5</th>\n",
              "      <td>4.0368</td>\n",
              "      <td>52.0</td>\n",
              "      <td>1.103627</td>\n",
              "      <td>413.0</td>\n",
              "      <td>2.139896</td>\n",
              "      <td>37.85</td>\n",
              "      <td>-122.25</td>\n",
              "      <td>2.697</td>\n",
              "    </tr>\n",
              "    <tr>\n",
              "      <th>6</th>\n",
              "      <td>3.6591</td>\n",
              "      <td>52.0</td>\n",
              "      <td>0.951362</td>\n",
              "      <td>1094.0</td>\n",
              "      <td>2.128405</td>\n",
              "      <td>37.84</td>\n",
              "      <td>-122.25</td>\n",
              "      <td>2.992</td>\n",
              "    </tr>\n",
              "    <tr>\n",
              "      <th>...</th>\n",
              "      <td>...</td>\n",
              "      <td>...</td>\n",
              "      <td>...</td>\n",
              "      <td>...</td>\n",
              "      <td>...</td>\n",
              "      <td>...</td>\n",
              "      <td>...</td>\n",
              "      <td>...</td>\n",
              "    </tr>\n",
              "    <tr>\n",
              "      <th>20634</th>\n",
              "      <td>3.7125</td>\n",
              "      <td>28.0</td>\n",
              "      <td>1.148256</td>\n",
              "      <td>1041.0</td>\n",
              "      <td>3.026163</td>\n",
              "      <td>39.27</td>\n",
              "      <td>-121.56</td>\n",
              "      <td>1.168</td>\n",
              "    </tr>\n",
              "    <tr>\n",
              "      <th>20635</th>\n",
              "      <td>1.5603</td>\n",
              "      <td>25.0</td>\n",
              "      <td>1.133333</td>\n",
              "      <td>845.0</td>\n",
              "      <td>2.560606</td>\n",
              "      <td>39.48</td>\n",
              "      <td>-121.09</td>\n",
              "      <td>0.781</td>\n",
              "    </tr>\n",
              "    <tr>\n",
              "      <th>20637</th>\n",
              "      <td>1.7000</td>\n",
              "      <td>17.0</td>\n",
              "      <td>1.120092</td>\n",
              "      <td>1007.0</td>\n",
              "      <td>2.325635</td>\n",
              "      <td>39.43</td>\n",
              "      <td>-121.22</td>\n",
              "      <td>0.923</td>\n",
              "    </tr>\n",
              "    <tr>\n",
              "      <th>20638</th>\n",
              "      <td>1.8672</td>\n",
              "      <td>18.0</td>\n",
              "      <td>1.171920</td>\n",
              "      <td>741.0</td>\n",
              "      <td>2.123209</td>\n",
              "      <td>39.43</td>\n",
              "      <td>-121.32</td>\n",
              "      <td>0.847</td>\n",
              "    </tr>\n",
              "    <tr>\n",
              "      <th>20639</th>\n",
              "      <td>2.3886</td>\n",
              "      <td>16.0</td>\n",
              "      <td>1.162264</td>\n",
              "      <td>1387.0</td>\n",
              "      <td>2.616981</td>\n",
              "      <td>39.37</td>\n",
              "      <td>-121.24</td>\n",
              "      <td>0.894</td>\n",
              "    </tr>\n",
              "  </tbody>\n",
              "</table>\n",
              "<p>16959 rows × 8 columns</p>\n",
              "</div>\n",
              "      <button class=\"colab-df-convert\" onclick=\"convertToInteractive('df-35ca826b-b04e-4dfb-a8e5-c0b446250394')\"\n",
              "              title=\"Convert this dataframe to an interactive table.\"\n",
              "              style=\"display:none;\">\n",
              "        \n",
              "  <svg xmlns=\"http://www.w3.org/2000/svg\" height=\"24px\"viewBox=\"0 0 24 24\"\n",
              "       width=\"24px\">\n",
              "    <path d=\"M0 0h24v24H0V0z\" fill=\"none\"/>\n",
              "    <path d=\"M18.56 5.44l.94 2.06.94-2.06 2.06-.94-2.06-.94-.94-2.06-.94 2.06-2.06.94zm-11 1L8.5 8.5l.94-2.06 2.06-.94-2.06-.94L8.5 2.5l-.94 2.06-2.06.94zm10 10l.94 2.06.94-2.06 2.06-.94-2.06-.94-.94-2.06-.94 2.06-2.06.94z\"/><path d=\"M17.41 7.96l-1.37-1.37c-.4-.4-.92-.59-1.43-.59-.52 0-1.04.2-1.43.59L10.3 9.45l-7.72 7.72c-.78.78-.78 2.05 0 2.83L4 21.41c.39.39.9.59 1.41.59.51 0 1.02-.2 1.41-.59l7.78-7.78 2.81-2.81c.8-.78.8-2.07 0-2.86zM5.41 20L4 18.59l7.72-7.72 1.47 1.35L5.41 20z\"/>\n",
              "  </svg>\n",
              "      </button>\n",
              "      \n",
              "  <style>\n",
              "    .colab-df-container {\n",
              "      display:flex;\n",
              "      flex-wrap:wrap;\n",
              "      gap: 12px;\n",
              "    }\n",
              "\n",
              "    .colab-df-convert {\n",
              "      background-color: #E8F0FE;\n",
              "      border: none;\n",
              "      border-radius: 50%;\n",
              "      cursor: pointer;\n",
              "      display: none;\n",
              "      fill: #1967D2;\n",
              "      height: 32px;\n",
              "      padding: 0 0 0 0;\n",
              "      width: 32px;\n",
              "    }\n",
              "\n",
              "    .colab-df-convert:hover {\n",
              "      background-color: #E2EBFA;\n",
              "      box-shadow: 0px 1px 2px rgba(60, 64, 67, 0.3), 0px 1px 3px 1px rgba(60, 64, 67, 0.15);\n",
              "      fill: #174EA6;\n",
              "    }\n",
              "\n",
              "    [theme=dark] .colab-df-convert {\n",
              "      background-color: #3B4455;\n",
              "      fill: #D2E3FC;\n",
              "    }\n",
              "\n",
              "    [theme=dark] .colab-df-convert:hover {\n",
              "      background-color: #434B5C;\n",
              "      box-shadow: 0px 1px 3px 1px rgba(0, 0, 0, 0.15);\n",
              "      filter: drop-shadow(0px 1px 2px rgba(0, 0, 0, 0.3));\n",
              "      fill: #FFFFFF;\n",
              "    }\n",
              "  </style>\n",
              "\n",
              "      <script>\n",
              "        const buttonEl =\n",
              "          document.querySelector('#df-35ca826b-b04e-4dfb-a8e5-c0b446250394 button.colab-df-convert');\n",
              "        buttonEl.style.display =\n",
              "          google.colab.kernel.accessAllowed ? 'block' : 'none';\n",
              "\n",
              "        async function convertToInteractive(key) {\n",
              "          const element = document.querySelector('#df-35ca826b-b04e-4dfb-a8e5-c0b446250394');\n",
              "          const dataTable =\n",
              "            await google.colab.kernel.invokeFunction('convertToInteractive',\n",
              "                                                     [key], {});\n",
              "          if (!dataTable) return;\n",
              "\n",
              "          const docLinkHtml = 'Like what you see? Visit the ' +\n",
              "            '<a target=\"_blank\" href=https://colab.research.google.com/notebooks/data_table.ipynb>data table notebook</a>'\n",
              "            + ' to learn more about interactive tables.';\n",
              "          element.innerHTML = '';\n",
              "          dataTable['output_type'] = 'display_data';\n",
              "          await google.colab.output.renderOutput(dataTable, element);\n",
              "          const docLink = document.createElement('div');\n",
              "          docLink.innerHTML = docLinkHtml;\n",
              "          element.appendChild(docLink);\n",
              "        }\n",
              "      </script>\n",
              "    </div>\n",
              "  </div>\n",
              "  "
            ]
          },
          "metadata": {},
          "execution_count": 82
        }
      ]
    },
    {
      "cell_type": "code",
      "source": [
        "transformed_df[['MedHouseVal']] = (cleaned_df[['MedHouseVal']] ** 0.5)\n",
        "transformed_df[['MedInc']] = (cleaned_df[['MedInc']] ** 0.5)\n",
        "transformed_df[['HouseAge']] = np.log(cleaned_df[['HouseAge']])"
      ],
      "metadata": {
        "id": "6dC2uX1CUXtO"
      },
      "execution_count": 83,
      "outputs": []
    },
    {
      "cell_type": "code",
      "source": [
        "transformed_df"
      ],
      "metadata": {
        "colab": {
          "base_uri": "https://localhost:8080/",
          "height": 423
        },
        "id": "j6btCT3XUXv2",
        "outputId": "1ea39494-e66b-43e9-c6e5-9b57389e050d"
      },
      "execution_count": 84,
      "outputs": [
        {
          "output_type": "execute_result",
          "data": {
            "text/plain": [
              "         MedInc  HouseAge  AveBedrms  Population  AveOccup  Latitude  \\\n",
              "2      2.693956  3.951244   1.073446       496.0  2.802260     37.85   \n",
              "3      2.375521  3.951244   1.073059       558.0  2.547945     37.85   \n",
              "4      1.961173  3.951244   1.081081       565.0  2.181467     37.85   \n",
              "5      2.009179  3.951244   1.103627       413.0  2.139896     37.85   \n",
              "6      1.912877  3.951244   0.951362      1094.0  2.128405     37.84   \n",
              "...         ...       ...        ...         ...       ...       ...   \n",
              "20634  1.926785  3.332205   1.148256      1041.0  3.026163     39.27   \n",
              "20635  1.249120  3.218876   1.133333       845.0  2.560606     39.48   \n",
              "20637  1.303840  2.833213   1.120092      1007.0  2.325635     39.43   \n",
              "20638  1.366455  2.890372   1.171920       741.0  2.123209     39.43   \n",
              "20639  1.545510  2.772589   1.162264      1387.0  2.616981     39.37   \n",
              "\n",
              "       Longitude  MedHouseVal  \n",
              "2        -122.24     1.876433  \n",
              "3        -122.25     1.847431  \n",
              "4        -122.25     1.849865  \n",
              "5        -122.25     1.642255  \n",
              "6        -122.25     1.729740  \n",
              "...          ...          ...  \n",
              "20634    -121.56     1.080740  \n",
              "20635    -121.09     0.883742  \n",
              "20637    -121.22     0.960729  \n",
              "20638    -121.32     0.920326  \n",
              "20639    -121.24     0.945516  \n",
              "\n",
              "[16959 rows x 8 columns]"
            ],
            "text/html": [
              "\n",
              "  <div id=\"df-e43b91dd-f006-4011-b475-18db78fd6ebd\">\n",
              "    <div class=\"colab-df-container\">\n",
              "      <div>\n",
              "<style scoped>\n",
              "    .dataframe tbody tr th:only-of-type {\n",
              "        vertical-align: middle;\n",
              "    }\n",
              "\n",
              "    .dataframe tbody tr th {\n",
              "        vertical-align: top;\n",
              "    }\n",
              "\n",
              "    .dataframe thead th {\n",
              "        text-align: right;\n",
              "    }\n",
              "</style>\n",
              "<table border=\"1\" class=\"dataframe\">\n",
              "  <thead>\n",
              "    <tr style=\"text-align: right;\">\n",
              "      <th></th>\n",
              "      <th>MedInc</th>\n",
              "      <th>HouseAge</th>\n",
              "      <th>AveBedrms</th>\n",
              "      <th>Population</th>\n",
              "      <th>AveOccup</th>\n",
              "      <th>Latitude</th>\n",
              "      <th>Longitude</th>\n",
              "      <th>MedHouseVal</th>\n",
              "    </tr>\n",
              "  </thead>\n",
              "  <tbody>\n",
              "    <tr>\n",
              "      <th>2</th>\n",
              "      <td>2.693956</td>\n",
              "      <td>3.951244</td>\n",
              "      <td>1.073446</td>\n",
              "      <td>496.0</td>\n",
              "      <td>2.802260</td>\n",
              "      <td>37.85</td>\n",
              "      <td>-122.24</td>\n",
              "      <td>1.876433</td>\n",
              "    </tr>\n",
              "    <tr>\n",
              "      <th>3</th>\n",
              "      <td>2.375521</td>\n",
              "      <td>3.951244</td>\n",
              "      <td>1.073059</td>\n",
              "      <td>558.0</td>\n",
              "      <td>2.547945</td>\n",
              "      <td>37.85</td>\n",
              "      <td>-122.25</td>\n",
              "      <td>1.847431</td>\n",
              "    </tr>\n",
              "    <tr>\n",
              "      <th>4</th>\n",
              "      <td>1.961173</td>\n",
              "      <td>3.951244</td>\n",
              "      <td>1.081081</td>\n",
              "      <td>565.0</td>\n",
              "      <td>2.181467</td>\n",
              "      <td>37.85</td>\n",
              "      <td>-122.25</td>\n",
              "      <td>1.849865</td>\n",
              "    </tr>\n",
              "    <tr>\n",
              "      <th>5</th>\n",
              "      <td>2.009179</td>\n",
              "      <td>3.951244</td>\n",
              "      <td>1.103627</td>\n",
              "      <td>413.0</td>\n",
              "      <td>2.139896</td>\n",
              "      <td>37.85</td>\n",
              "      <td>-122.25</td>\n",
              "      <td>1.642255</td>\n",
              "    </tr>\n",
              "    <tr>\n",
              "      <th>6</th>\n",
              "      <td>1.912877</td>\n",
              "      <td>3.951244</td>\n",
              "      <td>0.951362</td>\n",
              "      <td>1094.0</td>\n",
              "      <td>2.128405</td>\n",
              "      <td>37.84</td>\n",
              "      <td>-122.25</td>\n",
              "      <td>1.729740</td>\n",
              "    </tr>\n",
              "    <tr>\n",
              "      <th>...</th>\n",
              "      <td>...</td>\n",
              "      <td>...</td>\n",
              "      <td>...</td>\n",
              "      <td>...</td>\n",
              "      <td>...</td>\n",
              "      <td>...</td>\n",
              "      <td>...</td>\n",
              "      <td>...</td>\n",
              "    </tr>\n",
              "    <tr>\n",
              "      <th>20634</th>\n",
              "      <td>1.926785</td>\n",
              "      <td>3.332205</td>\n",
              "      <td>1.148256</td>\n",
              "      <td>1041.0</td>\n",
              "      <td>3.026163</td>\n",
              "      <td>39.27</td>\n",
              "      <td>-121.56</td>\n",
              "      <td>1.080740</td>\n",
              "    </tr>\n",
              "    <tr>\n",
              "      <th>20635</th>\n",
              "      <td>1.249120</td>\n",
              "      <td>3.218876</td>\n",
              "      <td>1.133333</td>\n",
              "      <td>845.0</td>\n",
              "      <td>2.560606</td>\n",
              "      <td>39.48</td>\n",
              "      <td>-121.09</td>\n",
              "      <td>0.883742</td>\n",
              "    </tr>\n",
              "    <tr>\n",
              "      <th>20637</th>\n",
              "      <td>1.303840</td>\n",
              "      <td>2.833213</td>\n",
              "      <td>1.120092</td>\n",
              "      <td>1007.0</td>\n",
              "      <td>2.325635</td>\n",
              "      <td>39.43</td>\n",
              "      <td>-121.22</td>\n",
              "      <td>0.960729</td>\n",
              "    </tr>\n",
              "    <tr>\n",
              "      <th>20638</th>\n",
              "      <td>1.366455</td>\n",
              "      <td>2.890372</td>\n",
              "      <td>1.171920</td>\n",
              "      <td>741.0</td>\n",
              "      <td>2.123209</td>\n",
              "      <td>39.43</td>\n",
              "      <td>-121.32</td>\n",
              "      <td>0.920326</td>\n",
              "    </tr>\n",
              "    <tr>\n",
              "      <th>20639</th>\n",
              "      <td>1.545510</td>\n",
              "      <td>2.772589</td>\n",
              "      <td>1.162264</td>\n",
              "      <td>1387.0</td>\n",
              "      <td>2.616981</td>\n",
              "      <td>39.37</td>\n",
              "      <td>-121.24</td>\n",
              "      <td>0.945516</td>\n",
              "    </tr>\n",
              "  </tbody>\n",
              "</table>\n",
              "<p>16959 rows × 8 columns</p>\n",
              "</div>\n",
              "      <button class=\"colab-df-convert\" onclick=\"convertToInteractive('df-e43b91dd-f006-4011-b475-18db78fd6ebd')\"\n",
              "              title=\"Convert this dataframe to an interactive table.\"\n",
              "              style=\"display:none;\">\n",
              "        \n",
              "  <svg xmlns=\"http://www.w3.org/2000/svg\" height=\"24px\"viewBox=\"0 0 24 24\"\n",
              "       width=\"24px\">\n",
              "    <path d=\"M0 0h24v24H0V0z\" fill=\"none\"/>\n",
              "    <path d=\"M18.56 5.44l.94 2.06.94-2.06 2.06-.94-2.06-.94-.94-2.06-.94 2.06-2.06.94zm-11 1L8.5 8.5l.94-2.06 2.06-.94-2.06-.94L8.5 2.5l-.94 2.06-2.06.94zm10 10l.94 2.06.94-2.06 2.06-.94-2.06-.94-.94-2.06-.94 2.06-2.06.94z\"/><path d=\"M17.41 7.96l-1.37-1.37c-.4-.4-.92-.59-1.43-.59-.52 0-1.04.2-1.43.59L10.3 9.45l-7.72 7.72c-.78.78-.78 2.05 0 2.83L4 21.41c.39.39.9.59 1.41.59.51 0 1.02-.2 1.41-.59l7.78-7.78 2.81-2.81c.8-.78.8-2.07 0-2.86zM5.41 20L4 18.59l7.72-7.72 1.47 1.35L5.41 20z\"/>\n",
              "  </svg>\n",
              "      </button>\n",
              "      \n",
              "  <style>\n",
              "    .colab-df-container {\n",
              "      display:flex;\n",
              "      flex-wrap:wrap;\n",
              "      gap: 12px;\n",
              "    }\n",
              "\n",
              "    .colab-df-convert {\n",
              "      background-color: #E8F0FE;\n",
              "      border: none;\n",
              "      border-radius: 50%;\n",
              "      cursor: pointer;\n",
              "      display: none;\n",
              "      fill: #1967D2;\n",
              "      height: 32px;\n",
              "      padding: 0 0 0 0;\n",
              "      width: 32px;\n",
              "    }\n",
              "\n",
              "    .colab-df-convert:hover {\n",
              "      background-color: #E2EBFA;\n",
              "      box-shadow: 0px 1px 2px rgba(60, 64, 67, 0.3), 0px 1px 3px 1px rgba(60, 64, 67, 0.15);\n",
              "      fill: #174EA6;\n",
              "    }\n",
              "\n",
              "    [theme=dark] .colab-df-convert {\n",
              "      background-color: #3B4455;\n",
              "      fill: #D2E3FC;\n",
              "    }\n",
              "\n",
              "    [theme=dark] .colab-df-convert:hover {\n",
              "      background-color: #434B5C;\n",
              "      box-shadow: 0px 1px 3px 1px rgba(0, 0, 0, 0.15);\n",
              "      filter: drop-shadow(0px 1px 2px rgba(0, 0, 0, 0.3));\n",
              "      fill: #FFFFFF;\n",
              "    }\n",
              "  </style>\n",
              "\n",
              "      <script>\n",
              "        const buttonEl =\n",
              "          document.querySelector('#df-e43b91dd-f006-4011-b475-18db78fd6ebd button.colab-df-convert');\n",
              "        buttonEl.style.display =\n",
              "          google.colab.kernel.accessAllowed ? 'block' : 'none';\n",
              "\n",
              "        async function convertToInteractive(key) {\n",
              "          const element = document.querySelector('#df-e43b91dd-f006-4011-b475-18db78fd6ebd');\n",
              "          const dataTable =\n",
              "            await google.colab.kernel.invokeFunction('convertToInteractive',\n",
              "                                                     [key], {});\n",
              "          if (!dataTable) return;\n",
              "\n",
              "          const docLinkHtml = 'Like what you see? Visit the ' +\n",
              "            '<a target=\"_blank\" href=https://colab.research.google.com/notebooks/data_table.ipynb>data table notebook</a>'\n",
              "            + ' to learn more about interactive tables.';\n",
              "          element.innerHTML = '';\n",
              "          dataTable['output_type'] = 'display_data';\n",
              "          await google.colab.output.renderOutput(dataTable, element);\n",
              "          const docLink = document.createElement('div');\n",
              "          docLink.innerHTML = docLinkHtml;\n",
              "          element.appendChild(docLink);\n",
              "        }\n",
              "      </script>\n",
              "    </div>\n",
              "  </div>\n",
              "  "
            ]
          },
          "metadata": {},
          "execution_count": 84
        }
      ]
    },
    {
      "cell_type": "markdown",
      "source": [
        "Теперь наши признаки выглядят куда лучше чем изначально"
      ],
      "metadata": {
        "id": "tGJZaDD82Laq"
      }
    },
    {
      "cell_type": "code",
      "source": [
        "transformed_df.hist(figsize=(20, 10), bins=30)"
      ],
      "metadata": {
        "colab": {
          "base_uri": "https://localhost:8080/",
          "height": 773
        },
        "id": "Exe0gwLwvcnZ",
        "outputId": "6902188c-5f70-4002-9b27-ec07f5b48780"
      },
      "execution_count": 85,
      "outputs": [
        {
          "output_type": "execute_result",
          "data": {
            "text/plain": [
              "array([[<AxesSubplot:title={'center':'MedInc'}>,\n",
              "        <AxesSubplot:title={'center':'HouseAge'}>,\n",
              "        <AxesSubplot:title={'center':'AveBedrms'}>],\n",
              "       [<AxesSubplot:title={'center':'Population'}>,\n",
              "        <AxesSubplot:title={'center':'AveOccup'}>,\n",
              "        <AxesSubplot:title={'center':'Latitude'}>],\n",
              "       [<AxesSubplot:title={'center':'Longitude'}>,\n",
              "        <AxesSubplot:title={'center':'MedHouseVal'}>, <AxesSubplot:>]],\n",
              "      dtype=object)"
            ]
          },
          "metadata": {},
          "execution_count": 85
        },
        {
          "output_type": "display_data",
          "data": {
            "text/plain": [
              "<Figure size 1440x720 with 9 Axes>"
            ],
            "image/png": "[encoded data removed]"
          },
          "metadata": {
            "needs_background": "light"
          }
        }
      ]
    },
    {
      "cell_type": "code",
      "source": [
        "transformed_df.corr().style.background_gradient(cmap='coolwarm').set_precision(2)"
      ],
      "metadata": {
        "colab": {
          "base_uri": "https://localhost:8080/",
          "height": 337
        },
        "id": "C38xGrafwONg",
        "outputId": "e7bd0d91-7ac1-4a12-89e7-8592ed47a2b0"
      },
      "execution_count": 86,
      "outputs": [
        {
          "output_type": "stream",
          "name": "stderr",
          "text": [
            "<ipython-input-86-99e649113bee>:1: FutureWarning: this method is deprecated in favour of `Styler.format(precision=..)`\n",
            "  transformed_df.corr().style.background_gradient(cmap='coolwarm').set_precision(2)\n"
          ]
        },
        {
          "output_type": "execute_result",
          "data": {
            "text/plain": [
              "<pandas.io.formats.style.Styler at 0x7f46243af100>"
            ],
            "text/html": [
              "<style type=\"text/css\">\n",
              "#T_906b9_row0_col0, #T_906b9_row1_col1, #T_906b9_row2_col2, #T_906b9_row3_col3, #T_906b9_row4_col4, #T_906b9_row5_col5, #T_906b9_row6_col6, #T_906b9_row7_col7 {\n",
              "  background-color: #b40426;\n",
              "  color: #f1f1f1;\n",
              "}\n",
              "#T_906b9_row0_col1 {\n",
              "  background-color: #536edd;\n",
              "  color: #f1f1f1;\n",
              "}\n",
              "#T_906b9_row0_col2, #T_906b9_row1_col3, #T_906b9_row2_col0, #T_906b9_row3_col1, #T_906b9_row4_col7, #T_906b9_row5_col6, #T_906b9_row6_col5, #T_906b9_row7_col4 {\n",
              "  background-color: #3b4cc0;\n",
              "  color: #f1f1f1;\n",
              "}\n",
              "#T_906b9_row0_col3, #T_906b9_row0_col4 {\n",
              "  background-color: #779af7;\n",
              "  color: #f1f1f1;\n",
              "}\n",
              "#T_906b9_row0_col5 {\n",
              "  background-color: #ccd9ed;\n",
              "  color: #000000;\n",
              "}\n",
              "#T_906b9_row0_col6 {\n",
              "  background-color: #d6dce4;\n",
              "  color: #000000;\n",
              "}\n",
              "#T_906b9_row0_col7 {\n",
              "  background-color: #f6a283;\n",
              "  color: #000000;\n",
              "}\n",
              "#T_906b9_row1_col0 {\n",
              "  background-color: #4f69d9;\n",
              "  color: #f1f1f1;\n",
              "}\n",
              "#T_906b9_row1_col2, #T_906b9_row5_col4 {\n",
              "  background-color: #5f7fe8;\n",
              "  color: #f1f1f1;\n",
              "}\n",
              "#T_906b9_row1_col4 {\n",
              "  background-color: #89acfd;\n",
              "  color: #000000;\n",
              "}\n",
              "#T_906b9_row1_col5, #T_906b9_row2_col6 {\n",
              "  background-color: #d8dce2;\n",
              "  color: #000000;\n",
              "}\n",
              "#T_906b9_row1_col6 {\n",
              "  background-color: #cdd9ec;\n",
              "  color: #000000;\n",
              "}\n",
              "#T_906b9_row1_col7 {\n",
              "  background-color: #9fbfff;\n",
              "  color: #000000;\n",
              "}\n",
              "#T_906b9_row2_col1, #T_906b9_row5_col0 {\n",
              "  background-color: #6282ea;\n",
              "  color: #f1f1f1;\n",
              "}\n",
              "#T_906b9_row2_col3 {\n",
              "  background-color: #92b4fe;\n",
              "  color: #000000;\n",
              "}\n",
              "#T_906b9_row2_col4 {\n",
              "  background-color: #6e90f2;\n",
              "  color: #f1f1f1;\n",
              "}\n",
              "#T_906b9_row2_col5 {\n",
              "  background-color: #dcdddd;\n",
              "  color: #000000;\n",
              "}\n",
              "#T_906b9_row2_col7, #T_906b9_row3_col0, #T_906b9_row6_col0 {\n",
              "  background-color: #7597f6;\n",
              "  color: #f1f1f1;\n",
              "}\n",
              "#T_906b9_row3_col2 {\n",
              "  background-color: #8fb1fe;\n",
              "  color: #000000;\n",
              "}\n",
              "#T_906b9_row3_col4 {\n",
              "  background-color: #bfd3f6;\n",
              "  color: #000000;\n",
              "}\n",
              "#T_906b9_row3_col5 {\n",
              "  background-color: #c9d7f0;\n",
              "  color: #000000;\n",
              "}\n",
              "#T_906b9_row3_col6 {\n",
              "  background-color: #e6d7cf;\n",
              "  color: #000000;\n",
              "}\n",
              "#T_906b9_row3_col7 {\n",
              "  background-color: #82a6fb;\n",
              "  color: #f1f1f1;\n",
              "}\n",
              "#T_906b9_row4_col0 {\n",
              "  background-color: #6788ee;\n",
              "  color: #f1f1f1;\n",
              "}\n",
              "#T_906b9_row4_col1 {\n",
              "  background-color: #7da0f9;\n",
              "  color: #f1f1f1;\n",
              "}\n",
              "#T_906b9_row4_col2, #T_906b9_row5_col3 {\n",
              "  background-color: #5e7de7;\n",
              "  color: #f1f1f1;\n",
              "}\n",
              "#T_906b9_row4_col3 {\n",
              "  background-color: #b6cefa;\n",
              "  color: #000000;\n",
              "}\n",
              "#T_906b9_row4_col5 {\n",
              "  background-color: #c1d4f4;\n",
              "  color: #000000;\n",
              "}\n",
              "#T_906b9_row4_col6 {\n",
              "  background-color: #eed0c0;\n",
              "  color: #000000;\n",
              "}\n",
              "#T_906b9_row5_col1 {\n",
              "  background-color: #7a9df8;\n",
              "  color: #f1f1f1;\n",
              "}\n",
              "#T_906b9_row5_col2 {\n",
              "  background-color: #81a4fb;\n",
              "  color: #f1f1f1;\n",
              "}\n",
              "#T_906b9_row5_col7 {\n",
              "  background-color: #5a78e4;\n",
              "  color: #f1f1f1;\n",
              "}\n",
              "#T_906b9_row6_col1 {\n",
              "  background-color: #6687ed;\n",
              "  color: #f1f1f1;\n",
              "}\n",
              "#T_906b9_row6_col2 {\n",
              "  background-color: #799cf8;\n",
              "  color: #f1f1f1;\n",
              "}\n",
              "#T_906b9_row6_col3 {\n",
              "  background-color: #98b9ff;\n",
              "  color: #000000;\n",
              "}\n",
              "#T_906b9_row6_col4 {\n",
              "  background-color: #b9d0f9;\n",
              "  color: #000000;\n",
              "}\n",
              "#T_906b9_row6_col7 {\n",
              "  background-color: #80a3fa;\n",
              "  color: #f1f1f1;\n",
              "}\n",
              "#T_906b9_row7_col0 {\n",
              "  background-color: #f7a889;\n",
              "  color: #000000;\n",
              "}\n",
              "#T_906b9_row7_col1 {\n",
              "  background-color: #94b6ff;\n",
              "  color: #000000;\n",
              "}\n",
              "#T_906b9_row7_col2 {\n",
              "  background-color: #6485ec;\n",
              "  color: #f1f1f1;\n",
              "}\n",
              "#T_906b9_row7_col3 {\n",
              "  background-color: #7699f6;\n",
              "  color: #f1f1f1;\n",
              "}\n",
              "#T_906b9_row7_col5 {\n",
              "  background-color: #bed2f6;\n",
              "  color: #000000;\n",
              "}\n",
              "#T_906b9_row7_col6 {\n",
              "  background-color: #d4dbe6;\n",
              "  color: #000000;\n",
              "}\n",
              "</style>\n",
              "<table id=\"T_906b9_\" class=\"dataframe\">\n",
              "  <thead>\n",
              "    <tr>\n",
              "      <th class=\"blank level0\" >&nbsp;</th>\n",
              "      <th class=\"col_heading level0 col0\" >MedInc</th>\n",
              "      <th class=\"col_heading level0 col1\" >HouseAge</th>\n",
              "      <th class=\"col_heading level0 col2\" >AveBedrms</th>\n",
              "      <th class=\"col_heading level0 col3\" >Population</th>\n",
              "      <th class=\"col_heading level0 col4\" >AveOccup</th>\n",
              "      <th class=\"col_heading level0 col5\" >Latitude</th>\n",
              "      <th class=\"col_heading level0 col6\" >Longitude</th>\n",
              "      <th class=\"col_heading level0 col7\" >MedHouseVal</th>\n",
              "    </tr>\n",
              "  </thead>\n",
              "  <tbody>\n",
              "    <tr>\n",
              "      <th id=\"T_906b9_level0_row0\" class=\"row_heading level0 row0\" >MedInc</th>\n",
              "      <td id=\"T_906b9_row0_col0\" class=\"data row0 col0\" >1.00</td>\n",
              "      <td id=\"T_906b9_row0_col1\" class=\"data row0 col1\" >-0.15</td>\n",
              "      <td id=\"T_906b9_row0_col2\" class=\"data row0 col2\" >-0.24</td>\n",
              "      <td id=\"T_906b9_row0_col3\" class=\"data row0 col3\" >-0.01</td>\n",
              "      <td id=\"T_906b9_row0_col4\" class=\"data row0 col4\" >-0.06</td>\n",
              "      <td id=\"T_906b9_row0_col5\" class=\"data row0 col5\" >-0.08</td>\n",
              "      <td id=\"T_906b9_row0_col6\" class=\"data row0 col6\" >-0.01</td>\n",
              "      <td id=\"T_906b9_row0_col7\" class=\"data row0 col7\" >0.64</td>\n",
              "    </tr>\n",
              "    <tr>\n",
              "      <th id=\"T_906b9_level0_row1\" class=\"row_heading level0 row1\" >HouseAge</th>\n",
              "      <td id=\"T_906b9_row1_col0\" class=\"data row1 col0\" >-0.15</td>\n",
              "      <td id=\"T_906b9_row1_col1\" class=\"data row1 col1\" >1.00</td>\n",
              "      <td id=\"T_906b9_row1_col2\" class=\"data row1 col2\" >-0.09</td>\n",
              "      <td id=\"T_906b9_row1_col3\" class=\"data row1 col3\" >-0.25</td>\n",
              "      <td id=\"T_906b9_row1_col4\" class=\"data row1 col4\" >0.00</td>\n",
              "      <td id=\"T_906b9_row1_col5\" class=\"data row1 col5\" >-0.00</td>\n",
              "      <td id=\"T_906b9_row1_col6\" class=\"data row1 col6\" >-0.08</td>\n",
              "      <td id=\"T_906b9_row1_col7\" class=\"data row1 col7\" >0.09</td>\n",
              "    </tr>\n",
              "    <tr>\n",
              "      <th id=\"T_906b9_level0_row2\" class=\"row_heading level0 row2\" >AveBedrms</th>\n",
              "      <td id=\"T_906b9_row2_col0\" class=\"data row2 col0\" >-0.24</td>\n",
              "      <td id=\"T_906b9_row2_col1\" class=\"data row2 col1\" >-0.09</td>\n",
              "      <td id=\"T_906b9_row2_col2\" class=\"data row2 col2\" >1.00</td>\n",
              "      <td id=\"T_906b9_row2_col3\" class=\"data row2 col3\" >0.08</td>\n",
              "      <td id=\"T_906b9_row2_col4\" class=\"data row2 col4\" >-0.10</td>\n",
              "      <td id=\"T_906b9_row2_col5\" class=\"data row2 col5\" >0.03</td>\n",
              "      <td id=\"T_906b9_row2_col6\" class=\"data row2 col6\" >-0.00</td>\n",
              "      <td id=\"T_906b9_row2_col7\" class=\"data row2 col7\" >-0.07</td>\n",
              "    </tr>\n",
              "    <tr>\n",
              "      <th id=\"T_906b9_level0_row3\" class=\"row_heading level0 row3\" >Population</th>\n",
              "      <td id=\"T_906b9_row3_col0\" class=\"data row3 col0\" >-0.01</td>\n",
              "      <td id=\"T_906b9_row3_col1\" class=\"data row3 col1\" >-0.25</td>\n",
              "      <td id=\"T_906b9_row3_col2\" class=\"data row3 col2\" >0.08</td>\n",
              "      <td id=\"T_906b9_row3_col3\" class=\"data row3 col3\" >1.00</td>\n",
              "      <td id=\"T_906b9_row3_col4\" class=\"data row3 col4\" >0.21</td>\n",
              "      <td id=\"T_906b9_row3_col5\" class=\"data row3 col5\" >-0.11</td>\n",
              "      <td id=\"T_906b9_row3_col6\" class=\"data row3 col6\" >0.10</td>\n",
              "      <td id=\"T_906b9_row3_col7\" class=\"data row3 col7\" >-0.02</td>\n",
              "    </tr>\n",
              "    <tr>\n",
              "      <th id=\"T_906b9_level0_row4\" class=\"row_heading level0 row4\" >AveOccup</th>\n",
              "      <td id=\"T_906b9_row4_col0\" class=\"data row4 col0\" >-0.06</td>\n",
              "      <td id=\"T_906b9_row4_col1\" class=\"data row4 col1\" >0.00</td>\n",
              "      <td id=\"T_906b9_row4_col2\" class=\"data row4 col2\" >-0.10</td>\n",
              "      <td id=\"T_906b9_row4_col3\" class=\"data row4 col3\" >0.21</td>\n",
              "      <td id=\"T_906b9_row4_col4\" class=\"data row4 col4\" >1.00</td>\n",
              "      <td id=\"T_906b9_row4_col5\" class=\"data row4 col5\" >-0.16</td>\n",
              "      <td id=\"T_906b9_row4_col6\" class=\"data row4 col6\" >0.18</td>\n",
              "      <td id=\"T_906b9_row4_col7\" class=\"data row4 col7\" >-0.31</td>\n",
              "    </tr>\n",
              "    <tr>\n",
              "      <th id=\"T_906b9_level0_row5\" class=\"row_heading level0 row5\" >Latitude</th>\n",
              "      <td id=\"T_906b9_row5_col0\" class=\"data row5 col0\" >-0.08</td>\n",
              "      <td id=\"T_906b9_row5_col1\" class=\"data row5 col1\" >-0.00</td>\n",
              "      <td id=\"T_906b9_row5_col2\" class=\"data row5 col2\" >0.03</td>\n",
              "      <td id=\"T_906b9_row5_col3\" class=\"data row5 col3\" >-0.11</td>\n",
              "      <td id=\"T_906b9_row5_col4\" class=\"data row5 col4\" >-0.16</td>\n",
              "      <td id=\"T_906b9_row5_col5\" class=\"data row5 col5\" >1.00</td>\n",
              "      <td id=\"T_906b9_row5_col6\" class=\"data row5 col6\" >-0.93</td>\n",
              "      <td id=\"T_906b9_row5_col7\" class=\"data row5 col7\" >-0.17</td>\n",
              "    </tr>\n",
              "    <tr>\n",
              "      <th id=\"T_906b9_level0_row6\" class=\"row_heading level0 row6\" >Longitude</th>\n",
              "      <td id=\"T_906b9_row6_col0\" class=\"data row6 col0\" >-0.01</td>\n",
              "      <td id=\"T_906b9_row6_col1\" class=\"data row6 col1\" >-0.08</td>\n",
              "      <td id=\"T_906b9_row6_col2\" class=\"data row6 col2\" >-0.00</td>\n",
              "      <td id=\"T_906b9_row6_col3\" class=\"data row6 col3\" >0.10</td>\n",
              "      <td id=\"T_906b9_row6_col4\" class=\"data row6 col4\" >0.18</td>\n",
              "      <td id=\"T_906b9_row6_col5\" class=\"data row6 col5\" >-0.93</td>\n",
              "      <td id=\"T_906b9_row6_col6\" class=\"data row6 col6\" >1.00</td>\n",
              "      <td id=\"T_906b9_row6_col7\" class=\"data row6 col7\" >-0.03</td>\n",
              "    </tr>\n",
              "    <tr>\n",
              "      <th id=\"T_906b9_level0_row7\" class=\"row_heading level0 row7\" >MedHouseVal</th>\n",
              "      <td id=\"T_906b9_row7_col0\" class=\"data row7 col0\" >0.64</td>\n",
              "      <td id=\"T_906b9_row7_col1\" class=\"data row7 col1\" >0.09</td>\n",
              "      <td id=\"T_906b9_row7_col2\" class=\"data row7 col2\" >-0.07</td>\n",
              "      <td id=\"T_906b9_row7_col3\" class=\"data row7 col3\" >-0.02</td>\n",
              "      <td id=\"T_906b9_row7_col4\" class=\"data row7 col4\" >-0.31</td>\n",
              "      <td id=\"T_906b9_row7_col5\" class=\"data row7 col5\" >-0.17</td>\n",
              "      <td id=\"T_906b9_row7_col6\" class=\"data row7 col6\" >-0.03</td>\n",
              "      <td id=\"T_906b9_row7_col7\" class=\"data row7 col7\" >1.00</td>\n",
              "    </tr>\n",
              "  </tbody>\n",
              "</table>\n"
            ]
          },
          "metadata": {},
          "execution_count": 86
        }
      ]
    },
    {
      "cell_type": "markdown",
      "source": [
        "Проведем обучение"
      ],
      "metadata": {
        "id": "PuPOKaNm2Uq1"
      }
    },
    {
      "cell_type": "code",
      "source": [
        "train(transformed_df, model_name='После математических преобразований')"
      ],
      "metadata": {
        "colab": {
          "base_uri": "https://localhost:8080/"
        },
        "id": "QeswHnTywOP_",
        "outputId": "e5d13fc9-c07f-4b7c-d3ac-2bcbea4223c4"
      },
      "execution_count": 87,
      "outputs": [
        {
          "output_type": "stream",
          "name": "stdout",
          "text": [
            "Test RMSE:  0.2126983864989393\n",
            "Train RMSE:  0.21462118322352802\n",
            "Test R2:  0.6681572231121566\n",
            "Train R2:  0.6589254740951068\n",
            "Test Score:  0.6681572231121566\n",
            "Train Score:  0.6589254740951068\n"
          ]
        }
      ]
    },
    {
      "cell_type": "markdown",
      "source": [
        "Посмотрим на окончательную статистику после всех наших обучений"
      ],
      "metadata": {
        "id": "9K7FPDQ82XOl"
      }
    },
    {
      "cell_type": "code",
      "source": [
        "stat = pd.DataFrame(statistic[1:], columns = statistic[0])\n",
        "stat"
      ],
      "metadata": {
        "colab": {
          "base_uri": "https://localhost:8080/",
          "height": 269
        },
        "id": "K9yH7cDRwOSo",
        "outputId": "77c8efa1-58cf-46ce-b03c-62c29fb43383"
      },
      "execution_count": 88,
      "outputs": [
        {
          "output_type": "execute_result",
          "data": {
            "text/plain": [
              "                                 model  RMSE_Test  RMSE_Train   R2_Test  \\\n",
              "0                 Необработаная модель   0.732764    0.722491  0.601385   \n",
              "1             После удаления AveBedrms   0.742417    0.731181  0.590814   \n",
              "2              После удаления AveRooms   0.735726    0.728579  0.598156   \n",
              "3             После удаления Longitude   0.812755    0.796615  0.509607   \n",
              "4              После удаления Latitude   0.817778    0.803018  0.503527   \n",
              "5              После удаления выбросов   0.646134    0.653238  0.638807   \n",
              "6  После математических преобразований   0.212698    0.214621  0.668157   \n",
              "\n",
              "   R2_Train  \n",
              "0  0.606821  \n",
              "1  0.597305  \n",
              "2  0.600166  \n",
              "3  0.522005  \n",
              "4  0.514291  \n",
              "5  0.629647  \n",
              "6  0.658925  "
            ],
            "text/html": [
              "\n",
              "  <div id=\"df-95c2d25d-284d-43f8-b82b-5e8e7a39a78b\">\n",
              "    <div class=\"colab-df-container\">\n",
              "      <div>\n",
              "<style scoped>\n",
              "    .dataframe tbody tr th:only-of-type {\n",
              "        vertical-align: middle;\n",
              "    }\n",
              "\n",
              "    .dataframe tbody tr th {\n",
              "        vertical-align: top;\n",
              "    }\n",
              "\n",
              "    .dataframe thead th {\n",
              "        text-align: right;\n",
              "    }\n",
              "</style>\n",
              "<table border=\"1\" class=\"dataframe\">\n",
              "  <thead>\n",
              "    <tr style=\"text-align: right;\">\n",
              "      <th></th>\n",
              "      <th>model</th>\n",
              "      <th>RMSE_Test</th>\n",
              "      <th>RMSE_Train</th>\n",
              "      <th>R2_Test</th>\n",
              "      <th>R2_Train</th>\n",
              "    </tr>\n",
              "  </thead>\n",
              "  <tbody>\n",
              "    <tr>\n",
              "      <th>0</th>\n",
              "      <td>Необработаная модель</td>\n",
              "      <td>0.732764</td>\n",
              "      <td>0.722491</td>\n",
              "      <td>0.601385</td>\n",
              "      <td>0.606821</td>\n",
              "    </tr>\n",
              "    <tr>\n",
              "      <th>1</th>\n",
              "      <td>После удаления AveBedrms</td>\n",
              "      <td>0.742417</td>\n",
              "      <td>0.731181</td>\n",
              "      <td>0.590814</td>\n",
              "      <td>0.597305</td>\n",
              "    </tr>\n",
              "    <tr>\n",
              "      <th>2</th>\n",
              "      <td>После удаления AveRooms</td>\n",
              "      <td>0.735726</td>\n",
              "      <td>0.728579</td>\n",
              "      <td>0.598156</td>\n",
              "      <td>0.600166</td>\n",
              "    </tr>\n",
              "    <tr>\n",
              "      <th>3</th>\n",
              "      <td>После удаления Longitude</td>\n",
              "      <td>0.812755</td>\n",
              "      <td>0.796615</td>\n",
              "      <td>0.509607</td>\n",
              "      <td>0.522005</td>\n",
              "    </tr>\n",
              "    <tr>\n",
              "      <th>4</th>\n",
              "      <td>После удаления Latitude</td>\n",
              "      <td>0.817778</td>\n",
              "      <td>0.803018</td>\n",
              "      <td>0.503527</td>\n",
              "      <td>0.514291</td>\n",
              "    </tr>\n",
              "    <tr>\n",
              "      <th>5</th>\n",
              "      <td>После удаления выбросов</td>\n",
              "      <td>0.646134</td>\n",
              "      <td>0.653238</td>\n",
              "      <td>0.638807</td>\n",
              "      <td>0.629647</td>\n",
              "    </tr>\n",
              "    <tr>\n",
              "      <th>6</th>\n",
              "      <td>После математических преобразований</td>\n",
              "      <td>0.212698</td>\n",
              "      <td>0.214621</td>\n",
              "      <td>0.668157</td>\n",
              "      <td>0.658925</td>\n",
              "    </tr>\n",
              "  </tbody>\n",
              "</table>\n",
              "</div>\n",
              "      <button class=\"colab-df-convert\" onclick=\"convertToInteractive('df-95c2d25d-284d-43f8-b82b-5e8e7a39a78b')\"\n",
              "              title=\"Convert this dataframe to an interactive table.\"\n",
              "              style=\"display:none;\">\n",
              "        \n",
              "  <svg xmlns=\"http://www.w3.org/2000/svg\" height=\"24px\"viewBox=\"0 0 24 24\"\n",
              "       width=\"24px\">\n",
              "    <path d=\"M0 0h24v24H0V0z\" fill=\"none\"/>\n",
              "    <path d=\"M18.56 5.44l.94 2.06.94-2.06 2.06-.94-2.06-.94-.94-2.06-.94 2.06-2.06.94zm-11 1L8.5 8.5l.94-2.06 2.06-.94-2.06-.94L8.5 2.5l-.94 2.06-2.06.94zm10 10l.94 2.06.94-2.06 2.06-.94-2.06-.94-.94-2.06-.94 2.06-2.06.94z\"/><path d=\"M17.41 7.96l-1.37-1.37c-.4-.4-.92-.59-1.43-.59-.52 0-1.04.2-1.43.59L10.3 9.45l-7.72 7.72c-.78.78-.78 2.05 0 2.83L4 21.41c.39.39.9.59 1.41.59.51 0 1.02-.2 1.41-.59l7.78-7.78 2.81-2.81c.8-.78.8-2.07 0-2.86zM5.41 20L4 18.59l7.72-7.72 1.47 1.35L5.41 20z\"/>\n",
              "  </svg>\n",
              "      </button>\n",
              "      \n",
              "  <style>\n",
              "    .colab-df-container {\n",
              "      display:flex;\n",
              "      flex-wrap:wrap;\n",
              "      gap: 12px;\n",
              "    }\n",
              "\n",
              "    .colab-df-convert {\n",
              "      background-color: #E8F0FE;\n",
              "      border: none;\n",
              "      border-radius: 50%;\n",
              "      cursor: pointer;\n",
              "      display: none;\n",
              "      fill: #1967D2;\n",
              "      height: 32px;\n",
              "      padding: 0 0 0 0;\n",
              "      width: 32px;\n",
              "    }\n",
              "\n",
              "    .colab-df-convert:hover {\n",
              "      background-color: #E2EBFA;\n",
              "      box-shadow: 0px 1px 2px rgba(60, 64, 67, 0.3), 0px 1px 3px 1px rgba(60, 64, 67, 0.15);\n",
              "      fill: #174EA6;\n",
              "    }\n",
              "\n",
              "    [theme=dark] .colab-df-convert {\n",
              "      background-color: #3B4455;\n",
              "      fill: #D2E3FC;\n",
              "    }\n",
              "\n",
              "    [theme=dark] .colab-df-convert:hover {\n",
              "      background-color: #434B5C;\n",
              "      box-shadow: 0px 1px 3px 1px rgba(0, 0, 0, 0.15);\n",
              "      filter: drop-shadow(0px 1px 2px rgba(0, 0, 0, 0.3));\n",
              "      fill: #FFFFFF;\n",
              "    }\n",
              "  </style>\n",
              "\n",
              "      <script>\n",
              "        const buttonEl =\n",
              "          document.querySelector('#df-95c2d25d-284d-43f8-b82b-5e8e7a39a78b button.colab-df-convert');\n",
              "        buttonEl.style.display =\n",
              "          google.colab.kernel.accessAllowed ? 'block' : 'none';\n",
              "\n",
              "        async function convertToInteractive(key) {\n",
              "          const element = document.querySelector('#df-95c2d25d-284d-43f8-b82b-5e8e7a39a78b');\n",
              "          const dataTable =\n",
              "            await google.colab.kernel.invokeFunction('convertToInteractive',\n",
              "                                                     [key], {});\n",
              "          if (!dataTable) return;\n",
              "\n",
              "          const docLinkHtml = 'Like what you see? Visit the ' +\n",
              "            '<a target=\"_blank\" href=https://colab.research.google.com/notebooks/data_table.ipynb>data table notebook</a>'\n",
              "            + ' to learn more about interactive tables.';\n",
              "          element.innerHTML = '';\n",
              "          dataTable['output_type'] = 'display_data';\n",
              "          await google.colab.output.renderOutput(dataTable, element);\n",
              "          const docLink = document.createElement('div');\n",
              "          docLink.innerHTML = docLinkHtml;\n",
              "          element.appendChild(docLink);\n",
              "        }\n",
              "      </script>\n",
              "    </div>\n",
              "  </div>\n",
              "  "
            ]
          },
          "metadata": {},
          "execution_count": 88
        }
      ]
    },
    {
      "cell_type": "markdown",
      "source": [
        "#### Выводы"
      ],
      "metadata": {
        "id": "5aOPeqCT2fuQ"
      }
    },
    {
      "cell_type": "markdown",
      "source": [
        "В ходе работы были удалены признаки которые коррелировали между собой, были удалены выбросы и проведены мат. преобразования (логарифмирование и извлечение корня), с помощью чего мы добились улучшения качества модели на ~6-7% (по R2_Test).\n",
        "\n",
        "Первоночально после удаления коррелируемого признака процент успешных предсказаний уменьшился, но после чистки выбросов и мат. преобразований процент постепенно рос.\n",
        "\n",
        "По итогу преобразования помогли в улучшении качества модели. Возможно некоторые моменты были избыточны или не расмотрены, но так или иначе модель улучшила свои показатели.\n"
      ],
      "metadata": {
        "id": "AaXHUHp22kv_"
      }
    },
    {
      "cell_type": "markdown",
      "source": [
        "#### Вопросы"
      ],
      "metadata": {
        "id": "A2ZSGc6B4A2_"
      }
    },
    {
      "cell_type": "markdown",
      "source": [
        "1) Обратная корреляция между не целевыми признаками полезна? В данном случае между Longitude и Latitude.\n",
        "\n",
        "2) Если между нецелевой переменной и целевой корреляция по модулю меньше 0.1, то есть смысл использовать такие признаки? На практике похоже, что да, если например убрать из датафрейма Longitude и Latitude, то метрики сильно упадут, но почему так? Если они не коррелируют с целевой переменной? Или тут еще важно смотреть как они коррелируют с другими нецелевыми переменными? "
      ],
      "metadata": {
        "id": "epqHN6fW4Cx3"
      }
    }
  ]
}