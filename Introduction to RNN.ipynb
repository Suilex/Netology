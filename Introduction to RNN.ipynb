{
  "nbformat": 4,
  "nbformat_minor": 0,
  "metadata": {
    "kernelspec": {
      "display_name": "Python 3",
      "language": "python",
      "name": "python3"
    },
    "language_info": {
      "codemirror_mode": {
        "name": "ipython",
        "version": 3
      },
      "file_extension": ".py",
      "mimetype": "text/x-python",
      "name": "python",
      "nbconvert_exporter": "python",
      "pygments_lexer": "ipython3",
      "version": "3.6.4"
    },
    "colab": {
      "provenance": []
    },
    "accelerator": "GPU"
  },
  "cells": [
    {
      "cell_type": "markdown",
      "metadata": {
        "collapsed": true,
        "id": "l4VAzKlG8aHj"
      },
      "source": [
        "## Neural Part Of Speech Tagging\n",
        "\n",
        "We're now going to solve the same problem of POS tagging with neural networks.\n",
        "<img src=https://i.stack.imgur.com/6pdIT.png width=320>\n",
        "\n",
        "From deep learning perspective, this is a task of predicting a sequence of outputs aligned to a sequence of inputs. There are several problems that match this formulation:\n",
        "* Part Of Speech Tagging -  an auxuliary task for many NLP problems\n",
        "* Named Entity Recognition - for chat bots and web crawlers\n",
        "* Protein structure prediction - for bioinformatics"
      ]
    },
    {
      "cell_type": "code",
      "metadata": {
        "id": "wnu9D3YZoH2e",
        "colab": {
          "base_uri": "https://localhost:8080/",
          "height": 358
        },
        "outputId": "f36592e9-a624-42bb-dad0-ccb05d031b6f"
      },
      "source": [
        "%tensorflow_version 1.x"
      ],
      "execution_count": null,
      "outputs": [
        {
          "output_type": "error",
          "ename": "ValueError",
          "evalue": "ignored",
          "traceback": [
            "\u001b[0;31m---------------------------------------------------------------------------\u001b[0m",
            "\u001b[0;31mValueError\u001b[0m                                Traceback (most recent call last)",
            "\u001b[0;32m<ipython-input-1-8d2919c1d33c>\u001b[0m in \u001b[0;36m<cell line: 1>\u001b[0;34m()\u001b[0m\n\u001b[0;32m----> 1\u001b[0;31m \u001b[0mget_ipython\u001b[0m\u001b[0;34m(\u001b[0m\u001b[0;34m)\u001b[0m\u001b[0;34m.\u001b[0m\u001b[0mrun_line_magic\u001b[0m\u001b[0;34m(\u001b[0m\u001b[0;34m'tensorflow_version'\u001b[0m\u001b[0;34m,\u001b[0m \u001b[0;34m'1.x'\u001b[0m\u001b[0;34m)\u001b[0m\u001b[0;34m\u001b[0m\u001b[0;34m\u001b[0m\u001b[0m\n\u001b[0m",
            "\u001b[0;32m/usr/local/lib/python3.9/dist-packages/IPython/core/interactiveshell.py\u001b[0m in \u001b[0;36mrun_line_magic\u001b[0;34m(self, magic_name, line, _stack_depth)\u001b[0m\n\u001b[1;32m   2416\u001b[0m                 \u001b[0mkwargs\u001b[0m\u001b[0;34m[\u001b[0m\u001b[0;34m'local_ns'\u001b[0m\u001b[0;34m]\u001b[0m \u001b[0;34m=\u001b[0m \u001b[0mself\u001b[0m\u001b[0;34m.\u001b[0m\u001b[0mget_local_scope\u001b[0m\u001b[0;34m(\u001b[0m\u001b[0mstack_depth\u001b[0m\u001b[0;34m)\u001b[0m\u001b[0;34m\u001b[0m\u001b[0;34m\u001b[0m\u001b[0m\n\u001b[1;32m   2417\u001b[0m             \u001b[0;32mwith\u001b[0m \u001b[0mself\u001b[0m\u001b[0;34m.\u001b[0m\u001b[0mbuiltin_trap\u001b[0m\u001b[0;34m:\u001b[0m\u001b[0;34m\u001b[0m\u001b[0;34m\u001b[0m\u001b[0m\n\u001b[0;32m-> 2418\u001b[0;31m                 \u001b[0mresult\u001b[0m \u001b[0;34m=\u001b[0m \u001b[0mfn\u001b[0m\u001b[0;34m(\u001b[0m\u001b[0;34m*\u001b[0m\u001b[0margs\u001b[0m\u001b[0;34m,\u001b[0m \u001b[0;34m**\u001b[0m\u001b[0mkwargs\u001b[0m\u001b[0;34m)\u001b[0m\u001b[0;34m\u001b[0m\u001b[0;34m\u001b[0m\u001b[0m\n\u001b[0m\u001b[1;32m   2419\u001b[0m             \u001b[0;32mreturn\u001b[0m \u001b[0mresult\u001b[0m\u001b[0;34m\u001b[0m\u001b[0;34m\u001b[0m\u001b[0m\n\u001b[1;32m   2420\u001b[0m \u001b[0;34m\u001b[0m\u001b[0m\n",
            "\u001b[0;32m/usr/local/lib/python3.9/dist-packages/google/colab/_tensorflow_magics.py\u001b[0m in \u001b[0;36m_tensorflow_version\u001b[0;34m(line)\u001b[0m\n\u001b[1;32m     33\u001b[0m \u001b[0;34m\u001b[0m\u001b[0m\n\u001b[1;32m     34\u001b[0m   \u001b[0;32mif\u001b[0m \u001b[0mline\u001b[0m\u001b[0;34m.\u001b[0m\u001b[0mstartswith\u001b[0m\u001b[0;34m(\u001b[0m\u001b[0;34m\"1\"\u001b[0m\u001b[0;34m)\u001b[0m\u001b[0;34m:\u001b[0m\u001b[0;34m\u001b[0m\u001b[0;34m\u001b[0m\u001b[0m\n\u001b[0;32m---> 35\u001b[0;31m     raise ValueError(\n\u001b[0m\u001b[1;32m     36\u001b[0m         \u001b[0;31m# pylint: disable=line-too-long\u001b[0m\u001b[0;34m\u001b[0m\u001b[0;34m\u001b[0m\u001b[0m\n\u001b[1;32m     37\u001b[0m         textwrap.dedent(\n",
            "\u001b[0;31mValueError\u001b[0m: Tensorflow 1 is unsupported in Colab.\n\nYour notebook should be updated to use Tensorflow 2.\nSee the guide at https://www.tensorflow.org/guide/migrate#migrate-from-tensorflow-1x-to-tensorflow-2."
          ]
        }
      ]
    },
    {
      "cell_type": "code",
      "metadata": {
        "scrolled": true,
        "id": "yxFUBtb88aHq",
        "colab": {
          "base_uri": "https://localhost:8080/"
        },
        "outputId": "b144244e-254a-4a2b-ccb5-cec4c5939292"
      },
      "source": [
        "import nltk\n",
        "import sys\n",
        "import numpy as np\n",
        "\n",
        "nltk.download('brown')\n",
        "nltk.download('universal_tagset')\n",
        "data = nltk.corpus.brown.tagged_sents(tagset='universal')\n",
        "all_tags = ['#EOS#','#UNK#','ADV', 'NOUN', 'ADP', 'PRON', 'DET', '.', 'PRT', 'VERB', 'X', 'NUM', 'CONJ', 'ADJ']\n",
        "\n",
        "data = np.array([ [(word.lower(),tag) for word,tag in sentence] for sentence in data ])"
      ],
      "execution_count": 1,
      "outputs": [
        {
          "output_type": "stream",
          "name": "stderr",
          "text": [
            "[nltk_data] Downloading package brown to /root/nltk_data...\n",
            "[nltk_data]   Unzipping corpora/brown.zip.\n",
            "[nltk_data] Downloading package universal_tagset to /root/nltk_data...\n",
            "[nltk_data]   Unzipping taggers/universal_tagset.zip.\n",
            "<ipython-input-1-bc9847c14597>:10: VisibleDeprecationWarning: Creating an ndarray from ragged nested sequences (which is a list-or-tuple of lists-or-tuples-or ndarrays with different lengths or shapes) is deprecated. If you meant to do this, you must specify 'dtype=object' when creating the ndarray.\n",
            "  data = np.array([ [(word.lower(),tag) for word,tag in sentence] for sentence in data ])\n"
          ]
        }
      ]
    },
    {
      "cell_type": "code",
      "metadata": {
        "id": "Bq_OXuD38aHs"
      },
      "source": [
        "from sklearn.model_selection import train_test_split\n",
        "train_data, test_data = train_test_split(data,test_size=0.25,random_state=42)"
      ],
      "execution_count": 2,
      "outputs": []
    },
    {
      "cell_type": "markdown",
      "source": [],
      "metadata": {
        "id": "LQLCzPsLIcO5"
      }
    },
    {
      "cell_type": "code",
      "metadata": {
        "id": "sAlXrDmU8aHs",
        "colab": {
          "base_uri": "https://localhost:8080/",
          "height": 157
        },
        "outputId": "ae6b9c63-9ba9-4f24-b607-8b86cd252cf1"
      },
      "source": [
        "from IPython.display import HTML, display\n",
        "def draw(sentence):\n",
        "    words,tags = zip(*sentence)\n",
        "    display(HTML('<table><tr>{tags}</tr>{words}<tr></table>'.format(\n",
        "                words = '<td>{}</td>'.format('</td><td>'.join(words)),\n",
        "                tags = '<td>{}</td>'.format('</td><td>'.join(tags)))))\n",
        "    \n",
        "    \n",
        "draw(data[11])\n",
        "draw(data[10])\n",
        "draw(data[7])"
      ],
      "execution_count": 3,
      "outputs": [
        {
          "output_type": "display_data",
          "data": {
            "text/plain": [
              "<IPython.core.display.HTML object>"
            ],
            "text/html": [
              "<table><tr><td>NOUN</td><td>ADP</td><td>NOUN</td><td>NOUN</td><td>NOUN</td><td>NOUN</td><td>VERB</td><td>ADV</td><td>VERB</td><td>ADP</td><td>DET</td><td>ADJ</td><td>NOUN</td><td>.</td></tr><td>implementation</td><td>of</td><td>georgia's</td><td>automobile</td><td>title</td><td>law</td><td>was</td><td>also</td><td>recommended</td><td>by</td><td>the</td><td>outgoing</td><td>jury</td><td>.</td><tr></table>"
            ]
          },
          "metadata": {}
        },
        {
          "output_type": "display_data",
          "data": {
            "text/plain": [
              "<IPython.core.display.HTML object>"
            ],
            "text/html": [
              "<table><tr><td>PRON</td><td>VERB</td><td>ADP</td><td>DET</td><td>NOUN</td><td>.</td><td>VERB</td><td>NOUN</td><td>PRT</td><td>VERB</td><td>.</td><td>DET</td><td>NOUN</td><td>.</td></tr><td>it</td><td>urged</td><td>that</td><td>the</td><td>city</td><td>``</td><td>take</td><td>steps</td><td>to</td><td>remedy</td><td>''</td><td>this</td><td>problem</td><td>.</td><tr></table>"
            ]
          },
          "metadata": {}
        },
        {
          "output_type": "display_data",
          "data": {
            "text/plain": [
              "<IPython.core.display.HTML object>"
            ],
            "text/html": [
              "<table><tr><td>NOUN</td><td>VERB</td></tr><td>merger</td><td>proposed</td><tr></table>"
            ]
          },
          "metadata": {}
        }
      ]
    },
    {
      "cell_type": "markdown",
      "metadata": {
        "id": "LAViiL2C8aHt"
      },
      "source": [
        "### Building vocabularies\n",
        "\n",
        "Just like before, we have to build a mapping from tokens to integer ids. This time around, our model operates on a word level, processing one word per RNN step. This means we'll have to deal with far larger vocabulary.\n",
        "\n",
        "Luckily for us, we only receive those words as input i.e. we don't have to predict them. This means we can have a large vocabulary for free by using word embeddings."
      ]
    },
    {
      "cell_type": "code",
      "metadata": {
        "collapsed": true,
        "id": "ZXK_k-mo8aHt",
        "colab": {
          "base_uri": "https://localhost:8080/"
        },
        "outputId": "d0b902d7-babe-45dc-bfe9-10506ce80073"
      },
      "source": [
        "from collections import Counter\n",
        "word_counts = Counter()\n",
        "for sentence in data:\n",
        "    words,tags = zip(*sentence)\n",
        "    word_counts.update(words)\n",
        "\n",
        "all_words = ['#EOS#','#UNK#'] + list(list(zip(*word_counts.most_common(10000)))[0])\n",
        "\n",
        "#let's measure what fraction of data words are in the dictionary\n",
        "print(\"Coverage = %.5f\" % (float(sum(word_counts[w] for w in all_words)) / sum(word_counts.values())))"
      ],
      "execution_count": 4,
      "outputs": [
        {
          "output_type": "stream",
          "name": "stdout",
          "text": [
            "Coverage = 0.92876\n"
          ]
        }
      ]
    },
    {
      "cell_type": "code",
      "metadata": {
        "collapsed": true,
        "id": "T0hee8L88aHt"
      },
      "source": [
        "from collections import defaultdict\n",
        "word_to_id = defaultdict(lambda:1, { word: i for i, word in enumerate(all_words) })\n",
        "tag_to_id = { tag: i for i, tag in enumerate(all_tags)}"
      ],
      "execution_count": 5,
      "outputs": []
    },
    {
      "cell_type": "markdown",
      "metadata": {
        "id": "RCmGbwpP8aHu"
      },
      "source": [
        "convert words and tags into fixed-size matrix"
      ]
    },
    {
      "cell_type": "code",
      "metadata": {
        "collapsed": true,
        "id": "X7kx6jWn8aHu"
      },
      "source": [
        "def to_matrix(lines, token_to_id, max_len=None, pad=0, dtype='int32', time_major=False):\n",
        "    \"\"\"Converts a list of names into rnn-digestable matrix with paddings added after the end\"\"\"\n",
        "    \n",
        "    max_len = max_len or max(map(len,lines))\n",
        "    matrix = np.empty([len(lines), max_len],dtype)\n",
        "    matrix.fill(pad)\n",
        "\n",
        "    for i in range(len(lines)):\n",
        "        line_ix = list(map(token_to_id.__getitem__,lines[i]))[:max_len]\n",
        "        matrix[i,:len(line_ix)] = line_ix\n",
        "\n",
        "    return matrix.T if time_major else matrix\n",
        "\n"
      ],
      "execution_count": 6,
      "outputs": []
    },
    {
      "cell_type": "code",
      "metadata": {
        "collapsed": true,
        "id": "BCaE-i5u8aHu",
        "colab": {
          "base_uri": "https://localhost:8080/"
        },
        "outputId": "67e98ce0-109a-491c-96a7-90a52d566c1c"
      },
      "source": [
        "batch_words, batch_tags = zip(*[zip(*sentence) for sentence in data[-3:]])\n",
        "\n",
        "print(\"Word ids:\")\n",
        "print(to_matrix(batch_words, word_to_id))\n",
        "print(\"Tag ids:\")\n",
        "print(to_matrix(batch_tags, tag_to_id))"
      ],
      "execution_count": 7,
      "outputs": [
        {
          "output_type": "stream",
          "name": "stdout",
          "text": [
            "Word ids:\n",
            "[[   2 3057    5    2 2238 1334 4238 2454    3    6   19   26 1070   69\n",
            "     8 2088    6    3    1    3  266   65  342    2    1    3    2  315\n",
            "     1    9   87  216 3322   69 1558    4    0    0    0    0    0    0\n",
            "     0    0    0    0    0    0    0    0    0    0    0]\n",
            " [  45   12    8  511 8419    6   60 3246   39    2    1    1    3    2\n",
            "   845    1    3    1    3   10 9910    2    1 3470    9   43    1    1\n",
            "     3    6    2 1046  385   73 4562    3    9    2    1    1 3250    3\n",
            "    12   10    2  861 5240   12    8 8936  121    1    4]\n",
            " [  33   64   26   12  445    7 7346    9    8 3337    3    1 2811    3\n",
            "     2  463  572    2    1    1 1649   12    1    4    0    0    0    0\n",
            "     0    0    0    0    0    0    0    0    0    0    0    0    0    0\n",
            "     0    0    0    0    0    0    0    0    0    0    0]]\n",
            "Tag ids:\n",
            "[[ 6  3  4  6  3  3  9  9  7 12  4  5  9  4  6  3 12  7  9  7  9  8  4  6\n",
            "   3  7  6 13  3  4  6  3  9  4  3  7  0  0  0  0  0  0  0  0  0  0  0  0\n",
            "   0  0  0  0  0]\n",
            " [ 5  9  6  9  3 12  6  3  7  6 13  3  7  6 13  3  7 13  7  5  9  6  3  3\n",
            "   4  6 13  3  7 12  6  3  6 13  3  7  4  6  3  9  3  7  9  4  6 13  3  9\n",
            "   6  3  2 13  7]\n",
            " [ 4  6  5  9 13  4  3  4  6 13  7 13  3  7  6  3  4  6 13  3  3  9  9  7\n",
            "   0  0  0  0  0  0  0  0  0  0  0  0  0  0  0  0  0  0  0  0  0  0  0  0\n",
            "   0  0  0  0  0]]\n"
          ]
        }
      ]
    },
    {
      "cell_type": "markdown",
      "metadata": {
        "collapsed": true,
        "id": "_oK_i5Xa8aHv"
      },
      "source": [
        "### Build model\n",
        "\n",
        "Unlike our previous lab, this time we'll focus on a high-level keras interface to recurrent neural networks. It is as simple as you can get with RNN, allbeit somewhat constraining for complex tasks like seq2seq.\n",
        "\n",
        "By default, all keras RNNs apply to a whole sequence of inputs and produce a sequence of hidden states `(return_sequences=True` or just the last hidden state `(return_sequences=False)`. All the recurrence is happening under the hood.\n",
        "\n",
        "At the top of our model we need to apply a Dense layer to each time-step independently. As of now, by default keras.layers.Dense would apply once to all time-steps concatenated. We use __keras.layers.TimeDistributed__ to modify Dense layer so that it would apply across both batch and time axes."
      ]
    },
    {
      "cell_type": "code",
      "metadata": {
        "id": "OQeb8d5j8aHv"
      },
      "source": [
        "import keras\n",
        "import keras.layers as L\n",
        "\n",
        "model = keras.models.Sequential()\n",
        "model.add(L.InputLayer([None],dtype='int32'))\n",
        "model.add(L.Embedding(len(all_words),50))\n",
        "model.add(L.SimpleRNN(64,return_sequences=True))\n",
        "\n",
        "#add top layer that predicts tag probabilities\n",
        "stepwise_dense = L.Dense(len(all_tags),activation='softmax')\n",
        "stepwise_dense = L.TimeDistributed(stepwise_dense)\n",
        "model.add(stepwise_dense)"
      ],
      "execution_count": 8,
      "outputs": []
    },
    {
      "cell_type": "markdown",
      "metadata": {
        "id": "lQbJqM2n8aHv"
      },
      "source": [
        "__Training:__ in this case we don't want to prepare the whole training dataset in advance. The main cause is that the length of every batch depends on the maximum sentence length within the batch. This leaves us two options: use custom training code as in previous seminar or use generators.\n",
        "\n",
        "Keras models have a __`model.fit_generator`__ method that accepts a python generator yielding one batch at a time. But first we need to implement such generator:"
      ]
    },
    {
      "cell_type": "code",
      "metadata": {
        "collapsed": true,
        "id": "kpeMsDi18aHw"
      },
      "source": [
        "from keras.utils.np_utils import to_categorical\n",
        "BATCH_SIZE=32\n",
        "def generate_batches(sentences,batch_size=BATCH_SIZE,max_len=None,pad=0):\n",
        "    assert isinstance(sentences,np.ndarray),\"Make sure sentences is q numpy array\"\n",
        "    \n",
        "    while True:\n",
        "        indices = np.random.permutation(np.arange(len(sentences)))\n",
        "        for start in range(0,len(indices)-1,batch_size):\n",
        "            batch_indices = indices[start:start+batch_size]\n",
        "            batch_words,batch_tags = [],[]\n",
        "            for sent in sentences[batch_indices]:\n",
        "                words,tags = zip(*sent)\n",
        "                batch_words.append(words)\n",
        "                batch_tags.append(tags)\n",
        "\n",
        "            batch_words = to_matrix(batch_words,word_to_id,max_len,pad)\n",
        "            batch_tags = to_matrix(batch_tags,tag_to_id,max_len,pad)\n",
        "\n",
        "            batch_tags_1hot = to_categorical(batch_tags,len(all_tags)).reshape(batch_tags.shape+(-1,))\n",
        "            yield batch_words,batch_tags_1hot\n",
        "        "
      ],
      "execution_count": 9,
      "outputs": []
    },
    {
      "cell_type": "markdown",
      "metadata": {
        "id": "zYoR9vgn8aHw"
      },
      "source": [
        "__Callbacks:__ Another thing we need is to measure model performance. The tricky part is not to count accuracy after sentence ends (on padding) and making sure we count all the validation data exactly once.\n",
        "\n",
        "While it isn't impossible to persuade Keras to do all of that, we may as well write our own callback that does that.\n",
        "Keras callbacks allow you to write a custom code to be ran once every epoch or every minibatch. We'll define one via LambdaCallback"
      ]
    },
    {
      "cell_type": "code",
      "metadata": {
        "collapsed": true,
        "id": "CC8woNtV8aHx"
      },
      "source": [
        "def compute_test_accuracy(model):\n",
        "    test_words,test_tags = zip(*[zip(*sentence) for sentence in test_data])\n",
        "    test_words,test_tags = to_matrix(test_words,word_to_id),to_matrix(test_tags,tag_to_id)\n",
        "\n",
        "    #predict tag probabilities of shape [batch,time,n_tags]\n",
        "    predicted_tag_probabilities = model.predict(test_words,verbose=1)\n",
        "    predicted_tags = predicted_tag_probabilities.argmax(axis=-1)\n",
        "\n",
        "    #compute accurary excluding padding\n",
        "    numerator = np.sum(np.logical_and((predicted_tags == test_tags),(test_words != 0)))\n",
        "    denominator = np.sum(test_words != 0)\n",
        "    return float(numerator)/denominator\n",
        "\n",
        "\n",
        "class EvaluateAccuracy(keras.callbacks.Callback):\n",
        "    def on_epoch_end(self,epoch,logs=None):\n",
        "        sys.stdout.flush()\n",
        "        print(\"\\nMeasuring validation accuracy...\")\n",
        "        acc = compute_test_accuracy(self.model)\n",
        "        print(\"\\nValidation accuracy: %.5f\\n\"%acc)\n",
        "        sys.stdout.flush()\n",
        "        "
      ],
      "execution_count": 10,
      "outputs": []
    },
    {
      "cell_type": "code",
      "metadata": {
        "collapsed": true,
        "id": "5eJGEWu58aHx",
        "colab": {
          "base_uri": "https://localhost:8080/"
        },
        "outputId": "ebc6711c-f4ed-42c3-8065-e673d07e920a"
      },
      "source": [
        "model.compile('adam','categorical_crossentropy')\n",
        "\n",
        "model.fit_generator(generate_batches(train_data),len(train_data)/BATCH_SIZE,\n",
        "                    callbacks=[EvaluateAccuracy()], epochs=5,)"
      ],
      "execution_count": 11,
      "outputs": [
        {
          "output_type": "stream",
          "name": "stderr",
          "text": [
            "<ipython-input-11-e75a6e7fae6a>:3: UserWarning: `Model.fit_generator` is deprecated and will be removed in a future version. Please use `Model.fit`, which supports generators.\n",
            "  model.fit_generator(generate_batches(train_data),len(train_data)/BATCH_SIZE,\n"
          ]
        },
        {
          "output_type": "stream",
          "name": "stdout",
          "text": [
            "Epoch 1/5\n",
            "1344/1343 [==============================] - ETA: 0s - loss: 0.2346\n",
            "Measuring validation accuracy...\n",
            "448/448 [==============================] - 14s 31ms/step\n",
            "\n",
            "Validation accuracy: 0.94126\n",
            "\n",
            "1343/1343 [==============================] - 157s 109ms/step - loss: 0.2346\n",
            "Epoch 2/5\n",
            "1344/1343 [==============================] - ETA: 0s - loss: 0.0575\n",
            "Measuring validation accuracy...\n",
            "448/448 [==============================] - 8s 18ms/step\n",
            "\n",
            "Validation accuracy: 0.94451\n",
            "\n",
            "1343/1343 [==============================] - 103s 77ms/step - loss: 0.0575\n",
            "Epoch 3/5\n",
            "1344/1343 [==============================] - ETA: 0s - loss: 0.0512\n",
            "Measuring validation accuracy...\n",
            "448/448 [==============================] - 8s 17ms/step\n",
            "\n",
            "Validation accuracy: 0.94600\n",
            "\n",
            "1343/1343 [==============================] - 104s 77ms/step - loss: 0.0512\n",
            "Epoch 4/5\n",
            "1344/1343 [==============================] - ETA: 0s - loss: 0.0472\n",
            "Measuring validation accuracy...\n",
            "448/448 [==============================] - 7s 17ms/step\n",
            "\n",
            "Validation accuracy: 0.94690\n",
            "\n",
            "1343/1343 [==============================] - 99s 73ms/step - loss: 0.0472\n",
            "Epoch 5/5\n",
            "1344/1343 [==============================] - ETA: 0s - loss: 0.0430\n",
            "Measuring validation accuracy...\n",
            "448/448 [==============================] - 8s 18ms/step\n",
            "\n",
            "Validation accuracy: 0.94652\n",
            "\n",
            "1343/1343 [==============================] - 95s 71ms/step - loss: 0.0430\n"
          ]
        },
        {
          "output_type": "execute_result",
          "data": {
            "text/plain": [
              "<keras.callbacks.History at 0x7fa4d6daaf40>"
            ]
          },
          "metadata": {},
          "execution_count": 11
        }
      ]
    },
    {
      "cell_type": "markdown",
      "metadata": {
        "id": "TTN7C34V8aHy"
      },
      "source": [
        "Measure final accuracy on the whole test set."
      ]
    },
    {
      "cell_type": "code",
      "metadata": {
        "id": "tHgxnYB68aHy",
        "colab": {
          "base_uri": "https://localhost:8080/"
        },
        "outputId": "1cf7e09e-f32b-4a40-b495-00eea866967b"
      },
      "source": [
        "acc = compute_test_accuracy(model)\n",
        "print(\"Final accuracy: %.5f\"%acc)\n",
        "\n",
        "assert acc>0.94, \"Keras has gone on a rampage again, please contact course staff.\""
      ],
      "execution_count": null,
      "outputs": [
        {
          "output_type": "stream",
          "name": "stdout",
          "text": [
            "448/448 [==============================] - 7s 16ms/step\n",
            "Final accuracy: 0.94551\n"
          ]
        }
      ]
    },
    {
      "cell_type": "markdown",
      "metadata": {
        "id": "5L5Prr4I8aHy"
      },
      "source": [
        "### Going bidirectional\n",
        "\n",
        "Since we're analyzing a full sequence, it's legal for us to look into future data.\n",
        "\n",
        "A simple way to achieve that is to go both directions at once, making a __bidirectional RNN__.\n",
        "\n",
        "In Keras you can achieve that both manually (using two LSTMs and Concatenate) and by using __`keras.layers.Bidirectional`__. \n",
        "\n",
        "This one works just as `TimeDistributed` we saw before: you wrap it around a recurrent layer (SimpleRNN now and LSTM/GRU later) and it actually creates two layers under the hood.\n",
        "\n",
        "Your first task is to use such a layer our POS-tagger."
      ]
    },
    {
      "cell_type": "code",
      "metadata": {
        "collapsed": true,
        "id": "xWfCrbh-8aHy"
      },
      "source": [
        "#Define a model that utilizes bidirectional SimpleRNN\n",
        "model = keras.models.Sequential()\n",
        "#<Your code here!>\n",
        "\n",
        "model.add(L.InputLayer([None],dtype='int32'))\n",
        "model.add(L.Embedding(len(all_words),50))\n",
        "model.add(L.Bidirectional(L.SimpleRNN(64, return_sequences=True)))\n",
        "\n",
        "stepwise_dense = L.Dense(len(all_tags),activation='softmax')\n",
        "stepwise_dense = L.TimeDistributed(stepwise_dense)\n",
        "model.add(stepwise_dense)\n"
      ],
      "execution_count": null,
      "outputs": []
    },
    {
      "cell_type": "code",
      "metadata": {
        "id": "Ort64W348aHz",
        "colab": {
          "base_uri": "https://localhost:8080/"
        },
        "outputId": "a8d92513-8cd5-4720-f036-b9b29024eff8"
      },
      "source": [
        "model.compile('adam','categorical_crossentropy')\n",
        "\n",
        "model.fit_generator(generate_batches(train_data),len(train_data)/BATCH_SIZE,\n",
        "                    callbacks=[EvaluateAccuracy()], epochs=5,)"
      ],
      "execution_count": null,
      "outputs": [
        {
          "metadata": {
            "tags": null
          },
          "name": "stdout",
          "output_type": "stream",
          "text": [
            "Epoch 1/5\n"
          ]
        },
        {
          "metadata": {
            "tags": null
          },
          "name": "stderr",
          "output_type": "stream",
          "text": [
            "<ipython-input-22-e75a6e7fae6a>:3: UserWarning: `Model.fit_generator` is deprecated and will be removed in a future version. Please use `Model.fit`, which supports generators.\n",
            "  model.fit_generator(generate_batches(train_data),len(train_data)/BATCH_SIZE,\n"
          ]
        },
        {
          "output_type": "stream",
          "name": "stdout",
          "text": [
            "1344/1343 [==============================] - ETA: 0s - loss: 0.1910\n",
            "Measuring validation accuracy...\n",
            "448/448 [==============================] - 15s 32ms/step\n",
            "\n",
            "Validation accuracy: 0.95521\n",
            "\n",
            "1343/1343 [==============================] - 250s 184ms/step - loss: 0.1910\n",
            "Epoch 2/5\n",
            "1344/1343 [==============================] - ETA: 0s - loss: 0.0427\n",
            "Measuring validation accuracy...\n",
            "448/448 [==============================] - 13s 30ms/step\n",
            "\n",
            "Validation accuracy: 0.96031\n",
            "\n",
            "1343/1343 [==============================] - 161s 120ms/step - loss: 0.0427\n",
            "Epoch 3/5\n",
            "1344/1343 [==============================] - ETA: 0s - loss: 0.0349\n",
            "Measuring validation accuracy...\n",
            "448/448 [==============================] - 14s 31ms/step\n",
            "\n",
            "Validation accuracy: 0.96325\n",
            "\n",
            "1343/1343 [==============================] - 159s 118ms/step - loss: 0.0349\n",
            "Epoch 4/5\n",
            "1344/1343 [==============================] - ETA: 0s - loss: 0.0297\n",
            "Measuring validation accuracy...\n",
            "448/448 [==============================] - 13s 28ms/step\n",
            "\n",
            "Validation accuracy: 0.96306\n",
            "\n",
            "1343/1343 [==============================] - 158s 117ms/step - loss: 0.0297\n",
            "Epoch 5/5\n",
            "1344/1343 [==============================] - ETA: 0s - loss: 0.0251\n",
            "Measuring validation accuracy...\n",
            "448/448 [==============================] - 14s 30ms/step\n",
            "\n",
            "Validation accuracy: 0.96194\n",
            "\n",
            "1343/1343 [==============================] - 156s 116ms/step - loss: 0.0251\n"
          ]
        },
        {
          "output_type": "execute_result",
          "data": {
            "text/plain": [
              "<keras.callbacks.History at 0x7efb3eda5220>"
            ]
          },
          "metadata": {},
          "execution_count": 22
        }
      ]
    },
    {
      "cell_type": "code",
      "metadata": {
        "id": "iWHSkF648aHz",
        "colab": {
          "base_uri": "https://localhost:8080/"
        },
        "outputId": "28185406-061f-47fa-ddc6-4b9cbcf83872"
      },
      "source": [
        "acc = compute_test_accuracy(model)\n",
        "print(\"\\nFinal accuracy: %.5f\"%acc)\n",
        "\n",
        "assert acc>0.96, \"Bidirectional RNNs are better than this!\"\n",
        "print(\"Well done!\")"
      ],
      "execution_count": null,
      "outputs": [
        {
          "output_type": "stream",
          "name": "stdout",
          "text": [
            "448/448 [==============================] - 13s 29ms/step\n",
            "\n",
            "Final accuracy: 0.96194\n",
            "Well done!\n"
          ]
        }
      ]
    },
    {
      "cell_type": "markdown",
      "metadata": {
        "id": "VW_nFppS8aH0"
      },
      "source": [
        "**Task** I: Structured loss functions (more bonus points)\n",
        "\n",
        "Since we're tagging the whole sequence at once, we might as well train our network to do so. Remember linear CRF from the lecture? You can also use it as a loss function for your RNN\n",
        "\n",
        "\n",
        "  * There's more than one way to do so, but we'd recommend starting with [Conditional Random Fields](http://blog.echen.me/2012/01/03/introduction-to-conditional-random-fields/)\n",
        "  * You can plug CRF as a loss function and still train by backprop. There's even some neat tensorflow [implementation](https://www.tensorflow.org/addons/api_docs/python/tfa/layers/CRF) for you.\n",
        "  * Alternatively, you can condition your model on previous tags (make it autoregressive) and perform __beam search__ over that model."
      ]
    },
    {
      "cell_type": "code",
      "source": [
        "!pip install git+https://www.github.com/keras-team/keras-contrib.git"
      ],
      "metadata": {
        "colab": {
          "base_uri": "https://localhost:8080/"
        },
        "id": "f2SoOYBvQzr1",
        "outputId": "92836171-06e6-407d-a3eb-0f799fcf1013"
      },
      "execution_count": 12,
      "outputs": [
        {
          "output_type": "stream",
          "name": "stdout",
          "text": [
            "Looking in indexes: https://pypi.org/simple, https://us-python.pkg.dev/colab-wheels/public/simple/\n",
            "Collecting git+https://www.github.com/keras-team/keras-contrib.git\n",
            "  Cloning https://www.github.com/keras-team/keras-contrib.git to /tmp/pip-req-build-2j1pdklq\n",
            "  Running command git clone --filter=blob:none --quiet https://www.github.com/keras-team/keras-contrib.git /tmp/pip-req-build-2j1pdklq\n",
            "  warning: redirecting to https://github.com/keras-team/keras-contrib.git/\n",
            "  Resolved https://www.github.com/keras-team/keras-contrib.git to commit 3fc5ef709e061416f4bc8a92ca3750c824b5d2b0\n",
            "  Preparing metadata (setup.py) ... \u001b[?25l\u001b[?25hdone\n",
            "Requirement already satisfied: keras in /usr/local/lib/python3.9/dist-packages (from keras-contrib==2.0.8) (2.12.0)\n",
            "Building wheels for collected packages: keras-contrib\n",
            "  Building wheel for keras-contrib (setup.py) ... \u001b[?25l\u001b[?25hdone\n",
            "  Created wheel for keras-contrib: filename=keras_contrib-2.0.8-py3-none-any.whl size=101078 sha256=d4b39a495b5f0a042d4c5046e0b3315300fb7ec6e618be23bf9660e1bf11d26d\n",
            "  Stored in directory: /tmp/pip-ephem-wheel-cache-vcpzyqam/wheels/83/b3/99/125cd08d3e8224b434b1b4badd6f8b2651e0251b7e8f983e60\n",
            "Successfully built keras-contrib\n",
            "Installing collected packages: keras-contrib\n",
            "Successfully installed keras-contrib-2.0.8\n"
          ]
        }
      ]
    },
    {
      "cell_type": "code",
      "source": [
        "!pip install q tensorflow==2.2\n",
        "!pip install q keras==2.3.1"
      ],
      "metadata": {
        "colab": {
          "base_uri": "https://localhost:8080/"
        },
        "id": "PY1apvd6R4k7",
        "outputId": "3b088a91-4429-4bc7-96b5-e8fb111f1f94"
      },
      "execution_count": null,
      "outputs": [
        {
          "output_type": "stream",
          "name": "stdout",
          "text": [
            "Looking in indexes: https://pypi.org/simple, https://us-python.pkg.dev/colab-wheels/public/simple/\n",
            "Collecting q\n",
            "  Downloading q-2.7-py2.py3-none-any.whl (10 kB)\n",
            "\u001b[31mERROR: Could not find a version that satisfies the requirement tensorflow==2.2 (from versions: 2.5.0, 2.5.1, 2.5.2, 2.5.3, 2.6.0rc0, 2.6.0rc1, 2.6.0rc2, 2.6.0, 2.6.1, 2.6.2, 2.6.3, 2.6.4, 2.6.5, 2.7.0rc0, 2.7.0rc1, 2.7.0, 2.7.1, 2.7.2, 2.7.3, 2.7.4, 2.8.0rc0, 2.8.0rc1, 2.8.0, 2.8.1, 2.8.2, 2.8.3, 2.8.4, 2.9.0rc0, 2.9.0rc1, 2.9.0rc2, 2.9.0, 2.9.1, 2.9.2, 2.9.3, 2.10.0rc0, 2.10.0rc1, 2.10.0rc2, 2.10.0rc3, 2.10.0, 2.10.1, 2.11.0rc0, 2.11.0rc1, 2.11.0rc2, 2.11.0, 2.11.1, 2.12.0rc0, 2.12.0rc1, 2.12.0)\u001b[0m\u001b[31m\n",
            "\u001b[0m\u001b[31mERROR: No matching distribution found for tensorflow==2.2\u001b[0m\u001b[31m\n",
            "\u001b[0mLooking in indexes: https://pypi.org/simple, https://us-python.pkg.dev/colab-wheels/public/simple/\n",
            "Collecting q\n",
            "  Using cached q-2.7-py2.py3-none-any.whl (10 kB)\n",
            "Collecting keras==2.3.1\n",
            "  Downloading Keras-2.3.1-py2.py3-none-any.whl (377 kB)\n",
            "\u001b[2K     \u001b[90m━━━━━━━━━━━━━━━━━━━━━━━━━━━━━━━━━━━━━━━\u001b[0m \u001b[32m377.8/377.8 kB\u001b[0m \u001b[31m8.9 MB/s\u001b[0m eta \u001b[36m0:00:00\u001b[0m\n",
            "\u001b[?25hRequirement already satisfied: scipy>=0.14 in /usr/local/lib/python3.9/dist-packages (from keras==2.3.1) (1.10.1)\n",
            "Requirement already satisfied: numpy>=1.9.1 in /usr/local/lib/python3.9/dist-packages (from keras==2.3.1) (1.22.4)\n",
            "Collecting keras-applications>=1.0.6\n",
            "  Downloading Keras_Applications-1.0.8-py3-none-any.whl (50 kB)\n",
            "\u001b[2K     \u001b[90m━━━━━━━━━━━━━━━━━━━━━━━━━━━━━━━━━━━━━━━━\u001b[0m \u001b[32m50.7/50.7 kB\u001b[0m \u001b[31m7.6 MB/s\u001b[0m eta \u001b[36m0:00:00\u001b[0m\n",
            "\u001b[?25hRequirement already satisfied: pyyaml in /usr/local/lib/python3.9/dist-packages (from keras==2.3.1) (6.0)\n",
            "Collecting keras-preprocessing>=1.0.5\n",
            "  Downloading Keras_Preprocessing-1.1.2-py2.py3-none-any.whl (42 kB)\n",
            "\u001b[2K     \u001b[90m━━━━━━━━━━━━━━━━━━━━━━━━━━━━━━━━━━━━━━━━\u001b[0m \u001b[32m42.6/42.6 kB\u001b[0m \u001b[31m6.3 MB/s\u001b[0m eta \u001b[36m0:00:00\u001b[0m\n",
            "\u001b[?25hRequirement already satisfied: h5py in /usr/local/lib/python3.9/dist-packages (from keras==2.3.1) (3.8.0)\n",
            "Requirement already satisfied: six>=1.9.0 in /usr/local/lib/python3.9/dist-packages (from keras==2.3.1) (1.16.0)\n",
            "Installing collected packages: q, keras-preprocessing, keras-applications, keras\n",
            "  Attempting uninstall: keras\n",
            "    Found existing installation: keras 2.12.0\n",
            "    Uninstalling keras-2.12.0:\n",
            "      Successfully uninstalled keras-2.12.0\n",
            "\u001b[31mERROR: pip's dependency resolver does not currently take into account all the packages that are installed. This behaviour is the source of the following dependency conflicts.\n",
            "tensorflow 2.12.0 requires keras<2.13,>=2.12.0, but you have keras 2.3.1 which is incompatible.\u001b[0m\u001b[31m\n",
            "\u001b[0mSuccessfully installed keras-2.3.1 keras-applications-1.0.8 keras-preprocessing-1.1.2 q-2.7\n"
          ]
        }
      ]
    },
    {
      "cell_type": "code",
      "metadata": {
        "id": "uXEj1Nm98aH0"
      },
      "source": [
        "from keras_contrib.losses import crf_loss\n",
        "from keras_contrib.metrics import crf_accuracy\n",
        "from keras_contrib.layers import CRF\n",
        "\n",
        "model = keras.models.Sequential()\n",
        "\n",
        "model.add(L.InputLayer([None],dtype='int32'))\n",
        "model.add(L.Embedding(len(all_words),50))\n",
        "model.add(L.Bidirectional(L.SimpleRNN(64, return_sequences=True)))\n",
        "\n",
        "stepwise_dense = L.Dense(len(all_tags),activation='softmax')\n",
        "stepwise_dense = L.TimeDistributed(stepwise_dense)\n",
        "model.add(stepwise_dense)\n",
        "model.add(CRF(64))\n",
        "\n",
        "model.compile('adam', loss=crf_loss, metrics=[crf_accuracy])"
      ],
      "execution_count": 13,
      "outputs": []
    },
    {
      "cell_type": "code",
      "source": [
        "model.fit_generator(generate_batches(train_data),len(train_data)/BATCH_SIZE,\n",
        "                    callbacks=[EvaluateAccuracy()], epochs=5)"
      ],
      "metadata": {
        "colab": {
          "base_uri": "https://localhost:8080/",
          "height": 502
        },
        "id": "qWrjGOrsRVjB",
        "outputId": "4f7c559a-25b0-496b-ae14-468805c4a510"
      },
      "execution_count": 14,
      "outputs": [
        {
          "output_type": "stream",
          "name": "stdout",
          "text": [
            "Epoch 1/5\n"
          ]
        },
        {
          "output_type": "stream",
          "name": "stderr",
          "text": [
            "<ipython-input-14-ffd7a726874d>:1: UserWarning: `Model.fit_generator` is deprecated and will be removed in a future version. Please use `Model.fit`, which supports generators.\n",
            "  model.fit_generator(generate_batches(train_data),len(train_data)/BATCH_SIZE,\n"
          ]
        },
        {
          "output_type": "error",
          "ename": "AttributeError",
          "evalue": "ignored",
          "traceback": [
            "\u001b[0;31m---------------------------------------------------------------------------\u001b[0m",
            "\u001b[0;31mAttributeError\u001b[0m                            Traceback (most recent call last)",
            "\u001b[0;32m<ipython-input-14-ffd7a726874d>\u001b[0m in \u001b[0;36m<cell line: 1>\u001b[0;34m()\u001b[0m\n\u001b[0;32m----> 1\u001b[0;31m model.fit_generator(generate_batches(train_data),len(train_data)/BATCH_SIZE,\n\u001b[0m\u001b[1;32m      2\u001b[0m                     callbacks=[EvaluateAccuracy()], epochs=5)\n",
            "\u001b[0;32m/usr/local/lib/python3.9/dist-packages/keras/engine/training.py\u001b[0m in \u001b[0;36mfit_generator\u001b[0;34m(self, generator, steps_per_epoch, epochs, verbose, callbacks, validation_data, validation_steps, validation_freq, class_weight, max_queue_size, workers, use_multiprocessing, shuffle, initial_epoch)\u001b[0m\n\u001b[1;32m   2634\u001b[0m             \u001b[0mstacklevel\u001b[0m\u001b[0;34m=\u001b[0m\u001b[0;36m2\u001b[0m\u001b[0;34m,\u001b[0m\u001b[0;34m\u001b[0m\u001b[0;34m\u001b[0m\u001b[0m\n\u001b[1;32m   2635\u001b[0m         )\n\u001b[0;32m-> 2636\u001b[0;31m         return self.fit(\n\u001b[0m\u001b[1;32m   2637\u001b[0m             \u001b[0mgenerator\u001b[0m\u001b[0;34m,\u001b[0m\u001b[0;34m\u001b[0m\u001b[0;34m\u001b[0m\u001b[0m\n\u001b[1;32m   2638\u001b[0m             \u001b[0msteps_per_epoch\u001b[0m\u001b[0;34m=\u001b[0m\u001b[0msteps_per_epoch\u001b[0m\u001b[0;34m,\u001b[0m\u001b[0;34m\u001b[0m\u001b[0;34m\u001b[0m\u001b[0m\n",
            "\u001b[0;32m/usr/local/lib/python3.9/dist-packages/keras/utils/traceback_utils.py\u001b[0m in \u001b[0;36merror_handler\u001b[0;34m(*args, **kwargs)\u001b[0m\n\u001b[1;32m     68\u001b[0m             \u001b[0;31m# To get the full stack trace, call:\u001b[0m\u001b[0;34m\u001b[0m\u001b[0;34m\u001b[0m\u001b[0m\n\u001b[1;32m     69\u001b[0m             \u001b[0;31m# `tf.debugging.disable_traceback_filtering()`\u001b[0m\u001b[0;34m\u001b[0m\u001b[0;34m\u001b[0m\u001b[0m\n\u001b[0;32m---> 70\u001b[0;31m             \u001b[0;32mraise\u001b[0m \u001b[0me\u001b[0m\u001b[0;34m.\u001b[0m\u001b[0mwith_traceback\u001b[0m\u001b[0;34m(\u001b[0m\u001b[0mfiltered_tb\u001b[0m\u001b[0;34m)\u001b[0m \u001b[0;32mfrom\u001b[0m \u001b[0;32mNone\u001b[0m\u001b[0;34m\u001b[0m\u001b[0;34m\u001b[0m\u001b[0m\n\u001b[0m\u001b[1;32m     71\u001b[0m         \u001b[0;32mfinally\u001b[0m\u001b[0;34m:\u001b[0m\u001b[0;34m\u001b[0m\u001b[0;34m\u001b[0m\u001b[0m\n\u001b[1;32m     72\u001b[0m             \u001b[0;32mdel\u001b[0m \u001b[0mfiltered_tb\u001b[0m\u001b[0;34m\u001b[0m\u001b[0;34m\u001b[0m\u001b[0m\n",
            "\u001b[0;32m/usr/local/lib/python3.9/dist-packages/keras/engine/training.py\u001b[0m in \u001b[0;36mtf__train_function\u001b[0;34m(iterator)\u001b[0m\n\u001b[1;32m     13\u001b[0m                 \u001b[0;32mtry\u001b[0m\u001b[0;34m:\u001b[0m\u001b[0;34m\u001b[0m\u001b[0;34m\u001b[0m\u001b[0m\n\u001b[1;32m     14\u001b[0m                     \u001b[0mdo_return\u001b[0m \u001b[0;34m=\u001b[0m \u001b[0;32mTrue\u001b[0m\u001b[0;34m\u001b[0m\u001b[0;34m\u001b[0m\u001b[0m\n\u001b[0;32m---> 15\u001b[0;31m                     \u001b[0mretval_\u001b[0m \u001b[0;34m=\u001b[0m \u001b[0mag__\u001b[0m\u001b[0;34m.\u001b[0m\u001b[0mconverted_call\u001b[0m\u001b[0;34m(\u001b[0m\u001b[0mag__\u001b[0m\u001b[0;34m.\u001b[0m\u001b[0mld\u001b[0m\u001b[0;34m(\u001b[0m\u001b[0mstep_function\u001b[0m\u001b[0;34m)\u001b[0m\u001b[0;34m,\u001b[0m \u001b[0;34m(\u001b[0m\u001b[0mag__\u001b[0m\u001b[0;34m.\u001b[0m\u001b[0mld\u001b[0m\u001b[0;34m(\u001b[0m\u001b[0mself\u001b[0m\u001b[0;34m)\u001b[0m\u001b[0;34m,\u001b[0m \u001b[0mag__\u001b[0m\u001b[0;34m.\u001b[0m\u001b[0mld\u001b[0m\u001b[0;34m(\u001b[0m\u001b[0miterator\u001b[0m\u001b[0;34m)\u001b[0m\u001b[0;34m)\u001b[0m\u001b[0;34m,\u001b[0m \u001b[0;32mNone\u001b[0m\u001b[0;34m,\u001b[0m \u001b[0mfscope\u001b[0m\u001b[0;34m)\u001b[0m\u001b[0;34m\u001b[0m\u001b[0;34m\u001b[0m\u001b[0m\n\u001b[0m\u001b[1;32m     16\u001b[0m                 \u001b[0;32mexcept\u001b[0m\u001b[0;34m:\u001b[0m\u001b[0;34m\u001b[0m\u001b[0;34m\u001b[0m\u001b[0m\n\u001b[1;32m     17\u001b[0m                     \u001b[0mdo_return\u001b[0m \u001b[0;34m=\u001b[0m \u001b[0;32mFalse\u001b[0m\u001b[0;34m\u001b[0m\u001b[0;34m\u001b[0m\u001b[0m\n",
            "\u001b[0;32m/usr/local/lib/python3.9/dist-packages/keras_contrib/losses/crf_losses.py\u001b[0m in \u001b[0;36mtf__crf_loss\u001b[0;34m(y_true, y_pred)\u001b[0m\n\u001b[1;32m     23\u001b[0m                 \u001b[0mdo_return\u001b[0m \u001b[0;34m=\u001b[0m \u001b[0;32mFalse\u001b[0m\u001b[0;34m\u001b[0m\u001b[0;34m\u001b[0m\u001b[0m\n\u001b[1;32m     24\u001b[0m                 \u001b[0mretval_\u001b[0m \u001b[0;34m=\u001b[0m \u001b[0mag__\u001b[0m\u001b[0;34m.\u001b[0m\u001b[0mUndefinedReturnValue\u001b[0m\u001b[0;34m(\u001b[0m\u001b[0;34m)\u001b[0m\u001b[0;34m\u001b[0m\u001b[0;34m\u001b[0m\u001b[0m\n\u001b[0;32m---> 25\u001b[0;31m                 \u001b[0;34m(\u001b[0m\u001b[0mcrf\u001b[0m\u001b[0;34m,\u001b[0m \u001b[0midx\u001b[0m\u001b[0;34m)\u001b[0m \u001b[0;34m=\u001b[0m \u001b[0mag__\u001b[0m\u001b[0;34m.\u001b[0m\u001b[0mld\u001b[0m\u001b[0;34m(\u001b[0m\u001b[0my_pred\u001b[0m\u001b[0;34m)\u001b[0m\u001b[0;34m.\u001b[0m\u001b[0m_keras_history\u001b[0m\u001b[0;34m[\u001b[0m\u001b[0;34m:\u001b[0m\u001b[0;36m2\u001b[0m\u001b[0;34m]\u001b[0m\u001b[0;34m\u001b[0m\u001b[0;34m\u001b[0m\u001b[0m\n\u001b[0m\u001b[1;32m     26\u001b[0m \u001b[0;34m\u001b[0m\u001b[0m\n\u001b[1;32m     27\u001b[0m                 \u001b[0;32mdef\u001b[0m \u001b[0mget_state_1\u001b[0m\u001b[0;34m(\u001b[0m\u001b[0;34m)\u001b[0m\u001b[0;34m:\u001b[0m\u001b[0;34m\u001b[0m\u001b[0;34m\u001b[0m\u001b[0m\n",
            "\u001b[0;31mAttributeError\u001b[0m: in user code:\n\n    File \"/usr/local/lib/python3.9/dist-packages/keras/engine/training.py\", line 1284, in train_function  *\n        return step_function(self, iterator)\n    File \"/usr/local/lib/python3.9/dist-packages/keras_contrib/losses/crf_losses.py\", line 54, in crf_loss  *\n        crf, idx = y_pred._keras_history[:2]\n\n    AttributeError: 'Tensor' object has no attribute '_keras_history'\n"
          ]
        }
      ]
    },
    {
      "cell_type": "markdown",
      "source": [
        "Устанавливать более старые версии tf и keras Google colab не очень хочет. Поэтому последнюю модель прогонял в PyCharm. \n",
        "\n",
        "В интернете нашел информацию что crf_loss нельзя использовать, если последний слой в модели не CRF. Это так или есть какие-то обходные пути для этого?"
      ],
      "metadata": {
        "id": "g-gHJk1GXd7p"
      }
    },
    {
      "cell_type": "markdown",
      "source": [
        "![image.png](data:image/png;base64,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)"
      ],
      "metadata": {
        "id": "eoGN1SzmXZyZ"
      }
    },
    {
      "cell_type": "markdown",
      "source": [
        "Статистика accuracy по эпохам:\n",
        "\n",
        "Validation accuracy: 0.49249\n",
        "\n",
        "Validation accuracy: 0.57070\n",
        "\n",
        "Validation accuracy: 0.69640\n",
        "\n",
        "Validation accuracy: 0.83554\n",
        "\n",
        "Validation accuracy: 0.89381"
      ],
      "metadata": {
        "id": "gV1WvbJGXyxx"
      }
    },
    {
      "cell_type": "markdown",
      "source": [
        "![image.png](data:image/png;base64,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)"
      ],
      "metadata": {
        "id": "kuFnvyFdYMQZ"
      }
    },
    {
      "cell_type": "markdown",
      "metadata": {
        "id": "AG_wuMVf8aH0"
      },
      "source": [
        "\n",
        "#### Some tips\n",
        "Here there are a few more tips on how to improve training that are a bit trickier to impliment. We strongly suggest that you try them _after_ you've got a good initial model.\n",
        "* __Use pre-trained embeddings__: you can use pre-trained weights from [there](http://ahogrammer.com/2017/01/20/the-list-of-pretrained-word-embeddings/) to kickstart your Embedding layer.\n",
        "  * Embedding layer has a matrix W (layer.W) which contains word embeddings for each word in the dictionary. You can just overwrite them with tf.assign.\n",
        "  * When using pre-trained embeddings, pay attention to the fact that model's dictionary is different from your own.\n",
        "  * You may want to switch trainable=False for embedding layer in first few epochs as in regular fine-tuning.  \n",
        "* __Go beyond SimpleRNN__: there's `keras.layers.LSTM` and `keras.layers.GRU`\n",
        "  * If you want to use a custom recurrent Cell, read [this](https://keras.io/layers/recurrent/#rnn)\n",
        "  * You can also use 1D Convolutions (`keras.layers.Conv1D`). They are often as good as recurrent layers but with less overfitting.\n",
        "* __Stack more layers__: if there is a common motif to this course it's about stacking layers\n",
        "  * You can just add recurrent and 1dconv layers on top of one another and keras will understand it\n",
        "  * Just remember that bigger networks may need more epochs to train\n",
        "* __Regularization__: you can apply dropouts as usual but also in an RNN-specific way\n",
        "  * `keras.layers.Dropout` works inbetween RNN layers\n",
        "  * Recurrent layers also have `recurrent_dropout` parameter\n",
        "* __Gradient clipping__: If your training isn't as stable as you'd like, set `clipnorm` in your optimizer.\n",
        "  * Which is to say, it's a good idea to watch over your loss curve at each minibatch. Try tensorboard callback or something similar.\n",
        "* __Word Dropout__: tl;dr randomly replace words with UNK during training. \n",
        "  * This can also simulate increased amount of unknown words in the test set\n",
        "* __Larger vocabulary__: You can obtain greater performance by expanding your model's input dictionary from 5000 to up to every single word!\n",
        "  * Just make sure your model doesn't overfit due to so many parameters.\n",
        "  * Combined with regularizers or pre-trained word-vectors this could be really good cuz right now our model is blind to >5% of words.  \n",
        "* __More efficient batching__: right now TF spends a lot of time iterating over \"0\"s\n",
        "  * This happens because batch is always padded to the length of a longest sentence\n",
        "  * You can speed things up by pre-generating batches of similar lengths and feeding it with randomly chosen pre-generated batch.\n",
        "  * This technically breaks the i.i.d. assumption, but it works unless you come up with some insane rnn architectures.\n",
        "* __The most important advice__: don't cram in everything at once!\n",
        "  * If you stuff in a lot of modiffications, some of them almost inevitably gonna be detrimental and you'll never know which of them are.\n",
        "  * Try to instead go in small iterations and record experiment results to guide further search.\n",
        "    \n",
        "Good hunting!"
      ]
    },
    {
      "cell_type": "markdown",
      "source": [
        "Обязательно попробую спасибо)"
      ],
      "metadata": {
        "id": "l75Vuq9nYtES"
      }
    },
    {
      "cell_type": "markdown",
      "source": [
        "### Вопросы:"
      ],
      "metadata": {
        "id": "5cIgGDORYqJo"
      }
    },
    {
      "cell_type": "markdown",
      "source": [
        "1. В лекции говорилось что RNN хорошо себя показывает в состовлении описаний для картинок. А если задача стоит в том чтобы определить тип изображения из, например, 100 возможных. То для этих целей лучше использовать чистый CNN или комбинацию CNN и RNN? Или для этих целей нужен совершенно другой подход?"
      ],
      "metadata": {
        "id": "f1z9WALpYydS"
      }
    }
  ]
}