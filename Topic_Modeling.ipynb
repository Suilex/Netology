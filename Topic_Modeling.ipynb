{
  "cells": [
    {
      "cell_type": "markdown",
      "metadata": {
        "id": "GUIwTg1X2jRm"
      },
      "source": [
        "### Thematic modeling"
      ]
    },
    {
      "cell_type": "markdown",
      "metadata": {
        "id": "lU_fMqg92r3F"
      },
      "source": [
        "#### Data processing"
      ]
    },
    {
      "cell_type": "code",
      "execution_count": null,
      "metadata": {
        "id": "zCWkIfCGvJHS"
      },
      "outputs": [],
      "source": [
        "import json\n",
        "\n",
        "import bz2\n",
        "import regex\n",
        "from tqdm import tqdm\n",
        "from scipy import sparse"
      ]
    },
    {
      "cell_type": "code",
      "execution_count": null,
      "metadata": {
        "colab": {
          "base_uri": "https://localhost:8080/"
        },
        "id": "6wzfzhSewB--",
        "outputId": "40dc170c-f3f3-48c7-9031-e9a04d0f557e"
      },
      "outputs": [
        {
          "name": "stdout",
          "output_type": "stream",
          "text": [
            "%pylab is deprecated, use %matplotlib inline and import the required libraries.\n",
            "Populating the interactive namespace from numpy and matplotlib\n"
          ]
        }
      ],
      "source": [
        "import pandas as pd\n",
        "import numpy as np\n",
        "import nltk\n",
        "import matplotlib.pyplot as plt\n",
        "import seaborn as sns\n",
        "%matplotlib inline\n",
        "%pylab inline"
      ]
    },
    {
      "cell_type": "code",
      "execution_count": null,
      "metadata": {
        "colab": {
          "base_uri": "https://localhost:8080/"
        },
        "id": "azzpDvSUwCBc",
        "outputId": "6b05e82c-1b06-48e5-a36a-99bbd50f7756"
      },
      "outputs": [
        {
          "name": "stderr",
          "output_type": "stream",
          "text": [
            "201030it [00:45, 4422.65it/s]\n"
          ]
        }
      ],
      "source": [
        "responses = []\n",
        "with bz2.BZ2File('banki_responses (1).json.bz2', 'r') as thefile:\n",
        "    for row in tqdm(thefile):\n",
        "        resp = json.loads(row)\n",
        "        if not resp['rating_not_checked'] and (len(resp['text'].split()) > 0):\n",
        "            responses.append(resp)"
      ]
    },
    {
      "cell_type": "code",
      "execution_count": null,
      "metadata": {
        "colab": {
          "base_uri": "https://localhost:8080/"
        },
        "id": "PKhST8E_wFOe",
        "outputId": "b8ec0b7b-77a9-4b38-ea95-0ac07a23481c"
      },
      "outputs": [
        {
          "data": {
            "text/plain": [
              "{'city': 'г. Саратов',\n",
              " 'rating_not_checked': False,\n",
              " 'title': 'Карта ко вкладу',\n",
              " 'num_comments': 0,\n",
              " 'bank_license': 'лицензия № 880',\n",
              " 'author': 'ronnichka',\n",
              " 'bank_name': 'Югра',\n",
              " 'datetime': '2015-06-03 20:56:57',\n",
              " 'text': 'Здравствуйте! Хотела написать, что мне месяц не выдают карту ко вкладу, ссылаясь на \"нам же их из Самары везут\" (на секундочку 5 часов езды от нашего города). Но! Прочитала, что людям 3,5 месяцев не выдают карту, и поняла, что у меня все хорошо, пока что. И подарок мне дали, и кулер в отделении есть. Так что я, конечно, готова ждать. Правда хотелось бы не очень долго.',\n",
              " 'rating_grade': 3}"
            ]
          },
          "execution_count": 5,
          "metadata": {},
          "output_type": "execute_result"
        }
      ],
      "source": [
        "responses[99]"
      ]
    },
    {
      "cell_type": "markdown",
      "metadata": {
        "id": "BTWhCHIT2zAm"
      },
      "source": [
        "#### Text analysis"
      ]
    },
    {
      "cell_type": "markdown",
      "metadata": {
        "id": "oMCZdaxj3hbu"
      },
      "source": [
        "***1. Посчитайте количество отзывов в разных городах и на разные банки***\n",
        "\n",
        "---\n",
        "\n"
      ]
    },
    {
      "cell_type": "code",
      "execution_count": null,
      "metadata": {
        "colab": {
          "base_uri": "https://localhost:8080/"
        },
        "id": "YpZD465Z3G3-",
        "outputId": "a8e3e60d-64f8-45ef-b57c-83bc00bf3649"
      },
      "outputs": [
        {
          "data": {
            "text/plain": [
              "153499"
            ]
          },
          "execution_count": 6,
          "metadata": {},
          "output_type": "execute_result"
        }
      ],
      "source": [
        "len(responses)"
      ]
    },
    {
      "cell_type": "markdown",
      "metadata": {
        "id": "d2HXjUDq94CV"
      },
      "source": [
        "Кол-во отзывов по разным банкам и городам лежат в переменных banks и cities соответсвенно"
      ]
    },
    {
      "cell_type": "code",
      "execution_count": null,
      "metadata": {
        "colab": {
          "base_uri": "https://localhost:8080/"
        },
        "id": "0CyacOVd3oIN",
        "outputId": "51528433-4f3a-4b59-825b-e6c5dd18eafd"
      },
      "outputs": [
        {
          "name": "stdout",
          "output_type": "stream",
          "text": [
            "Кол-во банков: 670\n",
            "Кол-во городов: 5236\n"
          ]
        }
      ],
      "source": [
        "banks = dict()\n",
        "cities = dict()\n",
        "\n",
        "for resp in responses:\n",
        "  key_bank = resp.get(\"bank_name\").lower()\n",
        "  key_city = resp.get(\"city\").lower() if resp.get(\"city\") is not None else None\n",
        "\n",
        "  if (key_bank in banks):\n",
        "    banks[key_bank] += 1\n",
        "  else:\n",
        "    banks[key_bank] = 1\n",
        "\n",
        "  if (key_city in banks):\n",
        "    cities[key_city] += 1\n",
        "  else:\n",
        "    cities[key_city] = 1\n",
        "\n",
        "\n",
        "print(\"Кол-во банков: {}\".format(len(banks)))\n",
        "print(\"Кол-во городов: {}\".format(len(cities)))"
      ]
    },
    {
      "cell_type": "markdown",
      "metadata": {
        "id": "5Y6X5e3i9x-1"
      },
      "source": [
        "Первые 10 банков по количеству отзывов"
      ]
    },
    {
      "cell_type": "code",
      "execution_count": null,
      "metadata": {
        "colab": {
          "base_uri": "https://localhost:8080/"
        },
        "id": "NHzCbKcl5Vb_",
        "outputId": "c9501e57-e696-4a9f-964c-c318a223e6b1"
      },
      "outputs": [
        {
          "data": {
            "text/plain": [
              "[['сбербанк россии', 26327],\n",
              " ['альфа-банк', 10224],\n",
              " ['втб 24', 8185],\n",
              " ['русский стандарт', 7943],\n",
              " ['хоум кредит банк', 7549],\n",
              " ['тинькофф банк', 5387],\n",
              " ['национальный банк «траст»', 4607],\n",
              " ['ренессанс кредит', 3849],\n",
              " ['связной банк', 3775],\n",
              " ['отп банк', 3237]]"
            ]
          },
          "execution_count": 8,
          "metadata": {},
          "output_type": "execute_result"
        }
      ],
      "source": [
        "sorted([[x, y] for x, y in banks.items()], key=lambda elem: elem[1], reverse=True)[:10]"
      ]
    },
    {
      "cell_type": "markdown",
      "metadata": {
        "id": "HOzm8iNJ-qcN"
      },
      "source": [
        "***2. Постройте гистограмы длин текстов в символах и в словах***\n",
        "\n",
        "---\n",
        "\n"
      ]
    },
    {
      "cell_type": "code",
      "execution_count": null,
      "metadata": {
        "colab": {
          "base_uri": "https://localhost:8080/",
          "height": 206
        },
        "id": "l3xqcnwx3JsF",
        "outputId": "1008f36f-cf88-4a14-9535-ae616155743a"
      },
      "outputs": [
        {
          "data": {
            "text/html": [
              "<div>\n",
              "<style scoped>\n",
              "    .dataframe tbody tr th:only-of-type {\n",
              "        vertical-align: middle;\n",
              "    }\n",
              "\n",
              "    .dataframe tbody tr th {\n",
              "        vertical-align: top;\n",
              "    }\n",
              "\n",
              "    .dataframe thead th {\n",
              "        text-align: right;\n",
              "    }\n",
              "</style>\n",
              "<table border=\"1\" class=\"dataframe\">\n",
              "  <thead>\n",
              "    <tr style=\"text-align: right;\">\n",
              "      <th></th>\n",
              "      <th>city</th>\n",
              "      <th>rating_not_checked</th>\n",
              "      <th>title</th>\n",
              "      <th>num_comments</th>\n",
              "      <th>bank_license</th>\n",
              "      <th>author</th>\n",
              "      <th>bank_name</th>\n",
              "      <th>datetime</th>\n",
              "      <th>text</th>\n",
              "      <th>rating_grade</th>\n",
              "    </tr>\n",
              "  </thead>\n",
              "  <tbody>\n",
              "    <tr>\n",
              "      <th>0</th>\n",
              "      <td>г. Москва</td>\n",
              "      <td>False</td>\n",
              "      <td>Жалоба</td>\n",
              "      <td>0</td>\n",
              "      <td>лицензия № 2562</td>\n",
              "      <td>uhnov1</td>\n",
              "      <td>Бинбанк</td>\n",
              "      <td>2015-06-08 12:50:54</td>\n",
              "      <td>Добрый день! Я не являюсь клиентом банка и пор...</td>\n",
              "      <td>NaN</td>\n",
              "    </tr>\n",
              "    <tr>\n",
              "      <th>1</th>\n",
              "      <td>г. Новосибирск</td>\n",
              "      <td>False</td>\n",
              "      <td>Не могу пользоваться услугой Сбербанк он-лайн</td>\n",
              "      <td>0</td>\n",
              "      <td>лицензия № 1481</td>\n",
              "      <td>Foryou</td>\n",
              "      <td>Сбербанк России</td>\n",
              "      <td>2015-06-08 11:09:57</td>\n",
              "      <td>Доброго дня! Являюсь держателем зарплатной кар...</td>\n",
              "      <td>NaN</td>\n",
              "    </tr>\n",
              "    <tr>\n",
              "      <th>2</th>\n",
              "      <td>г. Москва</td>\n",
              "      <td>False</td>\n",
              "      <td>Двойное списание за один товар.</td>\n",
              "      <td>1</td>\n",
              "      <td>лицензия № 2562</td>\n",
              "      <td>Vladimir84</td>\n",
              "      <td>Бинбанк</td>\n",
              "      <td>2015-06-05 20:14:28</td>\n",
              "      <td>Здравствуйте!  Дублирую свое заявление от 03.0...</td>\n",
              "      <td>NaN</td>\n",
              "    </tr>\n",
              "    <tr>\n",
              "      <th>3</th>\n",
              "      <td>г. Ставрополь</td>\n",
              "      <td>False</td>\n",
              "      <td>Меняют проценты комиссии  не предупредив и не ...</td>\n",
              "      <td>2</td>\n",
              "      <td>лицензия № 1481</td>\n",
              "      <td>643609</td>\n",
              "      <td>Сбербанк России</td>\n",
              "      <td>2015-06-05 13:51:01</td>\n",
              "      <td>Добрый день!! Я открыл расчетный счет в СберБа...</td>\n",
              "      <td>NaN</td>\n",
              "    </tr>\n",
              "    <tr>\n",
              "      <th>4</th>\n",
              "      <td>г. Челябинск</td>\n",
              "      <td>False</td>\n",
              "      <td>Верните денежные средства за страховку</td>\n",
              "      <td>1</td>\n",
              "      <td>лицензия № 2766</td>\n",
              "      <td>anfisa-2003</td>\n",
              "      <td>ОТП Банк</td>\n",
              "      <td>2015-06-05 10:58:12</td>\n",
              "      <td>04.03.2015 г. взяла кредит в вашем банке, заяв...</td>\n",
              "      <td>NaN</td>\n",
              "    </tr>\n",
              "  </tbody>\n",
              "</table>\n",
              "</div>"
            ],
            "text/plain": [
              "             city  rating_not_checked  \\\n",
              "0       г. Москва               False   \n",
              "1  г. Новосибирск               False   \n",
              "2       г. Москва               False   \n",
              "3   г. Ставрополь               False   \n",
              "4    г. Челябинск               False   \n",
              "\n",
              "                                               title  num_comments  \\\n",
              "0                                             Жалоба             0   \n",
              "1      Не могу пользоваться услугой Сбербанк он-лайн             0   \n",
              "2                    Двойное списание за один товар.             1   \n",
              "3  Меняют проценты комиссии  не предупредив и не ...             2   \n",
              "4             Верните денежные средства за страховку             1   \n",
              "\n",
              "      bank_license       author        bank_name             datetime  \\\n",
              "0  лицензия № 2562       uhnov1          Бинбанк  2015-06-08 12:50:54   \n",
              "1  лицензия № 1481       Foryou  Сбербанк России  2015-06-08 11:09:57   \n",
              "2  лицензия № 2562   Vladimir84          Бинбанк  2015-06-05 20:14:28   \n",
              "3  лицензия № 1481       643609  Сбербанк России  2015-06-05 13:51:01   \n",
              "4  лицензия № 2766  anfisa-2003         ОТП Банк  2015-06-05 10:58:12   \n",
              "\n",
              "                                                text  rating_grade  \n",
              "0  Добрый день! Я не являюсь клиентом банка и пор...           NaN  \n",
              "1  Доброго дня! Являюсь держателем зарплатной кар...           NaN  \n",
              "2  Здравствуйте!  Дублирую свое заявление от 03.0...           NaN  \n",
              "3  Добрый день!! Я открыл расчетный счет в СберБа...           NaN  \n",
              "4  04.03.2015 г. взяла кредит в вашем банке, заяв...           NaN  "
            ]
          },
          "execution_count": 9,
          "metadata": {},
          "output_type": "execute_result"
        }
      ],
      "source": [
        "df = pd.DataFrame(responses)\n",
        "df.head()"
      ]
    },
    {
      "cell_type": "code",
      "execution_count": null,
      "metadata": {
        "colab": {
          "base_uri": "https://localhost:8080/"
        },
        "id": "RWXylQ-HG7K8",
        "outputId": "3bfd9e64-5286-4522-a101-7bc4df614d05"
      },
      "outputs": [
        {
          "name": "stderr",
          "output_type": "stream",
          "text": [
            "[nltk_data] Downloading package punkt to\n",
            "[nltk_data]     C:\\Users\\Suile\\AppData\\Roaming\\nltk_data...\n",
            "[nltk_data]   Unzipping tokenizers\\punkt.zip.\n"
          ]
        },
        {
          "data": {
            "text/plain": [
              "True"
            ]
          },
          "execution_count": 10,
          "metadata": {},
          "output_type": "execute_result"
        }
      ],
      "source": [
        "from nltk.tokenize import word_tokenize\n",
        "from string import punctuation\n",
        "import nltk\n",
        "nltk.download('punkt')"
      ]
    },
    {
      "cell_type": "code",
      "execution_count": null,
      "metadata": {
        "id": "MppYWtzNFeUb"
      },
      "outputs": [],
      "source": [
        "df[\"words_counter\"] = [len([token for token in word_tokenize(text) if token not in punctuation]) for text in df.text]"
      ]
    },
    {
      "cell_type": "code",
      "execution_count": null,
      "metadata": {
        "id": "6zkJJni8-29c"
      },
      "outputs": [],
      "source": [
        "df[\"symbols_counter\"] = [len(text) for text in df.text]"
      ]
    },
    {
      "cell_type": "code",
      "execution_count": null,
      "metadata": {
        "colab": {
          "base_uri": "https://localhost:8080/",
          "height": 206
        },
        "id": "Y7Gh-l9--2_0",
        "outputId": "80ac6648-75dc-42ef-ae1e-cbb4b95975aa"
      },
      "outputs": [
        {
          "data": {
            "text/html": [
              "<div>\n",
              "<style scoped>\n",
              "    .dataframe tbody tr th:only-of-type {\n",
              "        vertical-align: middle;\n",
              "    }\n",
              "\n",
              "    .dataframe tbody tr th {\n",
              "        vertical-align: top;\n",
              "    }\n",
              "\n",
              "    .dataframe thead th {\n",
              "        text-align: right;\n",
              "    }\n",
              "</style>\n",
              "<table border=\"1\" class=\"dataframe\">\n",
              "  <thead>\n",
              "    <tr style=\"text-align: right;\">\n",
              "      <th></th>\n",
              "      <th>city</th>\n",
              "      <th>rating_not_checked</th>\n",
              "      <th>title</th>\n",
              "      <th>num_comments</th>\n",
              "      <th>bank_license</th>\n",
              "      <th>author</th>\n",
              "      <th>bank_name</th>\n",
              "      <th>datetime</th>\n",
              "      <th>text</th>\n",
              "      <th>rating_grade</th>\n",
              "      <th>words_counter</th>\n",
              "      <th>symbols_counter</th>\n",
              "    </tr>\n",
              "  </thead>\n",
              "  <tbody>\n",
              "    <tr>\n",
              "      <th>0</th>\n",
              "      <td>г. Москва</td>\n",
              "      <td>False</td>\n",
              "      <td>Жалоба</td>\n",
              "      <td>0</td>\n",
              "      <td>лицензия № 2562</td>\n",
              "      <td>uhnov1</td>\n",
              "      <td>Бинбанк</td>\n",
              "      <td>2015-06-08 12:50:54</td>\n",
              "      <td>Добрый день! Я не являюсь клиентом банка и пор...</td>\n",
              "      <td>NaN</td>\n",
              "      <td>222</td>\n",
              "      <td>1523</td>\n",
              "    </tr>\n",
              "    <tr>\n",
              "      <th>1</th>\n",
              "      <td>г. Новосибирск</td>\n",
              "      <td>False</td>\n",
              "      <td>Не могу пользоваться услугой Сбербанк он-лайн</td>\n",
              "      <td>0</td>\n",
              "      <td>лицензия № 1481</td>\n",
              "      <td>Foryou</td>\n",
              "      <td>Сбербанк России</td>\n",
              "      <td>2015-06-08 11:09:57</td>\n",
              "      <td>Доброго дня! Являюсь держателем зарплатной кар...</td>\n",
              "      <td>NaN</td>\n",
              "      <td>136</td>\n",
              "      <td>1026</td>\n",
              "    </tr>\n",
              "    <tr>\n",
              "      <th>2</th>\n",
              "      <td>г. Москва</td>\n",
              "      <td>False</td>\n",
              "      <td>Двойное списание за один товар.</td>\n",
              "      <td>1</td>\n",
              "      <td>лицензия № 2562</td>\n",
              "      <td>Vladimir84</td>\n",
              "      <td>Бинбанк</td>\n",
              "      <td>2015-06-05 20:14:28</td>\n",
              "      <td>Здравствуйте!  Дублирую свое заявление от 03.0...</td>\n",
              "      <td>NaN</td>\n",
              "      <td>93</td>\n",
              "      <td>588</td>\n",
              "    </tr>\n",
              "    <tr>\n",
              "      <th>3</th>\n",
              "      <td>г. Ставрополь</td>\n",
              "      <td>False</td>\n",
              "      <td>Меняют проценты комиссии  не предупредив и не ...</td>\n",
              "      <td>2</td>\n",
              "      <td>лицензия № 1481</td>\n",
              "      <td>643609</td>\n",
              "      <td>Сбербанк России</td>\n",
              "      <td>2015-06-05 13:51:01</td>\n",
              "      <td>Добрый день!! Я открыл расчетный счет в СберБа...</td>\n",
              "      <td>NaN</td>\n",
              "      <td>124</td>\n",
              "      <td>740</td>\n",
              "    </tr>\n",
              "    <tr>\n",
              "      <th>4</th>\n",
              "      <td>г. Челябинск</td>\n",
              "      <td>False</td>\n",
              "      <td>Верните денежные средства за страховку</td>\n",
              "      <td>1</td>\n",
              "      <td>лицензия № 2766</td>\n",
              "      <td>anfisa-2003</td>\n",
              "      <td>ОТП Банк</td>\n",
              "      <td>2015-06-05 10:58:12</td>\n",
              "      <td>04.03.2015 г. взяла кредит в вашем банке, заяв...</td>\n",
              "      <td>NaN</td>\n",
              "      <td>308</td>\n",
              "      <td>1896</td>\n",
              "    </tr>\n",
              "  </tbody>\n",
              "</table>\n",
              "</div>"
            ],
            "text/plain": [
              "             city  rating_not_checked  \\\n",
              "0       г. Москва               False   \n",
              "1  г. Новосибирск               False   \n",
              "2       г. Москва               False   \n",
              "3   г. Ставрополь               False   \n",
              "4    г. Челябинск               False   \n",
              "\n",
              "                                               title  num_comments  \\\n",
              "0                                             Жалоба             0   \n",
              "1      Не могу пользоваться услугой Сбербанк он-лайн             0   \n",
              "2                    Двойное списание за один товар.             1   \n",
              "3  Меняют проценты комиссии  не предупредив и не ...             2   \n",
              "4             Верните денежные средства за страховку             1   \n",
              "\n",
              "      bank_license       author        bank_name             datetime  \\\n",
              "0  лицензия № 2562       uhnov1          Бинбанк  2015-06-08 12:50:54   \n",
              "1  лицензия № 1481       Foryou  Сбербанк России  2015-06-08 11:09:57   \n",
              "2  лицензия № 2562   Vladimir84          Бинбанк  2015-06-05 20:14:28   \n",
              "3  лицензия № 1481       643609  Сбербанк России  2015-06-05 13:51:01   \n",
              "4  лицензия № 2766  anfisa-2003         ОТП Банк  2015-06-05 10:58:12   \n",
              "\n",
              "                                                text  rating_grade  \\\n",
              "0  Добрый день! Я не являюсь клиентом банка и пор...           NaN   \n",
              "1  Доброго дня! Являюсь держателем зарплатной кар...           NaN   \n",
              "2  Здравствуйте!  Дублирую свое заявление от 03.0...           NaN   \n",
              "3  Добрый день!! Я открыл расчетный счет в СберБа...           NaN   \n",
              "4  04.03.2015 г. взяла кредит в вашем банке, заяв...           NaN   \n",
              "\n",
              "   words_counter  symbols_counter  \n",
              "0            222             1523  \n",
              "1            136             1026  \n",
              "2             93              588  \n",
              "3            124              740  \n",
              "4            308             1896  "
            ]
          },
          "execution_count": 13,
          "metadata": {},
          "output_type": "execute_result"
        }
      ],
      "source": [
        "df.head()"
      ]
    },
    {
      "cell_type": "code",
      "execution_count": null,
      "metadata": {
        "colab": {
          "base_uri": "https://localhost:8080/",
          "height": 447
        },
        "id": "S1ERmR3J-3B9",
        "outputId": "59c2a45d-aea4-403f-a802-18c791569650"
      },
      "outputs": [
        {
          "data": {
            "text/plain": [
              "<Axes: >"
            ]
          },
          "execution_count": 14,
          "metadata": {},
          "output_type": "execute_result"
        },
        {
          "data": {
            "image/png": "[encoded data removed]",
            "text/plain": [
              "<Figure size 640x480 with 1 Axes>"
            ]
          },
          "metadata": {},
          "output_type": "display_data"
        }
      ],
      "source": [
        "df.symbols_counter.hist()"
      ]
    },
    {
      "cell_type": "code",
      "execution_count": null,
      "metadata": {
        "colab": {
          "base_uri": "https://localhost:8080/",
          "height": 447
        },
        "id": "jUd6cZY2-3EH",
        "outputId": "3a2c5db2-3d83-481a-abbc-e44c891ce7ac"
      },
      "outputs": [
        {
          "data": {
            "text/plain": [
              "<Axes: >"
            ]
          },
          "execution_count": 15,
          "metadata": {},
          "output_type": "execute_result"
        },
        {
          "data": {
            "image/png": "[encoded data removed]",
            "text/plain": [
              "<Figure size 640x480 with 1 Axes>"
            ]
          },
          "metadata": {},
          "output_type": "display_data"
        }
      ],
      "source": [
        "df.words_counter.hist()"
      ]
    },
    {
      "cell_type": "markdown",
      "metadata": {
        "id": "Uo1UHIaIRVAb"
      },
      "source": [
        "3. Найдите 10 самых частых:\n",
        "  * слов\n",
        "  * слов без стоп-слов\n",
        "  * лемм\n",
        "  * существительных\n",
        "\n",
        "---\n",
        "\n"
      ]
    },
    {
      "cell_type": "code",
      "execution_count": null,
      "metadata": {
        "id": "HGkMxrsIpngv",
        "outputId": "717d6a4c-7b03-4d55-a38c-186c3c797415"
      },
      "outputs": [
        {
          "name": "stderr",
          "output_type": "stream",
          "text": [
            "[nltk_data] Downloading package stopwords to\n",
            "[nltk_data]     C:\\Users\\Suile\\AppData\\Roaming\\nltk_data...\n",
            "[nltk_data]   Unzipping corpora\\stopwords.zip.\n"
          ]
        }
      ],
      "source": [
        "import nltk\n",
        "nltk.download('stopwords')\n",
        "from nltk.corpus import stopwords"
      ]
    },
    {
      "cell_type": "code",
      "execution_count": null,
      "metadata": {
        "id": "TUJe0if8pngv",
        "outputId": "6087987a-cd0c-4dfa-bb12-c22b01675d3d"
      },
      "outputs": [
        {
          "name": "stdout",
          "output_type": "stream",
          "text": [
            "Looking in indexes: https://pypi.org/simple, https://pypi.ngc.nvidia.com\n",
            "Requirement already satisfied: pymystem3 in c:\\users\\suile\\anaconda3\\lib\\site-packages (0.2.0)\n",
            "Requirement already satisfied: requests in c:\\users\\suile\\anaconda3\\lib\\site-packages (from pymystem3) (2.31.0)\n",
            "Requirement already satisfied: charset-normalizer<4,>=2 in c:\\users\\suile\\anaconda3\\lib\\site-packages (from requests->pymystem3) (2.0.4)\n",
            "Requirement already satisfied: idna<4,>=2.5 in c:\\users\\suile\\anaconda3\\lib\\site-packages (from requests->pymystem3) (3.4)\n",
            "Requirement already satisfied: urllib3<3,>=1.21.1 in c:\\users\\suile\\anaconda3\\lib\\site-packages (from requests->pymystem3) (1.26.16)\n",
            "Requirement already satisfied: certifi>=2017.4.17 in c:\\users\\suile\\anaconda3\\lib\\site-packages (from requests->pymystem3) (2023.11.17)\n"
          ]
        }
      ],
      "source": [
        "!pip install pymystem3\n",
        "from pymystem3 import Mystem"
      ]
    },
    {
      "cell_type": "code",
      "execution_count": null,
      "metadata": {
        "id": "U0R21rdipngv",
        "outputId": "39cd6dcf-e91d-4719-9eb3-1909a158511f"
      },
      "outputs": [
        {
          "name": "stdout",
          "output_type": "stream",
          "text": [
            "Looking in indexes: https://pypi.org/simple, https://pypi.ngc.nvidia.com\n",
            "Collecting pymorphy2\n",
            "  Downloading pymorphy2-0.9.1-py3-none-any.whl (55 kB)\n",
            "     ---------------------------------------- 0.0/55.5 kB ? eta -:--:--\n",
            "     -------------- ----------------------- 20.5/55.5 kB 330.3 kB/s eta 0:00:01\n",
            "     -------------------------------------- 55.5/55.5 kB 580.0 kB/s eta 0:00:00\n",
            "Collecting dawg-python>=0.7.1 (from pymorphy2)\n",
            "  Downloading DAWG_Python-0.7.2-py2.py3-none-any.whl (11 kB)\n",
            "Collecting pymorphy2-dicts-ru<3.0,>=2.4 (from pymorphy2)\n",
            "  Downloading pymorphy2_dicts_ru-2.4.417127.4579844-py2.py3-none-any.whl (8.2 MB)\n",
            "     ---------------------------------------- 0.0/8.2 MB ? eta -:--:--\n",
            "     ---------------------------------------- 0.1/8.2 MB 1.7 MB/s eta 0:00:05\n",
            "     - -------------------------------------- 0.3/8.2 MB 3.4 MB/s eta 0:00:03\n",
            "     -- ------------------------------------- 0.6/8.2 MB 4.5 MB/s eta 0:00:02\n",
            "     ------ --------------------------------- 1.4/8.2 MB 8.0 MB/s eta 0:00:01\n",
            "     ------------ --------------------------- 2.6/8.2 MB 11.8 MB/s eta 0:00:01\n",
            "     ------------------ --------------------- 3.8/8.2 MB 13.4 MB/s eta 0:00:01\n",
            "     ------------------------ --------------- 5.1/8.2 MB 15.5 MB/s eta 0:00:01\n",
            "     ----------------------------- ---------- 6.0/8.2 MB 15.9 MB/s eta 0:00:01\n",
            "     ---------------------------------- ----- 7.1/8.2 MB 16.8 MB/s eta 0:00:01\n",
            "     ---------------------------------------- 8.2/8.2 MB 18.1 MB/s eta 0:00:00\n",
            "Collecting docopt>=0.6 (from pymorphy2)\n",
            "  Downloading docopt-0.6.2.tar.gz (25 kB)\n",
            "  Preparing metadata (setup.py): started\n",
            "  Preparing metadata (setup.py): finished with status 'done'\n",
            "Building wheels for collected packages: docopt\n",
            "  Building wheel for docopt (setup.py): started\n",
            "  Building wheel for docopt (setup.py): finished with status 'done'\n",
            "  Created wheel for docopt: filename=docopt-0.6.2-py2.py3-none-any.whl size=13775 sha256=1530fe183cdeb44dee4f1a0fc065a69b81391fd3ae6b86d423d15772e0842cd3\n",
            "  Stored in directory: C:\\Users\\Suile\\AppData\\Local\\Temp\\pip-ephem-wheel-cache-gmd43abq\\wheels\\1a\\b0\\8c\\4b75c4116c31f83c8f9f047231251e13cc74481cca4a78a9ce\n",
            "Successfully built docopt\n",
            "Installing collected packages: pymorphy2-dicts-ru, docopt, dawg-python, pymorphy2\n",
            "Successfully installed dawg-python-0.7.2 docopt-0.6.2 pymorphy2-0.9.1 pymorphy2-dicts-ru-2.4.417127.4579844\n"
          ]
        }
      ],
      "source": [
        "!pip install pymorphy2\n",
        "from pymorphy2 import MorphAnalyzer"
      ]
    },
    {
      "cell_type": "code",
      "execution_count": null,
      "metadata": {
        "id": "tZXqSMXWpngv"
      },
      "outputs": [],
      "source": [
        "def pymorphy2_311_hotfix():\n",
        "    from inspect import getfullargspec\n",
        "    from pymorphy2.units.base import BaseAnalyzerUnit\n",
        "\n",
        "    def _get_param_names_311(klass):\n",
        "        if klass.__init__ is object.__init__:\n",
        "            return []\n",
        "        args = getfullargspec(klass.__init__).args\n",
        "        return sorted(args[1:])\n",
        "\n",
        "    setattr(BaseAnalyzerUnit, '_get_param_names', _get_param_names_311)"
      ]
    },
    {
      "cell_type": "code",
      "execution_count": null,
      "metadata": {
        "id": "gtrYZqGppngv"
      },
      "outputs": [],
      "source": [
        "pymorphy2_311_hotfix()"
      ]
    },
    {
      "cell_type": "code",
      "execution_count": null,
      "metadata": {
        "id": "_bbSe8QLpngv",
        "outputId": "fc5b50fe-0147-4937-c581-c2c12d712723"
      },
      "outputs": [
        {
          "name": "stdout",
          "output_type": "stream",
          "text": [
            "Python 3.11.5\n"
          ]
        }
      ],
      "source": [
        "!python --version"
      ]
    },
    {
      "cell_type": "markdown",
      "metadata": {
        "id": "ZFhMn0xrpngw"
      },
      "source": [
        "т.к. не хватает памяти на токенизацию за один раз, то делаем это итерациями"
      ]
    },
    {
      "cell_type": "code",
      "execution_count": null,
      "metadata": {
        "id": "5VTyFI0Kpngw"
      },
      "outputs": [],
      "source": [
        "def word_counter(df):\n",
        "    n = 10_000\n",
        "    max_n = len(df)\n",
        "    counter_dict = dict()\n",
        "    vec = CountVectorizer()\n",
        "\n",
        "    while n <= max_n:\n",
        "        bow = vec.fit_transform(df.iloc[n-10_000:n].text)\n",
        "\n",
        "        word_list = vec.get_feature_names_out()\n",
        "        count_list = bow.toarray().sum(axis=0)\n",
        "\n",
        "        for x, y in zip(word_list, count_list):\n",
        "            if (x in counter_dict):\n",
        "                counter_dict[x] += y\n",
        "            else:\n",
        "                counter_dict[x] = y\n",
        "\n",
        "        print(n)\n",
        "        if n == max_n:\n",
        "            break\n",
        "        n = n + 10_000 if n < max_n else max_n\n",
        "\n",
        "    return counter_dict\n",
        "\n",
        "def word_counter_without_stopwords(df):\n",
        "    n = 10_000\n",
        "    max_n = len(df)\n",
        "    counter_dict = dict()\n",
        "    vec = CountVectorizer()\n",
        "\n",
        "    while n <= max_n:\n",
        "        bow = vec.fit_transform(df.iloc[n-10_000:n].text)\n",
        "\n",
        "        word_list = vec.get_feature_names_out()\n",
        "        count_list = bow.toarray().sum(axis=0)\n",
        "\n",
        "        for x, y in zip(word_list, count_list):\n",
        "            if x in stopwords.words('russian'):\n",
        "                continue\n",
        "            if (x in counter_dict):\n",
        "                counter_dict[x] += y\n",
        "            else:\n",
        "                counter_dict[x] = y\n",
        "\n",
        "        print(n)\n",
        "        if n == max_n:\n",
        "            break\n",
        "        n = n + 10_000 if n < max_n else max_n\n",
        "\n",
        "    return counter_dict\n",
        "\n",
        "def lemm_counter_without_stopwords(df, noun=False):\n",
        "    n = 10_000\n",
        "    max_n = len(df)\n",
        "    counter_dict = dict()\n",
        "    vec = CountVectorizer()\n",
        "    pymorphy2_analyzer = MorphAnalyzer()\n",
        "\n",
        "    while n <= max_n:\n",
        "        bow = vec.fit_transform(df.iloc[n-10_000:n].text)\n",
        "\n",
        "        word_list = vec.get_feature_names_out()\n",
        "        count_list = bow.toarray().sum(axis=0)\n",
        "\n",
        "        for x, y in zip(word_list, count_list):\n",
        "            lemma = pymorphy2_analyzer.parse(x)[0]\n",
        "            key = lemma.normal_form\n",
        "            if noun:\n",
        "                if 'NOUN' in lemma.tag:\n",
        "                    if key in stopwords.words('russian'):\n",
        "                        continue\n",
        "                    if (key in counter_dict):\n",
        "                        counter_dict[key] += y\n",
        "                    else:\n",
        "                        counter_dict[key] = y\n",
        "            else:\n",
        "                if key in stopwords.words('russian'):\n",
        "                    continue\n",
        "                if (key in counter_dict):\n",
        "                    counter_dict[key] += y\n",
        "                else:\n",
        "                    counter_dict[key] = y\n",
        "\n",
        "        print(n)\n",
        "        if n == max_n:\n",
        "            break\n",
        "        n = n + 10_000 if n < max_n else max_n\n",
        "\n",
        "    return counter_dict\n",
        "\n",
        "regex = re.compile(\"[А-Яа-я]+\")\n",
        "\n",
        "def my_lemmatize(text):\n",
        "    pymorphy2_analyzer = MorphAnalyzer()\n",
        "\n",
        "    try:\n",
        "        return \" \".join([pymorphy2_analyzer.parse(token)[0].normal_form for token in \" \".join(regex.findall(text)).split() if not token in stopwords.words('russian')])\n",
        "    except:\n",
        "        return \"\"\n",
        "\n",
        "def add_lemms(df):\n",
        "    iter_k = 10_000\n",
        "    n = 10_000\n",
        "    copy_df = df.copy()\n",
        "    max_n = len(copy_df)\n",
        "    tmp_df = None\n",
        "    total_df = None\n",
        "\n",
        "    while n <= max_n:\n",
        "        tmp_df = copy_df.iloc[n-iter_k:n].text.str.lower().apply(my_lemmatize).to_frame()\n",
        "\n",
        "        if total_df is None:\n",
        "            total_df = tmp_df.copy()\n",
        "            total_df.to_csv('lemma_df_out_{}.csv'.format(n))\n",
        "        else:\n",
        "            total_df = pd.concat([total_df, tmp_df], ignore_index=True)\n",
        "            total_df.to_csv('lemma_df_out_{}.csv'.format(n))\n",
        "\n",
        "        print(n)\n",
        "        gc.collect()\n",
        "        if n == max_n:\n",
        "            break\n",
        "\n",
        "        n = n + iter_k if n + iter_k < max_n else max_n\n",
        "\n",
        "    return total_df"
      ]
    },
    {
      "cell_type": "code",
      "execution_count": null,
      "metadata": {
        "id": "Q_oV9_QCpngw",
        "outputId": "1b9f5275-98e7-4a40-f729-20e637b78b07"
      },
      "outputs": [
        {
          "name": "stdout",
          "output_type": "stream",
          "text": [
            "10000\n",
            "20000\n",
            "30000\n",
            "40000\n",
            "50000\n",
            "60000\n",
            "70000\n",
            "80000\n",
            "90000\n",
            "100000\n",
            "110000\n",
            "120000\n",
            "130000\n",
            "140000\n",
            "150000\n"
          ]
        }
      ],
      "source": [
        "words = word_counter(df)"
      ]
    },
    {
      "cell_type": "markdown",
      "metadata": {
        "id": "w6DhflSbpngw"
      },
      "source": [
        "топ 10 слов"
      ]
    },
    {
      "cell_type": "code",
      "execution_count": null,
      "metadata": {
        "id": "9qEgY9Hipngw",
        "outputId": "40d9e81b-31c3-447b-ac60-032cbe92526f"
      },
      "outputs": [
        {
          "name": "stdout",
          "output_type": "stream",
          "text": [
            "не 840632\n",
            "на 698119\n",
            "что 631817\n",
            "по 368029\n",
            "мне 317448\n",
            "банка 273159\n",
            "банк 212480\n",
            "как 202625\n",
            "но 197070\n",
            "за 189398\n"
          ]
        }
      ],
      "source": [
        "for word in sorted(words, key=words.get, reverse=True)[:10]:\n",
        "    print(word, words[word])"
      ]
    },
    {
      "cell_type": "markdown",
      "metadata": {
        "id": "5hpHUoTBpngx"
      },
      "source": [
        "топ 10 слов без стоп слов"
      ]
    },
    {
      "cell_type": "code",
      "execution_count": null,
      "metadata": {
        "id": "KQHcOBe_RGcU",
        "outputId": "42461cba-5225-403a-8b9f-d59d969846f7"
      },
      "outputs": [
        {
          "name": "stdout",
          "output_type": "stream",
          "text": [
            "10000\n",
            "20000\n",
            "30000\n",
            "40000\n",
            "50000\n",
            "60000\n",
            "70000\n",
            "80000\n",
            "90000\n",
            "100000\n",
            "110000\n",
            "120000\n",
            "130000\n",
            "140000\n",
            "150000\n"
          ]
        }
      ],
      "source": [
        "words_without_stopwords = word_counter_without_stopwords(df)"
      ]
    },
    {
      "cell_type": "code",
      "execution_count": null,
      "metadata": {
        "id": "3kl9ztVMRGez",
        "outputId": "b725546a-229a-42f8-84e7-7246c28130bf"
      },
      "outputs": [
        {
          "name": "stdout",
          "output_type": "stream",
          "text": [
            "банка 273159\n",
            "банк 212480\n",
            "это 180295\n",
            "деньги 129499\n",
            "карту 104427\n",
            "карты 100865\n",
            "кредит 79411\n",
            "день 75708\n",
            "банке 71068\n",
            "заявление 69833\n"
          ]
        }
      ],
      "source": [
        "for word in sorted(words_without_stopwords, key=words_without_stopwords.get, reverse=True)[:10]:\n",
        "    print(word, words_without_stopwords[word])"
      ]
    },
    {
      "cell_type": "code",
      "execution_count": null,
      "metadata": {
        "id": "s47M_dwXRGhF",
        "outputId": "b72b9071-f2d0-4196-ecb3-020eaecd4283"
      },
      "outputs": [
        {
          "name": "stdout",
          "output_type": "stream",
          "text": [
            "10000\n",
            "20000\n",
            "30000\n",
            "40000\n",
            "50000\n",
            "60000\n",
            "70000\n",
            "80000\n",
            "90000\n",
            "100000\n",
            "110000\n",
            "120000\n",
            "130000\n",
            "140000\n",
            "150000\n"
          ]
        }
      ],
      "source": [
        "lemms_without_stopwords = lemm_counter_without_stopwords(df)"
      ]
    },
    {
      "cell_type": "markdown",
      "metadata": {
        "id": "V6Z2q8bTpngx"
      },
      "source": [
        "топ 10 лемм без стоп слов"
      ]
    },
    {
      "cell_type": "code",
      "execution_count": null,
      "metadata": {
        "id": "PpWauGskRGjL",
        "outputId": "9283e80e-98d9-4105-c64a-dab2867aad55"
      },
      "outputs": [
        {
          "name": "stdout",
          "output_type": "stream",
          "text": [
            "банк 660069\n",
            "карта 331167\n",
            "это 303745\n",
            "всё 196630\n",
            "деньга 177419\n",
            "день 171421\n",
            "кредит 153089\n",
            "который 147132\n",
            "отделение 142199\n",
            "счёт 140594\n"
          ]
        }
      ],
      "source": [
        "for word in sorted(lemms_without_stopwords, key=lemms_without_stopwords.get, reverse=True)[:10]:\n",
        "    print(word, lemms_without_stopwords[word])"
      ]
    },
    {
      "cell_type": "code",
      "execution_count": null,
      "metadata": {
        "id": "MlfTfu91RGn7",
        "outputId": "ac2f1bb7-79ee-43f1-d0a0-0fbdcd195509"
      },
      "outputs": [
        {
          "name": "stdout",
          "output_type": "stream",
          "text": [
            "10000\n",
            "20000\n",
            "30000\n",
            "40000\n",
            "50000\n",
            "60000\n",
            "70000\n",
            "80000\n",
            "90000\n",
            "100000\n",
            "110000\n",
            "120000\n",
            "130000\n",
            "140000\n",
            "150000\n"
          ]
        }
      ],
      "source": [
        "noun_lemms_without_stopwords = lemm_counter_without_stopwords(df, noun=True)"
      ]
    },
    {
      "cell_type": "code",
      "execution_count": null,
      "metadata": {
        "id": "M1yk7-jdpng1",
        "outputId": "a7f60be4-366f-4d31-f54b-be597f2be1bf"
      },
      "outputs": [
        {
          "name": "stdout",
          "output_type": "stream",
          "text": [
            "10000\n",
            "20000\n",
            "30000\n",
            "40000\n",
            "50000\n",
            "60000\n",
            "70000\n",
            "80000\n",
            "90000\n",
            "100000\n",
            "110000\n",
            "120000\n",
            "130000\n",
            "140000\n",
            "150000\n",
            "153499\n"
          ]
        }
      ],
      "source": [
        "df_with_lems = add_lemms(df)"
      ]
    },
    {
      "cell_type": "markdown",
      "metadata": {
        "id": "TiXFX57apng1"
      },
      "source": [
        "топ 10 лемм существительных без стоп слов"
      ]
    },
    {
      "cell_type": "code",
      "execution_count": null,
      "metadata": {
        "id": "j7Hu7NaGpng1",
        "outputId": "ee0847da-3bac-425c-fd05-d6a1b162168c"
      },
      "outputs": [
        {
          "name": "stdout",
          "output_type": "stream",
          "text": [
            "банк 660069\n",
            "карта 331167\n",
            "деньга 177419\n",
            "день 171421\n",
            "кредит 153089\n",
            "отделение 142199\n",
            "счёт 140594\n",
            "клиент 134888\n",
            "сотрудник 133031\n",
            "сумма 109975\n"
          ]
        }
      ],
      "source": [
        "for word in sorted(noun_lemms_without_stopwords, key=noun_lemms_without_stopwords.get, reverse=True)[:10]:\n",
        "    print(word, noun_lemms_without_stopwords[word])"
      ]
    },
    {
      "cell_type": "markdown",
      "metadata": {
        "id": "FMSXpK_Ipng1"
      },
      "source": [
        "#### 4. Постройте кривые Ципфа и Хипса"
      ]
    },
    {
      "cell_type": "markdown",
      "metadata": {
        "id": "JiNC6kJkpng1"
      },
      "source": [
        "Кривая Ципфа"
      ]
    },
    {
      "cell_type": "code",
      "execution_count": null,
      "metadata": {
        "id": "DfDbSoLgpng1",
        "outputId": "ed5a0222-81c5-4a2b-c3b3-0464443190e2"
      },
      "outputs": [
        {
          "data": {
            "image/png": "[encoded data removed]",
            "text/plain": [
              "<Figure size 640x480 with 1 Axes>"
            ]
          },
          "metadata": {},
          "output_type": "display_data"
        }
      ],
      "source": [
        "import matplotlib.pyplot as plt\n",
        "%matplotlib inline\n",
        "\n",
        "freqs = list(noun_lemms_without_stopwords.values())\n",
        "freqs = sorted(freqs, reverse = True)\n",
        "\n",
        "fig, ax = plt.subplots()\n",
        "ax.plot(freqs[:300], range(300))\n",
        "plt.show()"
      ]
    },
    {
      "cell_type": "markdown",
      "metadata": {
        "id": "LAC1mXMbpng2"
      },
      "source": [
        "Крифая Хипса"
      ]
    },
    {
      "cell_type": "code",
      "execution_count": null,
      "metadata": {
        "id": "MMGvDg9Bpng2"
      },
      "outputs": [],
      "source": [
        "import gc\n",
        "\n",
        "def lemm_tokenize_without_stopwords(df, noun=False):\n",
        "    k = 5_000\n",
        "    n = 5_000\n",
        "    max_n = len(df)\n",
        "    counter_dict = dict()\n",
        "    vec = CountVectorizer()\n",
        "    pymorphy2_analyzer = MorphAnalyzer()\n",
        "    n_words = []\n",
        "    n_tokens = []\n",
        "\n",
        "    while n <= max_n:\n",
        "        bow = vec.fit_transform(df.iloc[n-k:n].text)\n",
        "\n",
        "        word_list = vec.get_feature_names_out()\n",
        "        count_list = bow.toarray()\n",
        "\n",
        "        for row in count_list:\n",
        "            for i, elem in enumerate(row):\n",
        "                if elem:\n",
        "                    lemma = pymorphy2_analyzer.parse(word_list[i])[0]\n",
        "                    key = lemma.normal_form\n",
        "                    if noun:\n",
        "                        if 'NOUN' in lemma.tag:\n",
        "                            if key in stopwords.words('russian'):\n",
        "                                continue\n",
        "                            if (key in counter_dict):\n",
        "                                counter_dict[key] += elem\n",
        "                            else:\n",
        "                                counter_dict[key] = elem\n",
        "                    else:\n",
        "                        if key in stopwords.words('russian'):\n",
        "                            continue\n",
        "                        if (key in counter_dict):\n",
        "                            counter_dict[key] += elem\n",
        "                        else:\n",
        "                            counter_dict[key] = elem\n",
        "\n",
        "        n_words.append(len(counter_dict.keys()))\n",
        "        n_tokens.append(sum(list(counter_dict.values())))\n",
        "        gc.collect()\n",
        "\n",
        "        print(\"n_words: {}\".format(n_words[-1]))\n",
        "        print(\"n_tokens: {}\".format(n_tokens[-1]))\n",
        "\n",
        "        print(n)\n",
        "        if n == max_n:\n",
        "            break\n",
        "        n = n + k if n < max_n else max_n\n",
        "\n",
        "    return (n_words, n_tokens)"
      ]
    },
    {
      "cell_type": "code",
      "execution_count": null,
      "metadata": {
        "id": "geH3wJIepng2",
        "outputId": "29cd6b40-c3a2-4aeb-e031-f58e8fe14b4b"
      },
      "outputs": [
        {
          "name": "stdout",
          "output_type": "stream",
          "text": [
            "n_words: 8673\n",
            "n_tokens: 310665\n",
            "5000\n",
            "n_words: 12269\n",
            "n_tokens: 630591\n",
            "10000\n",
            "n_words: 14935\n",
            "n_tokens: 947565\n",
            "15000\n",
            "n_words: 17235\n",
            "n_tokens: 1266155\n",
            "20000\n",
            "n_words: 19251\n",
            "n_tokens: 1575549\n",
            "25000\n",
            "n_words: 21061\n",
            "n_tokens: 1904627\n",
            "30000\n",
            "n_words: 22810\n",
            "n_tokens: 2248287\n",
            "35000\n",
            "n_words: 24409\n",
            "n_tokens: 2581821\n",
            "40000\n",
            "n_words: 25919\n",
            "n_tokens: 2901624\n",
            "45000\n",
            "n_words: 27383\n",
            "n_tokens: 3233901\n",
            "50000\n",
            "n_words: 28766\n",
            "n_tokens: 3568061\n",
            "55000\n",
            "n_words: 30178\n",
            "n_tokens: 3908264\n",
            "60000\n",
            "n_words: 31552\n",
            "n_tokens: 4244772\n",
            "65000\n",
            "n_words: 32993\n",
            "n_tokens: 4595878\n",
            "70000\n",
            "n_words: 34260\n",
            "n_tokens: 4938211\n",
            "75000\n",
            "n_words: 35547\n",
            "n_tokens: 5288730\n",
            "80000\n",
            "n_words: 36803\n",
            "n_tokens: 5643605\n",
            "85000\n",
            "n_words: 37991\n",
            "n_tokens: 6001354\n",
            "90000\n",
            "n_words: 39233\n",
            "n_tokens: 6359764\n",
            "95000\n",
            "n_words: 40498\n",
            "n_tokens: 6734416\n",
            "100000\n",
            "n_words: 41843\n",
            "n_tokens: 7101046\n",
            "105000\n",
            "n_words: 42918\n",
            "n_tokens: 7460269\n",
            "110000\n",
            "n_words: 44186\n",
            "n_tokens: 7843963\n",
            "115000\n",
            "n_words: 45498\n",
            "n_tokens: 8235693\n",
            "120000\n",
            "n_words: 46716\n",
            "n_tokens: 8633636\n",
            "125000\n",
            "n_words: 47939\n",
            "n_tokens: 9025665\n",
            "130000\n",
            "n_words: 49168\n",
            "n_tokens: 9417763\n",
            "135000\n",
            "n_words: 50480\n",
            "n_tokens: 9764132\n",
            "140000\n",
            "n_words: 51684\n",
            "n_tokens: 10099682\n",
            "145000\n",
            "n_words: 52891\n",
            "n_tokens: 10420622\n",
            "150000\n"
          ]
        }
      ],
      "source": [
        "n_words, n_tokens = lemm_tokenize_without_stopwords(df, True)"
      ]
    },
    {
      "cell_type": "code",
      "execution_count": null,
      "metadata": {
        "id": "RA7tgVnYpng2",
        "outputId": "2c304dd8-b95b-40d4-db13-94ae82e436a0"
      },
      "outputs": [
        {
          "data": {
            "image/png": "[encoded data removed]",
            "text/plain": [
              "<Figure size 640x480 with 1 Axes>"
            ]
          },
          "metadata": {},
          "output_type": "display_data"
        }
      ],
      "source": [
        "fig, ax = plt.subplots()\n",
        "ax.plot(n_tokens, n_words)\n",
        "plt.show()"
      ]
    },
    {
      "cell_type": "markdown",
      "metadata": {
        "id": "nstL3YQCpng2"
      },
      "source": [
        "Ответьте на следующие вопросы:\n",
        "* какое слово встречается чаще, \"сотрудник\" или \"клиент\"?\n",
        "* сколько раз встречается слова \"мошенничество\" и \"доверие\"?"
      ]
    },
    {
      "cell_type": "markdown",
      "metadata": {
        "id": "vf89yp3bpng2"
      },
      "source": [
        "Слово \"клиент\" встречается чаще чем \"сотрудник\"\n",
        "\n",
        "Слово \"мошенничество\" - 3225\n",
        "\n",
        "Слово \"доверие\" - 2086"
      ]
    },
    {
      "cell_type": "code",
      "execution_count": null,
      "metadata": {
        "id": "siIFbWPSpng3",
        "outputId": "98f1689f-f340-4702-e5f2-e71199da81be"
      },
      "outputs": [
        {
          "name": "stdout",
          "output_type": "stream",
          "text": [
            "сотрудник: 133031 -- клиент: 134888\n",
            "мошенничество: 3225 -- доверие: 2086\n"
          ]
        }
      ],
      "source": [
        "print(\"сотрудник: {} -- клиент: {}\".format(noun_lemms_without_stopwords[\"сотрудник\"], noun_lemms_without_stopwords[\"клиент\"]))\n",
        "print(\"мошенничество: {} -- доверие: {}\".format(noun_lemms_without_stopwords[\"мошенничество\"], noun_lemms_without_stopwords[\"доверие\"]))"
      ]
    },
    {
      "cell_type": "markdown",
      "metadata": {
        "id": "wbo36iIrpng3"
      },
      "source": [
        "В поле \"rating_grade\" записана оценка отзыва по шкале от 1 до 5. Используйте меру\n",
        ", для того, чтобы найти ключевые слова и биграмы для положительных отзывов (с оценкой 5) и отрицательных отзывов (с оценкой 1)"
      ]
    },
    {
      "cell_type": "code",
      "execution_count": null,
      "metadata": {
        "id": "T5jq5iaEpng3"
      },
      "outputs": [],
      "source": [
        "from sklearn.feature_extraction.text import TfidfVectorizer"
      ]
    },
    {
      "cell_type": "code",
      "execution_count": null,
      "metadata": {
        "id": "uBlrqDcWpng3",
        "outputId": "97787185-e023-433f-d70f-10d38d383a6f"
      },
      "outputs": [
        {
          "name": "stdout",
          "output_type": "stream",
          "text": [
            "14713\n",
            "47387\n"
          ]
        }
      ],
      "source": [
        "print(len(df[df['rating_grade'] == 5]))\n",
        "print(len(df[df['rating_grade'] == 1]))"
      ]
    },
    {
      "cell_type": "code",
      "execution_count": null,
      "metadata": {
        "id": "8jsogQXfpng3"
      },
      "outputs": [],
      "source": [
        "def tfidf_vectorizer(df, ngrams=(1,1), grade=1):\n",
        "    n = 5_000\n",
        "    tmp_df = df[df['rating_grade'] == grade]\n",
        "    max_n = len(tmp_df)\n",
        "    counter_dict = dict()\n",
        "    vec = TfidfVectorizer(ngram_range=ngrams)\n",
        "    pymorphy2_analyzer = MorphAnalyzer()\n",
        "\n",
        "    while n <= max_n:\n",
        "        k = len(tmp_df.iloc[n-5_000:n])\n",
        "        bow = vec.fit_transform(tmp_df.iloc[n-5_000:n].text)\n",
        "\n",
        "        feature_names = vec.get_feature_names_out()\n",
        "        tfidf_scores = bow.toarray().sum(axis=0)\n",
        "\n",
        "        for x, y in zip(feature_names, tfidf_scores):\n",
        "            lemma = pymorphy2_analyzer.parse(x)[0]\n",
        "            key = lemma.normal_form\n",
        "\n",
        "            if 'NOUN' in lemma.tag:\n",
        "                if key in stopwords.words('russian'):\n",
        "                    continue\n",
        "                if (key in counter_dict):\n",
        "                    counter_dict[key] += y / k\n",
        "                else:\n",
        "                    counter_dict[key] = y / k\n",
        "\n",
        "        print(n)\n",
        "        gc.collect()\n",
        "        if n == max_n:\n",
        "            break\n",
        "\n",
        "        n = n + 5_000 if n + 5_000 < max_n else max_n\n",
        "\n",
        "    return counter_dict"
      ]
    },
    {
      "cell_type": "code",
      "execution_count": null,
      "metadata": {
        "id": "Sb9it_shpng4",
        "outputId": "24898a01-e485-4ae1-818e-39f415418ea0"
      },
      "outputs": [
        {
          "name": "stdout",
          "output_type": "stream",
          "text": [
            "Топ 10 слов с оценкой 5\n",
            "банк : 0.22760663186441424\n",
            "карта : 0.12177994912122492\n",
            "клиент : 0.08294653544358484\n",
            "вклад : 0.0814982745671285\n",
            "кредит : 0.0779622347975636\n",
            "сотрудник : 0.0757208678481325\n",
            "отделение : 0.07559750229672599\n",
            "день : 0.06876043236609516\n",
            "вопрос : 0.06320653291412313\n",
            "счёт : 0.06300129230435333\n"
          ]
        }
      ],
      "source": [
        "positive_grade_word_tfidf = tfidf_vectorizer(df, grade=5)\n",
        "top_words = []\n",
        "\n",
        "print(\"Топ 10 слов с оценкой 5\")\n",
        "for word in sorted(positive_grade_word_tfidf, key=positive_grade_word_tfidf.get, reverse=True)[:10]:\n",
        "    print(\"{} : {}\".format(word, positive_grade_word_tfidf[word]))"
      ]
    },
    {
      "cell_type": "code",
      "execution_count": null,
      "metadata": {
        "id": "lPxgiNoDpng4",
        "outputId": "0476b47b-f7e3-4dc6-e97c-e9b65c3ce8f3"
      },
      "outputs": [
        {
          "name": "stdout",
          "output_type": "stream",
          "text": [
            "5000\n",
            "10000\n",
            "14713\n",
            "Топ 10 биграм с оценкой 5\n",
            "на счёт : 0.014390543872726718\n",
            "что ич : 0.01365038971858018\n",
            "интернет банк : 0.012686557054053853\n",
            "на сайт : 0.01189970145182749\n",
            "по телефон : 0.011351711045830612\n",
            "банка ич : 0.011200686660685227\n",
            "на карта : 0.010763242243176218\n",
            "альфа банк : 0.010672619669302148\n",
            "по вклад : 0.010382508775641886\n",
            "мне ич : 0.009654636699801301\n"
          ]
        }
      ],
      "source": [
        "positive_grade_bigram_tfidf = tfidf_vectorizer(df, grade=5, ngrams=(2,2))\n",
        "top_words = []\n",
        "\n",
        "print(\"Топ 10 биграм с оценкой 5\")\n",
        "for word in sorted(positive_grade_bigram_tfidf, key=positive_grade_bigram_tfidf.get, reverse=True)[:10]:\n",
        "    print(\"{} : {}\".format(word, positive_grade_bigram_tfidf[word]))"
      ]
    },
    {
      "cell_type": "code",
      "execution_count": null,
      "metadata": {
        "id": "yWrAZPScpng4",
        "outputId": "dca2d905-7ae0-476b-be0c-737d7608d0dd"
      },
      "outputs": [
        {
          "name": "stdout",
          "output_type": "stream",
          "text": [
            "5000\n",
            "10000\n",
            "15000\n",
            "20000\n",
            "25000\n",
            "30000\n",
            "35000\n",
            "40000\n",
            "45000\n",
            "47387\n",
            "Топ 10 слов с оценкой 1\n",
            "банк : 0.9766455465815853\n",
            "карта : 0.7052020740512581\n",
            "счёт : 0.4131200797814096\n",
            "день : 0.40897867665729676\n",
            "кредит : 0.3915145420914679\n",
            "деньга : 0.39045322515940845\n",
            "отделение : 0.38707398695801054\n",
            "клиент : 0.3828504707368051\n",
            "сотрудник : 0.38129262335259273\n",
            "заявление : 0.294362960322143\n"
          ]
        }
      ],
      "source": [
        "negative_grade_word_tfidf = tfidf_vectorizer(df, grade=1)\n",
        "top_words = []\n",
        "\n",
        "print(\"Топ 10 слов с оценкой 1\")\n",
        "for word in sorted(negative_grade_word_tfidf, key=negative_grade_word_tfidf.get, reverse=True)[:10]:\n",
        "    print(\"{} : {}\".format(word, negative_grade_word_tfidf[word]))"
      ]
    },
    {
      "cell_type": "code",
      "execution_count": null,
      "metadata": {
        "id": "l0mz1RrOpng4",
        "outputId": "7ea73772-f7f3-4bdc-efd2-2ce07003c2a4"
      },
      "outputs": [
        {
          "name": "stdout",
          "output_type": "stream",
          "text": [
            "5000\n",
            "10000\n",
            "15000\n",
            "20000\n",
            "25000\n",
            "30000\n",
            "35000\n",
            "40000\n",
            "45000\n",
            "47387\n",
            "Топ 10 биграм с оценкой 1\n",
            "на счёт : 0.07424958076280819\n",
            "что ич : 0.06087194380655993\n",
            "деньги ич : 0.05487437389915594\n",
            "на сайт : 0.054116122916975186\n",
            "по телефон : 0.05119285970585724\n",
            "на карта : 0.05039674850998286\n",
            "мне ич : 0.047268535457104424\n",
            "банка ич : 0.04714091038680225\n",
            "заявление ич : 0.0442987974350318\n",
            "ничего ич : 0.04338621318391671\n"
          ]
        }
      ],
      "source": [
        "negative_grade_bigram_tfidf = tfidf_vectorizer(df, grade=1, ngrams=(2,2))\n",
        "top_words = []\n",
        "\n",
        "print(\"Топ 10 биграм с оценкой 1\")\n",
        "for word in sorted(negative_grade_bigram_tfidf, key=negative_grade_bigram_tfidf.get, reverse=True)[:10]:\n",
        "    print(\"{} : {}\".format(word, negative_grade_bigram_tfidf[word]))"
      ]
    },
    {
      "cell_type": "markdown",
      "metadata": {
        "id": "l4uTL1f53KJF"
      },
      "source": [
        "#### Thematic modeling"
      ]
    },
    {
      "cell_type": "markdown",
      "metadata": {
        "id": "m54zGo3Rpng4"
      },
      "source": [
        "1. Постройте несколько тематических моделей коллекции документов с разным числом тем. Приведите примеры понятных (интерпретируемых) тем.\n",
        "2. Найдите темы, в которых упомянуты конкретные банки (Сбербанк, ВТБ, другой банк). Можете ли вы их прокомментировать / объяснить? Эта часть задания может быть сделана с использованием gensim."
      ]
    },
    {
      "cell_type": "code",
      "execution_count": null,
      "metadata": {
        "id": "w-m6PVKY3Yne"
      },
      "outputs": [],
      "source": [
        "import gensim.corpora as corpora\n",
        "from gensim.models import ldamodel"
      ]
    },
    {
      "cell_type": "code",
      "execution_count": null,
      "metadata": {
        "id": "MtddYVuZpng5",
        "outputId": "0b54ed45-e6f1-46ad-de51-f8b4f9a400b5"
      },
      "outputs": [
        {
          "data": {
            "text/html": [
              "<div>\n",
              "<style scoped>\n",
              "    .dataframe tbody tr th:only-of-type {\n",
              "        vertical-align: middle;\n",
              "    }\n",
              "\n",
              "    .dataframe tbody tr th {\n",
              "        vertical-align: top;\n",
              "    }\n",
              "\n",
              "    .dataframe thead th {\n",
              "        text-align: right;\n",
              "    }\n",
              "</style>\n",
              "<table border=\"1\" class=\"dataframe\">\n",
              "  <thead>\n",
              "    <tr style=\"text-align: right;\">\n",
              "      <th></th>\n",
              "      <th>text</th>\n",
              "    </tr>\n",
              "  </thead>\n",
              "  <tbody>\n",
              "    <tr>\n",
              "      <th>0</th>\n",
              "      <td>добрый день являться клиент банк поручитель кр...</td>\n",
              "    </tr>\n",
              "    <tr>\n",
              "      <th>1</th>\n",
              "      <td>добрый день являться держатель зарплатный карт...</td>\n",
              "    </tr>\n",
              "    <tr>\n",
              "      <th>2</th>\n",
              "      <td>здравствуйте дублировать свой заявление можайс...</td>\n",
              "    </tr>\n",
              "    <tr>\n",
              "      <th>3</th>\n",
              "      <td>добрый день открыть расчётный счёт сбербанк юр...</td>\n",
              "    </tr>\n",
              "    <tr>\n",
              "      <th>4</th>\n",
              "      <td>г взять кредит ваш банк заявить я сумма так ру...</td>\n",
              "    </tr>\n",
              "  </tbody>\n",
              "</table>\n",
              "</div>"
            ],
            "text/plain": [
              "                                                text\n",
              "0  добрый день являться клиент банк поручитель кр...\n",
              "1  добрый день являться держатель зарплатный карт...\n",
              "2  здравствуйте дублировать свой заявление можайс...\n",
              "3  добрый день открыть расчётный счёт сбербанк юр...\n",
              "4  г взять кредит ваш банк заявить я сумма так ру..."
            ]
          },
          "execution_count": 386,
          "metadata": {},
          "output_type": "execute_result"
        }
      ],
      "source": [
        "df_with_lems.head()"
      ]
    },
    {
      "cell_type": "code",
      "execution_count": null,
      "metadata": {
        "id": "T8k0o_R63dT1"
      },
      "outputs": [],
      "source": [
        "texts = [df_with_lems['text'].iloc[i].split() for i in range(len(df_with_lems))]\n",
        "dictionary = corpora.Dictionary(texts)\n",
        "corpus = [dictionary.doc2bow(text) for text in texts]\n",
        "random.seed(11)"
      ]
    },
    {
      "cell_type": "code",
      "execution_count": null,
      "metadata": {
        "id": "eeV1kzwc3dV1"
      },
      "outputs": [],
      "source": [
        "lda = ldamodel.LdaModel(corpus=corpus,\n",
        "                        id2word=dictionary,\n",
        "                        num_topics=20,\n",
        "                        alpha='auto',\n",
        "                        eta='auto',\n",
        "                        iterations = 20,\n",
        "                        passes = 5)"
      ]
    },
    {
      "cell_type": "code",
      "execution_count": null,
      "metadata": {
        "id": "pbxPM20o3Yp1",
        "outputId": "d82dea73-c2f3-41c6-8822-05b29da6dda0"
      },
      "outputs": [
        {
          "data": {
            "text/plain": [
              "[(0,\n",
              "  '0.058*\"доллар\" + 0.057*\"курс\" + 0.041*\"евро\" + 0.039*\"валюта\" + 0.038*\"рубль\" + 0.022*\"валютный\" + 0.020*\"сумма\" + 0.020*\"кассир\" + 0.020*\"юниаструма\" + 0.018*\"рублёвый\"'),\n",
              " (11,\n",
              "  '0.050*\"мы\" + 0.029*\"наш\" + 0.028*\"муж\" + 0.020*\"жена\" + 0.019*\"год\" + 0.014*\"ребёнок\" + 0.014*\"мама\" + 0.013*\"платить\" + 0.012*\"суд\" + 0.009*\"человек\"'),\n",
              " (6,\n",
              "  '0.021*\"это\" + 0.016*\"так\" + 0.014*\"вс\" + 0.011*\"тот\" + 0.009*\"быть\" + 0.008*\"ещ\" + 0.006*\"общий\" + 0.006*\"думать\" + 0.006*\"сч\" + 0.006*\"один\"'),\n",
              " (1,\n",
              "  '0.027*\"сказать\" + 0.021*\"день\" + 0.019*\"это\" + 0.018*\"звонить\" + 0.017*\"банк\" + 0.017*\"позвонить\" + 0.017*\"говорить\" + 0.012*\"мочь\" + 0.011*\"девушка\" + 0.010*\"телефон\"'),\n",
              " (18,\n",
              "  '0.086*\"банк\" + 0.031*\"клиент\" + 0.021*\"очень\" + 0.019*\"это\" + 0.015*\"свой\" + 0.014*\"сотрудник\" + 0.014*\"который\" + 0.011*\"такой\" + 0.011*\"вопрос\" + 0.010*\"работа\"')]"
            ]
          },
          "execution_count": 389,
          "metadata": {},
          "output_type": "execute_result"
        }
      ],
      "source": [
        "lda.show_topics(5)"
      ]
    },
    {
      "cell_type": "markdown",
      "metadata": {
        "id": "MkB2pc6upng5"
      },
      "source": [
        "Вторая тема из выборки выше возможно следующая: \"Жена подала в суд на мужа из-за невыплат за годовалого ребенка\""
      ]
    },
    {
      "cell_type": "code",
      "execution_count": null,
      "metadata": {
        "id": "3_cT0Zn93YsH"
      },
      "outputs": [],
      "source": [
        "lda15 = ldamodel.LdaModel(corpus=corpus,\n",
        "                          id2word=dictionary,\n",
        "                          num_topics=15,\n",
        "                          alpha='auto',\n",
        "                          eta='auto',\n",
        "                          iterations = 20,\n",
        "                          passes = 5)"
      ]
    },
    {
      "cell_type": "code",
      "execution_count": null,
      "metadata": {
        "id": "lWLrysoApng6",
        "outputId": "32bc8353-443a-4568-f12c-9d185c2eaede"
      },
      "outputs": [
        {
          "data": {
            "text/plain": [
              "[(7,\n",
              "  '0.092*\"альфа\" + 0.073*\"услуга\" + 0.067*\"смс\" + 0.045*\"центр\" + 0.044*\"банк\" + 0.031*\"колл\" + 0.029*\"подключить\" + 0.026*\"мобильный\" + 0.023*\"приходить\" + 0.022*\"телефон\"'),\n",
              " (13,\n",
              "  '0.100*\"вклад\" + 0.052*\"счёт\" + 0.042*\"банк\" + 0.036*\"открыть\" + 0.025*\"деньга\" + 0.025*\"процент\" + 0.023*\"депозит\" + 0.022*\"договор\" + 0.018*\"открытие\" + 0.015*\"сумма\"'),\n",
              " (2,\n",
              "  '0.039*\"отделение\" + 0.029*\"очередь\" + 0.019*\"офис\" + 0.017*\"минута\" + 0.017*\"работать\" + 0.017*\"касса\" + 0.012*\"клиент\" + 0.011*\"человек\" + 0.011*\"сотрудник\" + 0.010*\"час\"'),\n",
              " (10,\n",
              "  '0.022*\"это\" + 0.019*\"сказать\" + 0.018*\"деньга\" + 0.016*\"день\" + 0.015*\"банк\" + 0.014*\"говорить\" + 0.012*\"звонить\" + 0.010*\"позвонить\" + 0.009*\"мочь\" + 0.009*\"девушка\"'),\n",
              " (5,\n",
              "  '0.057*\"банк\" + 0.021*\"клиент\" + 0.018*\"очень\" + 0.016*\"это\" + 0.009*\"который\" + 0.009*\"свой\" + 0.009*\"работа\" + 0.008*\"время\" + 0.008*\"год\" + 0.007*\"обслуживание\"')]"
            ]
          },
          "execution_count": 391,
          "metadata": {},
          "output_type": "execute_result"
        }
      ],
      "source": [
        "lda15.show_topics(5)"
      ]
    },
    {
      "cell_type": "markdown",
      "metadata": {
        "id": "tFUQ8iHKpng6"
      },
      "source": [
        "Первая тема из выборки выше возможно следующая: Колл центр Альфа банка подключает услугу смс информаирования на мобильный телефон\n",
        "Вторая тема из выборки выше возможно следующая: Откройте счет или вклад в нашем банке под выгодный процент за час"
      ]
    },
    {
      "cell_type": "code",
      "execution_count": null,
      "metadata": {
        "id": "IkZ4ybf7png6"
      },
      "outputs": [],
      "source": [
        "lda_test = ldamodel.LdaModel(corpus=corpus,\n",
        "                          id2word=dictionary,\n",
        "                          num_topics=10,\n",
        "                          alpha='auto',\n",
        "                          eval_every=5,\n",
        "                          iterations = 20,\n",
        "                          passes = 5)"
      ]
    },
    {
      "cell_type": "code",
      "execution_count": null,
      "metadata": {
        "id": "o93B-10ppng6",
        "outputId": "566d95d3-159a-44ac-853a-0e42089e422f"
      },
      "outputs": [
        {
          "data": {
            "text/plain": [
              "[(6,\n",
              "  '0.038*\"банк\" + 0.028*\"договор\" + 0.015*\"счёт\" + 0.011*\"клиент\" + 0.009*\"который\" + 0.009*\"средство\" + 0.009*\"документ\" + 0.009*\"право\" + 0.009*\"лицо\" + 0.008*\"рф\"'),\n",
              " (8,\n",
              "  '0.070*\"вклад\" + 0.038*\"банк\" + 0.031*\"счёт\" + 0.025*\"открыть\" + 0.024*\"деньга\" + 0.018*\"процент\" + 0.016*\"депозит\" + 0.015*\"админ\" + 0.014*\"сумма\" + 0.013*\"доллар\"'),\n",
              " (9,\n",
              "  '0.029*\"заявление\" + 0.029*\"банк\" + 0.021*\"мой\" + 0.020*\"день\" + 0.019*\"ответ\" + 0.018*\"отделение\" + 0.017*\"г\" + 0.015*\"сотрудник\" + 0.013*\"претензия\" + 0.012*\"написать\"'),\n",
              " (7,\n",
              "  '0.055*\"банк\" + 0.018*\"клиент\" + 0.015*\"очень\" + 0.013*\"это\" + 0.008*\"год\" + 0.008*\"обслуживание\" + 0.008*\"который\" + 0.008*\"работа\" + 0.007*\"свой\" + 0.007*\"время\"'),\n",
              " (5,\n",
              "  '0.016*\"отделение\" + 0.015*\"это\" + 0.011*\"работать\" + 0.011*\"очередь\" + 0.011*\"минута\" + 0.009*\"сказать\" + 0.009*\"девушка\" + 0.009*\"человек\" + 0.008*\"клиент\" + 0.008*\"время\"')]"
            ]
          },
          "execution_count": 396,
          "metadata": {},
          "output_type": "execute_result"
        }
      ],
      "source": [
        "lda_test.show_topics(5)"
      ]
    },
    {
      "cell_type": "markdown",
      "metadata": {
        "id": "dpNFOldy3Y0F"
      },
      "source": [
        "#### Text classification"
      ]
    },
    {
      "cell_type": "markdown",
      "metadata": {
        "id": "Uie-iNIVpng6"
      },
      "source": [
        "Сформулируем для простоты задачу бинарной классификации: будем классифицировать на два класса, то есть, различать резко отрицательные отзывы (с оценкой 1) и положительные отзывы (с оценкой 5).\n",
        "\n",
        "1. Составьте обучающее и тестовое множество: выберите из всего набора данных N1 отзывов с оценкой 1 и N2 отзывов с оценкой 5 (значение N1 и N2 – на ваше усмотрение). Используйте sklearn.model_selection.train_test_split для разделения множества отобранных документов на обучающее и тестовое.\n",
        "2. Используйте любой известный вам алгоритм классификации текстов для решения задачи и получите baseline. Сравните разные варианты векторизации текста: использование только униграм, пар или троек слов или с использованием символьных\n",
        "-грам.\n",
        "3. Сравните, как изменяется качество решения задачи при использовании скрытых тем в качестве признаков:\n",
        "    * 1-ый вариант: преобразование (sklearn.feature_extraction.text.TfidfTransformer) и сингулярное разложение (оно же – латентый семантический анализ) (sklearn.decomposition.TruncatedSVD),\n",
        "    * 2-ой вариант: тематические модели LDA (sklearn.decomposition.LatentDirichletAllocation). Используйте accuracy и F-measure для оценки качества классификации.\n",
        "\n",
        "В ноутбуке, размещенном в папке репозитория. написан примерный Pipeline для классификации текстов.\n",
        "\n",
        "Эта часть задания может быть сделана с использованием sklearn."
      ]
    },
    {
      "cell_type": "markdown",
      "metadata": {
        "id": "LF93aOuFpng6"
      },
      "source": [
        "Составьте обучающее и тестовое множество: выберите из всего набора данных N1 отзывов с оценкой 1 и N2 отзывов с оценкой 5 (значение N1 и N2 – на ваше усмотрение). Используйте sklearn.model_selection.train_test_split для разделения множества отобранных документов на обучающее и тестовое."
      ]
    },
    {
      "cell_type": "code",
      "execution_count": null,
      "metadata": {
        "id": "O6USDtt1png7"
      },
      "outputs": [],
      "source": [
        "clsf_df = df.copy()"
      ]
    },
    {
      "cell_type": "code",
      "execution_count": null,
      "metadata": {
        "id": "BakJbyItpng7"
      },
      "outputs": [],
      "source": [
        "clsf_df['lemms'] = df_with_lems['text']"
      ]
    },
    {
      "cell_type": "code",
      "execution_count": null,
      "metadata": {
        "id": "MRJMssYGpng7",
        "outputId": "198a471d-0392-4045-c9c2-bb0c7b063f0b"
      },
      "outputs": [
        {
          "data": {
            "text/plain": [
              "1995487"
            ]
          },
          "execution_count": 414,
          "metadata": {},
          "output_type": "execute_result"
        }
      ],
      "source": [
        "clsf_df.size"
      ]
    },
    {
      "cell_type": "code",
      "execution_count": null,
      "metadata": {
        "id": "lXFzgNI1png7"
      },
      "outputs": [],
      "source": [
        "df_1 = clsf_df[clsf_df['rating_grade'] == 1].head(5_000)\n",
        "df_5 = clsf_df[clsf_df['rating_grade'] == 5].head(5_000)\n",
        "clsf_df = pd.concat([df_1, df_5], ignore_index=True)"
      ]
    },
    {
      "cell_type": "code",
      "execution_count": null,
      "metadata": {
        "id": "eE2LKGEYpng7",
        "outputId": "d2e08210-3e6e-4dd0-a322-4881483680f3"
      },
      "outputs": [
        {
          "data": {
            "text/plain": [
              "rating_grade\n",
              "1.0    5000\n",
              "5.0    5000\n",
              "Name: count, dtype: int64"
            ]
          },
          "execution_count": 417,
          "metadata": {},
          "output_type": "execute_result"
        }
      ],
      "source": [
        "clsf_df.rating_grade.value_counts()"
      ]
    },
    {
      "cell_type": "code",
      "execution_count": null,
      "metadata": {
        "id": "d4xhnHHOpng7"
      },
      "outputs": [],
      "source": [
        "from sklearn.model_selection import train_test_split"
      ]
    },
    {
      "cell_type": "code",
      "execution_count": null,
      "metadata": {
        "id": "pJPk-AN-png8"
      },
      "outputs": [],
      "source": [
        "X = clsf_df['lemms'].values\n",
        "y = clsf_df.rating_grade.values\n",
        "\n",
        "X_train, X_test, y_train, y_test = train_test_split(X, y, test_size=0.3)"
      ]
    },
    {
      "cell_type": "markdown",
      "metadata": {
        "id": "3J2Gjv2Qpng8"
      },
      "source": [
        "Используйте любой известный вам алгоритм классификации текстов для решения задачи и получите baseline. Сравните разные варианты векторизации текста: использование только униграм, пар или троек слов или с использованием символьных\n",
        "-грам."
      ]
    },
    {
      "cell_type": "code",
      "execution_count": null,
      "metadata": {
        "id": "L2fGzhtOpng8"
      },
      "outputs": [],
      "source": [
        "from sklearn.pipeline import Pipeline\n",
        "from sklearn.model_selection import GridSearchCV"
      ]
    },
    {
      "cell_type": "code",
      "execution_count": null,
      "metadata": {
        "id": "6oNLYz6Cpng8"
      },
      "outputs": [],
      "source": [
        "clf_vectorized = Pipeline(\n",
        "    [('vect', CountVectorizer()),\n",
        "     ('clf', LogisticRegression())]\n",
        ")\n",
        "\n",
        "params = {\n",
        "    'vect__analyzer': ['word','char'],\n",
        "    'vect__max_df': (0.5, 0.75, 1.0),\n",
        "    'vect__ngram_range': ((1, 1), (2, 2), (3, 3)),\n",
        "    'clf__C': np.logspace(-3, 3, 7),\n",
        "    'clf__penalty': ['l1','l2']\n",
        "}\n",
        "\n",
        "scores=['accuracy', 'f1']"
      ]
    },
    {
      "cell_type": "code",
      "execution_count": null,
      "metadata": {
        "id": "JhhYSbiipng8"
      },
      "outputs": [],
      "source": [
        "grid_cv = GridSearchCV(\n",
        "    clf_vectorized,\n",
        "    param_grid=params,\n",
        "    cv=4,\n",
        "    scoring=scores,\n",
        "    refit=scores[0],\n",
        "    n_jobs=-1, # use all processors\n",
        "    verbose=1\n",
        ")"
      ]
    },
    {
      "cell_type": "code",
      "execution_count": null,
      "metadata": {
        "id": "cwdsXnOEpng8",
        "outputId": "2691df7e-7d60-44db-cf6c-07af36746db3"
      },
      "outputs": [
        {
          "name": "stdout",
          "output_type": "stream",
          "text": [
            "Fitting 4 folds for each of 252 candidates, totalling 1008 fits\n"
          ]
        },
        {
          "name": "stderr",
          "output_type": "stream",
          "text": [
            "C:\\Users\\Suile\\anaconda3\\Lib\\site-packages\\sklearn\\model_selection\\_validation.py:425: FitFailedWarning: \n",
            "504 fits failed out of a total of 1008.\n",
            "The score on these train-test partitions for these parameters will be set to nan.\n",
            "If these failures are not expected, you can try to debug them by setting error_score='raise'.\n",
            "\n",
            "Below are more details about the failures:\n",
            "--------------------------------------------------------------------------------\n",
            "504 fits failed with the following error:\n",
            "Traceback (most recent call last):\n",
            "  File \"C:\\Users\\Suile\\anaconda3\\Lib\\site-packages\\sklearn\\model_selection\\_validation.py\", line 732, in _fit_and_score\n",
            "    estimator.fit(X_train, y_train, **fit_params)\n",
            "  File \"C:\\Users\\Suile\\anaconda3\\Lib\\site-packages\\sklearn\\base.py\", line 1151, in wrapper\n",
            "    return fit_method(estimator, *args, **kwargs)\n",
            "           ^^^^^^^^^^^^^^^^^^^^^^^^^^^^^^^^^^^^^^\n",
            "  File \"C:\\Users\\Suile\\anaconda3\\Lib\\site-packages\\sklearn\\pipeline.py\", line 420, in fit\n",
            "    self._final_estimator.fit(Xt, y, **fit_params_last_step)\n",
            "  File \"C:\\Users\\Suile\\anaconda3\\Lib\\site-packages\\sklearn\\base.py\", line 1151, in wrapper\n",
            "    return fit_method(estimator, *args, **kwargs)\n",
            "           ^^^^^^^^^^^^^^^^^^^^^^^^^^^^^^^^^^^^^^\n",
            "  File \"C:\\Users\\Suile\\anaconda3\\Lib\\site-packages\\sklearn\\linear_model\\_logistic.py\", line 1168, in fit\n",
            "    solver = _check_solver(self.solver, self.penalty, self.dual)\n",
            "             ^^^^^^^^^^^^^^^^^^^^^^^^^^^^^^^^^^^^^^^^^^^^^^^^^^^\n",
            "  File \"C:\\Users\\Suile\\anaconda3\\Lib\\site-packages\\sklearn\\linear_model\\_logistic.py\", line 56, in _check_solver\n",
            "    raise ValueError(\n",
            "ValueError: Solver lbfgs supports only 'l2' or 'none' penalties, got l1 penalty.\n",
            "\n",
            "  warnings.warn(some_fits_failed_message, FitFailedWarning)\n",
            "C:\\Users\\Suile\\anaconda3\\Lib\\site-packages\\sklearn\\model_selection\\_search.py:976: UserWarning: One or more of the test scores are non-finite: [       nan        nan        nan        nan        nan        nan\n",
            "        nan        nan        nan        nan        nan        nan\n",
            "        nan        nan        nan        nan        nan        nan\n",
            " 0.90742857 0.81214286 0.639      0.90957143 0.81214286 0.639\n",
            " 0.908      0.81214286 0.639      0.51257143 0.86128571 0.92828571\n",
            " 0.53485714 0.87571429 0.92742857 0.72157143 0.89014286 0.92457143\n",
            "        nan        nan        nan        nan        nan        nan\n",
            "        nan        nan        nan        nan        nan        nan\n",
            "        nan        nan        nan        nan        nan        nan\n",
            " 0.93785714 0.88671429 0.78885714 0.936      0.88671429 0.78885714\n",
            " 0.93285714 0.88671429 0.78885714 0.51257143 0.87357143 0.93214286\n",
            " 0.53185714 0.89071429 0.93057143 0.721      0.89957143 0.92928571\n",
            "        nan        nan        nan        nan        nan        nan\n",
            "        nan        nan        nan        nan        nan        nan\n",
            "        nan        nan        nan        nan        nan        nan\n",
            " 0.94057143 0.90957143 0.83657143 0.94014286 0.90957143 0.83657143\n",
            " 0.93928571 0.90957143 0.83657143 0.51257143 0.87528571 0.92357143\n",
            " 0.53242857 0.88871429 0.92157143 0.72085714 0.89442857 0.92057143\n",
            "        nan        nan        nan        nan        nan        nan\n",
            "        nan        nan        nan        nan        nan        nan\n",
            "        nan        nan        nan        nan        nan        nan\n",
            " 0.938      0.91328571 0.83314286 0.93685714 0.91328571 0.83314286\n",
            " 0.93757143 0.91328571 0.83314286 0.51257143 0.86871429 0.91514286\n",
            " 0.53242857 0.87728571 0.913      0.72085714 0.89328571 0.91185714\n",
            "        nan        nan        nan        nan        nan        nan\n",
            "        nan        nan        nan        nan        nan        nan\n",
            "        nan        nan        nan        nan        nan        nan\n",
            " 0.93471429 0.91414286 0.83342857 0.93342857 0.91414286 0.83342857\n",
            " 0.93285714 0.91414286 0.83342857 0.51257143 0.86185714 0.91214286\n",
            " 0.53242857 0.87228571 0.909      0.72157143 0.89171429 0.90985714\n",
            "        nan        nan        nan        nan        nan        nan\n",
            "        nan        nan        nan        nan        nan        nan\n",
            "        nan        nan        nan        nan        nan        nan\n",
            " 0.93228571 0.91314286 0.831      0.93171429 0.91314286 0.831\n",
            " 0.932      0.91314286 0.831      0.51257143 0.86128571 0.90914286\n",
            " 0.53242857 0.87185714 0.909      0.72128571 0.89285714 0.90928571\n",
            "        nan        nan        nan        nan        nan        nan\n",
            "        nan        nan        nan        nan        nan        nan\n",
            "        nan        nan        nan        nan        nan        nan\n",
            " 0.93071429 0.91285714 0.82942857 0.93114286 0.91285714 0.82942857\n",
            " 0.93142857 0.91285714 0.82942857 0.51257143 0.86028571 0.90714286\n",
            " 0.53242857 0.87157143 0.90785714 0.72114286 0.89228571 0.91057143]\n",
            "  warnings.warn(\n",
            "C:\\Users\\Suile\\anaconda3\\Lib\\site-packages\\sklearn\\model_selection\\_search.py:976: UserWarning: One or more of the test scores are non-finite: [       nan        nan        nan        nan        nan        nan\n",
            "        nan        nan        nan        nan        nan        nan\n",
            "        nan        nan        nan        nan        nan        nan\n",
            " 0.90773786 0.79119888 0.44806693 0.90972623 0.79119888 0.44806693\n",
            " 0.90804077 0.79119888 0.44806693 0.39167342 0.86024876 0.92882605\n",
            " 0.44203979 0.87584167 0.92808544 0.71648901 0.89041174 0.92513816\n",
            "        nan        nan        nan        nan        nan        nan\n",
            "        nan        nan        nan        nan        nan        nan\n",
            "        nan        nan        nan        nan        nan        nan\n",
            " 0.93839279 0.88522413 0.75767044 0.9365196  0.88522413 0.75767044\n",
            " 0.93334958 0.88522413 0.75767044 0.39167342 0.87390917 0.9323019\n",
            " 0.45672447 0.89119534 0.93057175 0.71559421 0.8995114  0.92925373\n",
            "        nan        nan        nan        nan        nan        nan\n",
            "        nan        nan        nan        nan        nan        nan\n",
            "        nan        nan        nan        nan        nan        nan\n",
            " 0.94067425 0.91035026 0.83510188 0.94028485 0.91035026 0.83510188\n",
            " 0.93944518 0.91035026 0.83510188 0.39167342 0.87554427 0.9233109\n",
            " 0.46000017 0.88829325 0.92103329 0.71517733 0.89385376 0.92004879\n",
            "        nan        nan        nan        nan        nan        nan\n",
            "        nan        nan        nan        nan        nan        nan\n",
            "        nan        nan        nan        nan        nan        nan\n",
            " 0.93788426 0.914376   0.83764754 0.9367721  0.914376   0.83764754\n",
            " 0.93753464 0.914376   0.83764754 0.39167342 0.86832204 0.91471514\n",
            " 0.46016936 0.87659247 0.91210591 0.71533384 0.89241355 0.91081443\n",
            "        nan        nan        nan        nan        nan        nan\n",
            "        nan        nan        nan        nan        nan        nan\n",
            "        nan        nan        nan        nan        nan        nan\n",
            " 0.93442367 0.91542198 0.83972747 0.93315674 0.91542198 0.83972747\n",
            " 0.93256504 0.91542198 0.83972747 0.39167342 0.8612275  0.91159704\n",
            " 0.46016936 0.8710388  0.90796548 0.71602194 0.89110826 0.90859625\n",
            "        nan        nan        nan        nan        nan        nan\n",
            "        nan        nan        nan        nan        nan        nan\n",
            "        nan        nan        nan        nan        nan        nan\n",
            " 0.93187065 0.91461391 0.83830428 0.93135646 0.91461391 0.83830428\n",
            " 0.93159835 0.91461391 0.83830428 0.39167342 0.86055221 0.90843264\n",
            " 0.46016936 0.87047479 0.90791248 0.71622512 0.89238116 0.90783008\n",
            "        nan        nan        nan        nan        nan        nan\n",
            "        nan        nan        nan        nan        nan        nan\n",
            "        nan        nan        nan        nan        nan        nan\n",
            " 0.93023961 0.91438261 0.83728453 0.93069664 0.91438261 0.83728453\n",
            " 0.93098942 0.91438261 0.83728453 0.39167342 0.85953202 0.90627712\n",
            " 0.46016936 0.87024177 0.90645601 0.71545107 0.89177904 0.90928659]\n",
            "  warnings.warn(\n"
          ]
        },
        {
          "data": {
            "text/html": [
              "<style>#sk-container-id-1 {color: black;}#sk-container-id-1 pre{padding: 0;}#sk-container-id-1 div.sk-toggleable {background-color: white;}#sk-container-id-1 label.sk-toggleable__label {cursor: pointer;display: block;width: 100%;margin-bottom: 0;padding: 0.3em;box-sizing: border-box;text-align: center;}#sk-container-id-1 label.sk-toggleable__label-arrow:before {content: \"▸\";float: left;margin-right: 0.25em;color: #696969;}#sk-container-id-1 label.sk-toggleable__label-arrow:hover:before {color: black;}#sk-container-id-1 div.sk-estimator:hover label.sk-toggleable__label-arrow:before {color: black;}#sk-container-id-1 div.sk-toggleable__content {max-height: 0;max-width: 0;overflow: hidden;text-align: left;background-color: #f0f8ff;}#sk-container-id-1 div.sk-toggleable__content pre {margin: 0.2em;color: black;border-radius: 0.25em;background-color: #f0f8ff;}#sk-container-id-1 input.sk-toggleable__control:checked~div.sk-toggleable__content {max-height: 200px;max-width: 100%;overflow: auto;}#sk-container-id-1 input.sk-toggleable__control:checked~label.sk-toggleable__label-arrow:before {content: \"▾\";}#sk-container-id-1 div.sk-estimator input.sk-toggleable__control:checked~label.sk-toggleable__label {background-color: #d4ebff;}#sk-container-id-1 div.sk-label input.sk-toggleable__control:checked~label.sk-toggleable__label {background-color: #d4ebff;}#sk-container-id-1 input.sk-hidden--visually {border: 0;clip: rect(1px 1px 1px 1px);clip: rect(1px, 1px, 1px, 1px);height: 1px;margin: -1px;overflow: hidden;padding: 0;position: absolute;width: 1px;}#sk-container-id-1 div.sk-estimator {font-family: monospace;background-color: #f0f8ff;border: 1px dotted black;border-radius: 0.25em;box-sizing: border-box;margin-bottom: 0.5em;}#sk-container-id-1 div.sk-estimator:hover {background-color: #d4ebff;}#sk-container-id-1 div.sk-parallel-item::after {content: \"\";width: 100%;border-bottom: 1px solid gray;flex-grow: 1;}#sk-container-id-1 div.sk-label:hover label.sk-toggleable__label {background-color: #d4ebff;}#sk-container-id-1 div.sk-serial::before {content: \"\";position: absolute;border-left: 1px solid gray;box-sizing: border-box;top: 0;bottom: 0;left: 50%;z-index: 0;}#sk-container-id-1 div.sk-serial {display: flex;flex-direction: column;align-items: center;background-color: white;padding-right: 0.2em;padding-left: 0.2em;position: relative;}#sk-container-id-1 div.sk-item {position: relative;z-index: 1;}#sk-container-id-1 div.sk-parallel {display: flex;align-items: stretch;justify-content: center;background-color: white;position: relative;}#sk-container-id-1 div.sk-item::before, #sk-container-id-1 div.sk-parallel-item::before {content: \"\";position: absolute;border-left: 1px solid gray;box-sizing: border-box;top: 0;bottom: 0;left: 50%;z-index: -1;}#sk-container-id-1 div.sk-parallel-item {display: flex;flex-direction: column;z-index: 1;position: relative;background-color: white;}#sk-container-id-1 div.sk-parallel-item:first-child::after {align-self: flex-end;width: 50%;}#sk-container-id-1 div.sk-parallel-item:last-child::after {align-self: flex-start;width: 50%;}#sk-container-id-1 div.sk-parallel-item:only-child::after {width: 0;}#sk-container-id-1 div.sk-dashed-wrapped {border: 1px dashed gray;margin: 0 0.4em 0.5em 0.4em;box-sizing: border-box;padding-bottom: 0.4em;background-color: white;}#sk-container-id-1 div.sk-label label {font-family: monospace;font-weight: bold;display: inline-block;line-height: 1.2em;}#sk-container-id-1 div.sk-label-container {text-align: center;}#sk-container-id-1 div.sk-container {/* jupyter's `normalize.less` sets `[hidden] { display: none; }` but bootstrap.min.css set `[hidden] { display: none !important; }` so we also need the `!important` here to be able to override the default hidden behavior on the sphinx rendered scikit-learn.org. See: https://github.com/scikit-learn/scikit-learn/issues/21755 */display: inline-block !important;position: relative;}#sk-container-id-1 div.sk-text-repr-fallback {display: none;}</style><div id=\"sk-container-id-1\" class=\"sk-top-container\"><div class=\"sk-text-repr-fallback\"><pre>GridSearchCV(cv=4,\n",
              "             estimator=Pipeline(steps=[(&#x27;vect&#x27;, CountVectorizer()),\n",
              "                                       (&#x27;clf&#x27;, LogisticRegression())]),\n",
              "             n_jobs=-1,\n",
              "             param_grid={&#x27;clf__C&#x27;: array([1.e-03, 1.e-02, 1.e-01, 1.e+00, 1.e+01, 1.e+02, 1.e+03]),\n",
              "                         &#x27;clf__penalty&#x27;: [&#x27;l1&#x27;, &#x27;l2&#x27;],\n",
              "                         &#x27;vect__analyzer&#x27;: [&#x27;word&#x27;, &#x27;char&#x27;],\n",
              "                         &#x27;vect__max_df&#x27;: (0.5, 0.75, 1.0),\n",
              "                         &#x27;vect__ngram_range&#x27;: ((1, 1), (2, 2), (3, 3))},\n",
              "             refit=&#x27;accuracy&#x27;, scoring=[&#x27;accuracy&#x27;, &#x27;f1&#x27;], verbose=1)</pre><b>In a Jupyter environment, please rerun this cell to show the HTML representation or trust the notebook. <br />On GitHub, the HTML representation is unable to render, please try loading this page with nbviewer.org.</b></div><div class=\"sk-container\" hidden><div class=\"sk-item sk-dashed-wrapped\"><div class=\"sk-label-container\"><div class=\"sk-label sk-toggleable\"><input class=\"sk-toggleable__control sk-hidden--visually\" id=\"sk-estimator-id-1\" type=\"checkbox\" ><label for=\"sk-estimator-id-1\" class=\"sk-toggleable__label sk-toggleable__label-arrow\">GridSearchCV</label><div class=\"sk-toggleable__content\"><pre>GridSearchCV(cv=4,\n",
              "             estimator=Pipeline(steps=[(&#x27;vect&#x27;, CountVectorizer()),\n",
              "                                       (&#x27;clf&#x27;, LogisticRegression())]),\n",
              "             n_jobs=-1,\n",
              "             param_grid={&#x27;clf__C&#x27;: array([1.e-03, 1.e-02, 1.e-01, 1.e+00, 1.e+01, 1.e+02, 1.e+03]),\n",
              "                         &#x27;clf__penalty&#x27;: [&#x27;l1&#x27;, &#x27;l2&#x27;],\n",
              "                         &#x27;vect__analyzer&#x27;: [&#x27;word&#x27;, &#x27;char&#x27;],\n",
              "                         &#x27;vect__max_df&#x27;: (0.5, 0.75, 1.0),\n",
              "                         &#x27;vect__ngram_range&#x27;: ((1, 1), (2, 2), (3, 3))},\n",
              "             refit=&#x27;accuracy&#x27;, scoring=[&#x27;accuracy&#x27;, &#x27;f1&#x27;], verbose=1)</pre></div></div></div><div class=\"sk-parallel\"><div class=\"sk-parallel-item\"><div class=\"sk-item\"><div class=\"sk-label-container\"><div class=\"sk-label sk-toggleable\"><input class=\"sk-toggleable__control sk-hidden--visually\" id=\"sk-estimator-id-2\" type=\"checkbox\" ><label for=\"sk-estimator-id-2\" class=\"sk-toggleable__label sk-toggleable__label-arrow\">estimator: Pipeline</label><div class=\"sk-toggleable__content\"><pre>Pipeline(steps=[(&#x27;vect&#x27;, CountVectorizer()), (&#x27;clf&#x27;, LogisticRegression())])</pre></div></div></div><div class=\"sk-serial\"><div class=\"sk-item\"><div class=\"sk-serial\"><div class=\"sk-item\"><div class=\"sk-estimator sk-toggleable\"><input class=\"sk-toggleable__control sk-hidden--visually\" id=\"sk-estimator-id-3\" type=\"checkbox\" ><label for=\"sk-estimator-id-3\" class=\"sk-toggleable__label sk-toggleable__label-arrow\">CountVectorizer</label><div class=\"sk-toggleable__content\"><pre>CountVectorizer()</pre></div></div></div><div class=\"sk-item\"><div class=\"sk-estimator sk-toggleable\"><input class=\"sk-toggleable__control sk-hidden--visually\" id=\"sk-estimator-id-4\" type=\"checkbox\" ><label for=\"sk-estimator-id-4\" class=\"sk-toggleable__label sk-toggleable__label-arrow\">LogisticRegression</label><div class=\"sk-toggleable__content\"><pre>LogisticRegression()</pre></div></div></div></div></div></div></div></div></div></div></div></div>"
            ],
            "text/plain": [
              "GridSearchCV(cv=4,\n",
              "             estimator=Pipeline(steps=[('vect', CountVectorizer()),\n",
              "                                       ('clf', LogisticRegression())]),\n",
              "             n_jobs=-1,\n",
              "             param_grid={'clf__C': array([1.e-03, 1.e-02, 1.e-01, 1.e+00, 1.e+01, 1.e+02, 1.e+03]),\n",
              "                         'clf__penalty': ['l1', 'l2'],\n",
              "                         'vect__analyzer': ['word', 'char'],\n",
              "                         'vect__max_df': (0.5, 0.75, 1.0),\n",
              "                         'vect__ngram_range': ((1, 1), (2, 2), (3, 3))},\n",
              "             refit='accuracy', scoring=['accuracy', 'f1'], verbose=1)"
            ]
          },
          "execution_count": 431,
          "metadata": {},
          "output_type": "execute_result"
        }
      ],
      "source": [
        "grid_cv.fit(X_train, y_train)"
      ]
    },
    {
      "cell_type": "code",
      "execution_count": null,
      "metadata": {
        "id": "EFEZ_rbjpng8",
        "outputId": "33bfecc1-aa1f-4ae2-ab18-da398bc6a0ac"
      },
      "outputs": [
        {
          "data": {
            "text/plain": [
              "{'mean_fit_time': array([ 1.28353983,  3.99280524,  5.6537562 ,  1.18722022,  3.81197166,\n",
              "         5.47005504,  1.11873287,  3.83521783,  5.87667817,  1.82451719,\n",
              "         4.04044378,  4.51057822,  2.06422108,  4.01653612,  4.81924719,\n",
              "         2.13405067,  3.69262522,  4.59047407,  1.27384359,  6.66692138,\n",
              "         8.70671713,  1.39277548,  7.38300532,  9.07273614,  1.32296193,\n",
              "         6.25576985,  8.85207707,  1.81564516,  3.90879649,  5.41975605,\n",
              "         2.14227074,  3.71132576,  5.69701487,  2.38138211,  4.22719556,\n",
              "         6.69010937,  1.21101129,  3.71082669,  6.21213698,  0.91031593,\n",
              "         3.69137782,  5.33922058,  0.91679847,  3.74498463,  5.34844643,\n",
              "         1.65382707,  3.71182323,  4.86648512,  2.28813112,  3.97836095,\n",
              "         4.44037533,  2.29511261,  3.82651752,  5.05348611,  1.25439608,\n",
              "         6.84943324, 11.08984292,  1.44413829,  8.39854008, 11.64784998,\n",
              "         1.55010474,  6.90902358,  9.95313197,  1.83209991,  4.06089061,\n",
              "         5.90520763,  2.0043897 ,  4.26634121,  6.18047184,  2.25397253,\n",
              "         4.12920731,  7.8001405 ,  0.96167815,  3.97960871,  6.11888719,\n",
              "         0.90981704,  3.77515453,  5.0918833 ,  1.12025505,  3.99905437,\n",
              "         5.28262264,  1.76652515,  3.91727394,  4.72062534,  1.88146842,\n",
              "         3.96190476,  5.13127756,  2.29561138,  3.62031895,  4.77797329,\n",
              "         1.56880504,  9.62600833, 16.35700774,  1.67427248, 12.18790644,\n",
              "        17.44135684,  1.94629467,  9.90451211, 15.74115348,  1.75131619,\n",
              "         4.43389279,  6.25252879,  1.788966  ,  4.61241513,  5.69352424,\n",
              "         2.34647572,  4.36058855,  7.38824201,  1.04395747,  4.13992947,\n",
              "         5.63044292,  1.06839204,  4.14341986,  5.11157995,  1.03124219,\n",
              "         3.99057806,  5.91917014,  1.76178837,  3.80557323,  4.79617393,\n",
              "         2.12656295,  4.17059666,  4.30972463,  2.32652861,  3.75047177,\n",
              "         5.41177827,  1.66604578, 14.67749959, 23.75826663,  2.81148088,\n",
              "        19.5467267 , 24.24067444,  2.60952133, 14.88245159, 23.46549785,\n",
              "         1.8246215 ,  4.73334301,  7.04815173,  2.00738275,  4.27631372,\n",
              "         6.29965293,  2.13927943,  5.26666605,  7.13442153,  1.03398484,\n",
              "         3.87114751,  5.95108527,  0.93425161,  3.83649075,  5.78153878,\n",
              "         0.94547153,  3.81330204,  5.23475045,  1.91338271,  4.19553012,\n",
              "         4.90039486,  1.87149507,  3.91652614,  5.01159823,  1.88795125,\n",
              "         4.0768488 ,  5.21904361,  1.82038218, 18.91541731, 26.90928793,\n",
              "         2.51352817, 23.62207866, 31.22923505,  2.42775798, 21.14121366,\n",
              "        26.56321365,  1.74957204,  4.43140066,  6.72975177,  2.10187823,\n",
              "         4.26733816,  6.14431852,  2.23626971,  4.56504232,  7.4647879 ,\n",
              "         1.00680757,  3.90854788,  5.6960178 ,  0.92028868,  4.11524415,\n",
              "         6.19942057,  1.02426142,  3.70758486,  5.51550013,  1.75256306,\n",
              "         4.18879801,  4.61715198,  1.92934012,  3.93971401,  5.31603396,\n",
              "         2.05650097,  3.77640122,  4.98866022,  2.01386517, 17.87245667,\n",
              "        29.29141808,  2.46715319, 25.63918406, 29.98132265,  2.9962371 ,\n",
              "        20.82655483, 26.67890406,  1.92310768,  4.07385457,  7.53609574,\n",
              "         2.36941373,  4.76650226,  6.76790035,  2.17942184,  4.4862529 ,\n",
              "         6.97434884,  1.0379746 ,  4.52440059,  5.71845657,  0.89760023,\n",
              "         4.18555641,  5.6588667 ,  1.03199035,  3.99232334,  5.47410977,\n",
              "         1.74633002,  3.95567197,  4.58748168,  1.92909098,  4.16660726,\n",
              "         4.98566675,  2.05301023,  3.637025  ,  5.92939472,  2.03555673,\n",
              "        16.63775784, 27.90163493,  2.87780398, 25.49905956, 26.27049708,\n",
              "         3.35577685, 17.44409937, 25.06347358,  1.8682546 ,  4.38701755,\n",
              "         6.69534409,  1.877729  ,  4.26384646,  6.933707  ,  2.16994685,\n",
              "         4.35186189,  5.25793904]),\n",
              " 'std_fit_time': array([0.03980269, 0.25770405, 0.14756602, 0.06332543, 0.18868775,\n",
              "        0.11823382, 0.12694717, 0.38429818, 0.55472755, 0.05453049,\n",
              "        0.5282766 , 0.4091574 , 0.22558136, 0.40582038, 0.53757235,\n",
              "        0.22850919, 0.23592102, 0.52768729, 0.13008321, 1.1729539 ,\n",
              "        0.24296669, 0.32275883, 0.606805  , 0.80134456, 0.16837325,\n",
              "        0.60716952, 1.01689025, 0.08235497, 0.51318705, 0.61024028,\n",
              "        0.25811227, 0.04225646, 0.78453631, 0.19483455, 0.06099488,\n",
              "        1.12782269, 0.1934768 , 0.20834632, 0.6308381 , 0.03423323,\n",
              "        0.29200344, 0.56168276, 0.07227512, 0.39698918, 0.5369096 ,\n",
              "        0.0913068 , 0.19438302, 0.66834888, 0.45258232, 0.6127525 ,\n",
              "        0.20407847, 0.24208946, 0.43583735, 0.48499451, 0.11827182,\n",
              "        1.06629454, 1.39576033, 0.2190516 , 1.10974972, 1.45387815,\n",
              "        0.205221  , 0.18580432, 0.75093593, 0.07820294, 0.54474515,\n",
              "        0.80933272, 0.30730314, 0.52595575, 0.65398871, 0.25953769,\n",
              "        0.11671607, 0.69986249, 0.10785142, 0.56588735, 0.76466021,\n",
              "        0.01622473, 0.39595121, 0.1238555 , 0.03214366, 0.36075378,\n",
              "        0.45406456, 0.05998313, 0.49927173, 0.54951137, 0.06773228,\n",
              "        0.63965864, 0.74104438, 0.38994717, 0.04527189, 0.46439751,\n",
              "        0.18640499, 1.9683829 , 1.21590749, 0.22591823, 1.26924075,\n",
              "        1.18027577, 0.35222996, 0.19860073, 1.16785002, 0.10453399,\n",
              "        0.54767154, 0.57725131, 0.10147454, 0.34007411, 0.12569244,\n",
              "        0.39010635, 0.46996261, 0.58464939, 0.15361836, 0.42103714,\n",
              "        0.58088531, 0.11025219, 0.1682353 , 0.16180405, 0.08552427,\n",
              "        0.6074545 , 0.79052727, 0.05973389, 0.50449631, 0.60866382,\n",
              "        0.22083805, 0.54438224, 0.1306685 , 0.25214244, 0.2687259 ,\n",
              "        0.37865917, 0.21732494, 2.54155505, 0.68181276, 0.78586173,\n",
              "        2.13456472, 2.60905353, 0.26560263, 2.15252974, 0.73989257,\n",
              "        0.08072372, 0.39416408, 0.87431524, 0.27312083, 0.58089167,\n",
              "        0.57918946, 0.32023818, 0.60052109, 1.06182972, 0.10321313,\n",
              "        0.4741226 , 0.72893982, 0.02936145, 0.69798322, 0.74990815,\n",
              "        0.06220368, 0.4398648 , 0.34027144, 0.14891022, 0.64833841,\n",
              "        0.76770143, 0.09807747, 0.44617019, 0.57536507, 0.05715776,\n",
              "        0.60142437, 0.88406098, 0.28040698, 3.34924512, 0.4049707 ,\n",
              "        0.75442917, 1.5005801 , 4.66747678, 0.13113994, 3.59823961,\n",
              "        0.38507089, 0.0227251 , 0.58496569, 0.94226774, 0.37430166,\n",
              "        0.36008449, 0.88510135, 0.34120922, 0.45093785, 0.89141622,\n",
              "        0.12835868, 0.5294153 , 0.28516383, 0.04207352, 0.75714941,\n",
              "        0.92208822, 0.17872291, 0.590277  , 0.50907649, 0.03811057,\n",
              "        0.59353408, 0.55895223, 0.03932579, 0.46872719, 0.70255433,\n",
              "        0.25130501, 0.10238697, 0.73964042, 0.32940751, 3.01009552,\n",
              "        3.92036931, 0.30638832, 3.8866594 , 4.85292662, 0.07354448,\n",
              "        2.66169034, 2.96559611, 0.06031756, 0.18517973, 0.82557545,\n",
              "        0.41525351, 0.91456241, 1.1602182 , 0.33140241, 0.41380114,\n",
              "        1.05390998, 0.1427669 , 0.40719533, 0.72564035, 0.03981817,\n",
              "        0.73009136, 0.77303779, 0.15282068, 0.59826062, 0.51226513,\n",
              "        0.04844539, 0.3631543 , 0.49596231, 0.06611196, 0.55779395,\n",
              "        0.6115188 , 0.25314067, 0.08595994, 0.81179335, 0.32220558,\n",
              "        2.44895268, 3.95306809, 0.38748009, 3.58373115, 0.99231422,\n",
              "        0.37687302, 1.41258618, 1.4521787 , 0.13814246, 0.60372142,\n",
              "        0.13599297, 0.06385844, 0.16671755, 1.00729497, 0.2762203 ,\n",
              "        0.37804211, 0.10541393]),\n",
              " 'mean_score_time': array([0.        , 0.        , 0.        , 0.        , 0.        ,\n",
              "        0.        , 0.        , 0.        , 0.        , 0.        ,\n",
              "        0.        , 0.        , 0.        , 0.        , 0.        ,\n",
              "        0.        , 0.        , 0.        , 0.35679561, 0.61086738,\n",
              "        0.64228183, 0.33934289, 0.65848887, 0.61161476, 0.30692929,\n",
              "        0.612611  , 0.61660033, 1.52940935, 2.07445192, 2.12232453,\n",
              "        1.73411292, 1.88022137, 2.01137191, 0.73727798, 1.17934644,\n",
              "        1.53115541, 0.        , 0.        , 0.        , 0.        ,\n",
              "        0.        , 0.        , 0.        , 0.        , 0.        ,\n",
              "        0.        , 0.        , 0.        , 0.        , 0.        ,\n",
              "        0.        , 0.        , 0.        , 0.        , 0.32213813,\n",
              "        0.61161458, 0.60164237, 0.32163996, 0.646272  , 0.58593327,\n",
              "        0.31166732, 0.58618242, 0.55127543, 1.54437035, 2.35071284,\n",
              "        1.94454956, 1.62839526, 2.1173377 , 1.82162869, 0.68142796,\n",
              "        1.19804657, 1.5775314 , 0.        , 0.        , 0.        ,\n",
              "        0.        , 0.        , 0.        , 0.        , 0.        ,\n",
              "        0.        , 0.        , 0.        , 0.        , 0.        ,\n",
              "        0.        , 0.        , 0.        , 0.        , 0.        ,\n",
              "        0.3353526 , 0.79188281, 0.65824062, 0.29820263, 0.62059104,\n",
              "        0.61435741, 0.33734828, 0.56947738, 0.60014528, 1.4827854 ,\n",
              "        2.17717725, 2.06148702, 1.55259782, 2.45219266, 1.71790606,\n",
              "        0.78091103, 1.17361164, 1.35961413, 0.        , 0.        ,\n",
              "        0.        , 0.        , 0.        , 0.        , 0.        ,\n",
              "        0.        , 0.        , 0.        , 0.        , 0.        ,\n",
              "        0.        , 0.        , 0.        , 0.        , 0.        ,\n",
              "        0.        , 0.30368811, 0.77268302, 0.68436956, 0.40092862,\n",
              "        0.69439322, 0.68192691, 0.32438302, 0.75647634, 0.66522056,\n",
              "        1.52741551, 2.10661542, 2.03505689, 1.66554487, 2.11609137,\n",
              "        1.7550568 , 0.64552325, 1.29653263, 1.77575105, 0.        ,\n",
              "        0.        , 0.        , 0.        , 0.        , 0.        ,\n",
              "        0.        , 0.        , 0.        , 0.        , 0.        ,\n",
              "        0.        , 0.        , 0.        , 0.        , 0.        ,\n",
              "        0.        , 0.        , 0.3193953 , 0.78664619, 0.60687739,\n",
              "        0.36277962, 0.70710963, 0.73303986, 0.30842537, 0.88214123,\n",
              "        0.57346666, 1.33592701, 2.05799603, 2.33475667, 1.7218948 ,\n",
              "        2.07719487, 1.93632197, 0.61909449, 1.248411  , 1.64310634,\n",
              "        0.        , 0.        , 0.        , 0.        , 0.        ,\n",
              "        0.        , 0.        , 0.        , 0.        , 0.        ,\n",
              "        0.        , 0.        , 0.        , 0.        , 0.        ,\n",
              "        0.        , 0.        , 0.        , 0.38422203, 0.67245185,\n",
              "        0.66297722, 0.37923634, 0.84823197, 0.67195278, 0.32313663,\n",
              "        0.75498104, 0.54479229, 1.59647906, 1.99865645, 2.23502266,\n",
              "        1.87947267, 2.16122049, 1.88047099, 0.67195278, 1.18732494,\n",
              "        1.47555441, 0.        , 0.        , 0.        , 0.        ,\n",
              "        0.        , 0.        , 0.        , 0.        , 0.        ,\n",
              "        0.        , 0.        , 0.        , 0.        , 0.        ,\n",
              "        0.        , 0.        , 0.        , 0.        , 0.41115028,\n",
              "        0.72655684, 0.72531009, 0.40391988, 0.85670918, 0.60538054,\n",
              "        0.36751628, 0.58294135, 0.61884546, 1.49824303, 2.03007174,\n",
              "        1.99990249, 1.46558064, 2.09190547, 1.79968739, 0.67295063,\n",
              "        0.93051147, 0.76869428]),\n",
              " 'std_score_time': array([0.        , 0.        , 0.        , 0.        , 0.        ,\n",
              "        0.        , 0.        , 0.        , 0.        , 0.        ,\n",
              "        0.        , 0.        , 0.        , 0.        , 0.        ,\n",
              "        0.        , 0.        , 0.        , 0.0430669 , 0.09110993,\n",
              "        0.07139791, 0.06327917, 0.05930751, 0.11784026, 0.03261752,\n",
              "        0.11221796, 0.05444969, 0.04159217, 0.21197078, 0.27680888,\n",
              "        0.20794695, 0.06822946, 0.35510234, 0.05422113, 0.02200351,\n",
              "        0.22126511, 0.        , 0.        , 0.        , 0.        ,\n",
              "        0.        , 0.        , 0.        , 0.        , 0.        ,\n",
              "        0.        , 0.        , 0.        , 0.        , 0.        ,\n",
              "        0.        , 0.        , 0.        , 0.        , 0.06133012,\n",
              "        0.06264327, 0.04762931, 0.03793461, 0.03016038, 0.07541068,\n",
              "        0.01730947, 0.03133622, 0.0271612 , 0.05466491, 0.45240559,\n",
              "        0.23285367, 0.21833876, 0.23290757, 0.25077751, 0.07275178,\n",
              "        0.06045323, 0.19527304, 0.        , 0.        , 0.        ,\n",
              "        0.        , 0.        , 0.        , 0.        , 0.        ,\n",
              "        0.        , 0.        , 0.        , 0.        , 0.        ,\n",
              "        0.        , 0.        , 0.        , 0.        , 0.        ,\n",
              "        0.03282432, 0.25857242, 0.07769651, 0.03069922, 0.04781656,\n",
              "        0.08985957, 0.05120274, 0.01982126, 0.06756635, 0.09548317,\n",
              "        0.29333008, 0.26489654, 0.05720722, 0.36474327, 0.06333816,\n",
              "        0.16209489, 0.06655809, 0.01714967, 0.        , 0.        ,\n",
              "        0.        , 0.        , 0.        , 0.        , 0.        ,\n",
              "        0.        , 0.        , 0.        , 0.        , 0.        ,\n",
              "        0.        , 0.        , 0.        , 0.        , 0.        ,\n",
              "        0.        , 0.00583623, 0.11980863, 0.11254019, 0.10823445,\n",
              "        0.10105691, 0.08480072, 0.03630597, 0.08606112, 0.12296524,\n",
              "        0.09972934, 0.24897473, 0.30469685, 0.27573107, 0.29299068,\n",
              "        0.05025063, 0.07729334, 0.17075485, 0.32150171, 0.        ,\n",
              "        0.        , 0.        , 0.        , 0.        , 0.        ,\n",
              "        0.        , 0.        , 0.        , 0.        , 0.        ,\n",
              "        0.        , 0.        , 0.        , 0.        , 0.        ,\n",
              "        0.        , 0.        , 0.04064259, 0.10847834, 0.02391996,\n",
              "        0.06704231, 0.104148  , 0.08272088, 0.0150817 , 0.13867264,\n",
              "        0.04951663, 0.06779011, 0.34154118, 0.44209116, 0.32176713,\n",
              "        0.21391272, 0.20869302, 0.06475114, 0.12545255, 0.25921695,\n",
              "        0.        , 0.        , 0.        , 0.        , 0.        ,\n",
              "        0.        , 0.        , 0.        , 0.        , 0.        ,\n",
              "        0.        , 0.        , 0.        , 0.        , 0.        ,\n",
              "        0.        , 0.        , 0.        , 0.07689984, 0.04712396,\n",
              "        0.17418284, 0.0539595 , 0.15296969, 0.03511608, 0.01897729,\n",
              "        0.1295982 , 0.01049273, 0.04797256, 0.13641403, 0.463895  ,\n",
              "        0.23068037, 0.25291612, 0.19649795, 0.08142902, 0.0432693 ,\n",
              "        0.14884907, 0.        , 0.        , 0.        , 0.        ,\n",
              "        0.        , 0.        , 0.        , 0.        , 0.        ,\n",
              "        0.        , 0.        , 0.        , 0.        , 0.        ,\n",
              "        0.        , 0.        , 0.        , 0.        , 0.09102657,\n",
              "        0.10752366, 0.11029291, 0.07071566, 0.11484882, 0.01472634,\n",
              "        0.09151767, 0.02722713, 0.0904898 , 0.13225244, 0.04312998,\n",
              "        0.04549754, 0.08479207, 0.34043705, 0.11034909, 0.10779139,\n",
              "        0.11737882, 0.03107324]),\n",
              " 'param_clf__C': masked_array(data=[0.001, 0.001, 0.001, 0.001, 0.001, 0.001, 0.001, 0.001,\n",
              "                    0.001, 0.001, 0.001, 0.001, 0.001, 0.001, 0.001, 0.001,\n",
              "                    0.001, 0.001, 0.001, 0.001, 0.001, 0.001, 0.001, 0.001,\n",
              "                    0.001, 0.001, 0.001, 0.001, 0.001, 0.001, 0.001, 0.001,\n",
              "                    0.001, 0.001, 0.001, 0.001, 0.01, 0.01, 0.01, 0.01,\n",
              "                    0.01, 0.01, 0.01, 0.01, 0.01, 0.01, 0.01, 0.01, 0.01,\n",
              "                    0.01, 0.01, 0.01, 0.01, 0.01, 0.01, 0.01, 0.01, 0.01,\n",
              "                    0.01, 0.01, 0.01, 0.01, 0.01, 0.01, 0.01, 0.01, 0.01,\n",
              "                    0.01, 0.01, 0.01, 0.01, 0.01, 0.1, 0.1, 0.1, 0.1, 0.1,\n",
              "                    0.1, 0.1, 0.1, 0.1, 0.1, 0.1, 0.1, 0.1, 0.1, 0.1, 0.1,\n",
              "                    0.1, 0.1, 0.1, 0.1, 0.1, 0.1, 0.1, 0.1, 0.1, 0.1, 0.1,\n",
              "                    0.1, 0.1, 0.1, 0.1, 0.1, 0.1, 0.1, 0.1, 0.1, 1.0, 1.0,\n",
              "                    1.0, 1.0, 1.0, 1.0, 1.0, 1.0, 1.0, 1.0, 1.0, 1.0, 1.0,\n",
              "                    1.0, 1.0, 1.0, 1.0, 1.0, 1.0, 1.0, 1.0, 1.0, 1.0, 1.0,\n",
              "                    1.0, 1.0, 1.0, 1.0, 1.0, 1.0, 1.0, 1.0, 1.0, 1.0, 1.0,\n",
              "                    1.0, 10.0, 10.0, 10.0, 10.0, 10.0, 10.0, 10.0, 10.0,\n",
              "                    10.0, 10.0, 10.0, 10.0, 10.0, 10.0, 10.0, 10.0, 10.0,\n",
              "                    10.0, 10.0, 10.0, 10.0, 10.0, 10.0, 10.0, 10.0, 10.0,\n",
              "                    10.0, 10.0, 10.0, 10.0, 10.0, 10.0, 10.0, 10.0, 10.0,\n",
              "                    10.0, 100.0, 100.0, 100.0, 100.0, 100.0, 100.0, 100.0,\n",
              "                    100.0, 100.0, 100.0, 100.0, 100.0, 100.0, 100.0, 100.0,\n",
              "                    100.0, 100.0, 100.0, 100.0, 100.0, 100.0, 100.0, 100.0,\n",
              "                    100.0, 100.0, 100.0, 100.0, 100.0, 100.0, 100.0, 100.0,\n",
              "                    100.0, 100.0, 100.0, 100.0, 100.0, 1000.0, 1000.0,\n",
              "                    1000.0, 1000.0, 1000.0, 1000.0, 1000.0, 1000.0, 1000.0,\n",
              "                    1000.0, 1000.0, 1000.0, 1000.0, 1000.0, 1000.0, 1000.0,\n",
              "                    1000.0, 1000.0, 1000.0, 1000.0, 1000.0, 1000.0, 1000.0,\n",
              "                    1000.0, 1000.0, 1000.0, 1000.0, 1000.0, 1000.0, 1000.0,\n",
              "                    1000.0, 1000.0, 1000.0, 1000.0, 1000.0, 1000.0],\n",
              "              mask=[False, False, False, False, False, False, False, False,\n",
              "                    False, False, False, False, False, False, False, False,\n",
              "                    False, False, False, False, False, False, False, False,\n",
              "                    False, False, False, False, False, False, False, False,\n",
              "                    False, False, False, False, False, False, False, False,\n",
              "                    False, False, False, False, False, False, False, False,\n",
              "                    False, False, False, False, False, False, False, False,\n",
              "                    False, False, False, False, False, False, False, False,\n",
              "                    False, False, False, False, False, False, False, False,\n",
              "                    False, False, False, False, False, False, False, False,\n",
              "                    False, False, False, False, False, False, False, False,\n",
              "                    False, False, False, False, False, False, False, False,\n",
              "                    False, False, False, False, False, False, False, False,\n",
              "                    False, False, False, False, False, False, False, False,\n",
              "                    False, False, False, False, False, False, False, False,\n",
              "                    False, False, False, False, False, False, False, False,\n",
              "                    False, False, False, False, False, False, False, False,\n",
              "                    False, False, False, False, False, False, False, False,\n",
              "                    False, False, False, False, False, False, False, False,\n",
              "                    False, False, False, False, False, False, False, False,\n",
              "                    False, False, False, False, False, False, False, False,\n",
              "                    False, False, False, False, False, False, False, False,\n",
              "                    False, False, False, False, False, False, False, False,\n",
              "                    False, False, False, False, False, False, False, False,\n",
              "                    False, False, False, False, False, False, False, False,\n",
              "                    False, False, False, False, False, False, False, False,\n",
              "                    False, False, False, False, False, False, False, False,\n",
              "                    False, False, False, False, False, False, False, False,\n",
              "                    False, False, False, False, False, False, False, False,\n",
              "                    False, False, False, False, False, False, False, False,\n",
              "                    False, False, False, False, False, False, False, False,\n",
              "                    False, False, False, False],\n",
              "        fill_value='?',\n",
              "             dtype=object),\n",
              " 'param_clf__penalty': masked_array(data=['l1', 'l1', 'l1', 'l1', 'l1', 'l1', 'l1', 'l1', 'l1',\n",
              "                    'l1', 'l1', 'l1', 'l1', 'l1', 'l1', 'l1', 'l1', 'l1',\n",
              "                    'l2', 'l2', 'l2', 'l2', 'l2', 'l2', 'l2', 'l2', 'l2',\n",
              "                    'l2', 'l2', 'l2', 'l2', 'l2', 'l2', 'l2', 'l2', 'l2',\n",
              "                    'l1', 'l1', 'l1', 'l1', 'l1', 'l1', 'l1', 'l1', 'l1',\n",
              "                    'l1', 'l1', 'l1', 'l1', 'l1', 'l1', 'l1', 'l1', 'l1',\n",
              "                    'l2', 'l2', 'l2', 'l2', 'l2', 'l2', 'l2', 'l2', 'l2',\n",
              "                    'l2', 'l2', 'l2', 'l2', 'l2', 'l2', 'l2', 'l2', 'l2',\n",
              "                    'l1', 'l1', 'l1', 'l1', 'l1', 'l1', 'l1', 'l1', 'l1',\n",
              "                    'l1', 'l1', 'l1', 'l1', 'l1', 'l1', 'l1', 'l1', 'l1',\n",
              "                    'l2', 'l2', 'l2', 'l2', 'l2', 'l2', 'l2', 'l2', 'l2',\n",
              "                    'l2', 'l2', 'l2', 'l2', 'l2', 'l2', 'l2', 'l2', 'l2',\n",
              "                    'l1', 'l1', 'l1', 'l1', 'l1', 'l1', 'l1', 'l1', 'l1',\n",
              "                    'l1', 'l1', 'l1', 'l1', 'l1', 'l1', 'l1', 'l1', 'l1',\n",
              "                    'l2', 'l2', 'l2', 'l2', 'l2', 'l2', 'l2', 'l2', 'l2',\n",
              "                    'l2', 'l2', 'l2', 'l2', 'l2', 'l2', 'l2', 'l2', 'l2',\n",
              "                    'l1', 'l1', 'l1', 'l1', 'l1', 'l1', 'l1', 'l1', 'l1',\n",
              "                    'l1', 'l1', 'l1', 'l1', 'l1', 'l1', 'l1', 'l1', 'l1',\n",
              "                    'l2', 'l2', 'l2', 'l2', 'l2', 'l2', 'l2', 'l2', 'l2',\n",
              "                    'l2', 'l2', 'l2', 'l2', 'l2', 'l2', 'l2', 'l2', 'l2',\n",
              "                    'l1', 'l1', 'l1', 'l1', 'l1', 'l1', 'l1', 'l1', 'l1',\n",
              "                    'l1', 'l1', 'l1', 'l1', 'l1', 'l1', 'l1', 'l1', 'l1',\n",
              "                    'l2', 'l2', 'l2', 'l2', 'l2', 'l2', 'l2', 'l2', 'l2',\n",
              "                    'l2', 'l2', 'l2', 'l2', 'l2', 'l2', 'l2', 'l2', 'l2',\n",
              "                    'l1', 'l1', 'l1', 'l1', 'l1', 'l1', 'l1', 'l1', 'l1',\n",
              "                    'l1', 'l1', 'l1', 'l1', 'l1', 'l1', 'l1', 'l1', 'l1',\n",
              "                    'l2', 'l2', 'l2', 'l2', 'l2', 'l2', 'l2', 'l2', 'l2',\n",
              "                    'l2', 'l2', 'l2', 'l2', 'l2', 'l2', 'l2', 'l2', 'l2'],\n",
              "              mask=[False, False, False, False, False, False, False, False,\n",
              "                    False, False, False, False, False, False, False, False,\n",
              "                    False, False, False, False, False, False, False, False,\n",
              "                    False, False, False, False, False, False, False, False,\n",
              "                    False, False, False, False, False, False, False, False,\n",
              "                    False, False, False, False, False, False, False, False,\n",
              "                    False, False, False, False, False, False, False, False,\n",
              "                    False, False, False, False, False, False, False, False,\n",
              "                    False, False, False, False, False, False, False, False,\n",
              "                    False, False, False, False, False, False, False, False,\n",
              "                    False, False, False, False, False, False, False, False,\n",
              "                    False, False, False, False, False, False, False, False,\n",
              "                    False, False, False, False, False, False, False, False,\n",
              "                    False, False, False, False, False, False, False, False,\n",
              "                    False, False, False, False, False, False, False, False,\n",
              "                    False, False, False, False, False, False, False, False,\n",
              "                    False, False, False, False, False, False, False, False,\n",
              "                    False, False, False, False, False, False, False, False,\n",
              "                    False, False, False, False, False, False, False, False,\n",
              "                    False, False, False, False, False, False, False, False,\n",
              "                    False, False, False, False, False, False, False, False,\n",
              "                    False, False, False, False, False, False, False, False,\n",
              "                    False, False, False, False, False, False, False, False,\n",
              "                    False, False, False, False, False, False, False, False,\n",
              "                    False, False, False, False, False, False, False, False,\n",
              "                    False, False, False, False, False, False, False, False,\n",
              "                    False, False, False, False, False, False, False, False,\n",
              "                    False, False, False, False, False, False, False, False,\n",
              "                    False, False, False, False, False, False, False, False,\n",
              "                    False, False, False, False, False, False, False, False,\n",
              "                    False, False, False, False, False, False, False, False,\n",
              "                    False, False, False, False],\n",
              "        fill_value='?',\n",
              "             dtype=object),\n",
              " 'param_vect__analyzer': masked_array(data=['word', 'word', 'word', 'word', 'word', 'word', 'word',\n",
              "                    'word', 'word', 'char', 'char', 'char', 'char', 'char',\n",
              "                    'char', 'char', 'char', 'char', 'word', 'word', 'word',\n",
              "                    'word', 'word', 'word', 'word', 'word', 'word', 'char',\n",
              "                    'char', 'char', 'char', 'char', 'char', 'char', 'char',\n",
              "                    'char', 'word', 'word', 'word', 'word', 'word', 'word',\n",
              "                    'word', 'word', 'word', 'char', 'char', 'char', 'char',\n",
              "                    'char', 'char', 'char', 'char', 'char', 'word', 'word',\n",
              "                    'word', 'word', 'word', 'word', 'word', 'word', 'word',\n",
              "                    'char', 'char', 'char', 'char', 'char', 'char', 'char',\n",
              "                    'char', 'char', 'word', 'word', 'word', 'word', 'word',\n",
              "                    'word', 'word', 'word', 'word', 'char', 'char', 'char',\n",
              "                    'char', 'char', 'char', 'char', 'char', 'char', 'word',\n",
              "                    'word', 'word', 'word', 'word', 'word', 'word', 'word',\n",
              "                    'word', 'char', 'char', 'char', 'char', 'char', 'char',\n",
              "                    'char', 'char', 'char', 'word', 'word', 'word', 'word',\n",
              "                    'word', 'word', 'word', 'word', 'word', 'char', 'char',\n",
              "                    'char', 'char', 'char', 'char', 'char', 'char', 'char',\n",
              "                    'word', 'word', 'word', 'word', 'word', 'word', 'word',\n",
              "                    'word', 'word', 'char', 'char', 'char', 'char', 'char',\n",
              "                    'char', 'char', 'char', 'char', 'word', 'word', 'word',\n",
              "                    'word', 'word', 'word', 'word', 'word', 'word', 'char',\n",
              "                    'char', 'char', 'char', 'char', 'char', 'char', 'char',\n",
              "                    'char', 'word', 'word', 'word', 'word', 'word', 'word',\n",
              "                    'word', 'word', 'word', 'char', 'char', 'char', 'char',\n",
              "                    'char', 'char', 'char', 'char', 'char', 'word', 'word',\n",
              "                    'word', 'word', 'word', 'word', 'word', 'word', 'word',\n",
              "                    'char', 'char', 'char', 'char', 'char', 'char', 'char',\n",
              "                    'char', 'char', 'word', 'word', 'word', 'word', 'word',\n",
              "                    'word', 'word', 'word', 'word', 'char', 'char', 'char',\n",
              "                    'char', 'char', 'char', 'char', 'char', 'char', 'word',\n",
              "                    'word', 'word', 'word', 'word', 'word', 'word', 'word',\n",
              "                    'word', 'char', 'char', 'char', 'char', 'char', 'char',\n",
              "                    'char', 'char', 'char', 'word', 'word', 'word', 'word',\n",
              "                    'word', 'word', 'word', 'word', 'word', 'char', 'char',\n",
              "                    'char', 'char', 'char', 'char', 'char', 'char', 'char'],\n",
              "              mask=[False, False, False, False, False, False, False, False,\n",
              "                    False, False, False, False, False, False, False, False,\n",
              "                    False, False, False, False, False, False, False, False,\n",
              "                    False, False, False, False, False, False, False, False,\n",
              "                    False, False, False, False, False, False, False, False,\n",
              "                    False, False, False, False, False, False, False, False,\n",
              "                    False, False, False, False, False, False, False, False,\n",
              "                    False, False, False, False, False, False, False, False,\n",
              "                    False, False, False, False, False, False, False, False,\n",
              "                    False, False, False, False, False, False, False, False,\n",
              "                    False, False, False, False, False, False, False, False,\n",
              "                    False, False, False, False, False, False, False, False,\n",
              "                    False, False, False, False, False, False, False, False,\n",
              "                    False, False, False, False, False, False, False, False,\n",
              "                    False, False, False, False, False, False, False, False,\n",
              "                    False, False, False, False, False, False, False, False,\n",
              "                    False, False, False, False, False, False, False, False,\n",
              "                    False, False, False, False, False, False, False, False,\n",
              "                    False, False, False, False, False, False, False, False,\n",
              "                    False, False, False, False, False, False, False, False,\n",
              "                    False, False, False, False, False, False, False, False,\n",
              "                    False, False, False, False, False, False, False, False,\n",
              "                    False, False, False, False, False, False, False, False,\n",
              "                    False, False, False, False, False, False, False, False,\n",
              "                    False, False, False, False, False, False, False, False,\n",
              "                    False, False, False, False, False, False, False, False,\n",
              "                    False, False, False, False, False, False, False, False,\n",
              "                    False, False, False, False, False, False, False, False,\n",
              "                    False, False, False, False, False, False, False, False,\n",
              "                    False, False, False, False, False, False, False, False,\n",
              "                    False, False, False, False, False, False, False, False,\n",
              "                    False, False, False, False],\n",
              "        fill_value='?',\n",
              "             dtype=object),\n",
              " 'param_vect__max_df': masked_array(data=[0.5, 0.5, 0.5, 0.75, 0.75, 0.75, 1.0, 1.0, 1.0, 0.5,\n",
              "                    0.5, 0.5, 0.75, 0.75, 0.75, 1.0, 1.0, 1.0, 0.5, 0.5,\n",
              "                    0.5, 0.75, 0.75, 0.75, 1.0, 1.0, 1.0, 0.5, 0.5, 0.5,\n",
              "                    0.75, 0.75, 0.75, 1.0, 1.0, 1.0, 0.5, 0.5, 0.5, 0.75,\n",
              "                    0.75, 0.75, 1.0, 1.0, 1.0, 0.5, 0.5, 0.5, 0.75, 0.75,\n",
              "                    0.75, 1.0, 1.0, 1.0, 0.5, 0.5, 0.5, 0.75, 0.75, 0.75,\n",
              "                    1.0, 1.0, 1.0, 0.5, 0.5, 0.5, 0.75, 0.75, 0.75, 1.0,\n",
              "                    1.0, 1.0, 0.5, 0.5, 0.5, 0.75, 0.75, 0.75, 1.0, 1.0,\n",
              "                    1.0, 0.5, 0.5, 0.5, 0.75, 0.75, 0.75, 1.0, 1.0, 1.0,\n",
              "                    0.5, 0.5, 0.5, 0.75, 0.75, 0.75, 1.0, 1.0, 1.0, 0.5,\n",
              "                    0.5, 0.5, 0.75, 0.75, 0.75, 1.0, 1.0, 1.0, 0.5, 0.5,\n",
              "                    0.5, 0.75, 0.75, 0.75, 1.0, 1.0, 1.0, 0.5, 0.5, 0.5,\n",
              "                    0.75, 0.75, 0.75, 1.0, 1.0, 1.0, 0.5, 0.5, 0.5, 0.75,\n",
              "                    0.75, 0.75, 1.0, 1.0, 1.0, 0.5, 0.5, 0.5, 0.75, 0.75,\n",
              "                    0.75, 1.0, 1.0, 1.0, 0.5, 0.5, 0.5, 0.75, 0.75, 0.75,\n",
              "                    1.0, 1.0, 1.0, 0.5, 0.5, 0.5, 0.75, 0.75, 0.75, 1.0,\n",
              "                    1.0, 1.0, 0.5, 0.5, 0.5, 0.75, 0.75, 0.75, 1.0, 1.0,\n",
              "                    1.0, 0.5, 0.5, 0.5, 0.75, 0.75, 0.75, 1.0, 1.0, 1.0,\n",
              "                    0.5, 0.5, 0.5, 0.75, 0.75, 0.75, 1.0, 1.0, 1.0, 0.5,\n",
              "                    0.5, 0.5, 0.75, 0.75, 0.75, 1.0, 1.0, 1.0, 0.5, 0.5,\n",
              "                    0.5, 0.75, 0.75, 0.75, 1.0, 1.0, 1.0, 0.5, 0.5, 0.5,\n",
              "                    0.75, 0.75, 0.75, 1.0, 1.0, 1.0, 0.5, 0.5, 0.5, 0.75,\n",
              "                    0.75, 0.75, 1.0, 1.0, 1.0, 0.5, 0.5, 0.5, 0.75, 0.75,\n",
              "                    0.75, 1.0, 1.0, 1.0, 0.5, 0.5, 0.5, 0.75, 0.75, 0.75,\n",
              "                    1.0, 1.0, 1.0, 0.5, 0.5, 0.5, 0.75, 0.75, 0.75, 1.0,\n",
              "                    1.0, 1.0],\n",
              "              mask=[False, False, False, False, False, False, False, False,\n",
              "                    False, False, False, False, False, False, False, False,\n",
              "                    False, False, False, False, False, False, False, False,\n",
              "                    False, False, False, False, False, False, False, False,\n",
              "                    False, False, False, False, False, False, False, False,\n",
              "                    False, False, False, False, False, False, False, False,\n",
              "                    False, False, False, False, False, False, False, False,\n",
              "                    False, False, False, False, False, False, False, False,\n",
              "                    False, False, False, False, False, False, False, False,\n",
              "                    False, False, False, False, False, False, False, False,\n",
              "                    False, False, False, False, False, False, False, False,\n",
              "                    False, False, False, False, False, False, False, False,\n",
              "                    False, False, False, False, False, False, False, False,\n",
              "                    False, False, False, False, False, False, False, False,\n",
              "                    False, False, False, False, False, False, False, False,\n",
              "                    False, False, False, False, False, False, False, False,\n",
              "                    False, False, False, False, False, False, False, False,\n",
              "                    False, False, False, False, False, False, False, False,\n",
              "                    False, False, False, False, False, False, False, False,\n",
              "                    False, False, False, False, False, False, False, False,\n",
              "                    False, False, False, False, False, False, False, False,\n",
              "                    False, False, False, False, False, False, False, False,\n",
              "                    False, False, False, False, False, False, False, False,\n",
              "                    False, False, False, False, False, False, False, False,\n",
              "                    False, False, False, False, False, False, False, False,\n",
              "                    False, False, False, False, False, False, False, False,\n",
              "                    False, False, False, False, False, False, False, False,\n",
              "                    False, False, False, False, False, False, False, False,\n",
              "                    False, False, False, False, False, False, False, False,\n",
              "                    False, False, False, False, False, False, False, False,\n",
              "                    False, False, False, False, False, False, False, False,\n",
              "                    False, False, False, False],\n",
              "        fill_value='?',\n",
              "             dtype=object),\n",
              " 'param_vect__ngram_range': masked_array(data=[(1, 1), (2, 2), (3, 3), (1, 1), (2, 2), (3, 3), (1, 1),\n",
              "                    (2, 2), (3, 3), (1, 1), (2, 2), (3, 3), (1, 1), (2, 2),\n",
              "                    (3, 3), (1, 1), (2, 2), (3, 3), (1, 1), (2, 2), (3, 3),\n",
              "                    (1, 1), (2, 2), (3, 3), (1, 1), (2, 2), (3, 3), (1, 1),\n",
              "                    (2, 2), (3, 3), (1, 1), (2, 2), (3, 3), (1, 1), (2, 2),\n",
              "                    (3, 3), (1, 1), (2, 2), (3, 3), (1, 1), (2, 2), (3, 3),\n",
              "                    (1, 1), (2, 2), (3, 3), (1, 1), (2, 2), (3, 3), (1, 1),\n",
              "                    (2, 2), (3, 3), (1, 1), (2, 2), (3, 3), (1, 1), (2, 2),\n",
              "                    (3, 3), (1, 1), (2, 2), (3, 3), (1, 1), (2, 2), (3, 3),\n",
              "                    (1, 1), (2, 2), (3, 3), (1, 1), (2, 2), (3, 3), (1, 1),\n",
              "                    (2, 2), (3, 3), (1, 1), (2, 2), (3, 3), (1, 1), (2, 2),\n",
              "                    (3, 3), (1, 1), (2, 2), (3, 3), (1, 1), (2, 2), (3, 3),\n",
              "                    (1, 1), (2, 2), (3, 3), (1, 1), (2, 2), (3, 3), (1, 1),\n",
              "                    (2, 2), (3, 3), (1, 1), (2, 2), (3, 3), (1, 1), (2, 2),\n",
              "                    (3, 3), (1, 1), (2, 2), (3, 3), (1, 1), (2, 2), (3, 3),\n",
              "                    (1, 1), (2, 2), (3, 3), (1, 1), (2, 2), (3, 3), (1, 1),\n",
              "                    (2, 2), (3, 3), (1, 1), (2, 2), (3, 3), (1, 1), (2, 2),\n",
              "                    (3, 3), (1, 1), (2, 2), (3, 3), (1, 1), (2, 2), (3, 3),\n",
              "                    (1, 1), (2, 2), (3, 3), (1, 1), (2, 2), (3, 3), (1, 1),\n",
              "                    (2, 2), (3, 3), (1, 1), (2, 2), (3, 3), (1, 1), (2, 2),\n",
              "                    (3, 3), (1, 1), (2, 2), (3, 3), (1, 1), (2, 2), (3, 3),\n",
              "                    (1, 1), (2, 2), (3, 3), (1, 1), (2, 2), (3, 3), (1, 1),\n",
              "                    (2, 2), (3, 3), (1, 1), (2, 2), (3, 3), (1, 1), (2, 2),\n",
              "                    (3, 3), (1, 1), (2, 2), (3, 3), (1, 1), (2, 2), (3, 3),\n",
              "                    (1, 1), (2, 2), (3, 3), (1, 1), (2, 2), (3, 3), (1, 1),\n",
              "                    (2, 2), (3, 3), (1, 1), (2, 2), (3, 3), (1, 1), (2, 2),\n",
              "                    (3, 3), (1, 1), (2, 2), (3, 3), (1, 1), (2, 2), (3, 3),\n",
              "                    (1, 1), (2, 2), (3, 3), (1, 1), (2, 2), (3, 3), (1, 1),\n",
              "                    (2, 2), (3, 3), (1, 1), (2, 2), (3, 3), (1, 1), (2, 2),\n",
              "                    (3, 3), (1, 1), (2, 2), (3, 3), (1, 1), (2, 2), (3, 3),\n",
              "                    (1, 1), (2, 2), (3, 3), (1, 1), (2, 2), (3, 3), (1, 1),\n",
              "                    (2, 2), (3, 3), (1, 1), (2, 2), (3, 3), (1, 1), (2, 2),\n",
              "                    (3, 3), (1, 1), (2, 2), (3, 3), (1, 1), (2, 2), (3, 3),\n",
              "                    (1, 1), (2, 2), (3, 3), (1, 1), (2, 2), (3, 3), (1, 1),\n",
              "                    (2, 2), (3, 3), (1, 1), (2, 2), (3, 3), (1, 1), (2, 2),\n",
              "                    (3, 3), (1, 1), (2, 2), (3, 3), (1, 1), (2, 2), (3, 3)],\n",
              "              mask=[False, False, False, False, False, False, False, False,\n",
              "                    False, False, False, False, False, False, False, False,\n",
              "                    False, False, False, False, False, False, False, False,\n",
              "                    False, False, False, False, False, False, False, False,\n",
              "                    False, False, False, False, False, False, False, False,\n",
              "                    False, False, False, False, False, False, False, False,\n",
              "                    False, False, False, False, False, False, False, False,\n",
              "                    False, False, False, False, False, False, False, False,\n",
              "                    False, False, False, False, False, False, False, False,\n",
              "                    False, False, False, False, False, False, False, False,\n",
              "                    False, False, False, False, False, False, False, False,\n",
              "                    False, False, False, False, False, False, False, False,\n",
              "                    False, False, False, False, False, False, False, False,\n",
              "                    False, False, False, False, False, False, False, False,\n",
              "                    False, False, False, False, False, False, False, False,\n",
              "                    False, False, False, False, False, False, False, False,\n",
              "                    False, False, False, False, False, False, False, False,\n",
              "                    False, False, False, False, False, False, False, False,\n",
              "                    False, False, False, False, False, False, False, False,\n",
              "                    False, False, False, False, False, False, False, False,\n",
              "                    False, False, False, False, False, False, False, False,\n",
              "                    False, False, False, False, False, False, False, False,\n",
              "                    False, False, False, False, False, False, False, False,\n",
              "                    False, False, False, False, False, False, False, False,\n",
              "                    False, False, False, False, False, False, False, False,\n",
              "                    False, False, False, False, False, False, False, False,\n",
              "                    False, False, False, False, False, False, False, False,\n",
              "                    False, False, False, False, False, False, False, False,\n",
              "                    False, False, False, False, False, False, False, False,\n",
              "                    False, False, False, False, False, False, False, False,\n",
              "                    False, False, False, False, False, False, False, False,\n",
              "                    False, False, False, False],\n",
              "        fill_value='?',\n",
              "             dtype=object),\n",
              " 'params': [{'clf__C': 0.001,\n",
              "   'clf__penalty': 'l1',\n",
              "   'vect__analyzer': 'word',\n",
              "   'vect__max_df': 0.5,\n",
              "   'vect__ngram_range': (1, 1)},\n",
              "  {'clf__C': 0.001,\n",
              "   'clf__penalty': 'l1',\n",
              "   'vect__analyzer': 'word',\n",
              "   'vect__max_df': 0.5,\n",
              "   'vect__ngram_range': (2, 2)},\n",
              "  {'clf__C': 0.001,\n",
              "   'clf__penalty': 'l1',\n",
              "   'vect__analyzer': 'word',\n",
              "   'vect__max_df': 0.5,\n",
              "   'vect__ngram_range': (3, 3)},\n",
              "  {'clf__C': 0.001,\n",
              "   'clf__penalty': 'l1',\n",
              "   'vect__analyzer': 'word',\n",
              "   'vect__max_df': 0.75,\n",
              "   'vect__ngram_range': (1, 1)},\n",
              "  {'clf__C': 0.001,\n",
              "   'clf__penalty': 'l1',\n",
              "   'vect__analyzer': 'word',\n",
              "   'vect__max_df': 0.75,\n",
              "   'vect__ngram_range': (2, 2)},\n",
              "  {'clf__C': 0.001,\n",
              "   'clf__penalty': 'l1',\n",
              "   'vect__analyzer': 'word',\n",
              "   'vect__max_df': 0.75,\n",
              "   'vect__ngram_range': (3, 3)},\n",
              "  {'clf__C': 0.001,\n",
              "   'clf__penalty': 'l1',\n",
              "   'vect__analyzer': 'word',\n",
              "   'vect__max_df': 1.0,\n",
              "   'vect__ngram_range': (1, 1)},\n",
              "  {'clf__C': 0.001,\n",
              "   'clf__penalty': 'l1',\n",
              "   'vect__analyzer': 'word',\n",
              "   'vect__max_df': 1.0,\n",
              "   'vect__ngram_range': (2, 2)},\n",
              "  {'clf__C': 0.001,\n",
              "   'clf__penalty': 'l1',\n",
              "   'vect__analyzer': 'word',\n",
              "   'vect__max_df': 1.0,\n",
              "   'vect__ngram_range': (3, 3)},\n",
              "  {'clf__C': 0.001,\n",
              "   'clf__penalty': 'l1',\n",
              "   'vect__analyzer': 'char',\n",
              "   'vect__max_df': 0.5,\n",
              "   'vect__ngram_range': (1, 1)},\n",
              "  {'clf__C': 0.001,\n",
              "   'clf__penalty': 'l1',\n",
              "   'vect__analyzer': 'char',\n",
              "   'vect__max_df': 0.5,\n",
              "   'vect__ngram_range': (2, 2)},\n",
              "  {'clf__C': 0.001,\n",
              "   'clf__penalty': 'l1',\n",
              "   'vect__analyzer': 'char',\n",
              "   'vect__max_df': 0.5,\n",
              "   'vect__ngram_range': (3, 3)},\n",
              "  {'clf__C': 0.001,\n",
              "   'clf__penalty': 'l1',\n",
              "   'vect__analyzer': 'char',\n",
              "   'vect__max_df': 0.75,\n",
              "   'vect__ngram_range': (1, 1)},\n",
              "  {'clf__C': 0.001,\n",
              "   'clf__penalty': 'l1',\n",
              "   'vect__analyzer': 'char',\n",
              "   'vect__max_df': 0.75,\n",
              "   'vect__ngram_range': (2, 2)},\n",
              "  {'clf__C': 0.001,\n",
              "   'clf__penalty': 'l1',\n",
              "   'vect__analyzer': 'char',\n",
              "   'vect__max_df': 0.75,\n",
              "   'vect__ngram_range': (3, 3)},\n",
              "  {'clf__C': 0.001,\n",
              "   'clf__penalty': 'l1',\n",
              "   'vect__analyzer': 'char',\n",
              "   'vect__max_df': 1.0,\n",
              "   'vect__ngram_range': (1, 1)},\n",
              "  {'clf__C': 0.001,\n",
              "   'clf__penalty': 'l1',\n",
              "   'vect__analyzer': 'char',\n",
              "   'vect__max_df': 1.0,\n",
              "   'vect__ngram_range': (2, 2)},\n",
              "  {'clf__C': 0.001,\n",
              "   'clf__penalty': 'l1',\n",
              "   'vect__analyzer': 'char',\n",
              "   'vect__max_df': 1.0,\n",
              "   'vect__ngram_range': (3, 3)},\n",
              "  {'clf__C': 0.001,\n",
              "   'clf__penalty': 'l2',\n",
              "   'vect__analyzer': 'word',\n",
              "   'vect__max_df': 0.5,\n",
              "   'vect__ngram_range': (1, 1)},\n",
              "  {'clf__C': 0.001,\n",
              "   'clf__penalty': 'l2',\n",
              "   'vect__analyzer': 'word',\n",
              "   'vect__max_df': 0.5,\n",
              "   'vect__ngram_range': (2, 2)},\n",
              "  {'clf__C': 0.001,\n",
              "   'clf__penalty': 'l2',\n",
              "   'vect__analyzer': 'word',\n",
              "   'vect__max_df': 0.5,\n",
              "   'vect__ngram_range': (3, 3)},\n",
              "  {'clf__C': 0.001,\n",
              "   'clf__penalty': 'l2',\n",
              "   'vect__analyzer': 'word',\n",
              "   'vect__max_df': 0.75,\n",
              "   'vect__ngram_range': (1, 1)},\n",
              "  {'clf__C': 0.001,\n",
              "   'clf__penalty': 'l2',\n",
              "   'vect__analyzer': 'word',\n",
              "   'vect__max_df': 0.75,\n",
              "   'vect__ngram_range': (2, 2)},\n",
              "  {'clf__C': 0.001,\n",
              "   'clf__penalty': 'l2',\n",
              "   'vect__analyzer': 'word',\n",
              "   'vect__max_df': 0.75,\n",
              "   'vect__ngram_range': (3, 3)},\n",
              "  {'clf__C': 0.001,\n",
              "   'clf__penalty': 'l2',\n",
              "   'vect__analyzer': 'word',\n",
              "   'vect__max_df': 1.0,\n",
              "   'vect__ngram_range': (1, 1)},\n",
              "  {'clf__C': 0.001,\n",
              "   'clf__penalty': 'l2',\n",
              "   'vect__analyzer': 'word',\n",
              "   'vect__max_df': 1.0,\n",
              "   'vect__ngram_range': (2, 2)},\n",
              "  {'clf__C': 0.001,\n",
              "   'clf__penalty': 'l2',\n",
              "   'vect__analyzer': 'word',\n",
              "   'vect__max_df': 1.0,\n",
              "   'vect__ngram_range': (3, 3)},\n",
              "  {'clf__C': 0.001,\n",
              "   'clf__penalty': 'l2',\n",
              "   'vect__analyzer': 'char',\n",
              "   'vect__max_df': 0.5,\n",
              "   'vect__ngram_range': (1, 1)},\n",
              "  {'clf__C': 0.001,\n",
              "   'clf__penalty': 'l2',\n",
              "   'vect__analyzer': 'char',\n",
              "   'vect__max_df': 0.5,\n",
              "   'vect__ngram_range': (2, 2)},\n",
              "  {'clf__C': 0.001,\n",
              "   'clf__penalty': 'l2',\n",
              "   'vect__analyzer': 'char',\n",
              "   'vect__max_df': 0.5,\n",
              "   'vect__ngram_range': (3, 3)},\n",
              "  {'clf__C': 0.001,\n",
              "   'clf__penalty': 'l2',\n",
              "   'vect__analyzer': 'char',\n",
              "   'vect__max_df': 0.75,\n",
              "   'vect__ngram_range': (1, 1)},\n",
              "  {'clf__C': 0.001,\n",
              "   'clf__penalty': 'l2',\n",
              "   'vect__analyzer': 'char',\n",
              "   'vect__max_df': 0.75,\n",
              "   'vect__ngram_range': (2, 2)},\n",
              "  {'clf__C': 0.001,\n",
              "   'clf__penalty': 'l2',\n",
              "   'vect__analyzer': 'char',\n",
              "   'vect__max_df': 0.75,\n",
              "   'vect__ngram_range': (3, 3)},\n",
              "  {'clf__C': 0.001,\n",
              "   'clf__penalty': 'l2',\n",
              "   'vect__analyzer': 'char',\n",
              "   'vect__max_df': 1.0,\n",
              "   'vect__ngram_range': (1, 1)},\n",
              "  {'clf__C': 0.001,\n",
              "   'clf__penalty': 'l2',\n",
              "   'vect__analyzer': 'char',\n",
              "   'vect__max_df': 1.0,\n",
              "   'vect__ngram_range': (2, 2)},\n",
              "  {'clf__C': 0.001,\n",
              "   'clf__penalty': 'l2',\n",
              "   'vect__analyzer': 'char',\n",
              "   'vect__max_df': 1.0,\n",
              "   'vect__ngram_range': (3, 3)},\n",
              "  {'clf__C': 0.01,\n",
              "   'clf__penalty': 'l1',\n",
              "   'vect__analyzer': 'word',\n",
              "   'vect__max_df': 0.5,\n",
              "   'vect__ngram_range': (1, 1)},\n",
              "  {'clf__C': 0.01,\n",
              "   'clf__penalty': 'l1',\n",
              "   'vect__analyzer': 'word',\n",
              "   'vect__max_df': 0.5,\n",
              "   'vect__ngram_range': (2, 2)},\n",
              "  {'clf__C': 0.01,\n",
              "   'clf__penalty': 'l1',\n",
              "   'vect__analyzer': 'word',\n",
              "   'vect__max_df': 0.5,\n",
              "   'vect__ngram_range': (3, 3)},\n",
              "  {'clf__C': 0.01,\n",
              "   'clf__penalty': 'l1',\n",
              "   'vect__analyzer': 'word',\n",
              "   'vect__max_df': 0.75,\n",
              "   'vect__ngram_range': (1, 1)},\n",
              "  {'clf__C': 0.01,\n",
              "   'clf__penalty': 'l1',\n",
              "   'vect__analyzer': 'word',\n",
              "   'vect__max_df': 0.75,\n",
              "   'vect__ngram_range': (2, 2)},\n",
              "  {'clf__C': 0.01,\n",
              "   'clf__penalty': 'l1',\n",
              "   'vect__analyzer': 'word',\n",
              "   'vect__max_df': 0.75,\n",
              "   'vect__ngram_range': (3, 3)},\n",
              "  {'clf__C': 0.01,\n",
              "   'clf__penalty': 'l1',\n",
              "   'vect__analyzer': 'word',\n",
              "   'vect__max_df': 1.0,\n",
              "   'vect__ngram_range': (1, 1)},\n",
              "  {'clf__C': 0.01,\n",
              "   'clf__penalty': 'l1',\n",
              "   'vect__analyzer': 'word',\n",
              "   'vect__max_df': 1.0,\n",
              "   'vect__ngram_range': (2, 2)},\n",
              "  {'clf__C': 0.01,\n",
              "   'clf__penalty': 'l1',\n",
              "   'vect__analyzer': 'word',\n",
              "   'vect__max_df': 1.0,\n",
              "   'vect__ngram_range': (3, 3)},\n",
              "  {'clf__C': 0.01,\n",
              "   'clf__penalty': 'l1',\n",
              "   'vect__analyzer': 'char',\n",
              "   'vect__max_df': 0.5,\n",
              "   'vect__ngram_range': (1, 1)},\n",
              "  {'clf__C': 0.01,\n",
              "   'clf__penalty': 'l1',\n",
              "   'vect__analyzer': 'char',\n",
              "   'vect__max_df': 0.5,\n",
              "   'vect__ngram_range': (2, 2)},\n",
              "  {'clf__C': 0.01,\n",
              "   'clf__penalty': 'l1',\n",
              "   'vect__analyzer': 'char',\n",
              "   'vect__max_df': 0.5,\n",
              "   'vect__ngram_range': (3, 3)},\n",
              "  {'clf__C': 0.01,\n",
              "   'clf__penalty': 'l1',\n",
              "   'vect__analyzer': 'char',\n",
              "   'vect__max_df': 0.75,\n",
              "   'vect__ngram_range': (1, 1)},\n",
              "  {'clf__C': 0.01,\n",
              "   'clf__penalty': 'l1',\n",
              "   'vect__analyzer': 'char',\n",
              "   'vect__max_df': 0.75,\n",
              "   'vect__ngram_range': (2, 2)},\n",
              "  {'clf__C': 0.01,\n",
              "   'clf__penalty': 'l1',\n",
              "   'vect__analyzer': 'char',\n",
              "   'vect__max_df': 0.75,\n",
              "   'vect__ngram_range': (3, 3)},\n",
              "  {'clf__C': 0.01,\n",
              "   'clf__penalty': 'l1',\n",
              "   'vect__analyzer': 'char',\n",
              "   'vect__max_df': 1.0,\n",
              "   'vect__ngram_range': (1, 1)},\n",
              "  {'clf__C': 0.01,\n",
              "   'clf__penalty': 'l1',\n",
              "   'vect__analyzer': 'char',\n",
              "   'vect__max_df': 1.0,\n",
              "   'vect__ngram_range': (2, 2)},\n",
              "  {'clf__C': 0.01,\n",
              "   'clf__penalty': 'l1',\n",
              "   'vect__analyzer': 'char',\n",
              "   'vect__max_df': 1.0,\n",
              "   'vect__ngram_range': (3, 3)},\n",
              "  {'clf__C': 0.01,\n",
              "   'clf__penalty': 'l2',\n",
              "   'vect__analyzer': 'word',\n",
              "   'vect__max_df': 0.5,\n",
              "   'vect__ngram_range': (1, 1)},\n",
              "  {'clf__C': 0.01,\n",
              "   'clf__penalty': 'l2',\n",
              "   'vect__analyzer': 'word',\n",
              "   'vect__max_df': 0.5,\n",
              "   'vect__ngram_range': (2, 2)},\n",
              "  {'clf__C': 0.01,\n",
              "   'clf__penalty': 'l2',\n",
              "   'vect__analyzer': 'word',\n",
              "   'vect__max_df': 0.5,\n",
              "   'vect__ngram_range': (3, 3)},\n",
              "  {'clf__C': 0.01,\n",
              "   'clf__penalty': 'l2',\n",
              "   'vect__analyzer': 'word',\n",
              "   'vect__max_df': 0.75,\n",
              "   'vect__ngram_range': (1, 1)},\n",
              "  {'clf__C': 0.01,\n",
              "   'clf__penalty': 'l2',\n",
              "   'vect__analyzer': 'word',\n",
              "   'vect__max_df': 0.75,\n",
              "   'vect__ngram_range': (2, 2)},\n",
              "  {'clf__C': 0.01,\n",
              "   'clf__penalty': 'l2',\n",
              "   'vect__analyzer': 'word',\n",
              "   'vect__max_df': 0.75,\n",
              "   'vect__ngram_range': (3, 3)},\n",
              "  {'clf__C': 0.01,\n",
              "   'clf__penalty': 'l2',\n",
              "   'vect__analyzer': 'word',\n",
              "   'vect__max_df': 1.0,\n",
              "   'vect__ngram_range': (1, 1)},\n",
              "  {'clf__C': 0.01,\n",
              "   'clf__penalty': 'l2',\n",
              "   'vect__analyzer': 'word',\n",
              "   'vect__max_df': 1.0,\n",
              "   'vect__ngram_range': (2, 2)},\n",
              "  {'clf__C': 0.01,\n",
              "   'clf__penalty': 'l2',\n",
              "   'vect__analyzer': 'word',\n",
              "   'vect__max_df': 1.0,\n",
              "   'vect__ngram_range': (3, 3)},\n",
              "  {'clf__C': 0.01,\n",
              "   'clf__penalty': 'l2',\n",
              "   'vect__analyzer': 'char',\n",
              "   'vect__max_df': 0.5,\n",
              "   'vect__ngram_range': (1, 1)},\n",
              "  {'clf__C': 0.01,\n",
              "   'clf__penalty': 'l2',\n",
              "   'vect__analyzer': 'char',\n",
              "   'vect__max_df': 0.5,\n",
              "   'vect__ngram_range': (2, 2)},\n",
              "  {'clf__C': 0.01,\n",
              "   'clf__penalty': 'l2',\n",
              "   'vect__analyzer': 'char',\n",
              "   'vect__max_df': 0.5,\n",
              "   'vect__ngram_range': (3, 3)},\n",
              "  {'clf__C': 0.01,\n",
              "   'clf__penalty': 'l2',\n",
              "   'vect__analyzer': 'char',\n",
              "   'vect__max_df': 0.75,\n",
              "   'vect__ngram_range': (1, 1)},\n",
              "  {'clf__C': 0.01,\n",
              "   'clf__penalty': 'l2',\n",
              "   'vect__analyzer': 'char',\n",
              "   'vect__max_df': 0.75,\n",
              "   'vect__ngram_range': (2, 2)},\n",
              "  {'clf__C': 0.01,\n",
              "   'clf__penalty': 'l2',\n",
              "   'vect__analyzer': 'char',\n",
              "   'vect__max_df': 0.75,\n",
              "   'vect__ngram_range': (3, 3)},\n",
              "  {'clf__C': 0.01,\n",
              "   'clf__penalty': 'l2',\n",
              "   'vect__analyzer': 'char',\n",
              "   'vect__max_df': 1.0,\n",
              "   'vect__ngram_range': (1, 1)},\n",
              "  {'clf__C': 0.01,\n",
              "   'clf__penalty': 'l2',\n",
              "   'vect__analyzer': 'char',\n",
              "   'vect__max_df': 1.0,\n",
              "   'vect__ngram_range': (2, 2)},\n",
              "  {'clf__C': 0.01,\n",
              "   'clf__penalty': 'l2',\n",
              "   'vect__analyzer': 'char',\n",
              "   'vect__max_df': 1.0,\n",
              "   'vect__ngram_range': (3, 3)},\n",
              "  {'clf__C': 0.1,\n",
              "   'clf__penalty': 'l1',\n",
              "   'vect__analyzer': 'word',\n",
              "   'vect__max_df': 0.5,\n",
              "   'vect__ngram_range': (1, 1)},\n",
              "  {'clf__C': 0.1,\n",
              "   'clf__penalty': 'l1',\n",
              "   'vect__analyzer': 'word',\n",
              "   'vect__max_df': 0.5,\n",
              "   'vect__ngram_range': (2, 2)},\n",
              "  {'clf__C': 0.1,\n",
              "   'clf__penalty': 'l1',\n",
              "   'vect__analyzer': 'word',\n",
              "   'vect__max_df': 0.5,\n",
              "   'vect__ngram_range': (3, 3)},\n",
              "  {'clf__C': 0.1,\n",
              "   'clf__penalty': 'l1',\n",
              "   'vect__analyzer': 'word',\n",
              "   'vect__max_df': 0.75,\n",
              "   'vect__ngram_range': (1, 1)},\n",
              "  {'clf__C': 0.1,\n",
              "   'clf__penalty': 'l1',\n",
              "   'vect__analyzer': 'word',\n",
              "   'vect__max_df': 0.75,\n",
              "   'vect__ngram_range': (2, 2)},\n",
              "  {'clf__C': 0.1,\n",
              "   'clf__penalty': 'l1',\n",
              "   'vect__analyzer': 'word',\n",
              "   'vect__max_df': 0.75,\n",
              "   'vect__ngram_range': (3, 3)},\n",
              "  {'clf__C': 0.1,\n",
              "   'clf__penalty': 'l1',\n",
              "   'vect__analyzer': 'word',\n",
              "   'vect__max_df': 1.0,\n",
              "   'vect__ngram_range': (1, 1)},\n",
              "  {'clf__C': 0.1,\n",
              "   'clf__penalty': 'l1',\n",
              "   'vect__analyzer': 'word',\n",
              "   'vect__max_df': 1.0,\n",
              "   'vect__ngram_range': (2, 2)},\n",
              "  {'clf__C': 0.1,\n",
              "   'clf__penalty': 'l1',\n",
              "   'vect__analyzer': 'word',\n",
              "   'vect__max_df': 1.0,\n",
              "   'vect__ngram_range': (3, 3)},\n",
              "  {'clf__C': 0.1,\n",
              "   'clf__penalty': 'l1',\n",
              "   'vect__analyzer': 'char',\n",
              "   'vect__max_df': 0.5,\n",
              "   'vect__ngram_range': (1, 1)},\n",
              "  {'clf__C': 0.1,\n",
              "   'clf__penalty': 'l1',\n",
              "   'vect__analyzer': 'char',\n",
              "   'vect__max_df': 0.5,\n",
              "   'vect__ngram_range': (2, 2)},\n",
              "  {'clf__C': 0.1,\n",
              "   'clf__penalty': 'l1',\n",
              "   'vect__analyzer': 'char',\n",
              "   'vect__max_df': 0.5,\n",
              "   'vect__ngram_range': (3, 3)},\n",
              "  {'clf__C': 0.1,\n",
              "   'clf__penalty': 'l1',\n",
              "   'vect__analyzer': 'char',\n",
              "   'vect__max_df': 0.75,\n",
              "   'vect__ngram_range': (1, 1)},\n",
              "  {'clf__C': 0.1,\n",
              "   'clf__penalty': 'l1',\n",
              "   'vect__analyzer': 'char',\n",
              "   'vect__max_df': 0.75,\n",
              "   'vect__ngram_range': (2, 2)},\n",
              "  {'clf__C': 0.1,\n",
              "   'clf__penalty': 'l1',\n",
              "   'vect__analyzer': 'char',\n",
              "   'vect__max_df': 0.75,\n",
              "   'vect__ngram_range': (3, 3)},\n",
              "  {'clf__C': 0.1,\n",
              "   'clf__penalty': 'l1',\n",
              "   'vect__analyzer': 'char',\n",
              "   'vect__max_df': 1.0,\n",
              "   'vect__ngram_range': (1, 1)},\n",
              "  {'clf__C': 0.1,\n",
              "   'clf__penalty': 'l1',\n",
              "   'vect__analyzer': 'char',\n",
              "   'vect__max_df': 1.0,\n",
              "   'vect__ngram_range': (2, 2)},\n",
              "  {'clf__C': 0.1,\n",
              "   'clf__penalty': 'l1',\n",
              "   'vect__analyzer': 'char',\n",
              "   'vect__max_df': 1.0,\n",
              "   'vect__ngram_range': (3, 3)},\n",
              "  {'clf__C': 0.1,\n",
              "   'clf__penalty': 'l2',\n",
              "   'vect__analyzer': 'word',\n",
              "   'vect__max_df': 0.5,\n",
              "   'vect__ngram_range': (1, 1)},\n",
              "  {'clf__C': 0.1,\n",
              "   'clf__penalty': 'l2',\n",
              "   'vect__analyzer': 'word',\n",
              "   'vect__max_df': 0.5,\n",
              "   'vect__ngram_range': (2, 2)},\n",
              "  {'clf__C': 0.1,\n",
              "   'clf__penalty': 'l2',\n",
              "   'vect__analyzer': 'word',\n",
              "   'vect__max_df': 0.5,\n",
              "   'vect__ngram_range': (3, 3)},\n",
              "  {'clf__C': 0.1,\n",
              "   'clf__penalty': 'l2',\n",
              "   'vect__analyzer': 'word',\n",
              "   'vect__max_df': 0.75,\n",
              "   'vect__ngram_range': (1, 1)},\n",
              "  {'clf__C': 0.1,\n",
              "   'clf__penalty': 'l2',\n",
              "   'vect__analyzer': 'word',\n",
              "   'vect__max_df': 0.75,\n",
              "   'vect__ngram_range': (2, 2)},\n",
              "  {'clf__C': 0.1,\n",
              "   'clf__penalty': 'l2',\n",
              "   'vect__analyzer': 'word',\n",
              "   'vect__max_df': 0.75,\n",
              "   'vect__ngram_range': (3, 3)},\n",
              "  {'clf__C': 0.1,\n",
              "   'clf__penalty': 'l2',\n",
              "   'vect__analyzer': 'word',\n",
              "   'vect__max_df': 1.0,\n",
              "   'vect__ngram_range': (1, 1)},\n",
              "  {'clf__C': 0.1,\n",
              "   'clf__penalty': 'l2',\n",
              "   'vect__analyzer': 'word',\n",
              "   'vect__max_df': 1.0,\n",
              "   'vect__ngram_range': (2, 2)},\n",
              "  {'clf__C': 0.1,\n",
              "   'clf__penalty': 'l2',\n",
              "   'vect__analyzer': 'word',\n",
              "   'vect__max_df': 1.0,\n",
              "   'vect__ngram_range': (3, 3)},\n",
              "  {'clf__C': 0.1,\n",
              "   'clf__penalty': 'l2',\n",
              "   'vect__analyzer': 'char',\n",
              "   'vect__max_df': 0.5,\n",
              "   'vect__ngram_range': (1, 1)},\n",
              "  {'clf__C': 0.1,\n",
              "   'clf__penalty': 'l2',\n",
              "   'vect__analyzer': 'char',\n",
              "   'vect__max_df': 0.5,\n",
              "   'vect__ngram_range': (2, 2)},\n",
              "  {'clf__C': 0.1,\n",
              "   'clf__penalty': 'l2',\n",
              "   'vect__analyzer': 'char',\n",
              "   'vect__max_df': 0.5,\n",
              "   'vect__ngram_range': (3, 3)},\n",
              "  {'clf__C': 0.1,\n",
              "   'clf__penalty': 'l2',\n",
              "   'vect__analyzer': 'char',\n",
              "   'vect__max_df': 0.75,\n",
              "   'vect__ngram_range': (1, 1)},\n",
              "  {'clf__C': 0.1,\n",
              "   'clf__penalty': 'l2',\n",
              "   'vect__analyzer': 'char',\n",
              "   'vect__max_df': 0.75,\n",
              "   'vect__ngram_range': (2, 2)},\n",
              "  {'clf__C': 0.1,\n",
              "   'clf__penalty': 'l2',\n",
              "   'vect__analyzer': 'char',\n",
              "   'vect__max_df': 0.75,\n",
              "   'vect__ngram_range': (3, 3)},\n",
              "  {'clf__C': 0.1,\n",
              "   'clf__penalty': 'l2',\n",
              "   'vect__analyzer': 'char',\n",
              "   'vect__max_df': 1.0,\n",
              "   'vect__ngram_range': (1, 1)},\n",
              "  {'clf__C': 0.1,\n",
              "   'clf__penalty': 'l2',\n",
              "   'vect__analyzer': 'char',\n",
              "   'vect__max_df': 1.0,\n",
              "   'vect__ngram_range': (2, 2)},\n",
              "  {'clf__C': 0.1,\n",
              "   'clf__penalty': 'l2',\n",
              "   'vect__analyzer': 'char',\n",
              "   'vect__max_df': 1.0,\n",
              "   'vect__ngram_range': (3, 3)},\n",
              "  {'clf__C': 1.0,\n",
              "   'clf__penalty': 'l1',\n",
              "   'vect__analyzer': 'word',\n",
              "   'vect__max_df': 0.5,\n",
              "   'vect__ngram_range': (1, 1)},\n",
              "  {'clf__C': 1.0,\n",
              "   'clf__penalty': 'l1',\n",
              "   'vect__analyzer': 'word',\n",
              "   'vect__max_df': 0.5,\n",
              "   'vect__ngram_range': (2, 2)},\n",
              "  {'clf__C': 1.0,\n",
              "   'clf__penalty': 'l1',\n",
              "   'vect__analyzer': 'word',\n",
              "   'vect__max_df': 0.5,\n",
              "   'vect__ngram_range': (3, 3)},\n",
              "  {'clf__C': 1.0,\n",
              "   'clf__penalty': 'l1',\n",
              "   'vect__analyzer': 'word',\n",
              "   'vect__max_df': 0.75,\n",
              "   'vect__ngram_range': (1, 1)},\n",
              "  {'clf__C': 1.0,\n",
              "   'clf__penalty': 'l1',\n",
              "   'vect__analyzer': 'word',\n",
              "   'vect__max_df': 0.75,\n",
              "   'vect__ngram_range': (2, 2)},\n",
              "  {'clf__C': 1.0,\n",
              "   'clf__penalty': 'l1',\n",
              "   'vect__analyzer': 'word',\n",
              "   'vect__max_df': 0.75,\n",
              "   'vect__ngram_range': (3, 3)},\n",
              "  {'clf__C': 1.0,\n",
              "   'clf__penalty': 'l1',\n",
              "   'vect__analyzer': 'word',\n",
              "   'vect__max_df': 1.0,\n",
              "   'vect__ngram_range': (1, 1)},\n",
              "  {'clf__C': 1.0,\n",
              "   'clf__penalty': 'l1',\n",
              "   'vect__analyzer': 'word',\n",
              "   'vect__max_df': 1.0,\n",
              "   'vect__ngram_range': (2, 2)},\n",
              "  {'clf__C': 1.0,\n",
              "   'clf__penalty': 'l1',\n",
              "   'vect__analyzer': 'word',\n",
              "   'vect__max_df': 1.0,\n",
              "   'vect__ngram_range': (3, 3)},\n",
              "  {'clf__C': 1.0,\n",
              "   'clf__penalty': 'l1',\n",
              "   'vect__analyzer': 'char',\n",
              "   'vect__max_df': 0.5,\n",
              "   'vect__ngram_range': (1, 1)},\n",
              "  {'clf__C': 1.0,\n",
              "   'clf__penalty': 'l1',\n",
              "   'vect__analyzer': 'char',\n",
              "   'vect__max_df': 0.5,\n",
              "   'vect__ngram_range': (2, 2)},\n",
              "  {'clf__C': 1.0,\n",
              "   'clf__penalty': 'l1',\n",
              "   'vect__analyzer': 'char',\n",
              "   'vect__max_df': 0.5,\n",
              "   'vect__ngram_range': (3, 3)},\n",
              "  {'clf__C': 1.0,\n",
              "   'clf__penalty': 'l1',\n",
              "   'vect__analyzer': 'char',\n",
              "   'vect__max_df': 0.75,\n",
              "   'vect__ngram_range': (1, 1)},\n",
              "  {'clf__C': 1.0,\n",
              "   'clf__penalty': 'l1',\n",
              "   'vect__analyzer': 'char',\n",
              "   'vect__max_df': 0.75,\n",
              "   'vect__ngram_range': (2, 2)},\n",
              "  {'clf__C': 1.0,\n",
              "   'clf__penalty': 'l1',\n",
              "   'vect__analyzer': 'char',\n",
              "   'vect__max_df': 0.75,\n",
              "   'vect__ngram_range': (3, 3)},\n",
              "  {'clf__C': 1.0,\n",
              "   'clf__penalty': 'l1',\n",
              "   'vect__analyzer': 'char',\n",
              "   'vect__max_df': 1.0,\n",
              "   'vect__ngram_range': (1, 1)},\n",
              "  {'clf__C': 1.0,\n",
              "   'clf__penalty': 'l1',\n",
              "   'vect__analyzer': 'char',\n",
              "   'vect__max_df': 1.0,\n",
              "   'vect__ngram_range': (2, 2)},\n",
              "  {'clf__C': 1.0,\n",
              "   'clf__penalty': 'l1',\n",
              "   'vect__analyzer': 'char',\n",
              "   'vect__max_df': 1.0,\n",
              "   'vect__ngram_range': (3, 3)},\n",
              "  {'clf__C': 1.0,\n",
              "   'clf__penalty': 'l2',\n",
              "   'vect__analyzer': 'word',\n",
              "   'vect__max_df': 0.5,\n",
              "   'vect__ngram_range': (1, 1)},\n",
              "  {'clf__C': 1.0,\n",
              "   'clf__penalty': 'l2',\n",
              "   'vect__analyzer': 'word',\n",
              "   'vect__max_df': 0.5,\n",
              "   'vect__ngram_range': (2, 2)},\n",
              "  {'clf__C': 1.0,\n",
              "   'clf__penalty': 'l2',\n",
              "   'vect__analyzer': 'word',\n",
              "   'vect__max_df': 0.5,\n",
              "   'vect__ngram_range': (3, 3)},\n",
              "  {'clf__C': 1.0,\n",
              "   'clf__penalty': 'l2',\n",
              "   'vect__analyzer': 'word',\n",
              "   'vect__max_df': 0.75,\n",
              "   'vect__ngram_range': (1, 1)},\n",
              "  {'clf__C': 1.0,\n",
              "   'clf__penalty': 'l2',\n",
              "   'vect__analyzer': 'word',\n",
              "   'vect__max_df': 0.75,\n",
              "   'vect__ngram_range': (2, 2)},\n",
              "  {'clf__C': 1.0,\n",
              "   'clf__penalty': 'l2',\n",
              "   'vect__analyzer': 'word',\n",
              "   'vect__max_df': 0.75,\n",
              "   'vect__ngram_range': (3, 3)},\n",
              "  {'clf__C': 1.0,\n",
              "   'clf__penalty': 'l2',\n",
              "   'vect__analyzer': 'word',\n",
              "   'vect__max_df': 1.0,\n",
              "   'vect__ngram_range': (1, 1)},\n",
              "  {'clf__C': 1.0,\n",
              "   'clf__penalty': 'l2',\n",
              "   'vect__analyzer': 'word',\n",
              "   'vect__max_df': 1.0,\n",
              "   'vect__ngram_range': (2, 2)},\n",
              "  {'clf__C': 1.0,\n",
              "   'clf__penalty': 'l2',\n",
              "   'vect__analyzer': 'word',\n",
              "   'vect__max_df': 1.0,\n",
              "   'vect__ngram_range': (3, 3)},\n",
              "  {'clf__C': 1.0,\n",
              "   'clf__penalty': 'l2',\n",
              "   'vect__analyzer': 'char',\n",
              "   'vect__max_df': 0.5,\n",
              "   'vect__ngram_range': (1, 1)},\n",
              "  {'clf__C': 1.0,\n",
              "   'clf__penalty': 'l2',\n",
              "   'vect__analyzer': 'char',\n",
              "   'vect__max_df': 0.5,\n",
              "   'vect__ngram_range': (2, 2)},\n",
              "  {'clf__C': 1.0,\n",
              "   'clf__penalty': 'l2',\n",
              "   'vect__analyzer': 'char',\n",
              "   'vect__max_df': 0.5,\n",
              "   'vect__ngram_range': (3, 3)},\n",
              "  {'clf__C': 1.0,\n",
              "   'clf__penalty': 'l2',\n",
              "   'vect__analyzer': 'char',\n",
              "   'vect__max_df': 0.75,\n",
              "   'vect__ngram_range': (1, 1)},\n",
              "  {'clf__C': 1.0,\n",
              "   'clf__penalty': 'l2',\n",
              "   'vect__analyzer': 'char',\n",
              "   'vect__max_df': 0.75,\n",
              "   'vect__ngram_range': (2, 2)},\n",
              "  {'clf__C': 1.0,\n",
              "   'clf__penalty': 'l2',\n",
              "   'vect__analyzer': 'char',\n",
              "   'vect__max_df': 0.75,\n",
              "   'vect__ngram_range': (3, 3)},\n",
              "  {'clf__C': 1.0,\n",
              "   'clf__penalty': 'l2',\n",
              "   'vect__analyzer': 'char',\n",
              "   'vect__max_df': 1.0,\n",
              "   'vect__ngram_range': (1, 1)},\n",
              "  {'clf__C': 1.0,\n",
              "   'clf__penalty': 'l2',\n",
              "   'vect__analyzer': 'char',\n",
              "   'vect__max_df': 1.0,\n",
              "   'vect__ngram_range': (2, 2)},\n",
              "  {'clf__C': 1.0,\n",
              "   'clf__penalty': 'l2',\n",
              "   'vect__analyzer': 'char',\n",
              "   'vect__max_df': 1.0,\n",
              "   'vect__ngram_range': (3, 3)},\n",
              "  {'clf__C': 10.0,\n",
              "   'clf__penalty': 'l1',\n",
              "   'vect__analyzer': 'word',\n",
              "   'vect__max_df': 0.5,\n",
              "   'vect__ngram_range': (1, 1)},\n",
              "  {'clf__C': 10.0,\n",
              "   'clf__penalty': 'l1',\n",
              "   'vect__analyzer': 'word',\n",
              "   'vect__max_df': 0.5,\n",
              "   'vect__ngram_range': (2, 2)},\n",
              "  {'clf__C': 10.0,\n",
              "   'clf__penalty': 'l1',\n",
              "   'vect__analyzer': 'word',\n",
              "   'vect__max_df': 0.5,\n",
              "   'vect__ngram_range': (3, 3)},\n",
              "  {'clf__C': 10.0,\n",
              "   'clf__penalty': 'l1',\n",
              "   'vect__analyzer': 'word',\n",
              "   'vect__max_df': 0.75,\n",
              "   'vect__ngram_range': (1, 1)},\n",
              "  {'clf__C': 10.0,\n",
              "   'clf__penalty': 'l1',\n",
              "   'vect__analyzer': 'word',\n",
              "   'vect__max_df': 0.75,\n",
              "   'vect__ngram_range': (2, 2)},\n",
              "  {'clf__C': 10.0,\n",
              "   'clf__penalty': 'l1',\n",
              "   'vect__analyzer': 'word',\n",
              "   'vect__max_df': 0.75,\n",
              "   'vect__ngram_range': (3, 3)},\n",
              "  {'clf__C': 10.0,\n",
              "   'clf__penalty': 'l1',\n",
              "   'vect__analyzer': 'word',\n",
              "   'vect__max_df': 1.0,\n",
              "   'vect__ngram_range': (1, 1)},\n",
              "  {'clf__C': 10.0,\n",
              "   'clf__penalty': 'l1',\n",
              "   'vect__analyzer': 'word',\n",
              "   'vect__max_df': 1.0,\n",
              "   'vect__ngram_range': (2, 2)},\n",
              "  {'clf__C': 10.0,\n",
              "   'clf__penalty': 'l1',\n",
              "   'vect__analyzer': 'word',\n",
              "   'vect__max_df': 1.0,\n",
              "   'vect__ngram_range': (3, 3)},\n",
              "  {'clf__C': 10.0,\n",
              "   'clf__penalty': 'l1',\n",
              "   'vect__analyzer': 'char',\n",
              "   'vect__max_df': 0.5,\n",
              "   'vect__ngram_range': (1, 1)},\n",
              "  {'clf__C': 10.0,\n",
              "   'clf__penalty': 'l1',\n",
              "   'vect__analyzer': 'char',\n",
              "   'vect__max_df': 0.5,\n",
              "   'vect__ngram_range': (2, 2)},\n",
              "  {'clf__C': 10.0,\n",
              "   'clf__penalty': 'l1',\n",
              "   'vect__analyzer': 'char',\n",
              "   'vect__max_df': 0.5,\n",
              "   'vect__ngram_range': (3, 3)},\n",
              "  {'clf__C': 10.0,\n",
              "   'clf__penalty': 'l1',\n",
              "   'vect__analyzer': 'char',\n",
              "   'vect__max_df': 0.75,\n",
              "   'vect__ngram_range': (1, 1)},\n",
              "  {'clf__C': 10.0,\n",
              "   'clf__penalty': 'l1',\n",
              "   'vect__analyzer': 'char',\n",
              "   'vect__max_df': 0.75,\n",
              "   'vect__ngram_range': (2, 2)},\n",
              "  {'clf__C': 10.0,\n",
              "   'clf__penalty': 'l1',\n",
              "   'vect__analyzer': 'char',\n",
              "   'vect__max_df': 0.75,\n",
              "   'vect__ngram_range': (3, 3)},\n",
              "  {'clf__C': 10.0,\n",
              "   'clf__penalty': 'l1',\n",
              "   'vect__analyzer': 'char',\n",
              "   'vect__max_df': 1.0,\n",
              "   'vect__ngram_range': (1, 1)},\n",
              "  {'clf__C': 10.0,\n",
              "   'clf__penalty': 'l1',\n",
              "   'vect__analyzer': 'char',\n",
              "   'vect__max_df': 1.0,\n",
              "   'vect__ngram_range': (2, 2)},\n",
              "  {'clf__C': 10.0,\n",
              "   'clf__penalty': 'l1',\n",
              "   'vect__analyzer': 'char',\n",
              "   'vect__max_df': 1.0,\n",
              "   'vect__ngram_range': (3, 3)},\n",
              "  {'clf__C': 10.0,\n",
              "   'clf__penalty': 'l2',\n",
              "   'vect__analyzer': 'word',\n",
              "   'vect__max_df': 0.5,\n",
              "   'vect__ngram_range': (1, 1)},\n",
              "  {'clf__C': 10.0,\n",
              "   'clf__penalty': 'l2',\n",
              "   'vect__analyzer': 'word',\n",
              "   'vect__max_df': 0.5,\n",
              "   'vect__ngram_range': (2, 2)},\n",
              "  {'clf__C': 10.0,\n",
              "   'clf__penalty': 'l2',\n",
              "   'vect__analyzer': 'word',\n",
              "   'vect__max_df': 0.5,\n",
              "   'vect__ngram_range': (3, 3)},\n",
              "  {'clf__C': 10.0,\n",
              "   'clf__penalty': 'l2',\n",
              "   'vect__analyzer': 'word',\n",
              "   'vect__max_df': 0.75,\n",
              "   'vect__ngram_range': (1, 1)},\n",
              "  {'clf__C': 10.0,\n",
              "   'clf__penalty': 'l2',\n",
              "   'vect__analyzer': 'word',\n",
              "   'vect__max_df': 0.75,\n",
              "   'vect__ngram_range': (2, 2)},\n",
              "  {'clf__C': 10.0,\n",
              "   'clf__penalty': 'l2',\n",
              "   'vect__analyzer': 'word',\n",
              "   'vect__max_df': 0.75,\n",
              "   'vect__ngram_range': (3, 3)},\n",
              "  {'clf__C': 10.0,\n",
              "   'clf__penalty': 'l2',\n",
              "   'vect__analyzer': 'word',\n",
              "   'vect__max_df': 1.0,\n",
              "   'vect__ngram_range': (1, 1)},\n",
              "  {'clf__C': 10.0,\n",
              "   'clf__penalty': 'l2',\n",
              "   'vect__analyzer': 'word',\n",
              "   'vect__max_df': 1.0,\n",
              "   'vect__ngram_range': (2, 2)},\n",
              "  {'clf__C': 10.0,\n",
              "   'clf__penalty': 'l2',\n",
              "   'vect__analyzer': 'word',\n",
              "   'vect__max_df': 1.0,\n",
              "   'vect__ngram_range': (3, 3)},\n",
              "  {'clf__C': 10.0,\n",
              "   'clf__penalty': 'l2',\n",
              "   'vect__analyzer': 'char',\n",
              "   'vect__max_df': 0.5,\n",
              "   'vect__ngram_range': (1, 1)},\n",
              "  {'clf__C': 10.0,\n",
              "   'clf__penalty': 'l2',\n",
              "   'vect__analyzer': 'char',\n",
              "   'vect__max_df': 0.5,\n",
              "   'vect__ngram_range': (2, 2)},\n",
              "  {'clf__C': 10.0,\n",
              "   'clf__penalty': 'l2',\n",
              "   'vect__analyzer': 'char',\n",
              "   'vect__max_df': 0.5,\n",
              "   'vect__ngram_range': (3, 3)},\n",
              "  {'clf__C': 10.0,\n",
              "   'clf__penalty': 'l2',\n",
              "   'vect__analyzer': 'char',\n",
              "   'vect__max_df': 0.75,\n",
              "   'vect__ngram_range': (1, 1)},\n",
              "  {'clf__C': 10.0,\n",
              "   'clf__penalty': 'l2',\n",
              "   'vect__analyzer': 'char',\n",
              "   'vect__max_df': 0.75,\n",
              "   'vect__ngram_range': (2, 2)},\n",
              "  {'clf__C': 10.0,\n",
              "   'clf__penalty': 'l2',\n",
              "   'vect__analyzer': 'char',\n",
              "   'vect__max_df': 0.75,\n",
              "   'vect__ngram_range': (3, 3)},\n",
              "  {'clf__C': 10.0,\n",
              "   'clf__penalty': 'l2',\n",
              "   'vect__analyzer': 'char',\n",
              "   'vect__max_df': 1.0,\n",
              "   'vect__ngram_range': (1, 1)},\n",
              "  {'clf__C': 10.0,\n",
              "   'clf__penalty': 'l2',\n",
              "   'vect__analyzer': 'char',\n",
              "   'vect__max_df': 1.0,\n",
              "   'vect__ngram_range': (2, 2)},\n",
              "  {'clf__C': 10.0,\n",
              "   'clf__penalty': 'l2',\n",
              "   'vect__analyzer': 'char',\n",
              "   'vect__max_df': 1.0,\n",
              "   'vect__ngram_range': (3, 3)},\n",
              "  {'clf__C': 100.0,\n",
              "   'clf__penalty': 'l1',\n",
              "   'vect__analyzer': 'word',\n",
              "   'vect__max_df': 0.5,\n",
              "   'vect__ngram_range': (1, 1)},\n",
              "  {'clf__C': 100.0,\n",
              "   'clf__penalty': 'l1',\n",
              "   'vect__analyzer': 'word',\n",
              "   'vect__max_df': 0.5,\n",
              "   'vect__ngram_range': (2, 2)},\n",
              "  {'clf__C': 100.0,\n",
              "   'clf__penalty': 'l1',\n",
              "   'vect__analyzer': 'word',\n",
              "   'vect__max_df': 0.5,\n",
              "   'vect__ngram_range': (3, 3)},\n",
              "  {'clf__C': 100.0,\n",
              "   'clf__penalty': 'l1',\n",
              "   'vect__analyzer': 'word',\n",
              "   'vect__max_df': 0.75,\n",
              "   'vect__ngram_range': (1, 1)},\n",
              "  {'clf__C': 100.0,\n",
              "   'clf__penalty': 'l1',\n",
              "   'vect__analyzer': 'word',\n",
              "   'vect__max_df': 0.75,\n",
              "   'vect__ngram_range': (2, 2)},\n",
              "  {'clf__C': 100.0,\n",
              "   'clf__penalty': 'l1',\n",
              "   'vect__analyzer': 'word',\n",
              "   'vect__max_df': 0.75,\n",
              "   'vect__ngram_range': (3, 3)},\n",
              "  {'clf__C': 100.0,\n",
              "   'clf__penalty': 'l1',\n",
              "   'vect__analyzer': 'word',\n",
              "   'vect__max_df': 1.0,\n",
              "   'vect__ngram_range': (1, 1)},\n",
              "  {'clf__C': 100.0,\n",
              "   'clf__penalty': 'l1',\n",
              "   'vect__analyzer': 'word',\n",
              "   'vect__max_df': 1.0,\n",
              "   'vect__ngram_range': (2, 2)},\n",
              "  {'clf__C': 100.0,\n",
              "   'clf__penalty': 'l1',\n",
              "   'vect__analyzer': 'word',\n",
              "   'vect__max_df': 1.0,\n",
              "   'vect__ngram_range': (3, 3)},\n",
              "  {'clf__C': 100.0,\n",
              "   'clf__penalty': 'l1',\n",
              "   'vect__analyzer': 'char',\n",
              "   'vect__max_df': 0.5,\n",
              "   'vect__ngram_range': (1, 1)},\n",
              "  {'clf__C': 100.0,\n",
              "   'clf__penalty': 'l1',\n",
              "   'vect__analyzer': 'char',\n",
              "   'vect__max_df': 0.5,\n",
              "   'vect__ngram_range': (2, 2)},\n",
              "  {'clf__C': 100.0,\n",
              "   'clf__penalty': 'l1',\n",
              "   'vect__analyzer': 'char',\n",
              "   'vect__max_df': 0.5,\n",
              "   'vect__ngram_range': (3, 3)},\n",
              "  {'clf__C': 100.0,\n",
              "   'clf__penalty': 'l1',\n",
              "   'vect__analyzer': 'char',\n",
              "   'vect__max_df': 0.75,\n",
              "   'vect__ngram_range': (1, 1)},\n",
              "  {'clf__C': 100.0,\n",
              "   'clf__penalty': 'l1',\n",
              "   'vect__analyzer': 'char',\n",
              "   'vect__max_df': 0.75,\n",
              "   'vect__ngram_range': (2, 2)},\n",
              "  {'clf__C': 100.0,\n",
              "   'clf__penalty': 'l1',\n",
              "   'vect__analyzer': 'char',\n",
              "   'vect__max_df': 0.75,\n",
              "   'vect__ngram_range': (3, 3)},\n",
              "  {'clf__C': 100.0,\n",
              "   'clf__penalty': 'l1',\n",
              "   'vect__analyzer': 'char',\n",
              "   'vect__max_df': 1.0,\n",
              "   'vect__ngram_range': (1, 1)},\n",
              "  {'clf__C': 100.0,\n",
              "   'clf__penalty': 'l1',\n",
              "   'vect__analyzer': 'char',\n",
              "   'vect__max_df': 1.0,\n",
              "   'vect__ngram_range': (2, 2)},\n",
              "  {'clf__C': 100.0,\n",
              "   'clf__penalty': 'l1',\n",
              "   'vect__analyzer': 'char',\n",
              "   'vect__max_df': 1.0,\n",
              "   'vect__ngram_range': (3, 3)},\n",
              "  {'clf__C': 100.0,\n",
              "   'clf__penalty': 'l2',\n",
              "   'vect__analyzer': 'word',\n",
              "   'vect__max_df': 0.5,\n",
              "   'vect__ngram_range': (1, 1)},\n",
              "  {'clf__C': 100.0,\n",
              "   'clf__penalty': 'l2',\n",
              "   'vect__analyzer': 'word',\n",
              "   'vect__max_df': 0.5,\n",
              "   'vect__ngram_range': (2, 2)},\n",
              "  {'clf__C': 100.0,\n",
              "   'clf__penalty': 'l2',\n",
              "   'vect__analyzer': 'word',\n",
              "   'vect__max_df': 0.5,\n",
              "   'vect__ngram_range': (3, 3)},\n",
              "  {'clf__C': 100.0,\n",
              "   'clf__penalty': 'l2',\n",
              "   'vect__analyzer': 'word',\n",
              "   'vect__max_df': 0.75,\n",
              "   'vect__ngram_range': (1, 1)},\n",
              "  {'clf__C': 100.0,\n",
              "   'clf__penalty': 'l2',\n",
              "   'vect__analyzer': 'word',\n",
              "   'vect__max_df': 0.75,\n",
              "   'vect__ngram_range': (2, 2)},\n",
              "  {'clf__C': 100.0,\n",
              "   'clf__penalty': 'l2',\n",
              "   'vect__analyzer': 'word',\n",
              "   'vect__max_df': 0.75,\n",
              "   'vect__ngram_range': (3, 3)},\n",
              "  {'clf__C': 100.0,\n",
              "   'clf__penalty': 'l2',\n",
              "   'vect__analyzer': 'word',\n",
              "   'vect__max_df': 1.0,\n",
              "   'vect__ngram_range': (1, 1)},\n",
              "  {'clf__C': 100.0,\n",
              "   'clf__penalty': 'l2',\n",
              "   'vect__analyzer': 'word',\n",
              "   'vect__max_df': 1.0,\n",
              "   'vect__ngram_range': (2, 2)},\n",
              "  {'clf__C': 100.0,\n",
              "   'clf__penalty': 'l2',\n",
              "   'vect__analyzer': 'word',\n",
              "   'vect__max_df': 1.0,\n",
              "   'vect__ngram_range': (3, 3)},\n",
              "  {'clf__C': 100.0,\n",
              "   'clf__penalty': 'l2',\n",
              "   'vect__analyzer': 'char',\n",
              "   'vect__max_df': 0.5,\n",
              "   'vect__ngram_range': (1, 1)},\n",
              "  {'clf__C': 100.0,\n",
              "   'clf__penalty': 'l2',\n",
              "   'vect__analyzer': 'char',\n",
              "   'vect__max_df': 0.5,\n",
              "   'vect__ngram_range': (2, 2)},\n",
              "  {'clf__C': 100.0,\n",
              "   'clf__penalty': 'l2',\n",
              "   'vect__analyzer': 'char',\n",
              "   'vect__max_df': 0.5,\n",
              "   'vect__ngram_range': (3, 3)},\n",
              "  {'clf__C': 100.0,\n",
              "   'clf__penalty': 'l2',\n",
              "   'vect__analyzer': 'char',\n",
              "   'vect__max_df': 0.75,\n",
              "   'vect__ngram_range': (1, 1)},\n",
              "  {'clf__C': 100.0,\n",
              "   'clf__penalty': 'l2',\n",
              "   'vect__analyzer': 'char',\n",
              "   'vect__max_df': 0.75,\n",
              "   'vect__ngram_range': (2, 2)},\n",
              "  {'clf__C': 100.0,\n",
              "   'clf__penalty': 'l2',\n",
              "   'vect__analyzer': 'char',\n",
              "   'vect__max_df': 0.75,\n",
              "   'vect__ngram_range': (3, 3)},\n",
              "  {'clf__C': 100.0,\n",
              "   'clf__penalty': 'l2',\n",
              "   'vect__analyzer': 'char',\n",
              "   'vect__max_df': 1.0,\n",
              "   'vect__ngram_range': (1, 1)},\n",
              "  {'clf__C': 100.0,\n",
              "   'clf__penalty': 'l2',\n",
              "   'vect__analyzer': 'char',\n",
              "   'vect__max_df': 1.0,\n",
              "   'vect__ngram_range': (2, 2)},\n",
              "  {'clf__C': 100.0,\n",
              "   'clf__penalty': 'l2',\n",
              "   'vect__analyzer': 'char',\n",
              "   'vect__max_df': 1.0,\n",
              "   'vect__ngram_range': (3, 3)},\n",
              "  {'clf__C': 1000.0,\n",
              "   'clf__penalty': 'l1',\n",
              "   'vect__analyzer': 'word',\n",
              "   'vect__max_df': 0.5,\n",
              "   'vect__ngram_range': (1, 1)},\n",
              "  {'clf__C': 1000.0,\n",
              "   'clf__penalty': 'l1',\n",
              "   'vect__analyzer': 'word',\n",
              "   'vect__max_df': 0.5,\n",
              "   'vect__ngram_range': (2, 2)},\n",
              "  {'clf__C': 1000.0,\n",
              "   'clf__penalty': 'l1',\n",
              "   'vect__analyzer': 'word',\n",
              "   'vect__max_df': 0.5,\n",
              "   'vect__ngram_range': (3, 3)},\n",
              "  {'clf__C': 1000.0,\n",
              "   'clf__penalty': 'l1',\n",
              "   'vect__analyzer': 'word',\n",
              "   'vect__max_df': 0.75,\n",
              "   'vect__ngram_range': (1, 1)},\n",
              "  {'clf__C': 1000.0,\n",
              "   'clf__penalty': 'l1',\n",
              "   'vect__analyzer': 'word',\n",
              "   'vect__max_df': 0.75,\n",
              "   'vect__ngram_range': (2, 2)},\n",
              "  {'clf__C': 1000.0,\n",
              "   'clf__penalty': 'l1',\n",
              "   'vect__analyzer': 'word',\n",
              "   'vect__max_df': 0.75,\n",
              "   'vect__ngram_range': (3, 3)},\n",
              "  {'clf__C': 1000.0,\n",
              "   'clf__penalty': 'l1',\n",
              "   'vect__analyzer': 'word',\n",
              "   'vect__max_df': 1.0,\n",
              "   'vect__ngram_range': (1, 1)},\n",
              "  {'clf__C': 1000.0,\n",
              "   'clf__penalty': 'l1',\n",
              "   'vect__analyzer': 'word',\n",
              "   'vect__max_df': 1.0,\n",
              "   'vect__ngram_range': (2, 2)},\n",
              "  {'clf__C': 1000.0,\n",
              "   'clf__penalty': 'l1',\n",
              "   'vect__analyzer': 'word',\n",
              "   'vect__max_df': 1.0,\n",
              "   'vect__ngram_range': (3, 3)},\n",
              "  {'clf__C': 1000.0,\n",
              "   'clf__penalty': 'l1',\n",
              "   'vect__analyzer': 'char',\n",
              "   'vect__max_df': 0.5,\n",
              "   'vect__ngram_range': (1, 1)},\n",
              "  {'clf__C': 1000.0,\n",
              "   'clf__penalty': 'l1',\n",
              "   'vect__analyzer': 'char',\n",
              "   'vect__max_df': 0.5,\n",
              "   'vect__ngram_range': (2, 2)},\n",
              "  {'clf__C': 1000.0,\n",
              "   'clf__penalty': 'l1',\n",
              "   'vect__analyzer': 'char',\n",
              "   'vect__max_df': 0.5,\n",
              "   'vect__ngram_range': (3, 3)},\n",
              "  {'clf__C': 1000.0,\n",
              "   'clf__penalty': 'l1',\n",
              "   'vect__analyzer': 'char',\n",
              "   'vect__max_df': 0.75,\n",
              "   'vect__ngram_range': (1, 1)},\n",
              "  {'clf__C': 1000.0,\n",
              "   'clf__penalty': 'l1',\n",
              "   'vect__analyzer': 'char',\n",
              "   'vect__max_df': 0.75,\n",
              "   'vect__ngram_range': (2, 2)},\n",
              "  {'clf__C': 1000.0,\n",
              "   'clf__penalty': 'l1',\n",
              "   'vect__analyzer': 'char',\n",
              "   'vect__max_df': 0.75,\n",
              "   'vect__ngram_range': (3, 3)},\n",
              "  {'clf__C': 1000.0,\n",
              "   'clf__penalty': 'l1',\n",
              "   'vect__analyzer': 'char',\n",
              "   'vect__max_df': 1.0,\n",
              "   'vect__ngram_range': (1, 1)},\n",
              "  {'clf__C': 1000.0,\n",
              "   'clf__penalty': 'l1',\n",
              "   'vect__analyzer': 'char',\n",
              "   'vect__max_df': 1.0,\n",
              "   'vect__ngram_range': (2, 2)},\n",
              "  {'clf__C': 1000.0,\n",
              "   'clf__penalty': 'l1',\n",
              "   'vect__analyzer': 'char',\n",
              "   'vect__max_df': 1.0,\n",
              "   'vect__ngram_range': (3, 3)},\n",
              "  {'clf__C': 1000.0,\n",
              "   'clf__penalty': 'l2',\n",
              "   'vect__analyzer': 'word',\n",
              "   'vect__max_df': 0.5,\n",
              "   'vect__ngram_range': (1, 1)},\n",
              "  {'clf__C': 1000.0,\n",
              "   'clf__penalty': 'l2',\n",
              "   'vect__analyzer': 'word',\n",
              "   'vect__max_df': 0.5,\n",
              "   'vect__ngram_range': (2, 2)},\n",
              "  {'clf__C': 1000.0,\n",
              "   'clf__penalty': 'l2',\n",
              "   'vect__analyzer': 'word',\n",
              "   'vect__max_df': 0.5,\n",
              "   'vect__ngram_range': (3, 3)},\n",
              "  {'clf__C': 1000.0,\n",
              "   'clf__penalty': 'l2',\n",
              "   'vect__analyzer': 'word',\n",
              "   'vect__max_df': 0.75,\n",
              "   'vect__ngram_range': (1, 1)},\n",
              "  {'clf__C': 1000.0,\n",
              "   'clf__penalty': 'l2',\n",
              "   'vect__analyzer': 'word',\n",
              "   'vect__max_df': 0.75,\n",
              "   'vect__ngram_range': (2, 2)},\n",
              "  {'clf__C': 1000.0,\n",
              "   'clf__penalty': 'l2',\n",
              "   'vect__analyzer': 'word',\n",
              "   'vect__max_df': 0.75,\n",
              "   'vect__ngram_range': (3, 3)},\n",
              "  {'clf__C': 1000.0,\n",
              "   'clf__penalty': 'l2',\n",
              "   'vect__analyzer': 'word',\n",
              "   'vect__max_df': 1.0,\n",
              "   'vect__ngram_range': (1, 1)},\n",
              "  {'clf__C': 1000.0,\n",
              "   'clf__penalty': 'l2',\n",
              "   'vect__analyzer': 'word',\n",
              "   'vect__max_df': 1.0,\n",
              "   'vect__ngram_range': (2, 2)},\n",
              "  {'clf__C': 1000.0,\n",
              "   'clf__penalty': 'l2',\n",
              "   'vect__analyzer': 'word',\n",
              "   'vect__max_df': 1.0,\n",
              "   'vect__ngram_range': (3, 3)},\n",
              "  {'clf__C': 1000.0,\n",
              "   'clf__penalty': 'l2',\n",
              "   'vect__analyzer': 'char',\n",
              "   'vect__max_df': 0.5,\n",
              "   'vect__ngram_range': (1, 1)},\n",
              "  {'clf__C': 1000.0,\n",
              "   'clf__penalty': 'l2',\n",
              "   'vect__analyzer': 'char',\n",
              "   'vect__max_df': 0.5,\n",
              "   'vect__ngram_range': (2, 2)},\n",
              "  {'clf__C': 1000.0,\n",
              "   'clf__penalty': 'l2',\n",
              "   'vect__analyzer': 'char',\n",
              "   'vect__max_df': 0.5,\n",
              "   'vect__ngram_range': (3, 3)},\n",
              "  {'clf__C': 1000.0,\n",
              "   'clf__penalty': 'l2',\n",
              "   'vect__analyzer': 'char',\n",
              "   'vect__max_df': 0.75,\n",
              "   'vect__ngram_range': (1, 1)},\n",
              "  {'clf__C': 1000.0,\n",
              "   'clf__penalty': 'l2',\n",
              "   'vect__analyzer': 'char',\n",
              "   'vect__max_df': 0.75,\n",
              "   'vect__ngram_range': (2, 2)},\n",
              "  {'clf__C': 1000.0,\n",
              "   'clf__penalty': 'l2',\n",
              "   'vect__analyzer': 'char',\n",
              "   'vect__max_df': 0.75,\n",
              "   'vect__ngram_range': (3, 3)},\n",
              "  {'clf__C': 1000.0,\n",
              "   'clf__penalty': 'l2',\n",
              "   'vect__analyzer': 'char',\n",
              "   'vect__max_df': 1.0,\n",
              "   'vect__ngram_range': (1, 1)},\n",
              "  {'clf__C': 1000.0,\n",
              "   'clf__penalty': 'l2',\n",
              "   'vect__analyzer': 'char',\n",
              "   'vect__max_df': 1.0,\n",
              "   'vect__ngram_range': (2, 2)},\n",
              "  {'clf__C': 1000.0,\n",
              "   'clf__penalty': 'l2',\n",
              "   'vect__analyzer': 'char',\n",
              "   'vect__max_df': 1.0,\n",
              "   'vect__ngram_range': (3, 3)}],\n",
              " 'split0_test_accuracy': array([       nan,        nan,        nan,        nan,        nan,\n",
              "               nan,        nan,        nan,        nan,        nan,\n",
              "               nan,        nan,        nan,        nan,        nan,\n",
              "               nan,        nan,        nan, 0.90971429, 0.83257143,\n",
              "        0.64171429, 0.912     , 0.83257143, 0.64171429, 0.90742857,\n",
              "        0.83257143, 0.64171429, 0.508     , 0.85314286, 0.92285714,\n",
              "        0.53428571, 0.87028571, 0.91942857, 0.70742857, 0.88057143,\n",
              "        0.91657143,        nan,        nan,        nan,        nan,\n",
              "               nan,        nan,        nan,        nan,        nan,\n",
              "               nan,        nan,        nan,        nan,        nan,\n",
              "               nan,        nan,        nan,        nan, 0.93314286,\n",
              "        0.90057143, 0.80342857, 0.93028571, 0.90057143, 0.80342857,\n",
              "        0.92914286, 0.90057143, 0.80342857, 0.508     , 0.86457143,\n",
              "        0.92285714, 0.53771429, 0.88342857, 0.92514286, 0.70342857,\n",
              "        0.89085714, 0.92228571,        nan,        nan,        nan,\n",
              "               nan,        nan,        nan,        nan,        nan,\n",
              "               nan,        nan,        nan,        nan,        nan,\n",
              "               nan,        nan,        nan,        nan,        nan,\n",
              "        0.93542857, 0.91142857, 0.84      , 0.93371429, 0.91142857,\n",
              "        0.84      , 0.93314286, 0.91142857, 0.84      , 0.508     ,\n",
              "        0.86571429, 0.91657143, 0.53485714, 0.88228571, 0.91942857,\n",
              "        0.69942857, 0.88457143, 0.91257143,        nan,        nan,\n",
              "               nan,        nan,        nan,        nan,        nan,\n",
              "               nan,        nan,        nan,        nan,        nan,\n",
              "               nan,        nan,        nan,        nan,        nan,\n",
              "               nan, 0.93142857, 0.91314286, 0.836     , 0.928     ,\n",
              "        0.91314286, 0.836     , 0.92914286, 0.91314286, 0.836     ,\n",
              "        0.508     , 0.86171429, 0.91142857, 0.53371429, 0.868     ,\n",
              "        0.90914286, 0.70114286, 0.88571429, 0.90571429,        nan,\n",
              "               nan,        nan,        nan,        nan,        nan,\n",
              "               nan,        nan,        nan,        nan,        nan,\n",
              "               nan,        nan,        nan,        nan,        nan,\n",
              "               nan,        nan, 0.92742857, 0.912     , 0.83028571,\n",
              "        0.92285714, 0.912     , 0.83028571, 0.92228571, 0.912     ,\n",
              "        0.83028571, 0.508     , 0.85542857, 0.908     , 0.53371429,\n",
              "        0.86171429, 0.90342857, 0.70114286, 0.88685714, 0.90342857,\n",
              "               nan,        nan,        nan,        nan,        nan,\n",
              "               nan,        nan,        nan,        nan,        nan,\n",
              "               nan,        nan,        nan,        nan,        nan,\n",
              "               nan,        nan,        nan, 0.92457143, 0.91142857,\n",
              "        0.82685714, 0.92457143, 0.91142857, 0.82685714, 0.92342857,\n",
              "        0.91142857, 0.82685714, 0.508     , 0.85714286, 0.904     ,\n",
              "        0.53371429, 0.86342857, 0.90342857, 0.70285714, 0.88057143,\n",
              "        0.90628571,        nan,        nan,        nan,        nan,\n",
              "               nan,        nan,        nan,        nan,        nan,\n",
              "               nan,        nan,        nan,        nan,        nan,\n",
              "               nan,        nan,        nan,        nan, 0.92228571,\n",
              "        0.91142857, 0.82285714, 0.92285714, 0.91142857, 0.82285714,\n",
              "        0.92228571, 0.91142857, 0.82285714, 0.508     , 0.85714286,\n",
              "        0.90171429, 0.53371429, 0.86228571, 0.90228571, 0.70228571,\n",
              "        0.88285714, 0.90628571]),\n",
              " 'split1_test_accuracy': array([       nan,        nan,        nan,        nan,        nan,\n",
              "               nan,        nan,        nan,        nan,        nan,\n",
              "               nan,        nan,        nan,        nan,        nan,\n",
              "               nan,        nan,        nan, 0.908     , 0.80857143,\n",
              "        0.64228571, 0.91485714, 0.80857143, 0.64228571, 0.91428571,\n",
              "        0.80857143, 0.64228571, 0.51314286, 0.87542857, 0.93085714,\n",
              "        0.54      , 0.87942857, 0.93828571, 0.72742857, 0.896     ,\n",
              "        0.93142857,        nan,        nan,        nan,        nan,\n",
              "               nan,        nan,        nan,        nan,        nan,\n",
              "               nan,        nan,        nan,        nan,        nan,\n",
              "               nan,        nan,        nan,        nan, 0.94457143,\n",
              "        0.88342857, 0.78914286, 0.94571429, 0.88342857, 0.78914286,\n",
              "        0.94171429, 0.88342857, 0.78914286, 0.51314286, 0.88971429,\n",
              "        0.93942857, 0.53714286, 0.9       , 0.94171429, 0.72857143,\n",
              "        0.90685714, 0.93771429,        nan,        nan,        nan,\n",
              "               nan,        nan,        nan,        nan,        nan,\n",
              "               nan,        nan,        nan,        nan,        nan,\n",
              "               nan,        nan,        nan,        nan,        nan,\n",
              "        0.948     , 0.91371429, 0.83942857, 0.94742857, 0.91371429,\n",
              "        0.83942857, 0.94571429, 0.91371429, 0.83942857, 0.51314286,\n",
              "        0.89314286, 0.93314286, 0.53828571, 0.89771429, 0.92914286,\n",
              "        0.72857143, 0.90685714, 0.93142857,        nan,        nan,\n",
              "               nan,        nan,        nan,        nan,        nan,\n",
              "               nan,        nan,        nan,        nan,        nan,\n",
              "               nan,        nan,        nan,        nan,        nan,\n",
              "               nan, 0.94342857, 0.91371429, 0.84342857, 0.94285714,\n",
              "        0.91371429, 0.84342857, 0.94228571, 0.91371429, 0.84342857,\n",
              "        0.51314286, 0.88571429, 0.92057143, 0.53828571, 0.88457143,\n",
              "        0.92628571, 0.728     , 0.90114286, 0.92457143,        nan,\n",
              "               nan,        nan,        nan,        nan,        nan,\n",
              "               nan,        nan,        nan,        nan,        nan,\n",
              "               nan,        nan,        nan,        nan,        nan,\n",
              "               nan,        nan, 0.93771429, 0.91714286, 0.844     ,\n",
              "        0.93942857, 0.91714286, 0.844     , 0.93828571, 0.91714286,\n",
              "        0.844     , 0.51314286, 0.87371429, 0.91885714, 0.53828571,\n",
              "        0.88171429, 0.92171429, 0.73028571, 0.9       , 0.91828571,\n",
              "               nan,        nan,        nan,        nan,        nan,\n",
              "               nan,        nan,        nan,        nan,        nan,\n",
              "               nan,        nan,        nan,        nan,        nan,\n",
              "               nan,        nan,        nan, 0.93657143, 0.91657143,\n",
              "        0.84057143, 0.93485714, 0.91657143, 0.84057143, 0.93657143,\n",
              "        0.91657143, 0.84057143, 0.51314286, 0.87314286, 0.91657143,\n",
              "        0.53828571, 0.87542857, 0.92285714, 0.72742857, 0.90685714,\n",
              "        0.91542857,        nan,        nan,        nan,        nan,\n",
              "               nan,        nan,        nan,        nan,        nan,\n",
              "               nan,        nan,        nan,        nan,        nan,\n",
              "               nan,        nan,        nan,        nan, 0.93542857,\n",
              "        0.91657143, 0.84114286, 0.936     , 0.91657143, 0.84114286,\n",
              "        0.93485714, 0.91657143, 0.84114286, 0.51314286, 0.86857143,\n",
              "        0.91542857, 0.53828571, 0.87657143, 0.92114286, 0.728     ,\n",
              "        0.90342857, 0.916     ]),\n",
              " 'split2_test_accuracy': array([       nan,        nan,        nan,        nan,        nan,\n",
              "               nan,        nan,        nan,        nan,        nan,\n",
              "               nan,        nan,        nan,        nan,        nan,\n",
              "               nan,        nan,        nan, 0.89771429, 0.804     ,\n",
              "        0.632     , 0.89885714, 0.804     , 0.632     , 0.89828571,\n",
              "        0.804     , 0.632     , 0.50342857, 0.85371429, 0.92228571,\n",
              "        0.53142857, 0.87028571, 0.924     , 0.72114286, 0.88857143,\n",
              "        0.92342857,        nan,        nan,        nan,        nan,\n",
              "               nan,        nan,        nan,        nan,        nan,\n",
              "               nan,        nan,        nan,        nan,        nan,\n",
              "               nan,        nan,        nan,        nan, 0.93085714,\n",
              "        0.88171429, 0.77371429, 0.928     , 0.88171429, 0.77371429,\n",
              "        0.92457143, 0.88171429, 0.77371429, 0.50342857, 0.86057143,\n",
              "        0.92971429, 0.516     , 0.88285714, 0.92628571, 0.72171429,\n",
              "        0.89828571, 0.92685714,        nan,        nan,        nan,\n",
              "               nan,        nan,        nan,        nan,        nan,\n",
              "               nan,        nan,        nan,        nan,        nan,\n",
              "               nan,        nan,        nan,        nan,        nan,\n",
              "        0.93371429, 0.90571429, 0.832     , 0.932     , 0.90571429,\n",
              "        0.832     , 0.93085714, 0.90571429, 0.832     , 0.50342857,\n",
              "        0.85485714, 0.92114286, 0.51771429, 0.88057143, 0.91714286,\n",
              "        0.72457143, 0.88857143, 0.91828571,        nan,        nan,\n",
              "               nan,        nan,        nan,        nan,        nan,\n",
              "               nan,        nan,        nan,        nan,        nan,\n",
              "               nan,        nan,        nan,        nan,        nan,\n",
              "               nan, 0.93485714, 0.91085714, 0.83314286, 0.93257143,\n",
              "        0.91085714, 0.83314286, 0.93314286, 0.91085714, 0.83314286,\n",
              "        0.50342857, 0.85028571, 0.91142857, 0.51771429, 0.87485714,\n",
              "        0.90628571, 0.72342857, 0.88685714, 0.90342857,        nan,\n",
              "               nan,        nan,        nan,        nan,        nan,\n",
              "               nan,        nan,        nan,        nan,        nan,\n",
              "               nan,        nan,        nan,        nan,        nan,\n",
              "               nan,        nan, 0.93314286, 0.91142857, 0.83542857,\n",
              "        0.93085714, 0.91142857, 0.83542857, 0.93085714, 0.91142857,\n",
              "        0.83542857, 0.50342857, 0.84685714, 0.908     , 0.51771429,\n",
              "        0.86971429, 0.90285714, 0.72514286, 0.88571429, 0.90285714,\n",
              "               nan,        nan,        nan,        nan,        nan,\n",
              "               nan,        nan,        nan,        nan,        nan,\n",
              "               nan,        nan,        nan,        nan,        nan,\n",
              "               nan,        nan,        nan, 0.92857143, 0.91142857,\n",
              "        0.83371429, 0.928     , 0.91142857, 0.83371429, 0.92857143,\n",
              "        0.91142857, 0.83371429, 0.50342857, 0.84685714, 0.904     ,\n",
              "        0.51771429, 0.87314286, 0.90114286, 0.72514286, 0.88857143,\n",
              "        0.90171429,        nan,        nan,        nan,        nan,\n",
              "               nan,        nan,        nan,        nan,        nan,\n",
              "               nan,        nan,        nan,        nan,        nan,\n",
              "               nan,        nan,        nan,        nan, 0.92628571,\n",
              "        0.90971429, 0.83142857, 0.928     , 0.90971429, 0.83142857,\n",
              "        0.92857143, 0.90971429, 0.83142857, 0.50342857, 0.844     ,\n",
              "        0.90285714, 0.51771429, 0.87257143, 0.90285714, 0.72514286,\n",
              "        0.88628571, 0.904     ]),\n",
              " 'split3_test_accuracy': array([       nan,        nan,        nan,        nan,        nan,\n",
              "               nan,        nan,        nan,        nan,        nan,\n",
              "               nan,        nan,        nan,        nan,        nan,\n",
              "               nan,        nan,        nan, 0.91428571, 0.80342857,\n",
              "        0.64      , 0.91257143, 0.80342857, 0.64      , 0.912     ,\n",
              "        0.80342857, 0.64      , 0.52571429, 0.86285714, 0.93714286,\n",
              "        0.53371429, 0.88285714, 0.928     , 0.73028571, 0.89542857,\n",
              "        0.92685714,        nan,        nan,        nan,        nan,\n",
              "               nan,        nan,        nan,        nan,        nan,\n",
              "               nan,        nan,        nan,        nan,        nan,\n",
              "               nan,        nan,        nan,        nan, 0.94285714,\n",
              "        0.88114286, 0.78914286, 0.94      , 0.88114286, 0.78914286,\n",
              "        0.936     , 0.88114286, 0.78914286, 0.52571429, 0.87942857,\n",
              "        0.93657143, 0.53657143, 0.89657143, 0.92914286, 0.73028571,\n",
              "        0.90228571, 0.93028571,        nan,        nan,        nan,\n",
              "               nan,        nan,        nan,        nan,        nan,\n",
              "               nan,        nan,        nan,        nan,        nan,\n",
              "               nan,        nan,        nan,        nan,        nan,\n",
              "        0.94514286, 0.90742857, 0.83485714, 0.94742857, 0.90742857,\n",
              "        0.83485714, 0.94742857, 0.90742857, 0.83485714, 0.52571429,\n",
              "        0.88742857, 0.92342857, 0.53885714, 0.89428571, 0.92057143,\n",
              "        0.73085714, 0.89771429, 0.92      ,        nan,        nan,\n",
              "               nan,        nan,        nan,        nan,        nan,\n",
              "               nan,        nan,        nan,        nan,        nan,\n",
              "               nan,        nan,        nan,        nan,        nan,\n",
              "               nan, 0.94228571, 0.91542857, 0.82      , 0.944     ,\n",
              "        0.91542857, 0.82      , 0.94571429, 0.91542857, 0.82      ,\n",
              "        0.52571429, 0.87714286, 0.91714286, 0.54      , 0.88171429,\n",
              "        0.91028571, 0.73085714, 0.89942857, 0.91371429,        nan,\n",
              "               nan,        nan,        nan,        nan,        nan,\n",
              "               nan,        nan,        nan,        nan,        nan,\n",
              "               nan,        nan,        nan,        nan,        nan,\n",
              "               nan,        nan, 0.94057143, 0.916     , 0.824     ,\n",
              "        0.94057143, 0.916     , 0.824     , 0.94      , 0.916     ,\n",
              "        0.824     , 0.52571429, 0.87142857, 0.91371429, 0.54      ,\n",
              "        0.876     , 0.908     , 0.72971429, 0.89428571, 0.91485714,\n",
              "               nan,        nan,        nan,        nan,        nan,\n",
              "               nan,        nan,        nan,        nan,        nan,\n",
              "               nan,        nan,        nan,        nan,        nan,\n",
              "               nan,        nan,        nan, 0.93942857, 0.91314286,\n",
              "        0.82285714, 0.93942857, 0.91314286, 0.82285714, 0.93942857,\n",
              "        0.91314286, 0.82285714, 0.52571429, 0.868     , 0.912     ,\n",
              "        0.54      , 0.87542857, 0.90857143, 0.72971429, 0.89542857,\n",
              "        0.91371429,        nan,        nan,        nan,        nan,\n",
              "               nan,        nan,        nan,        nan,        nan,\n",
              "               nan,        nan,        nan,        nan,        nan,\n",
              "               nan,        nan,        nan,        nan, 0.93885714,\n",
              "        0.91371429, 0.82228571, 0.93771429, 0.91371429, 0.82228571,\n",
              "        0.94      , 0.91371429, 0.82228571, 0.52571429, 0.87142857,\n",
              "        0.90857143, 0.54      , 0.87485714, 0.90514286, 0.72914286,\n",
              "        0.89657143, 0.916     ]),\n",
              " 'mean_test_accuracy': array([       nan,        nan,        nan,        nan,        nan,\n",
              "               nan,        nan,        nan,        nan,        nan,\n",
              "               nan,        nan,        nan,        nan,        nan,\n",
              "               nan,        nan,        nan, 0.90742857, 0.81214286,\n",
              "        0.639     , 0.90957143, 0.81214286, 0.639     , 0.908     ,\n",
              "        0.81214286, 0.639     , 0.51257143, 0.86128571, 0.92828571,\n",
              "        0.53485714, 0.87571429, 0.92742857, 0.72157143, 0.89014286,\n",
              "        0.92457143,        nan,        nan,        nan,        nan,\n",
              "               nan,        nan,        nan,        nan,        nan,\n",
              "               nan,        nan,        nan,        nan,        nan,\n",
              "               nan,        nan,        nan,        nan, 0.93785714,\n",
              "        0.88671429, 0.78885714, 0.936     , 0.88671429, 0.78885714,\n",
              "        0.93285714, 0.88671429, 0.78885714, 0.51257143, 0.87357143,\n",
              "        0.93214286, 0.53185714, 0.89071429, 0.93057143, 0.721     ,\n",
              "        0.89957143, 0.92928571,        nan,        nan,        nan,\n",
              "               nan,        nan,        nan,        nan,        nan,\n",
              "               nan,        nan,        nan,        nan,        nan,\n",
              "               nan,        nan,        nan,        nan,        nan,\n",
              "        0.94057143, 0.90957143, 0.83657143, 0.94014286, 0.90957143,\n",
              "        0.83657143, 0.93928571, 0.90957143, 0.83657143, 0.51257143,\n",
              "        0.87528571, 0.92357143, 0.53242857, 0.88871429, 0.92157143,\n",
              "        0.72085714, 0.89442857, 0.92057143,        nan,        nan,\n",
              "               nan,        nan,        nan,        nan,        nan,\n",
              "               nan,        nan,        nan,        nan,        nan,\n",
              "               nan,        nan,        nan,        nan,        nan,\n",
              "               nan, 0.938     , 0.91328571, 0.83314286, 0.93685714,\n",
              "        0.91328571, 0.83314286, 0.93757143, 0.91328571, 0.83314286,\n",
              "        0.51257143, 0.86871429, 0.91514286, 0.53242857, 0.87728571,\n",
              "        0.913     , 0.72085714, 0.89328571, 0.91185714,        nan,\n",
              "               nan,        nan,        nan,        nan,        nan,\n",
              "               nan,        nan,        nan,        nan,        nan,\n",
              "               nan,        nan,        nan,        nan,        nan,\n",
              "               nan,        nan, 0.93471429, 0.91414286, 0.83342857,\n",
              "        0.93342857, 0.91414286, 0.83342857, 0.93285714, 0.91414286,\n",
              "        0.83342857, 0.51257143, 0.86185714, 0.91214286, 0.53242857,\n",
              "        0.87228571, 0.909     , 0.72157143, 0.89171429, 0.90985714,\n",
              "               nan,        nan,        nan,        nan,        nan,\n",
              "               nan,        nan,        nan,        nan,        nan,\n",
              "               nan,        nan,        nan,        nan,        nan,\n",
              "               nan,        nan,        nan, 0.93228571, 0.91314286,\n",
              "        0.831     , 0.93171429, 0.91314286, 0.831     , 0.932     ,\n",
              "        0.91314286, 0.831     , 0.51257143, 0.86128571, 0.90914286,\n",
              "        0.53242857, 0.87185714, 0.909     , 0.72128571, 0.89285714,\n",
              "        0.90928571,        nan,        nan,        nan,        nan,\n",
              "               nan,        nan,        nan,        nan,        nan,\n",
              "               nan,        nan,        nan,        nan,        nan,\n",
              "               nan,        nan,        nan,        nan, 0.93071429,\n",
              "        0.91285714, 0.82942857, 0.93114286, 0.91285714, 0.82942857,\n",
              "        0.93142857, 0.91285714, 0.82942857, 0.51257143, 0.86028571,\n",
              "        0.90714286, 0.53242857, 0.87157143, 0.90785714, 0.72114286,\n",
              "        0.89228571, 0.91057143]),\n",
              " 'std_test_accuracy': array([       nan,        nan,        nan,        nan,        nan,\n",
              "               nan,        nan,        nan,        nan,        nan,\n",
              "               nan,        nan,        nan,        nan,        nan,\n",
              "               nan,        nan,        nan, 0.00606092, 0.01196167,\n",
              "        0.00412805, 0.00627759, 0.01196167, 0.00412805, 0.00612789,\n",
              "        0.01196167, 0.00412805, 0.00832993, 0.00902943, 0.00613455,\n",
              "        0.00315582, 0.00556226, 0.00696346, 0.00880978, 0.00625153,\n",
              "        0.00542105,        nan,        nan,        nan,        nan,\n",
              "               nan,        nan,        nan,        nan,        nan,\n",
              "               nan,        nan,        nan,        nan,        nan,\n",
              "               nan,        nan,        nan,        nan, 0.00594361,\n",
              "        0.00804452, 0.01050947, 0.0071941 , 0.00804452, 0.01050947,\n",
              "        0.00653406, 0.00804452, 0.01050947, 0.00832993, 0.01167152,\n",
              "        0.00641904, 0.00916404, 0.00767051, 0.00659623, 0.01063974,\n",
              "        0.00587454, 0.00563336,        nan,        nan,        nan,\n",
              "               nan,        nan,        nan,        nan,        nan,\n",
              "               nan,        nan,        nan,        nan,        nan,\n",
              "               nan,        nan,        nan,        nan,        nan,\n",
              "        0.00611455, 0.0031655 , 0.00330738, 0.00731088, 0.0031655 ,\n",
              "        0.00330738, 0.00735541, 0.0031655 , 0.00330738, 0.00832993,\n",
              "        0.01561462, 0.00605249, 0.00863193, 0.00741069, 0.00454232,\n",
              "        0.01257467, 0.00861299, 0.00684523,        nan,        nan,\n",
              "               nan,        nan,        nan,        nan,        nan,\n",
              "               nan,        nan,        nan,        nan,        nan,\n",
              "               nan,        nan,        nan,        nan,        nan,\n",
              "               nan, 0.0050224 , 0.00163507, 0.00846602, 0.00677932,\n",
              "        0.00163507, 0.00846602, 0.00669298, 0.00163507, 0.00846602,\n",
              "        0.00832993, 0.01368076, 0.00390708, 0.00880051, 0.00641904,\n",
              "        0.00780764, 0.01168638, 0.0070378 , 0.00827462,        nan,\n",
              "               nan,        nan,        nan,        nan,        nan,\n",
              "               nan,        nan,        nan,        nan,        nan,\n",
              "               nan,        nan,        nan,        nan,        nan,\n",
              "               nan,        nan, 0.00497135, 0.00247023, 0.00732343,\n",
              "        0.00716568, 0.00247023, 0.00732343, 0.00700437, 0.00247023,\n",
              "        0.00732343, 0.00832993, 0.0111639 , 0.00452431, 0.00880051,\n",
              "        0.00743406, 0.00760639, 0.01196167, 0.0058064 , 0.00682582,\n",
              "               nan,        nan,        nan,        nan,        nan,\n",
              "               nan,        nan,        nan,        nan,        nan,\n",
              "               nan,        nan,        nan,        nan,        nan,\n",
              "               nan,        nan,        nan, 0.00597273, 0.00209956,\n",
              "        0.00675368, 0.00579232, 0.00209956, 0.00675368, 0.00635032,\n",
              "        0.00209956, 0.00675368, 0.00832993, 0.01013682, 0.00539085,\n",
              "        0.00880051, 0.0049549 , 0.00844067, 0.0107618 , 0.00964259,\n",
              "        0.00556043,        nan,        nan,        nan,        nan,\n",
              "               nan,        nan,        nan,        nan,        nan,\n",
              "               nan,        nan,        nan,        nan,        nan,\n",
              "               nan,        nan,        nan,        nan, 0.00669298,\n",
              "        0.00257143, 0.00767184, 0.00602715, 0.00257143, 0.00767184,\n",
              "        0.00665168, 0.00257143, 0.00767184, 0.00832993, 0.01081571,\n",
              "        0.00544359, 0.00880051, 0.00554573, 0.00774465, 0.01098422,\n",
              "        0.00817662, 0.00548839]),\n",
              " 'rank_test_accuracy': array([127, 127, 127, 127, 127, 127, 127, 127, 127, 127, 127, 127, 127,\n",
              "        127, 127, 127, 127, 127,  56,  97, 110,  46,  97, 110,  54,  97,\n",
              "        110, 120,  79,  22, 113,  71,  23, 103,  65,  24, 127, 127, 127,\n",
              "        127, 127, 127, 127, 127, 127, 127, 127, 127, 127, 127, 127, 127,\n",
              "        127, 127,   5,  67, 100,   8,  67, 100,  11,  67, 100, 120,  73,\n",
              "         14, 119,  64,  20, 107,  58,  21, 127, 127, 127, 127, 127, 127,\n",
              "        127, 127, 127, 127, 127, 127, 127, 127, 127, 127, 127, 127,   1,\n",
              "         47,  82,   2,  47,  82,   3,  47,  82, 120,  72,  25, 118,  66,\n",
              "         26, 108,  59,  27, 127, 127, 127, 127, 127, 127, 127, 127, 127,\n",
              "        127, 127, 127, 127, 127, 127, 127, 127, 127,   4,  32,  88,   7,\n",
              "         32,  88,   6,  32,  88, 120,  77,  28, 114,  70,  38, 108,  60,\n",
              "         43, 127, 127, 127, 127, 127, 127, 127, 127, 127, 127, 127, 127,\n",
              "        127, 127, 127, 127, 127, 127,   9,  29,  85,  10,  29,  85,  11,\n",
              "         29,  85, 120,  78,  42, 114,  74,  53, 104,  63,  45, 127, 127,\n",
              "        127, 127, 127, 127, 127, 127, 127, 127, 127, 127, 127, 127, 127,\n",
              "        127, 127, 127,  13,  35,  91,  16,  35,  91,  15,  35,  91, 120,\n",
              "         80,  51, 114,  75,  52, 105,  61,  50, 127, 127, 127, 127, 127,\n",
              "        127, 127, 127, 127, 127, 127, 127, 127, 127, 127, 127, 127, 127,\n",
              "         19,  39,  94,  18,  39,  94,  17,  39,  94, 120,  81,  57, 114,\n",
              "         76,  55, 106,  62,  44]),\n",
              " 'split0_test_f1': array([       nan,        nan,        nan,        nan,        nan,\n",
              "               nan,        nan,        nan,        nan,        nan,\n",
              "               nan,        nan,        nan,        nan,        nan,\n",
              "               nan,        nan,        nan, 0.91002278, 0.81880025,\n",
              "        0.45620121, 0.91210046, 0.81880025, 0.45620121, 0.90689655,\n",
              "        0.81880025, 0.45620121, 0.39748076, 0.85372795, 0.92359932,\n",
              "        0.4620462 , 0.8713881 , 0.92002269, 0.70742857, 0.8821207 ,\n",
              "        0.91704545,        nan,        nan,        nan,        nan,\n",
              "               nan,        nan,        nan,        nan,        nan,\n",
              "               nan,        nan,        nan,        nan,        nan,\n",
              "               nan,        nan,        nan,        nan, 0.93371105,\n",
              "        0.90057143, 0.78033206, 0.9307605 , 0.90057143, 0.78033206,\n",
              "        0.9294653 , 0.90057143, 0.78033206, 0.39748076, 0.86647887,\n",
              "        0.92307692, 0.47569669, 0.88526434, 0.92492837, 0.70291929,\n",
              "        0.8917847 , 0.92183908,        nan,        nan,        nan,\n",
              "               nan,        nan,        nan,        nan,        nan,\n",
              "               nan,        nan,        nan,        nan,        nan,\n",
              "               nan,        nan,        nan,        nan,        nan,\n",
              "        0.93561254, 0.91306786, 0.84322508, 0.93394077, 0.91306786,\n",
              "        0.84322508, 0.93325727, 0.91306786, 0.84322508, 0.39748076,\n",
              "        0.86775464, 0.91589862, 0.4775353 , 0.88295455, 0.9186382 ,\n",
              "        0.6983945 , 0.88522727, 0.91161179,        nan,        nan,\n",
              "               nan,        nan,        nan,        nan,        nan,\n",
              "               nan,        nan,        nan,        nan,        nan,\n",
              "               nan,        nan,        nan,        nan,        nan,\n",
              "               nan, 0.93158495, 0.91498881, 0.84427564, 0.9281642 ,\n",
              "        0.91498881, 0.84427564, 0.9294653 , 0.91498881, 0.84427564,\n",
              "        0.39748076, 0.86296716, 0.91045638, 0.47759283, 0.86792453,\n",
              "        0.90803933, 0.70028653, 0.88636364, 0.90467938,        nan,\n",
              "               nan,        nan,        nan,        nan,        nan,\n",
              "               nan,        nan,        nan,        nan,        nan,\n",
              "               nan,        nan,        nan,        nan,        nan,\n",
              "               nan,        nan, 0.92747002, 0.9140625 , 0.84023669,\n",
              "        0.92281304, 0.9140625 , 0.84023669, 0.9221968 , 0.9140625 ,\n",
              "        0.84023669, 0.39748076, 0.85665722, 0.90720461, 0.47759283,\n",
              "        0.86139748, 0.90225564, 0.70028653, 0.88788222, 0.90236857,\n",
              "               nan,        nan,        nan,        nan,        nan,\n",
              "               nan,        nan,        nan,        nan,        nan,\n",
              "               nan,        nan,        nan,        nan,        nan,\n",
              "               nan,        nan,        nan, 0.92439863, 0.91364903,\n",
              "        0.83770755, 0.92448513, 0.91364903, 0.83770755, 0.92325315,\n",
              "        0.91364903, 0.83770755, 0.39748076, 0.85795455, 0.90300231,\n",
              "        0.47759283, 0.86256469, 0.90225564, 0.70353478, 0.88185415,\n",
              "        0.90487239,        nan,        nan,        nan,        nan,\n",
              "               nan,        nan,        nan,        nan,        nan,\n",
              "               nan,        nan,        nan,        nan,        nan,\n",
              "               nan,        nan,        nan,        nan, 0.92210767,\n",
              "        0.91384102, 0.83440171, 0.9226361 , 0.91384102, 0.83440171,\n",
              "        0.92201835, 0.91384102, 0.83440171, 0.39748076, 0.85811578,\n",
              "        0.90080738, 0.47759283, 0.86189112, 0.90086957, 0.70143266,\n",
              "        0.88398415, 0.90509259]),\n",
              " 'split1_test_f1': array([       nan,        nan,        nan,        nan,        nan,\n",
              "               nan,        nan,        nan,        nan,        nan,\n",
              "               nan,        nan,        nan,        nan,        nan,\n",
              "               nan,        nan,        nan, 0.90815744, 0.78511867,\n",
              "        0.4527972 , 0.91480846, 0.78511867, 0.4527972 , 0.91418764,\n",
              "        0.78511867, 0.4527972 , 0.37991266, 0.87266355, 0.93144476,\n",
              "        0.42541042, 0.87810514, 0.93891403, 0.72121566, 0.8956422 ,\n",
              "        0.93235626,        nan,        nan,        nan,        nan,\n",
              "               nan,        nan,        nan,        nan,        nan,\n",
              "               nan,        nan,        nan,        nan,        nan,\n",
              "               nan,        nan,        nan,        nan, 0.9451047 ,\n",
              "        0.88098016, 0.7554672 , 0.94623656, 0.88098016, 0.7554672 ,\n",
              "        0.94224236, 0.88098016, 0.7554672 , 0.37991266, 0.88824551,\n",
              "        0.93984109, 0.43277311, 0.89890237, 0.94204545, 0.72238457,\n",
              "        0.90561668, 0.93803297,        nan,        nan,        nan,\n",
              "               nan,        nan,        nan,        nan,        nan,\n",
              "               nan,        nan,        nan,        nan,        nan,\n",
              "               nan,        nan,        nan,        nan,        nan,\n",
              "        0.94844193, 0.91386195, 0.83421829, 0.94790487, 0.91386195,\n",
              "        0.83421829, 0.94623656, 0.91386195, 0.83421829, 0.37991266,\n",
              "        0.8915942 , 0.93348493, 0.43575419, 0.89562682, 0.9294653 ,\n",
              "        0.72173404, 0.90506698, 0.93174061,        nan,        nan,\n",
              "               nan,        nan,        nan,        nan,        nan,\n",
              "               nan,        nan,        nan,        nan,        nan,\n",
              "               nan,        nan,        nan,        nan,        nan,\n",
              "               nan, 0.94371802, 0.91425327, 0.84502262, 0.94318182,\n",
              "        0.91425327, 0.84502262, 0.94258101, 0.91425327, 0.84502262,\n",
              "        0.37991266, 0.88385598, 0.92061679, 0.43575419, 0.88228438,\n",
              "        0.92641187, 0.72196262, 0.89900759, 0.92422503,        nan,\n",
              "               nan,        nan,        nan,        nan,        nan,\n",
              "               nan,        nan,        nan,        nan,        nan,\n",
              "               nan,        nan,        nan,        nan,        nan,\n",
              "               nan,        nan, 0.93782088, 0.91784703, 0.84841755,\n",
              "        0.9395667 , 0.91784703, 0.84841755, 0.93835616, 0.91784703,\n",
              "        0.84841755, 0.37991266, 0.87083577, 0.9184845 , 0.43575419,\n",
              "        0.87915937, 0.92175899, 0.7236534 , 0.89819663, 0.9178633 ,\n",
              "               nan,        nan,        nan,        nan,        nan,\n",
              "               nan,        nan,        nan,        nan,        nan,\n",
              "               nan,        nan,        nan,        nan,        nan,\n",
              "               nan,        nan,        nan, 0.93660765, 0.91742081,\n",
              "        0.84611142, 0.93493151, 0.91742081, 0.84611142, 0.93660765,\n",
              "        0.91742081, 0.84611142, 0.37991266, 0.8703271 , 0.91609195,\n",
              "        0.43575419, 0.87191539, 0.92272467, 0.72121566, 0.90561668,\n",
              "        0.91484465,        nan,        nan,        nan,        nan,\n",
              "               nan,        nan,        nan,        nan,        nan,\n",
              "               nan,        nan,        nan,        nan,        nan,\n",
              "               nan,        nan,        nan,        nan, 0.93539165,\n",
              "        0.91742081, 0.8469163 , 0.93607306, 0.91742081, 0.8469163 ,\n",
              "        0.93478261, 0.91742081, 0.8469163 , 0.37991266, 0.86549708,\n",
              "        0.91504018, 0.43575419, 0.87338804, 0.92087156, 0.72131148,\n",
              "        0.90168703, 0.91537133]),\n",
              " 'split2_test_f1': array([       nan,        nan,        nan,        nan,        nan,\n",
              "               nan,        nan,        nan,        nan,        nan,\n",
              "               nan,        nan,        nan,        nan,        nan,\n",
              "               nan,        nan,        nan, 0.89858357, 0.78138942,\n",
              "        0.43109541, 0.89937464, 0.78138942, 0.43109541, 0.89897843,\n",
              "        0.78138942, 0.43109541, 0.37795276, 0.85253456, 0.92290249,\n",
              "        0.42253521, 0.8709494 , 0.92532285, 0.71528588, 0.88863507,\n",
              "        0.92429379,        nan,        nan,        nan,        nan,\n",
              "               nan,        nan,        nan,        nan,        nan,\n",
              "               nan,        nan,        nan,        nan,        nan,\n",
              "               nan,        nan,        nan,        nan, 0.93144476,\n",
              "        0.88041594, 0.73279352, 0.92857143, 0.88041594, 0.73279352,\n",
              "        0.92525481, 0.88041594, 0.73279352, 0.37795276, 0.86073059,\n",
              "        0.92975443, 0.44676682, 0.88398415, 0.92649573, 0.71570344,\n",
              "        0.89886364, 0.92685714,        nan,        nan,        nan,\n",
              "               nan,        nan,        nan,        nan,        nan,\n",
              "               nan,        nan,        nan,        nan,        nan,\n",
              "               nan,        nan,        nan,        nan,        nan,\n",
              "        0.93356243, 0.90662139, 0.82726204, 0.93180516, 0.90662139,\n",
              "        0.82726204, 0.93073841, 0.90662139, 0.82726204, 0.37795276,\n",
              "        0.85419059, 0.92087156, 0.44836601, 0.88036634, 0.91633006,\n",
              "        0.71911422, 0.88888889, 0.91767415,        nan,        nan,\n",
              "               nan,        nan,        nan,        nan,        nan,\n",
              "               nan,        nan,        nan,        nan,        nan,\n",
              "               nan,        nan,        nan,        nan,        nan,\n",
              "               nan, 0.93418014, 0.91216216, 0.83465459, 0.93187067,\n",
              "        0.91216216, 0.83465459, 0.93240901, 0.91216216, 0.83465459,\n",
              "        0.37795276, 0.84925201, 0.91107286, 0.44836601, 0.87478559,\n",
              "        0.90509259, 0.7176196 , 0.88672769, 0.90168703,        nan,\n",
              "               nan,        nan,        nan,        nan,        nan,\n",
              "               nan,        nan,        nan,        nan,        nan,\n",
              "               nan,        nan,        nan,        nan,        nan,\n",
              "               nan,        nan, 0.93217391, 0.91297024, 0.8387458 ,\n",
              "        0.93001735, 0.91297024, 0.8387458 , 0.93001735, 0.91297024,\n",
              "        0.8387458 , 0.37795276, 0.84562212, 0.90763052, 0.44836601,\n",
              "        0.86881473, 0.90150637, 0.71953353, 0.88597491, 0.9009324 ,\n",
              "               nan,        nan,        nan,        nan,        nan,\n",
              "               nan,        nan,        nan,        nan,        nan,\n",
              "               nan,        nan,        nan,        nan,        nan,\n",
              "               nan,        nan,        nan, 0.92753623, 0.91306786,\n",
              "        0.83824347, 0.92699884, 0.91306786, 0.83824347, 0.92745212,\n",
              "        0.91306786, 0.83824347, 0.37795276, 0.84615385, 0.90344828,\n",
              "        0.44836601, 0.87270642, 0.89947705, 0.71920607, 0.88863507,\n",
              "        0.89964994,        nan,        nan,        nan,        nan,\n",
              "               nan,        nan,        nan,        nan,        nan,\n",
              "               nan,        nan,        nan,        nan,        nan,\n",
              "               nan,        nan,        nan,        nan, 0.92513059,\n",
              "        0.91143498, 0.8363838 , 0.92682927, 0.91143498, 0.8363838 ,\n",
              "        0.92753623, 0.91143498, 0.8363838 , 0.37795276, 0.84301323,\n",
              "        0.90196078, 0.44836601, 0.87191269, 0.9009324 , 0.71953353,\n",
              "        0.88673876, 0.9020979 ]),\n",
              " 'split3_test_f1': array([       nan,        nan,        nan,        nan,        nan,\n",
              "               nan,        nan,        nan,        nan,        nan,\n",
              "               nan,        nan,        nan,        nan,        nan,\n",
              "               nan,        nan,        nan, 0.91418764, 0.77948718,\n",
              "        0.45217391, 0.91262136, 0.77948718, 0.45217391, 0.91210046,\n",
              "        0.77948718, 0.45217391, 0.41134752, 0.86206897, 0.93735763,\n",
              "        0.45816733, 0.88292404, 0.92808219, 0.72202591, 0.895249  ,\n",
              "        0.92685714,        nan,        nan,        nan,        nan,\n",
              "               nan,        nan,        nan,        nan,        nan,\n",
              "               nan,        nan,        nan,        nan,        nan,\n",
              "               nan,        nan,        nan,        nan, 0.94331066,\n",
              "        0.87892899, 0.76208897, 0.94050992, 0.87892899, 0.76208897,\n",
              "        0.93643587, 0.87892899, 0.76208897, 0.41134752, 0.88018171,\n",
              "        0.93653516, 0.47166124, 0.8966305 , 0.92881745, 0.72136954,\n",
              "        0.90178059, 0.93028571,        nan,        nan,        nan,\n",
              "               nan,        nan,        nan,        nan,        nan,\n",
              "               nan,        nan,        nan,        nan,        nan,\n",
              "               nan,        nan,        nan,        nan,        nan,\n",
              "        0.94508009, 0.90784983, 0.8357021 , 0.94748858, 0.90784983,\n",
              "        0.8357021 , 0.94754846, 0.90784983, 0.8357021 , 0.41134752,\n",
              "        0.88863765, 0.92298851, 0.47834518, 0.89422527, 0.9196996 ,\n",
              "        0.72146659, 0.89623188, 0.91916859,        nan,        nan,\n",
              "               nan,        nan,        nan,        nan,        nan,\n",
              "               nan,        nan,        nan,        nan,        nan,\n",
              "               nan,        nan,        nan,        nan,        nan,\n",
              "               nan, 0.94205393, 0.91609977, 0.82663731, 0.94387171,\n",
              "        0.91609977, 0.82663731, 0.94568325, 0.91609977, 0.82663731,\n",
              "        0.41134752, 0.87721302, 0.91671453, 0.4789644 , 0.88137536,\n",
              "        0.90887986, 0.72146659, 0.8975553 , 0.91266628,        nan,\n",
              "               nan,        nan,        nan,        nan,        nan,\n",
              "               nan,        nan,        nan,        nan,        nan,\n",
              "               nan,        nan,        nan,        nan,        nan,\n",
              "               nan,        nan, 0.94022989, 0.91680815, 0.83150985,\n",
              "        0.94022989, 0.91680815, 0.83150985, 0.93968983, 0.91680815,\n",
              "        0.83150985, 0.41134752, 0.87179487, 0.91306851, 0.4789644 ,\n",
              "        0.87478361, 0.9063409 , 0.72061429, 0.89237929, 0.91322073,\n",
              "               nan,        nan,        nan,        nan,        nan,\n",
              "               nan,        nan,        nan,        nan,        nan,\n",
              "               nan,        nan,        nan,        nan,        nan,\n",
              "               nan,        nan,        nan, 0.93894009, 0.91431793,\n",
              "        0.83115468, 0.93901036, 0.91431793, 0.83115468, 0.93908046,\n",
              "        0.91431793, 0.83115468, 0.41134752, 0.86777333, 0.911188  ,\n",
              "        0.4789644 , 0.87471264, 0.90719258, 0.72094395, 0.89341875,\n",
              "        0.91195335,        nan,        nan,        nan,        nan,\n",
              "               nan,        nan,        nan,        nan,        nan,\n",
              "               nan,        nan,        nan,        nan,        nan,\n",
              "               nan,        nan,        nan,        nan, 0.93832853,\n",
              "        0.91483362, 0.83143631, 0.93724813, 0.91483362, 0.83143631,\n",
              "        0.93962047, 0.91483362, 0.83143631, 0.41134752, 0.871502  ,\n",
              "        0.90730012, 0.4789644 , 0.87377522, 0.90315053, 0.71952663,\n",
              "        0.89470622, 0.91458454]),\n",
              " 'mean_test_f1': array([       nan,        nan,        nan,        nan,        nan,\n",
              "               nan,        nan,        nan,        nan,        nan,\n",
              "               nan,        nan,        nan,        nan,        nan,\n",
              "               nan,        nan,        nan, 0.90773786, 0.79119888,\n",
              "        0.44806693, 0.90972623, 0.79119888, 0.44806693, 0.90804077,\n",
              "        0.79119888, 0.44806693, 0.39167342, 0.86024876, 0.92882605,\n",
              "        0.44203979, 0.87584167, 0.92808544, 0.71648901, 0.89041174,\n",
              "        0.92513816,        nan,        nan,        nan,        nan,\n",
              "               nan,        nan,        nan,        nan,        nan,\n",
              "               nan,        nan,        nan,        nan,        nan,\n",
              "               nan,        nan,        nan,        nan, 0.93839279,\n",
              "        0.88522413, 0.75767044, 0.9365196 , 0.88522413, 0.75767044,\n",
              "        0.93334958, 0.88522413, 0.75767044, 0.39167342, 0.87390917,\n",
              "        0.9323019 , 0.45672447, 0.89119534, 0.93057175, 0.71559421,\n",
              "        0.8995114 , 0.92925373,        nan,        nan,        nan,\n",
              "               nan,        nan,        nan,        nan,        nan,\n",
              "               nan,        nan,        nan,        nan,        nan,\n",
              "               nan,        nan,        nan,        nan,        nan,\n",
              "        0.94067425, 0.91035026, 0.83510188, 0.94028485, 0.91035026,\n",
              "        0.83510188, 0.93944518, 0.91035026, 0.83510188, 0.39167342,\n",
              "        0.87554427, 0.9233109 , 0.46000017, 0.88829325, 0.92103329,\n",
              "        0.71517733, 0.89385376, 0.92004879,        nan,        nan,\n",
              "               nan,        nan,        nan,        nan,        nan,\n",
              "               nan,        nan,        nan,        nan,        nan,\n",
              "               nan,        nan,        nan,        nan,        nan,\n",
              "               nan, 0.93788426, 0.914376  , 0.83764754, 0.9367721 ,\n",
              "        0.914376  , 0.83764754, 0.93753464, 0.914376  , 0.83764754,\n",
              "        0.39167342, 0.86832204, 0.91471514, 0.46016936, 0.87659247,\n",
              "        0.91210591, 0.71533384, 0.89241355, 0.91081443,        nan,\n",
              "               nan,        nan,        nan,        nan,        nan,\n",
              "               nan,        nan,        nan,        nan,        nan,\n",
              "               nan,        nan,        nan,        nan,        nan,\n",
              "               nan,        nan, 0.93442367, 0.91542198, 0.83972747,\n",
              "        0.93315674, 0.91542198, 0.83972747, 0.93256504, 0.91542198,\n",
              "        0.83972747, 0.39167342, 0.8612275 , 0.91159704, 0.46016936,\n",
              "        0.8710388 , 0.90796548, 0.71602194, 0.89110826, 0.90859625,\n",
              "               nan,        nan,        nan,        nan,        nan,\n",
              "               nan,        nan,        nan,        nan,        nan,\n",
              "               nan,        nan,        nan,        nan,        nan,\n",
              "               nan,        nan,        nan, 0.93187065, 0.91461391,\n",
              "        0.83830428, 0.93135646, 0.91461391, 0.83830428, 0.93159835,\n",
              "        0.91461391, 0.83830428, 0.39167342, 0.86055221, 0.90843264,\n",
              "        0.46016936, 0.87047479, 0.90791248, 0.71622512, 0.89238116,\n",
              "        0.90783008,        nan,        nan,        nan,        nan,\n",
              "               nan,        nan,        nan,        nan,        nan,\n",
              "               nan,        nan,        nan,        nan,        nan,\n",
              "               nan,        nan,        nan,        nan, 0.93023961,\n",
              "        0.91438261, 0.83728453, 0.93069664, 0.91438261, 0.83728453,\n",
              "        0.93098942, 0.91438261, 0.83728453, 0.39167342, 0.85953202,\n",
              "        0.90627712, 0.46016936, 0.87024177, 0.90645601, 0.71545107,\n",
              "        0.89177904, 0.90928659]),\n",
              " 'std_test_f1': array([       nan,        nan,        nan,        nan,        nan,\n",
              "               nan,        nan,        nan,        nan,        nan,\n",
              "               nan,        nan,        nan,        nan,        nan,\n",
              "               nan,        nan,        nan, 0.00571834, 0.01606389,\n",
              "        0.00991769, 0.00606224, 0.01606389, 0.00991769, 0.00586729,\n",
              "        0.01606389, 0.00991769, 0.01366901, 0.00805404, 0.00595929,\n",
              "        0.01814744, 0.00497624, 0.00689018, 0.00584247, 0.00553748,\n",
              "        0.00550592,        nan,        nan,        nan,        nan,\n",
              "               nan,        nan,        nan,        nan,        nan,\n",
              "               nan,        nan,        nan,        nan,        nan,\n",
              "               nan,        nan,        nan,        nan, 0.005904  ,\n",
              "        0.00889239, 0.01700579, 0.00718823, 0.00889239, 0.01700579,\n",
              "        0.00650422, 0.00889239, 0.01700579, 0.01366901, 0.01088301,\n",
              "        0.00644883, 0.01771916, 0.00663546, 0.0067673 , 0.00774805,\n",
              "        0.00506323, 0.00589196,        nan,        nan,        nan,\n",
              "               nan,        nan,        nan,        nan,        nan,\n",
              "               nan,        nan,        nan,        nan,        nan,\n",
              "               nan,        nan,        nan,        nan,        nan,\n",
              "        0.00624394, 0.00315729, 0.00566989, 0.00745169, 0.00315729,\n",
              "        0.00566989, 0.00751472, 0.00315729, 0.00566989, 0.01366901,\n",
              "        0.01537608, 0.00641302, 0.01848811, 0.00671394, 0.00501833,\n",
              "        0.00974305, 0.00759042, 0.00731942,        nan,        nan,\n",
              "               nan,        nan,        nan,        nan,        nan,\n",
              "               nan,        nan,        nan,        nan,        nan,\n",
              "               nan,        nan,        nan,        nan,        nan,\n",
              "               nan, 0.0051191 , 0.00143728, 0.00755821, 0.00688493,\n",
              "        0.00143728, 0.00755821, 0.00676853, 0.00143728, 0.00755821,\n",
              "        0.01366901, 0.01334816, 0.00419017, 0.01865644, 0.00578083,\n",
              "        0.00837842, 0.00884869, 0.00589172, 0.00872098,        nan,\n",
              "               nan,        nan,        nan,        nan,        nan,\n",
              "               nan,        nan,        nan,        nan,        nan,\n",
              "               nan,        nan,        nan,        nan,        nan,\n",
              "               nan,        nan, 0.00496658, 0.00197873, 0.00600562,\n",
              "        0.0072105 , 0.00197873, 0.00600562, 0.00704079, 0.00197873,\n",
              "        0.00600562, 0.01366901, 0.01082132, 0.0045997 , 0.01865644,\n",
              "        0.00666837, 0.00817347, 0.00920955, 0.00470688, 0.00715511,\n",
              "               nan,        nan,        nan,        nan,        nan,\n",
              "               nan,        nan,        nan,        nan,        nan,\n",
              "               nan,        nan,        nan,        nan,        nan,\n",
              "               nan,        nan,        nan, 0.00606289, 0.00167985,\n",
              "        0.0053016 , 0.00586445, 0.00167985, 0.0053016 , 0.00647898,\n",
              "        0.00167985, 0.0053016 , 0.01366901, 0.00950991, 0.00549066,\n",
              "        0.01865644, 0.00467933, 0.00898715, 0.00736722, 0.00867621,\n",
              "        0.00595542,        nan,        nan,        nan,        nan,\n",
              "               nan,        nan,        nan,        nan,        nan,\n",
              "               nan,        nan,        nan,        nan,        nan,\n",
              "               nan,        nan,        nan,        nan, 0.0067861 ,\n",
              "        0.00214569, 0.00583298, 0.00615948, 0.00214569, 0.00583298,\n",
              "        0.00673216, 0.00214569, 0.00583298, 0.01366901, 0.01065057,\n",
              "        0.00562109, 0.01865644, 0.00487108, 0.00837336, 0.00812614,\n",
              "        0.00694445, 0.00579567]),\n",
              " 'rank_test_f1': array([127, 127, 127, 127, 127, 127, 127, 127, 127, 127, 127, 127, 127,\n",
              "        127, 127, 127, 127, 127,  55,  97, 116,  47,  97, 116,  51,  97,\n",
              "        116, 120,  80,  22, 119,  71,  23, 103,  65,  24, 127, 127, 127,\n",
              "        127, 127, 127, 127, 127, 127, 127, 127, 127, 127, 127, 127, 127,\n",
              "        127, 127,   4,  67, 100,   8,  67, 100,  10,  67, 100, 120,  73,\n",
              "         13, 115,  63,  19, 106,  58,  21, 127, 127, 127, 127, 127, 127,\n",
              "        127, 127, 127, 127, 127, 127, 127, 127, 127, 127, 127, 127,   1,\n",
              "         44,  94,   2,  44,  94,   3,  44,  94, 120,  72,  25, 114,  66,\n",
              "         26, 109,  59,  27, 127, 127, 127, 127, 127, 127, 127, 127, 127,\n",
              "        127, 127, 127, 127, 127, 127, 127, 127, 127,   5,  38,  88,   7,\n",
              "         38,  88,   6,  38,  88, 120,  77,  31, 110,  70,  41, 108,  60,\n",
              "         43, 127, 127, 127, 127, 127, 127, 127, 127, 127, 127, 127, 127,\n",
              "        127, 127, 127, 127, 127, 127,   9,  28,  82,  11,  28,  82,  12,\n",
              "         28,  82, 120,  78,  42, 110,  74,  52, 105,  64,  49, 127, 127,\n",
              "        127, 127, 127, 127, 127, 127, 127, 127, 127, 127, 127, 127, 127,\n",
              "        127, 127, 127,  14,  32,  85,  16,  32,  85,  15,  32,  85, 120,\n",
              "         79,  50, 110,  75,  53, 104,  61,  54, 127, 127, 127, 127, 127,\n",
              "        127, 127, 127, 127, 127, 127, 127, 127, 127, 127, 127, 127, 127,\n",
              "         20,  35,  91,  18,  35,  91,  17,  35,  91, 120,  81,  57, 110,\n",
              "         76,  56, 107,  62,  48])}"
            ]
          },
          "execution_count": 432,
          "metadata": {},
          "output_type": "execute_result"
        }
      ],
      "source": [
        "grid_cv.cv_results_"
      ]
    },
    {
      "cell_type": "code",
      "execution_count": null,
      "metadata": {
        "id": "Lrh7EKaHpng9",
        "outputId": "dbddd647-8a20-4b44-bd0e-4b7802d7ce7b"
      },
      "outputs": [
        {
          "name": "stdout",
          "output_type": "stream",
          "text": [
            "Best score: 0.941\n"
          ]
        }
      ],
      "source": [
        "print(\"Best score: %0.3f\" % grid_cv.best_score_)"
      ]
    },
    {
      "cell_type": "code",
      "execution_count": null,
      "metadata": {
        "id": "icJlmU_5png9"
      },
      "outputs": [],
      "source": [
        "cv_predictions = grid_cv.best_estimator_.predict(X_test)"
      ]
    },
    {
      "cell_type": "code",
      "execution_count": null,
      "metadata": {
        "id": "SsWEApM9png9"
      },
      "outputs": [],
      "source": [
        "from sklearn.metrics import precision_score, recall_score, f1_score, accuracy_score, classification_report, confusion_matrix"
      ]
    },
    {
      "cell_type": "code",
      "execution_count": null,
      "metadata": {
        "id": "3e7LkYjfpng9"
      },
      "outputs": [],
      "source": [
        "def print_acc(predictions):\n",
        "    print(\"Precision: {0:6.2f}\".format(precision_score(y_test, predictions, average='macro')))\n",
        "    print(\"Recall:    {0:6.2f}\".format(recall_score(y_test, predictions, average='macro')))\n",
        "    print(\"F1_score:  {0:6.2f}\".format(f1_score(y_test, predictions, average='macro')))\n",
        "    print(\"Accuracy:  {0:6.2f}\".format(accuracy_score(y_test, predictions)))"
      ]
    },
    {
      "cell_type": "code",
      "execution_count": null,
      "metadata": {
        "id": "xZZtQ5repng9",
        "outputId": "15819d31-70f6-4c32-d282-f0f9ed99f395"
      },
      "outputs": [
        {
          "name": "stdout",
          "output_type": "stream",
          "text": [
            "Precision:   0.95\n",
            "Recall:      0.95\n",
            "F1_score:    0.95\n",
            "Accuracy:    0.95\n"
          ]
        }
      ],
      "source": [
        "print_acc(cv_predictions)"
      ]
    },
    {
      "cell_type": "code",
      "execution_count": null,
      "metadata": {
        "id": "KyleUD27png9",
        "outputId": "c125b77f-04b2-42cb-d80d-a397c64e86d7"
      },
      "outputs": [
        {
          "name": "stdout",
          "output_type": "stream",
          "text": [
            "              precision    recall  f1-score   support\n",
            "\n",
            "         1.0       0.94      0.96      0.95      1536\n",
            "         5.0       0.96      0.94      0.95      1464\n",
            "\n",
            "    accuracy                           0.95      3000\n",
            "   macro avg       0.95      0.95      0.95      3000\n",
            "weighted avg       0.95      0.95      0.95      3000\n",
            "\n"
          ]
        }
      ],
      "source": [
        "print(classification_report(y_test, cv_predictions))"
      ]
    },
    {
      "cell_type": "code",
      "execution_count": null,
      "metadata": {
        "id": "PiY2aYVApng9",
        "outputId": "cdf72691-67bc-40bb-f426-3d3d3aeaddeb"
      },
      "outputs": [
        {
          "data": {
            "image/png": "[encoded data removed]",
            "text/plain": [
              "<Figure size 640x480 with 1 Axes>"
            ]
          },
          "metadata": {},
          "output_type": "display_data"
        }
      ],
      "source": [
        "labels = grid_cv.best_estimator_.classes_\n",
        "\n",
        "sns.heatmap(\n",
        "    data=confusion_matrix(y_test, cv_predictions),\n",
        "    annot=True,\n",
        "    fmt=\"d\",\n",
        "    cbar=False,\n",
        "    xticklabels=labels,\n",
        "    yticklabels=labels\n",
        ")\n",
        "\n",
        "plt.title(\"Confusion matrix\")\n",
        "plt.show()"
      ]
    },
    {
      "cell_type": "markdown",
      "metadata": {
        "id": "NBcSKcd_png-"
      },
      "source": [
        "Сравните, как изменяется качество решения задачи при использовании скрытых тем в качестве признаков:\n",
        "\n",
        "1-ый вариант:\n",
        " преобразование (sklearn.feature_extraction.text.TfidfTransformer) и сингулярное разложение (оно же – латентый семантический анализ) (sklearn.decomposition.TruncatedSVD)"
      ]
    },
    {
      "cell_type": "code",
      "execution_count": null,
      "metadata": {
        "id": "B3yyR7Pnpng-",
        "outputId": "28e370ad-7a83-4d88-f068-45dd4a44d3ed"
      },
      "outputs": [
        {
          "data": {
            "text/plain": [
              "2093"
            ]
          },
          "execution_count": 447,
          "metadata": {},
          "output_type": "execute_result"
        }
      ],
      "source": [
        "gc.collect()"
      ]
    },
    {
      "cell_type": "code",
      "execution_count": null,
      "metadata": {
        "id": "yZuAhv8Tpng-"
      },
      "outputs": [],
      "source": [
        "from sklearn.feature_extraction.text import TfidfTransformer"
      ]
    },
    {
      "cell_type": "code",
      "execution_count": null,
      "metadata": {
        "id": "gXv-edhEpng-"
      },
      "outputs": [],
      "source": [
        "clf_tfidf = Pipeline(\n",
        "    [('vect', CountVectorizer()),\n",
        "     ('tfidf', TfidfTransformer()),\n",
        "     ('clf', LogisticRegression())]\n",
        ")\n",
        "\n",
        "params_tfidf = {\n",
        "    'vect__analyzer': ['word'],\n",
        "    'vect__max_df': (0.5, 0.75, 1.0),\n",
        "    'vect__ngram_range': [(1, 1), (2, 2), (3, 3)],\n",
        "    'tfidf__use_idf': (True, False),\n",
        "    'clf__C': np.logspace(-3, 3, 7),\n",
        "    'clf__penalty': ['l1', 'l2']\n",
        "}\n",
        "\n",
        "scores = ['accuracy','f1']"
      ]
    },
    {
      "cell_type": "code",
      "execution_count": null,
      "metadata": {
        "id": "Dwz3-gr8png-"
      },
      "outputs": [],
      "source": [
        "grid_tfidf = GridSearchCV(\n",
        "    clf_tfidf,\n",
        "    param_grid=params_tfidf,\n",
        "    cv=4,\n",
        "    scoring=scores,\n",
        "    refit=scores[0],\n",
        "    n_jobs=-1,\n",
        "    verbose=1\n",
        ")"
      ]
    },
    {
      "cell_type": "code",
      "execution_count": null,
      "metadata": {
        "id": "KYuDkPiBpng-",
        "outputId": "9980b489-1cb1-456c-bdab-b408204ba488"
      },
      "outputs": [
        {
          "name": "stdout",
          "output_type": "stream",
          "text": [
            "Fitting 4 folds for each of 252 candidates, totalling 1008 fits\n"
          ]
        },
        {
          "name": "stderr",
          "output_type": "stream",
          "text": [
            "C:\\Users\\Suile\\anaconda3\\Lib\\site-packages\\sklearn\\model_selection\\_validation.py:425: FitFailedWarning: \n",
            "504 fits failed out of a total of 1008.\n",
            "The score on these train-test partitions for these parameters will be set to nan.\n",
            "If these failures are not expected, you can try to debug them by setting error_score='raise'.\n",
            "\n",
            "Below are more details about the failures:\n",
            "--------------------------------------------------------------------------------\n",
            "504 fits failed with the following error:\n",
            "Traceback (most recent call last):\n",
            "  File \"C:\\Users\\Suile\\anaconda3\\Lib\\site-packages\\sklearn\\model_selection\\_validation.py\", line 732, in _fit_and_score\n",
            "    estimator.fit(X_train, y_train, **fit_params)\n",
            "  File \"C:\\Users\\Suile\\anaconda3\\Lib\\site-packages\\sklearn\\base.py\", line 1151, in wrapper\n",
            "    return fit_method(estimator, *args, **kwargs)\n",
            "           ^^^^^^^^^^^^^^^^^^^^^^^^^^^^^^^^^^^^^^\n",
            "  File \"C:\\Users\\Suile\\anaconda3\\Lib\\site-packages\\sklearn\\pipeline.py\", line 420, in fit\n",
            "    self._final_estimator.fit(Xt, y, **fit_params_last_step)\n",
            "  File \"C:\\Users\\Suile\\anaconda3\\Lib\\site-packages\\sklearn\\base.py\", line 1151, in wrapper\n",
            "    return fit_method(estimator, *args, **kwargs)\n",
            "           ^^^^^^^^^^^^^^^^^^^^^^^^^^^^^^^^^^^^^^\n",
            "  File \"C:\\Users\\Suile\\anaconda3\\Lib\\site-packages\\sklearn\\linear_model\\_logistic.py\", line 1168, in fit\n",
            "    solver = _check_solver(self.solver, self.penalty, self.dual)\n",
            "             ^^^^^^^^^^^^^^^^^^^^^^^^^^^^^^^^^^^^^^^^^^^^^^^^^^^\n",
            "  File \"C:\\Users\\Suile\\anaconda3\\Lib\\site-packages\\sklearn\\linear_model\\_logistic.py\", line 56, in _check_solver\n",
            "    raise ValueError(\n",
            "ValueError: Solver lbfgs supports only 'l2' or 'none' penalties, got l1 penalty.\n",
            "\n",
            "  warnings.warn(some_fits_failed_message, FitFailedWarning)\n",
            "C:\\Users\\Suile\\anaconda3\\Lib\\site-packages\\sklearn\\model_selection\\_search.py:976: UserWarning: One or more of the test scores are non-finite: [       nan        nan        nan        nan        nan        nan\n",
            "        nan        nan        nan        nan        nan        nan\n",
            "        nan        nan        nan        nan        nan        nan\n",
            " 0.59857143 0.50514286 0.50514286 0.598      0.50514286 0.50514286\n",
            " 0.596      0.50514286 0.50514286 0.74128571 0.50514286 0.50514286\n",
            " 0.73614286 0.50514286 0.50514286 0.72285714 0.50514286 0.50514286\n",
            "        nan        nan        nan        nan        nan        nan\n",
            "        nan        nan        nan        nan        nan        nan\n",
            "        nan        nan        nan        nan        nan        nan\n",
            " 0.87085714 0.58985714 0.50514286 0.87057143 0.58985714 0.50514286\n",
            " 0.87071429 0.58985714 0.50514286 0.85685714 0.72771429 0.509\n",
            " 0.85385714 0.72771429 0.509      0.83542857 0.72771429 0.509\n",
            "        nan        nan        nan        nan        nan        nan\n",
            "        nan        nan        nan        nan        nan        nan\n",
            "        nan        nan        nan        nan        nan        nan\n",
            " 0.90771429 0.87128571 0.70942857 0.90714286 0.87128571 0.70942857\n",
            " 0.90528571 0.87128571 0.70942857 0.895      0.84028571 0.74214286\n",
            " 0.895      0.84028571 0.74214286 0.887      0.84028571 0.74214286\n",
            "        nan        nan        nan        nan        nan        nan\n",
            "        nan        nan        nan        nan        nan        nan\n",
            "        nan        nan        nan        nan        nan        nan\n",
            " 0.93871429 0.90385714 0.84728571 0.93985714 0.90385714 0.84728571\n",
            " 0.93871429 0.90385714 0.84728571 0.92914286 0.88242857 0.83171429\n",
            " 0.92871429 0.88242857 0.83171429 0.92885714 0.88242857 0.83171429\n",
            "        nan        nan        nan        nan        nan        nan\n",
            "        nan        nan        nan        nan        nan        nan\n",
            "        nan        nan        nan        nan        nan        nan\n",
            " 0.94485714 0.91714286 0.85142857 0.94542857 0.91714286 0.85142857\n",
            " 0.94442857 0.91714286 0.85142857 0.94042857 0.90957143 0.837\n",
            " 0.94       0.90957143 0.837      0.93942857 0.90957143 0.837\n",
            "        nan        nan        nan        nan        nan        nan\n",
            "        nan        nan        nan        nan        nan        nan\n",
            "        nan        nan        nan        nan        nan        nan\n",
            " 0.94357143 0.92085714 0.85314286 0.94257143 0.92085714 0.85314286\n",
            " 0.94228571 0.92085714 0.85314286 0.93842857 0.91371429 0.83914286\n",
            " 0.93828571 0.91371429 0.83914286 0.93871429 0.91371429 0.83914286\n",
            "        nan        nan        nan        nan        nan        nan\n",
            "        nan        nan        nan        nan        nan        nan\n",
            "        nan        nan        nan        nan        nan        nan\n",
            " 0.94071429 0.92228571 0.854      0.94042857 0.92228571 0.854\n",
            " 0.93985714 0.92228571 0.854      0.93685714 0.91614286 0.83957143\n",
            " 0.93657143 0.91614286 0.83957143 0.93542857 0.91614286 0.83957143]\n",
            "  warnings.warn(\n",
            "C:\\Users\\Suile\\anaconda3\\Lib\\site-packages\\sklearn\\model_selection\\_search.py:976: UserWarning: One or more of the test scores are non-finite: [       nan        nan        nan        nan        nan        nan\n",
            "        nan        nan        nan        nan        nan        nan\n",
            "        nan        nan        nan        nan        nan        nan\n",
            " 0.32499729 0.         0.         0.32341412 0.         0.\n",
            " 0.31729848 0.         0.         0.665585   0.         0.\n",
            " 0.65678725 0.         0.         0.63641174 0.         0.\n",
            "        nan        nan        nan        nan        nan        nan\n",
            "        nan        nan        nan        nan        nan        nan\n",
            "        nan        nan        nan        nan        nan        nan\n",
            " 0.8657259  0.29986341 0.         0.86538248 0.29986341 0.\n",
            " 0.86586377 0.29986341 0.         0.85540292 0.64592149 0.0160236\n",
            " 0.85232633 0.64592149 0.0160236  0.83137837 0.64592149 0.0160236\n",
            "        nan        nan        nan        nan        nan        nan\n",
            "        nan        nan        nan        nan        nan        nan\n",
            "        nan        nan        nan        nan        nan        nan\n",
            " 0.90850332 0.86476718 0.60403712 0.90793475 0.86476718 0.60403712\n",
            " 0.90598127 0.86476718 0.60403712 0.89639474 0.83348748 0.6768639\n",
            " 0.89633431 0.83348748 0.6768639  0.88777442 0.83348748 0.6768639\n",
            "        nan        nan        nan        nan        nan        nan\n",
            "        nan        nan        nan        nan        nan        nan\n",
            "        nan        nan        nan        nan        nan        nan\n",
            " 0.93952686 0.90359547 0.84114401 0.94070237 0.90359547 0.84114401\n",
            " 0.93953821 0.90359547 0.84114401 0.93010147 0.88202062 0.82760055\n",
            " 0.92960309 0.88202062 0.82760055 0.92979153 0.88202062 0.82760055\n",
            "        nan        nan        nan        nan        nan        nan\n",
            "        nan        nan        nan        nan        nan        nan\n",
            "        nan        nan        nan        nan        nan        nan\n",
            " 0.94517364 0.91749825 0.84911979 0.94572717 0.91749825 0.84911979\n",
            " 0.94472089 0.91749825 0.84911979 0.94078944 0.90971943 0.83581873\n",
            " 0.94034423 0.90971943 0.83581873 0.9397485  0.90971943 0.83581873\n",
            "        nan        nan        nan        nan        nan        nan\n",
            "        nan        nan        nan        nan        nan        nan\n",
            "        nan        nan        nan        nan        nan        nan\n",
            " 0.94362537 0.92117694 0.85130768 0.94266245 0.92117694 0.85130768\n",
            " 0.9423541  0.92117694 0.85130768 0.9384987  0.91387176 0.83808629\n",
            " 0.93843312 0.91387176 0.83808629 0.93886633 0.91387176 0.83808629\n",
            "        nan        nan        nan        nan        nan        nan\n",
            "        nan        nan        nan        nan        nan        nan\n",
            "        nan        nan        nan        nan        nan        nan\n",
            " 0.94071018 0.92262116 0.85217245 0.94045226 0.92262116 0.85217245\n",
            " 0.93986431 0.92262116 0.85217245 0.93679316 0.9163889  0.83859242\n",
            " 0.93658712 0.9163889  0.83859242 0.93533698 0.9163889  0.83859242]\n",
            "  warnings.warn(\n",
            "C:\\Users\\Suile\\anaconda3\\Lib\\site-packages\\sklearn\\linear_model\\_logistic.py:460: ConvergenceWarning: lbfgs failed to converge (status=1):\n",
            "STOP: TOTAL NO. of ITERATIONS REACHED LIMIT.\n",
            "\n",
            "Increase the number of iterations (max_iter) or scale the data as shown in:\n",
            "    https://scikit-learn.org/stable/modules/preprocessing.html\n",
            "Please also refer to the documentation for alternative solver options:\n",
            "    https://scikit-learn.org/stable/modules/linear_model.html#logistic-regression\n",
            "  n_iter_i = _check_optimize_result(\n"
          ]
        },
        {
          "data": {
            "text/html": [
              "<style>#sk-container-id-2 {color: black;}#sk-container-id-2 pre{padding: 0;}#sk-container-id-2 div.sk-toggleable {background-color: white;}#sk-container-id-2 label.sk-toggleable__label {cursor: pointer;display: block;width: 100%;margin-bottom: 0;padding: 0.3em;box-sizing: border-box;text-align: center;}#sk-container-id-2 label.sk-toggleable__label-arrow:before {content: \"▸\";float: left;margin-right: 0.25em;color: #696969;}#sk-container-id-2 label.sk-toggleable__label-arrow:hover:before {color: black;}#sk-container-id-2 div.sk-estimator:hover label.sk-toggleable__label-arrow:before {color: black;}#sk-container-id-2 div.sk-toggleable__content {max-height: 0;max-width: 0;overflow: hidden;text-align: left;background-color: #f0f8ff;}#sk-container-id-2 div.sk-toggleable__content pre {margin: 0.2em;color: black;border-radius: 0.25em;background-color: #f0f8ff;}#sk-container-id-2 input.sk-toggleable__control:checked~div.sk-toggleable__content {max-height: 200px;max-width: 100%;overflow: auto;}#sk-container-id-2 input.sk-toggleable__control:checked~label.sk-toggleable__label-arrow:before {content: \"▾\";}#sk-container-id-2 div.sk-estimator input.sk-toggleable__control:checked~label.sk-toggleable__label {background-color: #d4ebff;}#sk-container-id-2 div.sk-label input.sk-toggleable__control:checked~label.sk-toggleable__label {background-color: #d4ebff;}#sk-container-id-2 input.sk-hidden--visually {border: 0;clip: rect(1px 1px 1px 1px);clip: rect(1px, 1px, 1px, 1px);height: 1px;margin: -1px;overflow: hidden;padding: 0;position: absolute;width: 1px;}#sk-container-id-2 div.sk-estimator {font-family: monospace;background-color: #f0f8ff;border: 1px dotted black;border-radius: 0.25em;box-sizing: border-box;margin-bottom: 0.5em;}#sk-container-id-2 div.sk-estimator:hover {background-color: #d4ebff;}#sk-container-id-2 div.sk-parallel-item::after {content: \"\";width: 100%;border-bottom: 1px solid gray;flex-grow: 1;}#sk-container-id-2 div.sk-label:hover label.sk-toggleable__label {background-color: #d4ebff;}#sk-container-id-2 div.sk-serial::before {content: \"\";position: absolute;border-left: 1px solid gray;box-sizing: border-box;top: 0;bottom: 0;left: 50%;z-index: 0;}#sk-container-id-2 div.sk-serial {display: flex;flex-direction: column;align-items: center;background-color: white;padding-right: 0.2em;padding-left: 0.2em;position: relative;}#sk-container-id-2 div.sk-item {position: relative;z-index: 1;}#sk-container-id-2 div.sk-parallel {display: flex;align-items: stretch;justify-content: center;background-color: white;position: relative;}#sk-container-id-2 div.sk-item::before, #sk-container-id-2 div.sk-parallel-item::before {content: \"\";position: absolute;border-left: 1px solid gray;box-sizing: border-box;top: 0;bottom: 0;left: 50%;z-index: -1;}#sk-container-id-2 div.sk-parallel-item {display: flex;flex-direction: column;z-index: 1;position: relative;background-color: white;}#sk-container-id-2 div.sk-parallel-item:first-child::after {align-self: flex-end;width: 50%;}#sk-container-id-2 div.sk-parallel-item:last-child::after {align-self: flex-start;width: 50%;}#sk-container-id-2 div.sk-parallel-item:only-child::after {width: 0;}#sk-container-id-2 div.sk-dashed-wrapped {border: 1px dashed gray;margin: 0 0.4em 0.5em 0.4em;box-sizing: border-box;padding-bottom: 0.4em;background-color: white;}#sk-container-id-2 div.sk-label label {font-family: monospace;font-weight: bold;display: inline-block;line-height: 1.2em;}#sk-container-id-2 div.sk-label-container {text-align: center;}#sk-container-id-2 div.sk-container {/* jupyter's `normalize.less` sets `[hidden] { display: none; }` but bootstrap.min.css set `[hidden] { display: none !important; }` so we also need the `!important` here to be able to override the default hidden behavior on the sphinx rendered scikit-learn.org. See: https://github.com/scikit-learn/scikit-learn/issues/21755 */display: inline-block !important;position: relative;}#sk-container-id-2 div.sk-text-repr-fallback {display: none;}</style><div id=\"sk-container-id-2\" class=\"sk-top-container\"><div class=\"sk-text-repr-fallback\"><pre>GridSearchCV(cv=4,\n",
              "             estimator=Pipeline(steps=[(&#x27;vect&#x27;, CountVectorizer()),\n",
              "                                       (&#x27;tfidf&#x27;, TfidfTransformer()),\n",
              "                                       (&#x27;clf&#x27;, LogisticRegression())]),\n",
              "             n_jobs=-1,\n",
              "             param_grid={&#x27;clf__C&#x27;: array([1.e-03, 1.e-02, 1.e-01, 1.e+00, 1.e+01, 1.e+02, 1.e+03]),\n",
              "                         &#x27;clf__penalty&#x27;: [&#x27;l1&#x27;, &#x27;l2&#x27;],\n",
              "                         &#x27;tfidf__use_idf&#x27;: (True, False),\n",
              "                         &#x27;vect__analyzer&#x27;: [&#x27;word&#x27;],\n",
              "                         &#x27;vect__max_df&#x27;: (0.5, 0.75, 1.0),\n",
              "                         &#x27;vect__ngram_range&#x27;: [(1, 1), (2, 2), (3, 3)]},\n",
              "             refit=&#x27;accuracy&#x27;, scoring=[&#x27;accuracy&#x27;, &#x27;f1&#x27;], verbose=1)</pre><b>In a Jupyter environment, please rerun this cell to show the HTML representation or trust the notebook. <br />On GitHub, the HTML representation is unable to render, please try loading this page with nbviewer.org.</b></div><div class=\"sk-container\" hidden><div class=\"sk-item sk-dashed-wrapped\"><div class=\"sk-label-container\"><div class=\"sk-label sk-toggleable\"><input class=\"sk-toggleable__control sk-hidden--visually\" id=\"sk-estimator-id-5\" type=\"checkbox\" ><label for=\"sk-estimator-id-5\" class=\"sk-toggleable__label sk-toggleable__label-arrow\">GridSearchCV</label><div class=\"sk-toggleable__content\"><pre>GridSearchCV(cv=4,\n",
              "             estimator=Pipeline(steps=[(&#x27;vect&#x27;, CountVectorizer()),\n",
              "                                       (&#x27;tfidf&#x27;, TfidfTransformer()),\n",
              "                                       (&#x27;clf&#x27;, LogisticRegression())]),\n",
              "             n_jobs=-1,\n",
              "             param_grid={&#x27;clf__C&#x27;: array([1.e-03, 1.e-02, 1.e-01, 1.e+00, 1.e+01, 1.e+02, 1.e+03]),\n",
              "                         &#x27;clf__penalty&#x27;: [&#x27;l1&#x27;, &#x27;l2&#x27;],\n",
              "                         &#x27;tfidf__use_idf&#x27;: (True, False),\n",
              "                         &#x27;vect__analyzer&#x27;: [&#x27;word&#x27;],\n",
              "                         &#x27;vect__max_df&#x27;: (0.5, 0.75, 1.0),\n",
              "                         &#x27;vect__ngram_range&#x27;: [(1, 1), (2, 2), (3, 3)]},\n",
              "             refit=&#x27;accuracy&#x27;, scoring=[&#x27;accuracy&#x27;, &#x27;f1&#x27;], verbose=1)</pre></div></div></div><div class=\"sk-parallel\"><div class=\"sk-parallel-item\"><div class=\"sk-item\"><div class=\"sk-label-container\"><div class=\"sk-label sk-toggleable\"><input class=\"sk-toggleable__control sk-hidden--visually\" id=\"sk-estimator-id-6\" type=\"checkbox\" ><label for=\"sk-estimator-id-6\" class=\"sk-toggleable__label sk-toggleable__label-arrow\">estimator: Pipeline</label><div class=\"sk-toggleable__content\"><pre>Pipeline(steps=[(&#x27;vect&#x27;, CountVectorizer()), (&#x27;tfidf&#x27;, TfidfTransformer()),\n",
              "                (&#x27;clf&#x27;, LogisticRegression())])</pre></div></div></div><div class=\"sk-serial\"><div class=\"sk-item\"><div class=\"sk-serial\"><div class=\"sk-item\"><div class=\"sk-estimator sk-toggleable\"><input class=\"sk-toggleable__control sk-hidden--visually\" id=\"sk-estimator-id-7\" type=\"checkbox\" ><label for=\"sk-estimator-id-7\" class=\"sk-toggleable__label sk-toggleable__label-arrow\">CountVectorizer</label><div class=\"sk-toggleable__content\"><pre>CountVectorizer()</pre></div></div></div><div class=\"sk-item\"><div class=\"sk-estimator sk-toggleable\"><input class=\"sk-toggleable__control sk-hidden--visually\" id=\"sk-estimator-id-8\" type=\"checkbox\" ><label for=\"sk-estimator-id-8\" class=\"sk-toggleable__label sk-toggleable__label-arrow\">TfidfTransformer</label><div class=\"sk-toggleable__content\"><pre>TfidfTransformer()</pre></div></div></div><div class=\"sk-item\"><div class=\"sk-estimator sk-toggleable\"><input class=\"sk-toggleable__control sk-hidden--visually\" id=\"sk-estimator-id-9\" type=\"checkbox\" ><label for=\"sk-estimator-id-9\" class=\"sk-toggleable__label sk-toggleable__label-arrow\">LogisticRegression</label><div class=\"sk-toggleable__content\"><pre>LogisticRegression()</pre></div></div></div></div></div></div></div></div></div></div></div></div>"
            ],
            "text/plain": [
              "GridSearchCV(cv=4,\n",
              "             estimator=Pipeline(steps=[('vect', CountVectorizer()),\n",
              "                                       ('tfidf', TfidfTransformer()),\n",
              "                                       ('clf', LogisticRegression())]),\n",
              "             n_jobs=-1,\n",
              "             param_grid={'clf__C': array([1.e-03, 1.e-02, 1.e-01, 1.e+00, 1.e+01, 1.e+02, 1.e+03]),\n",
              "                         'clf__penalty': ['l1', 'l2'],\n",
              "                         'tfidf__use_idf': (True, False),\n",
              "                         'vect__analyzer': ['word'],\n",
              "                         'vect__max_df': (0.5, 0.75, 1.0),\n",
              "                         'vect__ngram_range': [(1, 1), (2, 2), (3, 3)]},\n",
              "             refit='accuracy', scoring=['accuracy', 'f1'], verbose=1)"
            ]
          },
          "execution_count": 451,
          "metadata": {},
          "output_type": "execute_result"
        }
      ],
      "source": [
        "grid_tfidf.fit(X_train, y_train)"
      ]
    },
    {
      "cell_type": "code",
      "execution_count": null,
      "metadata": {
        "id": "SyiKDIKopng_",
        "outputId": "9a8ebeb7-5ea6-43ab-88a0-c380cb0a9e3a"
      },
      "outputs": [
        {
          "name": "stdout",
          "output_type": "stream",
          "text": [
            "Best score: 0.945\n"
          ]
        }
      ],
      "source": [
        "print(\"Best score: %0.3f\" % grid_tfidf.best_score_)"
      ]
    },
    {
      "cell_type": "code",
      "execution_count": null,
      "metadata": {
        "id": "yokrBAF0png_"
      },
      "outputs": [],
      "source": [
        "tfidf_predictions = grid_tfidf.best_estimator_.predict(X_test)"
      ]
    },
    {
      "cell_type": "code",
      "execution_count": null,
      "metadata": {
        "id": "SUIkq9WWpng_",
        "outputId": "747a4e83-d96b-4f31-e423-bdec02c13295"
      },
      "outputs": [
        {
          "name": "stdout",
          "output_type": "stream",
          "text": [
            "Precision:   0.96\n",
            "Recall:      0.96\n",
            "F1_score:    0.96\n",
            "Accuracy:    0.96\n"
          ]
        }
      ],
      "source": [
        "print_acc(tfidf_predictions)"
      ]
    },
    {
      "cell_type": "code",
      "execution_count": null,
      "metadata": {
        "id": "wF_QXapKpng_",
        "outputId": "72a05b15-2d43-4c91-ace7-1213dc1ad865"
      },
      "outputs": [
        {
          "name": "stdout",
          "output_type": "stream",
          "text": [
            "              precision    recall  f1-score   support\n",
            "\n",
            "         1.0       0.94      0.98      0.96      1536\n",
            "         5.0       0.97      0.94      0.96      1464\n",
            "\n",
            "    accuracy                           0.96      3000\n",
            "   macro avg       0.96      0.96      0.96      3000\n",
            "weighted avg       0.96      0.96      0.96      3000\n",
            "\n"
          ]
        }
      ],
      "source": [
        "print(classification_report(y_test, tfidf_predictions))"
      ]
    },
    {
      "cell_type": "code",
      "execution_count": null,
      "metadata": {
        "id": "t1kq4ewApng_",
        "outputId": "0657f301-c0f9-4b71-93fd-c05df5e7de71"
      },
      "outputs": [
        {
          "data": {
            "image/png": "[encoded data removed]",
            "text/plain": [
              "<Figure size 640x480 with 1 Axes>"
            ]
          },
          "metadata": {},
          "output_type": "display_data"
        }
      ],
      "source": [
        "labels = grid_tfidf.best_estimator_.classes_\n",
        "\n",
        "sns.heatmap(\n",
        "    data=confusion_matrix(y_test, tfidf_predictions),\n",
        "    annot=True,\n",
        "    fmt=\"d\",\n",
        "    cbar=False,\n",
        "    xticklabels=labels,\n",
        "    yticklabels=labels\n",
        ")\n",
        "\n",
        "plt.title(\"Confusion matrix\")\n",
        "plt.show()"
      ]
    },
    {
      "cell_type": "markdown",
      "metadata": {
        "id": "4jR6Hrl5png_"
      },
      "source": [
        "Cингулярное разложение"
      ]
    },
    {
      "cell_type": "code",
      "execution_count": null,
      "metadata": {
        "id": "dZFiWPkypng_"
      },
      "outputs": [],
      "source": [
        "from sklearn.decomposition import TruncatedSVD"
      ]
    },
    {
      "cell_type": "code",
      "execution_count": null,
      "metadata": {
        "id": "eANeIHzDpng_"
      },
      "outputs": [],
      "source": [
        "clf_SVD = Pipeline(\n",
        "    [('vect', CountVectorizer()),\n",
        "     ('tfidf', TfidfTransformer()),\n",
        "     ('tsvd', TruncatedSVD()),\n",
        "     ('clf', LogisticRegression())]\n",
        ")\n",
        "\n",
        "params_SVD = {\n",
        "    'vect__analyzer': ['word'],\n",
        "    'vect__ngram_range': [(1, 1), (2, 2), (3, 3)],\n",
        "    'tsvd__n_components': [5, 10, 25, 50, 100],\n",
        "    'clf__C': np.logspace(-3, 3, 7),\n",
        "    'clf__penalty': ['l1', 'l2']\n",
        "}\n",
        "\n",
        "scores = ['accuracy','f1']"
      ]
    },
    {
      "cell_type": "code",
      "execution_count": null,
      "metadata": {
        "id": "FgiyKmyfpnhA"
      },
      "outputs": [],
      "source": [
        "grid_SVD = GridSearchCV(\n",
        "    clf_SVD,\n",
        "    param_grid=params_SVD,\n",
        "    cv=4,\n",
        "    scoring=scores,\n",
        "    refit=scores[0],\n",
        "    n_jobs=-1,\n",
        "    verbose=1\n",
        ")"
      ]
    },
    {
      "cell_type": "code",
      "execution_count": null,
      "metadata": {
        "id": "SQyHzS-ppnhA",
        "outputId": "5644c07f-ed8e-4129-a53a-f5fcad0bf122"
      },
      "outputs": [
        {
          "name": "stdout",
          "output_type": "stream",
          "text": [
            "Fitting 4 folds for each of 210 candidates, totalling 840 fits\n"
          ]
        },
        {
          "name": "stderr",
          "output_type": "stream",
          "text": [
            "C:\\Users\\Suile\\anaconda3\\Lib\\site-packages\\sklearn\\model_selection\\_validation.py:425: FitFailedWarning: \n",
            "420 fits failed out of a total of 840.\n",
            "The score on these train-test partitions for these parameters will be set to nan.\n",
            "If these failures are not expected, you can try to debug them by setting error_score='raise'.\n",
            "\n",
            "Below are more details about the failures:\n",
            "--------------------------------------------------------------------------------\n",
            "420 fits failed with the following error:\n",
            "Traceback (most recent call last):\n",
            "  File \"C:\\Users\\Suile\\anaconda3\\Lib\\site-packages\\sklearn\\model_selection\\_validation.py\", line 732, in _fit_and_score\n",
            "    estimator.fit(X_train, y_train, **fit_params)\n",
            "  File \"C:\\Users\\Suile\\anaconda3\\Lib\\site-packages\\sklearn\\base.py\", line 1151, in wrapper\n",
            "    return fit_method(estimator, *args, **kwargs)\n",
            "           ^^^^^^^^^^^^^^^^^^^^^^^^^^^^^^^^^^^^^^\n",
            "  File \"C:\\Users\\Suile\\anaconda3\\Lib\\site-packages\\sklearn\\pipeline.py\", line 420, in fit\n",
            "    self._final_estimator.fit(Xt, y, **fit_params_last_step)\n",
            "  File \"C:\\Users\\Suile\\anaconda3\\Lib\\site-packages\\sklearn\\base.py\", line 1151, in wrapper\n",
            "    return fit_method(estimator, *args, **kwargs)\n",
            "           ^^^^^^^^^^^^^^^^^^^^^^^^^^^^^^^^^^^^^^\n",
            "  File \"C:\\Users\\Suile\\anaconda3\\Lib\\site-packages\\sklearn\\linear_model\\_logistic.py\", line 1168, in fit\n",
            "    solver = _check_solver(self.solver, self.penalty, self.dual)\n",
            "             ^^^^^^^^^^^^^^^^^^^^^^^^^^^^^^^^^^^^^^^^^^^^^^^^^^^\n",
            "  File \"C:\\Users\\Suile\\anaconda3\\Lib\\site-packages\\sklearn\\linear_model\\_logistic.py\", line 56, in _check_solver\n",
            "    raise ValueError(\n",
            "ValueError: Solver lbfgs supports only 'l2' or 'none' penalties, got l1 penalty.\n",
            "\n",
            "  warnings.warn(some_fits_failed_message, FitFailedWarning)\n",
            "C:\\Users\\Suile\\anaconda3\\Lib\\site-packages\\sklearn\\model_selection\\_search.py:976: UserWarning: One or more of the test scores are non-finite: [       nan        nan        nan        nan        nan        nan\n",
            "        nan        nan        nan        nan        nan        nan\n",
            "        nan        nan        nan 0.58271429 0.50514286 0.50514286\n",
            " 0.59842857 0.50514286 0.50514286 0.59414286 0.50514286 0.50514286\n",
            " 0.59528571 0.50514286 0.50514286 0.59628571 0.50514286 0.50514286\n",
            "        nan        nan        nan        nan        nan        nan\n",
            "        nan        nan        nan        nan        nan        nan\n",
            "        nan        nan        nan 0.79642857 0.57271429 0.50514286\n",
            " 0.82685714 0.58071429 0.50514286 0.85685714 0.58671429 0.50514286\n",
            " 0.86385714 0.58928571 0.50514286 0.86685714 0.58814286 0.50514286\n",
            "        nan        nan        nan        nan        nan        nan\n",
            "        nan        nan        nan        nan        nan        nan\n",
            "        nan        nan        nan 0.80957143 0.77785714 0.51585714\n",
            " 0.85014286 0.79485714 0.52842857 0.88371429 0.82242857 0.54385714\n",
            " 0.89542857 0.84       0.56142857 0.89885714 0.84614286 0.58442857\n",
            "        nan        nan        nan        nan        nan        nan\n",
            "        nan        nan        nan        nan        nan        nan\n",
            "        nan        nan        nan 0.81285714 0.798      0.60928571\n",
            " 0.85971429 0.821      0.63714286 0.905      0.85514286 0.69971429\n",
            " 0.925      0.86657143 0.73057143 0.93057143 0.876      0.76042857\n",
            "        nan        nan        nan        nan        nan        nan\n",
            "        nan        nan        nan        nan        nan        nan\n",
            "        nan        nan        nan 0.81357143 0.80485714 0.641\n",
            " 0.86       0.82457143 0.68671429 0.91557143 0.86685714 0.72657143\n",
            " 0.93085714 0.88471429 0.76514286 0.93828571 0.898      0.77557143\n",
            "        nan        nan        nan        nan        nan        nan\n",
            "        nan        nan        nan        nan        nan        nan\n",
            "        nan        nan        nan 0.813      0.80914286 0.67414286\n",
            " 0.86071429 0.82842857 0.66728571 0.91371429 0.866      0.74242857\n",
            " 0.93214286 0.888      0.75657143 0.93885714 0.89642857 0.77014286\n",
            "        nan        nan        nan        nan        nan        nan\n",
            "        nan        nan        nan        nan        nan        nan\n",
            "        nan        nan        nan 0.81314286 0.80628571 0.67028571\n",
            " 0.86085714 0.83328571 0.705      0.91714286 0.87214286 0.72628571\n",
            " 0.93214286 0.88371429 0.75671429 0.93642857 0.89585714 0.77542857]\n",
            "  warnings.warn(\n",
            "C:\\Users\\Suile\\anaconda3\\Lib\\site-packages\\sklearn\\model_selection\\_search.py:976: UserWarning: One or more of the test scores are non-finite: [       nan        nan        nan        nan        nan        nan\n",
            "        nan        nan        nan        nan        nan        nan\n",
            "        nan        nan        nan 0.29040175 0.         0.\n",
            " 0.32646456 0.         0.         0.31365223 0.         0.\n",
            " 0.31560337 0.         0.         0.31814188 0.         0.\n",
            "        nan        nan        nan        nan        nan        nan\n",
            "        nan        nan        nan        nan        nan        nan\n",
            "        nan        nan        nan 0.78091033 0.25566505 0.\n",
            " 0.81590045 0.27882204 0.         0.85110766 0.29413451 0.\n",
            " 0.85863204 0.30027996 0.         0.8619275  0.29660701 0.\n",
            "        nan        nan        nan        nan        nan        nan\n",
            "        nan        nan        nan        nan        nan        nan\n",
            "        nan        nan        nan 0.80447399 0.75266394 0.04631156\n",
            " 0.84741965 0.77318624 0.1050311  0.88439275 0.80869272 0.16353878\n",
            " 0.89624386 0.82857716 0.22804281 0.89949475 0.83637659 0.30286368\n",
            "        nan        nan        nan        nan        nan        nan\n",
            "        nan        nan        nan        nan        nan        nan\n",
            "        nan        nan        nan 0.80940509 0.78837552 0.42108929\n",
            " 0.85826994 0.81468998 0.50945695 0.90589572 0.85195466 0.6410033\n",
            " 0.9259358  0.86435115 0.68922856 0.93128683 0.87465607 0.73461891\n",
            "        nan        nan        nan        nan        nan        nan\n",
            "        nan        nan        nan        nan        nan        nan\n",
            "        nan        nan        nan 0.81053706 0.79804429 0.58735776\n",
            " 0.85868808 0.8192318  0.64685679 0.91604058 0.86524559 0.71489119\n",
            " 0.93120297 0.88399503 0.76179238 0.93847885 0.89762664 0.77294704\n",
            "        nan        nan        nan        nan        nan        nan\n",
            "        nan        nan        nan        nan        nan        nan\n",
            "        nan        nan        nan 0.81007411 0.80259386 0.6655861\n",
            " 0.85944472 0.82389853 0.63628075 0.91373782 0.86275964 0.73325988\n",
            " 0.9320203  0.88590659 0.75097537 0.93880976 0.89500992 0.76693248\n",
            "        nan        nan        nan        nan        nan        nan\n",
            "        nan        nan        nan        nan        nan        nan\n",
            "        nan        nan        nan 0.81007754 0.79966816 0.65776941\n",
            " 0.85965883 0.82845798 0.69700644 0.91730599 0.86946114 0.72677263\n",
            " 0.93190418 0.88142078 0.75276738 0.93644393 0.89386168 0.76939391]\n",
            "  warnings.warn(\n"
          ]
        },
        {
          "data": {
            "text/html": [
              "<style>#sk-container-id-3 {color: black;}#sk-container-id-3 pre{padding: 0;}#sk-container-id-3 div.sk-toggleable {background-color: white;}#sk-container-id-3 label.sk-toggleable__label {cursor: pointer;display: block;width: 100%;margin-bottom: 0;padding: 0.3em;box-sizing: border-box;text-align: center;}#sk-container-id-3 label.sk-toggleable__label-arrow:before {content: \"▸\";float: left;margin-right: 0.25em;color: #696969;}#sk-container-id-3 label.sk-toggleable__label-arrow:hover:before {color: black;}#sk-container-id-3 div.sk-estimator:hover label.sk-toggleable__label-arrow:before {color: black;}#sk-container-id-3 div.sk-toggleable__content {max-height: 0;max-width: 0;overflow: hidden;text-align: left;background-color: #f0f8ff;}#sk-container-id-3 div.sk-toggleable__content pre {margin: 0.2em;color: black;border-radius: 0.25em;background-color: #f0f8ff;}#sk-container-id-3 input.sk-toggleable__control:checked~div.sk-toggleable__content {max-height: 200px;max-width: 100%;overflow: auto;}#sk-container-id-3 input.sk-toggleable__control:checked~label.sk-toggleable__label-arrow:before {content: \"▾\";}#sk-container-id-3 div.sk-estimator input.sk-toggleable__control:checked~label.sk-toggleable__label {background-color: #d4ebff;}#sk-container-id-3 div.sk-label input.sk-toggleable__control:checked~label.sk-toggleable__label {background-color: #d4ebff;}#sk-container-id-3 input.sk-hidden--visually {border: 0;clip: rect(1px 1px 1px 1px);clip: rect(1px, 1px, 1px, 1px);height: 1px;margin: -1px;overflow: hidden;padding: 0;position: absolute;width: 1px;}#sk-container-id-3 div.sk-estimator {font-family: monospace;background-color: #f0f8ff;border: 1px dotted black;border-radius: 0.25em;box-sizing: border-box;margin-bottom: 0.5em;}#sk-container-id-3 div.sk-estimator:hover {background-color: #d4ebff;}#sk-container-id-3 div.sk-parallel-item::after {content: \"\";width: 100%;border-bottom: 1px solid gray;flex-grow: 1;}#sk-container-id-3 div.sk-label:hover label.sk-toggleable__label {background-color: #d4ebff;}#sk-container-id-3 div.sk-serial::before {content: \"\";position: absolute;border-left: 1px solid gray;box-sizing: border-box;top: 0;bottom: 0;left: 50%;z-index: 0;}#sk-container-id-3 div.sk-serial {display: flex;flex-direction: column;align-items: center;background-color: white;padding-right: 0.2em;padding-left: 0.2em;position: relative;}#sk-container-id-3 div.sk-item {position: relative;z-index: 1;}#sk-container-id-3 div.sk-parallel {display: flex;align-items: stretch;justify-content: center;background-color: white;position: relative;}#sk-container-id-3 div.sk-item::before, #sk-container-id-3 div.sk-parallel-item::before {content: \"\";position: absolute;border-left: 1px solid gray;box-sizing: border-box;top: 0;bottom: 0;left: 50%;z-index: -1;}#sk-container-id-3 div.sk-parallel-item {display: flex;flex-direction: column;z-index: 1;position: relative;background-color: white;}#sk-container-id-3 div.sk-parallel-item:first-child::after {align-self: flex-end;width: 50%;}#sk-container-id-3 div.sk-parallel-item:last-child::after {align-self: flex-start;width: 50%;}#sk-container-id-3 div.sk-parallel-item:only-child::after {width: 0;}#sk-container-id-3 div.sk-dashed-wrapped {border: 1px dashed gray;margin: 0 0.4em 0.5em 0.4em;box-sizing: border-box;padding-bottom: 0.4em;background-color: white;}#sk-container-id-3 div.sk-label label {font-family: monospace;font-weight: bold;display: inline-block;line-height: 1.2em;}#sk-container-id-3 div.sk-label-container {text-align: center;}#sk-container-id-3 div.sk-container {/* jupyter's `normalize.less` sets `[hidden] { display: none; }` but bootstrap.min.css set `[hidden] { display: none !important; }` so we also need the `!important` here to be able to override the default hidden behavior on the sphinx rendered scikit-learn.org. See: https://github.com/scikit-learn/scikit-learn/issues/21755 */display: inline-block !important;position: relative;}#sk-container-id-3 div.sk-text-repr-fallback {display: none;}</style><div id=\"sk-container-id-3\" class=\"sk-top-container\"><div class=\"sk-text-repr-fallback\"><pre>GridSearchCV(cv=4,\n",
              "             estimator=Pipeline(steps=[(&#x27;vect&#x27;, CountVectorizer()),\n",
              "                                       (&#x27;tfidf&#x27;, TfidfTransformer()),\n",
              "                                       (&#x27;tsvd&#x27;, TruncatedSVD()),\n",
              "                                       (&#x27;clf&#x27;, LogisticRegression())]),\n",
              "             n_jobs=-1,\n",
              "             param_grid={&#x27;clf__C&#x27;: array([1.e-03, 1.e-02, 1.e-01, 1.e+00, 1.e+01, 1.e+02, 1.e+03]),\n",
              "                         &#x27;clf__penalty&#x27;: [&#x27;l1&#x27;, &#x27;l2&#x27;],\n",
              "                         &#x27;tsvd__n_components&#x27;: [5, 10, 25, 50, 100],\n",
              "                         &#x27;vect__analyzer&#x27;: [&#x27;word&#x27;],\n",
              "                         &#x27;vect__ngram_range&#x27;: [(1, 1), (2, 2), (3, 3)]},\n",
              "             refit=&#x27;accuracy&#x27;, scoring=[&#x27;accuracy&#x27;, &#x27;f1&#x27;], verbose=1)</pre><b>In a Jupyter environment, please rerun this cell to show the HTML representation or trust the notebook. <br />On GitHub, the HTML representation is unable to render, please try loading this page with nbviewer.org.</b></div><div class=\"sk-container\" hidden><div class=\"sk-item sk-dashed-wrapped\"><div class=\"sk-label-container\"><div class=\"sk-label sk-toggleable\"><input class=\"sk-toggleable__control sk-hidden--visually\" id=\"sk-estimator-id-10\" type=\"checkbox\" ><label for=\"sk-estimator-id-10\" class=\"sk-toggleable__label sk-toggleable__label-arrow\">GridSearchCV</label><div class=\"sk-toggleable__content\"><pre>GridSearchCV(cv=4,\n",
              "             estimator=Pipeline(steps=[(&#x27;vect&#x27;, CountVectorizer()),\n",
              "                                       (&#x27;tfidf&#x27;, TfidfTransformer()),\n",
              "                                       (&#x27;tsvd&#x27;, TruncatedSVD()),\n",
              "                                       (&#x27;clf&#x27;, LogisticRegression())]),\n",
              "             n_jobs=-1,\n",
              "             param_grid={&#x27;clf__C&#x27;: array([1.e-03, 1.e-02, 1.e-01, 1.e+00, 1.e+01, 1.e+02, 1.e+03]),\n",
              "                         &#x27;clf__penalty&#x27;: [&#x27;l1&#x27;, &#x27;l2&#x27;],\n",
              "                         &#x27;tsvd__n_components&#x27;: [5, 10, 25, 50, 100],\n",
              "                         &#x27;vect__analyzer&#x27;: [&#x27;word&#x27;],\n",
              "                         &#x27;vect__ngram_range&#x27;: [(1, 1), (2, 2), (3, 3)]},\n",
              "             refit=&#x27;accuracy&#x27;, scoring=[&#x27;accuracy&#x27;, &#x27;f1&#x27;], verbose=1)</pre></div></div></div><div class=\"sk-parallel\"><div class=\"sk-parallel-item\"><div class=\"sk-item\"><div class=\"sk-label-container\"><div class=\"sk-label sk-toggleable\"><input class=\"sk-toggleable__control sk-hidden--visually\" id=\"sk-estimator-id-11\" type=\"checkbox\" ><label for=\"sk-estimator-id-11\" class=\"sk-toggleable__label sk-toggleable__label-arrow\">estimator: Pipeline</label><div class=\"sk-toggleable__content\"><pre>Pipeline(steps=[(&#x27;vect&#x27;, CountVectorizer()), (&#x27;tfidf&#x27;, TfidfTransformer()),\n",
              "                (&#x27;tsvd&#x27;, TruncatedSVD()), (&#x27;clf&#x27;, LogisticRegression())])</pre></div></div></div><div class=\"sk-serial\"><div class=\"sk-item\"><div class=\"sk-serial\"><div class=\"sk-item\"><div class=\"sk-estimator sk-toggleable\"><input class=\"sk-toggleable__control sk-hidden--visually\" id=\"sk-estimator-id-12\" type=\"checkbox\" ><label for=\"sk-estimator-id-12\" class=\"sk-toggleable__label sk-toggleable__label-arrow\">CountVectorizer</label><div class=\"sk-toggleable__content\"><pre>CountVectorizer()</pre></div></div></div><div class=\"sk-item\"><div class=\"sk-estimator sk-toggleable\"><input class=\"sk-toggleable__control sk-hidden--visually\" id=\"sk-estimator-id-13\" type=\"checkbox\" ><label for=\"sk-estimator-id-13\" class=\"sk-toggleable__label sk-toggleable__label-arrow\">TfidfTransformer</label><div class=\"sk-toggleable__content\"><pre>TfidfTransformer()</pre></div></div></div><div class=\"sk-item\"><div class=\"sk-estimator sk-toggleable\"><input class=\"sk-toggleable__control sk-hidden--visually\" id=\"sk-estimator-id-14\" type=\"checkbox\" ><label for=\"sk-estimator-id-14\" class=\"sk-toggleable__label sk-toggleable__label-arrow\">TruncatedSVD</label><div class=\"sk-toggleable__content\"><pre>TruncatedSVD()</pre></div></div></div><div class=\"sk-item\"><div class=\"sk-estimator sk-toggleable\"><input class=\"sk-toggleable__control sk-hidden--visually\" id=\"sk-estimator-id-15\" type=\"checkbox\" ><label for=\"sk-estimator-id-15\" class=\"sk-toggleable__label sk-toggleable__label-arrow\">LogisticRegression</label><div class=\"sk-toggleable__content\"><pre>LogisticRegression()</pre></div></div></div></div></div></div></div></div></div></div></div></div>"
            ],
            "text/plain": [
              "GridSearchCV(cv=4,\n",
              "             estimator=Pipeline(steps=[('vect', CountVectorizer()),\n",
              "                                       ('tfidf', TfidfTransformer()),\n",
              "                                       ('tsvd', TruncatedSVD()),\n",
              "                                       ('clf', LogisticRegression())]),\n",
              "             n_jobs=-1,\n",
              "             param_grid={'clf__C': array([1.e-03, 1.e-02, 1.e-01, 1.e+00, 1.e+01, 1.e+02, 1.e+03]),\n",
              "                         'clf__penalty': ['l1', 'l2'],\n",
              "                         'tsvd__n_components': [5, 10, 25, 50, 100],\n",
              "                         'vect__analyzer': ['word'],\n",
              "                         'vect__ngram_range': [(1, 1), (2, 2), (3, 3)]},\n",
              "             refit='accuracy', scoring=['accuracy', 'f1'], verbose=1)"
            ]
          },
          "execution_count": 462,
          "metadata": {},
          "output_type": "execute_result"
        }
      ],
      "source": [
        "grid_SVD.fit(X_train, y_train)"
      ]
    },
    {
      "cell_type": "code",
      "execution_count": null,
      "metadata": {
        "id": "t200RztTpnhA",
        "outputId": "dba9f204-2e90-4e0a-9178-9ede4f44ecb7"
      },
      "outputs": [
        {
          "name": "stdout",
          "output_type": "stream",
          "text": [
            "Best score: 0.939\n"
          ]
        }
      ],
      "source": [
        "print(\"Best score: %0.3f\" % grid_SVD.best_score_)"
      ]
    },
    {
      "cell_type": "code",
      "execution_count": null,
      "metadata": {
        "id": "0xNdfij1pnhA"
      },
      "outputs": [],
      "source": [
        "svd_predictions = grid_SVD.best_estimator_.predict(X_test)"
      ]
    },
    {
      "cell_type": "code",
      "execution_count": null,
      "metadata": {
        "id": "qsfc_ZrrpnhA",
        "outputId": "50516c7a-5a68-497e-a23c-4e5544eb1ad7"
      },
      "outputs": [
        {
          "name": "stdout",
          "output_type": "stream",
          "text": [
            "Precision:   0.95\n",
            "Recall:      0.95\n",
            "F1_score:    0.95\n",
            "Accuracy:    0.95\n"
          ]
        }
      ],
      "source": [
        "print_acc(svd_predictions)"
      ]
    },
    {
      "cell_type": "code",
      "execution_count": null,
      "metadata": {
        "id": "c1iLsBBhpnhA",
        "outputId": "2ddaf12e-61cf-48fd-912e-377a58eea80f"
      },
      "outputs": [
        {
          "name": "stdout",
          "output_type": "stream",
          "text": [
            "              precision    recall  f1-score   support\n",
            "\n",
            "         1.0       0.94      0.96      0.95      1536\n",
            "         5.0       0.95      0.94      0.95      1464\n",
            "\n",
            "    accuracy                           0.95      3000\n",
            "   macro avg       0.95      0.95      0.95      3000\n",
            "weighted avg       0.95      0.95      0.95      3000\n",
            "\n"
          ]
        }
      ],
      "source": [
        "print(classification_report(y_test, svd_predictions))"
      ]
    },
    {
      "cell_type": "code",
      "execution_count": null,
      "metadata": {
        "id": "ftACQBdZpnhB",
        "outputId": "5333b2d6-8482-41a9-99c2-ef2c1dbfaa2d"
      },
      "outputs": [
        {
          "data": {
            "image/png": "[encoded data removed]",
            "text/plain": [
              "<Figure size 640x480 with 1 Axes>"
            ]
          },
          "metadata": {},
          "output_type": "display_data"
        }
      ],
      "source": [
        "labels = grid_SVD.best_estimator_.classes_\n",
        "\n",
        "sns.heatmap(\n",
        "    data=confusion_matrix(y_test, svd_predictions),\n",
        "    annot=True,\n",
        "    fmt=\"d\",\n",
        "    cbar=False,\n",
        "    xticklabels=labels,\n",
        "    yticklabels=labels\n",
        ")\n",
        "\n",
        "plt.title(\"Confusion matrix\")\n",
        "plt.show()"
      ]
    },
    {
      "cell_type": "markdown",
      "metadata": {
        "id": "YFOnm2MKpnhB"
      },
      "source": [
        "2-ой вариант: тематические модели LDA (sklearn.decomposition.LatentDirichletAllocation). Используйте accuracy и F-measure для оценки качества классификации."
      ]
    },
    {
      "cell_type": "code",
      "execution_count": null,
      "metadata": {
        "id": "9Qf_Bkt2pnhB",
        "outputId": "4f700f25-8a0a-4901-d2ea-61f511651900"
      },
      "outputs": [
        {
          "data": {
            "text/plain": [
              "6670"
            ]
          },
          "execution_count": 474,
          "metadata": {},
          "output_type": "execute_result"
        }
      ],
      "source": [
        "gc.collect()"
      ]
    },
    {
      "cell_type": "code",
      "execution_count": null,
      "metadata": {
        "id": "k4Jq0FOtpnhB"
      },
      "outputs": [],
      "source": [
        "from sklearn.decomposition import LatentDirichletAllocation"
      ]
    },
    {
      "cell_type": "code",
      "execution_count": null,
      "metadata": {
        "id": "9ENaAxY1pnhB"
      },
      "outputs": [],
      "source": [
        "clf_LDA = Pipeline(\n",
        "    [('vect', CountVectorizer()),\n",
        "     ('lda', LatentDirichletAllocation()),\n",
        "     ('clf', LogisticRegression())]\n",
        ")\n",
        "\n",
        "params_LDA = {\n",
        "    'vect__analyzer': ['word'],\n",
        "    'vect__max_df': [0.75],\n",
        "    'vect__ngram_range': [(1, 1)],\n",
        "    'lda__n_components' : [25, 50, 100],\n",
        "    'clf__C': np.logspace(-3, 3, 7),\n",
        "    'clf__penalty': ['l2']\n",
        "}\n",
        "\n",
        "scores = ['accuracy', 'f1']"
      ]
    },
    {
      "cell_type": "code",
      "execution_count": null,
      "metadata": {
        "id": "HBEKvaQHpnhB"
      },
      "outputs": [],
      "source": [
        "grid_LDA = GridSearchCV(\n",
        "    clf_LDA,\n",
        "    param_grid=params_LDA,\n",
        "    cv=4,\n",
        "    scoring=scores,\n",
        "    refit=scores[0],\n",
        "    n_jobs=-1,\n",
        "    verbose=1\n",
        ")"
      ]
    },
    {
      "cell_type": "code",
      "execution_count": null,
      "metadata": {
        "id": "uK_WWAZnpnhB",
        "outputId": "950ae253-c51a-4c9d-eb17-7fcbbc5a6cfa"
      },
      "outputs": [
        {
          "name": "stdout",
          "output_type": "stream",
          "text": [
            "Fitting 4 folds for each of 21 candidates, totalling 84 fits\n"
          ]
        },
        {
          "data": {
            "text/html": [
              "<style>#sk-container-id-4 {color: black;}#sk-container-id-4 pre{padding: 0;}#sk-container-id-4 div.sk-toggleable {background-color: white;}#sk-container-id-4 label.sk-toggleable__label {cursor: pointer;display: block;width: 100%;margin-bottom: 0;padding: 0.3em;box-sizing: border-box;text-align: center;}#sk-container-id-4 label.sk-toggleable__label-arrow:before {content: \"▸\";float: left;margin-right: 0.25em;color: #696969;}#sk-container-id-4 label.sk-toggleable__label-arrow:hover:before {color: black;}#sk-container-id-4 div.sk-estimator:hover label.sk-toggleable__label-arrow:before {color: black;}#sk-container-id-4 div.sk-toggleable__content {max-height: 0;max-width: 0;overflow: hidden;text-align: left;background-color: #f0f8ff;}#sk-container-id-4 div.sk-toggleable__content pre {margin: 0.2em;color: black;border-radius: 0.25em;background-color: #f0f8ff;}#sk-container-id-4 input.sk-toggleable__control:checked~div.sk-toggleable__content {max-height: 200px;max-width: 100%;overflow: auto;}#sk-container-id-4 input.sk-toggleable__control:checked~label.sk-toggleable__label-arrow:before {content: \"▾\";}#sk-container-id-4 div.sk-estimator input.sk-toggleable__control:checked~label.sk-toggleable__label {background-color: #d4ebff;}#sk-container-id-4 div.sk-label input.sk-toggleable__control:checked~label.sk-toggleable__label {background-color: #d4ebff;}#sk-container-id-4 input.sk-hidden--visually {border: 0;clip: rect(1px 1px 1px 1px);clip: rect(1px, 1px, 1px, 1px);height: 1px;margin: -1px;overflow: hidden;padding: 0;position: absolute;width: 1px;}#sk-container-id-4 div.sk-estimator {font-family: monospace;background-color: #f0f8ff;border: 1px dotted black;border-radius: 0.25em;box-sizing: border-box;margin-bottom: 0.5em;}#sk-container-id-4 div.sk-estimator:hover {background-color: #d4ebff;}#sk-container-id-4 div.sk-parallel-item::after {content: \"\";width: 100%;border-bottom: 1px solid gray;flex-grow: 1;}#sk-container-id-4 div.sk-label:hover label.sk-toggleable__label {background-color: #d4ebff;}#sk-container-id-4 div.sk-serial::before {content: \"\";position: absolute;border-left: 1px solid gray;box-sizing: border-box;top: 0;bottom: 0;left: 50%;z-index: 0;}#sk-container-id-4 div.sk-serial {display: flex;flex-direction: column;align-items: center;background-color: white;padding-right: 0.2em;padding-left: 0.2em;position: relative;}#sk-container-id-4 div.sk-item {position: relative;z-index: 1;}#sk-container-id-4 div.sk-parallel {display: flex;align-items: stretch;justify-content: center;background-color: white;position: relative;}#sk-container-id-4 div.sk-item::before, #sk-container-id-4 div.sk-parallel-item::before {content: \"\";position: absolute;border-left: 1px solid gray;box-sizing: border-box;top: 0;bottom: 0;left: 50%;z-index: -1;}#sk-container-id-4 div.sk-parallel-item {display: flex;flex-direction: column;z-index: 1;position: relative;background-color: white;}#sk-container-id-4 div.sk-parallel-item:first-child::after {align-self: flex-end;width: 50%;}#sk-container-id-4 div.sk-parallel-item:last-child::after {align-self: flex-start;width: 50%;}#sk-container-id-4 div.sk-parallel-item:only-child::after {width: 0;}#sk-container-id-4 div.sk-dashed-wrapped {border: 1px dashed gray;margin: 0 0.4em 0.5em 0.4em;box-sizing: border-box;padding-bottom: 0.4em;background-color: white;}#sk-container-id-4 div.sk-label label {font-family: monospace;font-weight: bold;display: inline-block;line-height: 1.2em;}#sk-container-id-4 div.sk-label-container {text-align: center;}#sk-container-id-4 div.sk-container {/* jupyter's `normalize.less` sets `[hidden] { display: none; }` but bootstrap.min.css set `[hidden] { display: none !important; }` so we also need the `!important` here to be able to override the default hidden behavior on the sphinx rendered scikit-learn.org. See: https://github.com/scikit-learn/scikit-learn/issues/21755 */display: inline-block !important;position: relative;}#sk-container-id-4 div.sk-text-repr-fallback {display: none;}</style><div id=\"sk-container-id-4\" class=\"sk-top-container\"><div class=\"sk-text-repr-fallback\"><pre>GridSearchCV(cv=4,\n",
              "             estimator=Pipeline(steps=[(&#x27;vect&#x27;, CountVectorizer()),\n",
              "                                       (&#x27;lda&#x27;, LatentDirichletAllocation()),\n",
              "                                       (&#x27;clf&#x27;, LogisticRegression())]),\n",
              "             n_jobs=-1,\n",
              "             param_grid={&#x27;clf__C&#x27;: array([1.e-03, 1.e-02, 1.e-01, 1.e+00, 1.e+01, 1.e+02, 1.e+03]),\n",
              "                         &#x27;clf__penalty&#x27;: [&#x27;l2&#x27;],\n",
              "                         &#x27;lda__n_components&#x27;: [25, 50, 100],\n",
              "                         &#x27;vect__analyzer&#x27;: [&#x27;word&#x27;], &#x27;vect__max_df&#x27;: [0.75],\n",
              "                         &#x27;vect__ngram_range&#x27;: [(1, 1)]},\n",
              "             refit=&#x27;accuracy&#x27;, scoring=[&#x27;accuracy&#x27;, &#x27;f1&#x27;], verbose=1)</pre><b>In a Jupyter environment, please rerun this cell to show the HTML representation or trust the notebook. <br />On GitHub, the HTML representation is unable to render, please try loading this page with nbviewer.org.</b></div><div class=\"sk-container\" hidden><div class=\"sk-item sk-dashed-wrapped\"><div class=\"sk-label-container\"><div class=\"sk-label sk-toggleable\"><input class=\"sk-toggleable__control sk-hidden--visually\" id=\"sk-estimator-id-16\" type=\"checkbox\" ><label for=\"sk-estimator-id-16\" class=\"sk-toggleable__label sk-toggleable__label-arrow\">GridSearchCV</label><div class=\"sk-toggleable__content\"><pre>GridSearchCV(cv=4,\n",
              "             estimator=Pipeline(steps=[(&#x27;vect&#x27;, CountVectorizer()),\n",
              "                                       (&#x27;lda&#x27;, LatentDirichletAllocation()),\n",
              "                                       (&#x27;clf&#x27;, LogisticRegression())]),\n",
              "             n_jobs=-1,\n",
              "             param_grid={&#x27;clf__C&#x27;: array([1.e-03, 1.e-02, 1.e-01, 1.e+00, 1.e+01, 1.e+02, 1.e+03]),\n",
              "                         &#x27;clf__penalty&#x27;: [&#x27;l2&#x27;],\n",
              "                         &#x27;lda__n_components&#x27;: [25, 50, 100],\n",
              "                         &#x27;vect__analyzer&#x27;: [&#x27;word&#x27;], &#x27;vect__max_df&#x27;: [0.75],\n",
              "                         &#x27;vect__ngram_range&#x27;: [(1, 1)]},\n",
              "             refit=&#x27;accuracy&#x27;, scoring=[&#x27;accuracy&#x27;, &#x27;f1&#x27;], verbose=1)</pre></div></div></div><div class=\"sk-parallel\"><div class=\"sk-parallel-item\"><div class=\"sk-item\"><div class=\"sk-label-container\"><div class=\"sk-label sk-toggleable\"><input class=\"sk-toggleable__control sk-hidden--visually\" id=\"sk-estimator-id-17\" type=\"checkbox\" ><label for=\"sk-estimator-id-17\" class=\"sk-toggleable__label sk-toggleable__label-arrow\">estimator: Pipeline</label><div class=\"sk-toggleable__content\"><pre>Pipeline(steps=[(&#x27;vect&#x27;, CountVectorizer()),\n",
              "                (&#x27;lda&#x27;, LatentDirichletAllocation()),\n",
              "                (&#x27;clf&#x27;, LogisticRegression())])</pre></div></div></div><div class=\"sk-serial\"><div class=\"sk-item\"><div class=\"sk-serial\"><div class=\"sk-item\"><div class=\"sk-estimator sk-toggleable\"><input class=\"sk-toggleable__control sk-hidden--visually\" id=\"sk-estimator-id-18\" type=\"checkbox\" ><label for=\"sk-estimator-id-18\" class=\"sk-toggleable__label sk-toggleable__label-arrow\">CountVectorizer</label><div class=\"sk-toggleable__content\"><pre>CountVectorizer()</pre></div></div></div><div class=\"sk-item\"><div class=\"sk-estimator sk-toggleable\"><input class=\"sk-toggleable__control sk-hidden--visually\" id=\"sk-estimator-id-19\" type=\"checkbox\" ><label for=\"sk-estimator-id-19\" class=\"sk-toggleable__label sk-toggleable__label-arrow\">LatentDirichletAllocation</label><div class=\"sk-toggleable__content\"><pre>LatentDirichletAllocation()</pre></div></div></div><div class=\"sk-item\"><div class=\"sk-estimator sk-toggleable\"><input class=\"sk-toggleable__control sk-hidden--visually\" id=\"sk-estimator-id-20\" type=\"checkbox\" ><label for=\"sk-estimator-id-20\" class=\"sk-toggleable__label sk-toggleable__label-arrow\">LogisticRegression</label><div class=\"sk-toggleable__content\"><pre>LogisticRegression()</pre></div></div></div></div></div></div></div></div></div></div></div></div>"
            ],
            "text/plain": [
              "GridSearchCV(cv=4,\n",
              "             estimator=Pipeline(steps=[('vect', CountVectorizer()),\n",
              "                                       ('lda', LatentDirichletAllocation()),\n",
              "                                       ('clf', LogisticRegression())]),\n",
              "             n_jobs=-1,\n",
              "             param_grid={'clf__C': array([1.e-03, 1.e-02, 1.e-01, 1.e+00, 1.e+01, 1.e+02, 1.e+03]),\n",
              "                         'clf__penalty': ['l2'],\n",
              "                         'lda__n_components': [25, 50, 100],\n",
              "                         'vect__analyzer': ['word'], 'vect__max_df': [0.75],\n",
              "                         'vect__ngram_range': [(1, 1)]},\n",
              "             refit='accuracy', scoring=['accuracy', 'f1'], verbose=1)"
            ]
          },
          "execution_count": 482,
          "metadata": {},
          "output_type": "execute_result"
        }
      ],
      "source": [
        "grid_LDA.fit(X_train, y_train)"
      ]
    },
    {
      "cell_type": "code",
      "execution_count": null,
      "metadata": {
        "id": "teYipxWMpnhB",
        "outputId": "c92b6700-f20f-4fed-f240-3ab776f120fa"
      },
      "outputs": [
        {
          "name": "stdout",
          "output_type": "stream",
          "text": [
            "Best score: 0.905\n"
          ]
        }
      ],
      "source": [
        "print(\"Best score: %0.3f\" % grid_LDA.best_score_)"
      ]
    },
    {
      "cell_type": "code",
      "execution_count": null,
      "metadata": {
        "id": "NrRFXf-ZpnhC"
      },
      "outputs": [],
      "source": [
        "lda_predictions = grid_LDA.best_estimator_.predict(X_test)"
      ]
    },
    {
      "cell_type": "code",
      "execution_count": null,
      "metadata": {
        "id": "cCrGkwrXpnhC",
        "outputId": "2b7ed9c7-03f7-49aa-df3c-2851ab56aff7"
      },
      "outputs": [
        {
          "name": "stdout",
          "output_type": "stream",
          "text": [
            "Precision:   0.91\n",
            "Recall:      0.91\n",
            "F1_score:    0.91\n",
            "Accuracy:    0.91\n"
          ]
        }
      ],
      "source": [
        "print_acc(lda_predictions)"
      ]
    },
    {
      "cell_type": "code",
      "execution_count": null,
      "metadata": {
        "id": "jvZaimhopnhC",
        "outputId": "66051183-5ea5-473b-db36-af6e83b19f75"
      },
      "outputs": [
        {
          "name": "stdout",
          "output_type": "stream",
          "text": [
            "              precision    recall  f1-score   support\n",
            "\n",
            "         1.0       0.89      0.93      0.91      1536\n",
            "         5.0       0.92      0.89      0.90      1464\n",
            "\n",
            "    accuracy                           0.91      3000\n",
            "   macro avg       0.91      0.91      0.91      3000\n",
            "weighted avg       0.91      0.91      0.91      3000\n",
            "\n"
          ]
        }
      ],
      "source": [
        "print(classification_report(y_test, lda_predictions))"
      ]
    },
    {
      "cell_type": "code",
      "execution_count": null,
      "metadata": {
        "id": "tf0UmVI6pnhC",
        "outputId": "c894ad32-df25-43ad-c035-a39da97ec84f"
      },
      "outputs": [
        {
          "data": {
            "image/png": "[encoded data removed]",
            "text/plain": [
              "<Figure size 640x480 with 1 Axes>"
            ]
          },
          "metadata": {},
          "output_type": "display_data"
        }
      ],
      "source": [
        "labels = grid_LDA.best_estimator_.classes_\n",
        "\n",
        "sns.heatmap(\n",
        "    data=confusion_matrix(y_test, lda_predictions),\n",
        "    annot=True,\n",
        "    fmt=\"d\",\n",
        "    cbar=False,\n",
        "    xticklabels=labels,\n",
        "    yticklabels=labels\n",
        ")\n",
        "\n",
        "plt.title(\"Confusion matrix\")\n",
        "plt.show()"
      ]
    },
    {
      "cell_type": "code",
      "execution_count": null,
      "metadata": {
        "id": "K2jhadcQpnhC",
        "outputId": "83a421ef-07cd-4f3a-adfb-bb6e2a4abf4f"
      },
      "outputs": [
        {
          "name": "stdout",
          "output_type": "stream",
          "text": [
            "cv\n",
            "f1_score:  0.953\n",
            "Accuracy:  0.953\n",
            "\n",
            "\n",
            "tfidf\n",
            "f1_score:  0.958\n",
            "Accuracy:  0.958\n",
            "\n",
            "\n",
            "SVD\n",
            "f1_score:  0.948\n",
            "Accuracy:  0.948\n",
            "\n",
            "\n",
            "LDA\n",
            "f1_score:  0.906\n",
            "Accuracy:  0.906\n",
            "\n",
            "\n"
          ]
        }
      ],
      "source": [
        "for model in ['grid_cv', 'grid_tfidf', 'grid_SVD', 'grid_LDA']:\n",
        "    print(model[5:])\n",
        "    predictions = eval(model).best_estimator_.predict(X_test)\n",
        "    print(\"f1_score: {0:6.3f}\\nAccuracy: {0:6.3f}\\n\\n\".format(\n",
        "        f1_score(y_test, predictions, average='macro'),\n",
        "        accuracy_score(y_test, predictions)))"
      ]
    },
    {
      "cell_type": "markdown",
      "metadata": {
        "id": "whXlWQPupnhD"
      },
      "source": [
        "#### Выводы:"
      ]
    },
    {
      "cell_type": "markdown",
      "metadata": {
        "id": "_Uy8ECMopnhD"
      },
      "source": [
        "Модель на основк 𝑡𝑓−𝑖𝑑𝑓 имеет больший процент правильных ответов на тестовой выборке"
      ]
    }
  ],
  "metadata": {
    "colab": {
      "provenance": []
    },
    "kernelspec": {
      "display_name": "Python 3 (ipykernel)",
      "language": "python",
      "name": "python3"
    },
    "language_info": {
      "codemirror_mode": {
        "name": "ipython",
        "version": 3
      },
      "file_extension": ".py",
      "mimetype": "text/x-python",
      "name": "python",
      "nbconvert_exporter": "python",
      "pygments_lexer": "ipython3",
      "version": "3.11.5"
    }
  },
  "nbformat": 4,
  "nbformat_minor": 0
}