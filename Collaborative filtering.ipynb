{
  "nbformat": 4,
  "nbformat_minor": 0,
  "metadata": {
    "colab": {
      "provenance": []
    },
    "kernelspec": {
      "name": "python3",
      "display_name": "Python 3"
    },
    "language_info": {
      "name": "python"
    }
  },
  "cells": [
    {
      "cell_type": "markdown",
      "source": [
        "### Коллаборативная фильтрация"
      ],
      "metadata": {
        "id": "gGCK8heGhAlI"
      }
    },
    {
      "cell_type": "markdown",
      "source": [
        "#### Подготовка данных"
      ],
      "metadata": {
        "id": "LhQHSkzkg75n"
      }
    },
    {
      "cell_type": "code",
      "execution_count": 1,
      "metadata": {
        "id": "CKZaocjzcXwH"
      },
      "outputs": [],
      "source": [
        "import pandas as pd\n",
        "import numpy as np\n",
        "from collections import Counter\n",
        "from datetime import datetime\n",
        "from tqdm.notebook import tqdm\n",
        "import matplotlib.pyplot as plt\n",
        "from sklearn.feature_extraction.text import TfidfVectorizer\n",
        "from sklearn.neighbors import NearestNeighbors\n",
        "from sklearn.model_selection import train_test_split\n",
        "from sklearn.linear_model import LinearRegression"
      ]
    },
    {
      "cell_type": "code",
      "source": [
        "!pip install surprise"
      ],
      "metadata": {
        "colab": {
          "base_uri": "https://localhost:8080/"
        },
        "id": "xQZhOb3Gc6jm",
        "outputId": "4b35cc90-8f68-4911-82d9-d615900b46bc"
      },
      "execution_count": 2,
      "outputs": [
        {
          "output_type": "stream",
          "name": "stdout",
          "text": [
            "Looking in indexes: https://pypi.org/simple, https://us-python.pkg.dev/colab-wheels/public/simple/\n",
            "Collecting surprise\n",
            "  Downloading surprise-0.1-py2.py3-none-any.whl (1.8 kB)\n",
            "Collecting scikit-surprise (from surprise)\n",
            "  Downloading scikit-surprise-1.1.3.tar.gz (771 kB)\n",
            "\u001b[2K     \u001b[90m━━━━━━━━━━━━━━━━━━━━━━━━━━━━━━━━━━━━━━\u001b[0m \u001b[32m772.0/772.0 kB\u001b[0m \u001b[31m12.3 MB/s\u001b[0m eta \u001b[36m0:00:00\u001b[0m\n",
            "\u001b[?25h  Preparing metadata (setup.py) ... \u001b[?25l\u001b[?25hdone\n",
            "Requirement already satisfied: joblib>=1.0.0 in /usr/local/lib/python3.10/dist-packages (from scikit-surprise->surprise) (1.2.0)\n",
            "Requirement already satisfied: numpy>=1.17.3 in /usr/local/lib/python3.10/dist-packages (from scikit-surprise->surprise) (1.22.4)\n",
            "Requirement already satisfied: scipy>=1.3.2 in /usr/local/lib/python3.10/dist-packages (from scikit-surprise->surprise) (1.10.1)\n",
            "Building wheels for collected packages: scikit-surprise\n",
            "  Building wheel for scikit-surprise (setup.py) ... \u001b[?25l\u001b[?25hdone\n",
            "  Created wheel for scikit-surprise: filename=scikit_surprise-1.1.3-cp310-cp310-linux_x86_64.whl size=3095448 sha256=4fd0f06bb5d6c76e7a88b81dfd45094beab77ec7e933f3e79035d8a355405017\n",
            "  Stored in directory: /root/.cache/pip/wheels/a5/ca/a8/4e28def53797fdc4363ca4af740db15a9c2f1595ebc51fb445\n",
            "Successfully built scikit-surprise\n",
            "Installing collected packages: scikit-surprise, surprise\n",
            "Successfully installed scikit-surprise-1.1.3 surprise-0.1\n"
          ]
        }
      ]
    },
    {
      "cell_type": "code",
      "source": [
        "from surprise import KNNWithMeans, NormalPredictor, SVD, NMF, SlopeOne\n",
        "from surprise import Dataset\n",
        "from surprise import accuracy\n",
        "from surprise import Reader\n",
        "from surprise.model_selection import train_test_split\n",
        "from surprise.model_selection import cross_validate"
      ],
      "metadata": {
        "id": "9I0qRTyyc8Vb"
      },
      "execution_count": 65,
      "outputs": []
    },
    {
      "cell_type": "code",
      "source": [
        "!wget 'https://drive.google.com/uc?id=1m0rwReR09achL0xTM6QPoN4tykz5bOMx' -O MovieLens.zip"
      ],
      "metadata": {
        "colab": {
          "base_uri": "https://localhost:8080/"
        },
        "id": "jfJazvlycZXr",
        "outputId": "d780355e-937d-45f2-a9e4-0acaddf657e6"
      },
      "execution_count": 4,
      "outputs": [
        {
          "output_type": "stream",
          "name": "stdout",
          "text": [
            "--2023-05-21 12:01:53--  https://drive.google.com/uc?id=1m0rwReR09achL0xTM6QPoN4tykz5bOMx\n",
            "Resolving drive.google.com (drive.google.com)... 74.125.137.102, 74.125.137.138, 74.125.137.113, ...\n",
            "Connecting to drive.google.com (drive.google.com)|74.125.137.102|:443... connected.\n",
            "HTTP request sent, awaiting response... 303 See Other\n",
            "Location: https://doc-0g-84-docs.googleusercontent.com/docs/securesc/ha0ro937gcuc7l7deffksulhg5h7mbp1/m29jdmdh06dnvhrlr4rlh3pqqpor4lcs/1684670475000/02611596255248067438/*/1m0rwReR09achL0xTM6QPoN4tykz5bOMx?uuid=eb881c27-5b0e-4c6c-b003-f6dc0e8f6974 [following]\n",
            "Warning: wildcards not supported in HTTP.\n",
            "--2023-05-21 12:01:55--  https://doc-0g-84-docs.googleusercontent.com/docs/securesc/ha0ro937gcuc7l7deffksulhg5h7mbp1/m29jdmdh06dnvhrlr4rlh3pqqpor4lcs/1684670475000/02611596255248067438/*/1m0rwReR09achL0xTM6QPoN4tykz5bOMx?uuid=eb881c27-5b0e-4c6c-b003-f6dc0e8f6974\n",
            "Resolving doc-0g-84-docs.googleusercontent.com (doc-0g-84-docs.googleusercontent.com)... 74.125.137.132, 2607:f8b0:4023:c03::84\n",
            "Connecting to doc-0g-84-docs.googleusercontent.com (doc-0g-84-docs.googleusercontent.com)|74.125.137.132|:443... connected.\n",
            "HTTP request sent, awaiting response... 200 OK\n",
            "Length: 847695 (828K) [application/zip]\n",
            "Saving to: ‘MovieLens.zip’\n",
            "\n",
            "MovieLens.zip       100%[===================>] 827.83K  --.-KB/s    in 0.01s   \n",
            "\n",
            "2023-05-21 12:01:55 (64.7 MB/s) - ‘MovieLens.zip’ saved [847695/847695]\n",
            "\n"
          ]
        }
      ]
    },
    {
      "cell_type": "code",
      "source": [
        "!unzip MovieLens.zip"
      ],
      "metadata": {
        "colab": {
          "base_uri": "https://localhost:8080/"
        },
        "id": "ZzBSq_aqcZZ7",
        "outputId": "35e54d84-becc-401e-997e-fbb728e80e5a"
      },
      "execution_count": 5,
      "outputs": [
        {
          "output_type": "stream",
          "name": "stdout",
          "text": [
            "Archive:  MovieLens.zip\n",
            "  inflating: links.csv               \n",
            "  inflating: movies.csv              \n",
            "  inflating: ratings.csv             \n",
            "  inflating: tags.csv                \n"
          ]
        }
      ]
    },
    {
      "cell_type": "code",
      "source": [
        "movies = pd.read_csv('movies.csv')\n",
        "ratings = pd.read_csv('ratings.csv')"
      ],
      "metadata": {
        "id": "n0aaUMSRcZcS"
      },
      "execution_count": 6,
      "outputs": []
    },
    {
      "cell_type": "code",
      "source": [
        "movies_with_ratings = movies.merge(ratings, on='movieId').reset_index(drop=True)\n",
        "movies_with_ratings.dropna(inplace=True)\n",
        "movies_with_ratings"
      ],
      "metadata": {
        "colab": {
          "base_uri": "https://localhost:8080/",
          "height": 424
        },
        "id": "1EITZbancZfE",
        "outputId": "2f5eeaf9-eec8-4161-d820-fa5bf3e5518c"
      },
      "execution_count": 7,
      "outputs": [
        {
          "output_type": "execute_result",
          "data": {
            "text/plain": [
              "        movieId                                      title  \\\n",
              "0             1                           Toy Story (1995)   \n",
              "1             1                           Toy Story (1995)   \n",
              "2             1                           Toy Story (1995)   \n",
              "3             1                           Toy Story (1995)   \n",
              "4             1                           Toy Story (1995)   \n",
              "...         ...                                        ...   \n",
              "100831   193581  Black Butler: Book of the Atlantic (2017)   \n",
              "100832   193583               No Game No Life: Zero (2017)   \n",
              "100833   193585                               Flint (2017)   \n",
              "100834   193587        Bungo Stray Dogs: Dead Apple (2018)   \n",
              "100835   193609        Andrew Dice Clay: Dice Rules (1991)   \n",
              "\n",
              "                                             genres  userId  rating  \\\n",
              "0       Adventure|Animation|Children|Comedy|Fantasy       1     4.0   \n",
              "1       Adventure|Animation|Children|Comedy|Fantasy       5     4.0   \n",
              "2       Adventure|Animation|Children|Comedy|Fantasy       7     4.5   \n",
              "3       Adventure|Animation|Children|Comedy|Fantasy      15     2.5   \n",
              "4       Adventure|Animation|Children|Comedy|Fantasy      17     4.5   \n",
              "...                                             ...     ...     ...   \n",
              "100831              Action|Animation|Comedy|Fantasy     184     4.0   \n",
              "100832                     Animation|Comedy|Fantasy     184     3.5   \n",
              "100833                                        Drama     184     3.5   \n",
              "100834                             Action|Animation     184     3.5   \n",
              "100835                                       Comedy     331     4.0   \n",
              "\n",
              "         timestamp  \n",
              "0        964982703  \n",
              "1        847434962  \n",
              "2       1106635946  \n",
              "3       1510577970  \n",
              "4       1305696483  \n",
              "...            ...  \n",
              "100831  1537109082  \n",
              "100832  1537109545  \n",
              "100833  1537109805  \n",
              "100834  1537110021  \n",
              "100835  1537157606  \n",
              "\n",
              "[100836 rows x 6 columns]"
            ],
            "text/html": [
              "\n",
              "  <div id=\"df-9fbeff07-2449-4db1-9ec4-a1c77bf8e658\">\n",
              "    <div class=\"colab-df-container\">\n",
              "      <div>\n",
              "<style scoped>\n",
              "    .dataframe tbody tr th:only-of-type {\n",
              "        vertical-align: middle;\n",
              "    }\n",
              "\n",
              "    .dataframe tbody tr th {\n",
              "        vertical-align: top;\n",
              "    }\n",
              "\n",
              "    .dataframe thead th {\n",
              "        text-align: right;\n",
              "    }\n",
              "</style>\n",
              "<table border=\"1\" class=\"dataframe\">\n",
              "  <thead>\n",
              "    <tr style=\"text-align: right;\">\n",
              "      <th></th>\n",
              "      <th>movieId</th>\n",
              "      <th>title</th>\n",
              "      <th>genres</th>\n",
              "      <th>userId</th>\n",
              "      <th>rating</th>\n",
              "      <th>timestamp</th>\n",
              "    </tr>\n",
              "  </thead>\n",
              "  <tbody>\n",
              "    <tr>\n",
              "      <th>0</th>\n",
              "      <td>1</td>\n",
              "      <td>Toy Story (1995)</td>\n",
              "      <td>Adventure|Animation|Children|Comedy|Fantasy</td>\n",
              "      <td>1</td>\n",
              "      <td>4.0</td>\n",
              "      <td>964982703</td>\n",
              "    </tr>\n",
              "    <tr>\n",
              "      <th>1</th>\n",
              "      <td>1</td>\n",
              "      <td>Toy Story (1995)</td>\n",
              "      <td>Adventure|Animation|Children|Comedy|Fantasy</td>\n",
              "      <td>5</td>\n",
              "      <td>4.0</td>\n",
              "      <td>847434962</td>\n",
              "    </tr>\n",
              "    <tr>\n",
              "      <th>2</th>\n",
              "      <td>1</td>\n",
              "      <td>Toy Story (1995)</td>\n",
              "      <td>Adventure|Animation|Children|Comedy|Fantasy</td>\n",
              "      <td>7</td>\n",
              "      <td>4.5</td>\n",
              "      <td>1106635946</td>\n",
              "    </tr>\n",
              "    <tr>\n",
              "      <th>3</th>\n",
              "      <td>1</td>\n",
              "      <td>Toy Story (1995)</td>\n",
              "      <td>Adventure|Animation|Children|Comedy|Fantasy</td>\n",
              "      <td>15</td>\n",
              "      <td>2.5</td>\n",
              "      <td>1510577970</td>\n",
              "    </tr>\n",
              "    <tr>\n",
              "      <th>4</th>\n",
              "      <td>1</td>\n",
              "      <td>Toy Story (1995)</td>\n",
              "      <td>Adventure|Animation|Children|Comedy|Fantasy</td>\n",
              "      <td>17</td>\n",
              "      <td>4.5</td>\n",
              "      <td>1305696483</td>\n",
              "    </tr>\n",
              "    <tr>\n",
              "      <th>...</th>\n",
              "      <td>...</td>\n",
              "      <td>...</td>\n",
              "      <td>...</td>\n",
              "      <td>...</td>\n",
              "      <td>...</td>\n",
              "      <td>...</td>\n",
              "    </tr>\n",
              "    <tr>\n",
              "      <th>100831</th>\n",
              "      <td>193581</td>\n",
              "      <td>Black Butler: Book of the Atlantic (2017)</td>\n",
              "      <td>Action|Animation|Comedy|Fantasy</td>\n",
              "      <td>184</td>\n",
              "      <td>4.0</td>\n",
              "      <td>1537109082</td>\n",
              "    </tr>\n",
              "    <tr>\n",
              "      <th>100832</th>\n",
              "      <td>193583</td>\n",
              "      <td>No Game No Life: Zero (2017)</td>\n",
              "      <td>Animation|Comedy|Fantasy</td>\n",
              "      <td>184</td>\n",
              "      <td>3.5</td>\n",
              "      <td>1537109545</td>\n",
              "    </tr>\n",
              "    <tr>\n",
              "      <th>100833</th>\n",
              "      <td>193585</td>\n",
              "      <td>Flint (2017)</td>\n",
              "      <td>Drama</td>\n",
              "      <td>184</td>\n",
              "      <td>3.5</td>\n",
              "      <td>1537109805</td>\n",
              "    </tr>\n",
              "    <tr>\n",
              "      <th>100834</th>\n",
              "      <td>193587</td>\n",
              "      <td>Bungo Stray Dogs: Dead Apple (2018)</td>\n",
              "      <td>Action|Animation</td>\n",
              "      <td>184</td>\n",
              "      <td>3.5</td>\n",
              "      <td>1537110021</td>\n",
              "    </tr>\n",
              "    <tr>\n",
              "      <th>100835</th>\n",
              "      <td>193609</td>\n",
              "      <td>Andrew Dice Clay: Dice Rules (1991)</td>\n",
              "      <td>Comedy</td>\n",
              "      <td>331</td>\n",
              "      <td>4.0</td>\n",
              "      <td>1537157606</td>\n",
              "    </tr>\n",
              "  </tbody>\n",
              "</table>\n",
              "<p>100836 rows × 6 columns</p>\n",
              "</div>\n",
              "      <button class=\"colab-df-convert\" onclick=\"convertToInteractive('df-9fbeff07-2449-4db1-9ec4-a1c77bf8e658')\"\n",
              "              title=\"Convert this dataframe to an interactive table.\"\n",
              "              style=\"display:none;\">\n",
              "        \n",
              "  <svg xmlns=\"http://www.w3.org/2000/svg\" height=\"24px\"viewBox=\"0 0 24 24\"\n",
              "       width=\"24px\">\n",
              "    <path d=\"M0 0h24v24H0V0z\" fill=\"none\"/>\n",
              "    <path d=\"M18.56 5.44l.94 2.06.94-2.06 2.06-.94-2.06-.94-.94-2.06-.94 2.06-2.06.94zm-11 1L8.5 8.5l.94-2.06 2.06-.94-2.06-.94L8.5 2.5l-.94 2.06-2.06.94zm10 10l.94 2.06.94-2.06 2.06-.94-2.06-.94-.94-2.06-.94 2.06-2.06.94z\"/><path d=\"M17.41 7.96l-1.37-1.37c-.4-.4-.92-.59-1.43-.59-.52 0-1.04.2-1.43.59L10.3 9.45l-7.72 7.72c-.78.78-.78 2.05 0 2.83L4 21.41c.39.39.9.59 1.41.59.51 0 1.02-.2 1.41-.59l7.78-7.78 2.81-2.81c.8-.78.8-2.07 0-2.86zM5.41 20L4 18.59l7.72-7.72 1.47 1.35L5.41 20z\"/>\n",
              "  </svg>\n",
              "      </button>\n",
              "      \n",
              "  <style>\n",
              "    .colab-df-container {\n",
              "      display:flex;\n",
              "      flex-wrap:wrap;\n",
              "      gap: 12px;\n",
              "    }\n",
              "\n",
              "    .colab-df-convert {\n",
              "      background-color: #E8F0FE;\n",
              "      border: none;\n",
              "      border-radius: 50%;\n",
              "      cursor: pointer;\n",
              "      display: none;\n",
              "      fill: #1967D2;\n",
              "      height: 32px;\n",
              "      padding: 0 0 0 0;\n",
              "      width: 32px;\n",
              "    }\n",
              "\n",
              "    .colab-df-convert:hover {\n",
              "      background-color: #E2EBFA;\n",
              "      box-shadow: 0px 1px 2px rgba(60, 64, 67, 0.3), 0px 1px 3px 1px rgba(60, 64, 67, 0.15);\n",
              "      fill: #174EA6;\n",
              "    }\n",
              "\n",
              "    [theme=dark] .colab-df-convert {\n",
              "      background-color: #3B4455;\n",
              "      fill: #D2E3FC;\n",
              "    }\n",
              "\n",
              "    [theme=dark] .colab-df-convert:hover {\n",
              "      background-color: #434B5C;\n",
              "      box-shadow: 0px 1px 3px 1px rgba(0, 0, 0, 0.15);\n",
              "      filter: drop-shadow(0px 1px 2px rgba(0, 0, 0, 0.3));\n",
              "      fill: #FFFFFF;\n",
              "    }\n",
              "  </style>\n",
              "\n",
              "      <script>\n",
              "        const buttonEl =\n",
              "          document.querySelector('#df-9fbeff07-2449-4db1-9ec4-a1c77bf8e658 button.colab-df-convert');\n",
              "        buttonEl.style.display =\n",
              "          google.colab.kernel.accessAllowed ? 'block' : 'none';\n",
              "\n",
              "        async function convertToInteractive(key) {\n",
              "          const element = document.querySelector('#df-9fbeff07-2449-4db1-9ec4-a1c77bf8e658');\n",
              "          const dataTable =\n",
              "            await google.colab.kernel.invokeFunction('convertToInteractive',\n",
              "                                                     [key], {});\n",
              "          if (!dataTable) return;\n",
              "\n",
              "          const docLinkHtml = 'Like what you see? Visit the ' +\n",
              "            '<a target=\"_blank\" href=https://colab.research.google.com/notebooks/data_table.ipynb>data table notebook</a>'\n",
              "            + ' to learn more about interactive tables.';\n",
              "          element.innerHTML = '';\n",
              "          dataTable['output_type'] = 'display_data';\n",
              "          await google.colab.output.renderOutput(dataTable, element);\n",
              "          const docLink = document.createElement('div');\n",
              "          docLink.innerHTML = docLinkHtml;\n",
              "          element.appendChild(docLink);\n",
              "        }\n",
              "      </script>\n",
              "    </div>\n",
              "  </div>\n",
              "  "
            ]
          },
          "metadata": {},
          "execution_count": 7
        }
      ]
    },
    {
      "cell_type": "code",
      "source": [
        "dataset = pd.DataFrame({\n",
        "    'uid': movies_with_ratings.userId,\n",
        "    'iid': movies_with_ratings.title,\n",
        "    'rating': movies_with_ratings.rating\n",
        "})"
      ],
      "metadata": {
        "id": "3ijQ3MWcVlFU"
      },
      "execution_count": 50,
      "outputs": []
    },
    {
      "cell_type": "code",
      "source": [
        "reader = Reader(rating_scale=(0.5, 5.0))\n",
        "data = Dataset.load_from_df(dataset, reader)\n",
        "\n",
        "trainset, testset = train_test_split(data, test_size=0.2, random_state=1)"
      ],
      "metadata": {
        "id": "Zk12kY1OMrIO"
      },
      "execution_count": 53,
      "outputs": []
    },
    {
      "cell_type": "markdown",
      "source": [
        "#### Применение различных алгоритмов из библиотеки surprise"
      ],
      "metadata": {
        "id": "VP0u2kjihIhn"
      }
    },
    {
      "cell_type": "markdown",
      "source": [
        "https://surprise.readthedocs.io/en/stable/prediction_algorithms_package.html"
      ],
      "metadata": {
        "id": "WSHEiSOphYxg"
      }
    },
    {
      "cell_type": "markdown",
      "source": [
        "![image.png](data:image/png;base64,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)"
      ],
      "metadata": {
        "id": "9mtwOK_VhQ-g"
      }
    },
    {
      "cell_type": "markdown",
      "source": [
        "KNNWithMeans"
      ],
      "metadata": {
        "id": "YQbiyFVLhcaX"
      }
    },
    {
      "cell_type": "code",
      "source": [
        "algo = KNNWithMeans(k=70, sim_options={\n",
        "    'name': 'pearson',\n",
        "    'user_based': True \n",
        "})\n",
        "\n",
        "cross_validate(algo, data, cv=5, verbose=True)"
      ],
      "metadata": {
        "id": "RnlCuvyucZhi",
        "colab": {
          "base_uri": "https://localhost:8080/"
        },
        "outputId": "191190db-c900-4dee-d74b-0d760791481f"
      },
      "execution_count": 82,
      "outputs": [
        {
          "output_type": "stream",
          "name": "stdout",
          "text": [
            "Computing the pearson similarity matrix...\n",
            "Done computing similarity matrix.\n",
            "Computing the pearson similarity matrix...\n",
            "Done computing similarity matrix.\n",
            "Computing the pearson similarity matrix...\n",
            "Done computing similarity matrix.\n",
            "Computing the pearson similarity matrix...\n",
            "Done computing similarity matrix.\n",
            "Computing the pearson similarity matrix...\n",
            "Done computing similarity matrix.\n",
            "Evaluating RMSE, MAE of algorithm KNNWithMeans on 5 split(s).\n",
            "\n",
            "                  Fold 1  Fold 2  Fold 3  Fold 4  Fold 5  Mean    Std     \n",
            "RMSE (testset)    0.8998  0.8945  0.8977  0.8997  0.9007  0.8985  0.0022  \n",
            "MAE (testset)     0.6840  0.6816  0.6857  0.6839  0.6826  0.6836  0.0014  \n",
            "Fit time          0.28    0.25    0.25    0.42    0.28    0.30    0.06    \n",
            "Test time         1.50    1.50    1.53    2.39    1.53    1.69    0.35    \n"
          ]
        },
        {
          "output_type": "execute_result",
          "data": {
            "text/plain": [
              "{'test_rmse': array([0.89984591, 0.8944827 , 0.89767093, 0.89967209, 0.90072215]),\n",
              " 'test_mae': array([0.68396853, 0.68157342, 0.68572087, 0.68391944, 0.68264567]),\n",
              " 'fit_time': (0.27756714820861816,\n",
              "  0.252532958984375,\n",
              "  0.25460124015808105,\n",
              "  0.42337799072265625,\n",
              "  0.2843663692474365),\n",
              " 'test_time': (1.5049395561218262,\n",
              "  1.4961585998535156,\n",
              "  1.5264976024627686,\n",
              "  2.389300584793091,\n",
              "  1.5272321701049805)}"
            ]
          },
          "metadata": {},
          "execution_count": 82
        }
      ]
    },
    {
      "cell_type": "markdown",
      "source": [
        "Другой способ"
      ],
      "metadata": {
        "id": "bptJ5Shnclsn"
      }
    },
    {
      "cell_type": "code",
      "source": [
        "from surprise.model_selection import KFold\n",
        "\n",
        "kf = KFold(n_splits=5, random_state=4)\n",
        "\n",
        "algo2 = KNNWithMeans(k=50, sim_options={\n",
        "    'name': 'cosine',\n",
        "    'user_based': True  \n",
        "})\n",
        "\n",
        "for trainset, testset in kf.split(data):\n",
        "    algo2.fit(trainset)\n",
        "    predictions = algo2.test(testset)\n",
        "    accuracy.rmse(predictions, verbose=True)"
      ],
      "metadata": {
        "id": "OqTA3Wq2cZkC",
        "colab": {
          "base_uri": "https://localhost:8080/"
        },
        "outputId": "28eac983-de2c-45f5-acb3-12f1d87b4d7e"
      },
      "execution_count": 66,
      "outputs": [
        {
          "output_type": "stream",
          "name": "stdout",
          "text": [
            "Computing the cosine similarity matrix...\n",
            "Done computing similarity matrix.\n",
            "RMSE: 0.8944\n",
            "Computing the cosine similarity matrix...\n",
            "Done computing similarity matrix.\n",
            "RMSE: 0.9046\n",
            "Computing the cosine similarity matrix...\n",
            "Done computing similarity matrix.\n",
            "RMSE: 0.8966\n",
            "Computing the cosine similarity matrix...\n",
            "Done computing similarity matrix.\n",
            "RMSE: 0.9115\n",
            "Computing the cosine similarity matrix...\n",
            "Done computing similarity matrix.\n",
            "RMSE: 0.8950\n"
          ]
        }
      ]
    },
    {
      "cell_type": "markdown",
      "source": [
        "SVD"
      ],
      "metadata": {
        "id": "VHda178hdR4W"
      }
    },
    {
      "cell_type": "markdown",
      "source": [
        "Получили RMSE меньше 0.87"
      ],
      "metadata": {
        "id": "NiF_bglBsEah"
      }
    },
    {
      "cell_type": "code",
      "source": [
        "algo3 = SVD(n_epochs=50, reg_all=0.05)\n",
        "\n",
        "cross_validate(algo3, data, cv=5, verbose=True)"
      ],
      "metadata": {
        "id": "76YjJmZZcZpC",
        "colab": {
          "base_uri": "https://localhost:8080/"
        },
        "outputId": "ac1cc75e-dd6d-49fa-b010-c069026235ee"
      },
      "execution_count": 110,
      "outputs": [
        {
          "output_type": "stream",
          "name": "stdout",
          "text": [
            "Evaluating RMSE, MAE of algorithm SVD on 5 split(s).\n",
            "\n",
            "                  Fold 1  Fold 2  Fold 3  Fold 4  Fold 5  Mean    Std     \n",
            "RMSE (testset)    0.8630  0.8678  0.8533  0.8569  0.8533  0.8589  0.0057  \n",
            "MAE (testset)     0.6612  0.6646  0.6553  0.6568  0.6504  0.6577  0.0049  \n",
            "Fit time          3.74    4.43    3.73    3.74    4.45    4.02    0.34    \n",
            "Test time         0.18    0.13    0.15    0.45    0.14    0.21    0.12    \n"
          ]
        },
        {
          "output_type": "execute_result",
          "data": {
            "text/plain": [
              "{'test_rmse': array([0.86303508, 0.86783044, 0.85327382, 0.85691772, 0.85325151]),\n",
              " 'test_mae': array([0.66121053, 0.66464811, 0.65533507, 0.65680263, 0.65042606]),\n",
              " 'fit_time': (3.743051290512085,\n",
              "  4.434287786483765,\n",
              "  3.729041576385498,\n",
              "  3.742299795150757,\n",
              "  4.445411443710327),\n",
              " 'test_time': (0.18244123458862305,\n",
              "  0.13109254837036133,\n",
              "  0.14655399322509766,\n",
              "  0.45244717597961426,\n",
              "  0.13608646392822266)}"
            ]
          },
          "metadata": {},
          "execution_count": 110
        }
      ]
    },
    {
      "cell_type": "markdown",
      "source": [
        "NormalPredictor"
      ],
      "metadata": {
        "id": "r6oAk7utgO7p"
      }
    },
    {
      "cell_type": "code",
      "source": [
        "algo4 = NormalPredictor()\n",
        "\n",
        "cross_validate(algo4, data, cv=5, verbose=True)"
      ],
      "metadata": {
        "id": "aRoHQbUccZrb",
        "colab": {
          "base_uri": "https://localhost:8080/"
        },
        "outputId": "7dc6d364-e931-4249-c767-d3a94152534f"
      },
      "execution_count": 69,
      "outputs": [
        {
          "output_type": "stream",
          "name": "stdout",
          "text": [
            "Evaluating RMSE, MAE of algorithm NormalPredictor on 5 split(s).\n",
            "\n",
            "                  Fold 1  Fold 2  Fold 3  Fold 4  Fold 5  Mean    Std     \n",
            "RMSE (testset)    1.4304  1.4243  1.4180  1.4342  1.4262  1.4266  0.0055  \n",
            "MAE (testset)     1.1424  1.1329  1.1287  1.1454  1.1393  1.1377  0.0061  \n",
            "Fit time          0.79    0.15    0.15    0.16    0.15    0.28    0.25    \n",
            "Test time         0.48    0.14    0.13    0.12    0.14    0.20    0.14    \n"
          ]
        },
        {
          "output_type": "execute_result",
          "data": {
            "text/plain": [
              "{'test_rmse': array([1.43044102, 1.4242663 , 1.41797295, 1.43415591, 1.42615293]),\n",
              " 'test_mae': array([1.14238305, 1.13285611, 1.1286759 , 1.1454036 , 1.13932861]),\n",
              " 'fit_time': (0.7898313999176025,\n",
              "  0.15404844284057617,\n",
              "  0.1474316120147705,\n",
              "  0.16101765632629395,\n",
              "  0.14961886405944824),\n",
              " 'test_time': (0.4827401638031006,\n",
              "  0.137115478515625,\n",
              "  0.12547659873962402,\n",
              "  0.11941289901733398,\n",
              "  0.13843083381652832)}"
            ]
          },
          "metadata": {},
          "execution_count": 69
        }
      ]
    },
    {
      "cell_type": "markdown",
      "source": [
        "NMF"
      ],
      "metadata": {
        "id": "xkVEas5zgSSf"
      }
    },
    {
      "cell_type": "code",
      "source": [
        "algo5 = NMF(random_state=1)\n",
        "\n",
        "cross_validate(algo5, data, cv=5, verbose=True)"
      ],
      "metadata": {
        "id": "3qRFZ5r1cZtz",
        "colab": {
          "base_uri": "https://localhost:8080/"
        },
        "outputId": "7ba4bfc0-6373-463e-cbb6-054df7a3c1c5"
      },
      "execution_count": 72,
      "outputs": [
        {
          "output_type": "stream",
          "name": "stdout",
          "text": [
            "Evaluating RMSE, MAE of algorithm NMF on 5 split(s).\n",
            "\n",
            "                  Fold 1  Fold 2  Fold 3  Fold 4  Fold 5  Mean    Std     \n",
            "RMSE (testset)    0.9184  0.9134  0.9182  0.9185  0.9287  0.9194  0.0050  \n",
            "MAE (testset)     0.7044  0.6982  0.7053  0.7026  0.7103  0.7042  0.0039  \n",
            "Fit time          2.99    2.90    4.14    3.30    3.49    3.36    0.44    \n",
            "Test time         0.12    0.11    0.31    0.16    0.12    0.16    0.08    \n"
          ]
        },
        {
          "output_type": "execute_result",
          "data": {
            "text/plain": [
              "{'test_rmse': array([0.91836094, 0.91339346, 0.91824046, 0.91851766, 0.92865187]),\n",
              " 'test_mae': array([0.70442101, 0.69818231, 0.70532922, 0.70259922, 0.71031163]),\n",
              " 'fit_time': (2.9943454265594482,\n",
              "  2.8968656063079834,\n",
              "  4.13973593711853,\n",
              "  3.3003833293914795,\n",
              "  3.4927167892456055),\n",
              " 'test_time': (0.11750626564025879,\n",
              "  0.11182785034179688,\n",
              "  0.30954456329345703,\n",
              "  0.15663576126098633,\n",
              "  0.11737775802612305)}"
            ]
          },
          "metadata": {},
          "execution_count": 72
        }
      ]
    },
    {
      "cell_type": "markdown",
      "source": [
        "SlopeOne"
      ],
      "metadata": {
        "id": "u79HgjZugsA3"
      }
    },
    {
      "cell_type": "code",
      "source": [
        "algo6 = SlopeOne()\n",
        "\n",
        "cross_validate(algo6, data, cv=5, verbose=True)"
      ],
      "metadata": {
        "id": "GrmAlhK3cZwa",
        "colab": {
          "base_uri": "https://localhost:8080/"
        },
        "outputId": "59067673-f1fc-4afe-93f5-5401d04e0e59"
      },
      "execution_count": 73,
      "outputs": [
        {
          "output_type": "stream",
          "name": "stdout",
          "text": [
            "Evaluating RMSE, MAE of algorithm SlopeOne on 5 split(s).\n",
            "\n",
            "                  Fold 1  Fold 2  Fold 3  Fold 4  Fold 5  Mean    Std     \n",
            "RMSE (testset)    0.9074  0.9072  0.9005  0.9013  0.8999  0.9033  0.0033  \n",
            "MAE (testset)     0.6925  0.6931  0.6840  0.6897  0.6892  0.6897  0.0032  \n",
            "Fit time          5.97    5.45    12.96   7.28    5.77    7.49    2.81    \n",
            "Test time         8.58    10.46   8.53    9.91    10.17   9.53    0.81    \n"
          ]
        },
        {
          "output_type": "execute_result",
          "data": {
            "text/plain": [
              "{'test_rmse': array([0.90743493, 0.90718866, 0.90051775, 0.90130703, 0.89990382]),\n",
              " 'test_mae': array([0.69248824, 0.69312171, 0.68399325, 0.68968098, 0.68919388]),\n",
              " 'fit_time': (5.968184232711792,\n",
              "  5.452042102813721,\n",
              "  12.963555097579956,\n",
              "  7.27902364730835,\n",
              "  5.770089626312256),\n",
              " 'test_time': (8.58233118057251,\n",
              "  10.456168174743652,\n",
              "  8.525144815444946,\n",
              "  9.905314207077026,\n",
              "  10.17075800895691)}"
            ]
          },
          "metadata": {},
          "execution_count": 73
        }
      ]
    },
    {
      "cell_type": "markdown",
      "source": [
        "Посмотрев на разные алгоритмы и параметры не получилось добиться RMSE ниже 87 (кроме SVD). Посмотрим на все алгоритмы без параметров и возьмем тот алгоритм, который покажет самый низкий показатель RMSE."
      ],
      "metadata": {
        "id": "Cy8DpT05q5rJ"
      }
    },
    {
      "cell_type": "code",
      "source": [
        "from surprise import KNNBaseline, KNNWithZScore, BaselineOnly, KNNBasic\n",
        "\n",
        "result = []\n",
        "for algorithm in [SlopeOne(), NMF(), NormalPredictor(), KNNBaseline(), \n",
        "                  KNNBasic(), KNNWithMeans(), KNNWithZScore(), BaselineOnly()]:\n",
        "  results = cross_validate(algorithm, data, measures=['RMSE'], cv=5, verbose=False)\n",
        " \n",
        "  tmp = pd.DataFrame.from_dict(results).mean(axis=0)\n",
        "  tmp = tmp.append(pd.Series([str(algorithm).split(' ')[0].split('.')[-1]], index=['Algorithm']))\n",
        "  result.append(tmp)"
      ],
      "metadata": {
        "colab": {
          "base_uri": "https://localhost:8080/"
        },
        "id": "qZ-4pdBTnFxJ",
        "outputId": "d4da44fb-7bd8-42d9-ac57-b296543f3ac3"
      },
      "execution_count": 111,
      "outputs": [
        {
          "output_type": "stream",
          "name": "stderr",
          "text": [
            "<ipython-input-111-e6f210078e52>:9: FutureWarning: The series.append method is deprecated and will be removed from pandas in a future version. Use pandas.concat instead.\n",
            "  tmp = tmp.append(pd.Series([str(algorithm).split(' ')[0].split('.')[-1]], index=['Algorithm']))\n",
            "<ipython-input-111-e6f210078e52>:9: FutureWarning: The series.append method is deprecated and will be removed from pandas in a future version. Use pandas.concat instead.\n",
            "  tmp = tmp.append(pd.Series([str(algorithm).split(' ')[0].split('.')[-1]], index=['Algorithm']))\n",
            "<ipython-input-111-e6f210078e52>:9: FutureWarning: The series.append method is deprecated and will be removed from pandas in a future version. Use pandas.concat instead.\n",
            "  tmp = tmp.append(pd.Series([str(algorithm).split(' ')[0].split('.')[-1]], index=['Algorithm']))\n"
          ]
        },
        {
          "output_type": "stream",
          "name": "stdout",
          "text": [
            "Estimating biases using als...\n",
            "Computing the msd similarity matrix...\n",
            "Done computing similarity matrix.\n",
            "Estimating biases using als...\n",
            "Computing the msd similarity matrix...\n",
            "Done computing similarity matrix.\n",
            "Estimating biases using als...\n",
            "Computing the msd similarity matrix...\n",
            "Done computing similarity matrix.\n",
            "Estimating biases using als...\n",
            "Computing the msd similarity matrix...\n",
            "Done computing similarity matrix.\n",
            "Estimating biases using als...\n",
            "Computing the msd similarity matrix...\n",
            "Done computing similarity matrix.\n"
          ]
        },
        {
          "output_type": "stream",
          "name": "stderr",
          "text": [
            "<ipython-input-111-e6f210078e52>:9: FutureWarning: The series.append method is deprecated and will be removed from pandas in a future version. Use pandas.concat instead.\n",
            "  tmp = tmp.append(pd.Series([str(algorithm).split(' ')[0].split('.')[-1]], index=['Algorithm']))\n"
          ]
        },
        {
          "output_type": "stream",
          "name": "stdout",
          "text": [
            "Computing the msd similarity matrix...\n",
            "Done computing similarity matrix.\n",
            "Computing the msd similarity matrix...\n",
            "Done computing similarity matrix.\n",
            "Computing the msd similarity matrix...\n",
            "Done computing similarity matrix.\n",
            "Computing the msd similarity matrix...\n",
            "Done computing similarity matrix.\n",
            "Computing the msd similarity matrix...\n",
            "Done computing similarity matrix.\n"
          ]
        },
        {
          "output_type": "stream",
          "name": "stderr",
          "text": [
            "<ipython-input-111-e6f210078e52>:9: FutureWarning: The series.append method is deprecated and will be removed from pandas in a future version. Use pandas.concat instead.\n",
            "  tmp = tmp.append(pd.Series([str(algorithm).split(' ')[0].split('.')[-1]], index=['Algorithm']))\n"
          ]
        },
        {
          "output_type": "stream",
          "name": "stdout",
          "text": [
            "Computing the msd similarity matrix...\n",
            "Done computing similarity matrix.\n",
            "Computing the msd similarity matrix...\n",
            "Done computing similarity matrix.\n",
            "Computing the msd similarity matrix...\n",
            "Done computing similarity matrix.\n",
            "Computing the msd similarity matrix...\n",
            "Done computing similarity matrix.\n",
            "Computing the msd similarity matrix...\n",
            "Done computing similarity matrix.\n"
          ]
        },
        {
          "output_type": "stream",
          "name": "stderr",
          "text": [
            "<ipython-input-111-e6f210078e52>:9: FutureWarning: The series.append method is deprecated and will be removed from pandas in a future version. Use pandas.concat instead.\n",
            "  tmp = tmp.append(pd.Series([str(algorithm).split(' ')[0].split('.')[-1]], index=['Algorithm']))\n"
          ]
        },
        {
          "output_type": "stream",
          "name": "stdout",
          "text": [
            "Computing the msd similarity matrix...\n",
            "Done computing similarity matrix.\n",
            "Computing the msd similarity matrix...\n",
            "Done computing similarity matrix.\n",
            "Computing the msd similarity matrix...\n",
            "Done computing similarity matrix.\n",
            "Computing the msd similarity matrix...\n",
            "Done computing similarity matrix.\n",
            "Computing the msd similarity matrix...\n",
            "Done computing similarity matrix.\n"
          ]
        },
        {
          "output_type": "stream",
          "name": "stderr",
          "text": [
            "<ipython-input-111-e6f210078e52>:9: FutureWarning: The series.append method is deprecated and will be removed from pandas in a future version. Use pandas.concat instead.\n",
            "  tmp = tmp.append(pd.Series([str(algorithm).split(' ')[0].split('.')[-1]], index=['Algorithm']))\n"
          ]
        },
        {
          "output_type": "stream",
          "name": "stdout",
          "text": [
            "Estimating biases using als...\n",
            "Estimating biases using als...\n",
            "Estimating biases using als...\n",
            "Estimating biases using als...\n",
            "Estimating biases using als...\n"
          ]
        },
        {
          "output_type": "stream",
          "name": "stderr",
          "text": [
            "<ipython-input-111-e6f210078e52>:9: FutureWarning: The series.append method is deprecated and will be removed from pandas in a future version. Use pandas.concat instead.\n",
            "  tmp = tmp.append(pd.Series([str(algorithm).split(' ')[0].split('.')[-1]], index=['Algorithm']))\n"
          ]
        }
      ]
    },
    {
      "cell_type": "markdown",
      "source": [
        "Получилось что модель BaselineOnly показала лучший результат, тогда ее и возьмем"
      ],
      "metadata": {
        "id": "dVW8hVH7rRHh"
      }
    },
    {
      "cell_type": "code",
      "source": [
        "pd.DataFrame(result)"
      ],
      "metadata": {
        "colab": {
          "base_uri": "https://localhost:8080/",
          "height": 300
        },
        "id": "GvC5qIdQne34",
        "outputId": "d3e8d966-668e-4d9e-a895-d0b956cf6b30"
      },
      "execution_count": 112,
      "outputs": [
        {
          "output_type": "execute_result",
          "data": {
            "text/plain": [
              "   test_rmse  fit_time  test_time        Algorithm\n",
              "0   0.901605  6.100420   7.878921         SlopeOne\n",
              "1   0.921331  3.076372   0.140512              NMF\n",
              "2   1.425984  0.150919   0.259744  NormalPredictor\n",
              "3   0.876324  0.505077   1.737107      KNNBaseline\n",
              "4   0.947149  0.128765   1.592526         KNNBasic\n",
              "5   0.897818  0.163509   1.679460     KNNWithMeans\n",
              "6   0.895630  0.229926   1.582705    KNNWithZScore\n",
              "7   0.872811  0.485075   0.222871     BaselineOnly"
            ],
            "text/html": [
              "\n",
              "  <div id=\"df-56df96f5-b50e-429c-b17f-de11bf7e20e1\">\n",
              "    <div class=\"colab-df-container\">\n",
              "      <div>\n",
              "<style scoped>\n",
              "    .dataframe tbody tr th:only-of-type {\n",
              "        vertical-align: middle;\n",
              "    }\n",
              "\n",
              "    .dataframe tbody tr th {\n",
              "        vertical-align: top;\n",
              "    }\n",
              "\n",
              "    .dataframe thead th {\n",
              "        text-align: right;\n",
              "    }\n",
              "</style>\n",
              "<table border=\"1\" class=\"dataframe\">\n",
              "  <thead>\n",
              "    <tr style=\"text-align: right;\">\n",
              "      <th></th>\n",
              "      <th>test_rmse</th>\n",
              "      <th>fit_time</th>\n",
              "      <th>test_time</th>\n",
              "      <th>Algorithm</th>\n",
              "    </tr>\n",
              "  </thead>\n",
              "  <tbody>\n",
              "    <tr>\n",
              "      <th>0</th>\n",
              "      <td>0.901605</td>\n",
              "      <td>6.100420</td>\n",
              "      <td>7.878921</td>\n",
              "      <td>SlopeOne</td>\n",
              "    </tr>\n",
              "    <tr>\n",
              "      <th>1</th>\n",
              "      <td>0.921331</td>\n",
              "      <td>3.076372</td>\n",
              "      <td>0.140512</td>\n",
              "      <td>NMF</td>\n",
              "    </tr>\n",
              "    <tr>\n",
              "      <th>2</th>\n",
              "      <td>1.425984</td>\n",
              "      <td>0.150919</td>\n",
              "      <td>0.259744</td>\n",
              "      <td>NormalPredictor</td>\n",
              "    </tr>\n",
              "    <tr>\n",
              "      <th>3</th>\n",
              "      <td>0.876324</td>\n",
              "      <td>0.505077</td>\n",
              "      <td>1.737107</td>\n",
              "      <td>KNNBaseline</td>\n",
              "    </tr>\n",
              "    <tr>\n",
              "      <th>4</th>\n",
              "      <td>0.947149</td>\n",
              "      <td>0.128765</td>\n",
              "      <td>1.592526</td>\n",
              "      <td>KNNBasic</td>\n",
              "    </tr>\n",
              "    <tr>\n",
              "      <th>5</th>\n",
              "      <td>0.897818</td>\n",
              "      <td>0.163509</td>\n",
              "      <td>1.679460</td>\n",
              "      <td>KNNWithMeans</td>\n",
              "    </tr>\n",
              "    <tr>\n",
              "      <th>6</th>\n",
              "      <td>0.895630</td>\n",
              "      <td>0.229926</td>\n",
              "      <td>1.582705</td>\n",
              "      <td>KNNWithZScore</td>\n",
              "    </tr>\n",
              "    <tr>\n",
              "      <th>7</th>\n",
              "      <td>0.872811</td>\n",
              "      <td>0.485075</td>\n",
              "      <td>0.222871</td>\n",
              "      <td>BaselineOnly</td>\n",
              "    </tr>\n",
              "  </tbody>\n",
              "</table>\n",
              "</div>\n",
              "      <button class=\"colab-df-convert\" onclick=\"convertToInteractive('df-56df96f5-b50e-429c-b17f-de11bf7e20e1')\"\n",
              "              title=\"Convert this dataframe to an interactive table.\"\n",
              "              style=\"display:none;\">\n",
              "        \n",
              "  <svg xmlns=\"http://www.w3.org/2000/svg\" height=\"24px\"viewBox=\"0 0 24 24\"\n",
              "       width=\"24px\">\n",
              "    <path d=\"M0 0h24v24H0V0z\" fill=\"none\"/>\n",
              "    <path d=\"M18.56 5.44l.94 2.06.94-2.06 2.06-.94-2.06-.94-.94-2.06-.94 2.06-2.06.94zm-11 1L8.5 8.5l.94-2.06 2.06-.94-2.06-.94L8.5 2.5l-.94 2.06-2.06.94zm10 10l.94 2.06.94-2.06 2.06-.94-2.06-.94-.94-2.06-.94 2.06-2.06.94z\"/><path d=\"M17.41 7.96l-1.37-1.37c-.4-.4-.92-.59-1.43-.59-.52 0-1.04.2-1.43.59L10.3 9.45l-7.72 7.72c-.78.78-.78 2.05 0 2.83L4 21.41c.39.39.9.59 1.41.59.51 0 1.02-.2 1.41-.59l7.78-7.78 2.81-2.81c.8-.78.8-2.07 0-2.86zM5.41 20L4 18.59l7.72-7.72 1.47 1.35L5.41 20z\"/>\n",
              "  </svg>\n",
              "      </button>\n",
              "      \n",
              "  <style>\n",
              "    .colab-df-container {\n",
              "      display:flex;\n",
              "      flex-wrap:wrap;\n",
              "      gap: 12px;\n",
              "    }\n",
              "\n",
              "    .colab-df-convert {\n",
              "      background-color: #E8F0FE;\n",
              "      border: none;\n",
              "      border-radius: 50%;\n",
              "      cursor: pointer;\n",
              "      display: none;\n",
              "      fill: #1967D2;\n",
              "      height: 32px;\n",
              "      padding: 0 0 0 0;\n",
              "      width: 32px;\n",
              "    }\n",
              "\n",
              "    .colab-df-convert:hover {\n",
              "      background-color: #E2EBFA;\n",
              "      box-shadow: 0px 1px 2px rgba(60, 64, 67, 0.3), 0px 1px 3px 1px rgba(60, 64, 67, 0.15);\n",
              "      fill: #174EA6;\n",
              "    }\n",
              "\n",
              "    [theme=dark] .colab-df-convert {\n",
              "      background-color: #3B4455;\n",
              "      fill: #D2E3FC;\n",
              "    }\n",
              "\n",
              "    [theme=dark] .colab-df-convert:hover {\n",
              "      background-color: #434B5C;\n",
              "      box-shadow: 0px 1px 3px 1px rgba(0, 0, 0, 0.15);\n",
              "      filter: drop-shadow(0px 1px 2px rgba(0, 0, 0, 0.3));\n",
              "      fill: #FFFFFF;\n",
              "    }\n",
              "  </style>\n",
              "\n",
              "      <script>\n",
              "        const buttonEl =\n",
              "          document.querySelector('#df-56df96f5-b50e-429c-b17f-de11bf7e20e1 button.colab-df-convert');\n",
              "        buttonEl.style.display =\n",
              "          google.colab.kernel.accessAllowed ? 'block' : 'none';\n",
              "\n",
              "        async function convertToInteractive(key) {\n",
              "          const element = document.querySelector('#df-56df96f5-b50e-429c-b17f-de11bf7e20e1');\n",
              "          const dataTable =\n",
              "            await google.colab.kernel.invokeFunction('convertToInteractive',\n",
              "                                                     [key], {});\n",
              "          if (!dataTable) return;\n",
              "\n",
              "          const docLinkHtml = 'Like what you see? Visit the ' +\n",
              "            '<a target=\"_blank\" href=https://colab.research.google.com/notebooks/data_table.ipynb>data table notebook</a>'\n",
              "            + ' to learn more about interactive tables.';\n",
              "          element.innerHTML = '';\n",
              "          dataTable['output_type'] = 'display_data';\n",
              "          await google.colab.output.renderOutput(dataTable, element);\n",
              "          const docLink = document.createElement('div');\n",
              "          docLink.innerHTML = docLinkHtml;\n",
              "          element.appendChild(docLink);\n",
              "        }\n",
              "      </script>\n",
              "    </div>\n",
              "  </div>\n",
              "  "
            ]
          },
          "metadata": {},
          "execution_count": 112
        }
      ]
    },
    {
      "cell_type": "markdown",
      "source": [
        "И так, получилось добиться метрики меньше 0.87 RMSE"
      ],
      "metadata": {
        "id": "ddtIe7nnrZsa"
      }
    },
    {
      "cell_type": "code",
      "source": [
        "algo7 = BaselineOnly(bsl_options = {\"method\": \"als\", \"n_epochs\": 100, \"reg_u\": 12, \"reg_i\": 2})\n",
        "\n",
        "cross_validate(algo7, data, cv=5, verbose=True)"
      ],
      "metadata": {
        "colab": {
          "base_uri": "https://localhost:8080/"
        },
        "id": "PrApqc3-nF6A",
        "outputId": "982cf421-68ae-47f1-8603-91b7f7951a55"
      },
      "execution_count": 107,
      "outputs": [
        {
          "output_type": "stream",
          "name": "stdout",
          "text": [
            "Estimating biases using als...\n",
            "Estimating biases using als...\n",
            "Estimating biases using als...\n",
            "Estimating biases using als...\n",
            "Estimating biases using als...\n",
            "Evaluating RMSE, MAE of algorithm BaselineOnly on 5 split(s).\n",
            "\n",
            "                  Fold 1  Fold 2  Fold 3  Fold 4  Fold 5  Mean    Std     \n",
            "RMSE (testset)    0.8725  0.8637  0.8682  0.8601  0.8615  0.8652  0.0046  \n",
            "MAE (testset)     0.6703  0.6647  0.6655  0.6609  0.6606  0.6644  0.0036  \n",
            "Fit time          4.07    3.33    5.00    4.31    3.67    4.08    0.57    \n",
            "Test time         0.08    0.07    0.27    0.08    0.08    0.12    0.08    \n"
          ]
        },
        {
          "output_type": "execute_result",
          "data": {
            "text/plain": [
              "{'test_rmse': array([0.87252142, 0.8636985 , 0.86823823, 0.86011648, 0.8615371 ]),\n",
              " 'test_mae': array([0.67033646, 0.66472027, 0.66554286, 0.66089237, 0.66059924]),\n",
              " 'fit_time': (4.073749303817749,\n",
              "  3.33368182182312,\n",
              "  4.995759963989258,\n",
              "  4.3126490116119385,\n",
              "  3.6706817150115967),\n",
              " 'test_time': (0.07802987098693848,\n",
              "  0.07414746284484863,\n",
              "  0.27399110794067383,\n",
              "  0.0830545425415039,\n",
              "  0.08048820495605469)}"
            ]
          },
          "metadata": {},
          "execution_count": 107
        }
      ]
    },
    {
      "cell_type": "markdown",
      "source": [
        "### Выводы"
      ],
      "metadata": {
        "id": "BNUW5ykAhifX"
      }
    },
    {
      "cell_type": "markdown",
      "source": [
        "В этом задании изучил работу библиотеки surprise и как она обарачивает данные в свою обертку для оптимального использования.\n",
        "\n",
        "Также научился подбирать оптимальные параметры для улучшения метрики."
      ],
      "metadata": {
        "id": "xkT2ZMGwhk0P"
      }
    }
  ]
}